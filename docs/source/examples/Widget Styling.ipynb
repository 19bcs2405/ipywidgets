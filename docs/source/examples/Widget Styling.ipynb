{
 "cells": [
  {
   "cell_type": "markdown",
   "metadata": {},
   "source": [
    "# Layout and Styling of Jupyter widgets\n",
    "\n",
    "This notebook presents how to layout and style Jupyter interactive widgets to build rich and *reactive* widget-based applications."
   ]
  },
  {
   "cell_type": "markdown",
   "metadata": {},
   "source": [
    "## The `layout` attribute.\n",
    "\n",
    "Jupyter interactive widgets have a `layout` attribute exposing a number of CSS properties that impact how widgets are laid out.\n",
    "\n",
    "### Exposed CSS properties\n",
    "\n",
    "<div class=\"alert alert-info\" style=\"margin: 20px\">\n",
    "The following properties map to the values of the CSS properties of the same name (underscores being replaced with dashes), applied to the top DOM elements of the corresponding widget.\n",
    "</div>\n",
    "\n",
    "\n",
    "** Sizes **\n",
    "- `height`\n",
    "- `width`\n",
    "- `max_height`\n",
    "- `max_width`\n",
    "- `min_height`\n",
    "- `min_width`\n",
    "\n",
    "** Display **\n",
    "\n",
    "- `visibility`\n",
    "- `display`\n",
    "- `overflow`\n",
    "- `overflow_x`\n",
    "- `overflow_y`\n",
    "\n",
    "** Box model **\n",
    "- `border` \n",
    "- `margin`\n",
    "- `padding`\n",
    "\n",
    "** Positioning **\n",
    "- `top`\n",
    "- `left`\n",
    "- `bottom`\n",
    "- `right`\n",
    "\n",
    "** Flexbox **\n",
    "- `order`\n",
    "- `flex_flow`\n",
    "- `align_items`\n",
    "- `flex`\n",
    "- `align_self`\n",
    "- `align_content`\n",
    "- `justify_content`\n",
    "\n",
    "\n",
    "### Shorthand CSS properties\n",
    "\n",
    "You may have noticed that certain CSS properties such as `margin-[top/right/bottom/left]` seem to be missing. The same holds for `padding-[top/right/bottom/left]` etc.\n",
    "\n",
    "In fact, you can atomically specify `[top/right/bottom/left]` margins via the `margin` attribute alone by passing the string\n",
    "\n",
    "```\n",
    "margin: 100px 150px 100px 80px;\n",
    "```\n",
    "\n",
    "for a respectively `top`, `right`, `bottom` and `left` margins of  `100`, `150`, `100` and `80` pixels.\n",
    "\n",
    "Similarly, the `flex` attribute can hold values for `flex-grow`, `flex-shrink` and `flex-basis`. The `border` attribute is a shorthand property for `border-width`, `border-style (required)`, and `border-color`."
   ]
  },
  {
   "cell_type": "markdown",
   "metadata": {},
   "source": [
    "### Simple examples"
   ]
  },
  {
   "cell_type": "markdown",
   "metadata": {},
   "source": [
    "The following example shows how to resize a `Button` so that its views have a height of `80px` and a width of `50%` of the available space:"
   ]
  },
  {
   "cell_type": "code",
   "execution_count": 1,
   "metadata": {
    "collapsed": false
   },
   "outputs": [
    {
     "data": {
      "application/vnd.jupyter.widget-view+json": {
       "model_id": "04fc62a210b74257be822397a6184179"
      }
     },
     "metadata": {},
     "output_type": "display_data"
    }
   ],
   "source": [
    "from ipywidgets import Button, Layout\n",
    "\n",
    "b = Button(description='(50% width, 80px height) button',\n",
    "           layout=Layout(width='50%', height='80px'))\n",
    "b"
   ]
  },
  {
   "cell_type": "markdown",
   "metadata": {},
   "source": [
    "The `layout` property can be shared between multiple widgets and assigned directly."
   ]
  },
  {
   "cell_type": "code",
   "execution_count": 2,
   "metadata": {
    "collapsed": false
   },
   "outputs": [
    {
     "data": {
      "application/vnd.jupyter.widget-view+json": {
       "model_id": "f6f05a49b56e4fd79ab61072f79357c6"
      }
     },
     "metadata": {},
     "output_type": "display_data"
    }
   ],
   "source": [
    "Button(description='Another button with the same layout', layout=b.layout)"
   ]
  },
  {
   "cell_type": "markdown",
   "metadata": {},
   "source": [
    "### Description"
   ]
  },
  {
   "cell_type": "markdown",
   "metadata": {},
   "source": [
    "You may have noticed that the widget's length is shorter in presence of a description. This because the description is added *inside* of the widget's total length. You **cannot** change the width of the internal description field. If you need more flexibility to layout widgets and captions, you should use a combination with the `Label` widgets arranged in a layout."
   ]
  },
  {
   "cell_type": "code",
   "execution_count": 3,
   "metadata": {
    "collapsed": false
   },
   "outputs": [
    {
     "data": {
      "application/vnd.jupyter.widget-view+json": {
       "model_id": "52eede8178ca482f9275e4139df3c3aa"
      }
     },
     "metadata": {},
     "output_type": "display_data"
    }
   ],
   "source": [
    "from ipywidgets import HBox, Label, IntSlider\n",
    "\n",
    "HBox([Label('A too long description'), IntSlider()])"
   ]
  },
  {
   "cell_type": "markdown",
   "metadata": {},
   "source": [
    "### Natural sizes, and arrangements using HBox and VBox\n",
    "\n",
    "Most of the core-widgets have \n",
    "- a natural width that is a multiple of `148` pixels\n",
    "- a natural height of `32` pixels or a multiple of that number.\n",
    "- a default margin of `2` pixels\n",
    "\n",
    "which will be the ones used when it is not specified in the `layout` attribute.\n",
    "\n",
    "This allows simple layouts based on the `HBox` and `VBox` helper functions to align naturally:"
   ]
  },
  {
   "cell_type": "code",
   "execution_count": 4,
   "metadata": {
    "collapsed": false
   },
   "outputs": [
    {
     "data": {
      "application/vnd.jupyter.widget-view+json": {
       "model_id": "272ab82400304dccb714f550e6ef97e0"
      }
     },
     "metadata": {},
     "output_type": "display_data"
    }
   ],
   "source": [
    "from ipywidgets import Button, HBox, VBox\n",
    "\n",
    "words = ['correct', 'horse', 'battery', 'staple']\n",
    "items = [Button(description=w) for w in words]\n",
    "\n",
    "HBox([VBox([items[0], items[1]]), VBox([items[2], items[3]])])"
   ]
  },
  {
   "cell_type": "markdown",
   "metadata": {},
   "source": [
    "### Latex"
   ]
  },
  {
   "cell_type": "markdown",
   "metadata": {},
   "source": [
    "Widgets such as sliders and text inputs have a description attribute that can render Latex Equations. The `Label` widget also renders Latex equations."
   ]
  },
  {
   "cell_type": "code",
   "execution_count": 5,
   "metadata": {
    "collapsed": true
   },
   "outputs": [],
   "source": [
    "from ipywidgets import IntSlider, Label"
   ]
  },
  {
   "cell_type": "code",
   "execution_count": 6,
   "metadata": {
    "collapsed": false
   },
   "outputs": [
    {
     "data": {
      "application/vnd.jupyter.widget-view+json": {
       "model_id": "6f8c984a53e24950a56e55c9fdcfd309"
      }
     },
     "metadata": {},
     "output_type": "display_data"
    }
   ],
   "source": [
    "IntSlider(description='$\\int_0^t f$')"
   ]
  },
  {
   "cell_type": "code",
   "execution_count": 7,
   "metadata": {
    "collapsed": false
   },
   "outputs": [
    {
     "data": {
      "application/vnd.jupyter.widget-view+json": {
       "model_id": "48927083b5d64d6f8931e5396b3805d2"
      }
     },
     "metadata": {},
     "output_type": "display_data"
    }
   ],
   "source": [
    "Label(value='$e=mc^2$')"
   ]
  },
  {
   "cell_type": "markdown",
   "metadata": {},
   "source": [
    "### Number formatting\n",
    "\n",
    "Sliders have a readout field which can be formatted using Python's *[Format Specification Mini-Language](https://docs.python.org/3/library/string.html#format-specification-mini-language)*. If the space available for the readout is too narrow for the string representation of the slider value, a different styling is applied to show that not all digits are visible."
   ]
  },
  {
   "cell_type": "markdown",
   "metadata": {},
   "source": [
    "## The Flexbox layout\n",
    "\n",
    "In fact, the `HBox` and `VBox` helpers used above are functions returning instances of the `Box` widget with specific options.\n",
    "\n",
    "The `Box` widgets enables the entire CSS Flexbox spec, enabling rich reactive layouts in the Jupyter notebook. It aims at providing an efficient way to lay out, align and distribute space among items in a container.\n",
    "\n",
    "Again, the whole Flexbox spec is exposed via the `layout` attribute of the container widget (`Box`) and the contained items. One may share the same `layout` attribute among all the contained items.\n",
    "\n",
    "### Acknowledgement\n",
    "\n",
    "The following tutorial on the Flexbox layout follows the lines of the article *[A Complete Guide to Flexbox](https://css-tricks.com/snippets/css/a-guide-to-flexbox/)* by Chris Coyier.\n",
    "\n",
    "### Basics and terminology\n",
    "\n",
    "Since flexbox is a whole module and not a single property, it involves a lot of things including its whole set of properties. Some of them are meant to be set on the container (parent element, known as \"flex container\") whereas the others are meant to be set on the children (said \"flex items\").\n",
    "\n",
    "If regular layout is based on both block and inline flow directions, the flex layout is based on \"flex-flow directions\". Please have a look at this figure from the specification, explaining the main idea behind the flex layout.\n",
    "\n",
    "![Flexbox](./images/flexbox.png)\n",
    "\n",
    "Basically, items will be laid out following either the `main axis` (from `main-start` to `main-end`) or the `cross axis` (from `cross-start` to `cross-end`).\n",
    "\n",
    "- `main axis` - The main axis of a flex container is the primary axis along which flex items are laid out. Beware, it is not necessarily horizontal; it depends on the flex-direction property (see below).\n",
    "- `main-start | main-end` - The flex items are placed within the container starting from main-start and going to main-end.\n",
    "- `main size` - A flex item's width or height, whichever is in the main dimension, is the item's main size. The flex item's main size property is either the ‘width’ or ‘height’ property, whichever is in the main dimension.\n",
    "cross axis - The axis perpendicular to the main axis is called the cross axis. Its direction depends on the main axis direction.\n",
    "- `cross-start | cross-end` - Flex lines are filled with items and placed into the container starting on the cross-start side of the flex container and going toward the cross-end side.\n",
    "- `cross size` - The width or height of a flex item, whichever is in the cross dimension, is the item's cross size. The cross size property is whichever of ‘width’ or ‘height’ that is in the cross dimension.\n",
    "\n",
    "### Properties of the parent\n",
    "\n",
    "![Container](./images/flex-container.svg)\n",
    "\n",
    "- `display` (must be equal to 'flex' or 'inline-flex')\n",
    "\n",
    "  This defines a flex container (inline or block).\n",
    "- `flex-flow` **(shorthand for two properties)**\n",
    "\n",
    "   This is a shorthand `flex-direction` and `flex-wrap` properties, which together define the flex container's main and cross axes. Default is `row nowrap`.\n",
    "\n",
    "    - `flex-direction` (row | row-reverse | column | column-reverse)\n",
    "    \n",
    "      This establishes the main-axis, thus defining the direction flex items are placed in the flex container. Flexbox is (aside from optional wrapping) a single-direction layout concept. Think of flex items as primarily laying out either in horizontal rows or vertical columns.\n",
    "      ![Direction](./images/flex-direction1.svg)\n",
    "    \n",
    "    - `flex-wrap` (nowrap | wrap | wrap-reverse)\n",
    "      \n",
    "      By default, flex items will all try to fit onto one line. You can change that and allow the items to wrap as needed with this property. Direction also plays a role here, determining the direction new lines are stacked in.\n",
    "      ![Wrap](./images/flex-wrap.svg)\n",
    "\n",
    "- `justify-content` (flex-start | flex-end | center | space-between | space-around)\n",
    "\n",
    "  This defines the alignment along the main axis. It helps distribute extra free space left over when either all the flex items on a line are inflexible, or are flexible but have reached their maximum size. It also exerts some control over the alignment of items when they overflow the line.\n",
    "  ![Justify](./images/justify-content.svg)\n",
    "\n",
    "- `align-items` (flex-start | flex-end | center | baseline | stretch)\n",
    "\n",
    "   This defines the default behaviour for how flex items are laid out along the cross axis on the current line. Think of it as the justify-content version for the cross-axis (perpendicular to the main-axis).\n",
    "   ![Items](./images/align-items.svg)\n",
    "   \n",
    "- `align-content` (flex-start | flex-end | center | baseline | stretch)\n",
    "\n",
    "   This aligns a flex container's lines within when there is extra space in the cross-axis, similar to how justify-content aligns individual items within the main-axis.\n",
    "   ![Items](./images/align-content.svg)\n",
    "\n",
    "  **Note**: this property has no effect when there is only one line of flex items.\n",
    "\n",
    "### Properties of the items\n",
    "\n",
    "![Item](./images/flex-items.svg)\n",
    "\n",
    "The flexbox-related CSS properties of the items have no impact if the parent element is not a flexbox container (i.e. has a `display` attribute equal to `flex` or `inline-flex`).\n",
    "\n",
    "\n",
    "- `order`\n",
    "\n",
    "   By default, flex items are laid out in the source order. However, the order property controls the order in which they appear in the flex container.\n",
    "   <img src=\"./images/order-2.svg\" alt=\"Order\" style=\"width: 500px;\"/>\n",
    "   \n",
    "- `flex` **(shorthand for three properties)**\n",
    "   This is the shorthand for flex-grow, flex-shrink and flex-basis combined. The second and third parameters (flex-shrink and flex-basis) are optional. Default is `0 1 auto`.\n",
    "   \n",
    "    - `flex-grow`\n",
    "    \n",
    "      This defines the ability for a flex item to grow if necessary. It accepts a unitless value that serves as a proportion. It dictates what amount of the available space inside the flex container the item should take up.\n",
    "\n",
    "      If all items have flex-grow set to 1, the remaining space in the container will be distributed equally to all children. If one of the children a value of 2, the remaining space would take up twice as much space as the others (or it will try to, at least).\n",
    "        ![Grow](./images/flex-grow.svg)\n",
    "      \n",
    "    - `flex-shrink`\n",
    "    \n",
    "      This defines the ability for a flex item to shrink if necessary.\n",
    "      \n",
    "    - `flex-basis`\n",
    "    \n",
    "      This defines the default size of an element before the remaining space is distributed. It can be a length (e.g. `20%`, `5rem`, etc.) or a keyword. The `auto` keyword means *\"look at my width or height property\"*.\n",
    "      \n",
    "- `align-self`\n",
    "\n",
    "  This allows the default alignment (or the one specified by align-items) to be overridden for individual flex items.\n",
    "\n",
    "  ![Align](./images/align-self.svg)\n",
    "\n",
    "### The VBox and HBox helpers\n",
    "\n",
    "The `VBox` and `HBox` helper provide simple defaults to arrange child widgets in Vertical and Horizontal boxes.\n",
    "\n",
    "```Python\n",
    "def VBox(*pargs, **kwargs):\n",
    "    \"\"\"Displays multiple widgets vertically using the flexible box model.\"\"\"\n",
    "    box = Box(*pargs, **kwargs)\n",
    "    box.layout.display = 'flex'\n",
    "    box.layout.flex_flow = 'column'\n",
    "    box.layout.align_items = 'stretch'\n",
    "    return box\n",
    "\n",
    "def HBox(*pargs, **kwargs):\n",
    "    \"\"\"Displays multiple widgets horizontally using the flexible box model.\"\"\"\n",
    "    box = Box(*pargs, **kwargs)\n",
    "    box.layout.display = 'flex'\n",
    "    box.layout.align_items = 'stretch'\n",
    "    return box\n",
    "```\n",
    "\n",
    "\n",
    "### Examples"
   ]
  },
  {
   "cell_type": "markdown",
   "metadata": {},
   "source": [
    "**Four buttons in a `VBox`. Items stretch to the maximum width, in a vertical box taking `50%` of the available space.**"
   ]
  },
  {
   "cell_type": "code",
   "execution_count": 8,
   "metadata": {
    "collapsed": false
   },
   "outputs": [
    {
     "data": {
      "application/vnd.jupyter.widget-view+json": {
       "model_id": "276570ebbc0144e6be11f2ceeab8d49b"
      }
     },
     "metadata": {},
     "output_type": "display_data"
    }
   ],
   "source": [
    "from ipywidgets import Layout, Button, Box\n",
    "\n",
    "items_layout = Layout(flex='1 1 auto',\n",
    "                      width='auto')     # override the default width of the button to 'auto' to let the button grow\n",
    "\n",
    "box_layout = Layout(display='flex',\n",
    "                    flex_flow='column', \n",
    "                    align_items='stretch', \n",
    "                    border='solid',\n",
    "                    width='50%')\n",
    "\n",
    "words = ['correct', 'horse', 'battery', 'staple']\n",
    "items = [Button(description=w, layout=items_layout, button_style='danger') for w in words]\n",
    "box = Box(children=items, layout=box_layout)\n",
    "box"
   ]
  },
  {
   "cell_type": "markdown",
   "metadata": {},
   "source": [
    "**Three buttons in an HBox. Items flex proportionaly to their weight.**"
   ]
  },
  {
   "cell_type": "code",
   "execution_count": 9,
   "metadata": {
    "collapsed": false
   },
   "outputs": [
    {
     "data": {
      "application/vnd.jupyter.widget-view+json": {
       "model_id": "c4a0ab0037734624a8820861c387e5d2"
      }
     },
     "metadata": {},
     "output_type": "display_data"
    }
   ],
   "source": [
    "from ipywidgets import Layout, Button, Box\n",
    "\n",
    "items_layout = Layout(flex='1 1 auto', width='auto')     # override the default width of the button to 'auto' to let the button grow\n",
    "\n",
    "items = [\n",
    "    Button(description='weight=1'),\n",
    "    Button(description='weight=2', layout=Layout(flex='2 1 auto', width='auto')),\n",
    "    Button(description='weight=1'),\n",
    " ]\n",
    "\n",
    "box_layout = Layout(display='flex',\n",
    "                    flex_flow='row', \n",
    "                    align_items='stretch', \n",
    "                    border='solid',\n",
    "                    width='50%')\n",
    "box = Box(children=items, layout=box_layout)\n",
    "box"
   ]
  },
  {
   "cell_type": "markdown",
   "metadata": {},
   "source": [
    "**A more advanced example: a reactive form.**\n",
    "\n",
    "The form is a `VBox` of width '50%'. Each row in the VBox is an HBox, that justifies the content with space between.."
   ]
  },
  {
   "cell_type": "code",
   "execution_count": 10,
   "metadata": {
    "collapsed": false
   },
   "outputs": [
    {
     "data": {
      "application/vnd.jupyter.widget-view+json": {
       "model_id": "d392f14bbaa1414ca3c28f3d46c0323f"
      }
     },
     "metadata": {},
     "output_type": "display_data"
    }
   ],
   "source": [
    "from ipywidgets import Layout, Button, Box, FloatText, Textarea, Dropdown, Label, IntSlider\n",
    "\n",
    "label_layout = Layout()\n",
    "\n",
    "form_item_layout = Layout(\n",
    "    display='flex',\n",
    "    flex_flow='row',\n",
    "    justify_content='space-between'\n",
    ")\n",
    "\n",
    "form_items = [\n",
    "    Box([Label(value='Age of the captain'), IntSlider(min=40, max=60)], layout=form_item_layout),\n",
    "    Box([Label(value='Egg style'), \n",
    "         Dropdown(options=['Scrambled', 'Sunny side up', 'Over easy'])], layout=form_item_layout),\n",
    "    Box([Label(value='Ship size'), \n",
    "         FloatText()], layout=form_item_layout),\n",
    "    Box([Label(value='Information'), \n",
    "         Textarea()], layout=form_item_layout)\n",
    "]\n",
    "\n",
    "form = Box(form_items, layout=Layout(\n",
    "    display='flex',\n",
    "    flex_flow='column',\n",
    "    border='solid 2px',\n",
    "    align_items='stretch',\n",
    "    width='50%'\n",
    "))\n",
    "form"
   ]
  },
  {
   "cell_type": "markdown",
   "metadata": {},
   "source": [
    "**A more advanced example: a carousel.**"
   ]
  },
  {
   "cell_type": "code",
   "execution_count": 11,
   "metadata": {
    "collapsed": false
   },
   "outputs": [
    {
     "data": {
      "application/vnd.jupyter.widget-view+json": {
       "model_id": "5ba47f5e4f0243a18f62a3c63afeefc4"
      }
     },
     "metadata": {},
     "output_type": "display_data"
    }
   ],
   "source": [
    "from ipywidgets import Layout, Button, Box\n",
    "\n",
    "item_layout = Layout(height='100px', min_width='40px')\n",
    "items = [Button(layout=item_layout, button_style='warning') for i in range(40)]\n",
    "box_layout = Layout(overflow_x='scroll',\n",
    "                    border='3px solid black',\n",
    "                    width='500px',\n",
    "                    height='',\n",
    "                    flex_direction='row',\n",
    "                    display='flex')\n",
    "carousel = Box(children=items, layout=box_layout)\n",
    "VBox([Label('Scroll horizontally:'), carousel])"
   ]
  },
  {
   "cell_type": "markdown",
   "metadata": {},
   "source": [
    "## Predefined styles\n",
    "\n",
    "If you wish the styling of widgets to make use of colors and styles defined by the environment (to be consistent with e.g. a notebook theme), many widgets enable choosing in a list of pre-defined styles.\n",
    "\n",
    "For example, the `Button` widget has a `button_style` attribute that may take 5 different values:\n",
    "\n",
    " - `'primary'`\n",
    " - `'success'`\n",
    " - `'info'`\n",
    " - `'warning'`\n",
    " - `'danger'`\n",
    "\n",
    "besides the default empty string ''."
   ]
  },
  {
   "cell_type": "code",
   "execution_count": 12,
   "metadata": {
    "collapsed": false
   },
   "outputs": [
    {
     "data": {
      "application/vnd.jupyter.widget-view+json": {
       "model_id": "35a2a09dce78475188ad953ddd347fdd"
      }
     },
     "metadata": {},
     "output_type": "display_data"
    }
   ],
   "source": [
    "from ipywidgets import Button\n",
    "\n",
    "Button(description='Danger Button', button_style='danger')"
   ]
  },
  {
   "cell_type": "markdown",
   "metadata": {},
   "source": [
    "## The `style` attribute\n",
    "\n",
    "While the `layout` attribute only exposes layout-related CSS properties for the top-level DOM element of widgets, the  \n",
    "`style` attribute is used to expose non-layout related styling attributes of widgets.\n",
    "\n",
    "However, the properties of the `style` atribute are specific to each widget type."
   ]
  },
  {
   "cell_type": "code",
   "execution_count": 13,
   "metadata": {
    "collapsed": false
   },
   "outputs": [
    {
     "data": {
      "application/vnd.jupyter.widget-view+json": {
       "model_id": "0b01134adf2f4fc1b7e3189e08d0b1c1"
      }
     },
     "metadata": {},
     "output_type": "display_data"
    }
   ],
   "source": [
    "b1 = Button(description='Custom color')\n",
    "b1.style.button_color = 'lightgreen'\n",
    "b1"
   ]
  },
  {
   "cell_type": "markdown",
   "metadata": {},
   "source": [
    "Just like the `layout` attribute, widget styles can be assigned to other widgets."
   ]
  },
  {
   "cell_type": "code",
   "execution_count": 14,
   "metadata": {
    "collapsed": false
   },
   "outputs": [
    {
     "data": {
      "application/vnd.jupyter.widget-view+json": {
       "model_id": "65d611ab0e514e2a94e0c683f225f856"
      }
     },
     "metadata": {},
     "output_type": "display_data"
    }
   ],
   "source": [
    "b2 = Button()\n",
    "b2.style = b1.style\n",
    "b2"
   ]
  },
  {
   "cell_type": "markdown",
   "metadata": {},
   "source": [
    "Widget styling attributes are specific to each widget type."
   ]
  },
  {
   "cell_type": "code",
   "execution_count": 15,
   "metadata": {
    "collapsed": false
   },
   "outputs": [
    {
     "data": {
      "application/vnd.jupyter.widget-view+json": {
       "model_id": "63beed0c4bc6416cb7b3b818f7e25313"
      }
     },
     "metadata": {},
     "output_type": "display_data"
    }
   ],
   "source": [
    "s1 = IntSlider(description='Blue handle')\n",
    "s1.style.handle_color = 'lightblue'\n",
    "s1"
   ]
  }
 ],
 "metadata": {
  "kernelspec": {
   "display_name": "Python 3",
   "language": "python",
   "name": "python3"
  },
  "language_info": {
   "codemirror_mode": {
    "name": "ipython",
    "version": 3
   },
   "file_extension": ".py",
   "mimetype": "text/x-python",
   "name": "python",
   "nbconvert_exporter": "python",
   "pygments_lexer": "ipython3",
   "version": "3.5.2"
  },
  "widgets": {
   "application/vnd.jupyter.widget-state+json": {
    "state": {
     "00ea0b7fad094e7fb89c59f52fde30c1": {
      "model_module": "jupyter-js-widgets",
      "model_module_version": "~2.0.27",
      "model_name": "ButtonModel",
      "state": {
       "_model_module_version": "~2.0.27",
       "_view_module_version": "~2.0.27",
       "button_style": "warning",
       "layout": "IPY_MODEL_59851902a66c47a9909da8a58cdaee24",
       "style": "IPY_MODEL_44bf925da7e449968ba1def4932d9dea"
      }
     },
     "0149e0ac4e7b4c578e287f36c7a9103b": {
      "model_module": "jupyter-js-widgets",
      "model_module_version": "*",
      "model_name": "ButtonStyleModel",
      "state": {
       "_model_module_version": "*",
       "_view_module_version": "*",
       "_view_name": "StyleView",
       "button_color": null
      }
     },
     "01ac9d21be1f433aac7787e2ec4b94c5": {
      "model_module": "jupyter-js-widgets",
      "model_module_version": "*",
      "model_name": "ButtonStyleModel",
      "state": {
       "_model_module_version": "*",
       "_view_module_version": "*",
       "_view_name": "StyleView",
       "button_color": null
      }
     },
     "0245ffc5beab4d3480f081b076dd41c7": {
      "model_module": "jupyter-js-widgets",
      "model_module_version": "~2.0.27",
      "model_name": "ButtonModel",
      "state": {
       "_model_module_version": "~2.0.27",
       "_view_module_version": "~2.0.27",
       "button_style": "warning",
       "layout": "IPY_MODEL_b569bd266374470c9ba88ddd2531bcf9",
       "style": "IPY_MODEL_d6e017ae371f488ca66d4464b20ac960"
      }
     },
     "034e8c544baa44c48c8f5bc83c9d0312": {
      "model_module": "jupyter-js-widgets",
      "model_module_version": "~2.0.27",
      "model_name": "ButtonModel",
      "state": {
       "_model_module_version": "~2.0.27",
       "_view_module_version": "~2.0.27",
       "button_style": "warning",
       "layout": "IPY_MODEL_59851902a66c47a9909da8a58cdaee24",
       "style": "IPY_MODEL_bd9a3ce15d3a44318745c211f1230957"
      }
     },
     "03ad95700d35410ea3bf4d29b52ae564": {
      "model_module": "jupyter-js-widgets",
      "model_module_version": "~2.0.27",
      "model_name": "BoxModel",
      "state": {
       "_model_module_version": "~2.0.27",
       "_view_module_version": "~2.0.27",
       "children": [
        "IPY_MODEL_0b151c845f1441e1a357c56339c393bd",
        "IPY_MODEL_1f4f1f34eb014cb3aad520fb38201d5d",
        "IPY_MODEL_f377404aa8fe4f8abc63f4be2e27b5cc",
        "IPY_MODEL_96ac05601182425aa6dca26ba2d3dc5a",
        "IPY_MODEL_0b0a34d381f74be58bbe486114007321",
        "IPY_MODEL_57919e593fe1492b8ba4edf3f1e77332",
        "IPY_MODEL_966510b6b8e5410683edad5b84dadd92",
        "IPY_MODEL_b16e535c38394bdf8e5907042d2e4993",
        "IPY_MODEL_3859c5fcb56e4a8096ad325903e49430",
        "IPY_MODEL_e364b71e99c34f96938e3b58b2eb6c95",
        "IPY_MODEL_9beb708880d94020a1e3135a2a1c1554",
        "IPY_MODEL_a01ffb4ca1544ffda102be424decfb8a",
        "IPY_MODEL_179cd29c444a4305b90f040c6694fa02",
        "IPY_MODEL_99cbbfd87aef4e3d90296753550e0b05",
        "IPY_MODEL_a6213dfaa6ff4f0b88718221830db58d",
        "IPY_MODEL_b3630d47fc43487088dda7af22201a29",
        "IPY_MODEL_5879a3397b004f5e84fbc25ad5f74d8b",
        "IPY_MODEL_b2f18fa40f8e4995a47f97924d0e15b3",
        "IPY_MODEL_0a3c326d0a4e41c59df4f1693623ac52",
        "IPY_MODEL_c7541b8277784cb8ab4cf078e84d7f4c",
        "IPY_MODEL_a9004dd7e5854e44b603e1377d4b4359",
        "IPY_MODEL_9f84b9aae3e74471999659647bbb80bf",
        "IPY_MODEL_c4b2a435084c440487363d1706b32e06",
        "IPY_MODEL_d3be874f15784e7ca1107ba71fc6cdb2",
        "IPY_MODEL_e0c28553015143aeb03ba83333d31189",
        "IPY_MODEL_dbc080f8ba0943a8ae0e709d0142b035",
        "IPY_MODEL_beed9bf7fe7145d287ccb491880b223a",
        "IPY_MODEL_4f634bb9485548ec8bf99b6ff70e39d7",
        "IPY_MODEL_c22b31fe65b04b54892e0d5f6e4627b6",
        "IPY_MODEL_505c019c27d740b4bfbfed67a7e67be2",
        "IPY_MODEL_362e3c9082b04c3fa088dd1b1c95ad38",
        "IPY_MODEL_79c856bddc514066ba02e3a46016b4b9",
        "IPY_MODEL_3d332995c2bc4992a234a2e4edd147ef",
        "IPY_MODEL_dff60f6fd57040339647880d2bc10ac7",
        "IPY_MODEL_3b41cd1e64a344e5bdcc423658049967",
        "IPY_MODEL_55adc6d512e34527b1480511e2edfa8b",
        "IPY_MODEL_96103e7ef72b427da0c3f2f3d4906928",
        "IPY_MODEL_c5245f07db5c4280a35d952d5d9c4320",
        "IPY_MODEL_14281c3d11b3435ca7d00e2c3a033e03",
        "IPY_MODEL_fb66a34825e348bc878ff80016ffdb80"
       ],
       "layout": "IPY_MODEL_e4f4911cf8a24a53b22f306553701f7f"
      }
     },
     "03c56e1a1e344e8a86e7e06e4d9c3015": {
      "model_module": "jupyter-js-widgets",
      "model_module_version": "~2.0.27",
      "model_name": "LayoutModel",
      "state": {
       "_model_module_version": "~2.0.27",
       "_view_module_version": "~2.0.27"
      }
     },
     "0448dd300fbc4756bb8b8a1a1b602ff8": {
      "model_module": "jupyter-js-widgets",
      "model_module_version": "*",
      "model_name": "ButtonStyleModel",
      "state": {
       "_model_module_version": "*",
       "_view_module_version": "*",
       "_view_name": "StyleView",
       "button_color": null
      }
     },
     "0472c83ec2f141e98b3867164ef24649": {
      "model_module": "jupyter-js-widgets",
      "model_module_version": "~2.0.27",
      "model_name": "LayoutModel",
      "state": {
       "_model_module_version": "~2.0.27",
       "_view_module_version": "~2.0.27"
      }
     },
     "04fc62a210b74257be822397a6184179": {
      "model_module": "jupyter-js-widgets",
      "model_module_version": "~2.0.27",
      "model_name": "ButtonModel",
      "state": {
       "_model_module_version": "~2.0.27",
       "_view_module_version": "~2.0.27",
       "description": "(50% width, 80px height) button",
       "layout": "IPY_MODEL_91097b78e9d64bdd9607fd2a82b0ed0e",
       "style": "IPY_MODEL_0aaf60c820cf47268378126ef8ee1c86"
      }
     },
     "05c6661d95f04faebc2da0ab335b4ece": {
      "model_module": "jupyter-js-widgets",
      "model_module_version": "~2.0.27",
      "model_name": "HBoxModel",
      "state": {
       "_model_module_version": "~2.0.27",
       "_view_module_version": "~2.0.27",
       "children": [
        "IPY_MODEL_bb755657e6a14a2f822ef147f5c4d285",
        "IPY_MODEL_d842c74786c34335870f311d655645f7"
       ],
       "layout": "IPY_MODEL_51c1beb4269f4c98801c904f970fda37"
      }
     },
     "063f72a1b2e64f3fb45c6e760dd458a4": {
      "model_module": "jupyter-js-widgets",
      "model_module_version": "~2.0.27",
      "model_name": "BoxModel",
      "state": {
       "_model_module_version": "~2.0.27",
       "_view_module_version": "~2.0.27",
       "children": [
        "IPY_MODEL_076c2a0f19c947e09a739ed4494df274",
        "IPY_MODEL_556c7c8ffdf84580a63d80686add4fb8"
       ],
       "layout": "IPY_MODEL_be83109938dd44b6abafdc7e12946b19"
      }
     },
     "06a2f91552f14d1aa7c3894000fc14f9": {
      "model_module": "jupyter-js-widgets",
      "model_module_version": "~2.0.27",
      "model_name": "ButtonModel",
      "state": {
       "_model_module_version": "~2.0.27",
       "_view_module_version": "~2.0.27",
       "button_style": "warning",
       "layout": "IPY_MODEL_b569bd266374470c9ba88ddd2531bcf9",
       "style": "IPY_MODEL_a47f785f9b554d318a6676aa5b561e76"
      }
     },
     "076c2a0f19c947e09a739ed4494df274": {
      "model_module": "jupyter-js-widgets",
      "model_module_version": "~2.0.27",
      "model_name": "LabelModel",
      "state": {
       "_model_module_version": "~2.0.27",
       "_view_module_version": "~2.0.27",
       "layout": "IPY_MODEL_37418a6cd8604da0a7b84d2f9d139ae3",
       "value": "Age of the captain"
      }
     },
     "07ad74bf73ed4572a10c10d20ba7ac86": {
      "model_module": "jupyter-js-widgets",
      "model_module_version": "~2.0.27",
      "model_name": "LabelModel",
      "state": {
       "_model_module_version": "~2.0.27",
       "_view_module_version": "~2.0.27",
       "layout": "IPY_MODEL_d757ff6684b74053b4f17e86bf5e7f97",
       "value": "Egg style"
      }
     },
     "07da1c4192614a5ca592192d8f249722": {
      "model_module": "jupyter-js-widgets",
      "model_module_version": "~2.0.27",
      "model_name": "LayoutModel",
      "state": {
       "_model_module_version": "~2.0.27",
       "_view_module_version": "~2.0.27",
       "align_items": "stretch",
       "border": "solid",
       "display": "flex",
       "flex_flow": "row",
       "width": "50%"
      }
     },
     "08f4b6edcbcb42938ee44f3846f21c4e": {
      "model_module": "jupyter-js-widgets",
      "model_module_version": "~2.0.27",
      "model_name": "LayoutModel",
      "state": {
       "_model_module_version": "~2.0.27",
       "_view_module_version": "~2.0.27"
      }
     },
     "092dfaaa27db410581aa229e19b82092": {
      "model_module": "jupyter-js-widgets",
      "model_module_version": "*",
      "model_name": "ButtonStyleModel",
      "state": {
       "_model_module_version": "*",
       "_view_module_version": "*",
       "_view_name": "StyleView",
       "button_color": null
      }
     },
     "0a3c326d0a4e41c59df4f1693623ac52": {
      "model_module": "jupyter-js-widgets",
      "model_module_version": "~2.0.27",
      "model_name": "ButtonModel",
      "state": {
       "_model_module_version": "~2.0.27",
       "_view_module_version": "~2.0.27",
       "button_style": "warning",
       "layout": "IPY_MODEL_ba792b5822ca48d9a5dba7fb4463e518",
       "style": "IPY_MODEL_9c8ab97e23f448ae90c59ba1b4d343f9"
      }
     },
     "0aaf60c820cf47268378126ef8ee1c86": {
      "model_module": "jupyter-js-widgets",
      "model_module_version": "*",
      "model_name": "ButtonStyleModel",
      "state": {
       "_model_module_version": "*",
       "_view_module_version": "*",
       "_view_name": "StyleView",
       "button_color": null
      }
     },
     "0b01134adf2f4fc1b7e3189e08d0b1c1": {
      "model_module": "jupyter-js-widgets",
      "model_module_version": "~2.0.27",
      "model_name": "ButtonModel",
      "state": {
       "_model_module_version": "~2.0.27",
       "_view_module_version": "~2.0.27",
       "description": "Custom color",
       "layout": "IPY_MODEL_8ba3edb8c1f341a997148362a8635106",
       "style": "IPY_MODEL_0e14d18ff16040e68435d0b8e6c8e310"
      }
     },
     "0b0a34d381f74be58bbe486114007321": {
      "model_module": "jupyter-js-widgets",
      "model_module_version": "~2.0.27",
      "model_name": "ButtonModel",
      "state": {
       "_model_module_version": "~2.0.27",
       "_view_module_version": "~2.0.27",
       "button_style": "warning",
       "layout": "IPY_MODEL_ba792b5822ca48d9a5dba7fb4463e518",
       "style": "IPY_MODEL_95250ae5bbf44ff6b931e15611bca664"
      }
     },
     "0b151c845f1441e1a357c56339c393bd": {
      "model_module": "jupyter-js-widgets",
      "model_module_version": "~2.0.27",
      "model_name": "ButtonModel",
      "state": {
       "_model_module_version": "~2.0.27",
       "_view_module_version": "~2.0.27",
       "button_style": "warning",
       "layout": "IPY_MODEL_ba792b5822ca48d9a5dba7fb4463e518",
       "style": "IPY_MODEL_76500bb7111a4bffae47ecfbaec86c90"
      }
     },
     "0c5fcd60d6304e8aa59a90b1a9f33e56": {
      "model_module": "jupyter-js-widgets",
      "model_module_version": "*",
      "model_name": "ButtonStyleModel",
      "state": {
       "_model_module_version": "*",
       "_view_module_version": "*",
       "_view_name": "StyleView",
       "button_color": null
      }
     },
     "0c8f7a489d81411a9bd6f40fa9d5238a": {
      "model_module": "jupyter-js-widgets",
      "model_module_version": "~2.0.27",
      "model_name": "ButtonModel",
      "state": {
       "_model_module_version": "~2.0.27",
       "_view_module_version": "~2.0.27",
       "button_style": "danger",
       "description": "staple",
       "layout": "IPY_MODEL_65618a75f76242c1a2eef0aa71400b58",
       "style": "IPY_MODEL_80702366d2b6407bb6758b7bc13ecbc4"
      }
     },
     "0c9165fb19de4c419b1ecb97b57e4f1a": {
      "model_module": "jupyter-js-widgets",
      "model_module_version": "~2.0.27",
      "model_name": "ButtonModel",
      "state": {
       "_model_module_version": "~2.0.27",
       "_view_module_version": "~2.0.27",
       "button_style": "warning",
       "layout": "IPY_MODEL_59851902a66c47a9909da8a58cdaee24",
       "style": "IPY_MODEL_4d91999a5e614e5f8e33d3deba4761d7"
      }
     },
     "0e14d18ff16040e68435d0b8e6c8e310": {
      "model_module": "jupyter-js-widgets",
      "model_module_version": "*",
      "model_name": "ButtonStyleModel",
      "state": {
       "_model_module_version": "*",
       "_view_module_version": "*",
       "_view_name": "StyleView",
       "button_color": "lightgreen"
      }
     },
     "0e75d23419c447f7bd15724de710028a": {
      "model_module": "jupyter-js-widgets",
      "model_module_version": "*",
      "model_name": "ButtonStyleModel",
      "state": {
       "_model_module_version": "*",
       "_view_module_version": "*",
       "_view_name": "StyleView",
       "button_color": null
      }
     },
     "0f9e526f6d074a78957498a964b8de14": {
      "model_module": "jupyter-js-widgets",
      "model_module_version": "~2.0.27",
      "model_name": "IntSliderModel",
      "state": {
       "_model_module_version": "~2.0.27",
       "_view_module_version": "~2.0.27",
       "layout": "IPY_MODEL_c21bb9fe94544a01ab70db3d0906e7ff",
       "max": 60,
       "min": 40,
       "style": "IPY_MODEL_fe1ba3b36ab441b1a2a951349adbf267",
       "value": 40
      }
     },
     "0fac3274bcfe4068bff9e2f1e510b5df": {
      "model_module": "jupyter-js-widgets",
      "model_module_version": "~2.0.27",
      "model_name": "LayoutModel",
      "state": {
       "_model_module_version": "~2.0.27",
       "_view_module_version": "~2.0.27"
      }
     },
     "0fd1e67cad10499a85ed067ec8bab8b2": {
      "model_module": "jupyter-js-widgets",
      "model_module_version": "~2.0.27",
      "model_name": "LabelModel",
      "state": {
       "_model_module_version": "~2.0.27",
       "_view_module_version": "~2.0.27",
       "layout": "IPY_MODEL_9781d90a6c4b44b5853a4abfdebebd45",
       "value": "Ship size"
      }
     },
     "0fd3254e12374e83a8133d99c437daff": {
      "model_module": "jupyter-js-widgets",
      "model_module_version": "~2.0.27",
      "model_name": "LayoutModel",
      "state": {
       "_model_module_version": "~2.0.27",
       "_view_module_version": "~2.0.27"
      }
     },
     "0fd8283bd5f5458aba9085ed8e0a053a": {
      "model_module": "jupyter-js-widgets",
      "model_module_version": "*",
      "model_name": "ButtonStyleModel",
      "state": {
       "_model_module_version": "*",
       "_view_module_version": "*",
       "_view_name": "StyleView",
       "button_color": null
      }
     },
     "0ffd4c1815f941daa6f80e47a63be7f8": {
      "model_module": "jupyter-js-widgets",
      "model_module_version": "~2.0.27",
      "model_name": "LabelModel",
      "state": {
       "_model_module_version": "~2.0.27",
       "_view_module_version": "~2.0.27",
       "layout": "IPY_MODEL_a337463ff2404f188c2c1cd79bee18c0",
       "value": "Information"
      }
     },
     "108bef6a39cc48b29b16a11d11493207": {
      "model_module": "jupyter-js-widgets",
      "model_module_version": "~2.0.27",
      "model_name": "ButtonModel",
      "state": {
       "_model_module_version": "~2.0.27",
       "_view_module_version": "~2.0.27",
       "button_style": "warning",
       "layout": "IPY_MODEL_59851902a66c47a9909da8a58cdaee24",
       "style": "IPY_MODEL_de70efd5805d46ca864ead5d0d090eb8"
      }
     },
     "10f1a864e06b462898d70dde4e04e385": {
      "model_module": "jupyter-js-widgets",
      "model_module_version": "~2.0.27",
      "model_name": "LayoutModel",
      "state": {
       "_model_module_version": "~2.0.27",
       "_view_module_version": "~2.0.27"
      }
     },
     "113cebb9e8994886a32772e981f61ff6": {
      "model_module": "jupyter-js-widgets",
      "model_module_version": "*",
      "model_name": "SliderStyleModel",
      "state": {
       "_model_module_version": "*",
       "_view_module_version": "*",
       "_view_name": "StyleView",
       "handle_color": "blue"
      }
     },
     "11e79d657b6147a4acf634b792867b44": {
      "model_module": "jupyter-js-widgets",
      "model_module_version": "*",
      "model_name": "ButtonStyleModel",
      "state": {
       "_model_module_version": "*",
       "_view_module_version": "*",
       "_view_name": "StyleView",
       "button_color": null
      }
     },
     "133e3b99cfad40b2a33ba9af709f4f6a": {
      "model_module": "jupyter-js-widgets",
      "model_module_version": "~2.0.27",
      "model_name": "LayoutModel",
      "state": {
       "_model_module_version": "~2.0.27",
       "_view_module_version": "~2.0.27"
      }
     },
     "136c4f8324594d09b22616b3615c4346": {
      "model_module": "jupyter-js-widgets",
      "model_module_version": "*",
      "model_name": "ButtonStyleModel",
      "state": {
       "_model_module_version": "*",
       "_view_module_version": "*",
       "_view_name": "StyleView",
       "button_color": null
      }
     },
     "13c44d858ea34597a299280e48c2a13b": {
      "model_module": "jupyter-js-widgets",
      "model_module_version": "~2.0.27",
      "model_name": "LayoutModel",
      "state": {
       "_model_module_version": "~2.0.27",
       "_view_module_version": "~2.0.27",
       "display": "flex",
       "flex_flow": "row",
       "justify_content": "space-between"
      }
     },
     "14281c3d11b3435ca7d00e2c3a033e03": {
      "model_module": "jupyter-js-widgets",
      "model_module_version": "~2.0.27",
      "model_name": "ButtonModel",
      "state": {
       "_model_module_version": "~2.0.27",
       "_view_module_version": "~2.0.27",
       "button_style": "warning",
       "layout": "IPY_MODEL_ba792b5822ca48d9a5dba7fb4463e518",
       "style": "IPY_MODEL_6979c280648848c98293744f9f424ee1"
      }
     },
     "142f91cf5c004bc9a3e0aa1fd1399dfc": {
      "model_module": "jupyter-js-widgets",
      "model_module_version": "~2.0.27",
      "model_name": "LayoutModel",
      "state": {
       "_model_module_version": "~2.0.27",
       "_view_module_version": "~2.0.27",
       "align_items": "stretch",
       "border": "solid",
       "display": "flex",
       "flex_flow": "column",
       "width": "50%"
      }
     },
     "14cff31799b8447682ecd5f154f4b189": {
      "model_module": "jupyter-js-widgets",
      "model_module_version": "~2.0.27",
      "model_name": "ButtonModel",
      "state": {
       "_model_module_version": "~2.0.27",
       "_view_module_version": "~2.0.27",
       "button_style": "warning",
       "layout": "IPY_MODEL_59851902a66c47a9909da8a58cdaee24",
       "style": "IPY_MODEL_dd710746475c49c1b7750f7b1ae940c0"
      }
     },
     "14db813d1ce34bdfabb3a2a8966422c1": {
      "model_module": "jupyter-js-widgets",
      "model_module_version": "*",
      "model_name": "ButtonStyleModel",
      "state": {
       "_model_module_version": "*",
       "_view_module_version": "*",
       "_view_name": "StyleView",
       "button_color": null
      }
     },
     "14ebd98c6b4a4e7ea2501ba2033a707b": {
      "model_module": "jupyter-js-widgets",
      "model_module_version": "~2.0.27",
      "model_name": "ButtonModel",
      "state": {
       "_model_module_version": "~2.0.27",
       "_view_module_version": "~2.0.27",
       "description": "horse",
       "layout": "IPY_MODEL_c2e7d49258824860b264b81a6b9c12ec",
       "style": "IPY_MODEL_653325a8ff6f4e51b691d3cf26a52bcc"
      }
     },
     "1534a14e22dd4060b7ba79573ff58c68": {
      "model_module": "jupyter-js-widgets",
      "model_module_version": "~2.0.27",
      "model_name": "HBoxModel",
      "state": {
       "_model_module_version": "~2.0.27",
       "_view_module_version": "~2.0.27",
       "children": [
        "IPY_MODEL_e7695644be164d86a0320b722a9b65e2",
        "IPY_MODEL_91e84984abbc4e9e9bbe8834b60d268a"
       ],
       "layout": "IPY_MODEL_19d96df3c00444fea7efbee4f68013e1"
      }
     },
     "161c06a0d71a431c8f0ce95a8dc5ae35": {
      "model_module": "jupyter-js-widgets",
      "model_module_version": "*",
      "model_name": "ButtonStyleModel",
      "state": {
       "_model_module_version": "*",
       "_view_module_version": "*",
       "_view_name": "StyleView",
       "button_color": null
      }
     },
     "165414bf9bd54c7babfb61aba39ff5f1": {
      "model_module": "jupyter-js-widgets",
      "model_module_version": "~2.0.27",
      "model_name": "ButtonModel",
      "state": {
       "_model_module_version": "~2.0.27",
       "_view_module_version": "~2.0.27",
       "button_style": "warning",
       "layout": "IPY_MODEL_b569bd266374470c9ba88ddd2531bcf9",
       "style": "IPY_MODEL_1ece95b1de124177bf5f512a19afd2b7"
      }
     },
     "1730f9d7b84f4347a8372305bd6cd598": {
      "model_module": "jupyter-js-widgets",
      "model_module_version": "*",
      "model_name": "ButtonStyleModel",
      "state": {
       "_model_module_version": "*",
       "_view_module_version": "*",
       "_view_name": "StyleView",
       "button_color": null
      }
     },
     "179cd29c444a4305b90f040c6694fa02": {
      "model_module": "jupyter-js-widgets",
      "model_module_version": "~2.0.27",
      "model_name": "ButtonModel",
      "state": {
       "_model_module_version": "~2.0.27",
       "_view_module_version": "~2.0.27",
       "button_style": "warning",
       "layout": "IPY_MODEL_ba792b5822ca48d9a5dba7fb4463e518",
       "style": "IPY_MODEL_a53ea8da4698431f8a0a60b6956c690d"
      }
     },
     "18cb5f09550c4220a281b0f6e6e04aab": {
      "model_module": "jupyter-js-widgets",
      "model_module_version": "~2.0.27",
      "model_name": "ButtonModel",
      "state": {
       "_model_module_version": "~2.0.27",
       "_view_module_version": "~2.0.27",
       "button_style": "danger",
       "description": "staple",
       "layout": "IPY_MODEL_bd4b1f2cc45c47908587f70a8b3d2c5e",
       "style": "IPY_MODEL_bb6ac943b72b40f88fdd2e131d618096"
      }
     },
     "19676abde7854008b91111f9b7a048f9": {
      "model_module": "jupyter-js-widgets",
      "model_module_version": "~2.0.27",
      "model_name": "ButtonModel",
      "state": {
       "_model_module_version": "~2.0.27",
       "_view_module_version": "~2.0.27",
       "button_style": "warning",
       "layout": "IPY_MODEL_b569bd266374470c9ba88ddd2531bcf9",
       "style": "IPY_MODEL_b63516cfd653438691195de74e518738"
      }
     },
     "19d96df3c00444fea7efbee4f68013e1": {
      "model_module": "jupyter-js-widgets",
      "model_module_version": "~2.0.27",
      "model_name": "LayoutModel",
      "state": {
       "_model_module_version": "~2.0.27",
       "_view_module_version": "~2.0.27"
      }
     },
     "1a2e21e2a7de433b90f14283722ba070": {
      "model_module": "jupyter-js-widgets",
      "model_module_version": "~2.0.27",
      "model_name": "LayoutModel",
      "state": {
       "_model_module_version": "~2.0.27",
       "_view_module_version": "~2.0.27"
      }
     },
     "1a35a56504b5440ea2983e9dbb41f841": {
      "model_module": "jupyter-js-widgets",
      "model_module_version": "~2.0.27",
      "model_name": "HBoxModel",
      "state": {
       "_model_module_version": "~2.0.27",
       "_view_module_version": "~2.0.27",
       "children": [
        "IPY_MODEL_c4988ddfb86443808aca665333757184",
        "IPY_MODEL_3aad109b65714432b3a5104104b89a8d"
       ],
       "layout": "IPY_MODEL_1c02110fc2414759bf0888974c18a631"
      }
     },
     "1ab5ec408cf94644b4322755084620f3": {
      "model_module": "jupyter-js-widgets",
      "model_module_version": "~2.0.27",
      "model_name": "ButtonModel",
      "state": {
       "_model_module_version": "~2.0.27",
       "_view_module_version": "~2.0.27",
       "button_style": "warning",
       "layout": "IPY_MODEL_59851902a66c47a9909da8a58cdaee24",
       "style": "IPY_MODEL_a6afa13d7feb4434a995b1d9d1c99bed"
      }
     },
     "1bfe8ffd71df4ed0b00ff37282cf8f3d": {
      "model_module": "jupyter-js-widgets",
      "model_module_version": "*",
      "model_name": "ButtonStyleModel",
      "state": {
       "_model_module_version": "*",
       "_view_module_version": "*",
       "_view_name": "StyleView",
       "button_color": null
      }
     },
     "1c02110fc2414759bf0888974c18a631": {
      "model_module": "jupyter-js-widgets",
      "model_module_version": "~2.0.27",
      "model_name": "LayoutModel",
      "state": {
       "_model_module_version": "~2.0.27",
       "_view_module_version": "~2.0.27"
      }
     },
     "1cbacbd8b5494958adc540f695160045": {
      "model_module": "jupyter-js-widgets",
      "model_module_version": "~2.0.27",
      "model_name": "BoxModel",
      "state": {
       "_model_module_version": "~2.0.27",
       "_view_module_version": "~2.0.27",
       "children": [
        "IPY_MODEL_2bf04d006db143ef90f49d0698a25a96",
        "IPY_MODEL_bdbd62f221cb4db59ca59c55bed5e7b8",
        "IPY_MODEL_651a918f97df469f9994061f72b6b4c8",
        "IPY_MODEL_0c8f7a489d81411a9bd6f40fa9d5238a"
       ],
       "layout": "IPY_MODEL_3e684b5952b8439ba96b4758e7a24d83"
      }
     },
     "1cfb3aad3ab6484bbb847824627c7c1b": {
      "model_module": "jupyter-js-widgets",
      "model_module_version": "~2.0.27",
      "model_name": "LabelModel",
      "state": {
       "_model_module_version": "~2.0.27",
       "_view_module_version": "~2.0.27",
       "layout": "IPY_MODEL_dcf749ba0b4f4a1da72d9b62565b9322",
       "value": "$e=mc^2$"
      }
     },
     "1d5233615c254fa3a520ba526a43038e": {
      "model_module": "jupyter-js-widgets",
      "model_module_version": "~2.0.27",
      "model_name": "HBoxModel",
      "state": {
       "_model_module_version": "~2.0.27",
       "_view_module_version": "~2.0.27",
       "children": [
        "IPY_MODEL_400885a0f1cc423a8f7d3cbf8cbfd8ac",
        "IPY_MODEL_e2680b2b0b5b42ed86cac65aaeea161e"
       ],
       "layout": "IPY_MODEL_d291b653e4b8420190a144ee9874211f"
      }
     },
     "1e04eaa1fd37444a8f9c1d5177644f4c": {
      "model_module": "jupyter-js-widgets",
      "model_module_version": "~2.0.27",
      "model_name": "LayoutModel",
      "state": {
       "_model_module_version": "~2.0.27",
       "_view_module_version": "~2.0.27"
      }
     },
     "1e3700f0f8dc41189dbb5f9c798ba4c2": {
      "model_module": "jupyter-js-widgets",
      "model_module_version": "*",
      "model_name": "ButtonStyleModel",
      "state": {
       "_model_module_version": "*",
       "_view_module_version": "*",
       "_view_name": "StyleView",
       "button_color": null
      }
     },
     "1ece95b1de124177bf5f512a19afd2b7": {
      "model_module": "jupyter-js-widgets",
      "model_module_version": "*",
      "model_name": "ButtonStyleModel",
      "state": {
       "_model_module_version": "*",
       "_view_module_version": "*",
       "_view_name": "StyleView",
       "button_color": null
      }
     },
     "1f4f1f34eb014cb3aad520fb38201d5d": {
      "model_module": "jupyter-js-widgets",
      "model_module_version": "~2.0.27",
      "model_name": "ButtonModel",
      "state": {
       "_model_module_version": "~2.0.27",
       "_view_module_version": "~2.0.27",
       "button_style": "warning",
       "layout": "IPY_MODEL_ba792b5822ca48d9a5dba7fb4463e518",
       "style": "IPY_MODEL_d8f54f952cb24ab49b002d1bb75e45be"
      }
     },
     "1f93bd2e7e454105abf207621c643489": {
      "model_module": "jupyter-js-widgets",
      "model_module_version": "*",
      "model_name": "ButtonStyleModel",
      "state": {
       "_model_module_version": "*",
       "_view_module_version": "*",
       "_view_name": "StyleView",
       "button_color": null
      }
     },
     "201d33e456b940e6a7392e882623726b": {
      "model_module": "jupyter-js-widgets",
      "model_module_version": "~2.0.27",
      "model_name": "ButtonModel",
      "state": {
       "_model_module_version": "~2.0.27",
       "_view_module_version": "~2.0.27",
       "button_style": "danger",
       "description": "staple",
       "layout": "IPY_MODEL_c54000fc571c429ea70bedea34247df1",
       "style": "IPY_MODEL_9c48975bbd32408f936c961f44f74cb2"
      }
     },
     "208d95ab63ee423bbbe195992e733545": {
      "model_module": "jupyter-js-widgets",
      "model_module_version": "*",
      "model_name": "ButtonStyleModel",
      "state": {
       "_model_module_version": "*",
       "_view_module_version": "*",
       "_view_name": "StyleView",
       "button_color": null
      }
     },
     "20903f5a4e4442158c9706c2cb0f254f": {
      "model_module": "jupyter-js-widgets",
      "model_module_version": "~2.0.27",
      "model_name": "BoxModel",
      "state": {
       "_model_module_version": "~2.0.27",
       "_view_module_version": "~2.0.27",
       "children": [
        "IPY_MODEL_0fd1e67cad10499a85ed067ec8bab8b2",
        "IPY_MODEL_92de5ffad26a4c60bfd825df82a6b7f9"
       ],
       "layout": "IPY_MODEL_a0f42a94bb78487ba88f1380a063035f"
      }
     },
     "216520da0ddc41eb9b4eef38655fd06a": {
      "model_module": "jupyter-js-widgets",
      "model_module_version": "~2.0.27",
      "model_name": "LayoutModel",
      "state": {
       "_model_module_version": "~2.0.27",
       "_view_module_version": "~2.0.27"
      }
     },
     "21c82a8c2d754c3b9f99c3ae91ef4dbc": {
      "model_module": "jupyter-js-widgets",
      "model_module_version": "*",
      "model_name": "ButtonStyleModel",
      "state": {
       "_model_module_version": "*",
       "_view_module_version": "*",
       "_view_name": "StyleView",
       "button_color": null
      }
     },
     "2272622327da4d129e2edd9d35a0fb6a": {
      "model_module": "jupyter-js-widgets",
      "model_module_version": "~2.0.27",
      "model_name": "BoxModel",
      "state": {
       "_model_module_version": "~2.0.27",
       "_view_module_version": "~2.0.27",
       "children": [
        "IPY_MODEL_fc0a955a226a44d0ac357b9901c37343",
        "IPY_MODEL_cc66ed4e312146b8b16846cd46dcb242",
        "IPY_MODEL_f04130e66f6046aba23243ecca104834"
       ],
       "layout": "IPY_MODEL_ded2f20e6b474890bf3e2fca24b4946c"
      }
     },
     "22d67a5e987d45b6b73239e88b4d157e": {
      "model_module": "jupyter-js-widgets",
      "model_module_version": "*",
      "model_name": "ButtonStyleModel",
      "state": {
       "_model_module_version": "*",
       "_view_module_version": "*",
       "_view_name": "StyleView",
       "button_color": null
      }
     },
     "23b390414f0d494587f31fbfdd78f282": {
      "model_module": "jupyter-js-widgets",
      "model_module_version": "~2.0.27",
      "model_name": "ButtonModel",
      "state": {
       "_model_module_version": "~2.0.27",
       "_view_module_version": "~2.0.27",
       "description": "Custom color",
       "layout": "IPY_MODEL_789ff84ceab5401ca81a7681851451ea",
       "style": "IPY_MODEL_ac1e2d88eea34992b6e54d2e3380e913"
      }
     },
     "23e95f2ddcd5491eb17f9fa24a17c660": {
      "model_module": "jupyter-js-widgets",
      "model_module_version": "*",
      "model_name": "ButtonStyleModel",
      "state": {
       "_model_module_version": "*",
       "_view_module_version": "*",
       "_view_name": "StyleView",
       "button_color": null
      }
     },
     "2558e79c2ae749e49ca9c2b6826ef900": {
      "model_module": "jupyter-js-widgets",
      "model_module_version": "~2.0.27",
      "model_name": "ButtonModel",
      "state": {
       "_model_module_version": "~2.0.27",
       "_view_module_version": "~2.0.27",
       "button_style": "warning",
       "layout": "IPY_MODEL_59851902a66c47a9909da8a58cdaee24",
       "style": "IPY_MODEL_092dfaaa27db410581aa229e19b82092"
      }
     },
     "2581445dcfcf4fa8aabbba38e35b14ad": {
      "model_module": "jupyter-js-widgets",
      "model_module_version": "~2.0.27",
      "model_name": "ButtonModel",
      "state": {
       "_model_module_version": "~2.0.27",
       "_view_module_version": "~2.0.27",
       "button_style": "warning",
       "layout": "IPY_MODEL_b569bd266374470c9ba88ddd2531bcf9",
       "style": "IPY_MODEL_5c06e231eab54cf9bc809bdc5c5d8dd4"
      }
     },
     "2612ff68e0e245bbb0a8677b264605ed": {
      "model_module": "jupyter-js-widgets",
      "model_module_version": "*",
      "model_name": "ButtonStyleModel",
      "state": {
       "_model_module_version": "*",
       "_view_module_version": "*",
       "_view_name": "StyleView",
       "button_color": null
      }
     },
     "2660c2168e8440bfa3ca9e95d3a577bf": {
      "model_module": "jupyter-js-widgets",
      "model_module_version": "*",
      "model_name": "ButtonStyleModel",
      "state": {
       "_model_module_version": "*",
       "_view_module_version": "*",
       "_view_name": "StyleView",
       "button_color": null
      }
     },
     "267621babccb4794abc7054e6568c5ef": {
      "model_module": "jupyter-js-widgets",
      "model_module_version": "~2.0.27",
      "model_name": "ButtonModel",
      "state": {
       "_model_module_version": "~2.0.27",
       "_view_module_version": "~2.0.27",
       "button_style": "warning",
       "layout": "IPY_MODEL_59851902a66c47a9909da8a58cdaee24",
       "style": "IPY_MODEL_413ba695a4094e8aa215bb5122ded1a4"
      }
     },
     "26ad326297ba4ad4ba9b6ecc95ec0d40": {
      "model_module": "jupyter-js-widgets",
      "model_module_version": "~2.0.27",
      "model_name": "ButtonModel",
      "state": {
       "_model_module_version": "~2.0.27",
       "_view_module_version": "~2.0.27",
       "button_style": "warning",
       "layout": "IPY_MODEL_b569bd266374470c9ba88ddd2531bcf9",
       "style": "IPY_MODEL_98c50b873bcd4c288cb8e27a567183e8"
      }
     },
     "27283f6ebf074e2591bc1bc17a09248b": {
      "model_module": "jupyter-js-widgets",
      "model_module_version": "~2.0.27",
      "model_name": "ButtonModel",
      "state": {
       "_model_module_version": "~2.0.27",
       "_view_module_version": "~2.0.27",
       "description": "weight=1",
       "layout": "IPY_MODEL_bb04b70e46854451b2743476a5e4fa4e",
       "style": "IPY_MODEL_f71f6f22e6fd4f87946c8f7f29625466"
      }
     },
     "272ab82400304dccb714f550e6ef97e0": {
      "model_module": "jupyter-js-widgets",
      "model_module_version": "~2.0.27",
      "model_name": "HBoxModel",
      "state": {
       "_model_module_version": "~2.0.27",
       "_view_module_version": "~2.0.27",
       "children": [
        "IPY_MODEL_5d3db538677e4796a96d2241fc0eada2",
        "IPY_MODEL_528d60d5da6a466f9e38b2c854ba767e"
       ],
       "layout": "IPY_MODEL_e4b9d9c6dff64079b1401ac68918fae9"
      }
     },
     "276570ebbc0144e6be11f2ceeab8d49b": {
      "model_module": "jupyter-js-widgets",
      "model_module_version": "~2.0.27",
      "model_name": "BoxModel",
      "state": {
       "_model_module_version": "~2.0.27",
       "_view_module_version": "~2.0.27",
       "children": [
        "IPY_MODEL_4dfeafc4962747e5921c44a6f36e823c",
        "IPY_MODEL_39b34a47a7a54513bd895948d3e980e9",
        "IPY_MODEL_6ff84eaf7f994904aa812a378836e310",
        "IPY_MODEL_18cb5f09550c4220a281b0f6e6e04aab"
       ],
       "layout": "IPY_MODEL_93bd51cda7454777bbccec8d7809998c"
      }
     },
     "284fe78a26a841fcb103aa7896148cac": {
      "model_module": "jupyter-js-widgets",
      "model_module_version": "~2.0.27",
      "model_name": "LayoutModel",
      "state": {
       "_model_module_version": "~2.0.27",
       "_view_module_version": "~2.0.27"
      }
     },
     "28e486b290ae427dac6ef48116bfb3c0": {
      "model_module": "jupyter-js-widgets",
      "model_module_version": "*",
      "model_name": "ButtonStyleModel",
      "state": {
       "_model_module_version": "*",
       "_view_module_version": "*",
       "_view_name": "StyleView",
       "button_color": null
      }
     },
     "29cc7f79176a4e18b1653b2fa327eaff": {
      "model_module": "jupyter-js-widgets",
      "model_module_version": "~2.0.27",
      "model_name": "LayoutModel",
      "state": {
       "_model_module_version": "~2.0.27",
       "_view_module_version": "~2.0.27"
      }
     },
     "2a6809421f474fa5bd26d3ed0a498af2": {
      "model_module": "jupyter-js-widgets",
      "model_module_version": "~2.0.27",
      "model_name": "LayoutModel",
      "state": {
       "_model_module_version": "~2.0.27",
       "_view_module_version": "~2.0.27",
       "flex": "2 1 auto",
       "width": "auto"
      }
     },
     "2b9c5ae38d6542e0895aed45ccf6e1c2": {
      "model_module": "jupyter-js-widgets",
      "model_module_version": "*",
      "model_name": "ButtonStyleModel",
      "state": {
       "_model_module_version": "*",
       "_view_module_version": "*",
       "_view_name": "StyleView",
       "button_color": null
      }
     },
     "2bf04d006db143ef90f49d0698a25a96": {
      "model_module": "jupyter-js-widgets",
      "model_module_version": "~2.0.27",
      "model_name": "ButtonModel",
      "state": {
       "_model_module_version": "~2.0.27",
       "_view_module_version": "~2.0.27",
       "button_style": "danger",
       "description": "correct",
       "layout": "IPY_MODEL_65618a75f76242c1a2eef0aa71400b58",
       "style": "IPY_MODEL_c17558a950594ac5a371f12adf9ead9a"
      }
     },
     "2c3bd11852b7461ba49f21937460cf5e": {
      "model_module": "jupyter-js-widgets",
      "model_module_version": "~2.0.27",
      "model_name": "ButtonModel",
      "state": {
       "_model_module_version": "~2.0.27",
       "_view_module_version": "~2.0.27",
       "button_style": "warning",
       "layout": "IPY_MODEL_59851902a66c47a9909da8a58cdaee24",
       "style": "IPY_MODEL_4573a881c95f48e99745f11d16ee0902"
      }
     },
     "2dbad5a169c64b619b3f16244eef6f69": {
      "model_module": "jupyter-js-widgets",
      "model_module_version": "~2.0.27",
      "model_name": "ButtonModel",
      "state": {
       "_model_module_version": "~2.0.27",
       "_view_module_version": "~2.0.27",
       "button_style": "warning",
       "layout": "IPY_MODEL_59851902a66c47a9909da8a58cdaee24",
       "style": "IPY_MODEL_0448dd300fbc4756bb8b8a1a1b602ff8"
      }
     },
     "2e36fb1e422640ab95899e230ffa64f2": {
      "model_module": "jupyter-js-widgets",
      "model_module_version": "~2.0.27",
      "model_name": "BoxModel",
      "state": {
       "_model_module_version": "~2.0.27",
       "_view_module_version": "~2.0.27",
       "children": [
        "IPY_MODEL_7e21df20a7fb4443981e6daad0358d7f",
        "IPY_MODEL_62d6e51573cf414fbf3067e597f809d4",
        "IPY_MODEL_6111124d3e0b49978612adbfb3cf91d6"
       ],
       "layout": "IPY_MODEL_c23915c40a4b43b18202e71b07045875"
      }
     },
     "2e54a008b982409fa4edf9b69e2f8e69": {
      "model_module": "jupyter-js-widgets",
      "model_module_version": "~2.0.27",
      "model_name": "BoxModel",
      "state": {
       "_model_module_version": "~2.0.27",
       "_view_module_version": "~2.0.27",
       "children": [
        "IPY_MODEL_fbb6a48707e44d78bea7506a5621605d",
        "IPY_MODEL_37405c2ae792453d8ca5af06592a7f4d"
       ],
       "layout": "IPY_MODEL_13c44d858ea34597a299280e48c2a13b"
      }
     },
     "2efd42f4a81b416eb812762870c2363e": {
      "model_module": "jupyter-js-widgets",
      "model_module_version": "*",
      "model_name": "SliderStyleModel",
      "state": {
       "_model_module_version": "*",
       "_view_module_version": "*",
       "_view_name": "StyleView",
       "handle_color": null
      }
     },
     "2f498e7ad9e54927936e522fbe309e86": {
      "model_module": "jupyter-js-widgets",
      "model_module_version": "~2.0.27",
      "model_name": "BoxModel",
      "state": {
       "_model_module_version": "~2.0.27",
       "_view_module_version": "~2.0.27",
       "children": [
        "IPY_MODEL_07ad74bf73ed4572a10c10d20ba7ac86",
        "IPY_MODEL_529b67f711344d43b75bafda85346f36"
       ],
       "layout": "IPY_MODEL_a0f42a94bb78487ba88f1380a063035f"
      }
     },
     "303457828871432ca35fcbbcc8a2dbc0": {
      "model_module": "jupyter-js-widgets",
      "model_module_version": "~2.0.27",
      "model_name": "BoxModel",
      "state": {
       "_model_module_version": "~2.0.27",
       "_view_module_version": "~2.0.27",
       "children": [
        "IPY_MODEL_6c704f74e47f4b9d98fd5b7e95aefa18",
        "IPY_MODEL_fa499ab526ad467692ecc0248994c8a1"
       ],
       "layout": "IPY_MODEL_a0f42a94bb78487ba88f1380a063035f"
      }
     },
     "30a9d93c03884502ba20b33263991f6f": {
      "model_module": "jupyter-js-widgets",
      "model_module_version": "*",
      "model_name": "ButtonStyleModel",
      "state": {
       "_model_module_version": "*",
       "_view_module_version": "*",
       "_view_name": "StyleView",
       "button_color": null
      }
     },
     "32c25ba63d954b24af1934ac70d0d55a": {
      "model_module": "jupyter-js-widgets",
      "model_module_version": "*",
      "model_name": "ButtonStyleModel",
      "state": {
       "_model_module_version": "*",
       "_view_module_version": "*",
       "_view_name": "StyleView",
       "button_color": null
      }
     },
     "33dbfd66c1ae41b1b91f5b0ed8c42964": {
      "model_module": "jupyter-js-widgets",
      "model_module_version": "~2.0.27",
      "model_name": "ButtonModel",
      "state": {
       "_model_module_version": "~2.0.27",
       "_view_module_version": "~2.0.27",
       "button_style": "warning",
       "layout": "IPY_MODEL_b569bd266374470c9ba88ddd2531bcf9",
       "style": "IPY_MODEL_cf70bf9b22434648be98831cd6ca014d"
      }
     },
     "33fd8bb596a74164902515269086273a": {
      "model_module": "jupyter-js-widgets",
      "model_module_version": "~2.0.27",
      "model_name": "ButtonModel",
      "state": {
       "_model_module_version": "~2.0.27",
       "_view_module_version": "~2.0.27",
       "button_style": "warning",
       "layout": "IPY_MODEL_59851902a66c47a9909da8a58cdaee24",
       "style": "IPY_MODEL_5409774ca8864fe68c47a1de8872604d"
      }
     },
     "345094010c97490c8bf00e30bf572da1": {
      "model_module": "jupyter-js-widgets",
      "model_module_version": "*",
      "model_name": "ButtonStyleModel",
      "state": {
       "_model_module_version": "*",
       "_view_module_version": "*",
       "_view_name": "StyleView",
       "button_color": null
      }
     },
     "34f297dc60a946688c955f489eda1ff7": {
      "model_module": "jupyter-js-widgets",
      "model_module_version": "~2.0.27",
      "model_name": "ButtonModel",
      "state": {
       "_model_module_version": "~2.0.27",
       "_view_module_version": "~2.0.27",
       "button_style": "warning",
       "layout": "IPY_MODEL_59851902a66c47a9909da8a58cdaee24",
       "style": "IPY_MODEL_0fd8283bd5f5458aba9085ed8e0a053a"
      }
     },
     "3519bc9f93a94341adb1907c7487da56": {
      "model_module": "jupyter-js-widgets",
      "model_module_version": "~2.0.27",
      "model_name": "LayoutModel",
      "state": {
       "_model_module_version": "~2.0.27",
       "_view_module_version": "~2.0.27"
      }
     },
     "35869269d1034d979b90801c4dbb454e": {
      "model_module": "jupyter-js-widgets",
      "model_module_version": "~2.0.27",
      "model_name": "ButtonModel",
      "state": {
       "_model_module_version": "~2.0.27",
       "_view_module_version": "~2.0.27",
       "button_style": "danger",
       "description": "Danger Button",
       "layout": "IPY_MODEL_fb53bdec27b14a51b4571e10d1b476f5",
       "style": "IPY_MODEL_c83788f9bb8b46058c81e400e00ef0f0"
      }
     },
     "35a2a09dce78475188ad953ddd347fdd": {
      "model_module": "jupyter-js-widgets",
      "model_module_version": "~2.0.27",
      "model_name": "ButtonModel",
      "state": {
       "_model_module_version": "~2.0.27",
       "_view_module_version": "~2.0.27",
       "button_style": "danger",
       "description": "Danger Button",
       "layout": "IPY_MODEL_befdf54dc5434b6e81acc705efed4b36",
       "style": "IPY_MODEL_a94687aba9084241884cd7c6de64586b"
      }
     },
     "35af09998d1749e99b2426be96492675": {
      "model_module": "jupyter-js-widgets",
      "model_module_version": "*",
      "model_name": "ButtonStyleModel",
      "state": {
       "_model_module_version": "*",
       "_view_module_version": "*",
       "_view_name": "StyleView",
       "button_color": null
      }
     },
     "362e3c9082b04c3fa088dd1b1c95ad38": {
      "model_module": "jupyter-js-widgets",
      "model_module_version": "~2.0.27",
      "model_name": "ButtonModel",
      "state": {
       "_model_module_version": "~2.0.27",
       "_view_module_version": "~2.0.27",
       "button_style": "warning",
       "layout": "IPY_MODEL_ba792b5822ca48d9a5dba7fb4463e518",
       "style": "IPY_MODEL_8451093f159a4759851d9dcc2abaee59"
      }
     },
     "36d87787b4754197803ac936aef1630c": {
      "model_module": "jupyter-js-widgets",
      "model_module_version": "*",
      "model_name": "ButtonStyleModel",
      "state": {
       "_model_module_version": "*",
       "_view_module_version": "*",
       "_view_name": "StyleView",
       "button_color": null
      }
     },
     "37405c2ae792453d8ca5af06592a7f4d": {
      "model_module": "jupyter-js-widgets",
      "model_module_version": "~2.0.27",
      "model_name": "TextareaModel",
      "state": {
       "_model_module_version": "~2.0.27",
       "_view_module_version": "~2.0.27",
       "layout": "IPY_MODEL_9009dded7668449cbbdebb9445183a46"
      }
     },
     "37418a6cd8604da0a7b84d2f9d139ae3": {
      "model_module": "jupyter-js-widgets",
      "model_module_version": "~2.0.27",
      "model_name": "LayoutModel",
      "state": {
       "_model_module_version": "~2.0.27",
       "_view_module_version": "~2.0.27"
      }
     },
     "37478a52ddaa403285f013a14ad5455e": {
      "model_module": "jupyter-js-widgets",
      "model_module_version": "~2.0.27",
      "model_name": "IntSliderModel",
      "state": {
       "_model_module_version": "~2.0.27",
       "_view_module_version": "~2.0.27",
       "description": "colored_slider",
       "layout": "IPY_MODEL_ff9487e7234846c882895b868508eb5f",
       "style": "IPY_MODEL_f23d45f3d87a4c55bfd66fb1e98a9166",
       "value": 66
      }
     },
     "3789ec4663c247dd9ea7782572f0a47e": {
      "model_module": "jupyter-js-widgets",
      "model_module_version": "*",
      "model_name": "ButtonStyleModel",
      "state": {
       "_model_module_version": "*",
       "_view_module_version": "*",
       "_view_name": "StyleView",
       "button_color": null
      }
     },
     "3859c5fcb56e4a8096ad325903e49430": {
      "model_module": "jupyter-js-widgets",
      "model_module_version": "~2.0.27",
      "model_name": "ButtonModel",
      "state": {
       "_model_module_version": "~2.0.27",
       "_view_module_version": "~2.0.27",
       "button_style": "warning",
       "layout": "IPY_MODEL_ba792b5822ca48d9a5dba7fb4463e518",
       "style": "IPY_MODEL_566b77ac922847ab81dd8f1a84770695"
      }
     },
     "386fcdaa22884a868915ca6292f021d8": {
      "model_module": "jupyter-js-widgets",
      "model_module_version": "*",
      "model_name": "ButtonStyleModel",
      "state": {
       "_model_module_version": "*",
       "_view_module_version": "*",
       "_view_name": "StyleView",
       "button_color": null
      }
     },
     "38f443ef27364d9a928f6f124a658037": {
      "model_module": "jupyter-js-widgets",
      "model_module_version": "*",
      "model_name": "ButtonStyleModel",
      "state": {
       "_model_module_version": "*",
       "_view_module_version": "*",
       "_view_name": "StyleView",
       "button_color": null
      }
     },
     "39b34a47a7a54513bd895948d3e980e9": {
      "model_module": "jupyter-js-widgets",
      "model_module_version": "~2.0.27",
      "model_name": "ButtonModel",
      "state": {
       "_model_module_version": "~2.0.27",
       "_view_module_version": "~2.0.27",
       "button_style": "danger",
       "description": "horse",
       "layout": "IPY_MODEL_bd4b1f2cc45c47908587f70a8b3d2c5e",
       "style": "IPY_MODEL_d306325fda2145278d64077abb743455"
      }
     },
     "3a856bd14f9444e180adae4c7fbf7af9": {
      "model_module": "jupyter-js-widgets",
      "model_module_version": "*",
      "model_name": "ButtonStyleModel",
      "state": {
       "_model_module_version": "*",
       "_view_module_version": "*",
       "_view_name": "StyleView",
       "button_color": null
      }
     },
     "3aad109b65714432b3a5104104b89a8d": {
      "model_module": "jupyter-js-widgets",
      "model_module_version": "~2.0.27",
      "model_name": "VBoxModel",
      "state": {
       "_model_module_version": "~2.0.27",
       "_view_module_version": "~2.0.27",
       "children": [
        "IPY_MODEL_6974cf094ab0418a94f5ff250c526586",
        "IPY_MODEL_8aeb48a6a9e44bbf9c36ba73482042ad"
       ],
       "layout": "IPY_MODEL_7c7d92d98e2c41c6b32c6ecfad7bd780"
      }
     },
     "3aed270f28f6406987c5377d71453d7d": {
      "model_module": "jupyter-js-widgets",
      "model_module_version": "*",
      "model_name": "ButtonStyleModel",
      "state": {
       "_model_module_version": "*",
       "_view_module_version": "*",
       "_view_name": "StyleView",
       "button_color": null
      }
     },
     "3b41cd1e64a344e5bdcc423658049967": {
      "model_module": "jupyter-js-widgets",
      "model_module_version": "~2.0.27",
      "model_name": "ButtonModel",
      "state": {
       "_model_module_version": "~2.0.27",
       "_view_module_version": "~2.0.27",
       "button_style": "warning",
       "layout": "IPY_MODEL_ba792b5822ca48d9a5dba7fb4463e518",
       "style": "IPY_MODEL_8de1da17978b41fa8009af27c9424f79"
      }
     },
     "3cb00a973ee945cab3e5ba474f009c2d": {
      "model_module": "jupyter-js-widgets",
      "model_module_version": "~2.0.27",
      "model_name": "ButtonModel",
      "state": {
       "_model_module_version": "~2.0.27",
       "_view_module_version": "~2.0.27",
       "button_style": "warning",
       "layout": "IPY_MODEL_59851902a66c47a9909da8a58cdaee24",
       "style": "IPY_MODEL_14db813d1ce34bdfabb3a2a8966422c1"
      }
     },
     "3d332995c2bc4992a234a2e4edd147ef": {
      "model_module": "jupyter-js-widgets",
      "model_module_version": "~2.0.27",
      "model_name": "ButtonModel",
      "state": {
       "_model_module_version": "~2.0.27",
       "_view_module_version": "~2.0.27",
       "button_style": "warning",
       "layout": "IPY_MODEL_ba792b5822ca48d9a5dba7fb4463e518",
       "style": "IPY_MODEL_78f5380331c54bd494cdc91b0642ce05"
      }
     },
     "3d462aa64e724d2199880da199c32436": {
      "model_module": "jupyter-js-widgets",
      "model_module_version": "~2.0.27",
      "model_name": "LayoutModel",
      "state": {
       "_model_module_version": "~2.0.27",
       "_view_module_version": "~2.0.27",
       "flex": "2 1 auto",
       "width": "auto"
      }
     },
     "3dead7f28aab4d8ca5fd285caf63e38b": {
      "model_module": "jupyter-js-widgets",
      "model_module_version": "~2.0.27",
      "model_name": "ButtonModel",
      "state": {
       "_model_module_version": "~2.0.27",
       "_view_module_version": "~2.0.27",
       "button_style": "warning",
       "layout": "IPY_MODEL_59851902a66c47a9909da8a58cdaee24",
       "style": "IPY_MODEL_9503fc7f72584531a718b7af85844d90"
      }
     },
     "3e099bdd898345db89f3a67f16c0e4ca": {
      "model_module": "jupyter-js-widgets",
      "model_module_version": "~2.0.27",
      "model_name": "LabelModel",
      "state": {
       "_model_module_version": "~2.0.27",
       "_view_module_version": "~2.0.27",
       "layout": "IPY_MODEL_0fac3274bcfe4068bff9e2f1e510b5df",
       "value": "Scroll horizontally:"
      }
     },
     "3e684b5952b8439ba96b4758e7a24d83": {
      "model_module": "jupyter-js-widgets",
      "model_module_version": "~2.0.27",
      "model_name": "LayoutModel",
      "state": {
       "_model_module_version": "~2.0.27",
       "_view_module_version": "~2.0.27",
       "align_items": "stretch",
       "border": "solid",
       "display": "flex",
       "flex_flow": "column",
       "width": "50%"
      }
     },
     "3e85bccdb0de4e3b9323289cc24a83f2": {
      "model_module": "jupyter-js-widgets",
      "model_module_version": "*",
      "model_name": "ButtonStyleModel",
      "state": {
       "_model_module_version": "*",
       "_view_module_version": "*",
       "_view_name": "StyleView",
       "button_color": null
      }
     },
     "3e8ee747c25541b29a2d4571dafb0d9f": {
      "model_module": "jupyter-js-widgets",
      "model_module_version": "*",
      "model_name": "ButtonStyleModel",
      "state": {
       "_model_module_version": "*",
       "_view_module_version": "*",
       "_view_name": "StyleView",
       "button_color": null
      }
     },
     "400885a0f1cc423a8f7d3cbf8cbfd8ac": {
      "model_module": "jupyter-js-widgets",
      "model_module_version": "~2.0.27",
      "model_name": "VBoxModel",
      "state": {
       "_model_module_version": "~2.0.27",
       "_view_module_version": "~2.0.27",
       "children": [
        "IPY_MODEL_5ba7fe8bd98343caae5f74857d1e2867",
        "IPY_MODEL_8e2322aed0ed45f081a1163e0523943e"
       ],
       "layout": "IPY_MODEL_ff0f9dd815b2482dbe99b67125603ebb"
      }
     },
     "4035dcdf914e41e68f0db0375cddfab1": {
      "model_module": "jupyter-js-widgets",
      "model_module_version": "*",
      "model_name": "ButtonStyleModel",
      "state": {
       "_model_module_version": "*",
       "_view_module_version": "*",
       "_view_name": "StyleView",
       "button_color": null
      }
     },
     "413ba695a4094e8aa215bb5122ded1a4": {
      "model_module": "jupyter-js-widgets",
      "model_module_version": "*",
      "model_name": "ButtonStyleModel",
      "state": {
       "_model_module_version": "*",
       "_view_module_version": "*",
       "_view_name": "StyleView",
       "button_color": null
      }
     },
     "41b24d5423a448d799493ea51e07677b": {
      "model_module": "jupyter-js-widgets",
      "model_module_version": "~2.0.27",
      "model_name": "ButtonModel",
      "state": {
       "_model_module_version": "~2.0.27",
       "_view_module_version": "~2.0.27",
       "button_style": "warning",
       "layout": "IPY_MODEL_b569bd266374470c9ba88ddd2531bcf9",
       "style": "IPY_MODEL_574fd36131ad4727bc5f34c9a5f0027b"
      }
     },
     "4485478a41ab4399a02d37d01217dbef": {
      "model_module": "jupyter-js-widgets",
      "model_module_version": "*",
      "model_name": "SliderStyleModel",
      "state": {
       "_model_module_version": "*",
       "_view_module_version": "*",
       "_view_name": "StyleView",
       "handle_color": "lightblue"
      }
     },
     "44bf925da7e449968ba1def4932d9dea": {
      "model_module": "jupyter-js-widgets",
      "model_module_version": "*",
      "model_name": "ButtonStyleModel",
      "state": {
       "_model_module_version": "*",
       "_view_module_version": "*",
       "_view_name": "StyleView",
       "button_color": null
      }
     },
     "45311ff85bc848e4940a55cb02b71641": {
      "model_module": "jupyter-js-widgets",
      "model_module_version": "~2.0.27",
      "model_name": "ButtonModel",
      "state": {
       "_model_module_version": "~2.0.27",
       "_view_module_version": "~2.0.27",
       "button_style": "warning",
       "layout": "IPY_MODEL_b569bd266374470c9ba88ddd2531bcf9",
       "style": "IPY_MODEL_dd865919ebfd4062b4e39a5e262c7f7a"
      }
     },
     "4573a881c95f48e99745f11d16ee0902": {
      "model_module": "jupyter-js-widgets",
      "model_module_version": "*",
      "model_name": "ButtonStyleModel",
      "state": {
       "_model_module_version": "*",
       "_view_module_version": "*",
       "_view_name": "StyleView",
       "button_color": null
      }
     },
     "46ca9e9e78da4068b2225805dcfe054c": {
      "model_module": "jupyter-js-widgets",
      "model_module_version": "~2.0.27",
      "model_name": "LabelModel",
      "state": {
       "_model_module_version": "~2.0.27",
       "_view_module_version": "~2.0.27",
       "layout": "IPY_MODEL_7f3c8358f46b4883aa07464da59780e2",
       "value": "Age of the captain"
      }
     },
     "47311c6bd2724a4cbecc6722788aa2cb": {
      "model_module": "jupyter-js-widgets",
      "model_module_version": "~2.0.27",
      "model_name": "ButtonModel",
      "state": {
       "_model_module_version": "~2.0.27",
       "_view_module_version": "~2.0.27",
       "button_style": "warning",
       "layout": "IPY_MODEL_b569bd266374470c9ba88ddd2531bcf9",
       "style": "IPY_MODEL_35af09998d1749e99b2426be96492675"
      }
     },
     "4780da76ebea4ef18c76fa9b023cfb19": {
      "model_module": "jupyter-js-widgets",
      "model_module_version": "*",
      "model_name": "SliderStyleModel",
      "state": {
       "_model_module_version": "*",
       "_view_module_version": "*",
       "_view_name": "StyleView",
       "handle_color": null
      }
     },
     "47bfd62f4bd348668e82a80db6a1a298": {
      "model_module": "jupyter-js-widgets",
      "model_module_version": "*",
      "model_name": "ButtonStyleModel",
      "state": {
       "_model_module_version": "*",
       "_view_module_version": "*",
       "_view_name": "StyleView",
       "button_color": null
      }
     },
     "47fdd067fd2d4942b642a9b46acb77f6": {
      "model_module": "jupyter-js-widgets",
      "model_module_version": "*",
      "model_name": "ButtonStyleModel",
      "state": {
       "_model_module_version": "*",
       "_view_module_version": "*",
       "_view_name": "StyleView",
       "button_color": null
      }
     },
     "482850a2927f48a984296c93f265c24f": {
      "model_module": "jupyter-js-widgets",
      "model_module_version": "~2.0.27",
      "model_name": "ButtonModel",
      "state": {
       "_model_module_version": "~2.0.27",
       "_view_module_version": "~2.0.27",
       "button_style": "warning",
       "layout": "IPY_MODEL_b569bd266374470c9ba88ddd2531bcf9",
       "style": "IPY_MODEL_630dbcdb88254448bd384a5f79d646a0"
      }
     },
     "4836f2c1321c4b6f90e2df12b88c98da": {
      "model_module": "jupyter-js-widgets",
      "model_module_version": "*",
      "model_name": "ButtonStyleModel",
      "state": {
       "_model_module_version": "*",
       "_view_module_version": "*",
       "_view_name": "StyleView",
       "button_color": null
      }
     },
     "48927083b5d64d6f8931e5396b3805d2": {
      "model_module": "jupyter-js-widgets",
      "model_module_version": "~2.0.27",
      "model_name": "LabelModel",
      "state": {
       "_model_module_version": "~2.0.27",
       "_view_module_version": "~2.0.27",
       "layout": "IPY_MODEL_dbfd1a9881574aebbcb0b4edc9756789",
       "value": "$e=mc^2$"
      }
     },
     "493de02562c94072816564c46e550f95": {
      "model_module": "jupyter-js-widgets",
      "model_module_version": "~2.0.27",
      "model_name": "LabelModel",
      "state": {
       "_model_module_version": "~2.0.27",
       "_view_module_version": "~2.0.27",
       "layout": "IPY_MODEL_63bddadaa16d41f7a6a7211d67951c02",
       "value": "Ship size"
      }
     },
     "4a1870c587ed4a95ad22419413a891f4": {
      "model_module": "jupyter-js-widgets",
      "model_module_version": "~2.0.27",
      "model_name": "LayoutModel",
      "state": {
       "_model_module_version": "~2.0.27",
       "_view_module_version": "~2.0.27"
      }
     },
     "4b5e698d9e5c442a90b9f35bdb541443": {
      "model_module": "jupyter-js-widgets",
      "model_module_version": "*",
      "model_name": "ButtonStyleModel",
      "state": {
       "_model_module_version": "*",
       "_view_module_version": "*",
       "_view_name": "StyleView",
       "button_color": null
      }
     },
     "4c15741cfd8a474790a110aae4c9aee1": {
      "model_module": "jupyter-js-widgets",
      "model_module_version": "~2.0.27",
      "model_name": "LayoutModel",
      "state": {
       "_model_module_version": "~2.0.27",
       "_view_module_version": "~2.0.27"
      }
     },
     "4c2874e122f14b54833a49e45cbb4ce7": {
      "model_module": "jupyter-js-widgets",
      "model_module_version": "~2.0.27",
      "model_name": "LayoutModel",
      "state": {
       "_model_module_version": "~2.0.27",
       "_view_module_version": "~2.0.27"
      }
     },
     "4d5c445d0e0a40ddb609828da433d112": {
      "model_module": "jupyter-js-widgets",
      "model_module_version": "~2.0.27",
      "model_name": "ButtonModel",
      "state": {
       "_model_module_version": "~2.0.27",
       "_view_module_version": "~2.0.27",
       "button_style": "warning",
       "layout": "IPY_MODEL_59851902a66c47a9909da8a58cdaee24",
       "style": "IPY_MODEL_4035dcdf914e41e68f0db0375cddfab1"
      }
     },
     "4d61c221bc7f4ab0b2ad54bf205edcc8": {
      "model_module": "jupyter-js-widgets",
      "model_module_version": "*",
      "model_name": "ButtonStyleModel",
      "state": {
       "_model_module_version": "*",
       "_view_module_version": "*",
       "_view_name": "StyleView",
       "button_color": null
      }
     },
     "4d91999a5e614e5f8e33d3deba4761d7": {
      "model_module": "jupyter-js-widgets",
      "model_module_version": "*",
      "model_name": "ButtonStyleModel",
      "state": {
       "_model_module_version": "*",
       "_view_module_version": "*",
       "_view_name": "StyleView",
       "button_color": null
      }
     },
     "4dfeafc4962747e5921c44a6f36e823c": {
      "model_module": "jupyter-js-widgets",
      "model_module_version": "~2.0.27",
      "model_name": "ButtonModel",
      "state": {
       "_model_module_version": "~2.0.27",
       "_view_module_version": "~2.0.27",
       "button_style": "danger",
       "description": "correct",
       "layout": "IPY_MODEL_bd4b1f2cc45c47908587f70a8b3d2c5e",
       "style": "IPY_MODEL_2b9c5ae38d6542e0895aed45ccf6e1c2"
      }
     },
     "4e238a7f367e4c44ab89bb895ce17d9b": {
      "model_module": "jupyter-js-widgets",
      "model_module_version": "~2.0.27",
      "model_name": "LayoutModel",
      "state": {
       "_model_module_version": "~2.0.27",
       "_view_module_version": "~2.0.27"
      }
     },
     "4e530f05a64347e4a6f1482bd9d3bb58": {
      "model_module": "jupyter-js-widgets",
      "model_module_version": "*",
      "model_name": "ButtonStyleModel",
      "state": {
       "_model_module_version": "*",
       "_view_module_version": "*",
       "_view_name": "StyleView",
       "button_color": null
      }
     },
     "4ea3751b8d0541f6a8585fc8053de993": {
      "model_module": "jupyter-js-widgets",
      "model_module_version": "~2.0.27",
      "model_name": "LabelModel",
      "state": {
       "_model_module_version": "~2.0.27",
       "_view_module_version": "~2.0.27",
       "layout": "IPY_MODEL_f1f12ec7b33548e28ddc3921a8af041c",
       "value": "Scroll horizontally:"
      }
     },
     "4ee2397551c9499d81d77cab862f791c": {
      "model_module": "jupyter-js-widgets",
      "model_module_version": "~2.0.27",
      "model_name": "LayoutModel",
      "state": {
       "_model_module_version": "~2.0.27",
       "_view_module_version": "~2.0.27"
      }
     },
     "4f634bb9485548ec8bf99b6ff70e39d7": {
      "model_module": "jupyter-js-widgets",
      "model_module_version": "~2.0.27",
      "model_name": "ButtonModel",
      "state": {
       "_model_module_version": "~2.0.27",
       "_view_module_version": "~2.0.27",
       "button_style": "warning",
       "layout": "IPY_MODEL_ba792b5822ca48d9a5dba7fb4463e518",
       "style": "IPY_MODEL_6f3c4b5c4d314fd09a5ee32a5a997449"
      }
     },
     "505c019c27d740b4bfbfed67a7e67be2": {
      "model_module": "jupyter-js-widgets",
      "model_module_version": "~2.0.27",
      "model_name": "ButtonModel",
      "state": {
       "_model_module_version": "~2.0.27",
       "_view_module_version": "~2.0.27",
       "button_style": "warning",
       "layout": "IPY_MODEL_ba792b5822ca48d9a5dba7fb4463e518",
       "style": "IPY_MODEL_86e59c5ba5ad4e96b3ac099cfb469ddb"
      }
     },
     "508d92f25c4c4410b1de380aba088637": {
      "model_module": "jupyter-js-widgets",
      "model_module_version": "*",
      "model_name": "ButtonStyleModel",
      "state": {
       "_model_module_version": "*",
       "_view_module_version": "*",
       "_view_name": "StyleView",
       "button_color": null
      }
     },
     "50be77af5aaf4166a6a4660dbb914cee": {
      "model_module": "jupyter-js-widgets",
      "model_module_version": "*",
      "model_name": "ButtonStyleModel",
      "state": {
       "_model_module_version": "*",
       "_view_module_version": "*",
       "_view_name": "StyleView",
       "button_color": null
      }
     },
     "51c1beb4269f4c98801c904f970fda37": {
      "model_module": "jupyter-js-widgets",
      "model_module_version": "~2.0.27",
      "model_name": "LayoutModel",
      "state": {
       "_model_module_version": "~2.0.27",
       "_view_module_version": "~2.0.27"
      }
     },
     "522ceb9f9c0444df9ba9f61e4d28c9e8": {
      "model_module": "jupyter-js-widgets",
      "model_module_version": "~2.0.27",
      "model_name": "ButtonModel",
      "state": {
       "_model_module_version": "~2.0.27",
       "_view_module_version": "~2.0.27",
       "description": "(50% width, 80px height) button",
       "layout": "IPY_MODEL_757cf0c3dbf3416aaa71fdd84447ddb0",
       "style": "IPY_MODEL_600c2897ed6a45d39e83c387b9c420bf"
      }
     },
     "528d60d5da6a466f9e38b2c854ba767e": {
      "model_module": "jupyter-js-widgets",
      "model_module_version": "~2.0.27",
      "model_name": "VBoxModel",
      "state": {
       "_model_module_version": "~2.0.27",
       "_view_module_version": "~2.0.27",
       "children": [
        "IPY_MODEL_5e9037973d9b4efc87839a059db9a214",
        "IPY_MODEL_da8f611071d7417a81d24f93dfb69990"
       ],
       "layout": "IPY_MODEL_88014849253d4f5e832ffb59335412a4"
      }
     },
     "529b67f711344d43b75bafda85346f36": {
      "model_module": "jupyter-js-widgets",
      "model_module_version": "~2.0.27",
      "model_name": "DropdownModel",
      "state": {
       "_model_module_version": "~2.0.27",
       "_options_labels": [
        "Scrambled",
        "Sunny side up",
        "Over easy"
       ],
       "_view_module_version": "~2.0.27",
       "layout": "IPY_MODEL_9b47626e5a4e48f6aec56a04f36b8044",
       "value": "Scrambled"
      }
     },
     "52eede8178ca482f9275e4139df3c3aa": {
      "model_module": "jupyter-js-widgets",
      "model_module_version": "~2.0.27",
      "model_name": "HBoxModel",
      "state": {
       "_model_module_version": "~2.0.27",
       "_view_module_version": "~2.0.27",
       "children": [
        "IPY_MODEL_6ceb2b8c6a3e4675a0758b106eae1c02",
        "IPY_MODEL_e83fbc220a194c04b07a1b87cf85871f"
       ],
       "layout": "IPY_MODEL_98b97a8e362643a2820ed8f790dc396f"
      }
     },
     "53034c5019d9423b9646a7cc3996e2cf": {
      "model_module": "jupyter-js-widgets",
      "model_module_version": "~2.0.27",
      "model_name": "ButtonModel",
      "state": {
       "_model_module_version": "~2.0.27",
       "_view_module_version": "~2.0.27",
       "button_style": "warning",
       "layout": "IPY_MODEL_59851902a66c47a9909da8a58cdaee24",
       "style": "IPY_MODEL_b8fb54ec9efc474fb9219ecbf85f77da"
      }
     },
     "5409774ca8864fe68c47a1de8872604d": {
      "model_module": "jupyter-js-widgets",
      "model_module_version": "*",
      "model_name": "ButtonStyleModel",
      "state": {
       "_model_module_version": "*",
       "_view_module_version": "*",
       "_view_name": "StyleView",
       "button_color": null
      }
     },
     "556c7c8ffdf84580a63d80686add4fb8": {
      "model_module": "jupyter-js-widgets",
      "model_module_version": "~2.0.27",
      "model_name": "IntSliderModel",
      "state": {
       "_model_module_version": "~2.0.27",
       "_view_module_version": "~2.0.27",
       "layout": "IPY_MODEL_4e238a7f367e4c44ab89bb895ce17d9b",
       "max": 60,
       "min": 40,
       "style": "IPY_MODEL_aeafa05c3fcf4857af1c65530acebde0",
       "value": 40
      }
     },
     "55adc6d512e34527b1480511e2edfa8b": {
      "model_module": "jupyter-js-widgets",
      "model_module_version": "~2.0.27",
      "model_name": "ButtonModel",
      "state": {
       "_model_module_version": "~2.0.27",
       "_view_module_version": "~2.0.27",
       "button_style": "warning",
       "layout": "IPY_MODEL_ba792b5822ca48d9a5dba7fb4463e518",
       "style": "IPY_MODEL_2612ff68e0e245bbb0a8677b264605ed"
      }
     },
     "55c68d43347e42d681446ba8cc4af7df": {
      "model_module": "jupyter-js-widgets",
      "model_module_version": "*",
      "model_name": "ButtonStyleModel",
      "state": {
       "_model_module_version": "*",
       "_view_module_version": "*",
       "_view_name": "StyleView",
       "button_color": null
      }
     },
     "566b77ac922847ab81dd8f1a84770695": {
      "model_module": "jupyter-js-widgets",
      "model_module_version": "*",
      "model_name": "ButtonStyleModel",
      "state": {
       "_model_module_version": "*",
       "_view_module_version": "*",
       "_view_name": "StyleView",
       "button_color": null
      }
     },
     "56728588c7e043f9937793fafce1958f": {
      "model_module": "jupyter-js-widgets",
      "model_module_version": "*",
      "model_name": "SliderStyleModel",
      "state": {
       "_model_module_version": "*",
       "_view_module_version": "*",
       "_view_name": "StyleView",
       "handle_color": null
      }
     },
     "571eab316ed549bea560e45b605eb54e": {
      "model_module": "jupyter-js-widgets",
      "model_module_version": "~2.0.27",
      "model_name": "VBoxModel",
      "state": {
       "_model_module_version": "~2.0.27",
       "_view_module_version": "~2.0.27",
       "children": [
        "IPY_MODEL_3e099bdd898345db89f3a67f16c0e4ca",
        "IPY_MODEL_6a8a0be1a22e47d8823f9d196442f56b"
       ],
       "layout": "IPY_MODEL_5a76d6ea91d44a448d528c24e706ac89"
      }
     },
     "572eb8dd949e4403b018e2175531f5a9": {
      "model_module": "jupyter-js-widgets",
      "model_module_version": "~2.0.27",
      "model_name": "ButtonModel",
      "state": {
       "_model_module_version": "~2.0.27",
       "_view_module_version": "~2.0.27",
       "button_style": "warning",
       "layout": "IPY_MODEL_59851902a66c47a9909da8a58cdaee24",
       "style": "IPY_MODEL_e8fb1656aeac4ca780744ebf3b32fcc0"
      }
     },
     "574fd36131ad4727bc5f34c9a5f0027b": {
      "model_module": "jupyter-js-widgets",
      "model_module_version": "*",
      "model_name": "ButtonStyleModel",
      "state": {
       "_model_module_version": "*",
       "_view_module_version": "*",
       "_view_name": "StyleView",
       "button_color": null
      }
     },
     "578eb735b5c641e8a8d1511ca4690f00": {
      "model_module": "jupyter-js-widgets",
      "model_module_version": "*",
      "model_name": "ButtonStyleModel",
      "state": {
       "_model_module_version": "*",
       "_view_module_version": "*",
       "_view_name": "StyleView",
       "button_color": null
      }
     },
     "57919e593fe1492b8ba4edf3f1e77332": {
      "model_module": "jupyter-js-widgets",
      "model_module_version": "~2.0.27",
      "model_name": "ButtonModel",
      "state": {
       "_model_module_version": "~2.0.27",
       "_view_module_version": "~2.0.27",
       "button_style": "warning",
       "layout": "IPY_MODEL_ba792b5822ca48d9a5dba7fb4463e518",
       "style": "IPY_MODEL_01ac9d21be1f433aac7787e2ec4b94c5"
      }
     },
     "57b47740546d48e9aac84815a112b093": {
      "model_module": "jupyter-js-widgets",
      "model_module_version": "~2.0.27",
      "model_name": "LayoutModel",
      "state": {
       "_model_module_version": "~2.0.27",
       "_view_module_version": "~2.0.27",
       "flex": "2 1 auto",
       "width": "auto"
      }
     },
     "57b57cfb7baf4fdfa047eca49a211bba": {
      "model_module": "jupyter-js-widgets",
      "model_module_version": "~2.0.27",
      "model_name": "IntSliderModel",
      "state": {
       "_model_module_version": "~2.0.27",
       "_view_module_version": "~2.0.27",
       "description": "Blue handle",
       "layout": "IPY_MODEL_f1a4457cf1054cd3935282577880766b",
       "style": "IPY_MODEL_6ff7b6b5d584467aa18e0120fcfdf432",
       "value": 76
      }
     },
     "57c2379feae7453f9eb2f33d917f7c4e": {
      "model_module": "jupyter-js-widgets",
      "model_module_version": "~2.0.27",
      "model_name": "ButtonModel",
      "state": {
       "_model_module_version": "~2.0.27",
       "_view_module_version": "~2.0.27",
       "description": "Custom color",
       "layout": "IPY_MODEL_989aecb7b48a4d88974cac7bfd3d5e47",
       "style": "IPY_MODEL_92aee92276c6422e9ea41c94ceb67ee7"
      }
     },
     "57d609ce7d13464287d05ee232c0636a": {
      "model_module": "jupyter-js-widgets",
      "model_module_version": "~2.0.27",
      "model_name": "ButtonModel",
      "state": {
       "_model_module_version": "~2.0.27",
       "_view_module_version": "~2.0.27",
       "button_style": "danger",
       "description": "Danger Button",
       "layout": "IPY_MODEL_03c56e1a1e344e8a86e7e06e4d9c3015",
       "style": "IPY_MODEL_6857c0ff7c464a5bbbade64645983929"
      }
     },
     "57e89e96422e4c5d9c780569be7e8299": {
      "model_module": "jupyter-js-widgets",
      "model_module_version": "*",
      "model_name": "ButtonStyleModel",
      "state": {
       "_model_module_version": "*",
       "_view_module_version": "*",
       "_view_name": "StyleView",
       "button_color": null
      }
     },
     "5879a3397b004f5e84fbc25ad5f74d8b": {
      "model_module": "jupyter-js-widgets",
      "model_module_version": "~2.0.27",
      "model_name": "ButtonModel",
      "state": {
       "_model_module_version": "~2.0.27",
       "_view_module_version": "~2.0.27",
       "button_style": "warning",
       "layout": "IPY_MODEL_ba792b5822ca48d9a5dba7fb4463e518",
       "style": "IPY_MODEL_caa1002a3e2b4e9d91f55c580756fab4"
      }
     },
     "59851902a66c47a9909da8a58cdaee24": {
      "model_module": "jupyter-js-widgets",
      "model_module_version": "~2.0.27",
      "model_name": "LayoutModel",
      "state": {
       "_model_module_version": "~2.0.27",
       "_view_module_version": "~2.0.27",
       "height": "100px",
       "min_width": "40px"
      }
     },
     "5a76d6ea91d44a448d528c24e706ac89": {
      "model_module": "jupyter-js-widgets",
      "model_module_version": "~2.0.27",
      "model_name": "LayoutModel",
      "state": {
       "_model_module_version": "~2.0.27",
       "_view_module_version": "~2.0.27"
      }
     },
     "5a9bc961b35740319a986749470983b1": {
      "model_module": "jupyter-js-widgets",
      "model_module_version": "~2.0.27",
      "model_name": "BoxModel",
      "state": {
       "_model_module_version": "~2.0.27",
       "_view_module_version": "~2.0.27",
       "children": [
        "IPY_MODEL_c7b32215def549e2bfab74e7d79820d0",
        "IPY_MODEL_6625e48bef3b4dab999740648df2deaa"
       ],
       "layout": "IPY_MODEL_13c44d858ea34597a299280e48c2a13b"
      }
     },
     "5ad7fd4d29d940d8b7befb3c0e952a3c": {
      "model_module": "jupyter-js-widgets",
      "model_module_version": "*",
      "model_name": "ButtonStyleModel",
      "state": {
       "_model_module_version": "*",
       "_view_module_version": "*",
       "_view_name": "StyleView",
       "button_color": null
      }
     },
     "5ba47f5e4f0243a18f62a3c63afeefc4": {
      "model_module": "jupyter-js-widgets",
      "model_module_version": "~2.0.27",
      "model_name": "VBoxModel",
      "state": {
       "_model_module_version": "~2.0.27",
       "_view_module_version": "~2.0.27",
       "children": [
        "IPY_MODEL_4ea3751b8d0541f6a8585fc8053de993",
        "IPY_MODEL_03ad95700d35410ea3bf4d29b52ae564"
       ],
       "layout": "IPY_MODEL_3519bc9f93a94341adb1907c7487da56"
      }
     },
     "5ba7fe8bd98343caae5f74857d1e2867": {
      "model_module": "jupyter-js-widgets",
      "model_module_version": "~2.0.27",
      "model_name": "ButtonModel",
      "state": {
       "_model_module_version": "~2.0.27",
       "_view_module_version": "~2.0.27",
       "description": "correct",
       "layout": "IPY_MODEL_cc20ed40954642dea15d68cf6b119f3e",
       "style": "IPY_MODEL_ac32c40eb5e540cfbdee64d02120aff7"
      }
     },
     "5c06e231eab54cf9bc809bdc5c5d8dd4": {
      "model_module": "jupyter-js-widgets",
      "model_module_version": "*",
      "model_name": "ButtonStyleModel",
      "state": {
       "_model_module_version": "*",
       "_view_module_version": "*",
       "_view_name": "StyleView",
       "button_color": null
      }
     },
     "5cf70f2f08ee447cbff25ff48569d175": {
      "model_module": "jupyter-js-widgets",
      "model_module_version": "*",
      "model_name": "ButtonStyleModel",
      "state": {
       "_model_module_version": "*",
       "_view_module_version": "*",
       "_view_name": "StyleView",
       "button_color": null
      }
     },
     "5d00c083f3dc40eabb14499dda4962e1": {
      "model_module": "jupyter-js-widgets",
      "model_module_version": "~2.0.27",
      "model_name": "ButtonModel",
      "state": {
       "_model_module_version": "~2.0.27",
       "_view_module_version": "~2.0.27",
       "description": "weight=2",
       "layout": "IPY_MODEL_2a6809421f474fa5bd26d3ed0a498af2",
       "style": "IPY_MODEL_ed4a1f32d16c4bb3a191a6f7a51e30cd"
      }
     },
     "5d3db538677e4796a96d2241fc0eada2": {
      "model_module": "jupyter-js-widgets",
      "model_module_version": "~2.0.27",
      "model_name": "VBoxModel",
      "state": {
       "_model_module_version": "~2.0.27",
       "_view_module_version": "~2.0.27",
       "children": [
        "IPY_MODEL_c3ebf2e1cbcb4147a1bfeac0696360ca",
        "IPY_MODEL_af4567ba412d43a581cae240106c86dd"
       ],
       "layout": "IPY_MODEL_696b4f9430884a869785977f5c4fc0c7"
      }
     },
     "5e0bc5076807437c8c8e0b6787bbf6b2": {
      "model_module": "jupyter-js-widgets",
      "model_module_version": "~2.0.27",
      "model_name": "LayoutModel",
      "state": {
       "_model_module_version": "~2.0.27",
       "_view_module_version": "~2.0.27",
       "border": "3px solid black",
       "display": "flex",
       "height": "",
       "overflow_x": "scroll",
       "width": "500px"
      }
     },
     "5e9037973d9b4efc87839a059db9a214": {
      "model_module": "jupyter-js-widgets",
      "model_module_version": "~2.0.27",
      "model_name": "ButtonModel",
      "state": {
       "_model_module_version": "~2.0.27",
       "_view_module_version": "~2.0.27",
       "description": "battery",
       "layout": "IPY_MODEL_93fbcffac20e4cbe826b887795efdaf7",
       "style": "IPY_MODEL_96728b20b5bd4b5f8884cd075d06fb75"
      }
     },
     "5f2852f8752c4d29aee38a51b0f20a82": {
      "model_module": "jupyter-js-widgets",
      "model_module_version": "~2.0.27",
      "model_name": "LayoutModel",
      "state": {
       "_model_module_version": "~2.0.27",
       "_view_module_version": "~2.0.27"
      }
     },
     "600c2897ed6a45d39e83c387b9c420bf": {
      "model_module": "jupyter-js-widgets",
      "model_module_version": "*",
      "model_name": "ButtonStyleModel",
      "state": {
       "_model_module_version": "*",
       "_view_module_version": "*",
       "_view_name": "StyleView",
       "button_color": null
      }
     },
     "6090a95091184b6387f14f9dc7222980": {
      "model_module": "jupyter-js-widgets",
      "model_module_version": "*",
      "model_name": "ButtonStyleModel",
      "state": {
       "_model_module_version": "*",
       "_view_module_version": "*",
       "_view_name": "StyleView",
       "button_color": null
      }
     },
     "6111124d3e0b49978612adbfb3cf91d6": {
      "model_module": "jupyter-js-widgets",
      "model_module_version": "~2.0.27",
      "model_name": "ButtonModel",
      "state": {
       "_model_module_version": "~2.0.27",
       "_view_module_version": "~2.0.27",
       "description": "weight=1",
       "layout": "IPY_MODEL_65b137f43c3e4d919d6cd036206230dd",
       "style": "IPY_MODEL_11e79d657b6147a4acf634b792867b44"
      }
     },
     "6150b4acede6476fba9b87f2a2778979": {
      "model_module": "jupyter-js-widgets",
      "model_module_version": "~2.0.27",
      "model_name": "LayoutModel",
      "state": {
       "_model_module_version": "~2.0.27",
       "_view_module_version": "~2.0.27"
      }
     },
     "62d6e51573cf414fbf3067e597f809d4": {
      "model_module": "jupyter-js-widgets",
      "model_module_version": "~2.0.27",
      "model_name": "ButtonModel",
      "state": {
       "_model_module_version": "~2.0.27",
       "_view_module_version": "~2.0.27",
       "description": "weight=2",
       "layout": "IPY_MODEL_57b47740546d48e9aac84815a112b093",
       "style": "IPY_MODEL_a8a7cb371b2e4926ae0a7acb8e063801"
      }
     },
     "630dbcdb88254448bd384a5f79d646a0": {
      "model_module": "jupyter-js-widgets",
      "model_module_version": "*",
      "model_name": "ButtonStyleModel",
      "state": {
       "_model_module_version": "*",
       "_view_module_version": "*",
       "_view_name": "StyleView",
       "button_color": null
      }
     },
     "634c00e134f2432a8faa991fc4c2e25f": {
      "model_module": "jupyter-js-widgets",
      "model_module_version": "~2.0.27",
      "model_name": "BoxModel",
      "state": {
       "_model_module_version": "~2.0.27",
       "_view_module_version": "~2.0.27",
       "children": [
        "IPY_MODEL_fa651cb52c054440ab10a592f35849bc",
        "IPY_MODEL_b8728e1bcd1c492bb2882a05b64180ee"
       ],
       "layout": "IPY_MODEL_be83109938dd44b6abafdc7e12946b19"
      }
     },
     "63bddadaa16d41f7a6a7211d67951c02": {
      "model_module": "jupyter-js-widgets",
      "model_module_version": "~2.0.27",
      "model_name": "LayoutModel",
      "state": {
       "_model_module_version": "~2.0.27",
       "_view_module_version": "~2.0.27"
      }
     },
     "63beed0c4bc6416cb7b3b818f7e25313": {
      "model_module": "jupyter-js-widgets",
      "model_module_version": "~2.0.27",
      "model_name": "IntSliderModel",
      "state": {
       "_model_module_version": "~2.0.27",
       "_view_module_version": "~2.0.27",
       "description": "Blue handle",
       "layout": "IPY_MODEL_f268c06ad1274aef8344c3b1fd0b0289",
       "style": "IPY_MODEL_4485478a41ab4399a02d37d01217dbef"
      }
     },
     "641ea490ba114fbda9722a7114232502": {
      "model_module": "jupyter-js-widgets",
      "model_module_version": "~2.0.27",
      "model_name": "ButtonModel",
      "state": {
       "_model_module_version": "~2.0.27",
       "_view_module_version": "~2.0.27",
       "button_style": "danger",
       "description": "horse",
       "layout": "IPY_MODEL_c54000fc571c429ea70bedea34247df1",
       "style": "IPY_MODEL_5ad7fd4d29d940d8b7befb3c0e952a3c"
      }
     },
     "651a918f97df469f9994061f72b6b4c8": {
      "model_module": "jupyter-js-widgets",
      "model_module_version": "~2.0.27",
      "model_name": "ButtonModel",
      "state": {
       "_model_module_version": "~2.0.27",
       "_view_module_version": "~2.0.27",
       "button_style": "danger",
       "description": "battery",
       "layout": "IPY_MODEL_65618a75f76242c1a2eef0aa71400b58",
       "style": "IPY_MODEL_ca45d15b71a84e218c10ac7255c04673"
      }
     },
     "653325a8ff6f4e51b691d3cf26a52bcc": {
      "model_module": "jupyter-js-widgets",
      "model_module_version": "*",
      "model_name": "ButtonStyleModel",
      "state": {
       "_model_module_version": "*",
       "_view_module_version": "*",
       "_view_name": "StyleView",
       "button_color": null
      }
     },
     "65618a75f76242c1a2eef0aa71400b58": {
      "model_module": "jupyter-js-widgets",
      "model_module_version": "~2.0.27",
      "model_name": "LayoutModel",
      "state": {
       "_model_module_version": "~2.0.27",
       "_view_module_version": "~2.0.27",
       "flex": "1 1 auto",
       "width": "auto"
      }
     },
     "65b137f43c3e4d919d6cd036206230dd": {
      "model_module": "jupyter-js-widgets",
      "model_module_version": "~2.0.27",
      "model_name": "LayoutModel",
      "state": {
       "_model_module_version": "~2.0.27",
       "_view_module_version": "~2.0.27"
      }
     },
     "65d611ab0e514e2a94e0c683f225f856": {
      "model_module": "jupyter-js-widgets",
      "model_module_version": "~2.0.27",
      "model_name": "ButtonModel",
      "state": {
       "_model_module_version": "~2.0.27",
       "_view_module_version": "~2.0.27",
       "layout": "IPY_MODEL_10f1a864e06b462898d70dde4e04e385",
       "style": "IPY_MODEL_0e14d18ff16040e68435d0b8e6c8e310"
      }
     },
     "6625e48bef3b4dab999740648df2deaa": {
      "model_module": "jupyter-js-widgets",
      "model_module_version": "~2.0.27",
      "model_name": "DropdownModel",
      "state": {
       "_model_module_version": "~2.0.27",
       "_options_labels": [
        "Scrambled",
        "Sunny side up",
        "Over easy"
       ],
       "_view_module_version": "~2.0.27",
       "layout": "IPY_MODEL_e1368251745845f587bc7549df0480c6",
       "value": "Scrambled"
      }
     },
     "664769d0b0694c02a0adcad2db459df9": {
      "model_module": "jupyter-js-widgets",
      "model_module_version": "~2.0.27",
      "model_name": "ButtonModel",
      "state": {
       "_model_module_version": "~2.0.27",
       "_view_module_version": "~2.0.27",
       "button_style": "danger",
       "description": "battery",
       "layout": "IPY_MODEL_c54000fc571c429ea70bedea34247df1",
       "style": "IPY_MODEL_0149e0ac4e7b4c578e287f36c7a9103b"
      }
     },
     "67d37b5eb4a34e2780f4d8abcd244721": {
      "model_module": "jupyter-js-widgets",
      "model_module_version": "~2.0.27",
      "model_name": "LayoutModel",
      "state": {
       "_model_module_version": "~2.0.27",
       "_view_module_version": "~2.0.27"
      }
     },
     "6857c0ff7c464a5bbbade64645983929": {
      "model_module": "jupyter-js-widgets",
      "model_module_version": "*",
      "model_name": "ButtonStyleModel",
      "state": {
       "_model_module_version": "*",
       "_view_module_version": "*",
       "_view_name": "StyleView",
       "button_color": null
      }
     },
     "6912ec5b177a4f9b8728386c380038cb": {
      "model_module": "jupyter-js-widgets",
      "model_module_version": "~2.0.27",
      "model_name": "BoxModel",
      "state": {
       "_model_module_version": "~2.0.27",
       "_view_module_version": "~2.0.27",
       "children": [
        "IPY_MODEL_46ca9e9e78da4068b2225805dcfe054c",
        "IPY_MODEL_7645346a45214685817987d5b03b985e"
       ],
       "layout": "IPY_MODEL_13c44d858ea34597a299280e48c2a13b"
      }
     },
     "696b4f9430884a869785977f5c4fc0c7": {
      "model_module": "jupyter-js-widgets",
      "model_module_version": "~2.0.27",
      "model_name": "LayoutModel",
      "state": {
       "_model_module_version": "~2.0.27",
       "_view_module_version": "~2.0.27"
      }
     },
     "6974cf094ab0418a94f5ff250c526586": {
      "model_module": "jupyter-js-widgets",
      "model_module_version": "~2.0.27",
      "model_name": "ButtonModel",
      "state": {
       "_model_module_version": "~2.0.27",
       "_view_module_version": "~2.0.27",
       "description": "battery",
       "layout": "IPY_MODEL_4c15741cfd8a474790a110aae4c9aee1",
       "style": "IPY_MODEL_cb7115ec4f194e78bcd13363892882b6"
      }
     },
     "6979c280648848c98293744f9f424ee1": {
      "model_module": "jupyter-js-widgets",
      "model_module_version": "*",
      "model_name": "ButtonStyleModel",
      "state": {
       "_model_module_version": "*",
       "_view_module_version": "*",
       "_view_name": "StyleView",
       "button_color": null
      }
     },
     "697c8ed6f04c4d0f836f9c77d71e2d13": {
      "model_module": "jupyter-js-widgets",
      "model_module_version": "~2.0.27",
      "model_name": "LayoutModel",
      "state": {
       "_model_module_version": "~2.0.27",
       "_view_module_version": "~2.0.27"
      }
     },
     "6a3a17c830464643bafd4c51713f520a": {
      "model_module": "jupyter-js-widgets",
      "model_module_version": "~2.0.27",
      "model_name": "LayoutModel",
      "state": {
       "_model_module_version": "~2.0.27",
       "_view_module_version": "~2.0.27",
       "align_items": "stretch",
       "border": "solid 2px",
       "display": "flex",
       "flex_flow": "column",
       "width": "50%"
      }
     },
     "6a8a0be1a22e47d8823f9d196442f56b": {
      "model_module": "jupyter-js-widgets",
      "model_module_version": "~2.0.27",
      "model_name": "BoxModel",
      "state": {
       "_model_module_version": "~2.0.27",
       "_view_module_version": "~2.0.27",
       "children": [
        "IPY_MODEL_2581445dcfcf4fa8aabbba38e35b14ad",
        "IPY_MODEL_482850a2927f48a984296c93f265c24f",
        "IPY_MODEL_33dbfd66c1ae41b1b91f5b0ed8c42964",
        "IPY_MODEL_06a2f91552f14d1aa7c3894000fc14f9",
        "IPY_MODEL_47311c6bd2724a4cbecc6722788aa2cb",
        "IPY_MODEL_0245ffc5beab4d3480f081b076dd41c7",
        "IPY_MODEL_41b24d5423a448d799493ea51e07677b",
        "IPY_MODEL_a0a23ecc70f14c9e918327b4093b0e08",
        "IPY_MODEL_19676abde7854008b91111f9b7a048f9",
        "IPY_MODEL_98ee82a792e74fe0ae997a633c094fcd",
        "IPY_MODEL_7ce051f1778747169502179c3009b765",
        "IPY_MODEL_b4432ae8837f42b69149452338c41013",
        "IPY_MODEL_e623a94bed8b406d9c36a0155a47e08d",
        "IPY_MODEL_98ee1492a05f40e382e6b01d45113831",
        "IPY_MODEL_a00b7ad4cf154ae0a40b94dd19f15cdd",
        "IPY_MODEL_e09ffac0dca0489ea83f8e1e159f9fdf",
        "IPY_MODEL_883e3e0f81b84f849c6712007007d26e",
        "IPY_MODEL_cbc62f359a2449659be1ce81acf44c71",
        "IPY_MODEL_ada7df2e8fbf4b75b14f60db363f3c63",
        "IPY_MODEL_6b880a4a5edc4edf8ff3fa527d86f8c4",
        "IPY_MODEL_26ad326297ba4ad4ba9b6ecc95ec0d40",
        "IPY_MODEL_7df1455bd8a245aa978627f36d01fac0",
        "IPY_MODEL_6c74356dbf80442482cfdb20bcd2e937",
        "IPY_MODEL_a4b28e388c89426fbf613042e2d5e121",
        "IPY_MODEL_6f4dbd56960844fa938b62c677d7f950",
        "IPY_MODEL_f4d148ad6e1a413abaa2a1b7a7260bcb",
        "IPY_MODEL_a4fd8de035b943eea4051492833a4bbd",
        "IPY_MODEL_7e61af66bec34e0b8aed57d56f7a723e",
        "IPY_MODEL_e4f2070a406b49aa9653221ed85e1044",
        "IPY_MODEL_71c1e9b166934d6ba96c335cdc5afa1b",
        "IPY_MODEL_b995ef87c25e46138c5d36d03b165b58",
        "IPY_MODEL_fab7c61ba6a64a908cfb6e76a49321ae",
        "IPY_MODEL_8d047de2c94b4cefbb5ef7959518d5af",
        "IPY_MODEL_d833b110c82c461e88f2dcd8709a94b9",
        "IPY_MODEL_e3f87d4359174d8ba9e961dc7f692ebc",
        "IPY_MODEL_7588c33a312d4c71a59c62eb5e327122",
        "IPY_MODEL_b90fa9174b5f409f8481470404221383",
        "IPY_MODEL_838b4b1b4c634520ba9edfcd308d4ed0",
        "IPY_MODEL_45311ff85bc848e4940a55cb02b71641",
        "IPY_MODEL_165414bf9bd54c7babfb61aba39ff5f1"
       ],
       "layout": "IPY_MODEL_ad0fefd72aa54658978004892d19b728"
      }
     },
     "6ac55ae9048647be84c6675a9b35dfc9": {
      "model_module": "jupyter-js-widgets",
      "model_module_version": "~2.0.27",
      "model_name": "ButtonModel",
      "state": {
       "_model_module_version": "~2.0.27",
       "_view_module_version": "~2.0.27",
       "description": "battery",
       "layout": "IPY_MODEL_29cc7f79176a4e18b1653b2fa327eaff",
       "style": "IPY_MODEL_3789ec4663c247dd9ea7782572f0a47e"
      }
     },
     "6b0aef8caff04e8fadb5e495cdbe893f": {
      "model_module": "jupyter-js-widgets",
      "model_module_version": "~2.0.27",
      "model_name": "ButtonModel",
      "state": {
       "_model_module_version": "~2.0.27",
       "_view_module_version": "~2.0.27",
       "button_style": "warning",
       "layout": "IPY_MODEL_59851902a66c47a9909da8a58cdaee24",
       "style": "IPY_MODEL_2660c2168e8440bfa3ca9e95d3a577bf"
      }
     },
     "6b58a62c04364d0d95f98c1c7f119f0f": {
      "model_module": "jupyter-js-widgets",
      "model_module_version": "~2.0.27",
      "model_name": "ButtonModel",
      "state": {
       "_model_module_version": "~2.0.27",
       "_view_module_version": "~2.0.27",
       "button_style": "warning",
       "layout": "IPY_MODEL_59851902a66c47a9909da8a58cdaee24",
       "style": "IPY_MODEL_136c4f8324594d09b22616b3615c4346"
      }
     },
     "6b880a4a5edc4edf8ff3fa527d86f8c4": {
      "model_module": "jupyter-js-widgets",
      "model_module_version": "~2.0.27",
      "model_name": "ButtonModel",
      "state": {
       "_model_module_version": "~2.0.27",
       "_view_module_version": "~2.0.27",
       "button_style": "warning",
       "layout": "IPY_MODEL_b569bd266374470c9ba88ddd2531bcf9",
       "style": "IPY_MODEL_3e8ee747c25541b29a2d4571dafb0d9f"
      }
     },
     "6bb0fbe5639e4a389a68c491ade3bdf2": {
      "model_module": "jupyter-js-widgets",
      "model_module_version": "~2.0.27",
      "model_name": "IntSliderModel",
      "state": {
       "_model_module_version": "~2.0.27",
       "_view_module_version": "~2.0.27",
       "description": "Blue handle",
       "layout": "IPY_MODEL_9c2c504d452241c5816734a9751fdf4e",
       "style": "IPY_MODEL_113cebb9e8994886a32772e981f61ff6"
      }
     },
     "6bbb51e7399b487c9fa9e1a5691438c0": {
      "model_module": "jupyter-js-widgets",
      "model_module_version": "*",
      "model_name": "ButtonStyleModel",
      "state": {
       "_model_module_version": "*",
       "_view_module_version": "*",
       "_view_name": "StyleView",
       "button_color": null
      }
     },
     "6c0ffa9c3de247c3b5967219fefe7f9f": {
      "model_module": "jupyter-js-widgets",
      "model_module_version": "~2.0.27",
      "model_name": "BoxModel",
      "state": {
       "_model_module_version": "~2.0.27",
       "_view_module_version": "~2.0.27",
       "children": [
        "IPY_MODEL_d86471d6611c4457b841da8b53a69ab8",
        "IPY_MODEL_641ea490ba114fbda9722a7114232502",
        "IPY_MODEL_664769d0b0694c02a0adcad2db459df9",
        "IPY_MODEL_201d33e456b940e6a7392e882623726b"
       ],
       "layout": "IPY_MODEL_142f91cf5c004bc9a3e0aa1fd1399dfc"
      }
     },
     "6c704f74e47f4b9d98fd5b7e95aefa18": {
      "model_module": "jupyter-js-widgets",
      "model_module_version": "~2.0.27",
      "model_name": "LabelModel",
      "state": {
       "_model_module_version": "~2.0.27",
       "_view_module_version": "~2.0.27",
       "layout": "IPY_MODEL_b115a3dd4a524a26a6f0439e44af3bf8",
       "value": "Information"
      }
     },
     "6c74356dbf80442482cfdb20bcd2e937": {
      "model_module": "jupyter-js-widgets",
      "model_module_version": "~2.0.27",
      "model_name": "ButtonModel",
      "state": {
       "_model_module_version": "~2.0.27",
       "_view_module_version": "~2.0.27",
       "button_style": "warning",
       "layout": "IPY_MODEL_b569bd266374470c9ba88ddd2531bcf9",
       "style": "IPY_MODEL_c56549e2e0234204a8c06dae219e7c4d"
      }
     },
     "6ceb2b8c6a3e4675a0758b106eae1c02": {
      "model_module": "jupyter-js-widgets",
      "model_module_version": "~2.0.27",
      "model_name": "LabelModel",
      "state": {
       "_model_module_version": "~2.0.27",
       "_view_module_version": "~2.0.27",
       "layout": "IPY_MODEL_89a099a0223f4818b29a0d976a7077bc",
       "value": "A too long description"
      }
     },
     "6f3c4b5c4d314fd09a5ee32a5a997449": {
      "model_module": "jupyter-js-widgets",
      "model_module_version": "*",
      "model_name": "ButtonStyleModel",
      "state": {
       "_model_module_version": "*",
       "_view_module_version": "*",
       "_view_name": "StyleView",
       "button_color": null
      }
     },
     "6f3cc919325240f19ac937258d0202e3": {
      "model_module": "jupyter-js-widgets",
      "model_module_version": "~2.0.27",
      "model_name": "LayoutModel",
      "state": {
       "_model_module_version": "~2.0.27",
       "_view_module_version": "~2.0.27",
       "flex": "1 1 auto",
       "width": "auto"
      }
     },
     "6f4dbd56960844fa938b62c677d7f950": {
      "model_module": "jupyter-js-widgets",
      "model_module_version": "~2.0.27",
      "model_name": "ButtonModel",
      "state": {
       "_model_module_version": "~2.0.27",
       "_view_module_version": "~2.0.27",
       "button_style": "warning",
       "layout": "IPY_MODEL_b569bd266374470c9ba88ddd2531bcf9",
       "style": "IPY_MODEL_c732f288fa7649cf948bc5e57875b4f9"
      }
     },
     "6f8c984a53e24950a56e55c9fdcfd309": {
      "model_module": "jupyter-js-widgets",
      "model_module_version": "~2.0.27",
      "model_name": "IntSliderModel",
      "state": {
       "_model_module_version": "~2.0.27",
       "_view_module_version": "~2.0.27",
       "description": "$\\int_0^t f$",
       "layout": "IPY_MODEL_f74d7540484049a09faa46daa5f755b4",
       "style": "IPY_MODEL_4780da76ebea4ef18c76fa9b023cfb19"
      }
     },
     "6ff7b6b5d584467aa18e0120fcfdf432": {
      "model_module": "jupyter-js-widgets",
      "model_module_version": "*",
      "model_name": "SliderStyleModel",
      "state": {
       "_model_module_version": "*",
       "_view_module_version": "*",
       "_view_name": "StyleView",
       "handle_color": "lightblue"
      }
     },
     "6ff84eaf7f994904aa812a378836e310": {
      "model_module": "jupyter-js-widgets",
      "model_module_version": "~2.0.27",
      "model_name": "ButtonModel",
      "state": {
       "_model_module_version": "~2.0.27",
       "_view_module_version": "~2.0.27",
       "button_style": "danger",
       "description": "battery",
       "layout": "IPY_MODEL_bd4b1f2cc45c47908587f70a8b3d2c5e",
       "style": "IPY_MODEL_1f93bd2e7e454105abf207621c643489"
      }
     },
     "6ffab81cb618470eacbcc94bed643846": {
      "model_module": "jupyter-js-widgets",
      "model_module_version": "*",
      "model_name": "ButtonStyleModel",
      "state": {
       "_model_module_version": "*",
       "_view_module_version": "*",
       "_view_name": "StyleView",
       "button_color": null
      }
     },
     "7121ecba58b7486e87604aa8e56ee6a2": {
      "model_module": "jupyter-js-widgets",
      "model_module_version": "~2.0.27",
      "model_name": "LayoutModel",
      "state": {
       "_model_module_version": "~2.0.27",
       "_view_module_version": "~2.0.27"
      }
     },
     "7142e5759a8a4a108a1896f41c88d4c3": {
      "model_module": "jupyter-js-widgets",
      "model_module_version": "*",
      "model_name": "ButtonStyleModel",
      "state": {
       "_model_module_version": "*",
       "_view_module_version": "*",
       "_view_name": "StyleView",
       "button_color": null
      }
     },
     "71c1e9b166934d6ba96c335cdc5afa1b": {
      "model_module": "jupyter-js-widgets",
      "model_module_version": "~2.0.27",
      "model_name": "ButtonModel",
      "state": {
       "_model_module_version": "~2.0.27",
       "_view_module_version": "~2.0.27",
       "button_style": "warning",
       "layout": "IPY_MODEL_b569bd266374470c9ba88ddd2531bcf9",
       "style": "IPY_MODEL_5cf70f2f08ee447cbff25ff48569d175"
      }
     },
     "71e3df8606c54a6e8f54e91327c9aef6": {
      "model_module": "jupyter-js-widgets",
      "model_module_version": "*",
      "model_name": "ButtonStyleModel",
      "state": {
       "_model_module_version": "*",
       "_view_module_version": "*",
       "_view_name": "StyleView",
       "button_color": null
      }
     },
     "724ba62bf2544fc9b16d3cae5d39ae17": {
      "model_module": "jupyter-js-widgets",
      "model_module_version": "*",
      "model_name": "ButtonStyleModel",
      "state": {
       "_model_module_version": "*",
       "_view_module_version": "*",
       "_view_name": "StyleView",
       "button_color": null
      }
     },
     "733f496999094c889cc87303bbbc180a": {
      "model_module": "jupyter-js-widgets",
      "model_module_version": "~2.0.27",
      "model_name": "BoxModel",
      "state": {
       "_model_module_version": "~2.0.27",
       "_view_module_version": "~2.0.27",
       "children": [
        "IPY_MODEL_6912ec5b177a4f9b8728386c380038cb",
        "IPY_MODEL_5a9bc961b35740319a986749470983b1",
        "IPY_MODEL_932d14b581694c6c94a86bad5395370c",
        "IPY_MODEL_2e54a008b982409fa4edf9b69e2f8e69"
       ],
       "layout": "IPY_MODEL_e96883452b034fdca1e385332433f49a"
      }
     },
     "73df078866184d95a4e629fd8610c3fe": {
      "model_module": "jupyter-js-widgets",
      "model_module_version": "~2.0.27",
      "model_name": "ButtonModel",
      "state": {
       "_model_module_version": "~2.0.27",
       "_view_module_version": "~2.0.27",
       "button_style": "warning",
       "layout": "IPY_MODEL_59851902a66c47a9909da8a58cdaee24",
       "style": "IPY_MODEL_b0e2d0c62d9748c588bd3da00e088d35"
      }
     },
     "74474f15b3a74543a581cbb6a2e6cce2": {
      "model_module": "jupyter-js-widgets",
      "model_module_version": "*",
      "model_name": "ButtonStyleModel",
      "state": {
       "_model_module_version": "*",
       "_view_module_version": "*",
       "_view_name": "StyleView",
       "button_color": null
      }
     },
     "7484c159bc8d45679194df1f8c08f56e": {
      "model_module": "jupyter-js-widgets",
      "model_module_version": "~2.0.27",
      "model_name": "ButtonModel",
      "state": {
       "_model_module_version": "~2.0.27",
       "_view_module_version": "~2.0.27",
       "button_style": "warning",
       "layout": "IPY_MODEL_59851902a66c47a9909da8a58cdaee24",
       "style": "IPY_MODEL_ba8c0fe80c77453b974998e474202dc5"
      }
     },
     "757cf0c3dbf3416aaa71fdd84447ddb0": {
      "model_module": "jupyter-js-widgets",
      "model_module_version": "~2.0.27",
      "model_name": "LayoutModel",
      "state": {
       "_model_module_version": "~2.0.27",
       "_view_module_version": "~2.0.27",
       "height": "80px",
       "width": "50%"
      }
     },
     "7588c33a312d4c71a59c62eb5e327122": {
      "model_module": "jupyter-js-widgets",
      "model_module_version": "~2.0.27",
      "model_name": "ButtonModel",
      "state": {
       "_model_module_version": "~2.0.27",
       "_view_module_version": "~2.0.27",
       "button_style": "warning",
       "layout": "IPY_MODEL_b569bd266374470c9ba88ddd2531bcf9",
       "style": "IPY_MODEL_fdbc57b26ce54a97901e4a22c4beb47b"
      }
     },
     "761f1dab2215407b978d460ca8d67cb5": {
      "model_module": "jupyter-js-widgets",
      "model_module_version": "~2.0.27",
      "model_name": "LayoutModel",
      "state": {
       "_model_module_version": "~2.0.27",
       "_view_module_version": "~2.0.27"
      }
     },
     "7620e571f41741c1b060160a2865d4a2": {
      "model_module": "jupyter-js-widgets",
      "model_module_version": "~2.0.27",
      "model_name": "LayoutModel",
      "state": {
       "_model_module_version": "~2.0.27",
       "_view_module_version": "~2.0.27"
      }
     },
     "7645346a45214685817987d5b03b985e": {
      "model_module": "jupyter-js-widgets",
      "model_module_version": "~2.0.27",
      "model_name": "IntSliderModel",
      "state": {
       "_model_module_version": "~2.0.27",
       "_view_module_version": "~2.0.27",
       "layout": "IPY_MODEL_1a2e21e2a7de433b90f14283722ba070",
       "max": 60,
       "min": 40,
       "style": "IPY_MODEL_2efd42f4a81b416eb812762870c2363e",
       "value": 40
      }
     },
     "76500bb7111a4bffae47ecfbaec86c90": {
      "model_module": "jupyter-js-widgets",
      "model_module_version": "*",
      "model_name": "ButtonStyleModel",
      "state": {
       "_model_module_version": "*",
       "_view_module_version": "*",
       "_view_name": "StyleView",
       "button_color": null
      }
     },
     "77a44a2219d04e81beea5a396bfe1f1f": {
      "model_module": "jupyter-js-widgets",
      "model_module_version": "*",
      "model_name": "ButtonStyleModel",
      "state": {
       "_model_module_version": "*",
       "_view_module_version": "*",
       "_view_name": "StyleView",
       "button_color": null
      }
     },
     "789ff84ceab5401ca81a7681851451ea": {
      "model_module": "jupyter-js-widgets",
      "model_module_version": "~2.0.27",
      "model_name": "LayoutModel",
      "state": {
       "_model_module_version": "~2.0.27",
       "_view_module_version": "~2.0.27"
      }
     },
     "78f5380331c54bd494cdc91b0642ce05": {
      "model_module": "jupyter-js-widgets",
      "model_module_version": "*",
      "model_name": "ButtonStyleModel",
      "state": {
       "_model_module_version": "*",
       "_view_module_version": "*",
       "_view_name": "StyleView",
       "button_color": null
      }
     },
     "793af2ca8962424d938d2e433e0acc80": {
      "model_module": "jupyter-js-widgets",
      "model_module_version": "*",
      "model_name": "SliderStyleModel",
      "state": {
       "_model_module_version": "*",
       "_view_module_version": "*",
       "_view_name": "StyleView",
       "handle_color": null
      }
     },
     "79c856bddc514066ba02e3a46016b4b9": {
      "model_module": "jupyter-js-widgets",
      "model_module_version": "~2.0.27",
      "model_name": "ButtonModel",
      "state": {
       "_model_module_version": "~2.0.27",
       "_view_module_version": "~2.0.27",
       "button_style": "warning",
       "layout": "IPY_MODEL_ba792b5822ca48d9a5dba7fb4463e518",
       "style": "IPY_MODEL_ecf68d4cdb374106831d9ad9c48d6ea7"
      }
     },
     "7c7d92d98e2c41c6b32c6ecfad7bd780": {
      "model_module": "jupyter-js-widgets",
      "model_module_version": "~2.0.27",
      "model_name": "LayoutModel",
      "state": {
       "_model_module_version": "~2.0.27",
       "_view_module_version": "~2.0.27"
      }
     },
     "7ce051f1778747169502179c3009b765": {
      "model_module": "jupyter-js-widgets",
      "model_module_version": "~2.0.27",
      "model_name": "ButtonModel",
      "state": {
       "_model_module_version": "~2.0.27",
       "_view_module_version": "~2.0.27",
       "button_style": "warning",
       "layout": "IPY_MODEL_b569bd266374470c9ba88ddd2531bcf9",
       "style": "IPY_MODEL_6090a95091184b6387f14f9dc7222980"
      }
     },
     "7d2ca332073d45499e7a22378ecb2936": {
      "model_module": "jupyter-js-widgets",
      "model_module_version": "*",
      "model_name": "ButtonStyleModel",
      "state": {
       "_model_module_version": "*",
       "_view_module_version": "*",
       "_view_name": "StyleView",
       "button_color": null
      }
     },
     "7df1455bd8a245aa978627f36d01fac0": {
      "model_module": "jupyter-js-widgets",
      "model_module_version": "~2.0.27",
      "model_name": "ButtonModel",
      "state": {
       "_model_module_version": "~2.0.27",
       "_view_module_version": "~2.0.27",
       "button_style": "warning",
       "layout": "IPY_MODEL_b569bd266374470c9ba88ddd2531bcf9",
       "style": "IPY_MODEL_30a9d93c03884502ba20b33263991f6f"
      }
     },
     "7e21df20a7fb4443981e6daad0358d7f": {
      "model_module": "jupyter-js-widgets",
      "model_module_version": "~2.0.27",
      "model_name": "ButtonModel",
      "state": {
       "_model_module_version": "~2.0.27",
       "_view_module_version": "~2.0.27",
       "description": "weight=1",
       "layout": "IPY_MODEL_82ef7a40541943ef8d3ec30831988d07",
       "style": "IPY_MODEL_47fdd067fd2d4942b642a9b46acb77f6"
      }
     },
     "7e61af66bec34e0b8aed57d56f7a723e": {
      "model_module": "jupyter-js-widgets",
      "model_module_version": "~2.0.27",
      "model_name": "ButtonModel",
      "state": {
       "_model_module_version": "~2.0.27",
       "_view_module_version": "~2.0.27",
       "button_style": "warning",
       "layout": "IPY_MODEL_b569bd266374470c9ba88ddd2531bcf9",
       "style": "IPY_MODEL_f713302b4e584aac861ffc41082e9f21"
      }
     },
     "7ec93a2d9f874460a3f6791766a3b2ae": {
      "model_module": "jupyter-js-widgets",
      "model_module_version": "~2.0.27",
      "model_name": "DropdownModel",
      "state": {
       "_model_module_version": "~2.0.27",
       "_options_labels": [
        "Scrambled",
        "Sunny side up",
        "Over easy"
       ],
       "_view_module_version": "~2.0.27",
       "layout": "IPY_MODEL_b7f4fead33434e14a05a4515ff05f02d",
       "value": "Scrambled"
      }
     },
     "7f3c8358f46b4883aa07464da59780e2": {
      "model_module": "jupyter-js-widgets",
      "model_module_version": "~2.0.27",
      "model_name": "LayoutModel",
      "state": {
       "_model_module_version": "~2.0.27",
       "_view_module_version": "~2.0.27"
      }
     },
     "80702366d2b6407bb6758b7bc13ecbc4": {
      "model_module": "jupyter-js-widgets",
      "model_module_version": "*",
      "model_name": "ButtonStyleModel",
      "state": {
       "_model_module_version": "*",
       "_view_module_version": "*",
       "_view_name": "StyleView",
       "button_color": null
      }
     },
     "807261fa72ad4cf29f7f2dbf2cef52a0": {
      "model_module": "jupyter-js-widgets",
      "model_module_version": "~2.0.27",
      "model_name": "ButtonModel",
      "state": {
       "_model_module_version": "~2.0.27",
       "_view_module_version": "~2.0.27",
       "layout": "IPY_MODEL_284fe78a26a841fcb103aa7896148cac",
       "style": "IPY_MODEL_92aee92276c6422e9ea41c94ceb67ee7"
      }
     },
     "811cedbcee0c49c1b5298b4b318a2720": {
      "model_module": "jupyter-js-widgets",
      "model_module_version": "~2.0.27",
      "model_name": "LayoutModel",
      "state": {
       "_model_module_version": "~2.0.27",
       "_view_module_version": "~2.0.27"
      }
     },
     "81d645cd5a794c8cb7f7c7a2a9bf92b0": {
      "model_module": "jupyter-js-widgets",
      "model_module_version": "*",
      "model_name": "ButtonStyleModel",
      "state": {
       "_model_module_version": "*",
       "_view_module_version": "*",
       "_view_name": "StyleView",
       "button_color": null
      }
     },
     "82ef7a40541943ef8d3ec30831988d07": {
      "model_module": "jupyter-js-widgets",
      "model_module_version": "~2.0.27",
      "model_name": "LayoutModel",
      "state": {
       "_model_module_version": "~2.0.27",
       "_view_module_version": "~2.0.27"
      }
     },
     "838b4b1b4c634520ba9edfcd308d4ed0": {
      "model_module": "jupyter-js-widgets",
      "model_module_version": "~2.0.27",
      "model_name": "ButtonModel",
      "state": {
       "_model_module_version": "~2.0.27",
       "_view_module_version": "~2.0.27",
       "button_style": "warning",
       "layout": "IPY_MODEL_b569bd266374470c9ba88ddd2531bcf9",
       "style": "IPY_MODEL_0e75d23419c447f7bd15724de710028a"
      }
     },
     "8451093f159a4759851d9dcc2abaee59": {
      "model_module": "jupyter-js-widgets",
      "model_module_version": "*",
      "model_name": "ButtonStyleModel",
      "state": {
       "_model_module_version": "*",
       "_view_module_version": "*",
       "_view_name": "StyleView",
       "button_color": null
      }
     },
     "8643c796fdad470685ab9eb9972d40a3": {
      "model_module": "jupyter-js-widgets",
      "model_module_version": "~2.0.27",
      "model_name": "ButtonModel",
      "state": {
       "_model_module_version": "~2.0.27",
       "_view_module_version": "~2.0.27",
       "button_style": "warning",
       "layout": "IPY_MODEL_59851902a66c47a9909da8a58cdaee24",
       "style": "IPY_MODEL_50be77af5aaf4166a6a4660dbb914cee"
      }
     },
     "864aef6269a244e79e6db0b78cbb8513": {
      "model_module": "jupyter-js-widgets",
      "model_module_version": "*",
      "model_name": "ButtonStyleModel",
      "state": {
       "_model_module_version": "*",
       "_view_module_version": "*",
       "_view_name": "StyleView",
       "button_color": null
      }
     },
     "865b79d447e54f2d8ec469ccebc91869": {
      "model_module": "jupyter-js-widgets",
      "model_module_version": "~2.0.27",
      "model_name": "TextareaModel",
      "state": {
       "_model_module_version": "~2.0.27",
       "_view_module_version": "~2.0.27",
       "layout": "IPY_MODEL_811cedbcee0c49c1b5298b4b318a2720"
      }
     },
     "86d3f950f368487980c7fc829669c6fb": {
      "model_module": "jupyter-js-widgets",
      "model_module_version": "~2.0.27",
      "model_name": "ButtonModel",
      "state": {
       "_model_module_version": "~2.0.27",
       "_view_module_version": "~2.0.27",
       "button_style": "warning",
       "layout": "IPY_MODEL_59851902a66c47a9909da8a58cdaee24",
       "style": "IPY_MODEL_23e95f2ddcd5491eb17f9fa24a17c660"
      }
     },
     "86e59c5ba5ad4e96b3ac099cfb469ddb": {
      "model_module": "jupyter-js-widgets",
      "model_module_version": "*",
      "model_name": "ButtonStyleModel",
      "state": {
       "_model_module_version": "*",
       "_view_module_version": "*",
       "_view_name": "StyleView",
       "button_color": null
      }
     },
     "8745a0f93a6a42b38a293e2887b394c8": {
      "model_module": "jupyter-js-widgets",
      "model_module_version": "~2.0.27",
      "model_name": "ButtonModel",
      "state": {
       "_model_module_version": "~2.0.27",
       "_view_module_version": "~2.0.27",
       "description": "Another button with the same layout",
       "layout": "IPY_MODEL_757cf0c3dbf3416aaa71fdd84447ddb0",
       "style": "IPY_MODEL_32c25ba63d954b24af1934ac70d0d55a"
      }
     },
     "88014849253d4f5e832ffb59335412a4": {
      "model_module": "jupyter-js-widgets",
      "model_module_version": "~2.0.27",
      "model_name": "LayoutModel",
      "state": {
       "_model_module_version": "~2.0.27",
       "_view_module_version": "~2.0.27"
      }
     },
     "883e3e0f81b84f849c6712007007d26e": {
      "model_module": "jupyter-js-widgets",
      "model_module_version": "~2.0.27",
      "model_name": "ButtonModel",
      "state": {
       "_model_module_version": "~2.0.27",
       "_view_module_version": "~2.0.27",
       "button_style": "warning",
       "layout": "IPY_MODEL_b569bd266374470c9ba88ddd2531bcf9",
       "style": "IPY_MODEL_1bfe8ffd71df4ed0b00ff37282cf8f3d"
      }
     },
     "88f42ba2f55f4343af494480d17169af": {
      "model_module": "jupyter-js-widgets",
      "model_module_version": "*",
      "model_name": "ButtonStyleModel",
      "state": {
       "_model_module_version": "*",
       "_view_module_version": "*",
       "_view_name": "StyleView",
       "button_color": null
      }
     },
     "89a099a0223f4818b29a0d976a7077bc": {
      "model_module": "jupyter-js-widgets",
      "model_module_version": "~2.0.27",
      "model_name": "LayoutModel",
      "state": {
       "_model_module_version": "~2.0.27",
       "_view_module_version": "~2.0.27"
      }
     },
     "8aeb48a6a9e44bbf9c36ba73482042ad": {
      "model_module": "jupyter-js-widgets",
      "model_module_version": "~2.0.27",
      "model_name": "ButtonModel",
      "state": {
       "_model_module_version": "~2.0.27",
       "_view_module_version": "~2.0.27",
       "description": "staple",
       "layout": "IPY_MODEL_b76b3b682f7144ffa19325ce42806ba1",
       "style": "IPY_MODEL_e493757ff1f44b31aafcbb1630b456a0"
      }
     },
     "8af14588bd614b9486bca18e2f0eccba": {
      "model_module": "jupyter-js-widgets",
      "model_module_version": "*",
      "model_name": "ButtonStyleModel",
      "state": {
       "_model_module_version": "*",
       "_view_module_version": "*",
       "_view_name": "StyleView",
       "button_color": null
      }
     },
     "8ba3edb8c1f341a997148362a8635106": {
      "model_module": "jupyter-js-widgets",
      "model_module_version": "~2.0.27",
      "model_name": "LayoutModel",
      "state": {
       "_model_module_version": "~2.0.27",
       "_view_module_version": "~2.0.27"
      }
     },
     "8c5e20150019498bb60ff1980da1fca2": {
      "model_module": "jupyter-js-widgets",
      "model_module_version": "*",
      "model_name": "ButtonStyleModel",
      "state": {
       "_model_module_version": "*",
       "_view_module_version": "*",
       "_view_name": "StyleView",
       "button_color": null
      }
     },
     "8c893faf4ba44b7f9518963fc160a2c2": {
      "model_module": "jupyter-js-widgets",
      "model_module_version": "~2.0.27",
      "model_name": "ButtonModel",
      "state": {
       "_model_module_version": "~2.0.27",
       "_view_module_version": "~2.0.27",
       "description": "correct",
       "layout": "IPY_MODEL_9531b5f83ee74839874a9dca9b140db3",
       "style": "IPY_MODEL_47bfd62f4bd348668e82a80db6a1a298"
      }
     },
     "8cdae916bf9248328fe87c0a2cace737": {
      "model_module": "jupyter-js-widgets",
      "model_module_version": "*",
      "model_name": "ButtonStyleModel",
      "state": {
       "_model_module_version": "*",
       "_view_module_version": "*",
       "_view_name": "StyleView",
       "button_color": null
      }
     },
     "8ce2d239678c41bdb00342b688f09baa": {
      "model_module": "jupyter-js-widgets",
      "model_module_version": "*",
      "model_name": "ButtonStyleModel",
      "state": {
       "_model_module_version": "*",
       "_view_module_version": "*",
       "_view_name": "StyleView",
       "button_color": null
      }
     },
     "8d047de2c94b4cefbb5ef7959518d5af": {
      "model_module": "jupyter-js-widgets",
      "model_module_version": "~2.0.27",
      "model_name": "ButtonModel",
      "state": {
       "_model_module_version": "~2.0.27",
       "_view_module_version": "~2.0.27",
       "button_style": "warning",
       "layout": "IPY_MODEL_b569bd266374470c9ba88ddd2531bcf9",
       "style": "IPY_MODEL_345094010c97490c8bf00e30bf572da1"
      }
     },
     "8dbb9ca493d6483a88a712fa273cb894": {
      "model_module": "jupyter-js-widgets",
      "model_module_version": "~2.0.27",
      "model_name": "BoxModel",
      "state": {
       "_model_module_version": "~2.0.27",
       "_view_module_version": "~2.0.27",
       "children": [
        "IPY_MODEL_ab5bebe1b24448378b685de905d1efd8",
        "IPY_MODEL_0f9e526f6d074a78957498a964b8de14"
       ],
       "layout": "IPY_MODEL_a0f42a94bb78487ba88f1380a063035f"
      }
     },
     "8de1da17978b41fa8009af27c9424f79": {
      "model_module": "jupyter-js-widgets",
      "model_module_version": "*",
      "model_name": "ButtonStyleModel",
      "state": {
       "_model_module_version": "*",
       "_view_module_version": "*",
       "_view_name": "StyleView",
       "button_color": null
      }
     },
     "8e2322aed0ed45f081a1163e0523943e": {
      "model_module": "jupyter-js-widgets",
      "model_module_version": "~2.0.27",
      "model_name": "ButtonModel",
      "state": {
       "_model_module_version": "~2.0.27",
       "_view_module_version": "~2.0.27",
       "description": "horse",
       "layout": "IPY_MODEL_cd61d466bf1b42c5a53f72a694cd2010",
       "style": "IPY_MODEL_9a0d9a2251fb4a3987b391fbbc29c45b"
      }
     },
     "8f935db522184bbab5f57294c1d1e9c2": {
      "model_module": "jupyter-js-widgets",
      "model_module_version": "~2.0.27",
      "model_name": "BoxModel",
      "state": {
       "_model_module_version": "~2.0.27",
       "_view_module_version": "~2.0.27",
       "children": [
        "IPY_MODEL_0ffd4c1815f941daa6f80e47a63be7f8",
        "IPY_MODEL_865b79d447e54f2d8ec469ccebc91869"
       ],
       "layout": "IPY_MODEL_be83109938dd44b6abafdc7e12946b19"
      }
     },
     "9009dded7668449cbbdebb9445183a46": {
      "model_module": "jupyter-js-widgets",
      "model_module_version": "~2.0.27",
      "model_name": "LayoutModel",
      "state": {
       "_model_module_version": "~2.0.27",
       "_view_module_version": "~2.0.27"
      }
     },
     "90537091a2bf433bba3577e3e93de513": {
      "model_module": "jupyter-js-widgets",
      "model_module_version": "~2.0.27",
      "model_name": "LayoutModel",
      "state": {
       "_model_module_version": "~2.0.27",
       "_view_module_version": "~2.0.27"
      }
     },
     "907f29780dc74037a6563b4a174003a1": {
      "model_module": "jupyter-js-widgets",
      "model_module_version": "*",
      "model_name": "ButtonStyleModel",
      "state": {
       "_model_module_version": "*",
       "_view_module_version": "*",
       "_view_name": "StyleView",
       "button_color": null
      }
     },
     "91097b78e9d64bdd9607fd2a82b0ed0e": {
      "model_module": "jupyter-js-widgets",
      "model_module_version": "~2.0.27",
      "model_name": "LayoutModel",
      "state": {
       "_model_module_version": "~2.0.27",
       "_view_module_version": "~2.0.27",
       "height": "80px",
       "width": "50%"
      }
     },
     "9172556a20ad478cbaa136d541cc0142": {
      "model_module": "jupyter-js-widgets",
      "model_module_version": "~2.0.27",
      "model_name": "ButtonModel",
      "state": {
       "_model_module_version": "~2.0.27",
       "_view_module_version": "~2.0.27",
       "button_style": "warning",
       "layout": "IPY_MODEL_59851902a66c47a9909da8a58cdaee24",
       "style": "IPY_MODEL_c9db59dceafc4fd390fd7520f9df22d7"
      }
     },
     "91e84984abbc4e9e9bbe8834b60d268a": {
      "model_module": "jupyter-js-widgets",
      "model_module_version": "~2.0.27",
      "model_name": "IntSliderModel",
      "state": {
       "_model_module_version": "~2.0.27",
       "_view_module_version": "~2.0.27",
       "layout": "IPY_MODEL_90537091a2bf433bba3577e3e93de513",
       "style": "IPY_MODEL_e07429f5f781499fa7bac0a26a8b7bac"
      }
     },
     "929dfebab79543f89f69904f645f639f": {
      "model_module": "jupyter-js-widgets",
      "model_module_version": "*",
      "model_name": "ButtonStyleModel",
      "state": {
       "_model_module_version": "*",
       "_view_module_version": "*",
       "_view_name": "StyleView",
       "button_color": null
      }
     },
     "92aee92276c6422e9ea41c94ceb67ee7": {
      "model_module": "jupyter-js-widgets",
      "model_module_version": "*",
      "model_name": "ButtonStyleModel",
      "state": {
       "_model_module_version": "*",
       "_view_module_version": "*",
       "_view_name": "StyleView",
       "button_color": "lightgreen"
      }
     },
     "92de5ffad26a4c60bfd825df82a6b7f9": {
      "model_module": "jupyter-js-widgets",
      "model_module_version": "~2.0.27",
      "model_name": "FloatTextModel",
      "state": {
       "_model_module_version": "~2.0.27",
       "_view_module_version": "~2.0.27",
       "layout": "IPY_MODEL_a70d701dcc1b4dceb68734c46f36d688"
      }
     },
     "932d14b581694c6c94a86bad5395370c": {
      "model_module": "jupyter-js-widgets",
      "model_module_version": "~2.0.27",
      "model_name": "BoxModel",
      "state": {
       "_model_module_version": "~2.0.27",
       "_view_module_version": "~2.0.27",
       "children": [
        "IPY_MODEL_493de02562c94072816564c46e550f95",
        "IPY_MODEL_f55d57f7980d41629ae7eca1683ba9fc"
       ],
       "layout": "IPY_MODEL_13c44d858ea34597a299280e48c2a13b"
      }
     },
     "939fdce8ddd84b02aa1c35a50ae20b7b": {
      "model_module": "jupyter-js-widgets",
      "model_module_version": "~2.0.27",
      "model_name": "ButtonModel",
      "state": {
       "_model_module_version": "~2.0.27",
       "_view_module_version": "~2.0.27",
       "button_style": "warning",
       "layout": "IPY_MODEL_59851902a66c47a9909da8a58cdaee24",
       "style": "IPY_MODEL_386fcdaa22884a868915ca6292f021d8"
      }
     },
     "93bd51cda7454777bbccec8d7809998c": {
      "model_module": "jupyter-js-widgets",
      "model_module_version": "~2.0.27",
      "model_name": "LayoutModel",
      "state": {
       "_model_module_version": "~2.0.27",
       "_view_module_version": "~2.0.27",
       "align_items": "stretch",
       "border": "solid",
       "display": "flex",
       "flex_flow": "column",
       "width": "50%"
      }
     },
     "93fbcffac20e4cbe826b887795efdaf7": {
      "model_module": "jupyter-js-widgets",
      "model_module_version": "~2.0.27",
      "model_name": "LayoutModel",
      "state": {
       "_model_module_version": "~2.0.27",
       "_view_module_version": "~2.0.27"
      }
     },
     "9444d978b75b4029a91e1a585e94528a": {
      "model_module": "jupyter-js-widgets",
      "model_module_version": "~2.0.27",
      "model_name": "IntSliderModel",
      "state": {
       "_model_module_version": "~2.0.27",
       "_view_module_version": "~2.0.27",
       "description": "$\\int_0^t f$",
       "layout": "IPY_MODEL_133e3b99cfad40b2a33ba9af709f4f6a",
       "style": "IPY_MODEL_56728588c7e043f9937793fafce1958f"
      }
     },
     "94c46bd574ac453982b6e59244f962c9": {
      "model_module": "jupyter-js-widgets",
      "model_module_version": "*",
      "model_name": "SliderStyleModel",
      "state": {
       "_model_module_version": "*",
       "_view_module_version": "*",
       "_view_name": "StyleView",
       "handle_color": "blue"
      }
     },
     "9503fc7f72584531a718b7af85844d90": {
      "model_module": "jupyter-js-widgets",
      "model_module_version": "*",
      "model_name": "ButtonStyleModel",
      "state": {
       "_model_module_version": "*",
       "_view_module_version": "*",
       "_view_name": "StyleView",
       "button_color": null
      }
     },
     "95250ae5bbf44ff6b931e15611bca664": {
      "model_module": "jupyter-js-widgets",
      "model_module_version": "*",
      "model_name": "ButtonStyleModel",
      "state": {
       "_model_module_version": "*",
       "_view_module_version": "*",
       "_view_name": "StyleView",
       "button_color": null
      }
     },
     "9531b5f83ee74839874a9dca9b140db3": {
      "model_module": "jupyter-js-widgets",
      "model_module_version": "~2.0.27",
      "model_name": "LayoutModel",
      "state": {
       "_model_module_version": "~2.0.27",
       "_view_module_version": "~2.0.27"
      }
     },
     "96103e7ef72b427da0c3f2f3d4906928": {
      "model_module": "jupyter-js-widgets",
      "model_module_version": "~2.0.27",
      "model_name": "ButtonModel",
      "state": {
       "_model_module_version": "~2.0.27",
       "_view_module_version": "~2.0.27",
       "button_style": "warning",
       "layout": "IPY_MODEL_ba792b5822ca48d9a5dba7fb4463e518",
       "style": "IPY_MODEL_badf1a40e41941cd817000d8d3610c55"
      }
     },
     "966510b6b8e5410683edad5b84dadd92": {
      "model_module": "jupyter-js-widgets",
      "model_module_version": "~2.0.27",
      "model_name": "ButtonModel",
      "state": {
       "_model_module_version": "~2.0.27",
       "_view_module_version": "~2.0.27",
       "button_style": "warning",
       "layout": "IPY_MODEL_ba792b5822ca48d9a5dba7fb4463e518",
       "style": "IPY_MODEL_8af14588bd614b9486bca18e2f0eccba"
      }
     },
     "96728b20b5bd4b5f8884cd075d06fb75": {
      "model_module": "jupyter-js-widgets",
      "model_module_version": "*",
      "model_name": "ButtonStyleModel",
      "state": {
       "_model_module_version": "*",
       "_view_module_version": "*",
       "_view_name": "StyleView",
       "button_color": null
      }
     },
     "96ac05601182425aa6dca26ba2d3dc5a": {
      "model_module": "jupyter-js-widgets",
      "model_module_version": "~2.0.27",
      "model_name": "ButtonModel",
      "state": {
       "_model_module_version": "~2.0.27",
       "_view_module_version": "~2.0.27",
       "button_style": "warning",
       "layout": "IPY_MODEL_ba792b5822ca48d9a5dba7fb4463e518",
       "style": "IPY_MODEL_fd6cae784fc9443e9241f14f918d1a8f"
      }
     },
     "9723c3753316487ab4c169eeaf1687d6": {
      "model_module": "jupyter-js-widgets",
      "model_module_version": "*",
      "model_name": "ButtonStyleModel",
      "state": {
       "_model_module_version": "*",
       "_view_module_version": "*",
       "_view_name": "StyleView",
       "button_color": null
      }
     },
     "9781d90a6c4b44b5853a4abfdebebd45": {
      "model_module": "jupyter-js-widgets",
      "model_module_version": "~2.0.27",
      "model_name": "LayoutModel",
      "state": {
       "_model_module_version": "~2.0.27",
       "_view_module_version": "~2.0.27"
      }
     },
     "98155719aa0f4bab9a7e774797cd2276": {
      "model_module": "jupyter-js-widgets",
      "model_module_version": "~2.0.27",
      "model_name": "BoxModel",
      "state": {
       "_model_module_version": "~2.0.27",
       "_view_module_version": "~2.0.27",
       "children": [
        "IPY_MODEL_063f72a1b2e64f3fb45c6e760dd458a4",
        "IPY_MODEL_de5238e31b074bbeab10781538e1e49e",
        "IPY_MODEL_634c00e134f2432a8faa991fc4c2e25f",
        "IPY_MODEL_8f935db522184bbab5f57294c1d1e9c2"
       ],
       "layout": "IPY_MODEL_6a3a17c830464643bafd4c51713f520a"
      }
     },
     "989aecb7b48a4d88974cac7bfd3d5e47": {
      "model_module": "jupyter-js-widgets",
      "model_module_version": "~2.0.27",
      "model_name": "LayoutModel",
      "state": {
       "_model_module_version": "~2.0.27",
       "_view_module_version": "~2.0.27"
      }
     },
     "98b97a8e362643a2820ed8f790dc396f": {
      "model_module": "jupyter-js-widgets",
      "model_module_version": "~2.0.27",
      "model_name": "LayoutModel",
      "state": {
       "_model_module_version": "~2.0.27",
       "_view_module_version": "~2.0.27"
      }
     },
     "98c50b873bcd4c288cb8e27a567183e8": {
      "model_module": "jupyter-js-widgets",
      "model_module_version": "*",
      "model_name": "ButtonStyleModel",
      "state": {
       "_model_module_version": "*",
       "_view_module_version": "*",
       "_view_name": "StyleView",
       "button_color": null
      }
     },
     "98ee1492a05f40e382e6b01d45113831": {
      "model_module": "jupyter-js-widgets",
      "model_module_version": "~2.0.27",
      "model_name": "ButtonModel",
      "state": {
       "_model_module_version": "~2.0.27",
       "_view_module_version": "~2.0.27",
       "button_style": "warning",
       "layout": "IPY_MODEL_b569bd266374470c9ba88ddd2531bcf9",
       "style": "IPY_MODEL_6bbb51e7399b487c9fa9e1a5691438c0"
      }
     },
     "98ee82a792e74fe0ae997a633c094fcd": {
      "model_module": "jupyter-js-widgets",
      "model_module_version": "~2.0.27",
      "model_name": "ButtonModel",
      "state": {
       "_model_module_version": "~2.0.27",
       "_view_module_version": "~2.0.27",
       "button_style": "warning",
       "layout": "IPY_MODEL_b569bd266374470c9ba88ddd2531bcf9",
       "style": "IPY_MODEL_21c82a8c2d754c3b9f99c3ae91ef4dbc"
      }
     },
     "99cbbfd87aef4e3d90296753550e0b05": {
      "model_module": "jupyter-js-widgets",
      "model_module_version": "~2.0.27",
      "model_name": "ButtonModel",
      "state": {
       "_model_module_version": "~2.0.27",
       "_view_module_version": "~2.0.27",
       "button_style": "warning",
       "layout": "IPY_MODEL_ba792b5822ca48d9a5dba7fb4463e518",
       "style": "IPY_MODEL_d87169be4159485794a2bca228b1a65b"
      }
     },
     "9a0d9a2251fb4a3987b391fbbc29c45b": {
      "model_module": "jupyter-js-widgets",
      "model_module_version": "*",
      "model_name": "ButtonStyleModel",
      "state": {
       "_model_module_version": "*",
       "_view_module_version": "*",
       "_view_name": "StyleView",
       "button_color": null
      }
     },
     "9b47626e5a4e48f6aec56a04f36b8044": {
      "model_module": "jupyter-js-widgets",
      "model_module_version": "~2.0.27",
      "model_name": "LayoutModel",
      "state": {
       "_model_module_version": "~2.0.27",
       "_view_module_version": "~2.0.27"
      }
     },
     "9beb708880d94020a1e3135a2a1c1554": {
      "model_module": "jupyter-js-widgets",
      "model_module_version": "~2.0.27",
      "model_name": "ButtonModel",
      "state": {
       "_model_module_version": "~2.0.27",
       "_view_module_version": "~2.0.27",
       "button_style": "warning",
       "layout": "IPY_MODEL_ba792b5822ca48d9a5dba7fb4463e518",
       "style": "IPY_MODEL_77a44a2219d04e81beea5a396bfe1f1f"
      }
     },
     "9c2c504d452241c5816734a9751fdf4e": {
      "model_module": "jupyter-js-widgets",
      "model_module_version": "~2.0.27",
      "model_name": "LayoutModel",
      "state": {
       "_model_module_version": "~2.0.27",
       "_view_module_version": "~2.0.27"
      }
     },
     "9c48975bbd32408f936c961f44f74cb2": {
      "model_module": "jupyter-js-widgets",
      "model_module_version": "*",
      "model_name": "ButtonStyleModel",
      "state": {
       "_model_module_version": "*",
       "_view_module_version": "*",
       "_view_name": "StyleView",
       "button_color": null
      }
     },
     "9c8ab97e23f448ae90c59ba1b4d343f9": {
      "model_module": "jupyter-js-widgets",
      "model_module_version": "*",
      "model_name": "ButtonStyleModel",
      "state": {
       "_model_module_version": "*",
       "_view_module_version": "*",
       "_view_name": "StyleView",
       "button_color": null
      }
     },
     "9d5550e82dfe43448c70daa0a0051925": {
      "model_module": "jupyter-js-widgets",
      "model_module_version": "~2.0.27",
      "model_name": "LayoutModel",
      "state": {
       "_model_module_version": "~2.0.27",
       "_view_module_version": "~2.0.27"
      }
     },
     "9f085eed6d9e4abe98b4d2591baf64af": {
      "model_module": "jupyter-js-widgets",
      "model_module_version": "~2.0.27",
      "model_name": "ButtonModel",
      "state": {
       "_model_module_version": "~2.0.27",
       "_view_module_version": "~2.0.27",
       "button_style": "warning",
       "layout": "IPY_MODEL_59851902a66c47a9909da8a58cdaee24",
       "style": "IPY_MODEL_aa10177244524af285195f49402a40e2"
      }
     },
     "9f207b6e463447d7a604882c44867967": {
      "model_module": "jupyter-js-widgets",
      "model_module_version": "~2.0.27",
      "model_name": "ButtonModel",
      "state": {
       "_model_module_version": "~2.0.27",
       "_view_module_version": "~2.0.27",
       "button_style": "warning",
       "layout": "IPY_MODEL_59851902a66c47a9909da8a58cdaee24",
       "style": "IPY_MODEL_afdc0baf9b3d480695c2d25a3e7a38ca"
      }
     },
     "9f519d9938d74307a9e046e5e7d5c407": {
      "model_module": "jupyter-js-widgets",
      "model_module_version": "*",
      "model_name": "ButtonStyleModel",
      "state": {
       "_model_module_version": "*",
       "_view_module_version": "*",
       "_view_name": "StyleView",
       "button_color": null
      }
     },
     "9f6d11f9e0334feeb02722815087481c": {
      "model_module": "jupyter-js-widgets",
      "model_module_version": "~2.0.27",
      "model_name": "LayoutModel",
      "state": {
       "_model_module_version": "~2.0.27",
       "_view_module_version": "~2.0.27",
       "flex": "1 1 auto",
       "width": "auto"
      }
     },
     "9f84b9aae3e74471999659647bbb80bf": {
      "model_module": "jupyter-js-widgets",
      "model_module_version": "~2.0.27",
      "model_name": "ButtonModel",
      "state": {
       "_model_module_version": "~2.0.27",
       "_view_module_version": "~2.0.27",
       "button_style": "warning",
       "layout": "IPY_MODEL_ba792b5822ca48d9a5dba7fb4463e518",
       "style": "IPY_MODEL_929dfebab79543f89f69904f645f639f"
      }
     },
     "a00b7ad4cf154ae0a40b94dd19f15cdd": {
      "model_module": "jupyter-js-widgets",
      "model_module_version": "~2.0.27",
      "model_name": "ButtonModel",
      "state": {
       "_model_module_version": "~2.0.27",
       "_view_module_version": "~2.0.27",
       "button_style": "warning",
       "layout": "IPY_MODEL_b569bd266374470c9ba88ddd2531bcf9",
       "style": "IPY_MODEL_fce09bd5e3b048ce86c61bf6d1f48b6d"
      }
     },
     "a01ffb4ca1544ffda102be424decfb8a": {
      "model_module": "jupyter-js-widgets",
      "model_module_version": "~2.0.27",
      "model_name": "ButtonModel",
      "state": {
       "_model_module_version": "~2.0.27",
       "_view_module_version": "~2.0.27",
       "button_style": "warning",
       "layout": "IPY_MODEL_ba792b5822ca48d9a5dba7fb4463e518",
       "style": "IPY_MODEL_e4a95045132c4dd59967643b6da769e6"
      }
     },
     "a082f51d823249df8bd7b5cc7a6e3630": {
      "model_module": "jupyter-js-widgets",
      "model_module_version": "~2.0.27",
      "model_name": "LabelModel",
      "state": {
       "_model_module_version": "~2.0.27",
       "_view_module_version": "~2.0.27",
       "layout": "IPY_MODEL_be8bcb370cdf4f268623f69e604db44c",
       "value": "$e=mc^2$"
      }
     },
     "a0a23ecc70f14c9e918327b4093b0e08": {
      "model_module": "jupyter-js-widgets",
      "model_module_version": "~2.0.27",
      "model_name": "ButtonModel",
      "state": {
       "_model_module_version": "~2.0.27",
       "_view_module_version": "~2.0.27",
       "button_style": "warning",
       "layout": "IPY_MODEL_b569bd266374470c9ba88ddd2531bcf9",
       "style": "IPY_MODEL_8c5e20150019498bb60ff1980da1fca2"
      }
     },
     "a0c9629b1fc7419da430122deec050af": {
      "model_module": "jupyter-js-widgets",
      "model_module_version": "~2.0.27",
      "model_name": "ButtonModel",
      "state": {
       "_model_module_version": "~2.0.27",
       "_view_module_version": "~2.0.27",
       "button_style": "warning",
       "layout": "IPY_MODEL_59851902a66c47a9909da8a58cdaee24",
       "style": "IPY_MODEL_28e486b290ae427dac6ef48116bfb3c0"
      }
     },
     "a0f42a94bb78487ba88f1380a063035f": {
      "model_module": "jupyter-js-widgets",
      "model_module_version": "~2.0.27",
      "model_name": "LayoutModel",
      "state": {
       "_model_module_version": "~2.0.27",
       "_view_module_version": "~2.0.27",
       "display": "flex",
       "flex_flow": "row",
       "justify_content": "space-between"
      }
     },
     "a101df19750147b3b4ee78e67e10ef63": {
      "model_module": "jupyter-js-widgets",
      "model_module_version": "~2.0.27",
      "model_name": "LayoutModel",
      "state": {
       "_model_module_version": "~2.0.27",
       "_view_module_version": "~2.0.27"
      }
     },
     "a182e9a1cb6149c3abfdda03fa937dbc": {
      "model_module": "jupyter-js-widgets",
      "model_module_version": "~2.0.27",
      "model_name": "ButtonModel",
      "state": {
       "_model_module_version": "~2.0.27",
       "_view_module_version": "~2.0.27",
       "button_style": "warning",
       "layout": "IPY_MODEL_59851902a66c47a9909da8a58cdaee24",
       "style": "IPY_MODEL_864aef6269a244e79e6db0b78cbb8513"
      }
     },
     "a19b6d59734f4f51900925a88d58c3b3": {
      "model_module": "jupyter-js-widgets",
      "model_module_version": "~2.0.27",
      "model_name": "LabelModel",
      "state": {
       "_model_module_version": "~2.0.27",
       "_view_module_version": "~2.0.27",
       "layout": "IPY_MODEL_d3e104f0632a488cbefbbb267c16fe8f",
       "value": "Egg style"
      }
     },
     "a1c0e45747024dd8ab6fb83ddbd790cd": {
      "model_module": "jupyter-js-widgets",
      "model_module_version": "*",
      "model_name": "ButtonStyleModel",
      "state": {
       "_model_module_version": "*",
       "_view_module_version": "*",
       "_view_name": "StyleView",
       "button_color": null
      }
     },
     "a2c83eee6d134eada6c130e497dbb2a6": {
      "model_module": "jupyter-js-widgets",
      "model_module_version": "*",
      "model_name": "ButtonStyleModel",
      "state": {
       "_model_module_version": "*",
       "_view_module_version": "*",
       "_view_name": "StyleView",
       "button_color": null
      }
     },
     "a2ef800131b94b398606388b491b73e0": {
      "model_module": "jupyter-js-widgets",
      "model_module_version": "~2.0.27",
      "model_name": "ButtonModel",
      "state": {
       "_model_module_version": "~2.0.27",
       "_view_module_version": "~2.0.27",
       "layout": "IPY_MODEL_e93df4ab9e3344b3b27a13c716b637cb",
       "style": "IPY_MODEL_ac1e2d88eea34992b6e54d2e3380e913"
      }
     },
     "a337463ff2404f188c2c1cd79bee18c0": {
      "model_module": "jupyter-js-widgets",
      "model_module_version": "~2.0.27",
      "model_name": "LayoutModel",
      "state": {
       "_model_module_version": "~2.0.27",
       "_view_module_version": "~2.0.27"
      }
     },
     "a3d967b68f714ef188c04f67c818f31d": {
      "model_module": "jupyter-js-widgets",
      "model_module_version": "~2.0.27",
      "model_name": "ButtonModel",
      "state": {
       "_model_module_version": "~2.0.27",
       "_view_module_version": "~2.0.27",
       "button_style": "warning",
       "layout": "IPY_MODEL_59851902a66c47a9909da8a58cdaee24",
       "style": "IPY_MODEL_c13355db8b74418e8ff6dd17db948a96"
      }
     },
     "a47f785f9b554d318a6676aa5b561e76": {
      "model_module": "jupyter-js-widgets",
      "model_module_version": "*",
      "model_name": "ButtonStyleModel",
      "state": {
       "_model_module_version": "*",
       "_view_module_version": "*",
       "_view_name": "StyleView",
       "button_color": null
      }
     },
     "a4b28e388c89426fbf613042e2d5e121": {
      "model_module": "jupyter-js-widgets",
      "model_module_version": "~2.0.27",
      "model_name": "ButtonModel",
      "state": {
       "_model_module_version": "~2.0.27",
       "_view_module_version": "~2.0.27",
       "button_style": "warning",
       "layout": "IPY_MODEL_b569bd266374470c9ba88ddd2531bcf9",
       "style": "IPY_MODEL_b744f38a08de41e581e23b6275a3d505"
      }
     },
     "a4fd8de035b943eea4051492833a4bbd": {
      "model_module": "jupyter-js-widgets",
      "model_module_version": "~2.0.27",
      "model_name": "ButtonModel",
      "state": {
       "_model_module_version": "~2.0.27",
       "_view_module_version": "~2.0.27",
       "button_style": "warning",
       "layout": "IPY_MODEL_b569bd266374470c9ba88ddd2531bcf9",
       "style": "IPY_MODEL_208d95ab63ee423bbbe195992e733545"
      }
     },
     "a53ea8da4698431f8a0a60b6956c690d": {
      "model_module": "jupyter-js-widgets",
      "model_module_version": "*",
      "model_name": "ButtonStyleModel",
      "state": {
       "_model_module_version": "*",
       "_view_module_version": "*",
       "_view_name": "StyleView",
       "button_color": null
      }
     },
     "a54a97722f154c3a8fe57af7d4ce0e5f": {
      "model_module": "jupyter-js-widgets",
      "model_module_version": "~2.0.27",
      "model_name": "ButtonModel",
      "state": {
       "_model_module_version": "~2.0.27",
       "_view_module_version": "~2.0.27",
       "button_style": "warning",
       "layout": "IPY_MODEL_59851902a66c47a9909da8a58cdaee24",
       "style": "IPY_MODEL_a6779d393d65404db9f95904ebb1d911"
      }
     },
     "a6213dfaa6ff4f0b88718221830db58d": {
      "model_module": "jupyter-js-widgets",
      "model_module_version": "~2.0.27",
      "model_name": "ButtonModel",
      "state": {
       "_model_module_version": "~2.0.27",
       "_view_module_version": "~2.0.27",
       "button_style": "warning",
       "layout": "IPY_MODEL_ba792b5822ca48d9a5dba7fb4463e518",
       "style": "IPY_MODEL_508d92f25c4c4410b1de380aba088637"
      }
     },
     "a6779d393d65404db9f95904ebb1d911": {
      "model_module": "jupyter-js-widgets",
      "model_module_version": "*",
      "model_name": "ButtonStyleModel",
      "state": {
       "_model_module_version": "*",
       "_view_module_version": "*",
       "_view_name": "StyleView",
       "button_color": null
      }
     },
     "a6afa13d7feb4434a995b1d9d1c99bed": {
      "model_module": "jupyter-js-widgets",
      "model_module_version": "*",
      "model_name": "ButtonStyleModel",
      "state": {
       "_model_module_version": "*",
       "_view_module_version": "*",
       "_view_name": "StyleView",
       "button_color": null
      }
     },
     "a70d701dcc1b4dceb68734c46f36d688": {
      "model_module": "jupyter-js-widgets",
      "model_module_version": "~2.0.27",
      "model_name": "LayoutModel",
      "state": {
       "_model_module_version": "~2.0.27",
       "_view_module_version": "~2.0.27"
      }
     },
     "a80c0dbbd6ca465689f1c12d86202ed6": {
      "model_module": "jupyter-js-widgets",
      "model_module_version": "~2.0.27",
      "model_name": "LayoutModel",
      "state": {
       "_model_module_version": "~2.0.27",
       "_view_module_version": "~2.0.27"
      }
     },
     "a8a7cb371b2e4926ae0a7acb8e063801": {
      "model_module": "jupyter-js-widgets",
      "model_module_version": "*",
      "model_name": "ButtonStyleModel",
      "state": {
       "_model_module_version": "*",
       "_view_module_version": "*",
       "_view_name": "StyleView",
       "button_color": null
      }
     },
     "a9004dd7e5854e44b603e1377d4b4359": {
      "model_module": "jupyter-js-widgets",
      "model_module_version": "~2.0.27",
      "model_name": "ButtonModel",
      "state": {
       "_model_module_version": "~2.0.27",
       "_view_module_version": "~2.0.27",
       "button_style": "warning",
       "layout": "IPY_MODEL_ba792b5822ca48d9a5dba7fb4463e518",
       "style": "IPY_MODEL_d3b4ac1015ab4012b77578f40a8f82ce"
      }
     },
     "a9168062fb0547739d75f775c46459cb": {
      "model_module": "jupyter-js-widgets",
      "model_module_version": "~2.0.27",
      "model_name": "ButtonModel",
      "state": {
       "_model_module_version": "~2.0.27",
       "_view_module_version": "~2.0.27",
       "description": "weight=1",
       "layout": "IPY_MODEL_4a1870c587ed4a95ad22419413a891f4",
       "style": "IPY_MODEL_f6aaee7596e741118ddd8f912a08426c"
      }
     },
     "a94687aba9084241884cd7c6de64586b": {
      "model_module": "jupyter-js-widgets",
      "model_module_version": "*",
      "model_name": "ButtonStyleModel",
      "state": {
       "_model_module_version": "*",
       "_view_module_version": "*",
       "_view_name": "StyleView",
       "button_color": null
      }
     },
     "aa10177244524af285195f49402a40e2": {
      "model_module": "jupyter-js-widgets",
      "model_module_version": "*",
      "model_name": "ButtonStyleModel",
      "state": {
       "_model_module_version": "*",
       "_view_module_version": "*",
       "_view_name": "StyleView",
       "button_color": null
      }
     },
     "aa56e658bd6d4e38a7be0dd71dade3c9": {
      "model_module": "jupyter-js-widgets",
      "model_module_version": "~2.0.27",
      "model_name": "LayoutModel",
      "state": {
       "_model_module_version": "~2.0.27",
       "_view_module_version": "~2.0.27"
      }
     },
     "ab5bebe1b24448378b685de905d1efd8": {
      "model_module": "jupyter-js-widgets",
      "model_module_version": "~2.0.27",
      "model_name": "LabelModel",
      "state": {
       "_model_module_version": "~2.0.27",
       "_view_module_version": "~2.0.27",
       "layout": "IPY_MODEL_b99683f1f7e04cabad63898f99ac2de1",
       "value": "Age of the captain"
      }
     },
     "abef553159944536bdb09e681064b444": {
      "model_module": "jupyter-js-widgets",
      "model_module_version": "~2.0.27",
      "model_name": "IntSliderModel",
      "state": {
       "_model_module_version": "~2.0.27",
       "_view_module_version": "~2.0.27",
       "description": "colored_slider",
       "layout": "IPY_MODEL_c56e406d5cbf49bb81f9e9661a169735",
       "style": "IPY_MODEL_94c46bd574ac453982b6e59244f962c9"
      }
     },
     "ac1e2d88eea34992b6e54d2e3380e913": {
      "model_module": "jupyter-js-widgets",
      "model_module_version": "*",
      "model_name": "ButtonStyleModel",
      "state": {
       "_model_module_version": "*",
       "_view_module_version": "*",
       "_view_name": "StyleView",
       "button_color": "lightgreen"
      }
     },
     "ac32c40eb5e540cfbdee64d02120aff7": {
      "model_module": "jupyter-js-widgets",
      "model_module_version": "*",
      "model_name": "ButtonStyleModel",
      "state": {
       "_model_module_version": "*",
       "_view_module_version": "*",
       "_view_name": "StyleView",
       "button_color": null
      }
     },
     "ad0fefd72aa54658978004892d19b728": {
      "model_module": "jupyter-js-widgets",
      "model_module_version": "~2.0.27",
      "model_name": "LayoutModel",
      "state": {
       "_model_module_version": "~2.0.27",
       "_view_module_version": "~2.0.27",
       "border": "3px solid black",
       "display": "flex",
       "height": "",
       "overflow_x": "scroll",
       "width": "500px"
      }
     },
     "ada7df2e8fbf4b75b14f60db363f3c63": {
      "model_module": "jupyter-js-widgets",
      "model_module_version": "~2.0.27",
      "model_name": "ButtonModel",
      "state": {
       "_model_module_version": "~2.0.27",
       "_view_module_version": "~2.0.27",
       "button_style": "warning",
       "layout": "IPY_MODEL_b569bd266374470c9ba88ddd2531bcf9",
       "style": "IPY_MODEL_c0d94ef6916f4ccb83b4880c64886b0d"
      }
     },
     "aeafa05c3fcf4857af1c65530acebde0": {
      "model_module": "jupyter-js-widgets",
      "model_module_version": "*",
      "model_name": "SliderStyleModel",
      "state": {
       "_model_module_version": "*",
       "_view_module_version": "*",
       "_view_name": "StyleView",
       "handle_color": null
      }
     },
     "af4567ba412d43a581cae240106c86dd": {
      "model_module": "jupyter-js-widgets",
      "model_module_version": "~2.0.27",
      "model_name": "ButtonModel",
      "state": {
       "_model_module_version": "~2.0.27",
       "_view_module_version": "~2.0.27",
       "description": "horse",
       "layout": "IPY_MODEL_b35632dc14a349c8849225e8b064458c",
       "style": "IPY_MODEL_4d61c221bc7f4ab0b2ad54bf205edcc8"
      }
     },
     "afdc0baf9b3d480695c2d25a3e7a38ca": {
      "model_module": "jupyter-js-widgets",
      "model_module_version": "*",
      "model_name": "ButtonStyleModel",
      "state": {
       "_model_module_version": "*",
       "_view_module_version": "*",
       "_view_name": "StyleView",
       "button_color": null
      }
     },
     "b000a9b258e948ddaeba2707d05c857f": {
      "model_module": "jupyter-js-widgets",
      "model_module_version": "*",
      "model_name": "ButtonStyleModel",
      "state": {
       "_model_module_version": "*",
       "_view_module_version": "*",
       "_view_name": "StyleView",
       "button_color": null
      }
     },
     "b0e2d0c62d9748c588bd3da00e088d35": {
      "model_module": "jupyter-js-widgets",
      "model_module_version": "*",
      "model_name": "ButtonStyleModel",
      "state": {
       "_model_module_version": "*",
       "_view_module_version": "*",
       "_view_name": "StyleView",
       "button_color": null
      }
     },
     "b115a3dd4a524a26a6f0439e44af3bf8": {
      "model_module": "jupyter-js-widgets",
      "model_module_version": "~2.0.27",
      "model_name": "LayoutModel",
      "state": {
       "_model_module_version": "~2.0.27",
       "_view_module_version": "~2.0.27"
      }
     },
     "b16e535c38394bdf8e5907042d2e4993": {
      "model_module": "jupyter-js-widgets",
      "model_module_version": "~2.0.27",
      "model_name": "ButtonModel",
      "state": {
       "_model_module_version": "~2.0.27",
       "_view_module_version": "~2.0.27",
       "button_style": "warning",
       "layout": "IPY_MODEL_ba792b5822ca48d9a5dba7fb4463e518",
       "style": "IPY_MODEL_74474f15b3a74543a581cbb6a2e6cce2"
      }
     },
     "b276bd32ddd740379748b96f62e65bb2": {
      "model_module": "jupyter-js-widgets",
      "model_module_version": "~2.0.27",
      "model_name": "ButtonModel",
      "state": {
       "_model_module_version": "~2.0.27",
       "_view_module_version": "~2.0.27",
       "button_style": "warning",
       "layout": "IPY_MODEL_59851902a66c47a9909da8a58cdaee24",
       "style": "IPY_MODEL_fe35b9c79cae4a88b11b619a35d7f0e9"
      }
     },
     "b2f18fa40f8e4995a47f97924d0e15b3": {
      "model_module": "jupyter-js-widgets",
      "model_module_version": "~2.0.27",
      "model_name": "ButtonModel",
      "state": {
       "_model_module_version": "~2.0.27",
       "_view_module_version": "~2.0.27",
       "button_style": "warning",
       "layout": "IPY_MODEL_ba792b5822ca48d9a5dba7fb4463e518",
       "style": "IPY_MODEL_a1c0e45747024dd8ab6fb83ddbd790cd"
      }
     },
     "b35632dc14a349c8849225e8b064458c": {
      "model_module": "jupyter-js-widgets",
      "model_module_version": "~2.0.27",
      "model_name": "LayoutModel",
      "state": {
       "_model_module_version": "~2.0.27",
       "_view_module_version": "~2.0.27"
      }
     },
     "b3630d47fc43487088dda7af22201a29": {
      "model_module": "jupyter-js-widgets",
      "model_module_version": "~2.0.27",
      "model_name": "ButtonModel",
      "state": {
       "_model_module_version": "~2.0.27",
       "_view_module_version": "~2.0.27",
       "button_style": "warning",
       "layout": "IPY_MODEL_ba792b5822ca48d9a5dba7fb4463e518",
       "style": "IPY_MODEL_578eb735b5c641e8a8d1511ca4690f00"
      }
     },
     "b4432ae8837f42b69149452338c41013": {
      "model_module": "jupyter-js-widgets",
      "model_module_version": "~2.0.27",
      "model_name": "ButtonModel",
      "state": {
       "_model_module_version": "~2.0.27",
       "_view_module_version": "~2.0.27",
       "button_style": "warning",
       "layout": "IPY_MODEL_b569bd266374470c9ba88ddd2531bcf9",
       "style": "IPY_MODEL_6ffab81cb618470eacbcc94bed643846"
      }
     },
     "b4581748fda940da81a3ad1e43f00df6": {
      "model_module": "jupyter-js-widgets",
      "model_module_version": "~2.0.27",
      "model_name": "ButtonModel",
      "state": {
       "_model_module_version": "~2.0.27",
       "_view_module_version": "~2.0.27",
       "description": "staple",
       "layout": "IPY_MODEL_aa56e658bd6d4e38a7be0dd71dade3c9",
       "style": "IPY_MODEL_f44de27de2ed40b79b2f90ad992e3e6e"
      }
     },
     "b569bd266374470c9ba88ddd2531bcf9": {
      "model_module": "jupyter-js-widgets",
      "model_module_version": "~2.0.27",
      "model_name": "LayoutModel",
      "state": {
       "_model_module_version": "~2.0.27",
       "_view_module_version": "~2.0.27",
       "height": "100px",
       "min_width": "40px"
      }
     },
     "b5e5556f26ea4e9c802e451a245ed09c": {
      "model_module": "jupyter-js-widgets",
      "model_module_version": "~2.0.27",
      "model_name": "LabelModel",
      "state": {
       "_model_module_version": "~2.0.27",
       "_view_module_version": "~2.0.27",
       "layout": "IPY_MODEL_216520da0ddc41eb9b4eef38655fd06a",
       "value": "Scroll horizontally:"
      }
     },
     "b63516cfd653438691195de74e518738": {
      "model_module": "jupyter-js-widgets",
      "model_module_version": "*",
      "model_name": "ButtonStyleModel",
      "state": {
       "_model_module_version": "*",
       "_view_module_version": "*",
       "_view_name": "StyleView",
       "button_color": null
      }
     },
     "b744f38a08de41e581e23b6275a3d505": {
      "model_module": "jupyter-js-widgets",
      "model_module_version": "*",
      "model_name": "ButtonStyleModel",
      "state": {
       "_model_module_version": "*",
       "_view_module_version": "*",
       "_view_name": "StyleView",
       "button_color": null
      }
     },
     "b76b3b682f7144ffa19325ce42806ba1": {
      "model_module": "jupyter-js-widgets",
      "model_module_version": "~2.0.27",
      "model_name": "LayoutModel",
      "state": {
       "_model_module_version": "~2.0.27",
       "_view_module_version": "~2.0.27"
      }
     },
     "b7f4fead33434e14a05a4515ff05f02d": {
      "model_module": "jupyter-js-widgets",
      "model_module_version": "~2.0.27",
      "model_name": "LayoutModel",
      "state": {
       "_model_module_version": "~2.0.27",
       "_view_module_version": "~2.0.27"
      }
     },
     "b84c185b2b004e4fa3c782d9ec209b3c": {
      "model_module": "jupyter-js-widgets",
      "model_module_version": "*",
      "model_name": "ButtonStyleModel",
      "state": {
       "_model_module_version": "*",
       "_view_module_version": "*",
       "_view_name": "StyleView",
       "button_color": null
      }
     },
     "b8728e1bcd1c492bb2882a05b64180ee": {
      "model_module": "jupyter-js-widgets",
      "model_module_version": "~2.0.27",
      "model_name": "FloatTextModel",
      "state": {
       "_model_module_version": "~2.0.27",
       "_view_module_version": "~2.0.27",
       "layout": "IPY_MODEL_1e04eaa1fd37444a8f9c1d5177644f4c"
      }
     },
     "b8fb54ec9efc474fb9219ecbf85f77da": {
      "model_module": "jupyter-js-widgets",
      "model_module_version": "*",
      "model_name": "ButtonStyleModel",
      "state": {
       "_model_module_version": "*",
       "_view_module_version": "*",
       "_view_name": "StyleView",
       "button_color": null
      }
     },
     "b90fa9174b5f409f8481470404221383": {
      "model_module": "jupyter-js-widgets",
      "model_module_version": "~2.0.27",
      "model_name": "ButtonModel",
      "state": {
       "_model_module_version": "~2.0.27",
       "_view_module_version": "~2.0.27",
       "button_style": "warning",
       "layout": "IPY_MODEL_b569bd266374470c9ba88ddd2531bcf9",
       "style": "IPY_MODEL_22d67a5e987d45b6b73239e88b4d157e"
      }
     },
     "b995ef87c25e46138c5d36d03b165b58": {
      "model_module": "jupyter-js-widgets",
      "model_module_version": "~2.0.27",
      "model_name": "ButtonModel",
      "state": {
       "_model_module_version": "~2.0.27",
       "_view_module_version": "~2.0.27",
       "button_style": "warning",
       "layout": "IPY_MODEL_b569bd266374470c9ba88ddd2531bcf9",
       "style": "IPY_MODEL_4e530f05a64347e4a6f1482bd9d3bb58"
      }
     },
     "b99683f1f7e04cabad63898f99ac2de1": {
      "model_module": "jupyter-js-widgets",
      "model_module_version": "~2.0.27",
      "model_name": "LayoutModel",
      "state": {
       "_model_module_version": "~2.0.27",
       "_view_module_version": "~2.0.27"
      }
     },
     "ba792b5822ca48d9a5dba7fb4463e518": {
      "model_module": "jupyter-js-widgets",
      "model_module_version": "~2.0.27",
      "model_name": "LayoutModel",
      "state": {
       "_model_module_version": "~2.0.27",
       "_view_module_version": "~2.0.27",
       "height": "100px",
       "min_width": "40px"
      }
     },
     "ba8c0fe80c77453b974998e474202dc5": {
      "model_module": "jupyter-js-widgets",
      "model_module_version": "*",
      "model_name": "ButtonStyleModel",
      "state": {
       "_model_module_version": "*",
       "_view_module_version": "*",
       "_view_name": "StyleView",
       "button_color": null
      }
     },
     "badf1a40e41941cd817000d8d3610c55": {
      "model_module": "jupyter-js-widgets",
      "model_module_version": "*",
      "model_name": "ButtonStyleModel",
      "state": {
       "_model_module_version": "*",
       "_view_module_version": "*",
       "_view_name": "StyleView",
       "button_color": null
      }
     },
     "bb04b70e46854451b2743476a5e4fa4e": {
      "model_module": "jupyter-js-widgets",
      "model_module_version": "~2.0.27",
      "model_name": "LayoutModel",
      "state": {
       "_model_module_version": "~2.0.27",
       "_view_module_version": "~2.0.27"
      }
     },
     "bb6ac943b72b40f88fdd2e131d618096": {
      "model_module": "jupyter-js-widgets",
      "model_module_version": "*",
      "model_name": "ButtonStyleModel",
      "state": {
       "_model_module_version": "*",
       "_view_module_version": "*",
       "_view_name": "StyleView",
       "button_color": null
      }
     },
     "bb755657e6a14a2f822ef147f5c4d285": {
      "model_module": "jupyter-js-widgets",
      "model_module_version": "~2.0.27",
      "model_name": "LabelModel",
      "state": {
       "_model_module_version": "~2.0.27",
       "_view_module_version": "~2.0.27",
       "layout": "IPY_MODEL_c910caa3368048958583cae2480ae5db",
       "value": "A too long description"
      }
     },
     "bd4b1f2cc45c47908587f70a8b3d2c5e": {
      "model_module": "jupyter-js-widgets",
      "model_module_version": "~2.0.27",
      "model_name": "LayoutModel",
      "state": {
       "_model_module_version": "~2.0.27",
       "_view_module_version": "~2.0.27",
       "flex": "1 1 auto",
       "width": "auto"
      }
     },
     "bd9a3ce15d3a44318745c211f1230957": {
      "model_module": "jupyter-js-widgets",
      "model_module_version": "*",
      "model_name": "ButtonStyleModel",
      "state": {
       "_model_module_version": "*",
       "_view_module_version": "*",
       "_view_name": "StyleView",
       "button_color": null
      }
     },
     "bdbd62f221cb4db59ca59c55bed5e7b8": {
      "model_module": "jupyter-js-widgets",
      "model_module_version": "~2.0.27",
      "model_name": "ButtonModel",
      "state": {
       "_model_module_version": "~2.0.27",
       "_view_module_version": "~2.0.27",
       "button_style": "danger",
       "description": "horse",
       "layout": "IPY_MODEL_65618a75f76242c1a2eef0aa71400b58",
       "style": "IPY_MODEL_71e3df8606c54a6e8f54e91327c9aef6"
      }
     },
     "be83109938dd44b6abafdc7e12946b19": {
      "model_module": "jupyter-js-widgets",
      "model_module_version": "~2.0.27",
      "model_name": "LayoutModel",
      "state": {
       "_model_module_version": "~2.0.27",
       "_view_module_version": "~2.0.27",
       "display": "flex",
       "flex_flow": "row",
       "justify_content": "space-between"
      }
     },
     "be8bcb370cdf4f268623f69e604db44c": {
      "model_module": "jupyter-js-widgets",
      "model_module_version": "~2.0.27",
      "model_name": "LayoutModel",
      "state": {
       "_model_module_version": "~2.0.27",
       "_view_module_version": "~2.0.27"
      }
     },
     "beed9bf7fe7145d287ccb491880b223a": {
      "model_module": "jupyter-js-widgets",
      "model_module_version": "~2.0.27",
      "model_name": "ButtonModel",
      "state": {
       "_model_module_version": "~2.0.27",
       "_view_module_version": "~2.0.27",
       "button_style": "warning",
       "layout": "IPY_MODEL_ba792b5822ca48d9a5dba7fb4463e518",
       "style": "IPY_MODEL_88f42ba2f55f4343af494480d17169af"
      }
     },
     "befdf54dc5434b6e81acc705efed4b36": {
      "model_module": "jupyter-js-widgets",
      "model_module_version": "~2.0.27",
      "model_name": "LayoutModel",
      "state": {
       "_model_module_version": "~2.0.27",
       "_view_module_version": "~2.0.27"
      }
     },
     "bf0d1105ca14424b921811594f119e25": {
      "model_module": "jupyter-js-widgets",
      "model_module_version": "~2.0.27",
      "model_name": "ButtonModel",
      "state": {
       "_model_module_version": "~2.0.27",
       "_view_module_version": "~2.0.27",
       "button_style": "warning",
       "layout": "IPY_MODEL_59851902a66c47a9909da8a58cdaee24",
       "style": "IPY_MODEL_f74f0da8b9884948b360f1aaa7da453d"
      }
     },
     "c06def193eee476d9d28d1faa6eda2fd": {
      "model_module": "jupyter-js-widgets",
      "model_module_version": "*",
      "model_name": "SliderStyleModel",
      "state": {
       "_model_module_version": "*",
       "_view_module_version": "*",
       "_view_name": "StyleView",
       "handle_color": null
      }
     },
     "c076a1f83dab435a993e9630d543a35e": {
      "model_module": "jupyter-js-widgets",
      "model_module_version": "~2.0.27",
      "model_name": "LayoutModel",
      "state": {
       "_model_module_version": "~2.0.27",
       "_view_module_version": "~2.0.27"
      }
     },
     "c0d94ef6916f4ccb83b4880c64886b0d": {
      "model_module": "jupyter-js-widgets",
      "model_module_version": "*",
      "model_name": "ButtonStyleModel",
      "state": {
       "_model_module_version": "*",
       "_view_module_version": "*",
       "_view_name": "StyleView",
       "button_color": null
      }
     },
     "c13355db8b74418e8ff6dd17db948a96": {
      "model_module": "jupyter-js-widgets",
      "model_module_version": "*",
      "model_name": "ButtonStyleModel",
      "state": {
       "_model_module_version": "*",
       "_view_module_version": "*",
       "_view_name": "StyleView",
       "button_color": null
      }
     },
     "c17558a950594ac5a371f12adf9ead9a": {
      "model_module": "jupyter-js-widgets",
      "model_module_version": "*",
      "model_name": "ButtonStyleModel",
      "state": {
       "_model_module_version": "*",
       "_view_module_version": "*",
       "_view_name": "StyleView",
       "button_color": null
      }
     },
     "c21bb9fe94544a01ab70db3d0906e7ff": {
      "model_module": "jupyter-js-widgets",
      "model_module_version": "~2.0.27",
      "model_name": "LayoutModel",
      "state": {
       "_model_module_version": "~2.0.27",
       "_view_module_version": "~2.0.27"
      }
     },
     "c22b31fe65b04b54892e0d5f6e4627b6": {
      "model_module": "jupyter-js-widgets",
      "model_module_version": "~2.0.27",
      "model_name": "ButtonModel",
      "state": {
       "_model_module_version": "~2.0.27",
       "_view_module_version": "~2.0.27",
       "button_style": "warning",
       "layout": "IPY_MODEL_ba792b5822ca48d9a5dba7fb4463e518",
       "style": "IPY_MODEL_8ce2d239678c41bdb00342b688f09baa"
      }
     },
     "c23915c40a4b43b18202e71b07045875": {
      "model_module": "jupyter-js-widgets",
      "model_module_version": "~2.0.27",
      "model_name": "LayoutModel",
      "state": {
       "_model_module_version": "~2.0.27",
       "_view_module_version": "~2.0.27",
       "align_items": "stretch",
       "border": "solid",
       "display": "flex",
       "flex_flow": "row",
       "width": "50%"
      }
     },
     "c246a6b5cca441eba8a314eee669bb3a": {
      "model_module": "jupyter-js-widgets",
      "model_module_version": "~2.0.27",
      "model_name": "LayoutModel",
      "state": {
       "_model_module_version": "~2.0.27",
       "_view_module_version": "~2.0.27"
      }
     },
     "c2e7d49258824860b264b81a6b9c12ec": {
      "model_module": "jupyter-js-widgets",
      "model_module_version": "~2.0.27",
      "model_name": "LayoutModel",
      "state": {
       "_model_module_version": "~2.0.27",
       "_view_module_version": "~2.0.27"
      }
     },
     "c3ebf2e1cbcb4147a1bfeac0696360ca": {
      "model_module": "jupyter-js-widgets",
      "model_module_version": "~2.0.27",
      "model_name": "ButtonModel",
      "state": {
       "_model_module_version": "~2.0.27",
       "_view_module_version": "~2.0.27",
       "description": "correct",
       "layout": "IPY_MODEL_7620e571f41741c1b060160a2865d4a2",
       "style": "IPY_MODEL_b000a9b258e948ddaeba2707d05c857f"
      }
     },
     "c4988ddfb86443808aca665333757184": {
      "model_module": "jupyter-js-widgets",
      "model_module_version": "~2.0.27",
      "model_name": "VBoxModel",
      "state": {
       "_model_module_version": "~2.0.27",
       "_view_module_version": "~2.0.27",
       "children": [
        "IPY_MODEL_8c893faf4ba44b7f9518963fc160a2c2",
        "IPY_MODEL_14ebd98c6b4a4e7ea2501ba2033a707b"
       ],
       "layout": "IPY_MODEL_4c2874e122f14b54833a49e45cbb4ce7"
      }
     },
     "c4a0ab0037734624a8820861c387e5d2": {
      "model_module": "jupyter-js-widgets",
      "model_module_version": "~2.0.27",
      "model_name": "BoxModel",
      "state": {
       "_model_module_version": "~2.0.27",
       "_view_module_version": "~2.0.27",
       "children": [
        "IPY_MODEL_27283f6ebf074e2591bc1bc17a09248b",
        "IPY_MODEL_5d00c083f3dc40eabb14499dda4962e1",
        "IPY_MODEL_a9168062fb0547739d75f775c46459cb"
       ],
       "layout": "IPY_MODEL_07da1c4192614a5ca592192d8f249722"
      }
     },
     "c4b2a435084c440487363d1706b32e06": {
      "model_module": "jupyter-js-widgets",
      "model_module_version": "~2.0.27",
      "model_name": "ButtonModel",
      "state": {
       "_model_module_version": "~2.0.27",
       "_view_module_version": "~2.0.27",
       "button_style": "warning",
       "layout": "IPY_MODEL_ba792b5822ca48d9a5dba7fb4463e518",
       "style": "IPY_MODEL_7d2ca332073d45499e7a22378ecb2936"
      }
     },
     "c5245f07db5c4280a35d952d5d9c4320": {
      "model_module": "jupyter-js-widgets",
      "model_module_version": "~2.0.27",
      "model_name": "ButtonModel",
      "state": {
       "_model_module_version": "~2.0.27",
       "_view_module_version": "~2.0.27",
       "button_style": "warning",
       "layout": "IPY_MODEL_ba792b5822ca48d9a5dba7fb4463e518",
       "style": "IPY_MODEL_907f29780dc74037a6563b4a174003a1"
      }
     },
     "c53ffb340ae34b2c9d72bd9ff0b3f08a": {
      "model_module": "jupyter-js-widgets",
      "model_module_version": "*",
      "model_name": "ButtonStyleModel",
      "state": {
       "_model_module_version": "*",
       "_view_module_version": "*",
       "_view_name": "StyleView",
       "button_color": null
      }
     },
     "c54000fc571c429ea70bedea34247df1": {
      "model_module": "jupyter-js-widgets",
      "model_module_version": "~2.0.27",
      "model_name": "LayoutModel",
      "state": {
       "_model_module_version": "~2.0.27",
       "_view_module_version": "~2.0.27",
       "flex": "1 1 auto",
       "width": "auto"
      }
     },
     "c56549e2e0234204a8c06dae219e7c4d": {
      "model_module": "jupyter-js-widgets",
      "model_module_version": "*",
      "model_name": "ButtonStyleModel",
      "state": {
       "_model_module_version": "*",
       "_view_module_version": "*",
       "_view_name": "StyleView",
       "button_color": null
      }
     },
     "c56e406d5cbf49bb81f9e9661a169735": {
      "model_module": "jupyter-js-widgets",
      "model_module_version": "~2.0.27",
      "model_name": "LayoutModel",
      "state": {
       "_model_module_version": "~2.0.27",
       "_view_module_version": "~2.0.27"
      }
     },
     "c732f288fa7649cf948bc5e57875b4f9": {
      "model_module": "jupyter-js-widgets",
      "model_module_version": "*",
      "model_name": "ButtonStyleModel",
      "state": {
       "_model_module_version": "*",
       "_view_module_version": "*",
       "_view_name": "StyleView",
       "button_color": null
      }
     },
     "c7541b8277784cb8ab4cf078e84d7f4c": {
      "model_module": "jupyter-js-widgets",
      "model_module_version": "~2.0.27",
      "model_name": "ButtonModel",
      "state": {
       "_model_module_version": "~2.0.27",
       "_view_module_version": "~2.0.27",
       "button_style": "warning",
       "layout": "IPY_MODEL_ba792b5822ca48d9a5dba7fb4463e518",
       "style": "IPY_MODEL_e6e13b4d761b4582867fc7b8a51a20bd"
      }
     },
     "c7b32215def549e2bfab74e7d79820d0": {
      "model_module": "jupyter-js-widgets",
      "model_module_version": "~2.0.27",
      "model_name": "LabelModel",
      "state": {
       "_model_module_version": "~2.0.27",
       "_view_module_version": "~2.0.27",
       "layout": "IPY_MODEL_a101df19750147b3b4ee78e67e10ef63",
       "value": "Egg style"
      }
     },
     "c810072ed500447aba60c4e6a83d09e7": {
      "model_module": "jupyter-js-widgets",
      "model_module_version": "~2.0.27",
      "model_name": "LayoutModel",
      "state": {
       "_model_module_version": "~2.0.27",
       "_view_module_version": "~2.0.27"
      }
     },
     "c817ab6d5fe0472387f7e48d0e69436e": {
      "model_module": "jupyter-js-widgets",
      "model_module_version": "*",
      "model_name": "ButtonStyleModel",
      "state": {
       "_model_module_version": "*",
       "_view_module_version": "*",
       "_view_name": "StyleView",
       "button_color": null
      }
     },
     "c83788f9bb8b46058c81e400e00ef0f0": {
      "model_module": "jupyter-js-widgets",
      "model_module_version": "*",
      "model_name": "ButtonStyleModel",
      "state": {
       "_model_module_version": "*",
       "_view_module_version": "*",
       "_view_name": "StyleView",
       "button_color": null
      }
     },
     "c910caa3368048958583cae2480ae5db": {
      "model_module": "jupyter-js-widgets",
      "model_module_version": "~2.0.27",
      "model_name": "LayoutModel",
      "state": {
       "_model_module_version": "~2.0.27",
       "_view_module_version": "~2.0.27"
      }
     },
     "c9db59dceafc4fd390fd7520f9df22d7": {
      "model_module": "jupyter-js-widgets",
      "model_module_version": "*",
      "model_name": "ButtonStyleModel",
      "state": {
       "_model_module_version": "*",
       "_view_module_version": "*",
       "_view_name": "StyleView",
       "button_color": null
      }
     },
     "ca16d62f0d684a44b2164ded470bb328": {
      "model_module": "jupyter-js-widgets",
      "model_module_version": "~2.0.27",
      "model_name": "ButtonModel",
      "state": {
       "_model_module_version": "~2.0.27",
       "_view_module_version": "~2.0.27",
       "description": "(50% width, 80px height) button",
       "layout": "IPY_MODEL_ce30616df7db42e4bf4343210fa6c694",
       "style": "IPY_MODEL_57e89e96422e4c5d9c780569be7e8299"
      }
     },
     "ca45d15b71a84e218c10ac7255c04673": {
      "model_module": "jupyter-js-widgets",
      "model_module_version": "*",
      "model_name": "ButtonStyleModel",
      "state": {
       "_model_module_version": "*",
       "_view_module_version": "*",
       "_view_name": "StyleView",
       "button_color": null
      }
     },
     "caa1002a3e2b4e9d91f55c580756fab4": {
      "model_module": "jupyter-js-widgets",
      "model_module_version": "*",
      "model_name": "ButtonStyleModel",
      "state": {
       "_model_module_version": "*",
       "_view_module_version": "*",
       "_view_name": "StyleView",
       "button_color": null
      }
     },
     "cb7115ec4f194e78bcd13363892882b6": {
      "model_module": "jupyter-js-widgets",
      "model_module_version": "*",
      "model_name": "ButtonStyleModel",
      "state": {
       "_model_module_version": "*",
       "_view_module_version": "*",
       "_view_name": "StyleView",
       "button_color": null
      }
     },
     "cbc62f359a2449659be1ce81acf44c71": {
      "model_module": "jupyter-js-widgets",
      "model_module_version": "~2.0.27",
      "model_name": "ButtonModel",
      "state": {
       "_model_module_version": "~2.0.27",
       "_view_module_version": "~2.0.27",
       "button_style": "warning",
       "layout": "IPY_MODEL_b569bd266374470c9ba88ddd2531bcf9",
       "style": "IPY_MODEL_1e3700f0f8dc41189dbb5f9c798ba4c2"
      }
     },
     "cc20ed40954642dea15d68cf6b119f3e": {
      "model_module": "jupyter-js-widgets",
      "model_module_version": "~2.0.27",
      "model_name": "LayoutModel",
      "state": {
       "_model_module_version": "~2.0.27",
       "_view_module_version": "~2.0.27"
      }
     },
     "cc66ed4e312146b8b16846cd46dcb242": {
      "model_module": "jupyter-js-widgets",
      "model_module_version": "~2.0.27",
      "model_name": "ButtonModel",
      "state": {
       "_model_module_version": "~2.0.27",
       "_view_module_version": "~2.0.27",
       "description": "weight=2",
       "layout": "IPY_MODEL_3d462aa64e724d2199880da199c32436",
       "style": "IPY_MODEL_c53ffb340ae34b2c9d72bd9ff0b3f08a"
      }
     },
     "cd61d466bf1b42c5a53f72a694cd2010": {
      "model_module": "jupyter-js-widgets",
      "model_module_version": "~2.0.27",
      "model_name": "LayoutModel",
      "state": {
       "_model_module_version": "~2.0.27",
       "_view_module_version": "~2.0.27"
      }
     },
     "ce30616df7db42e4bf4343210fa6c694": {
      "model_module": "jupyter-js-widgets",
      "model_module_version": "~2.0.27",
      "model_name": "LayoutModel",
      "state": {
       "_model_module_version": "~2.0.27",
       "_view_module_version": "~2.0.27",
       "height": "80px",
       "width": "50%"
      }
     },
     "cf70bf9b22434648be98831cd6ca014d": {
      "model_module": "jupyter-js-widgets",
      "model_module_version": "*",
      "model_name": "ButtonStyleModel",
      "state": {
       "_model_module_version": "*",
       "_view_module_version": "*",
       "_view_name": "StyleView",
       "button_color": null
      }
     },
     "d291b653e4b8420190a144ee9874211f": {
      "model_module": "jupyter-js-widgets",
      "model_module_version": "~2.0.27",
      "model_name": "LayoutModel",
      "state": {
       "_model_module_version": "~2.0.27",
       "_view_module_version": "~2.0.27"
      }
     },
     "d306325fda2145278d64077abb743455": {
      "model_module": "jupyter-js-widgets",
      "model_module_version": "*",
      "model_name": "ButtonStyleModel",
      "state": {
       "_model_module_version": "*",
       "_view_module_version": "*",
       "_view_name": "StyleView",
       "button_color": null
      }
     },
     "d392f14bbaa1414ca3c28f3d46c0323f": {
      "model_module": "jupyter-js-widgets",
      "model_module_version": "~2.0.27",
      "model_name": "BoxModel",
      "state": {
       "_model_module_version": "~2.0.27",
       "_view_module_version": "~2.0.27",
       "children": [
        "IPY_MODEL_8dbb9ca493d6483a88a712fa273cb894",
        "IPY_MODEL_2f498e7ad9e54927936e522fbe309e86",
        "IPY_MODEL_20903f5a4e4442158c9706c2cb0f254f",
        "IPY_MODEL_303457828871432ca35fcbbcc8a2dbc0"
       ],
       "layout": "IPY_MODEL_fe265bf45a7442fe91d3eb5af3b0a49e"
      }
     },
     "d3b4ac1015ab4012b77578f40a8f82ce": {
      "model_module": "jupyter-js-widgets",
      "model_module_version": "*",
      "model_name": "ButtonStyleModel",
      "state": {
       "_model_module_version": "*",
       "_view_module_version": "*",
       "_view_name": "StyleView",
       "button_color": null
      }
     },
     "d3be874f15784e7ca1107ba71fc6cdb2": {
      "model_module": "jupyter-js-widgets",
      "model_module_version": "~2.0.27",
      "model_name": "ButtonModel",
      "state": {
       "_model_module_version": "~2.0.27",
       "_view_module_version": "~2.0.27",
       "button_style": "warning",
       "layout": "IPY_MODEL_ba792b5822ca48d9a5dba7fb4463e518",
       "style": "IPY_MODEL_fcde7d30a9ca46ce87a84dbc0d7fddcb"
      }
     },
     "d3e104f0632a488cbefbbb267c16fe8f": {
      "model_module": "jupyter-js-widgets",
      "model_module_version": "~2.0.27",
      "model_name": "LayoutModel",
      "state": {
       "_model_module_version": "~2.0.27",
       "_view_module_version": "~2.0.27"
      }
     },
     "d51efeee876149c68aa69afc0ea03c4a": {
      "model_module": "jupyter-js-widgets",
      "model_module_version": "*",
      "model_name": "ButtonStyleModel",
      "state": {
       "_model_module_version": "*",
       "_view_module_version": "*",
       "_view_name": "StyleView",
       "button_color": null
      }
     },
     "d6e017ae371f488ca66d4464b20ac960": {
      "model_module": "jupyter-js-widgets",
      "model_module_version": "*",
      "model_name": "ButtonStyleModel",
      "state": {
       "_model_module_version": "*",
       "_view_module_version": "*",
       "_view_name": "StyleView",
       "button_color": null
      }
     },
     "d757ff6684b74053b4f17e86bf5e7f97": {
      "model_module": "jupyter-js-widgets",
      "model_module_version": "~2.0.27",
      "model_name": "LayoutModel",
      "state": {
       "_model_module_version": "~2.0.27",
       "_view_module_version": "~2.0.27"
      }
     },
     "d7ed03fe40034ffd8f2bbd242f2aeb0e": {
      "model_module": "jupyter-js-widgets",
      "model_module_version": "~2.0.27",
      "model_name": "ButtonModel",
      "state": {
       "_model_module_version": "~2.0.27",
       "_view_module_version": "~2.0.27",
       "button_style": "warning",
       "layout": "IPY_MODEL_59851902a66c47a9909da8a58cdaee24",
       "style": "IPY_MODEL_3a856bd14f9444e180adae4c7fbf7af9"
      }
     },
     "d7f65f78d767462d9a1112d1fd552d3d": {
      "model_module": "jupyter-js-widgets",
      "model_module_version": "~2.0.27",
      "model_name": "ButtonModel",
      "state": {
       "_model_module_version": "~2.0.27",
       "_view_module_version": "~2.0.27",
       "button_style": "warning",
       "layout": "IPY_MODEL_59851902a66c47a9909da8a58cdaee24",
       "style": "IPY_MODEL_e42c435e55a34e1a98759d4118d913b8"
      }
     },
     "d833b110c82c461e88f2dcd8709a94b9": {
      "model_module": "jupyter-js-widgets",
      "model_module_version": "~2.0.27",
      "model_name": "ButtonModel",
      "state": {
       "_model_module_version": "~2.0.27",
       "_view_module_version": "~2.0.27",
       "button_style": "warning",
       "layout": "IPY_MODEL_b569bd266374470c9ba88ddd2531bcf9",
       "style": "IPY_MODEL_fa27da3c4219419ba2c6821ee8e6c411"
      }
     },
     "d842c74786c34335870f311d655645f7": {
      "model_module": "jupyter-js-widgets",
      "model_module_version": "~2.0.27",
      "model_name": "IntSliderModel",
      "state": {
       "_model_module_version": "~2.0.27",
       "_view_module_version": "~2.0.27",
       "layout": "IPY_MODEL_7121ecba58b7486e87604aa8e56ee6a2",
       "style": "IPY_MODEL_f4cc160c700c4e5e9a7733408e8a4fd3"
      }
     },
     "d86471d6611c4457b841da8b53a69ab8": {
      "model_module": "jupyter-js-widgets",
      "model_module_version": "~2.0.27",
      "model_name": "ButtonModel",
      "state": {
       "_model_module_version": "~2.0.27",
       "_view_module_version": "~2.0.27",
       "button_style": "danger",
       "description": "correct",
       "layout": "IPY_MODEL_c54000fc571c429ea70bedea34247df1",
       "style": "IPY_MODEL_9f519d9938d74307a9e046e5e7d5c407"
      }
     },
     "d87169be4159485794a2bca228b1a65b": {
      "model_module": "jupyter-js-widgets",
      "model_module_version": "*",
      "model_name": "ButtonStyleModel",
      "state": {
       "_model_module_version": "*",
       "_view_module_version": "*",
       "_view_name": "StyleView",
       "button_color": null
      }
     },
     "d8f54f952cb24ab49b002d1bb75e45be": {
      "model_module": "jupyter-js-widgets",
      "model_module_version": "*",
      "model_name": "ButtonStyleModel",
      "state": {
       "_model_module_version": "*",
       "_view_module_version": "*",
       "_view_name": "StyleView",
       "button_color": null
      }
     },
     "d99910d1686f41c0ada3294d5508b443": {
      "model_module": "jupyter-js-widgets",
      "model_module_version": "~2.0.27",
      "model_name": "ButtonModel",
      "state": {
       "_model_module_version": "~2.0.27",
       "_view_module_version": "~2.0.27",
       "button_style": "warning",
       "layout": "IPY_MODEL_59851902a66c47a9909da8a58cdaee24",
       "style": "IPY_MODEL_e63ac43e08c04be2a77dd8bfc3d0bcdd"
      }
     },
     "da8f611071d7417a81d24f93dfb69990": {
      "model_module": "jupyter-js-widgets",
      "model_module_version": "~2.0.27",
      "model_name": "ButtonModel",
      "state": {
       "_model_module_version": "~2.0.27",
       "_view_module_version": "~2.0.27",
       "description": "staple",
       "layout": "IPY_MODEL_697c8ed6f04c4d0f836f9c77d71e2d13",
       "style": "IPY_MODEL_d51efeee876149c68aa69afc0ea03c4a"
      }
     },
     "dbc080f8ba0943a8ae0e709d0142b035": {
      "model_module": "jupyter-js-widgets",
      "model_module_version": "~2.0.27",
      "model_name": "ButtonModel",
      "state": {
       "_model_module_version": "~2.0.27",
       "_view_module_version": "~2.0.27",
       "button_style": "warning",
       "layout": "IPY_MODEL_ba792b5822ca48d9a5dba7fb4463e518",
       "style": "IPY_MODEL_dbdc14080abb40d1b0a0123ecd3163f6"
      }
     },
     "dbdc14080abb40d1b0a0123ecd3163f6": {
      "model_module": "jupyter-js-widgets",
      "model_module_version": "*",
      "model_name": "ButtonStyleModel",
      "state": {
       "_model_module_version": "*",
       "_view_module_version": "*",
       "_view_name": "StyleView",
       "button_color": null
      }
     },
     "dbfd1a9881574aebbcb0b4edc9756789": {
      "model_module": "jupyter-js-widgets",
      "model_module_version": "~2.0.27",
      "model_name": "LayoutModel",
      "state": {
       "_model_module_version": "~2.0.27",
       "_view_module_version": "~2.0.27"
      }
     },
     "dcf749ba0b4f4a1da72d9b62565b9322": {
      "model_module": "jupyter-js-widgets",
      "model_module_version": "~2.0.27",
      "model_name": "LayoutModel",
      "state": {
       "_model_module_version": "~2.0.27",
       "_view_module_version": "~2.0.27"
      }
     },
     "dd4aa6a1d60b4bc0a2e077eb4af8d2a4": {
      "model_module": "jupyter-js-widgets",
      "model_module_version": "*",
      "model_name": "ButtonStyleModel",
      "state": {
       "_model_module_version": "*",
       "_view_module_version": "*",
       "_view_name": "StyleView",
       "button_color": null
      }
     },
     "dd710746475c49c1b7750f7b1ae940c0": {
      "model_module": "jupyter-js-widgets",
      "model_module_version": "*",
      "model_name": "ButtonStyleModel",
      "state": {
       "_model_module_version": "*",
       "_view_module_version": "*",
       "_view_name": "StyleView",
       "button_color": null
      }
     },
     "dd865919ebfd4062b4e39a5e262c7f7a": {
      "model_module": "jupyter-js-widgets",
      "model_module_version": "*",
      "model_name": "ButtonStyleModel",
      "state": {
       "_model_module_version": "*",
       "_view_module_version": "*",
       "_view_name": "StyleView",
       "button_color": null
      }
     },
     "de5238e31b074bbeab10781538e1e49e": {
      "model_module": "jupyter-js-widgets",
      "model_module_version": "~2.0.27",
      "model_name": "BoxModel",
      "state": {
       "_model_module_version": "~2.0.27",
       "_view_module_version": "~2.0.27",
       "children": [
        "IPY_MODEL_a19b6d59734f4f51900925a88d58c3b3",
        "IPY_MODEL_7ec93a2d9f874460a3f6791766a3b2ae"
       ],
       "layout": "IPY_MODEL_be83109938dd44b6abafdc7e12946b19"
      }
     },
     "de70efd5805d46ca864ead5d0d090eb8": {
      "model_module": "jupyter-js-widgets",
      "model_module_version": "*",
      "model_name": "ButtonStyleModel",
      "state": {
       "_model_module_version": "*",
       "_view_module_version": "*",
       "_view_name": "StyleView",
       "button_color": null
      }
     },
     "ded2f20e6b474890bf3e2fca24b4946c": {
      "model_module": "jupyter-js-widgets",
      "model_module_version": "~2.0.27",
      "model_name": "LayoutModel",
      "state": {
       "_model_module_version": "~2.0.27",
       "_view_module_version": "~2.0.27",
       "align_items": "stretch",
       "border": "solid",
       "display": "flex",
       "flex_flow": "row",
       "width": "50%"
      }
     },
     "dff60f6fd57040339647880d2bc10ac7": {
      "model_module": "jupyter-js-widgets",
      "model_module_version": "~2.0.27",
      "model_name": "ButtonModel",
      "state": {
       "_model_module_version": "~2.0.27",
       "_view_module_version": "~2.0.27",
       "button_style": "warning",
       "layout": "IPY_MODEL_ba792b5822ca48d9a5dba7fb4463e518",
       "style": "IPY_MODEL_81d645cd5a794c8cb7f7c7a2a9bf92b0"
      }
     },
     "e07429f5f781499fa7bac0a26a8b7bac": {
      "model_module": "jupyter-js-widgets",
      "model_module_version": "*",
      "model_name": "SliderStyleModel",
      "state": {
       "_model_module_version": "*",
       "_view_module_version": "*",
       "_view_name": "StyleView",
       "handle_color": null
      }
     },
     "e09ffac0dca0489ea83f8e1e159f9fdf": {
      "model_module": "jupyter-js-widgets",
      "model_module_version": "~2.0.27",
      "model_name": "ButtonModel",
      "state": {
       "_model_module_version": "~2.0.27",
       "_view_module_version": "~2.0.27",
       "button_style": "warning",
       "layout": "IPY_MODEL_b569bd266374470c9ba88ddd2531bcf9",
       "style": "IPY_MODEL_3e85bccdb0de4e3b9323289cc24a83f2"
      }
     },
     "e0a53ee819f84d6585c006e83f951cbe": {
      "model_module": "jupyter-js-widgets",
      "model_module_version": "*",
      "model_name": "ButtonStyleModel",
      "state": {
       "_model_module_version": "*",
       "_view_module_version": "*",
       "_view_name": "StyleView",
       "button_color": null
      }
     },
     "e0c28553015143aeb03ba83333d31189": {
      "model_module": "jupyter-js-widgets",
      "model_module_version": "~2.0.27",
      "model_name": "ButtonModel",
      "state": {
       "_model_module_version": "~2.0.27",
       "_view_module_version": "~2.0.27",
       "button_style": "warning",
       "layout": "IPY_MODEL_ba792b5822ca48d9a5dba7fb4463e518",
       "style": "IPY_MODEL_0c5fcd60d6304e8aa59a90b1a9f33e56"
      }
     },
     "e1368251745845f587bc7549df0480c6": {
      "model_module": "jupyter-js-widgets",
      "model_module_version": "~2.0.27",
      "model_name": "LayoutModel",
      "state": {
       "_model_module_version": "~2.0.27",
       "_view_module_version": "~2.0.27"
      }
     },
     "e2680b2b0b5b42ed86cac65aaeea161e": {
      "model_module": "jupyter-js-widgets",
      "model_module_version": "~2.0.27",
      "model_name": "VBoxModel",
      "state": {
       "_model_module_version": "~2.0.27",
       "_view_module_version": "~2.0.27",
       "children": [
        "IPY_MODEL_6ac55ae9048647be84c6675a9b35dfc9",
        "IPY_MODEL_b4581748fda940da81a3ad1e43f00df6"
       ],
       "layout": "IPY_MODEL_c076a1f83dab435a993e9630d543a35e"
      }
     },
     "e364b71e99c34f96938e3b58b2eb6c95": {
      "model_module": "jupyter-js-widgets",
      "model_module_version": "~2.0.27",
      "model_name": "ButtonModel",
      "state": {
       "_model_module_version": "~2.0.27",
       "_view_module_version": "~2.0.27",
       "button_style": "warning",
       "layout": "IPY_MODEL_ba792b5822ca48d9a5dba7fb4463e518",
       "style": "IPY_MODEL_b84c185b2b004e4fa3c782d9ec209b3c"
      }
     },
     "e3f87d4359174d8ba9e961dc7f692ebc": {
      "model_module": "jupyter-js-widgets",
      "model_module_version": "~2.0.27",
      "model_name": "ButtonModel",
      "state": {
       "_model_module_version": "~2.0.27",
       "_view_module_version": "~2.0.27",
       "button_style": "warning",
       "layout": "IPY_MODEL_b569bd266374470c9ba88ddd2531bcf9",
       "style": "IPY_MODEL_38f443ef27364d9a928f6f124a658037"
      }
     },
     "e42c435e55a34e1a98759d4118d913b8": {
      "model_module": "jupyter-js-widgets",
      "model_module_version": "*",
      "model_name": "ButtonStyleModel",
      "state": {
       "_model_module_version": "*",
       "_view_module_version": "*",
       "_view_name": "StyleView",
       "button_color": null
      }
     },
     "e493757ff1f44b31aafcbb1630b456a0": {
      "model_module": "jupyter-js-widgets",
      "model_module_version": "*",
      "model_name": "ButtonStyleModel",
      "state": {
       "_model_module_version": "*",
       "_view_module_version": "*",
       "_view_name": "StyleView",
       "button_color": null
      }
     },
     "e4a95045132c4dd59967643b6da769e6": {
      "model_module": "jupyter-js-widgets",
      "model_module_version": "*",
      "model_name": "ButtonStyleModel",
      "state": {
       "_model_module_version": "*",
       "_view_module_version": "*",
       "_view_name": "StyleView",
       "button_color": null
      }
     },
     "e4b9d9c6dff64079b1401ac68918fae9": {
      "model_module": "jupyter-js-widgets",
      "model_module_version": "~2.0.27",
      "model_name": "LayoutModel",
      "state": {
       "_model_module_version": "~2.0.27",
       "_view_module_version": "~2.0.27"
      }
     },
     "e4e3a73304e24729b62aa3f171562c51": {
      "model_module": "jupyter-js-widgets",
      "model_module_version": "~2.0.27",
      "model_name": "ButtonModel",
      "state": {
       "_model_module_version": "~2.0.27",
       "_view_module_version": "~2.0.27",
       "button_style": "warning",
       "layout": "IPY_MODEL_59851902a66c47a9909da8a58cdaee24",
       "style": "IPY_MODEL_a2c83eee6d134eada6c130e497dbb2a6"
      }
     },
     "e4f2070a406b49aa9653221ed85e1044": {
      "model_module": "jupyter-js-widgets",
      "model_module_version": "~2.0.27",
      "model_name": "ButtonModel",
      "state": {
       "_model_module_version": "~2.0.27",
       "_view_module_version": "~2.0.27",
       "button_style": "warning",
       "layout": "IPY_MODEL_b569bd266374470c9ba88ddd2531bcf9",
       "style": "IPY_MODEL_f463bdb7fb5f42d3b9f4fd7ee9b45d2a"
      }
     },
     "e4f4911cf8a24a53b22f306553701f7f": {
      "model_module": "jupyter-js-widgets",
      "model_module_version": "~2.0.27",
      "model_name": "LayoutModel",
      "state": {
       "_model_module_version": "~2.0.27",
       "_view_module_version": "~2.0.27",
       "border": "3px solid black",
       "display": "flex",
       "height": "",
       "overflow_x": "scroll",
       "width": "500px"
      }
     },
     "e5c4fe27645045939cd119783b8c007e": {
      "model_module": "jupyter-js-widgets",
      "model_module_version": "~2.0.27",
      "model_name": "LayoutModel",
      "state": {
       "_model_module_version": "~2.0.27",
       "_view_module_version": "~2.0.27",
       "flex": "1 1 auto",
       "width": "auto"
      }
     },
     "e5cd337a2a8e450a8bf75b84541d2f93": {
      "model_module": "jupyter-js-widgets",
      "model_module_version": "~2.0.27",
      "model_name": "ButtonModel",
      "state": {
       "_model_module_version": "~2.0.27",
       "_view_module_version": "~2.0.27",
       "button_style": "warning",
       "layout": "IPY_MODEL_59851902a66c47a9909da8a58cdaee24",
       "style": "IPY_MODEL_4836f2c1321c4b6f90e2df12b88c98da"
      }
     },
     "e623a94bed8b406d9c36a0155a47e08d": {
      "model_module": "jupyter-js-widgets",
      "model_module_version": "~2.0.27",
      "model_name": "ButtonModel",
      "state": {
       "_model_module_version": "~2.0.27",
       "_view_module_version": "~2.0.27",
       "button_style": "warning",
       "layout": "IPY_MODEL_b569bd266374470c9ba88ddd2531bcf9",
       "style": "IPY_MODEL_e0a53ee819f84d6585c006e83f951cbe"
      }
     },
     "e63ac43e08c04be2a77dd8bfc3d0bcdd": {
      "model_module": "jupyter-js-widgets",
      "model_module_version": "*",
      "model_name": "ButtonStyleModel",
      "state": {
       "_model_module_version": "*",
       "_view_module_version": "*",
       "_view_name": "StyleView",
       "button_color": null
      }
     },
     "e6e13b4d761b4582867fc7b8a51a20bd": {
      "model_module": "jupyter-js-widgets",
      "model_module_version": "*",
      "model_name": "ButtonStyleModel",
      "state": {
       "_model_module_version": "*",
       "_view_module_version": "*",
       "_view_name": "StyleView",
       "button_color": null
      }
     },
     "e7695644be164d86a0320b722a9b65e2": {
      "model_module": "jupyter-js-widgets",
      "model_module_version": "~2.0.27",
      "model_name": "LabelModel",
      "state": {
       "_model_module_version": "~2.0.27",
       "_view_module_version": "~2.0.27",
       "layout": "IPY_MODEL_0fd3254e12374e83a8133d99c437daff",
       "value": "A too long description"
      }
     },
     "e83fbc220a194c04b07a1b87cf85871f": {
      "model_module": "jupyter-js-widgets",
      "model_module_version": "~2.0.27",
      "model_name": "IntSliderModel",
      "state": {
       "_model_module_version": "~2.0.27",
       "_view_module_version": "~2.0.27",
       "layout": "IPY_MODEL_08f4b6edcbcb42938ee44f3846f21c4e",
       "style": "IPY_MODEL_793af2ca8962424d938d2e433e0acc80"
      }
     },
     "e8fb1656aeac4ca780744ebf3b32fcc0": {
      "model_module": "jupyter-js-widgets",
      "model_module_version": "*",
      "model_name": "ButtonStyleModel",
      "state": {
       "_model_module_version": "*",
       "_view_module_version": "*",
       "_view_name": "StyleView",
       "button_color": null
      }
     },
     "e93df4ab9e3344b3b27a13c716b637cb": {
      "model_module": "jupyter-js-widgets",
      "model_module_version": "~2.0.27",
      "model_name": "LayoutModel",
      "state": {
       "_model_module_version": "~2.0.27",
       "_view_module_version": "~2.0.27"
      }
     },
     "e96883452b034fdca1e385332433f49a": {
      "model_module": "jupyter-js-widgets",
      "model_module_version": "~2.0.27",
      "model_name": "LayoutModel",
      "state": {
       "_model_module_version": "~2.0.27",
       "_view_module_version": "~2.0.27",
       "align_items": "stretch",
       "border": "solid 2px",
       "display": "flex",
       "flex_flow": "column",
       "width": "50%"
      }
     },
     "ec4d9b978f5147b19e364a4adcac94c0": {
      "model_module": "jupyter-js-widgets",
      "model_module_version": "~2.0.27",
      "model_name": "ButtonModel",
      "state": {
       "_model_module_version": "~2.0.27",
       "_view_module_version": "~2.0.27",
       "button_style": "warning",
       "layout": "IPY_MODEL_59851902a66c47a9909da8a58cdaee24",
       "style": "IPY_MODEL_1730f9d7b84f4347a8372305bd6cd598"
      }
     },
     "ecf68d4cdb374106831d9ad9c48d6ea7": {
      "model_module": "jupyter-js-widgets",
      "model_module_version": "*",
      "model_name": "ButtonStyleModel",
      "state": {
       "_model_module_version": "*",
       "_view_module_version": "*",
       "_view_name": "StyleView",
       "button_color": null
      }
     },
     "ed4a1f32d16c4bb3a191a6f7a51e30cd": {
      "model_module": "jupyter-js-widgets",
      "model_module_version": "*",
      "model_name": "ButtonStyleModel",
      "state": {
       "_model_module_version": "*",
       "_view_module_version": "*",
       "_view_name": "StyleView",
       "button_color": null
      }
     },
     "ef6396d20561480ba53e73b2c3d36ec7": {
      "model_module": "jupyter-js-widgets",
      "model_module_version": "*",
      "model_name": "ButtonStyleModel",
      "state": {
       "_model_module_version": "*",
       "_view_module_version": "*",
       "_view_name": "StyleView",
       "button_color": null
      }
     },
     "f04130e66f6046aba23243ecca104834": {
      "model_module": "jupyter-js-widgets",
      "model_module_version": "~2.0.27",
      "model_name": "ButtonModel",
      "state": {
       "_model_module_version": "~2.0.27",
       "_view_module_version": "~2.0.27",
       "description": "weight=1",
       "layout": "IPY_MODEL_6150b4acede6476fba9b87f2a2778979",
       "style": "IPY_MODEL_55c68d43347e42d681446ba8cc4af7df"
      }
     },
     "f1a4457cf1054cd3935282577880766b": {
      "model_module": "jupyter-js-widgets",
      "model_module_version": "~2.0.27",
      "model_name": "LayoutModel",
      "state": {
       "_model_module_version": "~2.0.27",
       "_view_module_version": "~2.0.27"
      }
     },
     "f1f12ec7b33548e28ddc3921a8af041c": {
      "model_module": "jupyter-js-widgets",
      "model_module_version": "~2.0.27",
      "model_name": "LayoutModel",
      "state": {
       "_model_module_version": "~2.0.27",
       "_view_module_version": "~2.0.27"
      }
     },
     "f23d45f3d87a4c55bfd66fb1e98a9166": {
      "model_module": "jupyter-js-widgets",
      "model_module_version": "*",
      "model_name": "SliderStyleModel",
      "state": {
       "_model_module_version": "*",
       "_view_module_version": "*",
       "_view_name": "StyleView",
       "handle_color": "blue"
      }
     },
     "f268c06ad1274aef8344c3b1fd0b0289": {
      "model_module": "jupyter-js-widgets",
      "model_module_version": "~2.0.27",
      "model_name": "LayoutModel",
      "state": {
       "_model_module_version": "~2.0.27",
       "_view_module_version": "~2.0.27"
      }
     },
     "f377404aa8fe4f8abc63f4be2e27b5cc": {
      "model_module": "jupyter-js-widgets",
      "model_module_version": "~2.0.27",
      "model_name": "ButtonModel",
      "state": {
       "_model_module_version": "~2.0.27",
       "_view_module_version": "~2.0.27",
       "button_style": "warning",
       "layout": "IPY_MODEL_ba792b5822ca48d9a5dba7fb4463e518",
       "style": "IPY_MODEL_161c06a0d71a431c8f0ce95a8dc5ae35"
      }
     },
     "f44de27de2ed40b79b2f90ad992e3e6e": {
      "model_module": "jupyter-js-widgets",
      "model_module_version": "*",
      "model_name": "ButtonStyleModel",
      "state": {
       "_model_module_version": "*",
       "_view_module_version": "*",
       "_view_name": "StyleView",
       "button_color": null
      }
     },
     "f463bdb7fb5f42d3b9f4fd7ee9b45d2a": {
      "model_module": "jupyter-js-widgets",
      "model_module_version": "*",
      "model_name": "ButtonStyleModel",
      "state": {
       "_model_module_version": "*",
       "_view_module_version": "*",
       "_view_name": "StyleView",
       "button_color": null
      }
     },
     "f4c441180a0843189d5dc15ce2d19893": {
      "model_module": "jupyter-js-widgets",
      "model_module_version": "~2.0.27",
      "model_name": "BoxModel",
      "state": {
       "_model_module_version": "~2.0.27",
       "_view_module_version": "~2.0.27",
       "children": [
        "IPY_MODEL_73df078866184d95a4e629fd8610c3fe",
        "IPY_MODEL_53034c5019d9423b9646a7cc3996e2cf",
        "IPY_MODEL_0c9165fb19de4c419b1ecb97b57e4f1a",
        "IPY_MODEL_d7f65f78d767462d9a1112d1fd552d3d",
        "IPY_MODEL_8643c796fdad470685ab9eb9972d40a3",
        "IPY_MODEL_572eb8dd949e4403b018e2175531f5a9",
        "IPY_MODEL_108bef6a39cc48b29b16a11d11493207",
        "IPY_MODEL_bf0d1105ca14424b921811594f119e25",
        "IPY_MODEL_9172556a20ad478cbaa136d541cc0142",
        "IPY_MODEL_34f297dc60a946688c955f489eda1ff7",
        "IPY_MODEL_6b0aef8caff04e8fadb5e495cdbe893f",
        "IPY_MODEL_3dead7f28aab4d8ca5fd285caf63e38b",
        "IPY_MODEL_14cff31799b8447682ecd5f154f4b189",
        "IPY_MODEL_86d3f950f368487980c7fc829669c6fb",
        "IPY_MODEL_9f207b6e463447d7a604882c44867967",
        "IPY_MODEL_939fdce8ddd84b02aa1c35a50ae20b7b",
        "IPY_MODEL_2558e79c2ae749e49ca9c2b6826ef900",
        "IPY_MODEL_267621babccb4794abc7054e6568c5ef",
        "IPY_MODEL_e4e3a73304e24729b62aa3f171562c51",
        "IPY_MODEL_a0c9629b1fc7419da430122deec050af",
        "IPY_MODEL_9f085eed6d9e4abe98b4d2591baf64af",
        "IPY_MODEL_034e8c544baa44c48c8f5bc83c9d0312",
        "IPY_MODEL_3cb00a973ee945cab3e5ba474f009c2d",
        "IPY_MODEL_ec4d9b978f5147b19e364a4adcac94c0",
        "IPY_MODEL_a3d967b68f714ef188c04f67c818f31d",
        "IPY_MODEL_4d5c445d0e0a40ddb609828da433d112",
        "IPY_MODEL_2dbad5a169c64b619b3f16244eef6f69",
        "IPY_MODEL_ff96d05af73f4c1196263531bbd3b551",
        "IPY_MODEL_7484c159bc8d45679194df1f8c08f56e",
        "IPY_MODEL_e5cd337a2a8e450a8bf75b84541d2f93",
        "IPY_MODEL_a182e9a1cb6149c3abfdda03fa937dbc",
        "IPY_MODEL_33fd8bb596a74164902515269086273a",
        "IPY_MODEL_d7ed03fe40034ffd8f2bbd242f2aeb0e",
        "IPY_MODEL_6b58a62c04364d0d95f98c1c7f119f0f",
        "IPY_MODEL_00ea0b7fad094e7fb89c59f52fde30c1",
        "IPY_MODEL_b276bd32ddd740379748b96f62e65bb2",
        "IPY_MODEL_1ab5ec408cf94644b4322755084620f3",
        "IPY_MODEL_2c3bd11852b7461ba49f21937460cf5e",
        "IPY_MODEL_a54a97722f154c3a8fe57af7d4ce0e5f",
        "IPY_MODEL_d99910d1686f41c0ada3294d5508b443"
       ],
       "layout": "IPY_MODEL_5e0bc5076807437c8c8e0b6787bbf6b2"
      }
     },
     "f4cc160c700c4e5e9a7733408e8a4fd3": {
      "model_module": "jupyter-js-widgets",
      "model_module_version": "*",
      "model_name": "SliderStyleModel",
      "state": {
       "_model_module_version": "*",
       "_view_module_version": "*",
       "_view_name": "StyleView",
       "handle_color": null
      }
     },
     "f4d148ad6e1a413abaa2a1b7a7260bcb": {
      "model_module": "jupyter-js-widgets",
      "model_module_version": "~2.0.27",
      "model_name": "ButtonModel",
      "state": {
       "_model_module_version": "~2.0.27",
       "_view_module_version": "~2.0.27",
       "button_style": "warning",
       "layout": "IPY_MODEL_b569bd266374470c9ba88ddd2531bcf9",
       "style": "IPY_MODEL_4b5e698d9e5c442a90b9f35bdb541443"
      }
     },
     "f55d57f7980d41629ae7eca1683ba9fc": {
      "model_module": "jupyter-js-widgets",
      "model_module_version": "~2.0.27",
      "model_name": "FloatTextModel",
      "state": {
       "_model_module_version": "~2.0.27",
       "_view_module_version": "~2.0.27",
       "layout": "IPY_MODEL_fda40116812c42f9abd469a604c0434e"
      }
     },
     "f6aaee7596e741118ddd8f912a08426c": {
      "model_module": "jupyter-js-widgets",
      "model_module_version": "*",
      "model_name": "ButtonStyleModel",
      "state": {
       "_model_module_version": "*",
       "_view_module_version": "*",
       "_view_name": "StyleView",
       "button_color": null
      }
     },
     "f6f05a49b56e4fd79ab61072f79357c6": {
      "model_module": "jupyter-js-widgets",
      "model_module_version": "~2.0.27",
      "model_name": "ButtonModel",
      "state": {
       "_model_module_version": "~2.0.27",
       "_view_module_version": "~2.0.27",
       "description": "Another button with the same layout",
       "layout": "IPY_MODEL_91097b78e9d64bdd9607fd2a82b0ed0e",
       "style": "IPY_MODEL_c817ab6d5fe0472387f7e48d0e69436e"
      }
     },
     "f713302b4e584aac861ffc41082e9f21": {
      "model_module": "jupyter-js-widgets",
      "model_module_version": "*",
      "model_name": "ButtonStyleModel",
      "state": {
       "_model_module_version": "*",
       "_view_module_version": "*",
       "_view_name": "StyleView",
       "button_color": null
      }
     },
     "f71f6f22e6fd4f87946c8f7f29625466": {
      "model_module": "jupyter-js-widgets",
      "model_module_version": "*",
      "model_name": "ButtonStyleModel",
      "state": {
       "_model_module_version": "*",
       "_view_module_version": "*",
       "_view_name": "StyleView",
       "button_color": null
      }
     },
     "f74d7540484049a09faa46daa5f755b4": {
      "model_module": "jupyter-js-widgets",
      "model_module_version": "~2.0.27",
      "model_name": "LayoutModel",
      "state": {
       "_model_module_version": "~2.0.27",
       "_view_module_version": "~2.0.27"
      }
     },
     "f74f0da8b9884948b360f1aaa7da453d": {
      "model_module": "jupyter-js-widgets",
      "model_module_version": "*",
      "model_name": "ButtonStyleModel",
      "state": {
       "_model_module_version": "*",
       "_view_module_version": "*",
       "_view_name": "StyleView",
       "button_color": null
      }
     },
     "fa27da3c4219419ba2c6821ee8e6c411": {
      "model_module": "jupyter-js-widgets",
      "model_module_version": "*",
      "model_name": "ButtonStyleModel",
      "state": {
       "_model_module_version": "*",
       "_view_module_version": "*",
       "_view_name": "StyleView",
       "button_color": null
      }
     },
     "fa499ab526ad467692ecc0248994c8a1": {
      "model_module": "jupyter-js-widgets",
      "model_module_version": "~2.0.27",
      "model_name": "TextareaModel",
      "state": {
       "_model_module_version": "~2.0.27",
       "_view_module_version": "~2.0.27",
       "layout": "IPY_MODEL_67d37b5eb4a34e2780f4d8abcd244721"
      }
     },
     "fa651cb52c054440ab10a592f35849bc": {
      "model_module": "jupyter-js-widgets",
      "model_module_version": "~2.0.27",
      "model_name": "LabelModel",
      "state": {
       "_model_module_version": "~2.0.27",
       "_view_module_version": "~2.0.27",
       "layout": "IPY_MODEL_0472c83ec2f141e98b3867164ef24649",
       "value": "Ship size"
      }
     },
     "fab7c61ba6a64a908cfb6e76a49321ae": {
      "model_module": "jupyter-js-widgets",
      "model_module_version": "~2.0.27",
      "model_name": "ButtonModel",
      "state": {
       "_model_module_version": "~2.0.27",
       "_view_module_version": "~2.0.27",
       "button_style": "warning",
       "layout": "IPY_MODEL_b569bd266374470c9ba88ddd2531bcf9",
       "style": "IPY_MODEL_9723c3753316487ab4c169eeaf1687d6"
      }
     },
     "fb53bdec27b14a51b4571e10d1b476f5": {
      "model_module": "jupyter-js-widgets",
      "model_module_version": "~2.0.27",
      "model_name": "LayoutModel",
      "state": {
       "_model_module_version": "~2.0.27",
       "_view_module_version": "~2.0.27"
      }
     },
     "fb66a34825e348bc878ff80016ffdb80": {
      "model_module": "jupyter-js-widgets",
      "model_module_version": "~2.0.27",
      "model_name": "ButtonModel",
      "state": {
       "_model_module_version": "~2.0.27",
       "_view_module_version": "~2.0.27",
       "button_style": "warning",
       "layout": "IPY_MODEL_ba792b5822ca48d9a5dba7fb4463e518",
       "style": "IPY_MODEL_ef6396d20561480ba53e73b2c3d36ec7"
      }
     },
     "fb850712a8da4e54964cc33c2eb6719e": {
      "model_module": "jupyter-js-widgets",
      "model_module_version": "~2.0.27",
      "model_name": "ButtonModel",
      "state": {
       "_model_module_version": "~2.0.27",
       "_view_module_version": "~2.0.27",
       "description": "Another button with the same layout",
       "layout": "IPY_MODEL_ce30616df7db42e4bf4343210fa6c694",
       "style": "IPY_MODEL_dd4aa6a1d60b4bc0a2e077eb4af8d2a4"
      }
     },
     "fbb6a48707e44d78bea7506a5621605d": {
      "model_module": "jupyter-js-widgets",
      "model_module_version": "~2.0.27",
      "model_name": "LabelModel",
      "state": {
       "_model_module_version": "~2.0.27",
       "_view_module_version": "~2.0.27",
       "layout": "IPY_MODEL_9d5550e82dfe43448c70daa0a0051925",
       "value": "Information"
      }
     },
     "fc0a955a226a44d0ac357b9901c37343": {
      "model_module": "jupyter-js-widgets",
      "model_module_version": "~2.0.27",
      "model_name": "ButtonModel",
      "state": {
       "_model_module_version": "~2.0.27",
       "_view_module_version": "~2.0.27",
       "description": "weight=1",
       "layout": "IPY_MODEL_4ee2397551c9499d81d77cab862f791c",
       "style": "IPY_MODEL_3aed270f28f6406987c5377d71453d7d"
      }
     },
     "fc17928120304e7094ffd61bdd416b10": {
      "model_module": "jupyter-js-widgets",
      "model_module_version": "~2.0.27",
      "model_name": "VBoxModel",
      "state": {
       "_model_module_version": "~2.0.27",
       "_view_module_version": "~2.0.27",
       "children": [
        "IPY_MODEL_b5e5556f26ea4e9c802e451a245ed09c",
        "IPY_MODEL_f4c441180a0843189d5dc15ce2d19893"
       ],
       "layout": "IPY_MODEL_5f2852f8752c4d29aee38a51b0f20a82"
      }
     },
     "fc92af64ecdf4da7a4aa23fb60f4bcce": {
      "model_module": "jupyter-js-widgets",
      "model_module_version": "~2.0.27",
      "model_name": "IntSliderModel",
      "state": {
       "_model_module_version": "~2.0.27",
       "_view_module_version": "~2.0.27",
       "description": "$\\int_0^t f$",
       "layout": "IPY_MODEL_a80c0dbbd6ca465689f1c12d86202ed6",
       "style": "IPY_MODEL_c06def193eee476d9d28d1faa6eda2fd"
      }
     },
     "fcde7d30a9ca46ce87a84dbc0d7fddcb": {
      "model_module": "jupyter-js-widgets",
      "model_module_version": "*",
      "model_name": "ButtonStyleModel",
      "state": {
       "_model_module_version": "*",
       "_view_module_version": "*",
       "_view_name": "StyleView",
       "button_color": null
      }
     },
     "fce09bd5e3b048ce86c61bf6d1f48b6d": {
      "model_module": "jupyter-js-widgets",
      "model_module_version": "*",
      "model_name": "ButtonStyleModel",
      "state": {
       "_model_module_version": "*",
       "_view_module_version": "*",
       "_view_name": "StyleView",
       "button_color": null
      }
     },
     "fd6cae784fc9443e9241f14f918d1a8f": {
      "model_module": "jupyter-js-widgets",
      "model_module_version": "*",
      "model_name": "ButtonStyleModel",
      "state": {
       "_model_module_version": "*",
       "_view_module_version": "*",
       "_view_name": "StyleView",
       "button_color": null
      }
     },
     "fda40116812c42f9abd469a604c0434e": {
      "model_module": "jupyter-js-widgets",
      "model_module_version": "~2.0.27",
      "model_name": "LayoutModel",
      "state": {
       "_model_module_version": "~2.0.27",
       "_view_module_version": "~2.0.27"
      }
     },
     "fdbc57b26ce54a97901e4a22c4beb47b": {
      "model_module": "jupyter-js-widgets",
      "model_module_version": "*",
      "model_name": "ButtonStyleModel",
      "state": {
       "_model_module_version": "*",
       "_view_module_version": "*",
       "_view_name": "StyleView",
       "button_color": null
      }
     },
     "fe1ba3b36ab441b1a2a951349adbf267": {
      "model_module": "jupyter-js-widgets",
      "model_module_version": "*",
      "model_name": "SliderStyleModel",
      "state": {
       "_model_module_version": "*",
       "_view_module_version": "*",
       "_view_name": "StyleView",
       "handle_color": null
      }
     },
     "fe265bf45a7442fe91d3eb5af3b0a49e": {
      "model_module": "jupyter-js-widgets",
      "model_module_version": "~2.0.27",
      "model_name": "LayoutModel",
      "state": {
       "_model_module_version": "~2.0.27",
       "_view_module_version": "~2.0.27",
       "align_items": "stretch",
       "border": "solid 2px",
       "display": "flex",
       "flex_flow": "column",
       "width": "50%"
      }
     },
     "fe35b9c79cae4a88b11b619a35d7f0e9": {
      "model_module": "jupyter-js-widgets",
      "model_module_version": "*",
      "model_name": "ButtonStyleModel",
      "state": {
       "_model_module_version": "*",
       "_view_module_version": "*",
       "_view_name": "StyleView",
       "button_color": null
      }
     },
     "ff0f9dd815b2482dbe99b67125603ebb": {
      "model_module": "jupyter-js-widgets",
      "model_module_version": "~2.0.27",
      "model_name": "LayoutModel",
      "state": {
       "_model_module_version": "~2.0.27",
       "_view_module_version": "~2.0.27"
      }
     },
     "ff9487e7234846c882895b868508eb5f": {
      "model_module": "jupyter-js-widgets",
      "model_module_version": "~2.0.27",
      "model_name": "LayoutModel",
      "state": {
       "_model_module_version": "~2.0.27",
       "_view_module_version": "~2.0.27"
      }
     },
     "ff96d05af73f4c1196263531bbd3b551": {
      "model_module": "jupyter-js-widgets",
      "model_module_version": "~2.0.27",
      "model_name": "ButtonModel",
      "state": {
       "_model_module_version": "~2.0.27",
       "_view_module_version": "~2.0.27",
       "button_style": "warning",
       "layout": "IPY_MODEL_59851902a66c47a9909da8a58cdaee24",
       "style": "IPY_MODEL_724ba62bf2544fc9b16d3cae5d39ae17"
      }
     }
    },
    "version_major": 1,
    "version_minor": 0
   }
  }
 },
 "nbformat": 4,
 "nbformat_minor": 1
}
