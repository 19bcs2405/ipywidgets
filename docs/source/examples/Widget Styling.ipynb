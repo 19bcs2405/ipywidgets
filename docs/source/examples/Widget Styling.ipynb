{
 "cells": [
  {
   "cell_type": "markdown",
   "metadata": {},
   "source": [
    "# Layout and Styling of Jupyter widgets\n",
    "\n",
    "This notebook presents how to layout and style Jupyter interactive widgets to build rich and *reactive* widget-based applications."
   ]
  },
  {
   "cell_type": "markdown",
   "metadata": {},
   "source": [
    "## The `layout` attribute.\n",
    "\n",
    "Every Jupyter interactive widget has a `layout` attribute exposing a number of css properties that impact how widgets are laid out.\n",
    "\n",
    "### Exposed css properties\n",
    "\n",
    "<div class=\"alert alert-info\" style=\"margin: 20px\">\n",
    "The following properties carry to the values of the css properties of the same name (underscores being replaced with dashes), applied to the top DOM elements of the corresponding widget.\n",
    "</div>\n",
    "\n",
    "\n",
    "** Sizes **\n",
    "- `width`\n",
    "- `height`\n",
    "- `max_height`\n",
    "- `max_width`\n",
    "- `min_height`\n",
    "- `min_width`\n",
    "\n",
    "** Display **\n",
    "\n",
    "- `visibility`\n",
    "- `display`\n",
    "- `overflow`\n",
    "\n",
    "** Box model **\n",
    "- `border` \n",
    "- `margin`\n",
    "- `padding`\n",
    "\n",
    "** Positioning **\n",
    "- `top`\n",
    "- `left`\n",
    "- `bottom`\n",
    "- `right`\n",
    "\n",
    "** Flexbox **\n",
    "- `order`\n",
    "- `flex_flow`\n",
    "- `align_items`\n",
    "- `flex`\n",
    "- `align_self`\n",
    "- `align_content`\n",
    "- `justify_content`\n",
    "\n",
    "\n",
    "### Shorthand css properties\n",
    "\n",
    "You may have noticed that certain css properties such as `margin-[top/right/bottom/left]` seem to be missing. The same holds for `padding-[top/right/bottom/left]` etc.\n",
    "\n",
    "In fact, you can atomically specify `[top/right/bottom/left]` margins via the `margin` attribute alone by passing the string\n",
    "\n",
    "```\n",
    "margin: 100px 150px 100px 80px;\n",
    "```\n",
    "\n",
    "for a respectively `top`, `right`, `bottom` and `left` margins of  `100`, `150`, `100` and `80` pixels.\n",
    "\n",
    "Similarly, the `flex` attribute can hold values for `flex-grow`, `flex-shrink` and `flex-basis`. The `border` attribute is a shorthand property for `border-width`, `border-style (required)`, and `border-color`."
   ]
  },
  {
   "cell_type": "markdown",
   "metadata": {},
   "source": [
    "### Simple examples"
   ]
  },
  {
   "cell_type": "markdown",
   "metadata": {},
   "source": [
    "The following example shows how to resize a `Button` so that its views have a height of `80px` and a width of `50%` of the available space:"
   ]
  },
  {
   "cell_type": "code",
   "execution_count": 1,
   "metadata": {
    "collapsed": true
   },
   "outputs": [],
   "source": [
    "from ipywidgets import *"
   ]
  },
  {
   "cell_type": "code",
   "execution_count": 2,
   "metadata": {
    "collapsed": false
   },
   "outputs": [
    {
     "data": {
      "application/vnd.jupyter.widget": "0407987e92794f8398d5952851d407a9"
     },
     "metadata": {},
     "output_type": "display_data"
    }
   ],
   "source": [
    "s = Button(description='(50% width, 80px height) button')\n",
    "s.layout.width = '50%'\n",
    "s.layout.height = '80px'\n",
    "s"
   ]
  },
  {
   "cell_type": "markdown",
   "metadata": {},
   "source": [
    "The `layout` property can be shared amongst multiple widgets and assigned directly."
   ]
  },
  {
   "cell_type": "code",
   "execution_count": 3,
   "metadata": {
    "collapsed": false
   },
   "outputs": [
    {
     "data": {
      "application/vnd.jupyter.widget": "68a44717396e4795a65db0246c0a196c"
     },
     "metadata": {},
     "output_type": "display_data"
    }
   ],
   "source": [
    "i = Button(description='Another button with the same layout', layout=s.layout)\n",
    "i"
   ]
  },
  {
   "cell_type": "markdown",
   "metadata": {},
   "source": [
    "### More Styling (colors, inner-widget details)\n",
    "\n",
    "The `layout` attribute only exposes layout-related css properties for the top-level DOM element of widgets. Individual widgets may expose more styling-related properties, or none. For example, in the case of the `Button` widget, we added a `button_style` attribute that may take 5 different values:\n",
    "\n",
    " - `'primary'`\n",
    " - `'success'`\n",
    " - `'info'`\n",
    " - `'warning'`\n",
    " - `'danger'`\n",
    "\n",
    "besides the default empty string `''`."
   ]
  },
  {
   "cell_type": "code",
   "execution_count": 4,
   "metadata": {
    "collapsed": false
   },
   "outputs": [
    {
     "data": {
      "application/vnd.jupyter.widget": "fac266cbd0c94438bbb11deed0f46920"
     },
     "metadata": {},
     "output_type": "display_data"
    }
   ],
   "source": [
    "Button(description='Danger Button', button_style='danger')"
   ]
  },
  {
   "cell_type": "markdown",
   "metadata": {},
   "source": [
    "### Natural sizes, and arangements using HBox and VBox\n",
    "\n",
    "Most of the core-widgets have \n",
    "- a natural width that is a multiple of `148` pixels\n",
    "- a natural height of `32` pixels or a multiple of that number.\n",
    "- a default margin of `2` pixels\n",
    "\n",
    "which will be the ones used when it is not specified in the `layout` attribute.\n",
    "\n",
    "This allows simple layouts based on the `HBox` and `VBox` helper functions to align naturally:"
   ]
  },
  {
   "cell_type": "code",
   "execution_count": 5,
   "metadata": {
    "collapsed": false
   },
   "outputs": [
    {
     "data": {
      "application/vnd.jupyter.widget": "c59094dc3ea444c4929bace91fa97100"
     },
     "metadata": {},
     "output_type": "display_data"
    }
   ],
   "source": [
    "words = (\"Lorem ipsum dolor sit amet, consectetur adipiscing elit, sed \" +\n",
    "         \"do eiusmod tempor incididunt ut labore et dolore magna aliqua.\").split(' ')\n",
    "items = [Button(description=w) for w in words]\n",
    "\n",
    "HBox([VBox([items[0], items[1]]), VBox([items[2], items[3]])])"
   ]
  },
  {
   "cell_type": "markdown",
   "metadata": {},
   "source": [
    "### Latex"
   ]
  },
  {
   "cell_type": "markdown",
   "metadata": {},
   "source": [
    "Widgets such as sliders and text inputs have a description attribute that can render Latex Equations. The `Label` widget also renders Latex equations."
   ]
  },
  {
   "cell_type": "code",
   "execution_count": 6,
   "metadata": {
    "collapsed": false
   },
   "outputs": [
    {
     "data": {
      "application/vnd.jupyter.widget": "2ec2d1d2b6934e7d88fedac34476543d"
     },
     "metadata": {},
     "output_type": "display_data"
    }
   ],
   "source": [
    "IntSlider(description='$\\int_0^t f$')"
   ]
  },
  {
   "cell_type": "code",
   "execution_count": 7,
   "metadata": {
    "collapsed": false
   },
   "outputs": [
    {
     "data": {
      "application/vnd.jupyter.widget": "cb5a03fcb8ec47e5b1358c84abca6a21"
     },
     "metadata": {},
     "output_type": "display_data"
    }
   ],
   "source": [
    "Label(value='$e=mc^2$')"
   ]
  },
  {
   "cell_type": "markdown",
   "metadata": {},
   "source": [
    "You may have noticed that the slider length is shorter in presence of a description. This because the description is added *inside* of the Slider total length. You **cannot** change the width of the internal description field. If you need more flexibility to layout sliders and captions, you should use a combination of `Slider` and `Label` widgets arranged in a layout."
   ]
  },
  {
   "cell_type": "code",
   "execution_count": 8,
   "metadata": {
    "collapsed": false
   },
   "outputs": [
    {
     "data": {
      "application/vnd.jupyter.widget": "fa4acc88494b4bc6991e8bf567de05b9"
     },
     "metadata": {},
     "output_type": "display_data"
    }
   ],
   "source": [
    "HBox([Label('A too long description'), IntSlider()])"
   ]
  },
  {
   "cell_type": "markdown",
   "metadata": {},
   "source": [
    "### Number formatting\n",
    "\n",
    "Sliders have a readout field which can be formatted using Python's *Format Specification Mini-Language*: https://docs.python.org/3/library/string.html#format-specification-mini-language. If the space available for the readout is too narrow for the string representation of the slider value, a different styling is applied to show that not all digits are visible."
   ]
  },
  {
   "cell_type": "markdown",
   "metadata": {},
   "source": [
    "## The Flexbox layout\n",
    "\n",
    "In fact, the `HBox` and `VBox` helpers used above are functions returning instances of the `Box` widget with specific options.\n",
    "\n",
    "The `Box` widgets enables the entire CSS Flexbox spec, enabling rich reactive layouts in the Jupyter notebook. It aims at providing an efficient way to lay out, align and distribute space among items in a container.\n",
    "\n",
    "Again, the whole Flexbox spec is exposed via the `layout` attribute of the container widget (`Box`) and the contained items. One may share the same `layout` attribute among all the contained items.\n",
    "\n",
    "### Aknowledgement\n",
    "\n",
    "The following tutorial on the Flexbox layout follows the lines of the article *A Complete Guide to Flexbox* by Chris Coyier available here: https://css-tricks.com/snippets/css/a-guide-to-flexbox/\n",
    "\n",
    "### Basics and terminology\n",
    "\n",
    "Since flexbox is a whole module and not a single property, it involves a lot of things including its whole set of properties. Some of them are meant to be set on the container (parent element, known as \"flex container\") whereas the others are meant to be set on the children (said \"flex items\").\n",
    "\n",
    "If regular layout is based on both block and inline flow directions, the flex layout is based on \"flex-flow directions\". Please have a look at this figure from the specification, explaining the main idea behind the flex layout.\n",
    "\n",
    "![Flexbox](./images/flexbox.png)\n",
    "\n",
    "Basically, items will be laid out following either the `main axis` (from `main-start` to `main-end`) or the `cross axis` (from `cross-start` to `cross-end`).\n",
    "\n",
    "- `main axis` - The main axis of a flex container is the primary axis along which flex items are laid out. Beware, it is not necessarily horizontal; it depends on the flex-direction property (see below).\n",
    "- `main-start | main-end` - The flex items are placed within the container starting from main-start and going to main-end.\n",
    "- `main size` - A flex item's width or height, whichever is in the main dimension, is the item's main size. The flex item's main size property is either the ‘width’ or ‘height’ property, whichever is in the main dimension.\n",
    "cross axis - The axis perpendicular to the main axis is called the cross axis. Its direction depends on the main axis direction.\n",
    "- `cross-start | cross-end` - Flex lines are filled with items and placed into the container starting on the cross-start side of the flex container and going toward the cross-end side.\n",
    "- `cross size` - The width or height of a flex item, whichever is in the cross dimension, is the item's cross size. The cross size property is whichever of ‘width’ or ‘height’ that is in the cross dimension.\n",
    "\n",
    "### Properties of the parent\n",
    "\n",
    "![Container](./images/flex-container.svg)\n",
    "\n",
    "- `display` (must be equal to 'flex' or 'inline-flex')\n",
    "\n",
    "  This defines a flex container (inline or block).\n",
    "- `flex-flow` **(shorthand for two properties)**\n",
    "\n",
    "   This is a shorthand `flex-direction` and `flex-wrap` properties, which together define the flex container's main and cross axes. Default is `row nowrap`.\n",
    "\n",
    "    - `flex-direction` (row | row-reverse | column | column-reverse)\n",
    "    \n",
    "      This establishes the main-axis, thus defining the direction flex items are placed in the flex container. Flexbox is (aside from optional wrapping) a single-direction layout concept. Think of flex items as primarily laying out either in horizontal rows or vertical columns.\n",
    "      ![Direction](./images/flex-direction1.svg)\n",
    "    \n",
    "    - `flex-wrap` (nowrap | wrap | wrap-reverse)\n",
    "      \n",
    "      By default, flex items will all try to fit onto one line. You can change that and allow the items to wrap as needed with this property. Direction also plays a role here, determining the direction new lines are stacked in.\n",
    "      ![Wrap](./images/flex-wrap.svg)\n",
    "\n",
    "- `justify-content` (flex-start | flex-end | center | space-between | space-around)\n",
    "\n",
    "  This defines the alignment along the main axis. It helps distribute extra free space left over when either all the flex items on a line are inflexible, or are flexible but have reached their maximum size. It also exerts some control over the alignment of items when they overflow the line.\n",
    "  ![Justify](./images/justify-content.svg)\n",
    "\n",
    "- `align-items` (flex-start | flex-end | center | baseline | stretch)\n",
    "\n",
    "   This defines the default behaviour for how flex items are laid out along the cross axis on the current line. Think of it as the justify-content version for the cross-axis (perpendicular to the main-axis).\n",
    "   ![Items](./images/align-items.svg)\n",
    "   \n",
    "- `align-content` (flex-start | flex-end | center | baseline | stretch)\n",
    "\n",
    "   This aligns a flex container's lines within when there is extra space in the cross-axis, similar to how justify-content aligns individual items within the main-axis.\n",
    "   ![Items](./images/align-content.svg)\n",
    "\n",
    "  **Note**: this property has no effect when there is only one line of flex items.\n",
    "\n",
    "### Properties of the items\n",
    "\n",
    "![Item](./images/flex-items.svg)\n",
    "\n",
    "The flexbox-related css properties of the items have no impact if the parent element is not a flexbox container (i.e. has a `display` attribute equal to `flex` or `inline-flex`).\n",
    "\n",
    "\n",
    "- `order`\n",
    "\n",
    "   By default, flex items are laid out in the source order. However, the order property controls the order in which they appear in the flex container.\n",
    "   <img src=\"./images/order-2.svg\" alt=\"Order\" style=\"width: 500px;\"/>\n",
    "   \n",
    "- `flex` **(shorthand for three properties)**\n",
    "   This is the shorthand for flex-grow, flex-shrink and flex-basis combined. The second and third parameters (flex-shrink and flex-basis) are optional. Default is `0 1 auto`.\n",
    "   \n",
    "    - `flex-grow`\n",
    "    \n",
    "      This defines the ability for a flex item to grow if necessary. It accepts a unitless value that serves as a proportion. It dictates what amount of the available space inside the flex container the item should take up.\n",
    "\n",
    "      If all items have flex-grow set to 1, the remaining space in the container will be distributed equally to all children. If one of the children a value of 2, the remaining space would take up twice as much space as the others (or it will try to, at least).\n",
    "        ![Grow](./images/flex-grow.svg)\n",
    "      \n",
    "    - `flex-shrink`\n",
    "    \n",
    "      This defines the ability for a flex item to shrink if necessary.\n",
    "      \n",
    "    - `flex-basis`\n",
    "    \n",
    "      This defines the default size of an element before the remaining space is distributed. It can be a length (e.g. `20%`, `5rem`, etc.) or a keyword. The `auto` keyword means *\"look at my width or height property\"*.\n",
    "      \n",
    "- `align-self`\n",
    "\n",
    "  This allows the default alignment (or the one specified by align-items) to be overridden for individual flex items.\n",
    "\n",
    "  ![Align](./images/align-self.svg)\n",
    "\n",
    "### The VBox and HBox helpers\n",
    "\n",
    "The `VBox` and `HBox` helper provide simple defaults to arrange child widgets in Vertical and Horizontal boxes.\n",
    "\n",
    "```Python\n",
    "def VBox(*pargs, **kwargs):\n",
    "    \"\"\"Displays multiple widgets vertically using the flexible box model.\"\"\"\n",
    "    box = Box(*pargs, **kwargs)\n",
    "    box.layout.display = 'flex'\n",
    "    box.layout.flex_flow = 'column'\n",
    "    box.layout.align_items = 'stretch'\n",
    "    return box\n",
    "\n",
    "def HBox(*pargs, **kwargs):\n",
    "    \"\"\"Displays multiple widgets horizontally using the flexible box model.\"\"\"\n",
    "    box = Box(*pargs, **kwargs)\n",
    "    box.layout.display = 'flex'\n",
    "    box.layout.align_items = 'stretch'\n",
    "    return box\n",
    "```\n",
    "\n",
    "\n",
    "### Examples"
   ]
  },
  {
   "cell_type": "markdown",
   "metadata": {},
   "source": [
    "**Four buttons in a `VBox`. Items stretch to the maximum width, in a vertical box taking `50%` of the available space.**"
   ]
  },
  {
   "cell_type": "code",
   "execution_count": 9,
   "metadata": {
    "collapsed": false
   },
   "outputs": [
    {
     "data": {
      "application/vnd.jupyter.widget": "09bab0448862468a97dace6ddc7addfa"
     },
     "metadata": {},
     "output_type": "display_data"
    }
   ],
   "source": [
    "items_layout = Layout(flex='1 1 auto',\n",
    "                      width='auto')     # override the default width of the button to 'auto' to let the button grow\n",
    "\n",
    "box_layout = Layout(display='flex',\n",
    "                    flex_flow='column', \n",
    "                    align_items='stretch', \n",
    "                    border='solid',\n",
    "                    width='50%')\n",
    "\n",
    "items = [Button(description=w, layout=items_layout, button_style='danger') for w in words[:4]]\n",
    "box = Box(children=items, layout=box_layout)\n",
    "box"
   ]
  },
  {
   "cell_type": "markdown",
   "metadata": {
    "collapsed": true
   },
   "source": [
    "**Three buttons in an HBox. Items flex proportionaly to their weight.**"
   ]
  },
  {
   "cell_type": "code",
   "execution_count": 10,
   "metadata": {
    "collapsed": false
   },
   "outputs": [
    {
     "data": {
      "application/vnd.jupyter.widget": "2fc350f07933464c86a1738c31a7237f"
     },
     "metadata": {},
     "output_type": "display_data"
    }
   ],
   "source": [
    "items_layout = Layout(flex='1 1 auto', width='auto')     # override the default width of the button to 'auto' to let the button grow\n",
    "\n",
    "items = [\n",
    "    Button(description='weight=1'),\n",
    "    Button(description='weight=2', layout=Layout(flex='2 1 auto', width='auto')),\n",
    "    Button(description='weight=1'),\n",
    " ]\n",
    "\n",
    "box_layout = Layout(display='flex',\n",
    "                    flex_flow='row', \n",
    "                    align_items='stretch', \n",
    "                    border='solid',\n",
    "                    width='50%')\n",
    "box = Box(children=items, layout=box_layout)\n",
    "box"
   ]
  },
  {
   "cell_type": "markdown",
   "metadata": {},
   "source": [
    "**A more advanced example: a reactive form.**\n",
    "\n",
    "The form is a `VBox` of width '50%'. Each row in the VBox is an HBox, that justifies the content with space between.."
   ]
  },
  {
   "cell_type": "code",
   "execution_count": 36,
   "metadata": {
    "collapsed": false
   },
   "outputs": [
    {
     "data": {
      "application/vnd.jupyter.widget": "9d55c6ae2ffd45bc9b11f08cb1119e2b"
     },
     "metadata": {},
     "output_type": "display_data"
    }
   ],
   "source": [
    "label_layout = Layout()\n",
    "\n",
    "form_item_layout = Layout(\n",
    "    display='flex',\n",
    "    flex_flow='row',\n",
    "    justify_content='space-between'\n",
    ")\n",
    "\n",
    "form_items = [\n",
    "    Box([Label(value='Age of the captain'), IntSlider(min=40, max=60)], layout=form_item_layout),\n",
    "    Box([Label(value='Egg style'), \n",
    "         Dropdown(options=['Scrambled', 'Sunny side up', 'Over easy'])], layout=form_item_layout),\n",
    "    Box([Label(value='Ship size'), \n",
    "         FloatText()], layout=form_item_layout),\n",
    "    Box([Label(value='Information'), \n",
    "         Textarea()], layout=form_item_layout)\n",
    "]\n",
    "\n",
    "form = Box(form_items, layout=Layout(\n",
    "    display='flex',\n",
    "    flex_flow='column',\n",
    "    border='solid 2px',\n",
    "    align_items='stretch',\n",
    "    width='50%'\n",
    "))\n",
    "form"
   ]
  },
  {
   "cell_type": "code",
   "execution_count": null,
   "metadata": {
    "collapsed": true
   },
   "outputs": [],
   "source": []
  },
  {
   "cell_type": "code",
   "execution_count": null,
   "metadata": {
    "collapsed": true
   },
   "outputs": [],
   "source": []
  },
  {
   "cell_type": "code",
   "execution_count": null,
   "metadata": {
    "collapsed": true
   },
   "outputs": [],
   "source": []
  }
 ],
 "metadata": {
  "kernelspec": {
   "display_name": "Python 2",
   "language": "python",
   "name": "python2"
  },
  "language_info": {
   "codemirror_mode": {
    "name": "ipython",
    "version": 2
   },
   "file_extension": ".py",
   "mimetype": "text/x-python",
   "name": "python",
   "nbconvert_exporter": "python",
   "pygments_lexer": "ipython2",
   "version": "2.7.11"
  },
  "widgets": {
   "state": {
    "0032ba136c7043a5a6a2200e40b2cc79": {
     "views": []
    },
    "00362524b36e48c989a593248845169f": {
     "views": []
    },
    "00bfae2da1884842a7c7a8f33ceb2e5f": {
     "views": []
    },
    "02a6c1948f554a8c984d7bc6085ee78d": {
     "views": []
    },
    "02ceac595d3b4bf2a68da064aa7d15e8": {
     "views": []
    },
    "02e9120f85794cb8a81de11d755e5b36": {
     "views": []
    },
    "0384f83adfa44dab94bcb7c52c44d801": {
     "views": []
    },
    "0407987e92794f8398d5952851d407a9": {
     "views": [
      {
       "cell_index": 5
      }
     ]
    },
    "04629dae6ccf49c6bbd6856a64fa32e1": {
     "views": []
    },
    "049685661e724910b5e5c6242d52159f": {
     "views": []
    },
    "04c7219cf22746a18afcfb8bfee081d7": {
     "views": []
    },
    "057064dcaf58468cb9bccb4fdcc895dd": {
     "views": []
    },
    "062e13c694574a35b8de88e76798cc3a": {
     "views": []
    },
    "063d842200174085860df242fab8232b": {
     "views": []
    },
    "0708321291ce448e94de5900feba7cd6": {
     "views": []
    },
    "070cff4652b043ceb5517117c2842b40": {
     "views": []
    },
    "092c98bc01544bfea2629b554d336b8a": {
     "views": []
    },
    "095d8fe86a8a4205a04e932f9b627ebb": {
     "views": []
    },
    "09b81e752af34697a34e297b59447d9d": {
     "views": []
    },
    "09bab0448862468a97dace6ddc7addfa": {
     "views": [
      {
       "cell_index": 21
      }
     ]
    },
    "0c33a2f2b66d4dbe91360ef94af86566": {
     "views": []
    },
    "0c82535274a6462ea275418adae92c97": {
     "views": []
    },
    "0d014f8580504ef6a4bd48335ec114f7": {
     "views": []
    },
    "0d8a4a1e14354195a904098ad5632b5d": {
     "views": []
    },
    "0dc71e5140c1429e85151a8806632dcf": {
     "views": []
    },
    "0de2e9de5a884be6824e1f3d3d5771c1": {
     "views": []
    },
    "0df28621952e4dc28f3cd4775be84f94": {
     "views": []
    },
    "0dfe108d39b3413382478f09c006478b": {
     "views": []
    },
    "0e4ea679305d42848b47b82082035c06": {
     "views": []
    },
    "0e58587c754c42faaaee2400cca0dc3a": {
     "views": []
    },
    "0ea30ec797e441a382e079269d4f9a7c": {
     "views": []
    },
    "0ecde4db106c48b889b8c5774b78aa95": {
     "views": []
    },
    "0f2ac05f2803440c81897467a6a0defa": {
     "views": []
    },
    "10b085dcd14749ac97bd87373ef66c13": {
     "views": []
    },
    "10bf4c034e904ab0b731508c6827adc1": {
     "views": []
    },
    "10c61576d30b487b860c9a22b801ff11": {
     "views": []
    },
    "1101a8cf5ee54d8489fe343bf85d677c": {
     "views": []
    },
    "11182cda622d467bafcc8cffe8836840": {
     "views": []
    },
    "12a80b37b7bc4254a07199c3afc84a34": {
     "views": []
    },
    "12c0209c713948a4a6b9124385d7efea": {
     "views": []
    },
    "13adc419f6444daba41bbb0186d24eae": {
     "views": []
    },
    "149fe62608564ad2bb176241e016f580": {
     "views": []
    },
    "171ddd2ab0a8489c975c230068709a52": {
     "views": []
    },
    "176ce53df0c641d58f2b3b181370f491": {
     "views": []
    },
    "17b68e9f26554323a8d412b54d9799f7": {
     "views": []
    },
    "185c42aafd2d473da98bbded3321643d": {
     "views": []
    },
    "19b3a17666a44971b15abac4e3d3a3b1": {
     "views": []
    },
    "19d605a5f223472a948acf299334780d": {
     "views": []
    },
    "19dac162f578415ba32f33547a258d6e": {
     "views": []
    },
    "1a1704a461fa4624894f05bceef17189": {
     "views": []
    },
    "1a4652566db94caebe0e34cd8cf24744": {
     "views": []
    },
    "1a76c7f1c6dd4e24a0d1704fa7efb3a1": {
     "views": []
    },
    "1c49af82131643408b4aa60abc3490b3": {
     "views": []
    },
    "1ca3f4d483dd4768aeddebc48e32a428": {
     "views": []
    },
    "1d18e0ef84ed4818b1749d3809518cb1": {
     "views": []
    },
    "1e464dae090d4242b81fb5005334eb81": {
     "views": []
    },
    "1f85994a0eda4d5f8ff1ca22fd1c8365": {
     "views": []
    },
    "1f8f19bdf9d846beb64d54925d9f59e2": {
     "views": []
    },
    "2003384f2d8243fab359701dcf069cdc": {
     "views": []
    },
    "203b017392e845aca1bdc887e1582ccf": {
     "views": []
    },
    "22e3cb9e407f4ebcb7ca2bdb03c3f71d": {
     "views": []
    },
    "23452b69cfc84795ac3270de711c1365": {
     "views": []
    },
    "239ffc8c4d41482cbd6ebf8f73495fca": {
     "views": []
    },
    "23ca81dbeaf848ec9825b98c079635ca": {
     "views": []
    },
    "23dd16db16fd42269836157c0c849957": {
     "views": []
    },
    "23fa475fdc8945ceb0e0faa3dd08b59d": {
     "views": []
    },
    "26e86be9df854022aa33647e5a8f68fb": {
     "views": []
    },
    "2808a4dc30ea4e9384e728fa00270f42": {
     "views": []
    },
    "28a6bea13236420899559b125fc04548": {
     "views": []
    },
    "28c88ba0bede41eca2265399467e66b5": {
     "views": []
    },
    "2a0a428e82ca44718e90e27589a95638": {
     "views": []
    },
    "2aea466250794d7c99fdcf10751c3779": {
     "views": []
    },
    "2b41fde0e0dc47fdbd77d10b6a2c34ed": {
     "views": []
    },
    "2c17e32b5f2044d3acb5afc7398163ec": {
     "views": []
    },
    "2cff173560a84241b7308ad1e822acc0": {
     "views": []
    },
    "2e1e5a1e8e8d47318fdbf6434ec9d9d4": {
     "views": []
    },
    "2ec2d1d2b6934e7d88fedac34476543d": {
     "views": [
      {
       "cell_index": 14
      }
     ]
    },
    "2ed48ffe1e004fe7b145621aea5f950c": {
     "views": []
    },
    "2f032f532b114251807e43d582977e02": {
     "views": []
    },
    "2f712ced620748399eafbd4706799527": {
     "views": []
    },
    "2fb0d8f497fd4e5b8f2907166d793078": {
     "views": []
    },
    "2fc350f07933464c86a1738c31a7237f": {
     "views": [
      {
       "cell_index": 23
      }
     ]
    },
    "2feef56a135440bb89e7a540205f0195": {
     "views": []
    },
    "30174a484a7c4cd8acc002694c873d92": {
     "views": []
    },
    "30a2be8a4c0a41ff94898a6092e5b02d": {
     "views": []
    },
    "317d2cfb5534443c8db2dc62a331345f": {
     "views": []
    },
    "3229771fb8d44c539722a150a998993c": {
     "views": []
    },
    "328fbfe81731429d9c550ba4a6f5a330": {
     "views": []
    },
    "32c067ffa703447f818db423ee1a9fea": {
     "views": []
    },
    "3401a95aea6a4fdcb380d071390cd50a": {
     "views": []
    },
    "34252efacf254eaeba6eb2cf7d2d9f6a": {
     "views": []
    },
    "34366a549fa2470eb3a327454fdd129e": {
     "views": []
    },
    "35849a24c0ee4d568f3a20c170bfbde6": {
     "views": []
    },
    "36b1af497c4a49509a2f2d0aee0e0f97": {
     "views": []
    },
    "37b78cf9777e4900bb64903e79071307": {
     "views": []
    },
    "3a4f4c9f09814ba8933ae6ff49b21f96": {
     "views": []
    },
    "3bec739a34c8436e926125872f80bd04": {
     "views": []
    },
    "3d4c239c47c34083a446626bb2ea16a3": {
     "views": []
    },
    "3d799f6b5e7d42339d72b053741f495e": {
     "views": []
    },
    "3ddefe770c004592a47c5c039dd340fc": {
     "views": []
    },
    "3ea11ad12f2141c5a972e37b0511f76f": {
     "views": []
    },
    "3eba4d57ee8742ffbebb8c1221312ee4": {
     "views": []
    },
    "3eddf5f1b3c742639af3fec751ce22c8": {
     "views": []
    },
    "3f4d71726c314dbba35fc0175b4d06fa": {
     "views": []
    },
    "3f84f80a8cb747789455745ba5051c83": {
     "views": []
    },
    "3fe87ff608f94c10a7ea3beac96a8e96": {
     "views": []
    },
    "3ff053e86c52419eb0648ae85fa112f9": {
     "views": []
    },
    "42271e62016645838b0cad93d669d367": {
     "views": []
    },
    "422c23dfd4b84db0975d311c476c3e35": {
     "views": []
    },
    "4581427fa775430797251dc1bd9b3962": {
     "views": []
    },
    "47a02507335a4ce2819aaa693eec238f": {
     "views": []
    },
    "47f6aee8af0e446caa2580a16771720c": {
     "views": []
    },
    "48adc7ecac344d56819327385e091aaf": {
     "views": []
    },
    "48e6d923332f4698970f70f17748f500": {
     "views": []
    },
    "4916f4c0032f473b82e75520e1608e2a": {
     "views": []
    },
    "496c836c458841b8ae737dddf0a458ca": {
     "views": []
    },
    "498b8dfd83c84d009ca95f726219ce18": {
     "views": []
    },
    "4a802e8ec942413785bcd9e308b89591": {
     "views": []
    },
    "4ab06137582f45ba8c445e217809e526": {
     "views": []
    },
    "4aec01fc8f9f4c7fa41df0ba33806e77": {
     "views": []
    },
    "4b0817e8d73e47db833b3685936e47f5": {
     "views": []
    },
    "4db0e38aec0443a29efd1050db0f4557": {
     "views": []
    },
    "4ebf18817ed3431287a1b7b49004f661": {
     "views": []
    },
    "4ebf3c23c6e14acf87debcd5c5f237e0": {
     "views": []
    },
    "4ef11e7a9c384f57aff5939aadf67203": {
     "views": []
    },
    "4f332dc854764b55a2b96a8edb2bfa56": {
     "views": []
    },
    "4fec5716f39a4e8e9922ef80bb5d62da": {
     "views": []
    },
    "50a833fa0d444acb928d41e1a05402db": {
     "views": []
    },
    "50af87541b6c41ab915b18d4a179818d": {
     "views": []
    },
    "50bceb79dada41669e902c3120c873da": {
     "views": []
    },
    "51059955ee004eada5cd044924aba6cd": {
     "views": []
    },
    "53f15a9558db4986a280b1f0c74890f3": {
     "views": []
    },
    "54ab0d960ab34023882f5be21f128f8c": {
     "views": []
    },
    "558a19dbf87e4ffcafc62b5a12319fcf": {
     "views": []
    },
    "55e6eb1ccff9486083e5e1dcc8e82125": {
     "views": []
    },
    "589e6c496262415e954369160e23b08d": {
     "views": []
    },
    "595a733064c74be4a069c26629f5c098": {
     "views": []
    },
    "59ff563cf8dc435c84da41c2f8e87f45": {
     "views": []
    },
    "5a2ccdac7403454a844805dbb2602158": {
     "views": []
    },
    "5bc28cd8982b42178b97d400cd85fe8d": {
     "views": []
    },
    "5c1ccbf5e8094b5bbf03078bd5120302": {
     "views": []
    },
    "5c488c1360654c25970091854461de0b": {
     "views": []
    },
    "5d0db9349b5646d0baed33af10a7851e": {
     "views": []
    },
    "5ec1b51097844d9496bacffc630ffff8": {
     "views": []
    },
    "5ed2e666a8564b5590ff95f74af6f1ce": {
     "views": []
    },
    "600da6c5960c4d8485ffb9b336188d34": {
     "views": []
    },
    "6140c05bb0bb47f8a17dd3c6efae0890": {
     "views": []
    },
    "61745ff7f0b748f0a2c8733a82f6cfd4": {
     "views": []
    },
    "6319e399ef8944d4a01df765be847da4": {
     "views": []
    },
    "63606f01e50645b2ae92e7c342d5b743": {
     "views": []
    },
    "6378b7e796454f25990ed4e1033b9444": {
     "views": []
    },
    "637a29210abe4447ab16fa056ba59109": {
     "views": []
    },
    "642e1b05007044b8a7a7f64ec08d9c8a": {
     "views": []
    },
    "65ed5b608d57409e98d4ac1c518ef24e": {
     "views": []
    },
    "6639290378694e95b046cf9ecdd60b26": {
     "views": []
    },
    "67155ffd41004aa28e2b32db1d0d445b": {
     "views": []
    },
    "673be0f6eca4495bbb60088ad47741c0": {
     "views": []
    },
    "67c97b9c516a4b3cab33cf02158cb88c": {
     "views": []
    },
    "68113736758649f78a5180c1d178e052": {
     "views": []
    },
    "684ef7bd8ab04dd79498ac628be1b3d7": {
     "views": []
    },
    "68a44717396e4795a65db0246c0a196c": {
     "views": [
      {
       "cell_index": 7
      }
     ]
    },
    "68a58cfa8b9347b9965394b7476d11b5": {
     "views": []
    },
    "69db0df3b73b42cd9a61928b616391bf": {
     "views": []
    },
    "6a4a8dfe20cb46eaacd7e562a8e8b8d9": {
     "views": []
    },
    "6a82b08324614176a1c1fabb1cffb9f6": {
     "views": []
    },
    "6ac54a33e0f04c4eb29d649a7f343659": {
     "views": []
    },
    "6b8a4c1af967407ba1fd424282099c99": {
     "views": []
    },
    "6ced61eb2d75402fb8f27b867d22a3c1": {
     "views": []
    },
    "6dc059605699470ba8e74de9a42cc5aa": {
     "views": []
    },
    "6e6b5f65e54f4f60a9dabb6a94724e9c": {
     "views": []
    },
    "6ee2d980e275470680d09ec6f5c1e160": {
     "views": []
    },
    "6f0bac553b974af7931650fe8dd39195": {
     "views": []
    },
    "6f0d9c7c51374a25966b61e52b98c8f5": {
     "views": []
    },
    "6f3a2161a9e24bb9976d9290e64d6dd3": {
     "views": []
    },
    "709387e101034100a997847ff82c697d": {
     "views": []
    },
    "7178418b6e254290a1a289d89d257be1": {
     "views": []
    },
    "7290c9dcbaa9447e9bcecaad2cf61689": {
     "views": []
    },
    "7322d8b41a7544acb0dbd75cff372495": {
     "views": []
    },
    "733f3bbda1b849678106ca5293e6d4a1": {
     "views": []
    },
    "73ff9a61a3244496823c612ac5350240": {
     "views": []
    },
    "7474530f84984d1cb838c504b0afb9df": {
     "views": []
    },
    "748f61dd48a84da381f6f68ec1086208": {
     "views": []
    },
    "74a6d601cbee459c90f5ca37efbb1ee5": {
     "views": []
    },
    "752e54d72a734ab7adb34ff9de5d96a9": {
     "views": []
    },
    "75b53eee74b441aab5b6ab87eeaf40e4": {
     "views": []
    },
    "787898228f264d88917791c8eae97f08": {
     "views": []
    },
    "78abee7aad6644b9891bd9eddfd1d239": {
     "views": []
    },
    "792a1a1bda06410f8d56f3ea09a9210c": {
     "views": []
    },
    "79e466a0899b489b90fb6719d5131c8d": {
     "views": []
    },
    "7a2c114437774778b893f40a05d66046": {
     "views": []
    },
    "7a818807cdc0457a8cedde57f1e918e1": {
     "views": []
    },
    "7bbc02070bbb4d55b2a22506af830113": {
     "views": []
    },
    "7cff751a4e6246f0be0211c1054df45e": {
     "views": []
    },
    "7d5dd2dea81941c498b03ea96284252b": {
     "views": []
    },
    "7d86507ea2b044adac2fe9280ef38fad": {
     "views": []
    },
    "7de0a70eddff4c87bc973d46aa45ee77": {
     "views": []
    },
    "7e98fbfff5e44ec9979788d806f16d73": {
     "views": []
    },
    "7f4a21242bf24d30a79c1374a06459f0": {
     "views": []
    },
    "814c5037ce3d4e9ea81c01306619324c": {
     "views": []
    },
    "830dcb7c65ed4ce9880cb09d27e847c8": {
     "views": []
    },
    "8364d3d6a3a64050b972487731fccc96": {
     "views": []
    },
    "84169094b077418985f60c1b85af23a8": {
     "views": []
    },
    "85fb27be399948e98136ca1cf82e1b6c": {
     "views": []
    },
    "86a705b97bc54e01a2c798add3413984": {
     "views": []
    },
    "86e8c1139b9e4637a39dc1118d34c22f": {
     "views": []
    },
    "86f28678a1274954b85bcb30e05a61fe": {
     "views": []
    },
    "87f1c7fc3c484224bc55358f8cf7a6be": {
     "views": []
    },
    "88900d5f3554405d8a7521369e52a3ab": {
     "views": []
    },
    "8895b8a4ee8d4e34bc732965d7787a5c": {
     "views": []
    },
    "8960c2aa3371422488d3a4d72d1b360a": {
     "views": []
    },
    "8c9023e9d472484fb681bf8d26e7b62c": {
     "views": []
    },
    "8d2194b3f6fb47bda58d3812ff4a9d02": {
     "views": []
    },
    "8d9516bcd5904352afbe4562fe9dbbc9": {
     "views": []
    },
    "8e161e5d748b4b5eaeaff95ba935de12": {
     "views": []
    },
    "8eccda990a3f46f4bbc9a2601869e15c": {
     "views": []
    },
    "8f3a90c6b6184068824a815718af9d7a": {
     "views": []
    },
    "8f5425ae5c4b4d9d81c18813c6e00402": {
     "views": []
    },
    "907649c75bf5492586f65f243b810b96": {
     "views": []
    },
    "90e59cbfa81745668279df66fbb1d970": {
     "views": []
    },
    "913345845cd2406589783a421245a9dc": {
     "views": []
    },
    "91b34ccae80142319e4a0d526a11155e": {
     "views": []
    },
    "91d256e392134da8b774990c72683115": {
     "views": []
    },
    "91e8866d6b5a4d17bfd3dfba91d5a4d7": {
     "views": []
    },
    "9379cec9bfce49338d26f9890a495244": {
     "views": []
    },
    "93ae41f763df4012a45b9a66afa07d5f": {
     "views": []
    },
    "9474cad0c1334a57a3cda3dc32c83c8d": {
     "views": []
    },
    "9490e63b8a3042dd96b3e6be769b03f1": {
     "views": []
    },
    "95c938b69f834ec087e163e81b083b09": {
     "views": []
    },
    "96435b28a94646cf84a0675a739f8215": {
     "views": []
    },
    "97517dedfafa46719ba1b835bde4cc4e": {
     "views": []
    },
    "97dcefb7229748fd917b329fa76dfab0": {
     "views": []
    },
    "985b3afb22424936a6d2abca857beee3": {
     "views": []
    },
    "9944b9037ea3421c8bafe7296b6425c4": {
     "views": []
    },
    "994777f7c0c048f38f285356c00213ef": {
     "views": []
    },
    "9977796f11944de2a30d19a37e93f67a": {
     "views": []
    },
    "99e57daf53664244b6530a53c05a6ef0": {
     "views": []
    },
    "9a9e4285b22647f89a398193edbc9022": {
     "views": []
    },
    "9aabc2e94a074997a72526b4d5d5d5b6": {
     "views": []
    },
    "9aee60eabaf842d98b31250d62f3a1d2": {
     "views": []
    },
    "9d55c6ae2ffd45bc9b11f08cb1119e2b": {
     "views": [
      {
       "cell_index": 25
      }
     ]
    },
    "9e9d3d7cd5164c9bb37e8fad058d7630": {
     "views": []
    },
    "9eef42b0f0ab462e86c083da2842e530": {
     "views": []
    },
    "9f8446b38cd24838938cfb36910bf3fb": {
     "views": []
    },
    "a04ba69932334f419a0191b49fe489cb": {
     "views": []
    },
    "a0e720d52651485cbb8a91e8b4e021a1": {
     "views": []
    },
    "a1b10edbb51e4ef39ab4f8d296d0d256": {
     "views": []
    },
    "a1be3920cb79472eab6865c294744dce": {
     "views": []
    },
    "a1fec0f89d564629af7c63aa4d54b859": {
     "views": []
    },
    "a2f8ef0cf1194e14afc9970485deb066": {
     "views": []
    },
    "a43054e695dc42dd9702d0469328a4d5": {
     "views": []
    },
    "a437ec20e3d04affa257fa8a22715c7f": {
     "views": []
    },
    "a43d548624f546a68b2b367b2ae19baa": {
     "views": []
    },
    "a486355112c34549a825b78e4e08d321": {
     "views": []
    },
    "a543bf321f974384a8ce1d41cff3c04b": {
     "views": []
    },
    "a5b47e76a4e44ab783bee7722ee6a13d": {
     "views": []
    },
    "a8eb8a59f8d441deada8bec1ccb7bb7e": {
     "views": []
    },
    "a90e0d9811b446de97f95215a56bad17": {
     "views": []
    },
    "a94e94b616d448938d3db60f96c41827": {
     "views": []
    },
    "a9f6b568197a41ecac3b6ccff0f419bf": {
     "views": []
    },
    "aa9e09a15ee74660b0d591707eabf4fa": {
     "views": []
    },
    "aaa8df835f5e49978c5f8dc96b22fda8": {
     "views": []
    },
    "aad1d5f12773429299c9eb782208732b": {
     "views": []
    },
    "ab6bcb2f22284767b159d94cc2b02689": {
     "views": []
    },
    "abb9675c035c4f6fb068478a543e9175": {
     "views": []
    },
    "ad13f1d0b0f747108ae7a07768e1456f": {
     "views": []
    },
    "ad2d9625f7cb44448407fcd30f68faf6": {
     "views": []
    },
    "ad4d04fa1eca4386a10875fc07e7d8b0": {
     "views": []
    },
    "ad8429e29aa84d50bba4c487b5cc64fe": {
     "views": []
    },
    "ae6f43c1fa814ccebed72ce862660a8d": {
     "views": []
    },
    "af956a6ea22f4afe90cec452f1092f88": {
     "views": []
    },
    "affe9df4e062436989fdc32b2e9f5274": {
     "views": []
    },
    "b048a779a20544efbfe1d37a230e548e": {
     "views": []
    },
    "b0a8c58edfa746adb1dc8bae2daae214": {
     "views": []
    },
    "b1ddd6f5853d4744910c4c74568f82d8": {
     "views": []
    },
    "b2a1e7ae21f1421d9588f401b94dda49": {
     "views": []
    },
    "b2d4f97f2741481899ad5a3514cc9898": {
     "views": []
    },
    "b30a43cdb97d4b85a824d71e47c6335f": {
     "views": []
    },
    "b32d30b4ed1b4c4f8b0643d69cb42fbb": {
     "views": []
    },
    "b3a53fce43f24e78a1e36b8cf9ba7daf": {
     "views": []
    },
    "b3e0f81de4ea4b23b79c8daafd9f35b1": {
     "views": []
    },
    "b410963ffbe34c6e91506e2d76083162": {
     "views": []
    },
    "b41fd418eb10411c94d4a896fe9402a6": {
     "views": []
    },
    "b4bc512fb5954573bfd7b850eaf532d9": {
     "views": []
    },
    "b544bcce4ed743fd9c3ec09a4cd02145": {
     "views": []
    },
    "b635036eb9cb40279e81cbf23fd52547": {
     "views": []
    },
    "b6bffe21f3074eb9a5db96ad7b44b68d": {
     "views": []
    },
    "b73d3285739e461e9fb37cecc5d0d52e": {
     "views": []
    },
    "b7e538cd54f44b8b957d5561139333df": {
     "views": []
    },
    "b7eb5b339a614f40a2ab1d2528b952c8": {
     "views": []
    },
    "b851ed5cb95f42d5977618fa3d96ba90": {
     "views": []
    },
    "b932d03f63eb40b281ce2bc2dd65a798": {
     "views": []
    },
    "bc2dde2076ed4b1fa1e5f1db20548a21": {
     "views": []
    },
    "bc44e3c7d2d547c6bee6ffcb73230bc5": {
     "views": []
    },
    "bd4c93f9570e44d28dc3716e1e23510c": {
     "views": []
    },
    "bd8232963c6045f5bd70df9257821fc7": {
     "views": []
    },
    "bdee126082974e4991264436d292a902": {
     "views": []
    },
    "bdf095ff7bbe44c2af79a273dc67e087": {
     "views": []
    },
    "bdf9cd7e06d14951a7713fc07658839c": {
     "views": []
    },
    "be0072536bb645879e7f48fbd08eef68": {
     "views": []
    },
    "beaabb1482694c64b74db4efdd1ff147": {
     "views": []
    },
    "bed29d33460d43278a0a380c86b2e7ad": {
     "views": []
    },
    "c1137f9b3dd54b61abf8d7e800ed196b": {
     "views": []
    },
    "c248e57af5c646cfbaccddca7a64ab38": {
     "views": []
    },
    "c2aee4b9a97c48e4bab81cd13568982f": {
     "views": []
    },
    "c3bafc5baf694d388be96b4ebf56717d": {
     "views": []
    },
    "c3d2937ecb5a467f9198e36648739a6f": {
     "views": []
    },
    "c43e4886c32e4166a6f89ff211a3ba1d": {
     "views": []
    },
    "c46560c9b45144f588c8ab8fa12410a2": {
     "views": []
    },
    "c4d236ba0e4f4f33bf333c9fa918306e": {
     "views": []
    },
    "c4dba6199f9f4ebc95fd27a2a804651a": {
     "views": []
    },
    "c56c69aa78e946b4a64b7b420a2d6a2e": {
     "views": []
    },
    "c59094dc3ea444c4929bace91fa97100": {
     "views": [
      {
       "cell_index": 11
      }
     ]
    },
    "c5cb41236a18467ca87f14f4603a12a8": {
     "views": []
    },
    "c5e95c2f4a1f4374b7e64739de28adc1": {
     "views": []
    },
    "c963bc8709cd4aa8819ab13f8fb5438b": {
     "views": []
    },
    "ca6efc17a93548bca755b3d7cdeda76a": {
     "views": []
    },
    "cafc068800e14f4f9ce922424842f60c": {
     "views": []
    },
    "cb5a03fcb8ec47e5b1358c84abca6a21": {
     "views": [
      {
       "cell_index": 15
      }
     ]
    },
    "cbed9db4077f4d5b9cdedd97b31240c3": {
     "views": []
    },
    "ccdee6bd562e4bad881987bf6b1bd946": {
     "views": []
    },
    "cdcd71af44184511a4e28e5ed5c95164": {
     "views": []
    },
    "cec36ee830a4432ebd9a396b32cd5b67": {
     "views": []
    },
    "d02cc72ce09746d98e04d71c991c9684": {
     "views": []
    },
    "d0b659c41e3a4c109b677785a90b215a": {
     "views": []
    },
    "d103e259c8564e52b5e41d7cc6267f60": {
     "views": []
    },
    "d13030f536de4a6ebade032dc20b7507": {
     "views": []
    },
    "d1728024ca3c43ab8590ec39bfdf4326": {
     "views": []
    },
    "d17834a0de5e470e93a96666b41e5d6c": {
     "views": []
    },
    "d25d432467894cfd89ca2e8660d27d6e": {
     "views": []
    },
    "d2a606e88cb04297a22d5924be941a30": {
     "views": []
    },
    "d349d1c3b86849adadf644304cf03b99": {
     "views": []
    },
    "d35fc60e8c324767a1f85dcd7c6b57fa": {
     "views": []
    },
    "d36e7d4289cb438ca353798744ca5f53": {
     "views": []
    },
    "d59cd6dd86584d1f94ec65aabd050b9c": {
     "views": []
    },
    "d5fcd6bdb0a34fa3907035bf6555d17c": {
     "views": []
    },
    "d64163f4bc4144bd8d8f739a973e7673": {
     "views": []
    },
    "d71cb139d3814690a3d17a7f4ffc5131": {
     "views": []
    },
    "d7255cdd6c8a425b91e09c7c1214c793": {
     "views": []
    },
    "d765953de60349cc89ffd5c1559e5c53": {
     "views": []
    },
    "d8508519e49147b08e06e17790216e18": {
     "views": []
    },
    "d9a17522c006496daca6ab8d484dd6ad": {
     "views": []
    },
    "d9a8706713a4472bab868f75a181686d": {
     "views": []
    },
    "d9c2b4307f4941af90cfad5484e4c271": {
     "views": []
    },
    "dbc861d83fb94911a8db39472ca9a19a": {
     "views": []
    },
    "dbf56367004a486fa08170f87d15bfe0": {
     "views": []
    },
    "de2d0a2377b64d0fb4b9f1d56120c96a": {
     "views": []
    },
    "de579852d21f4a5b85aa95eaf54310a4": {
     "views": []
    },
    "de620be484c440c593dcb0f9cc82310f": {
     "views": []
    },
    "de7eadd492cd403a85aa3f978f7ddf55": {
     "views": []
    },
    "dec64dc388704d3fa28d2f14d2cdc441": {
     "views": []
    },
    "df64c5d8c5794555a64c858b67f2a375": {
     "views": []
    },
    "e0ebbb2ebcf44ac6a209e15c522729e1": {
     "views": []
    },
    "e11e9b6326504dc4a1f787da3386c731": {
     "views": []
    },
    "e147f423adde4370aba32456baa6f33a": {
     "views": []
    },
    "e1ec119c34424b41997a20a282537949": {
     "views": []
    },
    "e233cd05b79344369fc7f7b9c3d11dff": {
     "views": []
    },
    "e27e0fb8f3c14576ad169d90057bd06f": {
     "views": []
    },
    "e29baefa06c44aa08134001231088a4f": {
     "views": []
    },
    "e3c7de9fff504111b2a827589b7a6af9": {
     "views": []
    },
    "e4367016e17f4de4a83646313488540c": {
     "views": []
    },
    "e447fdb54c394e8c9a93cf7794946821": {
     "views": []
    },
    "e4f852ff8d7a41ba864cace5985b296b": {
     "views": []
    },
    "e66020aaa2e54254839d84a1512eeffc": {
     "views": []
    },
    "e660a998efd5499eb0342ecd499cd955": {
     "views": []
    },
    "e698d5c8e14e4625a86a6f778e547738": {
     "views": []
    },
    "e71e0b0983294690915186950b775dcf": {
     "views": []
    },
    "e7b656c82235430e8847e4bae88ede6b": {
     "views": []
    },
    "e9d0f53b637d43aaabc3c3e1d0100882": {
     "views": []
    },
    "ea59f7987fba4505984bde9a322edc67": {
     "views": []
    },
    "ea656088d07d4c68b370885916c870c9": {
     "views": []
    },
    "ea8bc1f0132a4eabb62360fb488a68c4": {
     "views": []
    },
    "ecc452b1afd44fe5b7cdc28e273a8af9": {
     "views": []
    },
    "ecda8d1c7f8a47428860fc2bc2582ba7": {
     "views": []
    },
    "ed0a44a38cc443998c07554eea8df165": {
     "views": []
    },
    "edd012dc1c9a4b3a808b528c6ca9f0b7": {
     "views": []
    },
    "ee140aa0c49646aca258e3c564b0955f": {
     "views": []
    },
    "ef6f4f9698bd49e09d24608959a7d56b": {
     "views": []
    },
    "efcdbce74211480ab5206991db8f8e18": {
     "views": []
    },
    "f00324a2477145739abebd7c9d35aab3": {
     "views": []
    },
    "f0b5fc8f7d2e469db5df788443f57a24": {
     "views": []
    },
    "f18f9fb819cf419f880037eeeee4ee0b": {
     "views": []
    },
    "f19b64812fc94786b4c83bf88f11d267": {
     "views": []
    },
    "f1fca6b0de5e4a74a544d22428e5b6dd": {
     "views": []
    },
    "f22169f748c244c4810c736871fcb1c6": {
     "views": []
    },
    "f2450f0ad18d48e1b0d211a68d1e8be5": {
     "views": []
    },
    "f2abcac5374841a9b61d1ea387d0d54f": {
     "views": []
    },
    "f3e3ae91a20646f59669e5573ec0dae8": {
     "views": []
    },
    "f476d089260a405b95f0f0aef5001054": {
     "views": []
    },
    "f524ce4ce9ec435a8ef755133959a26e": {
     "views": []
    },
    "f5febb09efd8458ead30bbddb38e0d6e": {
     "views": []
    },
    "f62bb7ede07e4219ade584683b644a29": {
     "views": []
    },
    "f7cac021b5a342c4ae9e1e35798a433e": {
     "views": []
    },
    "f7d43b8d314c4657941c4eac4338ec08": {
     "views": []
    },
    "f8a4e759a2f54f16a350d37a605715d7": {
     "views": []
    },
    "f8e59f8cd8794b5ea73d0d68c446e525": {
     "views": []
    },
    "fa4acc88494b4bc6991e8bf567de05b9": {
     "views": [
      {
       "cell_index": 17
      }
     ]
    },
    "fac266cbd0c94438bbb11deed0f46920": {
     "views": [
      {
       "cell_index": 9
      }
     ]
    },
    "fb89f87e00ac4cdaa00dd6bc7305d624": {
     "views": []
    },
    "fc3fb81450b84b8fa630ee79d6bd3521": {
     "views": []
    },
    "fcdabecf30bf4ed79c29dca5bbd97916": {
     "views": []
    },
    "fd23be98bcdd48d889ec8cbd7b0b93aa": {
     "views": []
    },
    "fd861027130444b8b439474ae0abbbeb": {
     "views": []
    },
    "fe1f97185d3d408c8736b55dbabc3fa4": {
     "views": []
    },
    "fe53fb29e5a24c11b14a15fc77037210": {
     "views": []
    },
    "fe7d53bd8e714d189c170fd7fac1042a": {
     "views": []
    },
    "ff2e69ed684445f894c9c5c3477c0dfc": {
     "views": []
    },
    "ffed104e6319401caaa7d159741e2b32": {
     "views": []
    }
   },
   "version": "2.0.0-dev"
  }
 },
 "nbformat": 4,
 "nbformat_minor": 1
}
