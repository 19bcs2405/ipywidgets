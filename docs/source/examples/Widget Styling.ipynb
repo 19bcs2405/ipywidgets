{
 "cells": [
  {
   "cell_type": "markdown",
   "metadata": {},
   "source": [
    "# Layout and Styling of Jupyter widgets\n",
    "\n",
    "This notebook presents how to layout and style Jupyter interactive widgets to build rich and *reactive* widget-based applications."
   ]
  },
  {
   "cell_type": "markdown",
   "metadata": {},
   "source": [
    "## The `layout` attribute.\n",
    "\n",
    "Every Jupyter interactive widget has a `layout` attribute exposing a number of css properties that impact how widgets are laid out.\n",
    "\n",
    "### Exposed css properties\n",
    "\n",
    "<div class=\"alert alert-info\" style=\"margin: 20px\">\n",
    "The following properties map to the values of the css properties of the same name (underscores being replaced with dashes), applied to the top DOM elements of the corresponding widget.\n",
    "</div>\n",
    "\n",
    "\n",
    "** Sizes **\n",
    "- `height`\n",
    "- `width`\n",
    "- `max_height`\n",
    "- `max_width`\n",
    "- `min_height`\n",
    "- `min_width`\n",
    "\n",
    "** Display **\n",
    "\n",
    "- `visibility`\n",
    "- `display`\n",
    "- `overflow`\n",
    "- `overflow_x`\n",
    "- `overflow_y`\n",
    "\n",
    "** Box model **\n",
    "- `border` \n",
    "- `margin`\n",
    "- `padding`\n",
    "\n",
    "** Positioning **\n",
    "- `top`\n",
    "- `left`\n",
    "- `bottom`\n",
    "- `right`\n",
    "\n",
    "** Flexbox **\n",
    "- `order`\n",
    "- `flex_flow`\n",
    "- `align_items`\n",
    "- `flex`\n",
    "- `align_self`\n",
    "- `align_content`\n",
    "- `justify_content`\n",
    "\n",
    "\n",
    "### Shorthand css properties\n",
    "\n",
    "You may have noticed that certain css properties such as `margin-[top/right/bottom/left]` seem to be missing. The same holds for `padding-[top/right/bottom/left]` etc.\n",
    "\n",
    "In fact, you can atomically specify `[top/right/bottom/left]` margins via the `margin` attribute alone by passing the string\n",
    "\n",
    "```\n",
    "margin: 100px 150px 100px 80px;\n",
    "```\n",
    "\n",
    "for a respectively `top`, `right`, `bottom` and `left` margins of  `100`, `150`, `100` and `80` pixels.\n",
    "\n",
    "Similarly, the `flex` attribute can hold values for `flex-grow`, `flex-shrink` and `flex-basis`. The `border` attribute is a shorthand property for `border-width`, `border-style (required)`, and `border-color`."
   ]
  },
  {
   "cell_type": "markdown",
   "metadata": {},
   "source": [
    "### Simple examples"
   ]
  },
  {
   "cell_type": "markdown",
   "metadata": {},
   "source": [
    "The following example shows how to resize a `Button` so that its views have a height of `80px` and a width of `50%` of the available space:"
   ]
  },
  {
   "cell_type": "code",
   "execution_count": 1,
   "metadata": {
    "collapsed": true
   },
   "outputs": [],
   "source": [
    "from ipywidgets import *"
   ]
  },
  {
   "cell_type": "code",
   "execution_count": 2,
   "metadata": {},
   "outputs": [
    {
     "data": {
      "application/vnd.jupyter.widget-view+json": {
       "model_id": "882590719fc1493ba507548d991cbc00"
      }
     },
     "metadata": {},
     "output_type": "display_data"
    }
   ],
   "source": [
    "s = Button(description='(50% width, 80px height) button')\n",
    "s.layout.width = '50%'\n",
    "s.layout.height = '80px'\n",
    "s"
   ]
  },
  {
   "cell_type": "markdown",
   "metadata": {},
   "source": [
    "The `layout` property can be shared amongst multiple widgets and assigned directly."
   ]
  },
  {
   "cell_type": "code",
   "execution_count": 3,
   "metadata": {},
   "outputs": [
    {
     "data": {
      "application/vnd.jupyter.widget-view+json": {
       "model_id": "5d571573c93b4dff98108843872ae018"
      }
     },
     "metadata": {},
     "output_type": "display_data"
    }
   ],
   "source": [
    "i = Button(description='Another button with the same layout', layout=s.layout)\n",
    "i"
   ]
  },
  {
   "cell_type": "markdown",
   "metadata": {},
   "source": [
    "### Description"
   ]
  },
  {
   "cell_type": "markdown",
   "metadata": {},
   "source": [
    "You may have noticed that the widget's length is shorter in presence of a description. This because the description is added *inside* of the widget's total length. You **cannot** change the width of the internal description field. If you need more flexibility to layout widgets and captions, you should use a combination with the `Label` widgets arranged in a layout."
   ]
  },
  {
   "cell_type": "code",
   "execution_count": 4,
   "metadata": {},
   "outputs": [
    {
     "data": {
      "application/vnd.jupyter.widget-view+json": {
       "model_id": "a56b4d92b95445738f7017d7ee81e501"
      }
     },
     "metadata": {},
     "output_type": "display_data"
    }
   ],
   "source": [
    "HBox([Label('A too long description'), IntSlider()])"
   ]
  },
  {
   "cell_type": "markdown",
   "metadata": {},
   "source": [
    "### More Styling (colors, inner-widget details)\n",
    "\n",
    "The `layout` attribute only exposes layout-related css properties for the top-level DOM element of widgets. Individual widgets may expose more styling-related properties, or none. For example, the `Button` widget has a `button_style` attribute that may take 5 different values:\n",
    "\n",
    " - `'primary'`\n",
    " - `'success'`\n",
    " - `'info'`\n",
    " - `'warning'`\n",
    " - `'danger'`\n",
    "\n",
    "besides the default empty string ''."
   ]
  },
  {
   "cell_type": "code",
   "execution_count": 5,
   "metadata": {},
   "outputs": [
    {
     "data": {
      "application/vnd.jupyter.widget-view+json": {
       "model_id": "c35d339522534b8a85dcb5e682074f1f"
      }
     },
     "metadata": {},
     "output_type": "display_data"
    }
   ],
   "source": [
    "Button(description='Danger Button', button_style='danger')"
   ]
  },
  {
   "cell_type": "markdown",
   "metadata": {},
   "source": [
    "### Natural sizes, and arangements using HBox and VBox\n",
    "\n",
    "Most of the core-widgets have \n",
    "- a natural width that is a multiple of `148` pixels\n",
    "- a natural height of `32` pixels or a multiple of that number.\n",
    "- a default margin of `2` pixels\n",
    "\n",
    "which will be the ones used when it is not specified in the `layout` attribute.\n",
    "\n",
    "This allows simple layouts based on the `HBox` and `VBox` helper functions to align naturally:"
   ]
  },
  {
   "cell_type": "code",
   "execution_count": 6,
   "metadata": {},
   "outputs": [
    {
     "data": {
      "application/vnd.jupyter.widget-view+json": {
       "model_id": "bece7dace08c4536b22ae83c5e646725"
      }
     },
     "metadata": {},
     "output_type": "display_data"
    }
   ],
   "source": [
    "words = (\"Lorem ipsum dolor sit amet, consectetur adipiscing elit, sed \" +\n",
    "         \"do eiusmod tempor incididunt ut labore et dolore magna aliqua.\").split(' ')\n",
    "items = [Button(description=w) for w in words]\n",
    "\n",
    "HBox([VBox([items[0], items[1]]), VBox([items[2], items[3]])])"
   ]
  },
  {
   "cell_type": "markdown",
   "metadata": {},
   "source": [
    "### Latex"
   ]
  },
  {
   "cell_type": "markdown",
   "metadata": {},
   "source": [
    "Widgets such as sliders and text inputs have a description attribute that can render Latex Equations. The `Label` widget also renders Latex equations."
   ]
  },
  {
   "cell_type": "code",
   "execution_count": 7,
   "metadata": {},
   "outputs": [
    {
     "data": {
      "application/vnd.jupyter.widget-view+json": {
       "model_id": "1429019933c04ad0b88b7e0eea51185f"
      }
     },
     "metadata": {},
     "output_type": "display_data"
    }
   ],
   "source": [
    "IntSlider(description='$\\int_0^t f$')"
   ]
  },
  {
   "cell_type": "code",
   "execution_count": 8,
   "metadata": {},
   "outputs": [
    {
     "data": {
      "application/vnd.jupyter.widget-view+json": {
       "model_id": "c6a7e59e9b124a30b3a6bcbf0ddfba5f"
      }
     },
     "metadata": {},
     "output_type": "display_data"
    }
   ],
   "source": [
    "Label(value='$e=mc^2$')"
   ]
  },
  {
   "cell_type": "markdown",
   "metadata": {},
   "source": [
    "### Number formatting\n",
    "\n",
    "Sliders have a readout field which can be formatted using Python's *Format Specification Mini-Language*: https://docs.python.org/3/library/string.html#format-specification-mini-language. If the space available for the readout is too narrow for the string representation of the slider value, a different styling is applied to show that not all digits are visible."
   ]
  },
  {
   "cell_type": "markdown",
   "metadata": {},
   "source": [
    "## The Flexbox layout\n",
    "\n",
    "In fact, the `HBox` and `VBox` helpers used above are functions returning instances of the `Box` widget with specific options.\n",
    "\n",
    "The `Box` widgets enables the entire CSS Flexbox spec, enabling rich reactive layouts in the Jupyter notebook. It aims at providing an efficient way to lay out, align and distribute space among items in a container.\n",
    "\n",
    "Again, the whole Flexbox spec is exposed via the `layout` attribute of the container widget (`Box`) and the contained items. One may share the same `layout` attribute among all the contained items.\n",
    "\n",
    "### Aknowledgement\n",
    "\n",
    "The following tutorial on the Flexbox layout follows the lines of the article *A Complete Guide to Flexbox* by Chris Coyier available here: https://css-tricks.com/snippets/css/a-guide-to-flexbox/\n",
    "\n",
    "### Basics and terminology\n",
    "\n",
    "Since flexbox is a whole module and not a single property, it involves a lot of things including its whole set of properties. Some of them are meant to be set on the container (parent element, known as \"flex container\") whereas the others are meant to be set on the children (said \"flex items\").\n",
    "\n",
    "If regular layout is based on both block and inline flow directions, the flex layout is based on \"flex-flow directions\". Please have a look at this figure from the specification, explaining the main idea behind the flex layout.\n",
    "\n",
    "![Flexbox](./images/flexbox.png)\n",
    "\n",
    "Basically, items will be laid out following either the `main axis` (from `main-start` to `main-end`) or the `cross axis` (from `cross-start` to `cross-end`).\n",
    "\n",
    "- `main axis` - The main axis of a flex container is the primary axis along which flex items are laid out. Beware, it is not necessarily horizontal; it depends on the flex-direction property (see below).\n",
    "- `main-start | main-end` - The flex items are placed within the container starting from main-start and going to main-end.\n",
    "- `main size` - A flex item's width or height, whichever is in the main dimension, is the item's main size. The flex item's main size property is either the ‘width’ or ‘height’ property, whichever is in the main dimension.\n",
    "cross axis - The axis perpendicular to the main axis is called the cross axis. Its direction depends on the main axis direction.\n",
    "- `cross-start | cross-end` - Flex lines are filled with items and placed into the container starting on the cross-start side of the flex container and going toward the cross-end side.\n",
    "- `cross size` - The width or height of a flex item, whichever is in the cross dimension, is the item's cross size. The cross size property is whichever of ‘width’ or ‘height’ that is in the cross dimension.\n",
    "\n",
    "### Properties of the parent\n",
    "\n",
    "![Container](./images/flex-container.svg)\n",
    "\n",
    "- `display` (must be equal to 'flex' or 'inline-flex')\n",
    "\n",
    "  This defines a flex container (inline or block).\n",
    "- `flex-flow` **(shorthand for two properties)**\n",
    "\n",
    "   This is a shorthand `flex-direction` and `flex-wrap` properties, which together define the flex container's main and cross axes. Default is `row nowrap`.\n",
    "\n",
    "    - `flex-direction` (row | row-reverse | column | column-reverse)\n",
    "    \n",
    "      This establishes the main-axis, thus defining the direction flex items are placed in the flex container. Flexbox is (aside from optional wrapping) a single-direction layout concept. Think of flex items as primarily laying out either in horizontal rows or vertical columns.\n",
    "      ![Direction](./images/flex-direction1.svg)\n",
    "    \n",
    "    - `flex-wrap` (nowrap | wrap | wrap-reverse)\n",
    "      \n",
    "      By default, flex items will all try to fit onto one line. You can change that and allow the items to wrap as needed with this property. Direction also plays a role here, determining the direction new lines are stacked in.\n",
    "      ![Wrap](./images/flex-wrap.svg)\n",
    "\n",
    "- `justify-content` (flex-start | flex-end | center | space-between | space-around)\n",
    "\n",
    "  This defines the alignment along the main axis. It helps distribute extra free space left over when either all the flex items on a line are inflexible, or are flexible but have reached their maximum size. It also exerts some control over the alignment of items when they overflow the line.\n",
    "  ![Justify](./images/justify-content.svg)\n",
    "\n",
    "- `align-items` (flex-start | flex-end | center | baseline | stretch)\n",
    "\n",
    "   This defines the default behaviour for how flex items are laid out along the cross axis on the current line. Think of it as the justify-content version for the cross-axis (perpendicular to the main-axis).\n",
    "   ![Items](./images/align-items.svg)\n",
    "   \n",
    "- `align-content` (flex-start | flex-end | center | baseline | stretch)\n",
    "\n",
    "   This aligns a flex container's lines within when there is extra space in the cross-axis, similar to how justify-content aligns individual items within the main-axis.\n",
    "   ![Items](./images/align-content.svg)\n",
    "\n",
    "  **Note**: this property has no effect when there is only one line of flex items.\n",
    "\n",
    "### Properties of the items\n",
    "\n",
    "![Item](./images/flex-items.svg)\n",
    "\n",
    "The flexbox-related css properties of the items have no impact if the parent element is not a flexbox container (i.e. has a `display` attribute equal to `flex` or `inline-flex`).\n",
    "\n",
    "\n",
    "- `order`\n",
    "\n",
    "   By default, flex items are laid out in the source order. However, the order property controls the order in which they appear in the flex container.\n",
    "   <img src=\"./images/order-2.svg\" alt=\"Order\" style=\"width: 500px;\"/>\n",
    "   \n",
    "- `flex` **(shorthand for three properties)**\n",
    "   This is the shorthand for flex-grow, flex-shrink and flex-basis combined. The second and third parameters (flex-shrink and flex-basis) are optional. Default is `0 1 auto`.\n",
    "   \n",
    "    - `flex-grow`\n",
    "    \n",
    "      This defines the ability for a flex item to grow if necessary. It accepts a unitless value that serves as a proportion. It dictates what amount of the available space inside the flex container the item should take up.\n",
    "\n",
    "      If all items have flex-grow set to 1, the remaining space in the container will be distributed equally to all children. If one of the children a value of 2, the remaining space would take up twice as much space as the others (or it will try to, at least).\n",
    "        ![Grow](./images/flex-grow.svg)\n",
    "      \n",
    "    - `flex-shrink`\n",
    "    \n",
    "      This defines the ability for a flex item to shrink if necessary.\n",
    "      \n",
    "    - `flex-basis`\n",
    "    \n",
    "      This defines the default size of an element before the remaining space is distributed. It can be a length (e.g. `20%`, `5rem`, etc.) or a keyword. The `auto` keyword means *\"look at my width or height property\"*.\n",
    "      \n",
    "- `align-self`\n",
    "\n",
    "  This allows the default alignment (or the one specified by align-items) to be overridden for individual flex items.\n",
    "\n",
    "  ![Align](./images/align-self.svg)\n",
    "\n",
    "### The VBox and HBox helpers\n",
    "\n",
    "The `VBox` and `HBox` helper provide simple defaults to arrange child widgets in Vertical and Horizontal boxes.\n",
    "\n",
    "```Python\n",
    "def VBox(*pargs, **kwargs):\n",
    "    \"\"\"Displays multiple widgets vertically using the flexible box model.\"\"\"\n",
    "    box = Box(*pargs, **kwargs)\n",
    "    box.layout.display = 'flex'\n",
    "    box.layout.flex_flow = 'column'\n",
    "    box.layout.align_items = 'stretch'\n",
    "    return box\n",
    "\n",
    "def HBox(*pargs, **kwargs):\n",
    "    \"\"\"Displays multiple widgets horizontally using the flexible box model.\"\"\"\n",
    "    box = Box(*pargs, **kwargs)\n",
    "    box.layout.display = 'flex'\n",
    "    box.layout.align_items = 'stretch'\n",
    "    return box\n",
    "```\n",
    "\n",
    "\n",
    "### Examples"
   ]
  },
  {
   "cell_type": "markdown",
   "metadata": {},
   "source": [
    "**Four buttons in a `VBox`. Items stretch to the maximum width, in a vertical box taking `50%` of the available space.**"
   ]
  },
  {
   "cell_type": "code",
   "execution_count": 9,
   "metadata": {},
   "outputs": [
    {
     "data": {
      "application/vnd.jupyter.widget-view+json": {
       "model_id": "c86b40b7fda347228838eb9194cafa90"
      }
     },
     "metadata": {},
     "output_type": "display_data"
    }
   ],
   "source": [
    "items_layout = Layout(flex='1 1 auto',\n",
    "                      width='auto')     # override the default width of the button to 'auto' to let the button grow\n",
    "\n",
    "box_layout = Layout(display='flex',\n",
    "                    flex_flow='column', \n",
    "                    align_items='stretch', \n",
    "                    border='solid',\n",
    "                    width='50%')\n",
    "\n",
    "items = [Button(description=w, layout=items_layout, button_style='danger') for w in words[:4]]\n",
    "box = Box(children=items, layout=box_layout)\n",
    "box"
   ]
  },
  {
   "cell_type": "markdown",
   "metadata": {
    "collapsed": true
   },
   "source": [
    "**Three buttons in an HBox. Items flex proportionaly to their weight.**"
   ]
  },
  {
   "cell_type": "code",
   "execution_count": 10,
   "metadata": {},
   "outputs": [
    {
     "data": {
      "application/vnd.jupyter.widget-view+json": {
       "model_id": "ca70430be6bb406cb9ec4bdc520cdab2"
      }
     },
     "metadata": {},
     "output_type": "display_data"
    }
   ],
   "source": [
    "items_layout = Layout(flex='1 1 auto', width='auto')     # override the default width of the button to 'auto' to let the button grow\n",
    "\n",
    "items = [\n",
    "    Button(description='weight=1'),\n",
    "    Button(description='weight=2', layout=Layout(flex='2 1 auto', width='auto')),\n",
    "    Button(description='weight=1'),\n",
    " ]\n",
    "\n",
    "box_layout = Layout(display='flex',\n",
    "                    flex_flow='row', \n",
    "                    align_items='stretch', \n",
    "                    border='solid',\n",
    "                    width='50%')\n",
    "box = Box(children=items, layout=box_layout)\n",
    "box"
   ]
  },
  {
   "cell_type": "markdown",
   "metadata": {},
   "source": [
    "**A more advanced example: a reactive form.**\n",
    "\n",
    "The form is a `VBox` of width '50%'. Each row in the VBox is an HBox, that justifies the content with space between.."
   ]
  },
  {
   "cell_type": "code",
   "execution_count": 11,
   "metadata": {},
   "outputs": [
    {
     "data": {
      "application/vnd.jupyter.widget-view+json": {
       "model_id": "cc89f6f92c1b469a82f2c2b5aec9787e"
      }
     },
     "metadata": {},
     "output_type": "display_data"
    }
   ],
   "source": [
    "label_layout = Layout()\n",
    "\n",
    "form_item_layout = Layout(\n",
    "    display='flex',\n",
    "    flex_flow='row',\n",
    "    justify_content='space-between'\n",
    ")\n",
    "\n",
    "form_items = [\n",
    "    Box([Label(value='Age of the captain'), IntSlider(min=40, max=60)], layout=form_item_layout),\n",
    "    Box([Label(value='Egg style'), \n",
    "         Dropdown(options=['Scrambled', 'Sunny side up', 'Over easy'])], layout=form_item_layout),\n",
    "    Box([Label(value='Ship size'), \n",
    "         FloatText()], layout=form_item_layout),\n",
    "    Box([Label(value='Information'), \n",
    "         Textarea()], layout=form_item_layout)\n",
    "]\n",
    "\n",
    "form = Box(form_items, layout=Layout(\n",
    "    display='flex',\n",
    "    flex_flow='column',\n",
    "    border='solid 2px',\n",
    "    align_items='stretch',\n",
    "    width='50%'\n",
    "))\n",
    "form"
   ]
  },
  {
   "cell_type": "markdown",
   "metadata": {},
   "source": [
    "**A more advanced example: a carousel.**"
   ]
  },
  {
   "cell_type": "code",
   "execution_count": 12,
   "metadata": {},
   "outputs": [
    {
     "data": {
      "application/vnd.jupyter.widget-view+json": {
       "model_id": "fbef837f34f940f5a55d5228a40597fd"
      }
     },
     "metadata": {},
     "output_type": "display_data"
    }
   ],
   "source": [
    "item_layout = Layout(height='100px', min_width='40px')\n",
    "items = [Button(layout=item_layout, button_style='warning') for i in range(40)]\n",
    "box_layout = Layout(overflow_x='scroll',\n",
    "                    border='3px solid black',\n",
    "                    width='500px',\n",
    "                    height='',\n",
    "                    flex_direction='row',\n",
    "                    display='flex')\n",
    "HBox(children=items, layout=box_layout)"
   ]
  }
 ],
 "metadata": {
  "kernelspec": {
   "display_name": "Python 3",
   "language": "python",
   "name": "python3"
  },
  "language_info": {
   "codemirror_mode": {
    "name": "ipython",
    "version": 3
   },
   "file_extension": ".py",
   "mimetype": "text/x-python",
   "name": "python",
   "nbconvert_exporter": "python",
   "pygments_lexer": "ipython3",
   "version": "3.5.2"
  },
  "widgets": {
   "application/vnd.jupyter.widget-state+json": {
    "state": {
     "037c77f8546f4f26b643ff5cdebee621": {
      "model_module": "jupyter-js-widgets",
      "model_module_version": "*",
      "model_name": "LayoutModel",
      "state": {}
     },
     "03bbf6c6a5e94dea925b61a8c5b003b5": {
      "model_module": "jupyter-js-widgets",
      "model_module_version": "*",
      "model_name": "LayoutModel",
      "state": {}
     },
     "07bebf3c69a149d1947253bdd2721eb2": {
      "model_module": "jupyter-js-widgets",
      "model_module_version": "*",
      "model_name": "LayoutModel",
      "state": {
       "height": "80px",
       "width": "50%"
      }
     },
     "082670bc24a848f39bebfc0ef9b22f0e": {
      "model_module": "jupyter-js-widgets",
      "model_module_version": "*",
      "model_name": "ButtonModel",
      "state": {
       "button_style": "warning",
       "layout": "IPY_MODEL_8d80737fd20f43309be33b6697a88663"
      }
     },
     "0830f095220c489e912325aad98e28a1": {
      "model_module": "jupyter-js-widgets",
      "model_module_version": "*",
      "model_name": "LayoutModel",
      "state": {}
     },
     "0a072234b55e4126932feb3380270d23": {
      "model_module": "jupyter-js-widgets",
      "model_module_version": "*",
      "model_name": "LayoutModel",
      "state": {}
     },
     "0af4be8d13f04b1c9643fb9f8fee938e": {
      "model_module": "jupyter-js-widgets",
      "model_module_version": "*",
      "model_name": "VBoxModel",
      "state": {
       "children": [
        "IPY_MODEL_bf6bc2804fe34b1b8e74ceaf3b210a0e",
        "IPY_MODEL_2e6cf93bc1d84acb9aad5384d118ab02"
       ],
       "layout": "IPY_MODEL_673e20d1c4f641a59436fed2711c4186"
      }
     },
     "0d2e8f0a6923405caeea49d4b2c15a18": {
      "model_module": "jupyter-js-widgets",
      "model_module_version": "*",
      "model_name": "LayoutModel",
      "state": {}
     },
     "0df067c185d04e699a0be090a614ff1b": {
      "model_module": "jupyter-js-widgets",
      "model_module_version": "*",
      "model_name": "ButtonModel",
      "state": {
       "button_style": "warning",
       "layout": "IPY_MODEL_8d80737fd20f43309be33b6697a88663"
      }
     },
     "10892abdb6d24e0fa36cbed7244f1406": {
      "model_module": "jupyter-js-widgets",
      "model_module_version": "*",
      "model_name": "ButtonModel",
      "state": {
       "description": "weight=1",
       "layout": "IPY_MODEL_bf7e4226533948fe85251dd9b5b7ae95"
      }
     },
     "10ddc33c898949bfa36a780266199419": {
      "model_module": "jupyter-js-widgets",
      "model_module_version": "*",
      "model_name": "LayoutModel",
      "state": {}
     },
     "1429019933c04ad0b88b7e0eea51185f": {
      "model_module": "jupyter-js-widgets",
      "model_module_version": "*",
      "model_name": "IntSliderModel",
      "state": {
       "description": "$\\int_0^t f$",
       "layout": "IPY_MODEL_3d4e1a29af7548a3a229af3b9385e184"
      }
     },
     "14870e7fe4884422bec7522513741be8": {
      "model_module": "jupyter-js-widgets",
      "model_module_version": "*",
      "model_name": "ButtonModel",
      "state": {
       "button_style": "warning",
       "layout": "IPY_MODEL_8d80737fd20f43309be33b6697a88663"
      }
     },
     "14d3ae1cee0048b59890e534954d87a3": {
      "model_module": "jupyter-js-widgets",
      "model_module_version": "*",
      "model_name": "ButtonModel",
      "state": {
       "button_style": "warning",
       "layout": "IPY_MODEL_8d80737fd20f43309be33b6697a88663"
      }
     },
     "1543634380594366b93a97a2cc218566": {
      "model_module": "jupyter-js-widgets",
      "model_module_version": "*",
      "model_name": "LayoutModel",
      "state": {}
     },
     "169360f272044b2abdb4618f19c8b23b": {
      "model_module": "jupyter-js-widgets",
      "model_module_version": "*",
      "model_name": "ButtonModel",
      "state": {
       "button_style": "warning",
       "layout": "IPY_MODEL_8d80737fd20f43309be33b6697a88663"
      }
     },
     "17e81c2ac6da413ba9a7cbc29893d983": {
      "model_module": "jupyter-js-widgets",
      "model_module_version": "*",
      "model_name": "ButtonModel",
      "state": {
       "button_style": "warning",
       "layout": "IPY_MODEL_8d80737fd20f43309be33b6697a88663"
      }
     },
     "1a1fd5f8aadc4908bea04a529ac75556": {
      "model_module": "jupyter-js-widgets",
      "model_module_version": "*",
      "model_name": "ButtonModel",
      "state": {
       "button_style": "warning",
       "layout": "IPY_MODEL_8d80737fd20f43309be33b6697a88663"
      }
     },
     "1a55ff407acb403788ebbcd15d8e461e": {
      "model_module": "jupyter-js-widgets",
      "model_module_version": "*",
      "model_name": "ButtonModel",
      "state": {
       "description": "ut",
       "layout": "IPY_MODEL_a7be0145997f46f9a47525c140fe6f9c"
      }
     },
     "1c7dca637bbd431480d3d2e5da978ddf": {
      "model_module": "jupyter-js-widgets",
      "model_module_version": "*",
      "model_name": "ButtonModel",
      "state": {
       "button_style": "warning",
       "layout": "IPY_MODEL_8d80737fd20f43309be33b6697a88663"
      }
     },
     "1f8803b5dd664120bf0acfa5a98b39b3": {
      "model_module": "jupyter-js-widgets",
      "model_module_version": "*",
      "model_name": "LayoutModel",
      "state": {}
     },
     "24309dfbd4b64a03aa08ce0ae0669839": {
      "model_module": "jupyter-js-widgets",
      "model_module_version": "*",
      "model_name": "ButtonModel",
      "state": {
       "button_style": "warning",
       "layout": "IPY_MODEL_8d80737fd20f43309be33b6697a88663"
      }
     },
     "285e909d591a4a698cca0051561c39f0": {
      "model_module": "jupyter-js-widgets",
      "model_module_version": "*",
      "model_name": "LabelModel",
      "state": {
       "layout": "IPY_MODEL_547e687e92c64da48c1055e9f129f73f",
       "value": "Age of the captain"
      }
     },
     "2e6cf93bc1d84acb9aad5384d118ab02": {
      "model_module": "jupyter-js-widgets",
      "model_module_version": "*",
      "model_name": "ButtonModel",
      "state": {
       "description": "ipsum",
       "layout": "IPY_MODEL_78a846105060416fb45967b990ba6b51"
      }
     },
     "30f70b136f0c4eac903fc8f793e97ff3": {
      "model_module": "jupyter-js-widgets",
      "model_module_version": "*",
      "model_name": "LayoutModel",
      "state": {
       "align_items": "stretch",
       "border": "solid",
       "display": "flex",
       "flex_flow": "column",
       "width": "50%"
      }
     },
     "31651c1b3f114d8187b34ae200e95de4": {
      "model_module": "jupyter-js-widgets",
      "model_module_version": "*",
      "model_name": "LayoutModel",
      "state": {
       "flex": "2 1 auto",
       "width": "auto"
      }
     },
     "3379a076e93947f7974f55ec67ea2965": {
      "model_module": "jupyter-js-widgets",
      "model_module_version": "*",
      "model_name": "ButtonModel",
      "state": {
       "button_style": "warning",
       "layout": "IPY_MODEL_8d80737fd20f43309be33b6697a88663"
      }
     },
     "359146fb56ce4cd1ae572cc0f3e1a796": {
      "model_module": "jupyter-js-widgets",
      "model_module_version": "*",
      "model_name": "LayoutModel",
      "state": {}
     },
     "3a276ffe265248c1a06a84a788369171": {
      "model_module": "jupyter-js-widgets",
      "model_module_version": "*",
      "model_name": "ButtonModel",
      "state": {
       "button_style": "warning",
       "layout": "IPY_MODEL_8d80737fd20f43309be33b6697a88663"
      }
     },
     "3a70dcf7d217407c9ca01e0478e0a8c9": {
      "model_module": "jupyter-js-widgets",
      "model_module_version": "*",
      "model_name": "ButtonModel",
      "state": {
       "description": "dolor",
       "layout": "IPY_MODEL_b608f711d555432787c2326ed184d429"
      }
     },
     "3b4a0b91399a478b967293fc4b7912fd": {
      "model_module": "jupyter-js-widgets",
      "model_module_version": "*",
      "model_name": "LayoutModel",
      "state": {}
     },
     "3c1c7ed3b4aa4cb9abeffc0e208d487f": {
      "model_module": "jupyter-js-widgets",
      "model_module_version": "*",
      "model_name": "FloatTextModel",
      "state": {
       "layout": "IPY_MODEL_03bbf6c6a5e94dea925b61a8c5b003b5"
      }
     },
     "3c7e82a68f614b29bc0736f98bfddeb8": {
      "model_module": "jupyter-js-widgets",
      "model_module_version": "*",
      "model_name": "ButtonModel",
      "state": {
       "description": "do",
       "layout": "IPY_MODEL_1543634380594366b93a97a2cc218566"
      }
     },
     "3d4e1a29af7548a3a229af3b9385e184": {
      "model_module": "jupyter-js-widgets",
      "model_module_version": "*",
      "model_name": "LayoutModel",
      "state": {}
     },
     "41837bbabbfb443e8c55500f1ef92b07": {
      "model_module": "jupyter-js-widgets",
      "model_module_version": "*",
      "model_name": "ButtonModel",
      "state": {
       "button_style": "warning",
       "layout": "IPY_MODEL_8d80737fd20f43309be33b6697a88663"
      }
     },
     "430efe65e1324b06bc2a7f6da8689bdb": {
      "model_module": "jupyter-js-widgets",
      "model_module_version": "*",
      "model_name": "ButtonModel",
      "state": {
       "description": "sed",
       "layout": "IPY_MODEL_359146fb56ce4cd1ae572cc0f3e1a796"
      }
     },
     "432bff19423b4405a242160131f8a13e": {
      "model_module": "jupyter-js-widgets",
      "model_module_version": "*",
      "model_name": "LayoutModel",
      "state": {}
     },
     "446236ad857342b4824e61fa76e88949": {
      "model_module": "jupyter-js-widgets",
      "model_module_version": "*",
      "model_name": "LabelModel",
      "state": {
       "layout": "IPY_MODEL_0d2e8f0a6923405caeea49d4b2c15a18",
       "value": "Egg style"
      }
     },
     "46fb32129ae741d8a595e074bd486d44": {
      "model_module": "jupyter-js-widgets",
      "model_module_version": "*",
      "model_name": "DropdownModel",
      "state": {
       "_options_labels": [
        "Scrambled",
        "Sunny side up",
        "Over easy"
       ],
       "layout": "IPY_MODEL_8197b5c326ea4586ad85f96c44869dcc",
       "value": "Scrambled"
      }
     },
     "47c75ba3e6404eb6b0c001573ebe3ad8": {
      "model_module": "jupyter-js-widgets",
      "model_module_version": "*",
      "model_name": "LayoutModel",
      "state": {}
     },
     "4a76a0bd38c24a048b03521f710f4c08": {
      "model_module": "jupyter-js-widgets",
      "model_module_version": "*",
      "model_name": "LayoutModel",
      "state": {}
     },
     "4c9cd96110214b5092a12820a9ba149d": {
      "model_module": "jupyter-js-widgets",
      "model_module_version": "*",
      "model_name": "ButtonModel",
      "state": {
       "button_style": "warning",
       "layout": "IPY_MODEL_8d80737fd20f43309be33b6697a88663"
      }
     },
     "50ff8ba0818e4e7995243c4b57d17292": {
      "model_module": "jupyter-js-widgets",
      "model_module_version": "*",
      "model_name": "BoxModel",
      "state": {
       "children": [
        "IPY_MODEL_446236ad857342b4824e61fa76e88949",
        "IPY_MODEL_46fb32129ae741d8a595e074bd486d44"
       ],
       "layout": "IPY_MODEL_f09588e2a8af44b19a14e80b8d6622f9"
      }
     },
     "535a353392824382b5f73ec7f5fad557": {
      "model_module": "jupyter-js-widgets",
      "model_module_version": "*",
      "model_name": "ButtonModel",
      "state": {
       "button_style": "warning",
       "layout": "IPY_MODEL_8d80737fd20f43309be33b6697a88663"
      }
     },
     "5434d55aae804a8f95f91ad3a1d393a9": {
      "model_module": "jupyter-js-widgets",
      "model_module_version": "*",
      "model_name": "LayoutModel",
      "state": {}
     },
     "547e687e92c64da48c1055e9f129f73f": {
      "model_module": "jupyter-js-widgets",
      "model_module_version": "*",
      "model_name": "LayoutModel",
      "state": {}
     },
     "57b8978dd150492c83dab7c1a0793c6c": {
      "model_module": "jupyter-js-widgets",
      "model_module_version": "*",
      "model_name": "ButtonModel",
      "state": {
       "button_style": "danger",
       "description": "dolor",
       "layout": "IPY_MODEL_ca6f0d50969d40bd9bfd544de9e71114"
      }
     },
     "57faf83c3619456aad79577cc60f7f19": {
      "model_module": "jupyter-js-widgets",
      "model_module_version": "*",
      "model_name": "BoxModel",
      "state": {
       "children": [
        "IPY_MODEL_8719692a89fe463998c4d75007e4c963",
        "IPY_MODEL_3c1c7ed3b4aa4cb9abeffc0e208d487f"
       ],
       "layout": "IPY_MODEL_f09588e2a8af44b19a14e80b8d6622f9"
      }
     },
     "5d571573c93b4dff98108843872ae018": {
      "model_module": "jupyter-js-widgets",
      "model_module_version": "*",
      "model_name": "ButtonModel",
      "state": {
       "description": "Another button with the same layout",
       "layout": "IPY_MODEL_07bebf3c69a149d1947253bdd2721eb2"
      }
     },
     "5e712cd03c76458ebe6d33c866fd5558": {
      "model_module": "jupyter-js-widgets",
      "model_module_version": "*",
      "model_name": "ButtonModel",
      "state": {
       "button_style": "warning",
       "layout": "IPY_MODEL_8d80737fd20f43309be33b6697a88663"
      }
     },
     "5ed2052d021d4d1694edc06b7545d394": {
      "model_module": "jupyter-js-widgets",
      "model_module_version": "*",
      "model_name": "LayoutModel",
      "state": {
       "align_items": "stretch",
       "border": "solid 2px",
       "display": "flex",
       "flex_flow": "column",
       "width": "50%"
      }
     },
     "63aea97afe2547e989128a959989c4de": {
      "model_module": "jupyter-js-widgets",
      "model_module_version": "*",
      "model_name": "ButtonModel",
      "state": {
       "button_style": "warning",
       "layout": "IPY_MODEL_8d80737fd20f43309be33b6697a88663"
      }
     },
     "673e20d1c4f641a59436fed2711c4186": {
      "model_module": "jupyter-js-widgets",
      "model_module_version": "*",
      "model_name": "LayoutModel",
      "state": {}
     },
     "6746ab43f7694e5f90bc22bdb4eb2604": {
      "model_module": "jupyter-js-widgets",
      "model_module_version": "*",
      "model_name": "BoxModel",
      "state": {
       "children": [
        "IPY_MODEL_f38e82396022418a990b44ae854e7664",
        "IPY_MODEL_a1d48756bb6d41e0aa4a86991e03e681"
       ],
       "layout": "IPY_MODEL_f09588e2a8af44b19a14e80b8d6622f9"
      }
     },
     "6ac69c9c8df047d4940a6856b96b302d": {
      "model_module": "jupyter-js-widgets",
      "model_module_version": "*",
      "model_name": "LayoutModel",
      "state": {}
     },
     "6e08e3ed68944ea29b49a3740fab8369": {
      "model_module": "jupyter-js-widgets",
      "model_module_version": "*",
      "model_name": "LayoutModel",
      "state": {}
     },
     "6ec23d49403145ec932831dbdd11a12b": {
      "model_module": "jupyter-js-widgets",
      "model_module_version": "*",
      "model_name": "ButtonModel",
      "state": {
       "button_style": "warning",
       "layout": "IPY_MODEL_8d80737fd20f43309be33b6697a88663"
      }
     },
     "70407b5e82a947a89f800352692c5002": {
      "model_module": "jupyter-js-widgets",
      "model_module_version": "*",
      "model_name": "ButtonModel",
      "state": {
       "button_style": "warning",
       "layout": "IPY_MODEL_8d80737fd20f43309be33b6697a88663"
      }
     },
     "73c7b03225c54f9ca5e19f65974afd9a": {
      "model_module": "jupyter-js-widgets",
      "model_module_version": "*",
      "model_name": "LayoutModel",
      "state": {}
     },
     "751dc613d3a143e2aff708be9cfca7a1": {
      "model_module": "jupyter-js-widgets",
      "model_module_version": "*",
      "model_name": "ButtonModel",
      "state": {
       "button_style": "warning",
       "layout": "IPY_MODEL_8d80737fd20f43309be33b6697a88663"
      }
     },
     "754ea15e06224f5fb4791cd54dd9addf": {
      "model_module": "jupyter-js-widgets",
      "model_module_version": "*",
      "model_name": "LayoutModel",
      "state": {}
     },
     "75965964507242a5b4ac1ea12ba161da": {
      "model_module": "jupyter-js-widgets",
      "model_module_version": "*",
      "model_name": "LayoutModel",
      "state": {}
     },
     "76f627ea7c68427caa6ddbf4f85fea2b": {
      "model_module": "jupyter-js-widgets",
      "model_module_version": "*",
      "model_name": "ButtonModel",
      "state": {
       "description": "weight=2",
       "layout": "IPY_MODEL_31651c1b3f114d8187b34ae200e95de4"
      }
     },
     "78a846105060416fb45967b990ba6b51": {
      "model_module": "jupyter-js-widgets",
      "model_module_version": "*",
      "model_name": "LayoutModel",
      "state": {}
     },
     "7b404375b8264e67b8b377fd8086bca0": {
      "model_module": "jupyter-js-widgets",
      "model_module_version": "*",
      "model_name": "ButtonModel",
      "state": {
       "description": "elit,",
       "layout": "IPY_MODEL_1f8803b5dd664120bf0acfa5a98b39b3"
      }
     },
     "8197b5c326ea4586ad85f96c44869dcc": {
      "model_module": "jupyter-js-widgets",
      "model_module_version": "*",
      "model_name": "LayoutModel",
      "state": {}
     },
     "828aaf87b224461088086ab078c49ece": {
      "model_module": "jupyter-js-widgets",
      "model_module_version": "*",
      "model_name": "ButtonModel",
      "state": {
       "button_style": "warning",
       "layout": "IPY_MODEL_8d80737fd20f43309be33b6697a88663"
      }
     },
     "8432e7a7f6224155b67d881c04f908ab": {
      "model_module": "jupyter-js-widgets",
      "model_module_version": "*",
      "model_name": "LayoutModel",
      "state": {}
     },
     "8719692a89fe463998c4d75007e4c963": {
      "model_module": "jupyter-js-widgets",
      "model_module_version": "*",
      "model_name": "LabelModel",
      "state": {
       "layout": "IPY_MODEL_73c7b03225c54f9ca5e19f65974afd9a",
       "value": "Ship size"
      }
     },
     "882590719fc1493ba507548d991cbc00": {
      "model_module": "jupyter-js-widgets",
      "model_module_version": "*",
      "model_name": "ButtonModel",
      "state": {
       "description": "(50% width, 80px height) button",
       "layout": "IPY_MODEL_07bebf3c69a149d1947253bdd2721eb2"
      }
     },
     "8d80737fd20f43309be33b6697a88663": {
      "model_module": "jupyter-js-widgets",
      "model_module_version": "*",
      "model_name": "LayoutModel",
      "state": {
       "height": "100px",
       "min_width": "40px"
      }
     },
     "956f512f684e4c41b64e016f78f8a10e": {
      "model_module": "jupyter-js-widgets",
      "model_module_version": "*",
      "model_name": "LayoutModel",
      "state": {}
     },
     "96bfdaff02334320a654efbb52633e58": {
      "model_module": "jupyter-js-widgets",
      "model_module_version": "*",
      "model_name": "LayoutModel",
      "state": {}
     },
     "98971dbffa16493c8ce22e2f8b288b1d": {
      "model_module": "jupyter-js-widgets",
      "model_module_version": "*",
      "model_name": "ButtonModel",
      "state": {
       "button_style": "warning",
       "layout": "IPY_MODEL_8d80737fd20f43309be33b6697a88663"
      }
     },
     "a1d48756bb6d41e0aa4a86991e03e681": {
      "model_module": "jupyter-js-widgets",
      "model_module_version": "*",
      "model_name": "TextareaModel",
      "state": {
       "layout": "IPY_MODEL_b977a36999c34405bfc7bcb45eb9c0e2"
      }
     },
     "a214d161b32d42c7bf92d1633b60bc04": {
      "model_module": "jupyter-js-widgets",
      "model_module_version": "*",
      "model_name": "ButtonModel",
      "state": {
       "button_style": "warning",
       "layout": "IPY_MODEL_8d80737fd20f43309be33b6697a88663"
      }
     },
     "a42749b1f1dd4538937cd69b230a9621": {
      "model_module": "jupyter-js-widgets",
      "model_module_version": "*",
      "model_name": "ButtonModel",
      "state": {
       "description": "adipiscing",
       "layout": "IPY_MODEL_8432e7a7f6224155b67d881c04f908ab"
      }
     },
     "a4b73a8ffee5489c954167653a5acc65": {
      "model_module": "jupyter-js-widgets",
      "model_module_version": "*",
      "model_name": "LayoutModel",
      "state": {
       "align_items": "stretch",
       "border": "solid",
       "display": "flex",
       "flex_flow": "row",
       "width": "50%"
      }
     },
     "a56b4d92b95445738f7017d7ee81e501": {
      "model_module": "jupyter-js-widgets",
      "model_module_version": "*",
      "model_name": "HBoxModel",
      "state": {
       "children": [
        "IPY_MODEL_eed4c18846114c95bb2a3f6068e43bf3",
        "IPY_MODEL_b9b124603f8142df8c885d9f3e376a58"
       ],
       "layout": "IPY_MODEL_5434d55aae804a8f95f91ad3a1d393a9"
      }
     },
     "a7be0145997f46f9a47525c140fe6f9c": {
      "model_module": "jupyter-js-widgets",
      "model_module_version": "*",
      "model_name": "LayoutModel",
      "state": {}
     },
     "a9cb9c319db14603a4e05a8b516144a0": {
      "model_module": "jupyter-js-widgets",
      "model_module_version": "*",
      "model_name": "ButtonModel",
      "state": {
       "description": "magna",
       "layout": "IPY_MODEL_037c77f8546f4f26b643ff5cdebee621"
      }
     },
     "a9e5460ec35544e492581649c3aca7fe": {
      "model_module": "jupyter-js-widgets",
      "model_module_version": "*",
      "model_name": "ButtonModel",
      "state": {
       "description": "amet,",
       "layout": "IPY_MODEL_6ac69c9c8df047d4940a6856b96b302d"
      }
     },
     "ac75154c020043cfba0e753c9b987d24": {
      "model_module": "jupyter-js-widgets",
      "model_module_version": "*",
      "model_name": "BoxModel",
      "state": {
       "children": [
        "IPY_MODEL_285e909d591a4a698cca0051561c39f0",
        "IPY_MODEL_f150b91f4e6d4fb4ba5f877419dc6012"
       ],
       "layout": "IPY_MODEL_f09588e2a8af44b19a14e80b8d6622f9"
      }
     },
     "ae3b2c79337646b1ba42eb14d35023f2": {
      "model_module": "jupyter-js-widgets",
      "model_module_version": "*",
      "model_name": "ButtonModel",
      "state": {
       "button_style": "warning",
       "layout": "IPY_MODEL_8d80737fd20f43309be33b6697a88663"
      }
     },
     "b32f0f489126476f998e76ac7fb4cd76": {
      "model_module": "jupyter-js-widgets",
      "model_module_version": "*",
      "model_name": "ButtonModel",
      "state": {
       "button_style": "danger",
       "description": "ipsum",
       "layout": "IPY_MODEL_ca6f0d50969d40bd9bfd544de9e71114"
      }
     },
     "b4a02886ee424793b751856795b69a4a": {
      "model_module": "jupyter-js-widgets",
      "model_module_version": "*",
      "model_name": "VBoxModel",
      "state": {
       "children": [
        "IPY_MODEL_3a70dcf7d217407c9ca01e0478e0a8c9",
        "IPY_MODEL_bca878240ec74dd0988bbc5ef84e9b11"
       ],
       "layout": "IPY_MODEL_c0e45c43d1a04a9b9d6e09084550156d"
      }
     },
     "b5e51af0a49341d5b150761cd210cc94": {
      "model_module": "jupyter-js-widgets",
      "model_module_version": "*",
      "model_name": "ButtonModel",
      "state": {
       "button_style": "warning",
       "layout": "IPY_MODEL_8d80737fd20f43309be33b6697a88663"
      }
     },
     "b608f711d555432787c2326ed184d429": {
      "model_module": "jupyter-js-widgets",
      "model_module_version": "*",
      "model_name": "LayoutModel",
      "state": {}
     },
     "b6ab75c067ef48d891f6a44f536394a6": {
      "model_module": "jupyter-js-widgets",
      "model_module_version": "*",
      "model_name": "LayoutModel",
      "state": {}
     },
     "b7f6b0592a2c4c4d8c1633301859a2e5": {
      "model_module": "jupyter-js-widgets",
      "model_module_version": "*",
      "model_name": "ButtonModel",
      "state": {
       "button_style": "warning",
       "layout": "IPY_MODEL_8d80737fd20f43309be33b6697a88663"
      }
     },
     "b9692b7f675f4e13bd78f4cbdb7cdcf8": {
      "model_module": "jupyter-js-widgets",
      "model_module_version": "*",
      "model_name": "ButtonModel",
      "state": {
       "description": "incididunt",
       "layout": "IPY_MODEL_fb54ec38671e4fe6b8d7f914dad639ba"
      }
     },
     "b977a36999c34405bfc7bcb45eb9c0e2": {
      "model_module": "jupyter-js-widgets",
      "model_module_version": "*",
      "model_name": "LayoutModel",
      "state": {}
     },
     "b9b124603f8142df8c885d9f3e376a58": {
      "model_module": "jupyter-js-widgets",
      "model_module_version": "*",
      "model_name": "IntSliderModel",
      "state": {
       "layout": "IPY_MODEL_4a76a0bd38c24a048b03521f710f4c08"
      }
     },
     "bca878240ec74dd0988bbc5ef84e9b11": {
      "model_module": "jupyter-js-widgets",
      "model_module_version": "*",
      "model_name": "ButtonModel",
      "state": {
       "description": "sit",
       "layout": "IPY_MODEL_754ea15e06224f5fb4791cd54dd9addf"
      }
     },
     "be74a302b9ed4865b6411d49bf0fa6d6": {
      "model_module": "jupyter-js-widgets",
      "model_module_version": "*",
      "model_name": "LayoutModel",
      "state": {
       "flex": "1 1 auto",
       "width": "auto"
      }
     },
     "bece7dace08c4536b22ae83c5e646725": {
      "model_module": "jupyter-js-widgets",
      "model_module_version": "*",
      "model_name": "HBoxModel",
      "state": {
       "children": [
        "IPY_MODEL_0af4be8d13f04b1c9643fb9f8fee938e",
        "IPY_MODEL_b4a02886ee424793b751856795b69a4a"
       ],
       "layout": "IPY_MODEL_3b4a0b91399a478b967293fc4b7912fd"
      }
     },
     "bf6bc2804fe34b1b8e74ceaf3b210a0e": {
      "model_module": "jupyter-js-widgets",
      "model_module_version": "*",
      "model_name": "ButtonModel",
      "state": {
       "description": "Lorem",
       "layout": "IPY_MODEL_b6ab75c067ef48d891f6a44f536394a6"
      }
     },
     "bf7e4226533948fe85251dd9b5b7ae95": {
      "model_module": "jupyter-js-widgets",
      "model_module_version": "*",
      "model_name": "LayoutModel",
      "state": {}
     },
     "c061b73a1cbb45ccbc8dc466e99adea4": {
      "model_module": "jupyter-js-widgets",
      "model_module_version": "*",
      "model_name": "LayoutModel",
      "state": {}
     },
     "c0e45c43d1a04a9b9d6e09084550156d": {
      "model_module": "jupyter-js-widgets",
      "model_module_version": "*",
      "model_name": "LayoutModel",
      "state": {}
     },
     "c35d339522534b8a85dcb5e682074f1f": {
      "model_module": "jupyter-js-widgets",
      "model_module_version": "*",
      "model_name": "ButtonModel",
      "state": {
       "button_style": "danger",
       "description": "Danger Button",
       "layout": "IPY_MODEL_10ddc33c898949bfa36a780266199419"
      }
     },
     "c4d7a962f90c45db93600324dbfb03fc": {
      "model_module": "jupyter-js-widgets",
      "model_module_version": "*",
      "model_name": "ButtonModel",
      "state": {
       "button_style": "warning",
       "layout": "IPY_MODEL_8d80737fd20f43309be33b6697a88663"
      }
     },
     "c6a7e59e9b124a30b3a6bcbf0ddfba5f": {
      "model_module": "jupyter-js-widgets",
      "model_module_version": "*",
      "model_name": "LabelModel",
      "state": {
       "layout": "IPY_MODEL_c061b73a1cbb45ccbc8dc466e99adea4",
       "value": "$e=mc^2$"
      }
     },
     "c86b40b7fda347228838eb9194cafa90": {
      "model_module": "jupyter-js-widgets",
      "model_module_version": "*",
      "model_name": "BoxModel",
      "state": {
       "children": [
        "IPY_MODEL_cd34cec29ef34dc0af937e9827976494",
        "IPY_MODEL_b32f0f489126476f998e76ac7fb4cd76",
        "IPY_MODEL_57b8978dd150492c83dab7c1a0793c6c",
        "IPY_MODEL_f480f46c073243189727b70fb58889bc"
       ],
       "layout": "IPY_MODEL_30f70b136f0c4eac903fc8f793e97ff3"
      }
     },
     "ca138f2c1bde4e008b06b70e7d8b400c": {
      "model_module": "jupyter-js-widgets",
      "model_module_version": "*",
      "model_name": "LayoutModel",
      "state": {}
     },
     "ca6f0d50969d40bd9bfd544de9e71114": {
      "model_module": "jupyter-js-widgets",
      "model_module_version": "*",
      "model_name": "LayoutModel",
      "state": {
       "flex": "1 1 auto",
       "width": "auto"
      }
     },
     "ca70430be6bb406cb9ec4bdc520cdab2": {
      "model_module": "jupyter-js-widgets",
      "model_module_version": "*",
      "model_name": "BoxModel",
      "state": {
       "children": [
        "IPY_MODEL_fcefd7b6cebd4894b39602fc492edf8f",
        "IPY_MODEL_76f627ea7c68427caa6ddbf4f85fea2b",
        "IPY_MODEL_10892abdb6d24e0fa36cbed7244f1406"
       ],
       "layout": "IPY_MODEL_a4b73a8ffee5489c954167653a5acc65"
      }
     },
     "caf8ec5f46f74ca4ae7e62cc2af94966": {
      "model_module": "jupyter-js-widgets",
      "model_module_version": "*",
      "model_name": "ButtonModel",
      "state": {
       "button_style": "warning",
       "layout": "IPY_MODEL_8d80737fd20f43309be33b6697a88663"
      }
     },
     "cb4874ea0d1f460c8dcf9a22d005860b": {
      "model_module": "jupyter-js-widgets",
      "model_module_version": "*",
      "model_name": "ButtonModel",
      "state": {
       "description": "aliqua.",
       "layout": "IPY_MODEL_47c75ba3e6404eb6b0c001573ebe3ad8"
      }
     },
     "cb6559ef3d994765af9389c8facaf2b8": {
      "model_module": "jupyter-js-widgets",
      "model_module_version": "*",
      "model_name": "LayoutModel",
      "state": {}
     },
     "cb9bf365df334673b9128ada691467c1": {
      "model_module": "jupyter-js-widgets",
      "model_module_version": "*",
      "model_name": "ButtonModel",
      "state": {
       "button_style": "warning",
       "layout": "IPY_MODEL_8d80737fd20f43309be33b6697a88663"
      }
     },
     "cbb94659438047c2bf46532c59d590ae": {
      "model_module": "jupyter-js-widgets",
      "model_module_version": "*",
      "model_name": "ButtonModel",
      "state": {
       "description": "tempor",
       "layout": "IPY_MODEL_75965964507242a5b4ac1ea12ba161da"
      }
     },
     "cc89f6f92c1b469a82f2c2b5aec9787e": {
      "model_module": "jupyter-js-widgets",
      "model_module_version": "*",
      "model_name": "BoxModel",
      "state": {
       "children": [
        "IPY_MODEL_ac75154c020043cfba0e753c9b987d24",
        "IPY_MODEL_50ff8ba0818e4e7995243c4b57d17292",
        "IPY_MODEL_57faf83c3619456aad79577cc60f7f19",
        "IPY_MODEL_6746ab43f7694e5f90bc22bdb4eb2604"
       ],
       "layout": "IPY_MODEL_5ed2052d021d4d1694edc06b7545d394"
      }
     },
     "cd34cec29ef34dc0af937e9827976494": {
      "model_module": "jupyter-js-widgets",
      "model_module_version": "*",
      "model_name": "ButtonModel",
      "state": {
       "button_style": "danger",
       "description": "Lorem",
       "layout": "IPY_MODEL_ca6f0d50969d40bd9bfd544de9e71114"
      }
     },
     "d04d733050f544c0b15382292063510c": {
      "model_module": "jupyter-js-widgets",
      "model_module_version": "*",
      "model_name": "ButtonModel",
      "state": {
       "button_style": "warning",
       "layout": "IPY_MODEL_8d80737fd20f43309be33b6697a88663"
      }
     },
     "d36c70fc8fb644b681828f3b8a0465bb": {
      "model_module": "jupyter-js-widgets",
      "model_module_version": "*",
      "model_name": "ButtonModel",
      "state": {
       "description": "dolore",
       "layout": "IPY_MODEL_fbe4955eee47478386978d0b7aa7b5e4"
      }
     },
     "d40789c6b8a14a298b62ffceb82ff324": {
      "model_module": "jupyter-js-widgets",
      "model_module_version": "*",
      "model_name": "ButtonModel",
      "state": {
       "button_style": "warning",
       "layout": "IPY_MODEL_8d80737fd20f43309be33b6697a88663"
      }
     },
     "d57e634cdc224c09ad532e970bdb09f7": {
      "model_module": "jupyter-js-widgets",
      "model_module_version": "*",
      "model_name": "ButtonModel",
      "state": {
       "button_style": "warning",
       "layout": "IPY_MODEL_8d80737fd20f43309be33b6697a88663"
      }
     },
     "d98200342fc84b248d9841ca87e6f0aa": {
      "model_module": "jupyter-js-widgets",
      "model_module_version": "*",
      "model_name": "ButtonModel",
      "state": {
       "button_style": "warning",
       "layout": "IPY_MODEL_8d80737fd20f43309be33b6697a88663"
      }
     },
     "d9a0ca84329e4f44ada98515dd9c6e33": {
      "model_module": "jupyter-js-widgets",
      "model_module_version": "*",
      "model_name": "ButtonModel",
      "state": {
       "button_style": "warning",
       "layout": "IPY_MODEL_8d80737fd20f43309be33b6697a88663"
      }
     },
     "dc59d7d8c5424950b97356dc665ce233": {
      "model_module": "jupyter-js-widgets",
      "model_module_version": "*",
      "model_name": "ButtonModel",
      "state": {
       "description": "labore",
       "layout": "IPY_MODEL_0a072234b55e4126932feb3380270d23"
      }
     },
     "defc65db98794f78ad2fc53e9726a1d5": {
      "model_module": "jupyter-js-widgets",
      "model_module_version": "*",
      "model_name": "ButtonModel",
      "state": {
       "button_style": "warning",
       "layout": "IPY_MODEL_8d80737fd20f43309be33b6697a88663"
      }
     },
     "df8e118f2305471880eb2c446a8ee394": {
      "model_module": "jupyter-js-widgets",
      "model_module_version": "*",
      "model_name": "ButtonModel",
      "state": {
       "description": "et",
       "layout": "IPY_MODEL_0830f095220c489e912325aad98e28a1"
      }
     },
     "e20a3ae2fe8945bcba89ac628c354e1c": {
      "model_module": "jupyter-js-widgets",
      "model_module_version": "*",
      "model_name": "ButtonModel",
      "state": {
       "button_style": "warning",
       "layout": "IPY_MODEL_8d80737fd20f43309be33b6697a88663"
      }
     },
     "e7829f2ce4374ac19f1156d839ba580e": {
      "model_module": "jupyter-js-widgets",
      "model_module_version": "*",
      "model_name": "ButtonModel",
      "state": {
       "description": "eiusmod",
       "layout": "IPY_MODEL_96bfdaff02334320a654efbb52633e58"
      }
     },
     "ec02d31b89c646d3929f1ca9c0657ef9": {
      "model_module": "jupyter-js-widgets",
      "model_module_version": "*",
      "model_name": "ButtonModel",
      "state": {
       "description": "consectetur",
       "layout": "IPY_MODEL_ee3805c0fb4d44e691dfc1ff4d339b3d"
      }
     },
     "ec7b86cdbfe14a4abdf210b381256115": {
      "model_module": "jupyter-js-widgets",
      "model_module_version": "*",
      "model_name": "ButtonModel",
      "state": {
       "button_style": "warning",
       "layout": "IPY_MODEL_8d80737fd20f43309be33b6697a88663"
      }
     },
     "edb22658f19f4bcb80d14545ab1cb7d7": {
      "model_module": "jupyter-js-widgets",
      "model_module_version": "*",
      "model_name": "ButtonModel",
      "state": {
       "button_style": "warning",
       "layout": "IPY_MODEL_8d80737fd20f43309be33b6697a88663"
      }
     },
     "ee3805c0fb4d44e691dfc1ff4d339b3d": {
      "model_module": "jupyter-js-widgets",
      "model_module_version": "*",
      "model_name": "LayoutModel",
      "state": {}
     },
     "eed39287e26646f38b9aba33ca9c90d8": {
      "model_module": "jupyter-js-widgets",
      "model_module_version": "*",
      "model_name": "ButtonModel",
      "state": {
       "button_style": "warning",
       "layout": "IPY_MODEL_8d80737fd20f43309be33b6697a88663"
      }
     },
     "eed4c18846114c95bb2a3f6068e43bf3": {
      "model_module": "jupyter-js-widgets",
      "model_module_version": "*",
      "model_name": "LabelModel",
      "state": {
       "layout": "IPY_MODEL_6e08e3ed68944ea29b49a3740fab8369",
       "value": "A too long description"
      }
     },
     "f09588e2a8af44b19a14e80b8d6622f9": {
      "model_module": "jupyter-js-widgets",
      "model_module_version": "*",
      "model_name": "LayoutModel",
      "state": {
       "display": "flex",
       "flex_flow": "row",
       "justify_content": "space-between"
      }
     },
     "f150b91f4e6d4fb4ba5f877419dc6012": {
      "model_module": "jupyter-js-widgets",
      "model_module_version": "*",
      "model_name": "IntSliderModel",
      "state": {
       "layout": "IPY_MODEL_432bff19423b4405a242160131f8a13e",
       "max": 60,
       "min": 40,
       "value": 40
      }
     },
     "f275576bd9dc436295c74fb27e0295d1": {
      "model_module": "jupyter-js-widgets",
      "model_module_version": "*",
      "model_name": "LayoutModel",
      "state": {
       "border": "3px solid black",
       "display": "flex",
       "height": "",
       "overflow_x": "scroll",
       "width": "500px"
      }
     },
     "f38e82396022418a990b44ae854e7664": {
      "model_module": "jupyter-js-widgets",
      "model_module_version": "*",
      "model_name": "LabelModel",
      "state": {
       "layout": "IPY_MODEL_ca138f2c1bde4e008b06b70e7d8b400c",
       "value": "Information"
      }
     },
     "f480f46c073243189727b70fb58889bc": {
      "model_module": "jupyter-js-widgets",
      "model_module_version": "*",
      "model_name": "ButtonModel",
      "state": {
       "button_style": "danger",
       "description": "sit",
       "layout": "IPY_MODEL_ca6f0d50969d40bd9bfd544de9e71114"
      }
     },
     "f902ff086e2b4f34a3b977360a580220": {
      "model_module": "jupyter-js-widgets",
      "model_module_version": "*",
      "model_name": "ButtonModel",
      "state": {
       "button_style": "warning",
       "layout": "IPY_MODEL_8d80737fd20f43309be33b6697a88663"
      }
     },
     "faa2e5c419f0461ab31deed551342fee": {
      "model_module": "jupyter-js-widgets",
      "model_module_version": "*",
      "model_name": "ButtonModel",
      "state": {
       "button_style": "warning",
       "layout": "IPY_MODEL_8d80737fd20f43309be33b6697a88663"
      }
     },
     "fb54ec38671e4fe6b8d7f914dad639ba": {
      "model_module": "jupyter-js-widgets",
      "model_module_version": "*",
      "model_name": "LayoutModel",
      "state": {}
     },
     "fbe4955eee47478386978d0b7aa7b5e4": {
      "model_module": "jupyter-js-widgets",
      "model_module_version": "*",
      "model_name": "LayoutModel",
      "state": {}
     },
     "fbef837f34f940f5a55d5228a40597fd": {
      "model_module": "jupyter-js-widgets",
      "model_module_version": "*",
      "model_name": "HBoxModel",
      "state": {
       "children": [
        "IPY_MODEL_41837bbabbfb443e8c55500f1ef92b07",
        "IPY_MODEL_3379a076e93947f7974f55ec67ea2965",
        "IPY_MODEL_1a1fd5f8aadc4908bea04a529ac75556",
        "IPY_MODEL_eed39287e26646f38b9aba33ca9c90d8",
        "IPY_MODEL_63aea97afe2547e989128a959989c4de",
        "IPY_MODEL_f902ff086e2b4f34a3b977360a580220",
        "IPY_MODEL_c4d7a962f90c45db93600324dbfb03fc",
        "IPY_MODEL_d9a0ca84329e4f44ada98515dd9c6e33",
        "IPY_MODEL_d98200342fc84b248d9841ca87e6f0aa",
        "IPY_MODEL_4c9cd96110214b5092a12820a9ba149d",
        "IPY_MODEL_0df067c185d04e699a0be090a614ff1b",
        "IPY_MODEL_d04d733050f544c0b15382292063510c",
        "IPY_MODEL_5e712cd03c76458ebe6d33c866fd5558",
        "IPY_MODEL_ec7b86cdbfe14a4abdf210b381256115",
        "IPY_MODEL_a214d161b32d42c7bf92d1633b60bc04",
        "IPY_MODEL_cb9bf365df334673b9128ada691467c1",
        "IPY_MODEL_70407b5e82a947a89f800352692c5002",
        "IPY_MODEL_751dc613d3a143e2aff708be9cfca7a1",
        "IPY_MODEL_169360f272044b2abdb4618f19c8b23b",
        "IPY_MODEL_14870e7fe4884422bec7522513741be8",
        "IPY_MODEL_d40789c6b8a14a298b62ffceb82ff324",
        "IPY_MODEL_14d3ae1cee0048b59890e534954d87a3",
        "IPY_MODEL_d57e634cdc224c09ad532e970bdb09f7",
        "IPY_MODEL_24309dfbd4b64a03aa08ce0ae0669839",
        "IPY_MODEL_3a276ffe265248c1a06a84a788369171",
        "IPY_MODEL_6ec23d49403145ec932831dbdd11a12b",
        "IPY_MODEL_ae3b2c79337646b1ba42eb14d35023f2",
        "IPY_MODEL_b5e51af0a49341d5b150761cd210cc94",
        "IPY_MODEL_e20a3ae2fe8945bcba89ac628c354e1c",
        "IPY_MODEL_edb22658f19f4bcb80d14545ab1cb7d7",
        "IPY_MODEL_b7f6b0592a2c4c4d8c1633301859a2e5",
        "IPY_MODEL_caf8ec5f46f74ca4ae7e62cc2af94966",
        "IPY_MODEL_98971dbffa16493c8ce22e2f8b288b1d",
        "IPY_MODEL_535a353392824382b5f73ec7f5fad557",
        "IPY_MODEL_082670bc24a848f39bebfc0ef9b22f0e",
        "IPY_MODEL_1c7dca637bbd431480d3d2e5da978ddf",
        "IPY_MODEL_faa2e5c419f0461ab31deed551342fee",
        "IPY_MODEL_17e81c2ac6da413ba9a7cbc29893d983",
        "IPY_MODEL_defc65db98794f78ad2fc53e9726a1d5",
        "IPY_MODEL_828aaf87b224461088086ab078c49ece"
       ],
       "layout": "IPY_MODEL_f275576bd9dc436295c74fb27e0295d1"
      }
     },
     "fcefd7b6cebd4894b39602fc492edf8f": {
      "model_module": "jupyter-js-widgets",
      "model_module_version": "*",
      "model_name": "ButtonModel",
      "state": {
       "description": "weight=1",
       "layout": "IPY_MODEL_956f512f684e4c41b64e016f78f8a10e"
      }
     }
    },
    "version_major": 1,
    "version_minor": 0
   }
  }
 },
 "nbformat": 4,
 "nbformat_minor": 1
}
