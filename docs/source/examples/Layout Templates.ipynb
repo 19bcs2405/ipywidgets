{
 "cells": [
  {
   "cell_type": "markdown",
   "metadata": {},
   "source": [
    "# Using Layout Templates\n",
    "\n",
    "As we showed in [Layout and Styling of Jupyter widgets](Widget Styling.ipynb) multiple widgets can be aranged together using the flexible [GridBox](Widget Styling.ipynb#The-Grid-Layout) specification. However, use of the specification involves some understanding of CSS properties and may impose sharp learning curve. Here, we will describe layout templates built on top of `GridBox` that simplify creation of common widget layouts."
   ]
  },
  {
   "cell_type": "markdown",
   "metadata": {},
   "source": [
    "## 2x2 Grid"
   ]
  },
  {
   "cell_type": "markdown",
   "metadata": {},
   "source": [
    "You can easily create a layout with 4 widgets aranged on 2x2 matrix using the `TwoByTwoLayout` widget: "
   ]
  },
  {
   "cell_type": "code",
   "execution_count": 1,
   "metadata": {},
   "outputs": [
    {
     "data": {
      "application/vnd.jupyter.widget-view+json": {
       "model_id": "a3d8a643d606431eb6f1c57e757d1eca",
       "version_major": 2,
       "version_minor": 0
      },
      "text/plain": [
       "TwoByTwoLayout(children=(Button(description='Top left', layout=Layout(grid_area='top-left'), style=ButtonStyle…"
      ]
     },
     "metadata": {},
     "output_type": "display_data"
    }
   ],
   "source": [
    "from ipywidgets import TwoByTwoLayout, Button, Layout\n",
    "\n",
    "layout_2x2 = TwoByTwoLayout(top_left=Button(description=\"Top left\"),\n",
    "                            top_right=Button(description=\"Top right\"),\n",
    "                            bottom_left=Button(description=\"Bottom left\"),\n",
    "                            bottom_right=Button(description=\"Bottom right\"))\n",
    "layout_2x2"
   ]
  },
  {
   "cell_type": "code",
   "execution_count": null,
   "metadata": {},
   "outputs": [],
   "source": []
  }
 ],
 "metadata": {
  "kernelspec": {
   "display_name": "Python 3",
   "language": "python",
   "name": "python3"
  },
  "language_info": {
   "codemirror_mode": {
    "name": "ipython",
    "version": 3
   },
   "file_extension": ".py",
   "mimetype": "text/x-python",
   "name": "python",
   "nbconvert_exporter": "python",
   "pygments_lexer": "ipython3",
   "version": "3.7.2"
  },
  "widgets": {
   "application/vnd.jupyter.widget-state+json": {
    "state": {
     "05840c65a0814da1ad13dc4d390d1fe5": {
      "model_module": "@jupyter-widgets/base",
      "model_module_version": "1.1.0",
      "model_name": "LayoutModel",
      "state": {
       "grid_template_areas": "\"top-left top-right\"\n\"bottom-left bottom-right\"",
       "grid_template_columns": "1fr 1fr",
       "grid_template_rows": "1fr 1fr",
       "width": "auto"
      }
     },
     "36c84db401a74014bc6139a5ff48eb3e": {
      "model_module": "@jupyter-widgets/controls",
      "model_module_version": "1.4.0",
      "model_name": "ButtonStyleModel",
      "state": {}
     },
     "371ad0f411a74854bcaa112a48518fb4": {
      "model_module": "@jupyter-widgets/base",
      "model_module_version": "1.1.0",
      "model_name": "LayoutModel",
      "state": {
       "grid_area": "top-left"
      }
     },
     "3749d776b1ce4d85bdae6ccbcf69a97c": {
      "model_module": "@jupyter-widgets/base",
      "model_module_version": "1.1.0",
      "model_name": "LayoutModel",
      "state": {
       "grid_area": "bottom-right"
      }
     },
     "4553ec6cd2734bf29752f37ca549b309": {
      "model_module": "@jupyter-widgets/controls",
      "model_module_version": "1.4.0",
      "model_name": "ButtonModel",
      "state": {
       "description": "Bottom right",
       "layout": "IPY_MODEL_3749d776b1ce4d85bdae6ccbcf69a97c",
       "style": "IPY_MODEL_6e736fa108224cc092a062bfc5eb223d"
      }
     },
     "4b967c270cd74f668087a413f5f7834f": {
      "model_module": "@jupyter-widgets/controls",
      "model_module_version": "1.4.0",
      "model_name": "ButtonModel",
      "state": {
       "description": "Top right",
       "layout": "IPY_MODEL_72710c48c52046cdbcefe79aa03a8523",
       "style": "IPY_MODEL_914e79a85eb44da08bc2457d865880bf"
      }
     },
     "69739f1065c14b4c82f6454bdc27c770": {
      "model_module": "@jupyter-widgets/controls",
      "model_module_version": "1.4.0",
      "model_name": "ButtonModel",
      "state": {
       "description": "Top left",
       "layout": "IPY_MODEL_371ad0f411a74854bcaa112a48518fb4",
       "style": "IPY_MODEL_36c84db401a74014bc6139a5ff48eb3e"
      }
     },
     "6e736fa108224cc092a062bfc5eb223d": {
      "model_module": "@jupyter-widgets/controls",
      "model_module_version": "1.4.0",
      "model_name": "ButtonStyleModel",
      "state": {}
     },
     "72710c48c52046cdbcefe79aa03a8523": {
      "model_module": "@jupyter-widgets/base",
      "model_module_version": "1.1.0",
      "model_name": "LayoutModel",
      "state": {
       "grid_area": "top-right"
      }
     },
     "77e26fafd9614ae890e77eb926e2f662": {
      "model_module": "@jupyter-widgets/controls",
      "model_module_version": "1.4.0",
      "model_name": "ButtonModel",
      "state": {
       "description": "Bottom left",
       "layout": "IPY_MODEL_e1aeb4b94ddb435fbcd62bc46ba7dd3d",
       "style": "IPY_MODEL_9b1907e439664d959fdccfb85af23189"
      }
     },
     "9045c5c0c7684c91a704e6a4080c886d": {
      "model_module": "@jupyter-widgets/base",
      "model_module_version": "1.1.0",
      "model_name": "LayoutModel",
      "state": {
       "grid_template_areas": "\"top-left top-right\"\n\"bottom-left bottom-right\"",
       "grid_template_columns": "1fr 1fr",
       "grid_template_rows": "1fr 1fr",
       "width": "auto"
      }
     },
     "914e79a85eb44da08bc2457d865880bf": {
      "model_module": "@jupyter-widgets/controls",
      "model_module_version": "1.4.0",
      "model_name": "ButtonStyleModel",
      "state": {}
     },
     "9b1907e439664d959fdccfb85af23189": {
      "model_module": "@jupyter-widgets/controls",
      "model_module_version": "1.4.0",
      "model_name": "ButtonStyleModel",
      "state": {}
     },
     "a3d8a643d606431eb6f1c57e757d1eca": {
      "model_module": "@jupyter-widgets/controls",
      "model_module_version": "1.4.0",
      "model_name": "GridBoxModel",
      "state": {
       "children": [
        "IPY_MODEL_69739f1065c14b4c82f6454bdc27c770",
        "IPY_MODEL_4b967c270cd74f668087a413f5f7834f",
        "IPY_MODEL_77e26fafd9614ae890e77eb926e2f662",
        "IPY_MODEL_4553ec6cd2734bf29752f37ca549b309"
       ],
       "layout": "IPY_MODEL_05840c65a0814da1ad13dc4d390d1fe5"
      }
     },
     "e1aeb4b94ddb435fbcd62bc46ba7dd3d": {
      "model_module": "@jupyter-widgets/base",
      "model_module_version": "1.1.0",
      "model_name": "LayoutModel",
      "state": {
       "grid_area": "bottom-left"
      }
     },
     "f965642378b14bb8a589e9f0b9700932": {
      "model_module": "@jupyter-widgets/base",
      "model_module_version": "1.1.0",
      "model_name": "LayoutModel",
      "state": {
       "grid_template_areas": "\"top-left top-right\"\n\"bottom-left bottom-right\"",
       "grid_template_columns": "1fr 1fr",
       "grid_template_rows": "1fr 1fr",
       "width": "auto"
      }
     }
    },
    "version_major": 2,
    "version_minor": 0
   }
  }
 },
 "nbformat": 4,
 "nbformat_minor": 2
}
