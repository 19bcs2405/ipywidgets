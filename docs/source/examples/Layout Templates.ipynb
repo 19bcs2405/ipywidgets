{
 "cells": [
  {
   "cell_type": "markdown",
   "metadata": {},
   "source": [
    "# Using Layout Templates\n",
    "\n",
    "As we showed in [Layout and Styling of Jupyter widgets](Widget Styling.ipynb) multiple widgets can be aranged together using the flexible [GridBox](Widget Styling.ipynb#The-Grid-Layout) specification. However, use of the specification involves some understanding of CSS properties and may impose sharp learning curve. Here, we will describe layout templates built on top of `GridBox` that simplify creation of common widget layouts."
   ]
  },
  {
   "cell_type": "markdown",
   "metadata": {},
   "source": [
    "## 2x2 Grid"
   ]
  },
  {
   "cell_type": "markdown",
   "metadata": {},
   "source": [
    "You can easily create a layout with 4 widgets aranged on 2x2 matrix using the `TwoByTwoLayout` widget: "
   ]
  },
  {
   "cell_type": "code",
   "execution_count": 1,
   "metadata": {},
   "outputs": [
    {
     "data": {
      "application/vnd.jupyter.widget-view+json": {
       "model_id": "6556609f7f6b4264b818fcb870a63642",
       "version_major": 2,
       "version_minor": 0
      },
      "text/plain": [
       "TwoByTwoLayout(children=(Button(description='Top left', layout=Layout(grid_area='top-left'), style=ButtonStyle…"
      ]
     },
     "metadata": {},
     "output_type": "display_data"
    }
   ],
   "source": [
    "from ipywidgets import TwoByTwoLayout, Button, Layout\n",
    "\n",
    "\n",
    "TwoByTwoLayout(top_left=Button(description=\"Top left\"),\n",
    "               top_right=Button(description=\"Top right\"),\n",
    "               bottom_left=Button(description=\"Bottom left\"),\n",
    "               bottom_right=Button(description=\"Bottom right\"))"
   ]
  },
  {
   "cell_type": "markdown",
   "metadata": {},
   "source": [
    "If you don't define a widget for some of the slots, the layout will automatically re-configure itself by merging neighbouring cells (to avoid it, you can pass `merge=False` in the argument)."
   ]
  },
  {
   "cell_type": "code",
   "execution_count": 2,
   "metadata": {},
   "outputs": [
    {
     "data": {
      "application/vnd.jupyter.widget-view+json": {
       "model_id": "4f3ce086094a4410b1f048875aee1d1d",
       "version_major": 2,
       "version_minor": 0
      },
      "text/plain": [
       "TwoByTwoLayout(children=(Button(description='Top left', layout=Layout(grid_area='top-left'), style=ButtonStyle…"
      ]
     },
     "metadata": {},
     "output_type": "display_data"
    }
   ],
   "source": [
    "TwoByTwoLayout(top_left=Button(description=\"Top left\"),\n",
    "               bottom_left=Button(description=\"Bottom left\"),\n",
    "               bottom_right=Button(description=\"Bottom right\",\n",
    "                                   layout=Layout(height='100%'))\n",
    "              )"
   ]
  },
  {
   "cell_type": "code",
   "execution_count": 3,
   "metadata": {},
   "outputs": [
    {
     "data": {
      "application/vnd.jupyter.widget-view+json": {
       "model_id": "1747fcfe65054196b7faebced5f680b3",
       "version_major": 2,
       "version_minor": 0
      },
      "text/plain": [
       "TwoByTwoLayout(children=(Button(description='Top left', layout=Layout(grid_area='top-left'), style=ButtonStyle…"
      ]
     },
     "metadata": {},
     "output_type": "display_data"
    }
   ],
   "source": [
    "TwoByTwoLayout(top_left=Button(description=\"Top left\"),\n",
    "               bottom_left=Button(description=\"Bottom left\"),\n",
    "               bottom_right=Button(description=\"Bottom right\",\n",
    "                                   layout=Layout(height='100%')),\n",
    "               merge=False\n",
    "              )"
   ]
  },
  {
   "cell_type": "markdown",
   "metadata": {},
   "source": [
    "You can add a missing widget even after the layout initialization:"
   ]
  },
  {
   "cell_type": "code",
   "execution_count": 4,
   "metadata": {},
   "outputs": [
    {
     "data": {
      "application/vnd.jupyter.widget-view+json": {
       "model_id": "006b1de68d1547d8b6b7c47822e00993",
       "version_major": 2,
       "version_minor": 0
      },
      "text/plain": [
       "TwoByTwoLayout(children=(Button(description='Top left', layout=Layout(grid_area='top-left'), style=ButtonStyle…"
      ]
     },
     "metadata": {},
     "output_type": "display_data"
    }
   ],
   "source": [
    "layout_2x2 = TwoByTwoLayout(top_left=Button(description=\"Top left\"),\n",
    "                            bottom_left=Button(description=\"Bottom left\"),\n",
    "                            bottom_right=Button(description=\"Bottom right\"))\n",
    "                            \n",
    "layout_2x2.top_right = Button(description=\"Top right\")\n",
    "display(layout_2x2)"
   ]
  },
  {
   "cell_type": "markdown",
   "metadata": {},
   "source": [
    "You can also use the [linking feature](Widget Events.ipynb#Linking-Widgets) of widgets to update some property of a widget based on another widget:"
   ]
  },
  {
   "cell_type": "code",
   "execution_count": 5,
   "metadata": {},
   "outputs": [
    {
     "data": {
      "application/vnd.jupyter.widget-view+json": {
       "model_id": "d9f6faeef26a44019a8372c963af2259",
       "version_major": 2,
       "version_minor": 0
      },
      "text/plain": [
       "TwoByTwoLayout(children=(IntText(value=25, layout=Layout(grid_area='top-left')), IntText(value=0, layout=Layou…"
      ]
     },
     "metadata": {},
     "output_type": "display_data"
    }
   ],
   "source": [
    "from ipywidgets import jslink, IntText, IntSlider\n",
    "\n",
    "app = TwoByTwoLayout(top_left=IntText(), top_right=IntText(),\n",
    "                     bottom_left=IntSlider(), bottom_right=IntSlider())\n",
    "                     \n",
    "link_left = jslink((app.top_left, 'value'), (app.bottom_left, 'value'))\n",
    "link_right = jslink((app.top_right, 'value'), (app.bottom_right, 'value'))\n",
    "app.bottom_right.value = 30\n",
    "app.top_left.value = 25\n",
    "display(app)"
   ]
  },
  {
   "cell_type": "markdown",
   "metadata": {},
   "source": [
    "You can easily create more complex layouts with custom widgets. For example, you can use [bqplot](http://github.com/bloomberg/bqplot) Figure widget to add plots:"
   ]
  },
  {
   "cell_type": "code",
   "execution_count": 6,
   "metadata": {},
   "outputs": [],
   "source": [
    "import bqplot as bq\n",
    "import numpy as np"
   ]
  },
  {
   "cell_type": "code",
   "execution_count": 7,
   "metadata": {},
   "outputs": [],
   "source": [
    "size = 100\n",
    "np.random.seed(0)\n",
    "\n",
    "x_data = range(size)\n",
    "y_data = np.random.randn(size)\n",
    "y_data_2 = np.random.randn(size)\n",
    "y_data_3 = np.cumsum(np.random.randn(size) * 100.)\n",
    "\n",
    "x_ord = bq.OrdinalScale()\n",
    "y_sc = bq.LinearScale()\n",
    "\n",
    "bar = bq.Bars(x=np.arange(10), y=np.random.rand(10), scales={'x': x_ord, 'y': y_sc})\n",
    "ax_x = bq.Axis(scale=x_ord)\n",
    "ax_y = bq.Axis(scale=y_sc, tick_format='0.2f', orientation='vertical')\n",
    "\n",
    "fig = bq.Figure(marks=[bar], axes=[ax_x, ax_y], padding_x=0.025, padding_y=0.025,\n",
    "                layout=Layout(width='auto', height='100%'))"
   ]
  },
  {
   "cell_type": "code",
   "execution_count": 8,
   "metadata": {
    "scrolled": true
   },
   "outputs": [
    {
     "data": {
      "application/vnd.jupyter.widget-view+json": {
       "model_id": "2379733bd349453096d5a365265857d0",
       "version_major": 2,
       "version_minor": 0
      },
      "text/plain": [
       "TwoByTwoLayout(children=(FloatSlider(value=0.0, description='Min: ', layout=Layout(grid_area='top-left', heigh…"
      ]
     },
     "metadata": {},
     "output_type": "display_data"
    }
   ],
   "source": [
    "from ipywidgets import FloatSlider\n",
    "\n",
    "max_slider = FloatSlider(min=1, max=10, description=\"Max: \",\n",
    "                         layout=Layout(width='300px', height='20px'))\n",
    "min_slider = FloatSlider(min=0, max=10, description=\"Min: \",\n",
    "                         layout=Layout(width='300px', height='20px'))\n",
    "app = TwoByTwoLayout(top_left=min_slider,\n",
    "                     bottom_left=max_slider, \n",
    "                     bottom_right=fig,\n",
    "                     align_items=\"center\",\n",
    "                     width='80%', height='300px')\n",
    "jslink((y_sc, 'max'), (max_slider, 'value'))\n",
    "jslink((y_sc, 'min'), (min_slider, 'value'))\n",
    "jslink((min_slider, 'max'), (max_slider, 'value'))\n",
    "jslink((max_slider, 'min'), (min_slider, 'value'))\n",
    "\n",
    "display(app)"
   ]
  },
  {
   "cell_type": "code",
   "execution_count": null,
   "metadata": {},
   "outputs": [],
   "source": []
  }
 ],
 "metadata": {
  "kernelspec": {
   "display_name": "Python 3",
   "language": "python",
   "name": "python3"
  },
  "language_info": {
   "codemirror_mode": {
    "name": "ipython",
    "version": 3
   },
   "file_extension": ".py",
   "mimetype": "text/x-python",
   "name": "python",
   "nbconvert_exporter": "python",
   "pygments_lexer": "ipython3",
   "version": "3.7.2"
  },
  "widgets": {
   "application/vnd.jupyter.widget-state+json": {
    "state": {
     "0006cb34011347109bf509ca191924a6": {
      "model_module": "@jupyter-widgets/controls",
      "model_module_version": "1.4.0",
      "model_name": "SliderStyleModel",
      "state": {
       "description_width": ""
      }
     },
     "00406bba01c74662986b7df5b03b8833": {
      "model_module": "@jupyter-widgets/base",
      "model_module_version": "1.1.0",
      "model_name": "LayoutModel",
      "state": {
       "grid_template_areas": "\"top-left top-right\"\n\"bottom-left bottom-right\"",
       "grid_template_columns": "1fr 1fr",
       "grid_template_rows": "1fr 1fr",
       "width": "auto"
      }
     },
     "0063579002fb475dbf5b4f60e90152f8": {
      "model_module": "@jupyter-widgets/controls",
      "model_module_version": "1.4.0",
      "model_name": "GridBoxModel",
      "state": {
       "children": [
        "IPY_MODEL_04b566d880ba4944b1e0a1a657d79af6",
        "IPY_MODEL_6347865d26a94695bdb75bdce53fe21d",
        "IPY_MODEL_d2e0b87762ae4b9a88a3ff8ba3d85b78"
       ],
       "layout": "IPY_MODEL_dabc5212f3f7426da3ffdf6e21f6fda7"
      }
     },
     "006b1de68d1547d8b6b7c47822e00993": {
      "model_module": "@jupyter-widgets/controls",
      "model_module_version": "1.4.0",
      "model_name": "GridBoxModel",
      "state": {
       "children": [
        "IPY_MODEL_7be6e8a5f64a4d94bad80e0156c78336",
        "IPY_MODEL_1b37e43bec7c4c319d02a5688a4a6606",
        "IPY_MODEL_b9bf67d973074f358f2be00e7a5a8ed3",
        "IPY_MODEL_26cffaf9470f410b876eff0567117a03"
       ],
       "layout": "IPY_MODEL_60229449f4764371a1d9439318ec8fec"
      }
     },
     "00ca129c96574ed4932769a490bd2f5e": {
      "model_module": "@jupyter-widgets/controls",
      "model_module_version": "1.4.0",
      "model_name": "DescriptionStyleModel",
      "state": {
       "description_width": ""
      }
     },
     "00d7200155a8453c88ef290da5459106": {
      "model_module": "@jupyter-widgets/base",
      "model_module_version": "1.1.0",
      "model_name": "LayoutModel",
      "state": {
       "grid_area": "bottom-right"
      }
     },
     "00da8b9c6c5a4a15b7302f496b93b2fa": {
      "model_module": "@jupyter-widgets/controls",
      "model_module_version": "1.4.0",
      "model_name": "SliderStyleModel",
      "state": {
       "description_width": ""
      }
     },
     "0112e45d98154e748a5a32b07aa5c1a8": {
      "model_module": "@jupyter-widgets/controls",
      "model_module_version": "1.4.0",
      "model_name": "SliderStyleModel",
      "state": {
       "description_width": ""
      }
     },
     "0129861711c2423b8ecf3f36d53caeca": {
      "model_module": "@jupyter-widgets/base",
      "model_module_version": "1.1.0",
      "model_name": "LayoutModel",
      "state": {
       "grid_template_areas": "\"top-left bottom-right\"\n\"bottom-left bottom-right\"",
       "grid_template_columns": "1fr 1fr",
       "grid_template_rows": "1fr 1fr",
       "width": "auto"
      }
     },
     "013bc7698dad4c6ba210ed81b6ef0eb9": {
      "model_module": "@jupyter-widgets/controls",
      "model_module_version": "1.4.0",
      "model_name": "IntTextModel",
      "state": {
       "layout": "IPY_MODEL_273a1638803a4c1ba8763ec5bff1a7cb",
       "step": 1,
       "style": "IPY_MODEL_a06c63a2596c43d985532533868e62fa",
       "value": 25
      }
     },
     "014a7256e2dd4a14b5e8e4eede13aa8b": {
      "model_module": "@jupyter-widgets/base",
      "model_module_version": "1.1.0",
      "model_name": "LayoutModel",
      "state": {
       "grid_area": "bottom-right"
      }
     },
     "0156df48120f4c5f83240090687e7e26": {
      "model_module": "@jupyter-widgets/controls",
      "model_module_version": "1.4.0",
      "model_name": "ButtonModel",
      "state": {
       "description": "Top left",
       "layout": "IPY_MODEL_d06a8eec823848f188f4ffb90db53e1b",
       "style": "IPY_MODEL_fe4a2dab75634d6fa1af55d0349b3c11"
      }
     },
     "01bc8f457c2e4d87a5b6cc498c46ca4a": {
      "model_module": "@jupyter-widgets/controls",
      "model_module_version": "1.4.0",
      "model_name": "ButtonStyleModel",
      "state": {}
     },
     "01bf147eb1004d65b0b83f14252ba339": {
      "model_module": "bqplot",
      "model_module_version": "^0.4.5",
      "model_name": "LinearScaleModel",
      "state": {
       "allow_padding": false,
       "max": 1,
       "min": 0,
       "stabilized": false
      }
     },
     "01f2d29971714889806233e348738f8f": {
      "model_module": "@jupyter-widgets/base",
      "model_module_version": "1.1.0",
      "model_name": "LayoutModel",
      "state": {
       "grid_area": "bottom-right",
       "height": "100%"
      }
     },
     "020b2b2bf46949248fb08c0c7e3afdc1": {
      "model_module": "@jupyter-widgets/base",
      "model_module_version": "1.1.0",
      "model_name": "LayoutModel",
      "state": {
       "grid_template_areas": "\"top-left bottom-right\"\n\"bottom-left bottom-right\"",
       "grid_template_columns": "1fr 1fr",
       "grid_template_rows": "1fr 1fr",
       "width": "auto"
      }
     },
     "020e9fbb1fa84f699bedcbafa9ec9df1": {
      "model_module": "@jupyter-widgets/controls",
      "model_module_version": "1.4.0",
      "model_name": "GridBoxModel",
      "state": {
       "children": [
        "IPY_MODEL_1fa02d4ffd0540ed9198a9d23f4daf4c",
        "IPY_MODEL_aceec794a44943a0ac63e64ed56b6774",
        "IPY_MODEL_978359687c6e4076a138af1df152e617"
       ],
       "layout": "IPY_MODEL_8dcc7d7e550644e992586159d9d31bb0"
      }
     },
     "020ee7c243884dc78e62b0dc3063ae3c": {
      "model_module": "@jupyter-widgets/base",
      "model_module_version": "1.1.0",
      "model_name": "LayoutModel",
      "state": {
       "grid_template_areas": "\"top-left top-right\"\n\"bottom-left bottom-right\"",
       "grid_template_columns": "1fr 1fr",
       "grid_template_rows": "1fr 1fr"
      }
     },
     "021f9249af1d45fbbbd600399907b3f9": {
      "model_module": "@jupyter-widgets/controls",
      "model_module_version": "1.4.0",
      "model_name": "SliderStyleModel",
      "state": {
       "description_width": ""
      }
     },
     "0245117ded0f420da047b3c026db715b": {
      "model_module": "@jupyter-widgets/controls",
      "model_module_version": "1.4.0",
      "model_name": "LinkModel",
      "state": {
       "source": [
        "IPY_MODEL_44c34e01f68b416fb123198deb3aa9d0",
        "min"
       ],
       "target": [
        "IPY_MODEL_e8098df1e7b346d69c4000bd1c33b7b8",
        "value"
       ]
      }
     },
     "024cb179fb7f4237b1f2101177ce66b0": {
      "model_module": "@jupyter-widgets/base",
      "model_module_version": "1.1.0",
      "model_name": "LayoutModel",
      "state": {
       "align_items": "center",
       "grid_template_areas": "\"top-left bottom-right\"\n\"bottom-left bottom-right\"",
       "grid_template_columns": "1fr 1fr",
       "grid_template_rows": "1fr 1fr",
       "height": "500px",
       "width": "80%"
      }
     },
     "02789c5910004bd09af4f8a615a5892b": {
      "model_module": "@jupyter-widgets/controls",
      "model_module_version": "1.4.0",
      "model_name": "ButtonStyleModel",
      "state": {}
     },
     "03061f4922de4582b03ec0c68f0e938c": {
      "model_module": "@jupyter-widgets/controls",
      "model_module_version": "1.4.0",
      "model_name": "ButtonModel",
      "state": {
       "description": "Bottom right",
       "layout": "IPY_MODEL_55f6d4a0ffc340ae83fadc0aeac278b2",
       "style": "IPY_MODEL_51833ab74c1a41efa27e53f09be5f707"
      }
     },
     "0345d5f0dfae4224a6c5c2f0148adf9a": {
      "model_module": "bqplot",
      "model_module_version": "^0.4.5",
      "model_name": "AxisModel",
      "state": {
       "orientation": "vertical",
       "scale": "IPY_MODEL_820f40885b1d4781a4e4abd39ead9b69",
       "side": "left",
       "tick_format": "0.2f",
       "tick_values": {
        "type": null,
        "values": null
       }
      }
     },
     "034ea6dc83214906b9e9b3bea11ec053": {
      "model_module": "@jupyter-widgets/base",
      "model_module_version": "1.1.0",
      "model_name": "LayoutModel",
      "state": {
       "grid_area": "bottom-left",
       "width": "100px"
      }
     },
     "034edc5c164c4e04a41d6b26d3e852ba": {
      "model_module": "@jupyter-widgets/controls",
      "model_module_version": "1.4.0",
      "model_name": "ButtonStyleModel",
      "state": {}
     },
     "035f47372c954ff5876b8f7899d17c30": {
      "model_module": "@jupyter-widgets/controls",
      "model_module_version": "1.4.0",
      "model_name": "GridBoxModel",
      "state": {
       "children": [
        "IPY_MODEL_4f8cb9b018ef466892a17f8df29cc069",
        "IPY_MODEL_e1d883f808c94e4ca34165baa3d93d7d",
        "IPY_MODEL_b48e3af8704a4aee9ff8162d7278ac79",
        "IPY_MODEL_b76f3c1e43de4a3daccfd3789c80e989"
       ],
       "layout": "IPY_MODEL_e80a142bc51443b39af408a2afa4abbf"
      }
     },
     "036f866eb2de4954b8c0c01442c95893": {
      "model_module": "@jupyter-widgets/base",
      "model_module_version": "1.1.0",
      "model_name": "LayoutModel",
      "state": {
       "grid_template_areas": "\"top-left top-right\"\n\"bottom-left bottom-right\"",
       "grid_template_columns": "1fr 1fr",
       "grid_template_rows": "1fr 1fr",
       "width": "auto"
      }
     },
     "0381845468174749ab7a8e35a6440691": {
      "model_module": "@jupyter-widgets/base",
      "model_module_version": "1.1.0",
      "model_name": "LayoutModel",
      "state": {
       "grid_area": "top-left"
      }
     },
     "039aee73dbc944d9b54dc9c15fac9af0": {
      "model_module": "@jupyter-widgets/base",
      "model_module_version": "1.1.0",
      "model_name": "LayoutModel",
      "state": {
       "grid_area": "top-left"
      }
     },
     "03a369b2fe9a469f9af544b305828000": {
      "model_module": "@jupyter-widgets/controls",
      "model_module_version": "1.4.0",
      "model_name": "SliderStyleModel",
      "state": {
       "description_width": ""
      }
     },
     "03aa3e2c648e485fb3d842696c2d8276": {
      "model_module": "bqplot",
      "model_module_version": "^0.4.5",
      "model_name": "FigureModel",
      "state": {
       "_dom_classes": [],
       "axes": [
        "IPY_MODEL_ad692e84e67a47c890d41a03a18f4d3d",
        "IPY_MODEL_f6eb4f9813454eba99e7b2240858f9d1"
       ],
       "layout": "IPY_MODEL_067046373ad14ce3a4bf33cb733ca67f",
       "marks": [
        "IPY_MODEL_6c3e9629793d4c25961028eb683c2b6d"
       ],
       "padding_x": 0.025,
       "scale_x": "IPY_MODEL_0895eb15cc644f5daede717778eed6f7",
       "scale_y": "IPY_MODEL_0e702326f5ed4f4ab3aefd0525ef771b"
      }
     },
     "03cd00fe5bee4200922bf6692abe3607": {
      "model_module": "@jupyter-widgets/base",
      "model_module_version": "1.1.0",
      "model_name": "LayoutModel",
      "state": {
       "grid_area": "top-left"
      }
     },
     "03e0009c37e04f71b5a3dbed516e717f": {
      "model_module": "@jupyter-widgets/base",
      "model_module_version": "1.1.0",
      "model_name": "LayoutModel",
      "state": {
       "grid_area": "top-right"
      }
     },
     "0415d232178e41f48bd2d2b90e62d52d": {
      "model_module": "@jupyter-widgets/base",
      "model_module_version": "1.1.0",
      "model_name": "LayoutModel",
      "state": {
       "grid_template_areas": "\"top-left top-right\"\n\"bottom-left top-right\"",
       "grid_template_columns": "1fr 1fr",
       "grid_template_rows": "1fr 1fr",
       "width": "auto"
      }
     },
     "041b5bd58355447d87db0f04fbff9d54": {
      "model_module": "@jupyter-widgets/controls",
      "model_module_version": "1.4.0",
      "model_name": "LinkModel",
      "state": {
       "source": [
        "IPY_MODEL_100e72e79bce4f5791fff2635382e69d",
        "max"
       ],
       "target": [
        "IPY_MODEL_66bcf813c5124d48b1c7b28dcbc14bba",
        "value"
       ]
      }
     },
     "0422d5178299433cb34b53a7e6462c94": {
      "model_module": "@jupyter-widgets/controls",
      "model_module_version": "1.4.0",
      "model_name": "SliderStyleModel",
      "state": {
       "description_width": ""
      }
     },
     "043b6e126a0547128ef438f67218dccc": {
      "model_module": "@jupyter-widgets/controls",
      "model_module_version": "1.4.0",
      "model_name": "LinkModel",
      "state": {
       "source": [
        "IPY_MODEL_30c5f3aee10d4a37affcb0f481f803a3",
        "max"
       ],
       "target": [
        "IPY_MODEL_4b456b14b63143ae9bb664253168c025",
        "value"
       ]
      }
     },
     "0454d63bfe76484ea91d8d369ba50fa5": {
      "model_module": "@jupyter-widgets/controls",
      "model_module_version": "1.4.0",
      "model_name": "SliderStyleModel",
      "state": {
       "description_width": ""
      }
     },
     "0486875f70be4b01918812f4809a946b": {
      "model_module": "@jupyter-widgets/base",
      "model_module_version": "1.1.0",
      "model_name": "LayoutModel",
      "state": {
       "grid_area": "bottom-left"
      }
     },
     "04b2d37a44444ebfb00990d399dcba30": {
      "model_module": "@jupyter-widgets/base",
      "model_module_version": "1.1.0",
      "model_name": "LayoutModel",
      "state": {
       "grid_area": "bottom-left"
      }
     },
     "04b566d880ba4944b1e0a1a657d79af6": {
      "model_module": "@jupyter-widgets/controls",
      "model_module_version": "1.4.0",
      "model_name": "ButtonModel",
      "state": {
       "description": "Top left",
       "layout": "IPY_MODEL_b9a9bcffe905460cb47ee0a2bbef7e9d",
       "style": "IPY_MODEL_8eb4ea1409a24621b76ea49c3195699d"
      }
     },
     "04c71f5ad6414b219121ddf7d40b1068": {
      "model_module": "@jupyter-widgets/controls",
      "model_module_version": "1.4.0",
      "model_name": "LinkModel",
      "state": {
       "source": [
        "IPY_MODEL_675e508065eb411d9459bee5d03b3d25",
        "max"
       ],
       "target": [
        "IPY_MODEL_ccd7560d0ea142d2a6e8f55a4c5e52a6",
        "value"
       ]
      }
     },
     "04da68461bf648ff9be644299a2ac3f4": {
      "model_module": "@jupyter-widgets/controls",
      "model_module_version": "1.4.0",
      "model_name": "ButtonModel",
      "state": {
       "description": "Top right",
       "layout": "IPY_MODEL_9d548e68c0114e7d88a0b8ab84478a80",
       "style": "IPY_MODEL_165a085f70984b24abcc4c7f908305a7"
      }
     },
     "04e2ec36f5174a949c74e6ee3b9fcf01": {
      "model_module": "@jupyter-widgets/base",
      "model_module_version": "1.1.0",
      "model_name": "LayoutModel",
      "state": {
       "grid_area": "bottom-right",
       "height": "100%"
      }
     },
     "04f17cd48daf4f5fbd977ed2bce9dc72": {
      "model_module": "@jupyter-widgets/base",
      "model_module_version": "1.1.0",
      "model_name": "LayoutModel",
      "state": {
       "grid_template_areas": "\"top-left top-right\"\n\"bottom-left bottom-right\"",
       "grid_template_columns": "1fr 1fr",
       "grid_template_rows": "1fr 1fr"
      }
     },
     "05840c65a0814da1ad13dc4d390d1fe5": {
      "model_module": "@jupyter-widgets/base",
      "model_module_version": "1.1.0",
      "model_name": "LayoutModel",
      "state": {
       "grid_template_areas": "\"top-left top-right\"\n\"bottom-left bottom-right\"",
       "grid_template_columns": "1fr 1fr",
       "grid_template_rows": "1fr 1fr",
       "width": "auto"
      }
     },
     "05acfa9cd4a34ce8989fc99e3f75194a": {
      "model_module": "@jupyter-widgets/base",
      "model_module_version": "1.1.0",
      "model_name": "LayoutModel",
      "state": {
       "grid_template_areas": "\"top-left top-right\"\n\"bottom-left top-right\"",
       "grid_template_columns": "1fr 1fr",
       "grid_template_rows": "1fr 1fr",
       "width": "auto"
      }
     },
     "05c1c77aa3a34414abeca061bf47a93a": {
      "model_module": "@jupyter-widgets/base",
      "model_module_version": "1.1.0",
      "model_name": "LayoutModel",
      "state": {
       "grid_area": "top-left"
      }
     },
     "05f0cfbe96a646e6ad6a036c4cd35468": {
      "model_module": "@jupyter-widgets/controls",
      "model_module_version": "1.4.0",
      "model_name": "ButtonModel",
      "state": {
       "description": "Bottom left",
       "layout": "IPY_MODEL_511dd35cc574499c8059429b6127f42d",
       "style": "IPY_MODEL_c94ae8c1dc5a440fa50093a10aadd5e8"
      }
     },
     "06049c5976ea4452bc25c50ed2fc128e": {
      "model_module": "@jupyter-widgets/controls",
      "model_module_version": "1.4.0",
      "model_name": "FloatSliderModel",
      "state": {
       "layout": "IPY_MODEL_c49246de211c4fa1aff7cb1226b36597",
       "step": 0.1,
       "style": "IPY_MODEL_fdbc840ae2b1467688d2d0a4e11932e3",
       "value": 3.35
      }
     },
     "0656e4659d37432e8dee4ab4fc84de7c": {
      "model_module": "@jupyter-widgets/controls",
      "model_module_version": "1.4.0",
      "model_name": "ButtonModel",
      "state": {
       "description": "Bottom left",
       "layout": "IPY_MODEL_d418658ff7b64dcb98ea9ef86b474914",
       "style": "IPY_MODEL_678e7f8075fd4f02a4ec037769b000a1"
      }
     },
     "0667db09af8743d9ba238404c3a2171c": {
      "model_module": "@jupyter-widgets/base",
      "model_module_version": "1.1.0",
      "model_name": "LayoutModel",
      "state": {
       "grid_template_areas": "\"top-left bottom-right\"\n\"bottom-left bottom-right\"",
       "grid_template_columns": "1fr 1fr",
       "grid_template_rows": "1fr 1fr"
      }
     },
     "067046373ad14ce3a4bf33cb733ca67f": {
      "model_module": "@jupyter-widgets/base",
      "model_module_version": "1.1.0",
      "model_name": "LayoutModel",
      "state": {
       "grid_area": "top-left",
       "min_width": "125px"
      }
     },
     "068f7f2074df475fbe48f4286b6a5c2c": {
      "model_module": "@jupyter-widgets/controls",
      "model_module_version": "1.4.0",
      "model_name": "ButtonStyleModel",
      "state": {}
     },
     "06904f3609fd4bdd8c161fe95125811c": {
      "model_module": "@jupyter-widgets/base",
      "model_module_version": "1.1.0",
      "model_name": "LayoutModel",
      "state": {
       "grid_template_areas": "\"top-left bottom-right\"\n\"bottom-left bottom-right\"",
       "grid_template_columns": "1fr 1fr",
       "grid_template_rows": "1fr 1fr",
       "width": "auto"
      }
     },
     "06b3b38ce59a4fd1acab11781c37b508": {
      "model_module": "@jupyter-widgets/controls",
      "model_module_version": "1.4.0",
      "model_name": "LinkModel",
      "state": {
       "source": [
        "IPY_MODEL_fc11ab93b8894a1da80a45d5a56a5136",
        "max"
       ],
       "target": [
        "IPY_MODEL_b3d52b6d03cc4f159ba68abbf43a000e",
        "value"
       ]
      }
     },
     "06df8b310c6541918964e53c19863ece": {
      "model_module": "@jupyter-widgets/base",
      "model_module_version": "1.1.0",
      "model_name": "LayoutModel",
      "state": {
       "grid_area": "bottom-left",
       "height": "20px",
       "width": "300px"
      }
     },
     "06e34161cd1145ff9845dc0ccc235d98": {
      "model_module": "@jupyter-widgets/base",
      "model_module_version": "1.1.0",
      "model_name": "LayoutModel",
      "state": {
       "grid_area": "bottom-left",
       "height": "20px",
       "width": "300px"
      }
     },
     "06eb2c1e961c40bb80bbce26dc13b87d": {
      "model_module": "@jupyter-widgets/controls",
      "model_module_version": "1.4.0",
      "model_name": "LinkModel",
      "state": {
       "source": [
        "IPY_MODEL_820f40885b1d4781a4e4abd39ead9b69",
        "min"
       ],
       "target": [
        "IPY_MODEL_c6ab3f8999f24279b236d4631412bbac",
        "value"
       ]
      }
     },
     "070613aa57c8479dbde81c19e94ec180": {
      "model_module": "@jupyter-widgets/base",
      "model_module_version": "1.1.0",
      "model_name": "LayoutModel",
      "state": {
       "grid_area": "top-right"
      }
     },
     "07072f7afdea4b9798650eb86537ceaf": {
      "model_module": "@jupyter-widgets/base",
      "model_module_version": "1.1.0",
      "model_name": "LayoutModel",
      "state": {
       "grid_template_areas": "\"top-left top-right\"\n\"bottom-left bottom-right\"",
       "grid_template_columns": "1fr 1fr",
       "grid_template_rows": "1fr 1fr",
       "width": "auto"
      }
     },
     "070ca8fa7990495ab9b21a804980fc8b": {
      "model_module": "@jupyter-widgets/controls",
      "model_module_version": "1.4.0",
      "model_name": "FloatSliderModel",
      "state": {
       "layout": "IPY_MODEL_13712c06af0d418987432eaa72e0cf2e",
       "max": 10,
       "min": 1,
       "step": 0.1,
       "style": "IPY_MODEL_d192441b1e8b49c787cfbb138cf82f81",
       "value": 1
      }
     },
     "072b941273404cbd9ee9da7cb3d668b7": {
      "model_module": "@jupyter-widgets/controls",
      "model_module_version": "1.4.0",
      "model_name": "ButtonModel",
      "state": {
       "description": "Top left",
       "layout": "IPY_MODEL_f17f7842524d4ca5b2af7e68f0d32df1",
       "style": "IPY_MODEL_11fcead536a24cdb90a023bc17603621"
      }
     },
     "07380df1f7224aa5a22fe8f6dec98710": {
      "model_module": "@jupyter-widgets/controls",
      "model_module_version": "1.4.0",
      "model_name": "FloatSliderModel",
      "state": {
       "layout": "IPY_MODEL_cee7f2a6a5834a428f5d31ec2b2f5ac1",
       "max": 1,
       "step": 0.1,
       "style": "IPY_MODEL_c93f328a11464e589af0c3f3c2c0855b",
       "value": 0.05
      }
     },
     "0748a831ee72463c85d55333c053792d": {
      "model_module": "@jupyter-widgets/controls",
      "model_module_version": "1.4.0",
      "model_name": "LinkModel",
      "state": {
       "source": [
        "IPY_MODEL_694292eac0db47608838dd02cd8fafec",
        "min"
       ],
       "target": [
        "IPY_MODEL_7bf9ba6b1b2646719106d2c83319578c",
        "value"
       ]
      }
     },
     "074af9c2107f40159d1ca9cd38cb6cab": {
      "model_module": "bqplot",
      "model_module_version": "^0.4.5",
      "model_name": "FigureModel",
      "state": {
       "_dom_classes": [],
       "axes": [
        "IPY_MODEL_754736fca3f04657b27c41d7adf4e554",
        "IPY_MODEL_0985e269c4aa42338c32d26a07cc3770"
       ],
       "layout": "IPY_MODEL_5dd4c9ac4b4742ed8071e60b93f13f00",
       "marks": [
        "IPY_MODEL_a62300ffd6ce462b913906f48a4360c4"
       ],
       "padding_x": 0.025,
       "scale_x": "IPY_MODEL_c8cfc00d7c584782b103c83130b110b1",
       "scale_y": "IPY_MODEL_8bc1a5d794434505b7cf38f1e14d1648"
      }
     },
     "075b3957553d45b0b50fb44ba0df9b94": {
      "model_module": "@jupyter-widgets/base",
      "model_module_version": "1.1.0",
      "model_name": "LayoutModel",
      "state": {
       "grid_template_areas": "\"top-left bottom-right\"\n\"bottom-left bottom-right\"",
       "grid_template_columns": "1fr 1fr",
       "grid_template_rows": "1fr 1fr",
       "width": "auto"
      }
     },
     "076be0711a8d42d3824a786089d53c25": {
      "model_module": "@jupyter-widgets/controls",
      "model_module_version": "1.4.0",
      "model_name": "FloatSliderModel",
      "state": {
       "layout": "IPY_MODEL_7882e0c8190545b4a607eba3ec29dba4",
       "max": 1,
       "step": 0.1,
       "style": "IPY_MODEL_f37f50f2908244559c9e628cdb3c91ce"
      }
     },
     "078b3eeba3674cddb26176d12952be59": {
      "model_module": "@jupyter-widgets/base",
      "model_module_version": "1.1.0",
      "model_name": "LayoutModel",
      "state": {
       "grid_area": "top-left"
      }
     },
     "0798b94265434067a7e6eb23279bc523": {
      "model_module": "@jupyter-widgets/controls",
      "model_module_version": "1.4.0",
      "model_name": "FloatSliderModel",
      "state": {
       "description": "Min: ",
       "layout": "IPY_MODEL_99de25e8588a4d7fbf705eeed099b8b5",
       "max": 2.3,
       "step": 0.1,
       "style": "IPY_MODEL_279c2976cb3e4e5db122e58e09ac2dfd"
      }
     },
     "079a762fc482499b80c53bef018494f2": {
      "model_module": "@jupyter-widgets/controls",
      "model_module_version": "1.4.0",
      "model_name": "FloatSliderModel",
      "state": {
       "layout": "IPY_MODEL_db4c6c768ae54987b48cc1d6f6e4d500",
       "max": 10,
       "min": 0.05,
       "step": 0.1,
       "style": "IPY_MODEL_a18b894327eb40d6989cde85c7e45c5c",
       "value": 3.35
      }
     },
     "07a65a626e6c4712a1743e3ed26206c4": {
      "model_module": "@jupyter-widgets/base",
      "model_module_version": "1.1.0",
      "model_name": "LayoutModel",
      "state": {
       "grid_area": "top-left"
      }
     },
     "07a9424a8d6945e8a746c4130dcc3dbb": {
      "model_module": "@jupyter-widgets/controls",
      "model_module_version": "1.4.0",
      "model_name": "SliderStyleModel",
      "state": {
       "description_width": ""
      }
     },
     "07ac928c93b44d17936d90c326fd366c": {
      "model_module": "@jupyter-widgets/controls",
      "model_module_version": "1.4.0",
      "model_name": "ButtonStyleModel",
      "state": {}
     },
     "07d36c45b9cb4a5f92bd88191f6ca262": {
      "model_module": "@jupyter-widgets/base",
      "model_module_version": "1.1.0",
      "model_name": "LayoutModel",
      "state": {
       "align_items": "center",
       "grid_template_areas": "\"top-left bottom-right\"\n\"bottom-left bottom-right\"",
       "grid_template_columns": "1fr 1fr",
       "grid_template_rows": "1fr 1fr",
       "height": "200px",
       "width": "80%"
      }
     },
     "0803b3544b1442528dd0357b8f7828a5": {
      "model_module": "@jupyter-widgets/controls",
      "model_module_version": "1.4.0",
      "model_name": "FloatSliderModel",
      "state": {
       "layout": "IPY_MODEL_bdd0299cd06f4598b4b3665b97010edd",
       "max": 10,
       "min": 0.05,
       "step": 0.1,
       "style": "IPY_MODEL_45e3db51b14741f0b0092daf0809d252",
       "value": 2
      }
     },
     "080cad20c2294276b4e7343f2025a040": {
      "model_module": "@jupyter-widgets/controls",
      "model_module_version": "1.4.0",
      "model_name": "GridBoxModel",
      "state": {
       "children": [
        "IPY_MODEL_e6f00a5077314231a0b8dafaee9d8b03",
        "IPY_MODEL_55a52760a74543b8afef3b70ad815254",
        "IPY_MODEL_485b5689c4904325866b2b8f344330d6"
       ],
       "layout": "IPY_MODEL_04f17cd48daf4f5fbd977ed2bce9dc72"
      }
     },
     "081665584110407e83a91aee5923a2e2": {
      "model_module": "@jupyter-widgets/controls",
      "model_module_version": "1.4.0",
      "model_name": "LinkModel",
      "state": {
       "source": [
        "IPY_MODEL_675e508065eb411d9459bee5d03b3d25",
        "max"
       ],
       "target": [
        "IPY_MODEL_250df06dd0424807bcc25839a065307a",
        "value"
       ]
      }
     },
     "083fe336485541ffb40cd37a160bf996": {
      "model_module": "@jupyter-widgets/controls",
      "model_module_version": "1.4.0",
      "model_name": "SliderStyleModel",
      "state": {
       "description_width": ""
      }
     },
     "084d179ba68d4aa2ba6594a53ba70720": {
      "model_module": "@jupyter-widgets/base",
      "model_module_version": "1.1.0",
      "model_name": "LayoutModel",
      "state": {
       "grid_area": "top-right"
      }
     },
     "088bb444e3cc45fca86def47004f6c5c": {
      "model_module": "@jupyter-widgets/controls",
      "model_module_version": "1.4.0",
      "model_name": "ButtonStyleModel",
      "state": {}
     },
     "0895eb15cc644f5daede717778eed6f7": {
      "model_module": "bqplot",
      "model_module_version": "^0.4.5",
      "model_name": "LinearScaleModel",
      "state": {
       "allow_padding": false,
       "max": 1,
       "min": 0,
       "stabilized": false
      }
     },
     "08adcd1077904a85a07c99b2da164604": {
      "model_module": "@jupyter-widgets/controls",
      "model_module_version": "1.4.0",
      "model_name": "ButtonStyleModel",
      "state": {}
     },
     "08b5556909c54da68c6c11922ca29c0d": {
      "model_module": "@jupyter-widgets/controls",
      "model_module_version": "1.4.0",
      "model_name": "ButtonStyleModel",
      "state": {}
     },
     "08b6ed8e73c841c8a537be0fc69b6ad1": {
      "model_module": "@jupyter-widgets/base",
      "model_module_version": "1.1.0",
      "model_name": "LayoutModel",
      "state": {
       "grid_template_areas": "\"top-left bottom-right\"\n\"bottom-left bottom-right\"",
       "grid_template_columns": "1fr 1fr",
       "grid_template_rows": "1fr 1fr",
       "width": "auto"
      }
     },
     "08bb601521da486c9a9820ce46ec8918": {
      "model_module": "@jupyter-widgets/controls",
      "model_module_version": "1.4.0",
      "model_name": "IntTextModel",
      "state": {
       "layout": "IPY_MODEL_9a05a47284954a5398f87ef866f354c4",
       "step": 1,
       "style": "IPY_MODEL_4df4ad3d66e344c29bb6531846f1e6e2",
       "value": 66
      }
     },
     "08c0a8548e0749429f3cd5355d1fa2b0": {
      "model_module": "@jupyter-widgets/base",
      "model_module_version": "1.1.0",
      "model_name": "LayoutModel",
      "state": {
       "grid_template_areas": "\"top-left top-right\"\n\"bottom-left top-right\"",
       "grid_template_columns": "1fr 1fr",
       "grid_template_rows": "1fr 1fr",
       "width": "auto"
      }
     },
     "08f0420ca4d74eeaa14411912d927bd4": {
      "model_module": "@jupyter-widgets/base",
      "model_module_version": "1.1.0",
      "model_name": "LayoutModel",
      "state": {
       "grid_area": "bottom-left"
      }
     },
     "08f52a8fe12942bba7f46523db80c1ef": {
      "model_module": "@jupyter-widgets/controls",
      "model_module_version": "1.4.0",
      "model_name": "GridBoxModel",
      "state": {
       "children": [
        "IPY_MODEL_0156df48120f4c5f83240090687e7e26",
        "IPY_MODEL_9ce7c65611154f52b5bbdb89e8f75fe5",
        "IPY_MODEL_dc03d58fdccf42308a2efb51b216231b"
       ],
       "layout": "IPY_MODEL_f48861dbb9424616ba846f44e61e982a"
      }
     },
     "093c41790e4c468097f269c0ac860444": {
      "model_module": "bqplot",
      "model_module_version": "^0.4.5",
      "model_name": "BarsModel",
      "state": {
       "color": {
        "type": null,
        "values": null
       },
       "colors": [
        "steelblue"
       ],
       "display_legend": false,
       "scales": {
        "x": "IPY_MODEL_68fa60bb50e74b1f9a4b71f44247cf6d",
        "y": "IPY_MODEL_d0e4e017d4544e87897d5c64976007d7"
       },
       "selected": [],
       "x": {
        "type": "float",
        "values": [
         0,
         1,
         2,
         3,
         4,
         5,
         6,
         7,
         8,
         9
        ]
       },
       "y": {
        "type": "float",
        "values": [
         0.6288984390617004,
         0.3984342586196771,
         0.0627129520233457,
         0.42403225188984195,
         0.2586840668894077,
         0.8490383084285108,
         0.03330462654669619,
         0.9589827218634736,
         0.3553688484719296,
         0.3567068904025429
        ]
       }
      }
     },
     "094d718ece1b40e38785d475a378cced": {
      "model_module": "bqplot",
      "model_module_version": "^0.4.5",
      "model_name": "BarsModel",
      "state": {
       "color": {
        "type": null,
        "values": null
       },
       "colors": [
        "steelblue"
       ],
       "display_legend": false,
       "scales": {
        "x": "IPY_MODEL_331334b515d44663bd1d1160a6e4b36b",
        "y": "IPY_MODEL_613a10628bc64d16840f9dde5959f74b"
       },
       "selected": [],
       "x": {
        "type": "float",
        "values": [
         0,
         1,
         2,
         3,
         4,
         5,
         6,
         7,
         8,
         9
        ]
       },
       "y": {
        "type": "float",
        "values": [
         0.6288984390617004,
         0.3984342586196771,
         0.0627129520233457,
         0.42403225188984195,
         0.2586840668894077,
         0.8490383084285108,
         0.03330462654669619,
         0.9589827218634736,
         0.3553688484719296,
         0.3567068904025429
        ]
       }
      }
     },
     "095910139dad4f27b4f76d9637d0dcb5": {
      "model_module": "bqplot",
      "model_module_version": "^0.4.5",
      "model_name": "LinearScaleModel",
      "state": {
       "max": 2.3,
       "min": 0,
       "stabilized": false
      }
     },
     "095c51f235df4b38b779a7dcbf4edd47": {
      "model_module": "@jupyter-widgets/controls",
      "model_module_version": "1.4.0",
      "model_name": "GridBoxModel",
      "state": {
       "children": [
        "IPY_MODEL_bf5f1365e570409ea787aa681b638ee2",
        "IPY_MODEL_c2ab6e225c8445d3bc588cc2f92d6cd2",
        "IPY_MODEL_fa1303a51ad74c7c8259c847b25efe30"
       ],
       "layout": "IPY_MODEL_c70713b3fb20459d965c8098972f982a"
      }
     },
     "0985e269c4aa42338c32d26a07cc3770": {
      "model_module": "bqplot",
      "model_module_version": "^0.4.5",
      "model_name": "AxisModel",
      "state": {
       "orientation": "vertical",
       "scale": "IPY_MODEL_675e508065eb411d9459bee5d03b3d25",
       "side": "left",
       "tick_format": "0.2f",
       "tick_values": {
        "type": null,
        "values": null
       }
      }
     },
     "098bb618ab8f4af4a432217a6853482f": {
      "model_module": "@jupyter-widgets/controls",
      "model_module_version": "1.4.0",
      "model_name": "SliderStyleModel",
      "state": {
       "description_width": ""
      }
     },
     "099c7ade4d7a449c9ea680a20a357981": {
      "model_module": "@jupyter-widgets/controls",
      "model_module_version": "1.4.0",
      "model_name": "ButtonStyleModel",
      "state": {}
     },
     "09f45ac2108d46668ab751b3332fff69": {
      "model_module": "@jupyter-widgets/base",
      "model_module_version": "1.1.0",
      "model_name": "LayoutModel",
      "state": {
       "grid_template_areas": "\"top-left top-right\"\n\"bottom-left bottom-right\"",
       "grid_template_columns": "1fr 1fr",
       "grid_template_rows": "1fr 1fr"
      }
     },
     "09fa3b80428c42e2a8f8664756e82a83": {
      "model_module": "@jupyter-widgets/base",
      "model_module_version": "1.1.0",
      "model_name": "LayoutModel",
      "state": {
       "grid_template_areas": "\"top-left bottom-right\"\n\"bottom-left bottom-right\"",
       "grid_template_columns": "1fr 1fr",
       "grid_template_rows": "1fr 1fr",
       "width": "auto"
      }
     },
     "0a1e4f06a6a04e9faeae2685d035186e": {
      "model_module": "@jupyter-widgets/base",
      "model_module_version": "1.1.0",
      "model_name": "LayoutModel",
      "state": {
       "grid_template_areas": "\"top-left top-right\"\n\"bottom-left bottom-right\"",
       "grid_template_columns": "1fr 1fr",
       "grid_template_rows": "1fr 1fr",
       "width": "auto"
      }
     },
     "0a2469c0888d4185bf874899605149a4": {
      "model_module": "@jupyter-widgets/controls",
      "model_module_version": "1.4.0",
      "model_name": "FloatSliderModel",
      "state": {
       "layout": "IPY_MODEL_6d1b58710c70448d943d5c17444d4d39",
       "max": 10,
       "min": 0.05,
       "step": 0.1,
       "style": "IPY_MODEL_0422d5178299433cb34b53a7e6462c94",
       "value": 3.35
      }
     },
     "0a40ed34e7024e008357ee5290c0264e": {
      "model_module": "@jupyter-widgets/controls",
      "model_module_version": "1.4.0",
      "model_name": "SliderStyleModel",
      "state": {
       "description_width": ""
      }
     },
     "0a5b76a472ed42598deb8065dc961d5e": {
      "model_module": "@jupyter-widgets/base",
      "model_module_version": "1.1.0",
      "model_name": "LayoutModel",
      "state": {
       "grid_template_areas": "\"top-left bottom-right\"\n\"bottom-left bottom-right\"",
       "grid_template_columns": "1fr 1fr",
       "grid_template_rows": "1fr 1fr",
       "width": "auto"
      }
     },
     "0abf7a5936b847f98babd366dfbb017d": {
      "model_module": "@jupyter-widgets/base",
      "model_module_version": "1.1.0",
      "model_name": "LayoutModel",
      "state": {
       "grid_template_areas": "\"top-left top-right\"\n\"bottom-left top-right\"",
       "grid_template_columns": "1fr 1fr",
       "grid_template_rows": "1fr 1fr",
       "width": "auto"
      }
     },
     "0aefd8dc22164b65a2f057ebdbcb331a": {
      "model_module": "bqplot",
      "model_module_version": "^0.4.5",
      "model_name": "LinearScaleModel",
      "state": {
       "allow_padding": false,
       "max": 1,
       "min": 0,
       "stabilized": false
      }
     },
     "0b0573aa28fa4a758023046a29f1204c": {
      "model_module": "@jupyter-widgets/controls",
      "model_module_version": "1.4.0",
      "model_name": "ButtonStyleModel",
      "state": {}
     },
     "0b18c3eec06648e1879a5caa900e192b": {
      "model_module": "@jupyter-widgets/base",
      "model_module_version": "1.1.0",
      "model_name": "LayoutModel",
      "state": {
       "grid_template_areas": "\"top-left top-right\"\n\"bottom-left bottom-right\"",
       "grid_template_columns": "1fr 1fr",
       "grid_template_rows": "1fr 1fr",
       "width": "auto"
      }
     },
     "0b33e0641fec4bbe9e65f2b2fb8a4487": {
      "model_module": "@jupyter-widgets/controls",
      "model_module_version": "1.4.0",
      "model_name": "ButtonStyleModel",
      "state": {}
     },
     "0b37cc9c7c3c49118fe89b4717d9790c": {
      "model_module": "@jupyter-widgets/controls",
      "model_module_version": "1.4.0",
      "model_name": "SliderStyleModel",
      "state": {
       "description_width": ""
      }
     },
     "0b3a1e7571e845d2b1f1d884eda7d1df": {
      "model_module": "@jupyter-widgets/controls",
      "model_module_version": "1.4.0",
      "model_name": "LinkModel",
      "state": {
       "source": [
        "IPY_MODEL_675e508065eb411d9459bee5d03b3d25",
        "min"
       ],
       "target": [
        "IPY_MODEL_863ee1ea71724383998be3b2f53a8868",
        "value"
       ]
      }
     },
     "0b4320f375574096941773f311181a21": {
      "model_module": "@jupyter-widgets/base",
      "model_module_version": "1.1.0",
      "model_name": "LayoutModel",
      "state": {
       "grid_area": "top-left"
      }
     },
     "0b63a115fbca45219bca8353f7687d38": {
      "model_module": "@jupyter-widgets/controls",
      "model_module_version": "1.4.0",
      "model_name": "LinkModel",
      "state": {
       "source": [
        "IPY_MODEL_e08a3201c7e646c48adec34b7f51a934",
        "max"
       ],
       "target": [
        "IPY_MODEL_eac3ac760c8f4a1a8e40463a4b8b1681",
        "value"
       ]
      }
     },
     "0b73f84aef3c45abb4262ffdd0d83a09": {
      "model_module": "bqplot",
      "model_module_version": "^0.4.5",
      "model_name": "BarsModel",
      "state": {
       "color": {
        "type": null,
        "values": null
       },
       "colors": [
        "steelblue"
       ],
       "display_legend": false,
       "scales": {
        "x": "IPY_MODEL_a48c2520b5b64f07abe29acd407232aa",
        "y": "IPY_MODEL_ebb147aeea6d4453aacf9e22351c15dc"
       },
       "selected": [],
       "x": {
        "type": "float",
        "values": [
         0,
         1,
         2,
         3,
         4,
         5,
         6,
         7,
         8,
         9
        ]
       },
       "y": {
        "type": "float",
        "values": [
         0.6288984390617004,
         0.3984342586196771,
         0.0627129520233457,
         0.42403225188984195,
         0.2586840668894077,
         0.8490383084285108,
         0.03330462654669619,
         0.9589827218634736,
         0.3553688484719296,
         0.3567068904025429
        ]
       }
      }
     },
     "0b7c5fb94e93409e9e707844ab675e68": {
      "model_module": "@jupyter-widgets/controls",
      "model_module_version": "1.4.0",
      "model_name": "LinkModel",
      "state": {
       "source": [
        "IPY_MODEL_e6cccb9b79014139914191ae06b22e84",
        "value"
       ],
       "target": [
        "IPY_MODEL_4df9678bc7cd492987f05429b804742b",
        "value"
       ]
      }
     },
     "0b8b3736a02b45b28018452aa75b35e0": {
      "model_module": "bqplot",
      "model_module_version": "^0.4.5",
      "model_name": "OrdinalScaleModel",
      "state": {
       "domain": []
      }
     },
     "0b93ef9aca834a229d3c243bfbd0074c": {
      "model_module": "@jupyter-widgets/controls",
      "model_module_version": "1.4.0",
      "model_name": "IntSliderModel",
      "state": {
       "layout": "IPY_MODEL_be105a753a0c46479fb0ef468cae5946",
       "style": "IPY_MODEL_b7c9edff58434a389f557a344c60629e"
      }
     },
     "0ba4dc3b19264f2fbee3d92ac210a9a3": {
      "model_module": "@jupyter-widgets/base",
      "model_module_version": "1.1.0",
      "model_name": "LayoutModel",
      "state": {
       "grid_area": "bottom-left"
      }
     },
     "0bdb125afddd455dad9ca86a03ba311b": {
      "model_module": "@jupyter-widgets/controls",
      "model_module_version": "1.4.0",
      "model_name": "FloatSliderModel",
      "state": {
       "layout": "IPY_MODEL_9d8cfa79e4cc4e0193f630145415dff5",
       "max": 1,
       "step": 0.1,
       "style": "IPY_MODEL_2fc9b15751454188b80fcb704a1e04b3",
       "value": 0.05
      }
     },
     "0be4e5b62bc9484492405c3c9bea9746": {
      "model_module": "@jupyter-widgets/controls",
      "model_module_version": "1.4.0",
      "model_name": "SliderStyleModel",
      "state": {
       "description_width": ""
      }
     },
     "0c0597db0b5240298bf3d9513470f1b4": {
      "model_module": "@jupyter-widgets/base",
      "model_module_version": "1.1.0",
      "model_name": "LayoutModel",
      "state": {
       "grid_area": "bottom-left"
      }
     },
     "0c0ed9a33e574070b02ac06b4a719670": {
      "model_module": "@jupyter-widgets/controls",
      "model_module_version": "1.4.0",
      "model_name": "ButtonStyleModel",
      "state": {}
     },
     "0c7d8ba1fb9a4c2da70e677205edd001": {
      "model_module": "bqplot",
      "model_module_version": "^0.4.5",
      "model_name": "AxisModel",
      "state": {
       "scale": "IPY_MODEL_3319483583ee47af9e1633f0f6859634",
       "side": "bottom",
       "tick_values": {
        "type": null,
        "values": null
       }
      }
     },
     "0c8edbd09988451dbc8df3cd18fcf68b": {
      "model_module": "@jupyter-widgets/controls",
      "model_module_version": "1.4.0",
      "model_name": "ButtonModel",
      "state": {
       "description": "Bottom right",
       "layout": "IPY_MODEL_d79daafab9154285835e13d409a121c0",
       "style": "IPY_MODEL_6329dbb008644fd5a422a322af6d9f24"
      }
     },
     "0cc8468a88b94a8fb77bbfa961a6dfa5": {
      "model_module": "@jupyter-widgets/base",
      "model_module_version": "1.1.0",
      "model_name": "LayoutModel",
      "state": {
       "grid_area": "bottom-right",
       "height": "100%"
      }
     },
     "0cd03ef4880e4b899e6493fa3965b189": {
      "model_module": "@jupyter-widgets/controls",
      "model_module_version": "1.4.0",
      "model_name": "LinkModel",
      "state": {
       "source": [
        "IPY_MODEL_675e508065eb411d9459bee5d03b3d25",
        "max"
       ],
       "target": [
        "IPY_MODEL_3694ae1ffebf41ffaa682aedab1cc29a",
        "value"
       ]
      }
     },
     "0d030ddd21624f388da8f0353130fc17": {
      "model_module": "@jupyter-widgets/controls",
      "model_module_version": "1.4.0",
      "model_name": "LinkModel",
      "state": {
       "source": [
        "IPY_MODEL_15872ee60858425cbf8e7340f6be4bf7",
        "value"
       ],
       "target": [
        "IPY_MODEL_a57b52a0bd714569a66647bc58c12516",
        "value"
       ]
      }
     },
     "0d19b3abe4994fffab967163f150695c": {
      "model_module": "@jupyter-widgets/controls",
      "model_module_version": "1.4.0",
      "model_name": "DescriptionStyleModel",
      "state": {
       "description_width": ""
      }
     },
     "0d81b2e7cbd24b2d8317847ef7993a5b": {
      "model_module": "@jupyter-widgets/base",
      "model_module_version": "1.1.0",
      "model_name": "LayoutModel",
      "state": {
       "grid_area": "top-left"
      }
     },
     "0db8d80d1b134abb80ffbd89b899da0c": {
      "model_module": "@jupyter-widgets/controls",
      "model_module_version": "1.4.0",
      "model_name": "LinkModel",
      "state": {
       "source": [
        "IPY_MODEL_f704c30879e14dddbc51672b01b51c43",
        "value"
       ],
       "target": [
        "IPY_MODEL_7af1c944977f4399a0e4e364411d36d6",
        "value"
       ]
      }
     },
     "0dcde8a34964496a903f580940a8f7bc": {
      "model_module": "@jupyter-widgets/controls",
      "model_module_version": "1.4.0",
      "model_name": "LinkModel",
      "state": {
       "source": [
        "IPY_MODEL_9b0be89660144710a836f7e3a52173c6",
        "max"
       ],
       "target": [
        "IPY_MODEL_a156d3199938440290e1c1c96a125fef",
        "value"
       ]
      }
     },
     "0dd925e24d174fb2bb62320c82a7a2d8": {
      "model_module": "bqplot",
      "model_module_version": "^0.4.5",
      "model_name": "LinearScaleModel",
      "state": {
       "allow_padding": false,
       "max": 1,
       "min": 0,
       "stabilized": false
      }
     },
     "0ddb2e8a33f84a75b63acdd85fc754e5": {
      "model_module": "@jupyter-widgets/controls",
      "model_module_version": "1.4.0",
      "model_name": "LinkModel",
      "state": {
       "source": [
        "IPY_MODEL_fc11ab93b8894a1da80a45d5a56a5136",
        "min"
       ],
       "target": [
        "IPY_MODEL_a612809ed6234ed4896cf0991bee1c5f",
        "value"
       ]
      }
     },
     "0ddd36a4c37d4da4a961c4b0a5b0e2b8": {
      "model_module": "@jupyter-widgets/base",
      "model_module_version": "1.1.0",
      "model_name": "LayoutModel",
      "state": {
       "grid_area": "bottom-left"
      }
     },
     "0e292926fd3240adbad1c76ae9c6b091": {
      "model_module": "@jupyter-widgets/base",
      "model_module_version": "1.1.0",
      "model_name": "LayoutModel",
      "state": {
       "grid_area": "top-left"
      }
     },
     "0e4c97ff23b34430a5ce989b06085df5": {
      "model_module": "bqplot",
      "model_module_version": "^0.4.5",
      "model_name": "AxisModel",
      "state": {
       "orientation": "vertical",
       "scale": "IPY_MODEL_095910139dad4f27b4f76d9637d0dcb5",
       "side": "left",
       "tick_format": "0.2f",
       "tick_values": {
        "type": null,
        "values": null
       }
      }
     },
     "0e620da9f31247ed87bc179fe981c4be": {
      "model_module": "@jupyter-widgets/controls",
      "model_module_version": "1.4.0",
      "model_name": "GridBoxModel",
      "state": {
       "children": [
        "IPY_MODEL_50811582673843acb117d36383427de2",
        "IPY_MODEL_31683ed246e449b4aeb988346387c343",
        "IPY_MODEL_a230c2a6942245b5b943d37cfdfd1dd0"
       ],
       "layout": "IPY_MODEL_f6ddf0b600184599809cedb2b1a97392"
      }
     },
     "0e702326f5ed4f4ab3aefd0525ef771b": {
      "model_module": "bqplot",
      "model_module_version": "^0.4.5",
      "model_name": "LinearScaleModel",
      "state": {
       "allow_padding": false,
       "max": 1,
       "min": 0,
       "stabilized": false
      }
     },
     "0e77f130c4e749f29b58cec06c4b0072": {
      "model_module": "@jupyter-widgets/controls",
      "model_module_version": "1.4.0",
      "model_name": "LinkModel",
      "state": {
       "source": [
        "IPY_MODEL_9b0be89660144710a836f7e3a52173c6",
        "min"
       ],
       "target": [
        "IPY_MODEL_2392c8780da04ce68b00f463626c2435",
        "value"
       ]
      }
     },
     "0eb3c74fee7c4085a7f325b8409d83da": {
      "model_module": "@jupyter-widgets/controls",
      "model_module_version": "1.4.0",
      "model_name": "ButtonStyleModel",
      "state": {}
     },
     "0ee7b63f502d46368016c790f704ff1a": {
      "model_module": "@jupyter-widgets/controls",
      "model_module_version": "1.4.0",
      "model_name": "ButtonStyleModel",
      "state": {}
     },
     "0eebd53b80ad44eda0d82b542abef112": {
      "model_module": "@jupyter-widgets/controls",
      "model_module_version": "1.4.0",
      "model_name": "LinkModel",
      "state": {
       "source": [
        "IPY_MODEL_6cd2bf7eb9844f428c39f48eb079d333",
        "min"
       ],
       "target": [
        "IPY_MODEL_a6cd9cdd607e4198807461a8cb38410f",
        "value"
       ]
      }
     },
     "0f64988e16b946e4a629b89874797474": {
      "model_module": "@jupyter-widgets/base",
      "model_module_version": "1.1.0",
      "model_name": "LayoutModel",
      "state": {
       "grid_template_areas": "\"top-left top-right\"\n\"bottom-left bottom-right\"",
       "grid_template_columns": "1fr 1fr",
       "grid_template_rows": "1fr 1fr",
       "width": "auto"
      }
     },
     "0f792542708a4d4f9bd0beaf4c1f0d76": {
      "model_module": "@jupyter-widgets/base",
      "model_module_version": "1.1.0",
      "model_name": "LayoutModel",
      "state": {
       "grid_area": "bottom-right"
      }
     },
     "0f7f1caa3a8942e1964c489c796732ed": {
      "model_module": "@jupyter-widgets/controls",
      "model_module_version": "1.4.0",
      "model_name": "SliderStyleModel",
      "state": {
       "description_width": ""
      }
     },
     "0f8fb4cbee95492cbe2e27f850059af1": {
      "model_module": "@jupyter-widgets/controls",
      "model_module_version": "1.4.0",
      "model_name": "GridBoxModel",
      "state": {
       "children": [
        "IPY_MODEL_c2887f1366494b20aa4ac07a67229a92",
        "IPY_MODEL_143a31647e0b492bb36489fc40fa1540",
        "IPY_MODEL_611cf9fc49c645538473b21e6ae20339"
       ],
       "layout": "IPY_MODEL_87f06c5ee9754add90fffc1df8387d24"
      }
     },
     "0f9f6bfc24ba471ba10f7f6b3b6be24a": {
      "model_module": "@jupyter-widgets/controls",
      "model_module_version": "1.4.0",
      "model_name": "FloatSliderModel",
      "state": {
       "layout": "IPY_MODEL_a25a22b16140491b983ae4205077e7a6",
       "max": 0.05,
       "step": 0.1,
       "style": "IPY_MODEL_5da3098a4f9c4b7488a9f358d2eb350f",
       "value": 0.05
      }
     },
     "0faff599347e41a989f07cc051a849eb": {
      "model_module": "@jupyter-widgets/base",
      "model_module_version": "1.1.0",
      "model_name": "LayoutModel",
      "state": {
       "align_items": "center",
       "grid_template_areas": "\"top-left bottom-right\"\n\"bottom-left bottom-right\"",
       "grid_template_columns": "1fr 1fr",
       "grid_template_rows": "1fr 1fr",
       "height": "300px",
       "width": "80%"
      }
     },
     "0fb65dc537644fe6a1f8c5f812f48774": {
      "model_module": "bqplot",
      "model_module_version": "^0.4.5",
      "model_name": "LinearScaleModel",
      "state": {
       "allow_padding": false,
       "max": 1,
       "min": 0,
       "stabilized": false
      }
     },
     "0fb745ee3d5849cf83345e7e83852e8d": {
      "model_module": "@jupyter-widgets/base",
      "model_module_version": "1.1.0",
      "model_name": "LayoutModel",
      "state": {
       "grid_area": "top-left",
       "height": "20px",
       "width": "300px"
      }
     },
     "0fd5a7571731498685149868bdef1267": {
      "model_module": "@jupyter-widgets/controls",
      "model_module_version": "1.4.0",
      "model_name": "GridBoxModel",
      "state": {
       "children": [
        "IPY_MODEL_367eb4d8099747fe8fdb718d8c4eb31c",
        "IPY_MODEL_fc34cd8d0b4c4cf1bbe69eaa08cd5261",
        "IPY_MODEL_ac01fdea3b8e49e182417e774f80b4df",
        "IPY_MODEL_90a7ae6a31504b7d999d8924564cc048"
       ],
       "layout": "IPY_MODEL_0f64988e16b946e4a629b89874797474"
      }
     },
     "0fd975b6a45943ec9aadaa2d7771c712": {
      "model_module": "@jupyter-widgets/base",
      "model_module_version": "1.1.0",
      "model_name": "LayoutModel",
      "state": {
       "align_items": "center",
       "grid_template_areas": "\"top-left bottom-right\"\n\"bottom-left bottom-right\"",
       "grid_template_columns": "1fr 1fr",
       "grid_template_rows": "1fr 1fr",
       "height": "300px",
       "width": "80%"
      }
     },
     "0fe42b095ee44d40b436bf92f3f8f188": {
      "model_module": "@jupyter-widgets/controls",
      "model_module_version": "1.4.0",
      "model_name": "SliderStyleModel",
      "state": {
       "description_width": ""
      }
     },
     "0fedd6e7a0a749b28d8b620bad3d7763": {
      "model_module": "bqplot",
      "model_module_version": "^0.4.5",
      "model_name": "OrdinalScaleModel",
      "state": {
       "domain": []
      }
     },
     "100e72e79bce4f5791fff2635382e69d": {
      "model_module": "bqplot",
      "model_module_version": "^0.4.5",
      "model_name": "LinearScaleModel",
      "state": {
       "max": 0.05,
       "stabilized": false
      }
     },
     "101dbcb0faab4e268cbe36fb4f0b1d54": {
      "model_module": "@jupyter-widgets/controls",
      "model_module_version": "1.4.0",
      "model_name": "FloatSliderModel",
      "state": {
       "layout": "IPY_MODEL_de016bea3bba464fa905ea73ed086847",
       "max": 10,
       "min": 0.05,
       "step": 0.1,
       "style": "IPY_MODEL_46168501a2004648989be4772bbc3475",
       "value": 1.45
      }
     },
     "10261ebf80184f3b854049ebf6af01df": {
      "model_module": "@jupyter-widgets/controls",
      "model_module_version": "1.4.0",
      "model_name": "ButtonModel",
      "state": {
       "description": "Top right",
       "layout": "IPY_MODEL_f68204c3f9a04c7884476fdaa2960d96",
       "style": "IPY_MODEL_9a8f08eb8d3744e99c65cdaedf19dfb8"
      }
     },
     "1048e6d9a82f4fa2a4a4b2c3877c6454": {
      "model_module": "@jupyter-widgets/base",
      "model_module_version": "1.1.0",
      "model_name": "LayoutModel",
      "state": {
       "grid_area": "bottom-left"
      }
     },
     "108e1c98423043958c7ff2dcd0011420": {
      "model_module": "@jupyter-widgets/controls",
      "model_module_version": "1.4.0",
      "model_name": "ButtonModel",
      "state": {
       "description": "Bottom left",
       "layout": "IPY_MODEL_c84a45b7cacb47e19a10f139a7d28039",
       "style": "IPY_MODEL_3bc1e3e15b3f4cdc87020c9019a3dd58"
      }
     },
     "10b5e6a5191d4668bbafa215f97e1e59": {
      "model_module": "@jupyter-widgets/controls",
      "model_module_version": "1.4.0",
      "model_name": "ButtonModel",
      "state": {
       "description": "Top right",
       "layout": "IPY_MODEL_58c46ad21c424b119dca4ad2c087a382",
       "style": "IPY_MODEL_643b404e658f4ba18a261965d378a6a7"
      }
     },
     "10c007e416fc401c992766c9a7f55cca": {
      "model_module": "bqplot",
      "model_module_version": "^0.4.5",
      "model_name": "LinearScaleModel",
      "state": {
       "max": 10,
       "min": 1,
       "stabilized": false
      }
     },
     "112a944d3c2843a88f33a7678cda2f42": {
      "model_module": "@jupyter-widgets/base",
      "model_module_version": "1.1.0",
      "model_name": "LayoutModel",
      "state": {
       "grid_area": "top-left"
      }
     },
     "113d3d817ae446ae9247761db51c2b8d": {
      "model_module": "@jupyter-widgets/controls",
      "model_module_version": "1.4.0",
      "model_name": "ButtonStyleModel",
      "state": {}
     },
     "11c9c808c24f463ab4f76524d5b5abf9": {
      "model_module": "@jupyter-widgets/base",
      "model_module_version": "1.1.0",
      "model_name": "LayoutModel",
      "state": {
       "grid_template_areas": "\"top-left top-right\"\n\"bottom-left top-right\"",
       "grid_template_columns": "1fr 1fr",
       "grid_template_rows": "1fr 1fr",
       "width": "auto"
      }
     },
     "11ed14afcc734fcdada9ad270e4c174d": {
      "model_module": "@jupyter-widgets/base",
      "model_module_version": "1.1.0",
      "model_name": "LayoutModel",
      "state": {
       "grid_template_areas": "\"top-left bottom-right\"\n\"bottom-left bottom-right\"",
       "grid_template_columns": "1fr 1fr",
       "grid_template_rows": "1fr 1fr",
       "width": "auto"
      }
     },
     "11fa3fefece44d89a277110df98bf579": {
      "model_module": "@jupyter-widgets/controls",
      "model_module_version": "1.4.0",
      "model_name": "SliderStyleModel",
      "state": {
       "description_width": ""
      }
     },
     "11fcead536a24cdb90a023bc17603621": {
      "model_module": "@jupyter-widgets/controls",
      "model_module_version": "1.4.0",
      "model_name": "ButtonStyleModel",
      "state": {}
     },
     "1203703d278c46bfb4e3bfe3ff2a465b": {
      "model_module": "@jupyter-widgets/controls",
      "model_module_version": "1.4.0",
      "model_name": "LinkModel",
      "state": {
       "source": [
        "IPY_MODEL_1a24e3de5d58493cba683182888c3045",
        "value"
       ],
       "target": [
        "IPY_MODEL_eab3be38042d463695d5247f7f9aae84",
        "value"
       ]
      }
     },
     "120dfae8c1d8440489a44169f3a924d3": {
      "model_module": "@jupyter-widgets/controls",
      "model_module_version": "1.4.0",
      "model_name": "ButtonStyleModel",
      "state": {}
     },
     "123bf3b8211f48a2b6f54d12db19b713": {
      "model_module": "@jupyter-widgets/controls",
      "model_module_version": "1.4.0",
      "model_name": "FloatSliderModel",
      "state": {
       "layout": "IPY_MODEL_c69297b4e6e2479fa064f7416cae8f6c",
       "max": 1,
       "step": 0.1,
       "style": "IPY_MODEL_ccc24fa7dab74e8dad533160131046a8",
       "value": 0.05
      }
     },
     "127ad87ef8d74b70a26956b7fe482f30": {
      "model_module": "@jupyter-widgets/base",
      "model_module_version": "1.1.0",
      "model_name": "LayoutModel",
      "state": {
       "grid_template_areas": "\"top-left top-right\"\n\"bottom-left bottom-right\"",
       "grid_template_columns": "1fr 1fr",
       "grid_template_rows": "1fr 1fr"
      }
     },
     "12999b9c229e49dcbf4de9775d3161e5": {
      "model_module": "@jupyter-widgets/controls",
      "model_module_version": "1.4.0",
      "model_name": "ButtonStyleModel",
      "state": {}
     },
     "12b11ccd28114a1b94a676076d33d4e8": {
      "model_module": "@jupyter-widgets/controls",
      "model_module_version": "1.4.0",
      "model_name": "ButtonStyleModel",
      "state": {}
     },
     "12e3040ffb5545a7847c97cd19730a31": {
      "model_module": "@jupyter-widgets/base",
      "model_module_version": "1.1.0",
      "model_name": "LayoutModel",
      "state": {
       "grid_area": "bottom-left"
      }
     },
     "12fdbaf378fd4a5ea265abc2698dd460": {
      "model_module": "bqplot",
      "model_module_version": "^0.4.5",
      "model_name": "AxisModel",
      "state": {
       "scale": "IPY_MODEL_5ccfd3ec768144cf9001db5b229119dd",
       "side": "bottom",
       "tick_values": {
        "type": null,
        "values": null
       }
      }
     },
     "13099dd62dc64cc29a8c6babd77385c0": {
      "model_module": "bqplot",
      "model_module_version": "^0.4.5",
      "model_name": "LinearScaleModel",
      "state": {
       "max": 10,
       "min": 1,
       "stabilized": false
      }
     },
     "133e9c6c2ab145cfb7a2d8499fb4a009": {
      "model_module": "@jupyter-widgets/controls",
      "model_module_version": "1.4.0",
      "model_name": "ButtonStyleModel",
      "state": {}
     },
     "133f910b9fc140ccb9ee5c89f6a7cec0": {
      "model_module": "@jupyter-widgets/base",
      "model_module_version": "1.1.0",
      "model_name": "LayoutModel",
      "state": {
       "grid_area": "top-left"
      }
     },
     "134252247e7b4da7884783dc1c0cfcf5": {
      "model_module": "@jupyter-widgets/controls",
      "model_module_version": "1.4.0",
      "model_name": "ButtonStyleModel",
      "state": {}
     },
     "134c61d7144c418583e0fd0e1c864474": {
      "model_module": "@jupyter-widgets/controls",
      "model_module_version": "1.4.0",
      "model_name": "ButtonModel",
      "state": {
       "description": "Bottom right",
       "layout": "IPY_MODEL_74c3b904dbb540e499efed01fba89455",
       "style": "IPY_MODEL_3f12690912c5472a83317108726dbe22"
      }
     },
     "136a65a863ed4430b4db3e104e5018c6": {
      "model_module": "@jupyter-widgets/controls",
      "model_module_version": "1.4.0",
      "model_name": "LinkModel",
      "state": {
       "source": [
        "IPY_MODEL_d0e4e017d4544e87897d5c64976007d7",
        "max"
       ],
       "target": [
        "IPY_MODEL_ceecf6c6be61473cb5672031b59319fb",
        "value"
       ]
      }
     },
     "13712c06af0d418987432eaa72e0cf2e": {
      "model_module": "@jupyter-widgets/base",
      "model_module_version": "1.1.0",
      "model_name": "LayoutModel",
      "state": {
       "grid_area": "bottom-left",
       "width": "20%"
      }
     },
     "13ad77d0f441402c9757a2a1a810d4f8": {
      "model_module": "@jupyter-widgets/controls",
      "model_module_version": "1.4.0",
      "model_name": "ButtonModel",
      "state": {
       "description": "Top right",
       "layout": "IPY_MODEL_2be556030bc7439f9bc17134b5a529f5",
       "style": "IPY_MODEL_65d3fe8a185f4422815c786742d8f91f"
      }
     },
     "13f220fa7f374589b120007cf824dd76": {
      "model_module": "@jupyter-widgets/base",
      "model_module_version": "1.1.0",
      "model_name": "LayoutModel",
      "state": {
       "grid_template_areas": "\"top-left top-right\"\n\"bottom-left bottom-right\"",
       "grid_template_columns": "1fr 1fr",
       "grid_template_rows": "1fr 1fr",
       "width": "auto"
      }
     },
     "1423c5d13e6f48c1bbb5960b454b3dca": {
      "model_module": "@jupyter-widgets/base",
      "model_module_version": "1.1.0",
      "model_name": "LayoutModel",
      "state": {
       "grid_template_areas": "\"top-left bottom-right\"\n\"bottom-left bottom-right\"",
       "grid_template_columns": "1fr 1fr",
       "grid_template_rows": "1fr 1fr",
       "width": "auto"
      }
     },
     "1427c331a288425aaf9f6ab90efa404b": {
      "model_module": "@jupyter-widgets/base",
      "model_module_version": "1.1.0",
      "model_name": "LayoutModel",
      "state": {
       "grid_template_areas": "\"top-left top-right\"\n\"bottom-left bottom-right\"",
       "grid_template_columns": "1fr 1fr",
       "grid_template_rows": "1fr 1fr",
       "width": "auto"
      }
     },
     "143a31647e0b492bb36489fc40fa1540": {
      "model_module": "@jupyter-widgets/controls",
      "model_module_version": "1.4.0",
      "model_name": "FloatSliderModel",
      "state": {
       "description": "Max: ",
       "layout": "IPY_MODEL_dc8fa86b655647608b045c14344484d1",
       "max": 10,
       "min": 1,
       "step": 0.1,
       "style": "IPY_MODEL_2440907e7c7c41ad8b8a23d82ad67e37",
       "value": 5.8
      }
     },
     "143dd964e8ee4eb9b4a4bd3a44808fb2": {
      "model_module": "@jupyter-widgets/controls",
      "model_module_version": "1.4.0",
      "model_name": "GridBoxModel",
      "state": {
       "children": [
        "IPY_MODEL_9f0657705c1c4e27aea1b54c8f609777",
        "IPY_MODEL_4e28cc6b213b499bb8c5c55128724f99",
        "IPY_MODEL_6a8e7af40fad4d059eb9b4327346934b"
       ],
       "layout": "IPY_MODEL_ad92174324974fb59746d4fb2add3c76"
      }
     },
     "1454b1f6231b47f6bfd4c94652d6aee7": {
      "model_module": "@jupyter-widgets/base",
      "model_module_version": "1.1.0",
      "model_name": "LayoutModel",
      "state": {
       "grid_template_areas": "\"top-left bottom-right\"\n\"bottom-left bottom-right\"",
       "grid_template_columns": "1fr 1fr",
       "grid_template_rows": "1fr 1fr",
       "width": "auto"
      }
     },
     "145b55e515f642cea4ae34d0c4e39b4d": {
      "model_module": "@jupyter-widgets/controls",
      "model_module_version": "1.4.0",
      "model_name": "ButtonStyleModel",
      "state": {}
     },
     "1475dde5ae0c4c41b8ca114872fc44bc": {
      "model_module": "@jupyter-widgets/controls",
      "model_module_version": "1.4.0",
      "model_name": "ButtonStyleModel",
      "state": {}
     },
     "14c0f313a686437ca7ec93318a9d13f0": {
      "model_module": "@jupyter-widgets/controls",
      "model_module_version": "1.4.0",
      "model_name": "LinkModel",
      "state": {
       "source": [
        "IPY_MODEL_820f40885b1d4781a4e4abd39ead9b69",
        "min"
       ],
       "target": [
        "IPY_MODEL_ac5b204600c34dcb93fbf3a842102fa2",
        "value"
       ]
      }
     },
     "14ca64f83849461d904c903df8dac917": {
      "model_module": "bqplot",
      "model_module_version": "^0.4.5",
      "model_name": "AxisModel",
      "state": {
       "orientation": "vertical",
       "scale": "IPY_MODEL_90dbb1b5a05e4a10b4004bbd57c6a1bf",
       "side": "left",
       "tick_format": "0.2f",
       "tick_values": {
        "type": null,
        "values": null
       }
      }
     },
     "15050d3849094a20a83792be8d73554e": {
      "model_module": "@jupyter-widgets/controls",
      "model_module_version": "1.4.0",
      "model_name": "ButtonStyleModel",
      "state": {}
     },
     "150e486040b243af88aa99ac2c3dc5dc": {
      "model_module": "@jupyter-widgets/controls",
      "model_module_version": "1.4.0",
      "model_name": "GridBoxModel",
      "state": {
       "children": [
        "IPY_MODEL_21158ef2641b45e5ba6e8a970b489d87",
        "IPY_MODEL_7a697e5225c54f38952f1991e71a81f0",
        "IPY_MODEL_9ce13ba876684c5888562d038222ccef",
        "IPY_MODEL_ab6d98f74db544769ccd71f5d8d2809f"
       ],
       "layout": "IPY_MODEL_1c2eb667604849938435052c53042939"
      }
     },
     "1526cf477a1c4e5aada1003ac296f160": {
      "model_module": "bqplot",
      "model_module_version": "^0.4.5",
      "model_name": "LinearScaleModel",
      "state": {
       "allow_padding": false,
       "max": 1,
       "min": 0,
       "stabilized": false
      }
     },
     "1533b95e93f24f9db4aa7b9ea36f0f0a": {
      "model_module": "@jupyter-widgets/base",
      "model_module_version": "1.1.0",
      "model_name": "LayoutModel",
      "state": {
       "grid_area": "bottom-right",
       "height": "100%"
      }
     },
     "153df6b0dd2640cc8d662afcfbe60296": {
      "model_module": "@jupyter-widgets/controls",
      "model_module_version": "1.4.0",
      "model_name": "LinkModel",
      "state": {
       "source": [
        "IPY_MODEL_a0e535563e734d7c929136194a5674e5",
        "value"
       ],
       "target": [
        "IPY_MODEL_26c131b812904895b49db8d30c652708",
        "value"
       ]
      }
     },
     "1576111194ea48f28ed058bf983ce963": {
      "model_module": "@jupyter-widgets/base",
      "model_module_version": "1.1.0",
      "model_name": "LayoutModel",
      "state": {
       "grid_template_areas": "\"top-left top-right\"\n\"bottom-left bottom-right\"",
       "grid_template_columns": "1fr 1fr",
       "grid_template_rows": "1fr 1fr"
      }
     },
     "15872ee60858425cbf8e7340f6be4bf7": {
      "model_module": "@jupyter-widgets/controls",
      "model_module_version": "1.4.0",
      "model_name": "IntTextModel",
      "state": {
       "layout": "IPY_MODEL_53686fb53c754662bfabdbee7a92257b",
       "step": 1,
       "style": "IPY_MODEL_0d19b3abe4994fffab967163f150695c",
       "value": 26
      }
     },
     "1595c01ddaed4092ba33f554fa191f8a": {
      "model_module": "bqplot",
      "model_module_version": "^0.4.5",
      "model_name": "FigureModel",
      "state": {
       "_dom_classes": [],
       "axes": [
        "IPY_MODEL_e3aff95381c0472b919710ea17dcaca5",
        "IPY_MODEL_15b2c64fdd054ae499bbecc1384337cf"
       ],
       "layout": "IPY_MODEL_7c297d99d65d46588880c4d76b8a7122",
       "marks": [
        "IPY_MODEL_cd47bc74994044bdb21cc391f51e1110"
       ],
       "padding_x": 0.025,
       "scale_x": "IPY_MODEL_a39ceeaddcc94c6a8851b93a30d3be46",
       "scale_y": "IPY_MODEL_30ff45408dfa43c8afd071d89a7a3c4a"
      }
     },
     "1596b5bb3e7d46ffa2d82183d95bcdaa": {
      "model_module": "@jupyter-widgets/controls",
      "model_module_version": "1.4.0",
      "model_name": "ButtonModel",
      "state": {
       "description": "Bottom right",
       "layout": "IPY_MODEL_f821a146ce0a486797b9689df8f26b0b",
       "style": "IPY_MODEL_cf9041caa9a745e0b0dca6123e6544fc"
      }
     },
     "15a0d3932c63480fa4abec492b4ef1c1": {
      "model_module": "@jupyter-widgets/controls",
      "model_module_version": "1.4.0",
      "model_name": "ButtonStyleModel",
      "state": {}
     },
     "15b2c64fdd054ae499bbecc1384337cf": {
      "model_module": "bqplot",
      "model_module_version": "^0.4.5",
      "model_name": "AxisModel",
      "state": {
       "orientation": "vertical",
       "scale": "IPY_MODEL_e08a3201c7e646c48adec34b7f51a934",
       "side": "left",
       "tick_format": "0.2f",
       "tick_values": {
        "type": null,
        "values": null
       }
      }
     },
     "15ec7524f07c42659a158a8eea26d508": {
      "model_module": "@jupyter-widgets/base",
      "model_module_version": "1.1.0",
      "model_name": "LayoutModel",
      "state": {
       "grid_template_areas": "\"top-left top-right\"\n\"bottom-left top-right\"",
       "grid_template_columns": "1fr 1fr",
       "grid_template_rows": "1fr 1fr",
       "width": "auto"
      }
     },
     "15ff5f52f2d04d10a8ac474e4c366d1e": {
      "model_module": "@jupyter-widgets/controls",
      "model_module_version": "1.4.0",
      "model_name": "GridBoxModel",
      "state": {
       "children": [
        "IPY_MODEL_ea5c06826b184a7e98f7219d95d9f6cb",
        "IPY_MODEL_c5d168b9900047babc458f305de214b9",
        "IPY_MODEL_1e4c23884f7040c39c0b4706b1e501ae"
       ],
       "layout": "IPY_MODEL_caf7133bf24244648ad0dc86b14fe0c6"
      }
     },
     "1624bab625774837afb5fe6cc3d6e0d2": {
      "model_module": "@jupyter-widgets/controls",
      "model_module_version": "1.4.0",
      "model_name": "ButtonStyleModel",
      "state": {}
     },
     "165a085f70984b24abcc4c7f908305a7": {
      "model_module": "@jupyter-widgets/controls",
      "model_module_version": "1.4.0",
      "model_name": "ButtonStyleModel",
      "state": {}
     },
     "1682b821c0934b3eaf7f0643fa2d19cd": {
      "model_module": "@jupyter-widgets/controls",
      "model_module_version": "1.4.0",
      "model_name": "ButtonModel",
      "state": {
       "description": "Bottom right",
       "layout": "IPY_MODEL_34ad9dc233c3488394cb1a0dea56c2b0",
       "style": "IPY_MODEL_3d8e03e8bb364503878c3a0f14a6b47a"
      }
     },
     "1698f63d81874979b12e02bfec0cd3bd": {
      "model_module": "@jupyter-widgets/controls",
      "model_module_version": "1.4.0",
      "model_name": "ButtonModel",
      "state": {
       "description": "Bottom right",
       "layout": "IPY_MODEL_0cc8468a88b94a8fb77bbfa961a6dfa5",
       "style": "IPY_MODEL_98ad048de6d64565a8eac780474b4d74"
      }
     },
     "16aca47cbfb94bd89d73a1fdaf421b6c": {
      "model_module": "@jupyter-widgets/controls",
      "model_module_version": "1.4.0",
      "model_name": "IntTextModel",
      "state": {
       "layout": "IPY_MODEL_f1442a7b2d2e4614b4d6016a755119a2",
       "step": 1,
       "style": "IPY_MODEL_c6daead11e1642338d1f951b7a3ecdf4",
       "value": 30
      }
     },
     "16e99f0845e84c03ad7fb4bed843c767": {
      "model_module": "@jupyter-widgets/controls",
      "model_module_version": "1.4.0",
      "model_name": "GridBoxModel",
      "state": {
       "children": [
        "IPY_MODEL_b3328fe3e2ea43df82d2fadf4b21eda9",
        "IPY_MODEL_5d759a18b39c4424930095201f96ccd3",
        "IPY_MODEL_8c7323c7f3a24eb49ab339651a1e252c",
        "IPY_MODEL_acd08279bf144a79aaa2d3be3ee1845f"
       ],
       "layout": "IPY_MODEL_72ace85268464596b43318e8ff67a4c8"
      }
     },
     "170b944ebfbc4211a0604011ec9091a1": {
      "model_module": "@jupyter-widgets/controls",
      "model_module_version": "1.4.0",
      "model_name": "ButtonStyleModel",
      "state": {}
     },
     "170bd4565f544e8b95d107cd9257bd75": {
      "model_module": "@jupyter-widgets/controls",
      "model_module_version": "1.4.0",
      "model_name": "ButtonModel",
      "state": {
       "description": "Top right",
       "layout": "IPY_MODEL_e1a99a567b1e44fbafb3b8972d111029",
       "style": "IPY_MODEL_d343dce489624c019da11bfb57b60ff6"
      }
     },
     "1718b03fa52c478facbafb7ff9720197": {
      "model_module": "@jupyter-widgets/controls",
      "model_module_version": "1.4.0",
      "model_name": "ButtonStyleModel",
      "state": {}
     },
     "172a473aac214825829ddf7f7b146f6d": {
      "model_module": "@jupyter-widgets/base",
      "model_module_version": "1.1.0",
      "model_name": "LayoutModel",
      "state": {
       "grid_area": "top-left"
      }
     },
     "1747fcfe65054196b7faebced5f680b3": {
      "model_module": "@jupyter-widgets/controls",
      "model_module_version": "1.4.0",
      "model_name": "GridBoxModel",
      "state": {
       "children": [
        "IPY_MODEL_fa64e10f0cf24c2fb8878a34737c0ad6",
        "IPY_MODEL_55f70d2dd72f4ed684140177ff2aa80d",
        "IPY_MODEL_8b78b89a314640eb8930299f5690a126"
       ],
       "layout": "IPY_MODEL_dc43184717ee4ef3a0e079bd02b86f16"
      }
     },
     "174b340b887940728eae9a1589c2cf87": {
      "model_module": "@jupyter-widgets/controls",
      "model_module_version": "1.4.0",
      "model_name": "SliderStyleModel",
      "state": {
       "description_width": ""
      }
     },
     "174f3a327d6e4b0db096cc5c42c152c7": {
      "model_module": "@jupyter-widgets/controls",
      "model_module_version": "1.4.0",
      "model_name": "FloatSliderModel",
      "state": {
       "description": "Min: ",
       "layout": "IPY_MODEL_dba01eaac71d4ea0a851058e741e1649",
       "max": 1,
       "step": 0.1,
       "style": "IPY_MODEL_5820826b6a604449b4808ef4734c59e8"
      }
     },
     "175518e72b774d0da294571b876e34c8": {
      "model_module": "@jupyter-widgets/base",
      "model_module_version": "1.1.0",
      "model_name": "LayoutModel",
      "state": {
       "grid_template_areas": "\"top-left top-right\"\n\"bottom-left bottom-right\"",
       "grid_template_columns": "1fr 1fr",
       "grid_template_rows": "1fr 1fr"
      }
     },
     "175a76c090de4e62a580720ab592e345": {
      "model_module": "@jupyter-widgets/controls",
      "model_module_version": "1.4.0",
      "model_name": "LinkModel",
      "state": {
       "source": [
        "IPY_MODEL_675e508065eb411d9459bee5d03b3d25",
        "min"
       ],
       "target": [
        "IPY_MODEL_305730ec8891412cab9bf15cd8c096ec",
        "value"
       ]
      }
     },
     "176db12535124fd68de587e10f869dc3": {
      "model_module": "@jupyter-widgets/base",
      "model_module_version": "1.1.0",
      "model_name": "LayoutModel",
      "state": {
       "grid_template_areas": "\"top-left top-left\"\n\"bottom-left bottom-left\"",
       "grid_template_columns": "1fr 1fr",
       "grid_template_rows": "1fr 1fr",
       "width": "auto"
      }
     },
     "176fd6dfc04a46df8479fef2917b036e": {
      "model_module": "@jupyter-widgets/base",
      "model_module_version": "1.1.0",
      "model_name": "LayoutModel",
      "state": {
       "grid_template_areas": "\"top-left bottom-right\"\n\"bottom-left bottom-right\"",
       "grid_template_columns": "1fr 1fr",
       "grid_template_rows": "1fr 1fr",
       "width": "auto"
      }
     },
     "177d2db707f54fb98b71c2b6c542ad69": {
      "model_module": "@jupyter-widgets/controls",
      "model_module_version": "1.4.0",
      "model_name": "FloatSliderModel",
      "state": {
       "description": "Max: ",
       "layout": "IPY_MODEL_b453d81ae33b45efacb3ac8a7854fc45",
       "max": 10,
       "min": 1,
       "step": 0.1,
       "style": "IPY_MODEL_098bb618ab8f4af4a432217a6853482f",
       "value": 10
      }
     },
     "17c81ff2aca94b88982d05a1acfc8381": {
      "model_module": "@jupyter-widgets/base",
      "model_module_version": "1.1.0",
      "model_name": "LayoutModel",
      "state": {
       "grid_area": "top-left"
      }
     },
     "17cdd8bd9da84181a663441117dd3fb8": {
      "model_module": "@jupyter-widgets/controls",
      "model_module_version": "1.4.0",
      "model_name": "SliderStyleModel",
      "state": {
       "description_width": ""
      }
     },
     "17ef0daa10774fd8950a14b16c60ab6e": {
      "model_module": "@jupyter-widgets/base",
      "model_module_version": "1.1.0",
      "model_name": "LayoutModel",
      "state": {
       "grid_area": "top-left",
       "width": "200px"
      }
     },
     "1812c55875784e189d4ac95821b96e3f": {
      "model_module": "@jupyter-widgets/base",
      "model_module_version": "1.1.0",
      "model_name": "LayoutModel",
      "state": {
       "grid_template_areas": "\"top-left top-right\"\n\"bottom-left bottom-right\"",
       "grid_template_columns": "1fr 1fr",
       "grid_template_rows": "1fr 1fr",
       "width": "auto"
      }
     },
     "185b395d3df44405a775db8de29982d7": {
      "model_module": "@jupyter-widgets/base",
      "model_module_version": "1.1.0",
      "model_name": "LayoutModel",
      "state": {
       "grid_area": "bottom-right",
       "height": "auto",
       "width": "auto"
      }
     },
     "186aab07411b413abd7177038f3975ff": {
      "model_module": "@jupyter-widgets/base",
      "model_module_version": "1.1.0",
      "model_name": "LayoutModel",
      "state": {
       "grid_template_areas": "\"top-left top-right\"\n\"bottom-left bottom-right\"",
       "grid_template_columns": "1fr 1fr",
       "grid_template_rows": "1fr 1fr",
       "width": "auto"
      }
     },
     "1879fb7df8e647099dcb6f3d5705d9f5": {
      "model_module": "@jupyter-widgets/controls",
      "model_module_version": "1.4.0",
      "model_name": "ButtonModel",
      "state": {
       "description": "Bottom left",
       "layout": "IPY_MODEL_d42b6daa2693430d9c22bb5df8eb153c",
       "style": "IPY_MODEL_07ac928c93b44d17936d90c326fd366c"
      }
     },
     "187b509f0bc24a46b9762a6674b32edd": {
      "model_module": "@jupyter-widgets/controls",
      "model_module_version": "1.4.0",
      "model_name": "ButtonStyleModel",
      "state": {}
     },
     "18992a3582b442fbb8f343219ea349c7": {
      "model_module": "@jupyter-widgets/base",
      "model_module_version": "1.1.0",
      "model_name": "LayoutModel",
      "state": {
       "grid_area": "bottom-right",
       "min_width": "125px"
      }
     },
     "189f31cc8f744f1e89b2ffedbc1cbf33": {
      "model_module": "@jupyter-widgets/controls",
      "model_module_version": "1.4.0",
      "model_name": "ButtonStyleModel",
      "state": {}
     },
     "18a0df4fdb4f48e887ed49a43561029c": {
      "model_module": "@jupyter-widgets/controls",
      "model_module_version": "1.4.0",
      "model_name": "ButtonModel",
      "state": {
       "description": "Top right",
       "layout": "IPY_MODEL_88a8d76ff983456fbfc4acbc3a1adeea",
       "style": "IPY_MODEL_8554d87bb0ec4bab83c9981d7953849c"
      }
     },
     "18af7109cef448a7b082dc06e601030d": {
      "model_module": "@jupyter-widgets/base",
      "model_module_version": "1.1.0",
      "model_name": "LayoutModel",
      "state": {
       "grid_template_areas": "\"top-left bottom-right\"\n\"bottom-left bottom-right\"",
       "grid_template_columns": "1fr 1fr",
       "grid_template_rows": "1fr 1fr",
       "width": "auto"
      }
     },
     "18b211435380412e8031034c451a9583": {
      "model_module": "@jupyter-widgets/controls",
      "model_module_version": "1.4.0",
      "model_name": "LinkModel",
      "state": {
       "source": [
        "IPY_MODEL_6e75f3c250b74904a7b2761e466af520",
        "min"
       ],
       "target": [
        "IPY_MODEL_954df58bf5964c8d8efb709000f62168",
        "value"
       ]
      }
     },
     "18b706f21a0c4388af44d7f7a284c3df": {
      "model_module": "@jupyter-widgets/controls",
      "model_module_version": "1.4.0",
      "model_name": "SliderStyleModel",
      "state": {
       "description_width": ""
      }
     },
     "18c519c60da54703b4103350506e39be": {
      "model_module": "@jupyter-widgets/controls",
      "model_module_version": "1.4.0",
      "model_name": "ButtonModel",
      "state": {
       "description": "Bottom right",
       "layout": "IPY_MODEL_713e18febce94d67ab0e592222952430",
       "style": "IPY_MODEL_bc38e51f8bb34450a666121bd87b68e2"
      }
     },
     "18de15783c034e38b84615b3fbb0733b": {
      "model_module": "bqplot",
      "model_module_version": "^0.4.5",
      "model_name": "LinearScaleModel",
      "state": {
       "allow_padding": false,
       "max": 1,
       "min": 0,
       "stabilized": false
      }
     },
     "18ebceb66b6f47ed853d312211a80371": {
      "model_module": "@jupyter-widgets/controls",
      "model_module_version": "1.4.0",
      "model_name": "IntTextModel",
      "state": {
       "layout": "IPY_MODEL_815c7c773b5b404ca18e7363c9f5aa24",
       "step": 1,
       "style": "IPY_MODEL_34031bd2d1c6462ca2ddb29914118260",
       "value": 30
      }
     },
     "18fb60589a0b4fb791788460eaad00cb": {
      "model_module": "@jupyter-widgets/base",
      "model_module_version": "1.1.0",
      "model_name": "LayoutModel",
      "state": {}
     },
     "190e11872caa43b4ad8c6e3f2070582b": {
      "model_module": "@jupyter-widgets/base",
      "model_module_version": "1.1.0",
      "model_name": "LayoutModel",
      "state": {
       "grid_template_areas": "\"top-left bottom-right\"\n\"bottom-left bottom-right\"",
       "grid_template_columns": "1fr 1fr",
       "grid_template_rows": "1fr 1fr",
       "width": "auto"
      }
     },
     "1922a5ad523c4719824c61cb3b7f3c5b": {
      "model_module": "@jupyter-widgets/controls",
      "model_module_version": "1.4.0",
      "model_name": "ButtonModel",
      "state": {
       "description": "Top left",
       "layout": "IPY_MODEL_30ad37700b3b4c11939d8df91d7a420f",
       "style": "IPY_MODEL_881422266cb9473cadff370ebf1eac2e"
      }
     },
     "1986c1e8634345d98856a8f6a1746311": {
      "model_module": "@jupyter-widgets/controls",
      "model_module_version": "1.4.0",
      "model_name": "ButtonModel",
      "state": {
       "description": "Bottom left",
       "layout": "IPY_MODEL_b3112fd8c4c549368db10c1a130bf496",
       "style": "IPY_MODEL_c541d4e62a2848188af84614ba64c583"
      }
     },
     "199ccac107604a829f021830ab950d4a": {
      "model_module": "@jupyter-widgets/controls",
      "model_module_version": "1.4.0",
      "model_name": "ButtonModel",
      "state": {
       "description": "Top left",
       "layout": "IPY_MODEL_9ac6648d6524492da70992d5c6f90886",
       "style": "IPY_MODEL_8b9b729ed10a4fa19cddbc80d9b1fecb"
      }
     },
     "19b9b269bc454da0a574695641b48f45": {
      "model_module": "bqplot",
      "model_module_version": "^0.4.5",
      "model_name": "BarsModel",
      "state": {
       "color": {
        "type": null,
        "values": null
       },
       "colors": [
        "steelblue"
       ],
       "display_legend": false,
       "scales": {
        "x": "IPY_MODEL_89e5d6f8a128431b971798f505f8ae81",
        "y": "IPY_MODEL_f3dd77a40aa546008e8281518c98989d"
       },
       "selected": [],
       "x": {
        "type": "float",
        "values": [
         0,
         1,
         2,
         3,
         4,
         5,
         6,
         7,
         8,
         9
        ]
       },
       "y": {
        "type": "float",
        "values": [
         0.6288984390617004,
         0.3984342586196771,
         0.0627129520233457,
         0.42403225188984195,
         0.2586840668894077,
         0.8490383084285108,
         0.03330462654669619,
         0.9589827218634736,
         0.3553688484719296,
         0.3567068904025429
        ]
       }
      }
     },
     "19c78b5565b6441798d73c5a3182c3ca": {
      "model_module": "@jupyter-widgets/base",
      "model_module_version": "1.1.0",
      "model_name": "LayoutModel",
      "state": {
       "grid_area": "bottom-left"
      }
     },
     "19da19927b68484ca2ff7b3871442936": {
      "model_module": "@jupyter-widgets/controls",
      "model_module_version": "1.4.0",
      "model_name": "ButtonStyleModel",
      "state": {}
     },
     "1a24e3de5d58493cba683182888c3045": {
      "model_module": "@jupyter-widgets/controls",
      "model_module_version": "1.4.0",
      "model_name": "IntTextModel",
      "state": {
       "layout": "IPY_MODEL_d8d42de356594207a969f7c5a2db808a",
       "step": 1,
       "style": "IPY_MODEL_73a8a1c57bb445ef9df43a470638c8a7",
       "value": 30
      }
     },
     "1a5a184177f347c3a6d8496749ea0bdd": {
      "model_module": "@jupyter-widgets/controls",
      "model_module_version": "1.4.0",
      "model_name": "ButtonModel",
      "state": {
       "description": "Bottom left",
       "layout": "IPY_MODEL_7e36f0ce71bf4d429dd3ab38ec6a5df5",
       "style": "IPY_MODEL_24bb9cd22eb948f99008cf4ff1113799"
      }
     },
     "1a5f3a251be549f49e37f6619eb9916b": {
      "model_module": "@jupyter-widgets/controls",
      "model_module_version": "1.4.0",
      "model_name": "DescriptionStyleModel",
      "state": {
       "description_width": ""
      }
     },
     "1a5f8e76c8ee4b9ea8612c2eedd42bfe": {
      "model_module": "@jupyter-widgets/controls",
      "model_module_version": "1.4.0",
      "model_name": "ButtonModel",
      "state": {
       "description": "Bottom right",
       "layout": "IPY_MODEL_b2b5dc0c04ca455c952d9f9a3a7dcd06",
       "style": "IPY_MODEL_978317c961834d45bf8f3a7e5c06c9e6"
      }
     },
     "1a88ff3d9a254158b2cc33708adb2077": {
      "model_module": "@jupyter-widgets/controls",
      "model_module_version": "1.4.0",
      "model_name": "ButtonModel",
      "state": {
       "description": "Top left",
       "layout": "IPY_MODEL_0d81b2e7cbd24b2d8317847ef7993a5b",
       "style": "IPY_MODEL_523278c4356b48f3859a3362e86622ff"
      }
     },
     "1a99be23e42149ca952353237547a76d": {
      "model_module": "@jupyter-widgets/base",
      "model_module_version": "1.1.0",
      "model_name": "LayoutModel",
      "state": {
       "grid_area": "bottom-left"
      }
     },
     "1ace943fe3914c6aa8ea398f1276dbe6": {
      "model_module": "@jupyter-widgets/controls",
      "model_module_version": "1.4.0",
      "model_name": "SliderStyleModel",
      "state": {
       "description_width": ""
      }
     },
     "1b115d3b1ebc4bab89bd3d7c9ac207fd": {
      "model_module": "bqplot",
      "model_module_version": "^0.4.5",
      "model_name": "BarsModel",
      "state": {
       "color": {
        "type": null,
        "values": null
       },
       "colors": [
        "steelblue"
       ],
       "display_legend": false,
       "scales": {
        "x": "IPY_MODEL_4775e8c3ffa6498a90ec0743c810a5e3",
        "y": "IPY_MODEL_6e75f3c250b74904a7b2761e466af520"
       },
       "selected": [],
       "x": {
        "type": "float",
        "values": [
         0,
         1,
         2,
         3,
         4,
         5,
         6,
         7,
         8,
         9
        ]
       },
       "y": {
        "type": "float",
        "values": [
         0.6288984390617004,
         0.3984342586196771,
         0.0627129520233457,
         0.42403225188984195,
         0.2586840668894077,
         0.8490383084285108,
         0.03330462654669619,
         0.9589827218634736,
         0.3553688484719296,
         0.3567068904025429
        ]
       }
      }
     },
     "1b1444271e26441ebfaf319ee72f3794": {
      "model_module": "@jupyter-widgets/controls",
      "model_module_version": "1.4.0",
      "model_name": "ButtonStyleModel",
      "state": {}
     },
     "1b34b07c995b456b907c08ba08e90b24": {
      "model_module": "@jupyter-widgets/controls",
      "model_module_version": "1.4.0",
      "model_name": "ButtonModel",
      "state": {
       "description": "Top right",
       "layout": "IPY_MODEL_f3ad600d846f40b4a31d812eb1c7d36e",
       "style": "IPY_MODEL_a43b4dc261f94ca1a0467e59677587f4"
      }
     },
     "1b37e43bec7c4c319d02a5688a4a6606": {
      "model_module": "@jupyter-widgets/controls",
      "model_module_version": "1.4.0",
      "model_name": "ButtonModel",
      "state": {
       "description": "Top right",
       "layout": "IPY_MODEL_b75f2d3042714cf5bec464600230cce0",
       "style": "IPY_MODEL_3a1e855e705f43e7980f3a1ddb17cfe3"
      }
     },
     "1bcc5ce319284486bafce0bf043f7a79": {
      "model_module": "@jupyter-widgets/controls",
      "model_module_version": "1.4.0",
      "model_name": "GridBoxModel",
      "state": {
       "children": [
        "IPY_MODEL_5a2d2167b11c4c0d9b7daba1754e0747",
        "IPY_MODEL_934b815b91be4592b116c7a1421631b6"
       ],
       "layout": "IPY_MODEL_bbbdd32706df444691c9f491788bc934"
      }
     },
     "1bd17a2f87e34eb694b0ccb44617e25c": {
      "model_module": "@jupyter-widgets/base",
      "model_module_version": "1.1.0",
      "model_name": "LayoutModel",
      "state": {
       "grid_template_areas": "\"top-left top-right\"\n\"bottom-left bottom-right\"",
       "grid_template_columns": "1fr 1fr",
       "grid_template_rows": "1fr 1fr"
      }
     },
     "1bee444f13454c188c2879511d63711e": {
      "model_module": "@jupyter-widgets/base",
      "model_module_version": "1.1.0",
      "model_name": "LayoutModel",
      "state": {
       "grid_area": "bottom-left",
       "width": "auto"
      }
     },
     "1c0e98064b4742a4924df73c95a104d8": {
      "model_module": "@jupyter-widgets/controls",
      "model_module_version": "1.4.0",
      "model_name": "ButtonStyleModel",
      "state": {}
     },
     "1c2eb667604849938435052c53042939": {
      "model_module": "@jupyter-widgets/base",
      "model_module_version": "1.1.0",
      "model_name": "LayoutModel",
      "state": {
       "grid_template_areas": "\"top-left top-right\"\n\"bottom-left bottom-right\"",
       "grid_template_columns": "1fr 1fr",
       "grid_template_rows": "1fr 1fr"
      }
     },
     "1ca9f6b60b904fcebe040e5f9f64ad82": {
      "model_module": "@jupyter-widgets/controls",
      "model_module_version": "1.4.0",
      "model_name": "ButtonStyleModel",
      "state": {}
     },
     "1cb4087ded5948ecbd0684da22d0481f": {
      "model_module": "bqplot",
      "model_module_version": "^0.4.5",
      "model_name": "OrdinalScaleModel",
      "state": {
       "domain": []
      }
     },
     "1cd1d96c56ba45c6b8fcdd302f614b92": {
      "model_module": "@jupyter-widgets/base",
      "model_module_version": "1.1.0",
      "model_name": "LayoutModel",
      "state": {
       "grid_area": "top-left"
      }
     },
     "1cd1fb8f65c446458bf7e6a4441f0fab": {
      "model_module": "bqplot",
      "model_module_version": "^0.4.5",
      "model_name": "FigureModel",
      "state": {
       "_dom_classes": [],
       "axes": [
        "IPY_MODEL_b1975b8b5f00470b96d250858eda5806",
        "IPY_MODEL_8740578f56d447a0a2a952c900228f74"
       ],
       "layout": "IPY_MODEL_56796a3ae5114e45bd7975d9d7656aa7",
       "marks": [
        "IPY_MODEL_094d718ece1b40e38785d475a378cced"
       ],
       "padding_x": 0.025,
       "scale_x": "IPY_MODEL_26dbddb7e0034f8bb9ab7e33ccad394a",
       "scale_y": "IPY_MODEL_42c799fc4aaf4933b252932d1dd1e50f"
      }
     },
     "1ce54356c9c04db68e449bfd9ba28fe5": {
      "model_module": "@jupyter-widgets/controls",
      "model_module_version": "1.4.0",
      "model_name": "ButtonStyleModel",
      "state": {}
     },
     "1d15316d23c04e84bfa5ef3121b9733c": {
      "model_module": "@jupyter-widgets/controls",
      "model_module_version": "1.4.0",
      "model_name": "LinkModel",
      "state": {
       "source": [
        "IPY_MODEL_6e75f3c250b74904a7b2761e466af520",
        "max"
       ],
       "target": [
        "IPY_MODEL_070ca8fa7990495ab9b21a804980fc8b",
        "value"
       ]
      }
     },
     "1d171fd10d1a400ab7480ad20fc5ee33": {
      "model_module": "@jupyter-widgets/base",
      "model_module_version": "1.1.0",
      "model_name": "LayoutModel",
      "state": {
       "grid_template_areas": "\"top-left top-right\"\n\"bottom-left bottom-right\"",
       "grid_template_columns": "1fr 1fr",
       "grid_template_rows": "1fr 1fr",
       "width": "auto"
      }
     },
     "1d4b2fdbffe24344bf26c63a76fac13d": {
      "model_module": "@jupyter-widgets/controls",
      "model_module_version": "1.4.0",
      "model_name": "LinkModel",
      "state": {
       "source": [
        "IPY_MODEL_6e75f3c250b74904a7b2761e466af520",
        "min"
       ],
       "target": [
        "IPY_MODEL_57fae54e8c2c4f1f83ba32b847c8d29c",
        "value"
       ]
      }
     },
     "1d6c03d1cbe74039b702f72f07ee9842": {
      "model_module": "@jupyter-widgets/controls",
      "model_module_version": "1.4.0",
      "model_name": "ButtonStyleModel",
      "state": {}
     },
     "1d773d594e2f49be9c9db49d3a574f01": {
      "model_module": "@jupyter-widgets/controls",
      "model_module_version": "1.4.0",
      "model_name": "LinkModel",
      "state": {
       "source": [
        "IPY_MODEL_fc11ab93b8894a1da80a45d5a56a5136",
        "min"
       ],
       "target": [
        "IPY_MODEL_6a59c5555c244467b88fc030459fd1b9",
        "value"
       ]
      }
     },
     "1d93912edc9144f089fff741e3f0551f": {
      "model_module": "@jupyter-widgets/base",
      "model_module_version": "1.1.0",
      "model_name": "LayoutModel",
      "state": {
       "align_items": "center"
      }
     },
     "1d9a2dccc5df4d188b2b6369487b4b23": {
      "model_module": "@jupyter-widgets/base",
      "model_module_version": "1.1.0",
      "model_name": "LayoutModel",
      "state": {
       "grid_template_areas": "\"top-left top-right\"\n\"bottom-left bottom-right\"",
       "grid_template_columns": "1fr 1fr",
       "grid_template_rows": "1fr 1fr",
       "width": "auto"
      }
     },
     "1d9aef381a314d4fa5360d670e772dd6": {
      "model_module": "@jupyter-widgets/controls",
      "model_module_version": "1.4.0",
      "model_name": "LinkModel",
      "state": {
       "source": [
        "IPY_MODEL_820f40885b1d4781a4e4abd39ead9b69",
        "max"
       ],
       "target": [
        "IPY_MODEL_f67b8232dc4b4da1b0533fdc8a06e343",
        "value"
       ]
      }
     },
     "1d9fb476eb7c4b75847ac7e3819e7d3d": {
      "model_module": "@jupyter-widgets/base",
      "model_module_version": "1.1.0",
      "model_name": "LayoutModel",
      "state": {
       "align_items": "center",
       "grid_template_areas": "\"top-left bottom-right\"\n\"bottom-left bottom-right\"",
       "grid_template_columns": "1fr 1fr",
       "grid_template_rows": "1fr 1fr",
       "height": "300px",
       "width": "80%"
      }
     },
     "1dacd88b4721438fb78cc49ff0d9f501": {
      "model_module": "@jupyter-widgets/controls",
      "model_module_version": "1.4.0",
      "model_name": "SliderStyleModel",
      "state": {
       "description_width": ""
      }
     },
     "1dc88ffdb6f8431a9cf74e3f92bf235b": {
      "model_module": "@jupyter-widgets/controls",
      "model_module_version": "1.4.0",
      "model_name": "LinkModel",
      "state": {
       "source": [
        "IPY_MODEL_af03975b03524da1b6983ca1a51f00a9",
        "min"
       ],
       "target": [
        "IPY_MODEL_9c3043629aa946029d6cd03de1067204",
        "value"
       ]
      }
     },
     "1ddbe16e4df641a690eb25d7d7cb868c": {
      "model_module": "@jupyter-widgets/base",
      "model_module_version": "1.1.0",
      "model_name": "LayoutModel",
      "state": {
       "grid_area": "top-left"
      }
     },
     "1e2afeffdafd49ebafa19591e54ea23d": {
      "model_module": "@jupyter-widgets/base",
      "model_module_version": "1.1.0",
      "model_name": "LayoutModel",
      "state": {
       "grid_template_areas": "\"top-left bottom-right\"\n\"bottom-left bottom-right\"",
       "grid_template_columns": "1fr 1fr",
       "grid_template_rows": "1fr 1fr"
      }
     },
     "1e4c23884f7040c39c0b4706b1e501ae": {
      "model_module": "@jupyter-widgets/controls",
      "model_module_version": "1.4.0",
      "model_name": "ButtonModel",
      "state": {
       "description": "Bottom right",
       "layout": "IPY_MODEL_c8489132d5af423e852c66c00dc994c2",
       "style": "IPY_MODEL_0c0ed9a33e574070b02ac06b4a719670"
      }
     },
     "1e5bb848c6714dd2a3201723849a9b92": {
      "model_module": "@jupyter-widgets/controls",
      "model_module_version": "1.4.0",
      "model_name": "ButtonStyleModel",
      "state": {}
     },
     "1e9aafe9ae564e60baae12db4199b946": {
      "model_module": "@jupyter-widgets/controls",
      "model_module_version": "1.4.0",
      "model_name": "ButtonModel",
      "state": {
       "description": "Bottom right",
       "layout": "IPY_MODEL_8ad05ff90bf64e679490694cce2fc665",
       "style": "IPY_MODEL_1ce54356c9c04db68e449bfd9ba28fe5"
      }
     },
     "1ea5e78ed3034ff995c3d9161772341e": {
      "model_module": "bqplot",
      "model_module_version": "^0.4.5",
      "model_name": "LinearScaleModel",
      "state": {
       "allow_padding": false,
       "max": 1,
       "min": 0,
       "stabilized": false
      }
     },
     "1eb7e948ed774161bfd3d2cc58b832d8": {
      "model_module": "@jupyter-widgets/controls",
      "model_module_version": "1.4.0",
      "model_name": "SliderStyleModel",
      "state": {
       "description_width": ""
      }
     },
     "1ed367e9790f47af9c1067156484e8f3": {
      "model_module": "@jupyter-widgets/controls",
      "model_module_version": "1.4.0",
      "model_name": "LinkModel",
      "state": {
       "source": [
        "IPY_MODEL_6e75f3c250b74904a7b2761e466af520",
        "min"
       ],
       "target": [
        "IPY_MODEL_7611a1a5d8764b4fb03d0be73c4df099",
        "value"
       ]
      }
     },
     "1edbfbb1b32e4679b195e1762bf4d726": {
      "model_module": "@jupyter-widgets/controls",
      "model_module_version": "1.4.0",
      "model_name": "SliderStyleModel",
      "state": {
       "description_width": ""
      }
     },
     "1eea73ed417440ee8a00cf7f1de7128f": {
      "model_module": "@jupyter-widgets/controls",
      "model_module_version": "1.4.0",
      "model_name": "ButtonStyleModel",
      "state": {}
     },
     "1ef0958a53a84790b8906f0b46f03954": {
      "model_module": "@jupyter-widgets/controls",
      "model_module_version": "1.4.0",
      "model_name": "ButtonStyleModel",
      "state": {}
     },
     "1f01fda82cab44b29b088a41f7984f55": {
      "model_module": "@jupyter-widgets/base",
      "model_module_version": "1.1.0",
      "model_name": "LayoutModel",
      "state": {
       "grid_area": "bottom-right"
      }
     },
     "1f3f60d4c3fe452983dc8e222f8400d6": {
      "model_module": "@jupyter-widgets/base",
      "model_module_version": "1.1.0",
      "model_name": "LayoutModel",
      "state": {
       "grid_template_areas": "\"top-left top-right\"\n\"bottom-left bottom-right\"",
       "grid_template_columns": "1fr 1fr",
       "grid_template_rows": "1fr 1fr",
       "width": "auto"
      }
     },
     "1f4d5af453644b0695fbc1460218b5fc": {
      "model_module": "@jupyter-widgets/base",
      "model_module_version": "1.1.0",
      "model_name": "LayoutModel",
      "state": {
       "grid_area": "bottom-right",
       "height": "100%",
       "width": "auto"
      }
     },
     "1f5bf6925cdd442ba18ace246e9202bb": {
      "model_module": "@jupyter-widgets/controls",
      "model_module_version": "1.4.0",
      "model_name": "GridBoxModel",
      "state": {
       "children": [
        "IPY_MODEL_9d0385ce65004ae68f26f9789916a3e7",
        "IPY_MODEL_df57db68ea56422d9e316f3e6db5798f",
        "IPY_MODEL_1986c1e8634345d98856a8f6a1746311",
        "IPY_MODEL_e33ed5d18e464697a0fb836e16c5d8e2"
       ],
       "layout": "IPY_MODEL_8b1bc5c454f34320a0c59d6fbd242d04"
      }
     },
     "1f9502025e0743258236ecbabf5ce8fb": {
      "model_module": "@jupyter-widgets/controls",
      "model_module_version": "1.4.0",
      "model_name": "ButtonStyleModel",
      "state": {}
     },
     "1f9e67c967fe4de189083a646f660b46": {
      "model_module": "@jupyter-widgets/controls",
      "model_module_version": "1.4.0",
      "model_name": "ButtonModel",
      "state": {
       "description": "Bottom left",
       "layout": "IPY_MODEL_68ffd45f38cc4a42a5f2949c3d3d8eaf",
       "style": "IPY_MODEL_6070478b1ac04f4c99f8ddd03ba94bfc"
      }
     },
     "1fa02d4ffd0540ed9198a9d23f4daf4c": {
      "model_module": "@jupyter-widgets/controls",
      "model_module_version": "1.4.0",
      "model_name": "ButtonModel",
      "state": {
       "description": "Top left",
       "layout": "IPY_MODEL_1ddbe16e4df641a690eb25d7d7cb868c",
       "style": "IPY_MODEL_d0a02209d40c49a2b2804269cc9adf94"
      }
     },
     "1faeab3f8cde4a05818e04667b93420d": {
      "model_module": "@jupyter-widgets/controls",
      "model_module_version": "1.4.0",
      "model_name": "ButtonStyleModel",
      "state": {}
     },
     "1fda64fd251842ed80e2fc5986e963cd": {
      "model_module": "@jupyter-widgets/controls",
      "model_module_version": "1.4.0",
      "model_name": "SliderStyleModel",
      "state": {
       "description_width": ""
      }
     },
     "1fe04f0da50d46afbead4472d6d60676": {
      "model_module": "bqplot",
      "model_module_version": "^0.4.5",
      "model_name": "FigureModel",
      "state": {
       "_dom_classes": [],
       "axes": [
        "IPY_MODEL_f17c2b5bfadf4f609aa5196b60425d75",
        "IPY_MODEL_6500fc134ba1467796967eca2aaabac4"
       ],
       "layout": "IPY_MODEL_18992a3582b442fbb8f343219ea349c7",
       "marks": [
        "IPY_MODEL_3a800a256d984446a130dcc0d9f93c48"
       ],
       "padding_x": 0.025,
       "scale_x": "IPY_MODEL_a14a44951efd471990956c7a7d4c1ddc",
       "scale_y": "IPY_MODEL_477a0c67fd844652b7d9588721dcc58a"
      }
     },
     "2027349e5fbe40579b8864e5b9e73393": {
      "model_module": "@jupyter-widgets/controls",
      "model_module_version": "1.4.0",
      "model_name": "ButtonModel",
      "state": {
       "description": "Bottom right",
       "layout": "IPY_MODEL_6ccc23ed2ddd4fc391fa355330477ef7",
       "style": "IPY_MODEL_2b51d17e0a774a5bae91565f5c6833e6"
      }
     },
     "205c18a0d3d3480184a94278757b06d6": {
      "model_module": "@jupyter-widgets/base",
      "model_module_version": "1.1.0",
      "model_name": "LayoutModel",
      "state": {
       "grid_area": "bottom-left"
      }
     },
     "206a29d077be4c95981b9c2846b712d2": {
      "model_module": "@jupyter-widgets/controls",
      "model_module_version": "1.4.0",
      "model_name": "ButtonModel",
      "state": {
       "layout": "IPY_MODEL_7fb5a4c3163f4d66bb279a21b611e1df",
       "style": "IPY_MODEL_de6f7c2a6e6d4935a92c8bcbfb9441b9"
      }
     },
     "207dc3e2ce9b49029709e029277178a1": {
      "model_module": "@jupyter-widgets/controls",
      "model_module_version": "1.4.0",
      "model_name": "ButtonStyleModel",
      "state": {}
     },
     "20988ad77e91431688e9ab9d24391f6f": {
      "model_module": "@jupyter-widgets/base",
      "model_module_version": "1.1.0",
      "model_name": "LayoutModel",
      "state": {
       "grid_area": "top-left"
      }
     },
     "20ace61d74e141c2940633ddab34e159": {
      "model_module": "@jupyter-widgets/controls",
      "model_module_version": "1.4.0",
      "model_name": "GridBoxModel",
      "state": {
       "children": [
        "IPY_MODEL_07380df1f7224aa5a22fe8f6dec98710",
        "IPY_MODEL_7d98cac770e94fa7940e1eba0aac1c85",
        "IPY_MODEL_8d4c296dbbfc493faf2736f6f46dbbdf"
       ],
       "layout": "IPY_MODEL_9df2331d9e394dd5b4fa193cf2825f68"
      }
     },
     "20cfe5ded8884297a5b307845a061c63": {
      "model_module": "@jupyter-widgets/controls",
      "model_module_version": "1.4.0",
      "model_name": "ButtonModel",
      "state": {
       "description": "Bottom left",
       "layout": "IPY_MODEL_3e5b7873307248a1850157421db35b99",
       "style": "IPY_MODEL_330f819df0a644168f2833916694bd36"
      }
     },
     "21158ef2641b45e5ba6e8a970b489d87": {
      "model_module": "@jupyter-widgets/controls",
      "model_module_version": "1.4.0",
      "model_name": "ButtonModel",
      "state": {
       "description": "Top left",
       "layout": "IPY_MODEL_e6b5d36085004fb7ad1737fbf8de0787",
       "style": "IPY_MODEL_1624bab625774837afb5fe6cc3d6e0d2"
      }
     },
     "2121db6e7c924c3bac366c6c9a11cbaa": {
      "model_module": "@jupyter-widgets/base",
      "model_module_version": "1.1.0",
      "model_name": "LayoutModel",
      "state": {
       "grid_template_areas": "\"top-left bottom-right\"\n\"bottom-left bottom-right\"",
       "grid_template_columns": "1fr 1fr",
       "grid_template_rows": "1fr 1fr",
       "width": "auto"
      }
     },
     "2155d40153f24bfb9988993b2e03f086": {
      "model_module": "@jupyter-widgets/base",
      "model_module_version": "1.1.0",
      "model_name": "LayoutModel",
      "state": {
       "grid_template_areas": "\"top-left bottom-right\"\n\"bottom-left bottom-right\"",
       "grid_template_columns": "1fr 1fr",
       "grid_template_rows": "1fr 1fr",
       "width": "auto"
      }
     },
     "2186877716ca4b25938f343d4a14e0cd": {
      "model_module": "bqplot",
      "model_module_version": "^0.4.5",
      "model_name": "AxisModel",
      "state": {
       "scale": "IPY_MODEL_89e5d6f8a128431b971798f505f8ae81",
       "side": "bottom",
       "tick_values": {
        "type": null,
        "values": null
       }
      }
     },
     "2189f9e507ac40b8bee95ab21c536b74": {
      "model_module": "@jupyter-widgets/base",
      "model_module_version": "1.1.0",
      "model_name": "LayoutModel",
      "state": {
       "grid_area": "bottom-left"
      }
     },
     "22277720f0544c01919828e12c108c97": {
      "model_module": "@jupyter-widgets/controls",
      "model_module_version": "1.4.0",
      "model_name": "SliderStyleModel",
      "state": {
       "description_width": ""
      }
     },
     "222e0515eec44cb99dd30f8615e8edd4": {
      "model_module": "@jupyter-widgets/base",
      "model_module_version": "1.1.0",
      "model_name": "LayoutModel",
      "state": {
       "grid_template_areas": "\"top-left bottom-right\"\n\"bottom-left bottom-right\"",
       "grid_template_columns": "1fr 1fr",
       "grid_template_rows": "1fr 1fr",
       "width": "auto"
      }
     },
     "224a92a7aaf947ca89905781ad5db7ff": {
      "model_module": "@jupyter-widgets/controls",
      "model_module_version": "1.4.0",
      "model_name": "LinkModel",
      "state": {
       "source": [
        "IPY_MODEL_675e508065eb411d9459bee5d03b3d25",
        "max"
       ],
       "target": [
        "IPY_MODEL_e61ae1720a9441b7b37c33059713a9d6",
        "value"
       ]
      }
     },
     "224da746bb0842c4a6f1ba565bbd92ee": {
      "model_module": "@jupyter-widgets/controls",
      "model_module_version": "1.4.0",
      "model_name": "LinkModel",
      "state": {
       "source": [
        "IPY_MODEL_750adc3de4564888a5eeee1aff47f592",
        "max"
       ],
       "target": [
        "IPY_MODEL_bf7894892cdf4618917c5f5f1d365d46",
        "value"
       ]
      }
     },
     "225c1aa8d49b4022b99f20f8b7bc4d7e": {
      "model_module": "@jupyter-widgets/controls",
      "model_module_version": "1.4.0",
      "model_name": "GridBoxModel",
      "state": {
       "children": [
        "IPY_MODEL_55501ffd6f114d748ed921ba69ebe2dd",
        "IPY_MODEL_04da68461bf648ff9be644299a2ac3f4",
        "IPY_MODEL_731f2cad9b2141a095fc9aa487b5123b",
        "IPY_MODEL_98aa2052bb8241b6bc3e863da36695a4"
       ],
       "layout": "IPY_MODEL_52513cb754b74fc19c54d2d7a31bddf1"
      }
     },
     "226e638026254fefb3fcbcdfbb8c74fa": {
      "model_module": "@jupyter-widgets/controls",
      "model_module_version": "1.4.0",
      "model_name": "IntSliderModel",
      "state": {
       "layout": "IPY_MODEL_7f7e6f53ecde4165a538aab2ff34ff7a",
       "style": "IPY_MODEL_1eb7e948ed774161bfd3d2cc58b832d8"
      }
     },
     "22721a1f40dc45439293e80f37fe74ee": {
      "model_module": "@jupyter-widgets/controls",
      "model_module_version": "1.4.0",
      "model_name": "ButtonStyleModel",
      "state": {}
     },
     "228bf4ed93964a3bb75c407cb7517d69": {
      "model_module": "@jupyter-widgets/controls",
      "model_module_version": "1.4.0",
      "model_name": "ButtonStyleModel",
      "state": {}
     },
     "22bdd45820a849f8bb751b4879b26a1d": {
      "model_module": "@jupyter-widgets/controls",
      "model_module_version": "1.4.0",
      "model_name": "LinkModel",
      "state": {
       "source": [
        "IPY_MODEL_24e40ecef4f24b56bd2f8fa09668732a",
        "max"
       ],
       "target": [
        "IPY_MODEL_177d2db707f54fb98b71c2b6c542ad69",
        "value"
       ]
      }
     },
     "22c9df6848d04c6e9950c69c0079acd1": {
      "model_module": "@jupyter-widgets/base",
      "model_module_version": "1.1.0",
      "model_name": "LayoutModel",
      "state": {
       "grid_area": "bottom-right",
       "height": "100%"
      }
     },
     "22d261d0fc174b1a83987d24a0159136": {
      "model_module": "@jupyter-widgets/controls",
      "model_module_version": "1.4.0",
      "model_name": "GridBoxModel",
      "state": {
       "children": [
        "IPY_MODEL_c14a297730f3499c8f7e142773a45f54",
        "IPY_MODEL_f7bcaa7244194cb4a61d16ad20a9f734",
        "IPY_MODEL_980eddda60034a8d8ff2a1c0736787b7",
        "IPY_MODEL_2d4774b7a70145bd902a855539d3c44d"
       ],
       "layout": "IPY_MODEL_650ace1981144c0ab45e9f5c5092aec2"
      }
     },
     "22d9ee6e62ab4427a7c4f636acc92e45": {
      "model_module": "@jupyter-widgets/controls",
      "model_module_version": "1.4.0",
      "model_name": "LinkModel",
      "state": {
       "source": [
        "IPY_MODEL_42b5beda39684ca29e4ec78087600aeb",
        "value"
       ],
       "target": [
        "IPY_MODEL_86f91f3545b94085b5ab8dbb0c5bd4d7",
        "value"
       ]
      }
     },
     "22f9a2b93b1a488bb8aeb90aec211316": {
      "model_module": "@jupyter-widgets/base",
      "model_module_version": "1.1.0",
      "model_name": "LayoutModel",
      "state": {
       "grid_template_areas": "\"top-left bottom-right\"\n\"bottom-left bottom-right\"",
       "grid_template_columns": "1fr 1fr",
       "grid_template_rows": "1fr 1fr",
       "width": "auto"
      }
     },
     "2334dfd13a104fb6814b5cc1f74fe6aa": {
      "model_module": "@jupyter-widgets/controls",
      "model_module_version": "1.4.0",
      "model_name": "GridBoxModel",
      "state": {
       "children": [
        "IPY_MODEL_8a52411d7ee942078b67d2b5bed899a9",
        "IPY_MODEL_ab42cdda9cfd4787a0eeac881bfd56d5",
        "IPY_MODEL_da95ba4179ef43939f70bf364c2c0e80",
        "IPY_MODEL_a6cea96fca264c28b5e5c60130244344"
       ],
       "layout": "IPY_MODEL_2666bd39278c40df96175660605b3222"
      }
     },
     "234c20c248014aa6a3606d93c890b709": {
      "model_module": "@jupyter-widgets/controls",
      "model_module_version": "1.4.0",
      "model_name": "GridBoxModel",
      "state": {
       "children": [
        "IPY_MODEL_58f7311e80c14398ba490311db637cee",
        "IPY_MODEL_e61ae1720a9441b7b37c33059713a9d6",
        "IPY_MODEL_074af9c2107f40159d1ca9cd38cb6cab"
       ],
       "layout": "IPY_MODEL_60589f492921423a9ed2b4c8acebe09a"
      }
     },
     "2350a710e11043bca27dad5325120d6d": {
      "model_module": "@jupyter-widgets/controls",
      "model_module_version": "1.4.0",
      "model_name": "FloatSliderModel",
      "state": {
       "layout": "IPY_MODEL_f38c0db54b12434aa0f3a0425839d865",
       "max": 1,
       "step": 0.1,
       "style": "IPY_MODEL_ba4c98bdc6084ababea14b6a1c83aee4"
      }
     },
     "2379733bd349453096d5a365265857d0": {
      "model_module": "@jupyter-widgets/controls",
      "model_module_version": "1.4.0",
      "model_name": "GridBoxModel",
      "state": {
       "children": [
        "IPY_MODEL_24e40ecef4f24b56bd2f8fa09668732a",
        "IPY_MODEL_177d2db707f54fb98b71c2b6c542ad69",
        "IPY_MODEL_694fddb152494784b216a299ea5ed748"
       ],
       "layout": "IPY_MODEL_cf3109fde8db4343a282865bc471ecdc"
      }
     },
     "237e641b5764449a9b7c68c19380798d": {
      "model_module": "@jupyter-widgets/base",
      "model_module_version": "1.1.0",
      "model_name": "LayoutModel",
      "state": {
       "grid_area": "bottom-left"
      }
     },
     "2390f6cb68944dce9498d3513f1c10d0": {
      "model_module": "@jupyter-widgets/base",
      "model_module_version": "1.1.0",
      "model_name": "LayoutModel",
      "state": {
       "grid_template_areas": "\"top-left top-right\"\n\"bottom-left bottom-right\"",
       "grid_template_columns": "1fr 1fr",
       "grid_template_rows": "1fr 1fr",
       "width": "auto"
      }
     },
     "2392c8780da04ce68b00f463626c2435": {
      "model_module": "@jupyter-widgets/controls",
      "model_module_version": "1.4.0",
      "model_name": "FloatSliderModel",
      "state": {
       "description": "Min: ",
       "layout": "IPY_MODEL_6001ed4c3d3a479eaa47ac3c21fe4a18",
       "max": 10,
       "step": 0.1,
       "style": "IPY_MODEL_946bbecebfde4b16be437148af01f64f",
       "value": 1
      }
     },
     "239782a82db54b08a74453baa5e8fc76": {
      "model_module": "@jupyter-widgets/base",
      "model_module_version": "1.1.0",
      "model_name": "LayoutModel",
      "state": {
       "grid_template_areas": "\"top-left top-right\"\n\"bottom-left top-right\"",
       "grid_template_columns": "1fr 1fr",
       "grid_template_rows": "1fr 1fr",
       "width": "auto"
      }
     },
     "23b88583eab64afaaa4ab306f105c530": {
      "model_module": "@jupyter-widgets/base",
      "model_module_version": "1.1.0",
      "model_name": "LayoutModel",
      "state": {
       "height": "100%"
      }
     },
     "23e5882ca3a642f2869eed1e192947fb": {
      "model_module": "@jupyter-widgets/controls",
      "model_module_version": "1.4.0",
      "model_name": "SliderStyleModel",
      "state": {
       "description_width": ""
      }
     },
     "23e6282953d34329bcfc38ebe1cbe797": {
      "model_module": "@jupyter-widgets/base",
      "model_module_version": "1.1.0",
      "model_name": "LayoutModel",
      "state": {
       "grid_area": "bottom-left"
      }
     },
     "23f4c3fff16746e183a02a0e7282a85e": {
      "model_module": "@jupyter-widgets/base",
      "model_module_version": "1.1.0",
      "model_name": "LayoutModel",
      "state": {
       "grid_area": "bottom-right",
       "height": "100%"
      }
     },
     "2400fad5748647b4ac145be35e6efef1": {
      "model_module": "@jupyter-widgets/controls",
      "model_module_version": "1.4.0",
      "model_name": "FloatSliderModel",
      "state": {
       "layout": "IPY_MODEL_e49ed65f8aed4ca69901de04230ab95b",
       "max": 10,
       "min": 1,
       "step": 0.1,
       "style": "IPY_MODEL_483dee1b0f654715b548c42225780ea3",
       "value": 1
      }
     },
     "242ff97bfa024b81959d0964dda9a883": {
      "model_module": "@jupyter-widgets/controls",
      "model_module_version": "1.4.0",
      "model_name": "ButtonStyleModel",
      "state": {}
     },
     "2440907e7c7c41ad8b8a23d82ad67e37": {
      "model_module": "@jupyter-widgets/controls",
      "model_module_version": "1.4.0",
      "model_name": "SliderStyleModel",
      "state": {
       "description_width": ""
      }
     },
     "244a98f8976f4d599e72286a25e7acbb": {
      "model_module": "@jupyter-widgets/controls",
      "model_module_version": "1.4.0",
      "model_name": "FloatSliderModel",
      "state": {
       "layout": "IPY_MODEL_5273c173e9d74b6cbe07c30f452fd948",
       "max": 10,
       "min": 0.05,
       "step": 0.1,
       "style": "IPY_MODEL_28e3e225a05c41dbae0487de5ae36180",
       "value": 2
      }
     },
     "24978e67e28a4f40b1ef247ee03c736e": {
      "model_module": "@jupyter-widgets/controls",
      "model_module_version": "1.4.0",
      "model_name": "GridBoxModel",
      "state": {
       "children": [
        "IPY_MODEL_c0540f945e8a4b6d8405e524a78542fe",
        "IPY_MODEL_5434750ebd194834b12a39e7c9dc7d75",
        "IPY_MODEL_b333a84f74964060ab0ad71ded7bf0ba"
       ],
       "layout": "IPY_MODEL_4ed6ab84b9684373b0e1dd7269c0ad1a"
      }
     },
     "24b1877d5b9e4ed094bd84a4eb5b2ffa": {
      "model_module": "@jupyter-widgets/controls",
      "model_module_version": "1.4.0",
      "model_name": "GridBoxModel",
      "state": {
       "children": [
        "IPY_MODEL_a75511e2ed20499bb026c2ca0c7d1afb",
        "IPY_MODEL_4561c4725f6b47458ebef8ee40f1b49b",
        "IPY_MODEL_814093297dd543ce9003126fe993aef3"
       ],
       "layout": "IPY_MODEL_0667db09af8743d9ba238404c3a2171c"
      }
     },
     "24bb9cd22eb948f99008cf4ff1113799": {
      "model_module": "@jupyter-widgets/controls",
      "model_module_version": "1.4.0",
      "model_name": "ButtonStyleModel",
      "state": {}
     },
     "24e40ecef4f24b56bd2f8fa09668732a": {
      "model_module": "@jupyter-widgets/controls",
      "model_module_version": "1.4.0",
      "model_name": "FloatSliderModel",
      "state": {
       "description": "Min: ",
       "layout": "IPY_MODEL_c2099f36eba34699b31b4c33051a8967",
       "max": 10,
       "step": 0.1,
       "style": "IPY_MODEL_00da8b9c6c5a4a15b7302f496b93b2fa",
       "value": 1
      }
     },
     "250df06dd0424807bcc25839a065307a": {
      "model_module": "@jupyter-widgets/controls",
      "model_module_version": "1.4.0",
      "model_name": "FloatSliderModel",
      "state": {
       "description": "Max: ",
       "layout": "IPY_MODEL_88353ea72c9846d792405771b325bf29",
       "max": 10,
       "min": 1,
       "step": 0.1,
       "style": "IPY_MODEL_1edbfbb1b32e4679b195e1762bf4d726",
       "value": 1
      }
     },
     "251f8b0af57e4146a775eaa0218f2b33": {
      "model_module": "@jupyter-widgets/controls",
      "model_module_version": "1.4.0",
      "model_name": "ButtonModel",
      "state": {
       "description": "Bottom right",
       "layout": "IPY_MODEL_3bfa30eea5094a5aa06508b872164db8",
       "style": "IPY_MODEL_79c456df7180471ca959ed93ea673b13"
      }
     },
     "2521694c55284f39815184d29b5fb5ba": {
      "model_module": "@jupyter-widgets/base",
      "model_module_version": "1.1.0",
      "model_name": "LayoutModel",
      "state": {}
     },
     "25436f1c84d34773b8bd30916c947ca7": {
      "model_module": "@jupyter-widgets/base",
      "model_module_version": "1.1.0",
      "model_name": "LayoutModel",
      "state": {
       "grid_template_areas": "\"top-left bottom-right\"\n\"bottom-left bottom-right\"",
       "grid_template_columns": "1fr 1fr",
       "grid_template_rows": "1fr 1fr",
       "width": "auto"
      }
     },
     "2550aeda8adb4f329bcacd56d6550afd": {
      "model_module": "@jupyter-widgets/base",
      "model_module_version": "1.1.0",
      "model_name": "LayoutModel",
      "state": {
       "grid_template_areas": "\"top-left top-right\"\n\"bottom-left bottom-right\"",
       "grid_template_columns": "1fr 1fr",
       "grid_template_rows": "1fr 1fr",
       "width": "auto"
      }
     },
     "255d1931efab4e12bca709ec94eee30e": {
      "model_module": "@jupyter-widgets/base",
      "model_module_version": "1.1.0",
      "model_name": "LayoutModel",
      "state": {
       "grid_area": "bottom-right"
      }
     },
     "256253a1990b46ba899e654cc3a97776": {
      "model_module": "@jupyter-widgets/base",
      "model_module_version": "1.1.0",
      "model_name": "LayoutModel",
      "state": {
       "grid_area": "bottom-left"
      }
     },
     "2582354d03424bf59c18a2336f58dd63": {
      "model_module": "@jupyter-widgets/controls",
      "model_module_version": "1.4.0",
      "model_name": "ButtonModel",
      "state": {
       "description": "Bottom left",
       "layout": "IPY_MODEL_2189f9e507ac40b8bee95ab21c536b74",
       "style": "IPY_MODEL_a944a34cc3a14d2a990c49da14ba0c09"
      }
     },
     "25d3a164141648d6a14ee482134d3fb4": {
      "model_module": "@jupyter-widgets/base",
      "model_module_version": "1.1.0",
      "model_name": "LayoutModel",
      "state": {
       "grid_template_areas": "\"top-left bottom-right\"\n\"bottom-left bottom-right\"",
       "grid_template_columns": "1fr 1fr",
       "grid_template_rows": "1fr 1fr",
       "width": "auto"
      }
     },
     "25d741750e08496fb4ec9827d8738d2e": {
      "model_module": "@jupyter-widgets/controls",
      "model_module_version": "1.4.0",
      "model_name": "FloatSliderModel",
      "state": {
       "layout": "IPY_MODEL_d300e96a208943299484aae29fc8cf26",
       "max": 1,
       "step": 0.1,
       "style": "IPY_MODEL_6eea436707e34335baae9039507c5caf"
      }
     },
     "260a7ba7e4054a0bb83ba7c37761a28a": {
      "model_module": "@jupyter-widgets/controls",
      "model_module_version": "1.4.0",
      "model_name": "SliderStyleModel",
      "state": {
       "description_width": ""
      }
     },
     "263252cac7844d31afdba16e11513c29": {
      "model_module": "@jupyter-widgets/controls",
      "model_module_version": "1.4.0",
      "model_name": "FloatSliderModel",
      "state": {
       "layout": "IPY_MODEL_8419b2a148304b5da9da18739b0fde2e",
       "max": 1,
       "step": 0.1,
       "style": "IPY_MODEL_7dfedc1a2b394945959202c31c60f7a8"
      }
     },
     "2666bd39278c40df96175660605b3222": {
      "model_module": "@jupyter-widgets/base",
      "model_module_version": "1.1.0",
      "model_name": "LayoutModel",
      "state": {
       "grid_template_areas": "\"top-left top-right\"\n\"bottom-left bottom-right\"",
       "grid_template_columns": "1fr 1fr",
       "grid_template_rows": "1fr 1fr"
      }
     },
     "2669ff39fc2b4306a91a0b877cb23047": {
      "model_module": "@jupyter-widgets/controls",
      "model_module_version": "1.4.0",
      "model_name": "LinkModel",
      "state": {
       "source": [
        "IPY_MODEL_e58046537e2b4228bf92fbb2bbe6d5ef",
        "min"
       ],
       "target": [
        "IPY_MODEL_7bf9ba6b1b2646719106d2c83319578c",
        "value"
       ]
      }
     },
     "267db6c64ec644c8b4887c430e636b9b": {
      "model_module": "@jupyter-widgets/base",
      "model_module_version": "1.1.0",
      "model_name": "LayoutModel",
      "state": {
       "grid_template_areas": "\"top-left top-right\"\n\"bottom-left bottom-right\"",
       "grid_template_columns": "1fr 1fr",
       "grid_template_rows": "1fr 1fr"
      }
     },
     "2698080202e64da6929f5043164f6234": {
      "model_module": "@jupyter-widgets/controls",
      "model_module_version": "1.4.0",
      "model_name": "LinkModel",
      "state": {
       "source": [
        "IPY_MODEL_46a63a8278bc496e8368c2f891b8d6a2",
        "value"
       ],
       "target": [
        "IPY_MODEL_3dba0912c2ed4ed8be6aca997b1a1f6b",
        "value"
       ]
      }
     },
     "26b91e99412a40428eac6e0cd4c75f91": {
      "model_module": "@jupyter-widgets/controls",
      "model_module_version": "1.4.0",
      "model_name": "GridBoxModel",
      "state": {
       "children": [
        "IPY_MODEL_d43810196d524d24ad5623340b2c4440",
        "IPY_MODEL_ec2026d0e7a84578b78d5b2249f800e5",
        "IPY_MODEL_291fb52f9b864c89b8d39b422c0c6da2"
       ],
       "layout": "IPY_MODEL_8eda5e8f9ea249bab3825418caad5cdf"
      }
     },
     "26c131b812904895b49db8d30c652708": {
      "model_module": "@jupyter-widgets/controls",
      "model_module_version": "1.4.0",
      "model_name": "IntSliderModel",
      "state": {
       "layout": "IPY_MODEL_291b2bdabb1a447ca86433481dd49a3f",
       "style": "IPY_MODEL_db92861c9c5043ecbc642f910df45c82",
       "value": 59
      }
     },
     "26cffaf9470f410b876eff0567117a03": {
      "model_module": "@jupyter-widgets/controls",
      "model_module_version": "1.4.0",
      "model_name": "ButtonModel",
      "state": {
       "description": "Bottom right",
       "layout": "IPY_MODEL_585a953040784128b5486f3e6fc3582b",
       "style": "IPY_MODEL_372480ffed0043868a557611df2d7a72"
      }
     },
     "26dbddb7e0034f8bb9ab7e33ccad394a": {
      "model_module": "bqplot",
      "model_module_version": "^0.4.5",
      "model_name": "LinearScaleModel",
      "state": {
       "allow_padding": false,
       "max": 1,
       "min": 0,
       "stabilized": false
      }
     },
     "26dcdb50caac4f2d86e842040b4004ae": {
      "model_module": "@jupyter-widgets/base",
      "model_module_version": "1.1.0",
      "model_name": "LayoutModel",
      "state": {
       "grid_template_areas": "\"top-left bottom-right\"\n\"bottom-left bottom-right\"",
       "grid_template_columns": "1fr 1fr",
       "grid_template_rows": "1fr 1fr",
       "width": "auto"
      }
     },
     "26f697413df44aa5bf38f8652bf15de8": {
      "model_module": "@jupyter-widgets/controls",
      "model_module_version": "1.4.0",
      "model_name": "ButtonStyleModel",
      "state": {}
     },
     "26ff442d07894c2dab4a3839c0024400": {
      "model_module": "@jupyter-widgets/base",
      "model_module_version": "1.1.0",
      "model_name": "LayoutModel",
      "state": {
       "grid_template_areas": "\"top-left bottom-right\"\n\"bottom-left bottom-right\"",
       "grid_template_columns": "1fr 1fr",
       "grid_template_rows": "1fr 1fr",
       "width": "auto"
      }
     },
     "270e3344435443f99aeab2b449dd7f20": {
      "model_module": "@jupyter-widgets/controls",
      "model_module_version": "1.4.0",
      "model_name": "ButtonStyleModel",
      "state": {}
     },
     "273a1638803a4c1ba8763ec5bff1a7cb": {
      "model_module": "@jupyter-widgets/base",
      "model_module_version": "1.1.0",
      "model_name": "LayoutModel",
      "state": {
       "grid_area": "top-left"
      }
     },
     "273fab03cb6b4c7c8023c5339cd9d4d4": {
      "model_module": "@jupyter-widgets/controls",
      "model_module_version": "1.4.0",
      "model_name": "SliderStyleModel",
      "state": {
       "description_width": ""
      }
     },
     "27673a195d82430aa9f97c4252d7a80c": {
      "model_module": "@jupyter-widgets/base",
      "model_module_version": "1.1.0",
      "model_name": "LayoutModel",
      "state": {
       "grid_area": "bottom-left",
       "height": "auto",
       "width": "200px"
      }
     },
     "277fc6c059c348f2b513ec1a65e5590c": {
      "model_module": "@jupyter-widgets/controls",
      "model_module_version": "1.4.0",
      "model_name": "FloatSliderModel",
      "state": {
       "layout": "IPY_MODEL_94bf54b2fffd40ea94a6e950f0ea3a07",
       "max": 10,
       "min": 1,
       "step": 0.1,
       "style": "IPY_MODEL_50ac29ae685e4cc59734b76027f6aa8a",
       "value": 1
      }
     },
     "2786ed230dd0498dbab7391d6dac841a": {
      "model_module": "@jupyter-widgets/controls",
      "model_module_version": "1.4.0",
      "model_name": "ButtonStyleModel",
      "state": {}
     },
     "279710b25f62480b88e19143373d04ae": {
      "model_module": "@jupyter-widgets/controls",
      "model_module_version": "1.4.0",
      "model_name": "ButtonStyleModel",
      "state": {}
     },
     "279c2976cb3e4e5db122e58e09ac2dfd": {
      "model_module": "@jupyter-widgets/controls",
      "model_module_version": "1.4.0",
      "model_name": "SliderStyleModel",
      "state": {
       "description_width": ""
      }
     },
     "27a8dce3f2ab41be919a19fdced12fad": {
      "model_module": "@jupyter-widgets/base",
      "model_module_version": "1.1.0",
      "model_name": "LayoutModel",
      "state": {
       "align_items": "center"
      }
     },
     "27aba0ebb567451db86006b3f9e2cf52": {
      "model_module": "@jupyter-widgets/base",
      "model_module_version": "1.1.0",
      "model_name": "LayoutModel",
      "state": {
       "grid_area": "bottom-right"
      }
     },
     "27ca7f52088a41ae8660e7a99aa4b7d8": {
      "model_module": "@jupyter-widgets/base",
      "model_module_version": "1.1.0",
      "model_name": "LayoutModel",
      "state": {
       "grid_area": "bottom-right",
       "height": "100%"
      }
     },
     "27d92d7738ca48e5ba60924161672fb5": {
      "model_module": "@jupyter-widgets/base",
      "model_module_version": "1.1.0",
      "model_name": "LayoutModel",
      "state": {
       "grid_area": "top-right"
      }
     },
     "27f40db6ff0a4278b3f276df0ff49963": {
      "model_module": "@jupyter-widgets/base",
      "model_module_version": "1.1.0",
      "model_name": "LayoutModel",
      "state": {
       "grid_template_areas": "\"top-left bottom-right\"\n\"bottom-left bottom-right\"",
       "grid_template_columns": "1fr 1fr",
       "grid_template_rows": "1fr 1fr",
       "width": "auto"
      }
     },
     "281986aee75742a5b7842b7e55723e16": {
      "model_module": "@jupyter-widgets/controls",
      "model_module_version": "1.4.0",
      "model_name": "SliderStyleModel",
      "state": {
       "description_width": ""
      }
     },
     "28aeb85cf3324698a84d3ca17a71749c": {
      "model_module": "@jupyter-widgets/controls",
      "model_module_version": "1.4.0",
      "model_name": "LinkModel",
      "state": {
       "source": [
        "IPY_MODEL_675e508065eb411d9459bee5d03b3d25",
        "min"
       ],
       "target": [
        "IPY_MODEL_174f3a327d6e4b0db096cc5c42c152c7",
        "value"
       ]
      }
     },
     "28bb1dde28fa49cf98c22a364601091f": {
      "model_module": "@jupyter-widgets/controls",
      "model_module_version": "1.4.0",
      "model_name": "SliderStyleModel",
      "state": {
       "description_width": ""
      }
     },
     "28e3e225a05c41dbae0487de5ae36180": {
      "model_module": "@jupyter-widgets/controls",
      "model_module_version": "1.4.0",
      "model_name": "SliderStyleModel",
      "state": {
       "description_width": ""
      }
     },
     "28e72f5a068643c08c1871cf53ec3a1a": {
      "model_module": "@jupyter-widgets/controls",
      "model_module_version": "1.4.0",
      "model_name": "ButtonStyleModel",
      "state": {}
     },
     "28ee0fabc43945d09d37affa1ec36dc0": {
      "model_module": "@jupyter-widgets/base",
      "model_module_version": "1.1.0",
      "model_name": "LayoutModel",
      "state": {
       "grid_template_areas": "\"top-left top-right\"\n\"bottom-left bottom-right\"",
       "grid_template_columns": "1fr 1fr",
       "grid_template_rows": "1fr 1fr"
      }
     },
     "28f0243669de407c98df769a3a700509": {
      "model_module": "bqplot",
      "model_module_version": "^0.4.5",
      "model_name": "LinearScaleModel",
      "state": {
       "allow_padding": false,
       "max": 1,
       "min": 0,
       "stabilized": false
      }
     },
     "28fbc113b9f5469e89811401b260acaa": {
      "model_module": "@jupyter-widgets/base",
      "model_module_version": "1.1.0",
      "model_name": "LayoutModel",
      "state": {
       "grid_area": "top-left",
       "width": "200px"
      }
     },
     "291b2bdabb1a447ca86433481dd49a3f": {
      "model_module": "@jupyter-widgets/base",
      "model_module_version": "1.1.0",
      "model_name": "LayoutModel",
      "state": {
       "grid_area": "bottom-left"
      }
     },
     "291f6701606a42bbb3cbeff61531f688": {
      "model_module": "@jupyter-widgets/controls",
      "model_module_version": "1.4.0",
      "model_name": "FloatSliderModel",
      "state": {
       "description": "Max: ",
       "layout": "IPY_MODEL_b0a98437839c49c88f85568657cc18b9",
       "max": 10,
       "step": 0.1,
       "style": "IPY_MODEL_d61d5db13d6243aa87be1324db2f0b98",
       "value": 2.8
      }
     },
     "291fb52f9b864c89b8d39b422c0c6da2": {
      "model_module": "@jupyter-widgets/controls",
      "model_module_version": "1.4.0",
      "model_name": "FloatSliderModel",
      "state": {
       "layout": "IPY_MODEL_332f96d84e014e5399462eac010ddd61",
       "max": 10,
       "min": 0.05,
       "step": 0.1,
       "style": "IPY_MODEL_e2ac25e5c9264f8eb9406f623e1c1024",
       "value": 2
      }
     },
     "2923978c50dd47559dc8e4e23f59a29f": {
      "model_module": "@jupyter-widgets/controls",
      "model_module_version": "1.4.0",
      "model_name": "ButtonModel",
      "state": {
       "description": "Top right",
       "layout": "IPY_MODEL_eb3e1add310540ea87ca626648b67213",
       "style": "IPY_MODEL_e9ac1debf2a84880a5e6599f4d1ba61a"
      }
     },
     "29489f1dd51c46b1a2f5149b38fe661a": {
      "model_module": "@jupyter-widgets/controls",
      "model_module_version": "1.4.0",
      "model_name": "SliderStyleModel",
      "state": {
       "description_width": ""
      }
     },
     "298c9949ec44413f940e770e1414ca82": {
      "model_module": "@jupyter-widgets/base",
      "model_module_version": "1.1.0",
      "model_name": "LayoutModel",
      "state": {
       "grid_template_areas": "\"top-left top-right\"\n\"bottom-left top-right\"",
       "grid_template_columns": "1fr 1fr",
       "grid_template_rows": "1fr 1fr",
       "width": "auto"
      }
     },
     "29cd5aa3014941cda11804cfe5532d2f": {
      "model_module": "@jupyter-widgets/base",
      "model_module_version": "1.1.0",
      "model_name": "LayoutModel",
      "state": {
       "grid_template_areas": "\"top-left top-right\"\n\"bottom-left bottom-right\"",
       "grid_template_columns": "1fr 1fr",
       "grid_template_rows": "1fr 1fr",
       "width": "auto"
      }
     },
     "29e49a00af224255b4bbe919aae0ca6c": {
      "model_module": "@jupyter-widgets/base",
      "model_module_version": "1.1.0",
      "model_name": "LayoutModel",
      "state": {
       "grid_area": "top-left"
      }
     },
     "29e60c3d5eb54e7db1d369b4881c92af": {
      "model_module": "@jupyter-widgets/base",
      "model_module_version": "1.1.0",
      "model_name": "LayoutModel",
      "state": {
       "align_items": "center",
       "grid_template_areas": "\"top-left bottom-right\"\n\"bottom-left bottom-right\"",
       "grid_template_columns": "1fr 1fr",
       "grid_template_rows": "1fr 1fr",
       "width": "80%"
      }
     },
     "2a01422b44bf4e58af6bd80fb748d847": {
      "model_module": "@jupyter-widgets/base",
      "model_module_version": "1.1.0",
      "model_name": "LayoutModel",
      "state": {
       "grid_area": "top-left"
      }
     },
     "2a0de0defbf540c39e8b136f8894d6ba": {
      "model_module": "bqplot",
      "model_module_version": "^0.4.5",
      "model_name": "OrdinalScaleModel",
      "state": {
       "domain": []
      }
     },
     "2a1c7b8fe85f43f698d78a158e7dd3f2": {
      "model_module": "@jupyter-widgets/base",
      "model_module_version": "1.1.0",
      "model_name": "LayoutModel",
      "state": {
       "grid_area": "bottom-left"
      }
     },
     "2a2ceb6d1ac5451e960f14cf8cc2ee9d": {
      "model_module": "@jupyter-widgets/controls",
      "model_module_version": "1.4.0",
      "model_name": "SliderStyleModel",
      "state": {
       "description_width": ""
      }
     },
     "2a3b33aa4e0c4fe0b7d2193c6710889b": {
      "model_module": "@jupyter-widgets/base",
      "model_module_version": "1.1.0",
      "model_name": "LayoutModel",
      "state": {
       "grid_area": "bottom-left"
      }
     },
     "2a4e7415eb234ae08617599a511cadb1": {
      "model_module": "@jupyter-widgets/controls",
      "model_module_version": "1.4.0",
      "model_name": "ButtonModel",
      "state": {
       "description": "Bottom left",
       "layout": "IPY_MODEL_79c3433225bb433d9a4edb4022d321a8",
       "style": "IPY_MODEL_78c044f1ccfb4b2ca8598ebf08f80393"
      }
     },
     "2a5b22fdeead40d0ace6d41554f3957c": {
      "model_module": "@jupyter-widgets/controls",
      "model_module_version": "1.4.0",
      "model_name": "ButtonStyleModel",
      "state": {}
     },
     "2ab847c487584281af724f6fcf4e8ab6": {
      "model_module": "@jupyter-widgets/base",
      "model_module_version": "1.1.0",
      "model_name": "LayoutModel",
      "state": {
       "grid_template_areas": "\"top-left top-right\"\n\"bottom-left bottom-right\"",
       "grid_template_columns": "1fr 1fr",
       "grid_template_rows": "1fr 1fr",
       "width": "auto"
      }
     },
     "2abe2c66cc7446c3896c3ded568c525c": {
      "model_module": "@jupyter-widgets/controls",
      "model_module_version": "1.4.0",
      "model_name": "SliderStyleModel",
      "state": {
       "description_width": ""
      }
     },
     "2ae47f63293f4c40a7706ecf3056b907": {
      "model_module": "@jupyter-widgets/base",
      "model_module_version": "1.1.0",
      "model_name": "LayoutModel",
      "state": {
       "grid_area": "top-left",
       "width": "200px"
      }
     },
     "2b0a240382b648c6a88914ddcc51df3c": {
      "model_module": "@jupyter-widgets/controls",
      "model_module_version": "1.4.0",
      "model_name": "ButtonStyleModel",
      "state": {}
     },
     "2b34cd8d57f745e8be869c9ba34079f0": {
      "model_module": "@jupyter-widgets/controls",
      "model_module_version": "1.4.0",
      "model_name": "LinkModel",
      "state": {
       "source": [
        "IPY_MODEL_d0e4e017d4544e87897d5c64976007d7",
        "min"
       ],
       "target": [
        "IPY_MODEL_adb28488458e4abbad2410cc302dfae5",
        "value"
       ]
      }
     },
     "2b51d17e0a774a5bae91565f5c6833e6": {
      "model_module": "@jupyter-widgets/controls",
      "model_module_version": "1.4.0",
      "model_name": "ButtonStyleModel",
      "state": {}
     },
     "2b639f2870c5499fb88131fa785a1e85": {
      "model_module": "@jupyter-widgets/controls",
      "model_module_version": "1.4.0",
      "model_name": "ButtonModel",
      "state": {
       "description": "Top left",
       "layout": "IPY_MODEL_2f4a002ed4544167b209c255b339111e",
       "style": "IPY_MODEL_9dedbe99b3f04eee9be06c92e2b22617"
      }
     },
     "2b6927f520554952b334fe1b92293305": {
      "model_module": "@jupyter-widgets/base",
      "model_module_version": "1.1.0",
      "model_name": "LayoutModel",
      "state": {
       "grid_area": "bottom-left"
      }
     },
     "2b765021da2c47c5a9dbf2a6beaaff7c": {
      "model_module": "@jupyter-widgets/controls",
      "model_module_version": "1.4.0",
      "model_name": "LinkModel",
      "state": {
       "source": [
        "IPY_MODEL_675e508065eb411d9459bee5d03b3d25",
        "max"
       ],
       "target": [
        "IPY_MODEL_3f82268622f6419db7dfd5e2f4ba5c20",
        "value"
       ]
      }
     },
     "2b7a44d8848b4539a078de6a9d835beb": {
      "model_module": "@jupyter-widgets/base",
      "model_module_version": "1.1.0",
      "model_name": "LayoutModel",
      "state": {
       "grid_template_areas": "\"top-left top-right\"\n\"bottom-left bottom-right\"",
       "grid_template_columns": "1fr 1fr",
       "grid_template_rows": "1fr 1fr",
       "width": "auto"
      }
     },
     "2b9623d170d74fc68c2bc321daaea7b6": {
      "model_module": "@jupyter-widgets/controls",
      "model_module_version": "1.4.0",
      "model_name": "LinkModel",
      "state": {
       "source": [
        "IPY_MODEL_762f980f76514085acce75f08dbffb92",
        "min"
       ],
       "target": [
        "IPY_MODEL_9c3043629aa946029d6cd03de1067204",
        "value"
       ]
      }
     },
     "2ba3b7cbb1de4ea6ac1463805cdefd4d": {
      "model_module": "@jupyter-widgets/controls",
      "model_module_version": "1.4.0",
      "model_name": "LinkModel",
      "state": {
       "source": [
        "IPY_MODEL_f3dd77a40aa546008e8281518c98989d",
        "min"
       ],
       "target": [
        "IPY_MODEL_60f2ff9663fe4fe994b84b04d75519ce",
        "value"
       ]
      }
     },
     "2bb29913659d4646a8d8e404e95cb653": {
      "model_module": "@jupyter-widgets/controls",
      "model_module_version": "1.4.0",
      "model_name": "ButtonModel",
      "state": {
       "description": "Bottom left",
       "layout": "IPY_MODEL_ed78cad39fa6448eae646287c180b338",
       "style": "IPY_MODEL_1d6c03d1cbe74039b702f72f07ee9842"
      }
     },
     "2bcec6d7d88f43cabc2681d0bd1ff329": {
      "model_module": "@jupyter-widgets/controls",
      "model_module_version": "1.4.0",
      "model_name": "LinkModel",
      "state": {
       "source": [
        "IPY_MODEL_6e75f3c250b74904a7b2761e466af520",
        "max"
       ],
       "target": [
        "IPY_MODEL_f339310e5ce04527860f1ce65219b329",
        "value"
       ]
      }
     },
     "2bde29f4b4f040398f74a1fe40e8509e": {
      "model_module": "@jupyter-widgets/controls",
      "model_module_version": "1.4.0",
      "model_name": "ButtonModel",
      "state": {
       "description": "Top left",
       "layout": "IPY_MODEL_2fb1e99116594c6ca91ddbf4a9eaa372",
       "style": "IPY_MODEL_65a0e0f1a1604989b626a9de571c8ba1"
      }
     },
     "2be556030bc7439f9bc17134b5a529f5": {
      "model_module": "@jupyter-widgets/base",
      "model_module_version": "1.1.0",
      "model_name": "LayoutModel",
      "state": {
       "grid_area": "top-right"
      }
     },
     "2c38a224217144b0a043cb3fcf6d66e7": {
      "model_module": "@jupyter-widgets/base",
      "model_module_version": "1.1.0",
      "model_name": "LayoutModel",
      "state": {
       "grid_area": "top-left"
      }
     },
     "2c522f7fff164357bfd8a1e69d4ae278": {
      "model_module": "@jupyter-widgets/controls",
      "model_module_version": "1.4.0",
      "model_name": "ButtonModel",
      "state": {
       "description": "Top left",
       "layout": "IPY_MODEL_3296fcc997504674b504296b03307117",
       "style": "IPY_MODEL_134252247e7b4da7884783dc1c0cfcf5"
      }
     },
     "2c6237eeaa1b4a23903d0b592683565f": {
      "model_module": "@jupyter-widgets/base",
      "model_module_version": "1.1.0",
      "model_name": "LayoutModel",
      "state": {
       "grid_template_areas": "\"top-left top-right\"\n\"bottom-left bottom-right\"",
       "grid_template_columns": "1fr 1fr",
       "grid_template_rows": "1fr 1fr",
       "width": "auto"
      }
     },
     "2c7b81c66a43420eaed90fd551784683": {
      "model_module": "@jupyter-widgets/controls",
      "model_module_version": "1.4.0",
      "model_name": "ButtonModel",
      "state": {
       "description": "Bottom right",
       "layout": "IPY_MODEL_3e4a6f64a2b74049a9c7b2d303c184bf",
       "style": "IPY_MODEL_6b6fd12cac1b47baaa89868a1fe84bf4"
      }
     },
     "2c90245a6ef547169ee0b34348d1040a": {
      "model_module": "@jupyter-widgets/base",
      "model_module_version": "1.1.0",
      "model_name": "LayoutModel",
      "state": {
       "grid_area": "bottom-left"
      }
     },
     "2caffab1ea1a4b56bb2a83afd2265f52": {
      "model_module": "@jupyter-widgets/controls",
      "model_module_version": "1.4.0",
      "model_name": "ButtonModel",
      "state": {
       "description": "Top right",
       "layout": "IPY_MODEL_47d2f2df27c140a18501943656d6a7f2",
       "style": "IPY_MODEL_ddaa73e0ce5048b7a5a9b3b492d6fe30"
      }
     },
     "2cb6784a8a194a1aa9b72e0db220dd97": {
      "model_module": "@jupyter-widgets/base",
      "model_module_version": "1.1.0",
      "model_name": "LayoutModel",
      "state": {
       "grid_area": "top-left"
      }
     },
     "2d054097cff8479ba4345e7348fc5bb9": {
      "model_module": "@jupyter-widgets/base",
      "model_module_version": "1.1.0",
      "model_name": "LayoutModel",
      "state": {
       "grid_area": "top-left"
      }
     },
     "2d056212298243c893fc51da3be26602": {
      "model_module": "@jupyter-widgets/controls",
      "model_module_version": "1.4.0",
      "model_name": "SliderStyleModel",
      "state": {
       "description_width": ""
      }
     },
     "2d09618574034d4d9faf8497a7a57fdb": {
      "model_module": "@jupyter-widgets/controls",
      "model_module_version": "1.4.0",
      "model_name": "IntTextModel",
      "state": {
       "layout": "IPY_MODEL_696fdbd1ccef4b0ca41820ac2b6878eb",
       "step": 1,
       "style": "IPY_MODEL_f6eb9010d1324ce786cd08697310a4b2",
       "value": 30
      }
     },
     "2d1948f30bbe47338545a4199532c6c6": {
      "model_module": "@jupyter-widgets/controls",
      "model_module_version": "1.4.0",
      "model_name": "ButtonModel",
      "state": {
       "description": "Bottom left",
       "layout": "IPY_MODEL_c828fcb281dd41648b385cfbf8c2c6f8",
       "style": "IPY_MODEL_a16cf0a5653547eca4382e8ecf77e4d6"
      }
     },
     "2d1b12611588429fbc5c69cb2a5806d9": {
      "model_module": "@jupyter-widgets/base",
      "model_module_version": "1.1.0",
      "model_name": "LayoutModel",
      "state": {
       "grid_area": "bottom-right",
       "height": "100%"
      }
     },
     "2d4774b7a70145bd902a855539d3c44d": {
      "model_module": "@jupyter-widgets/controls",
      "model_module_version": "1.4.0",
      "model_name": "IntSliderModel",
      "state": {
       "layout": "IPY_MODEL_bd095832941b40579101a2202733595b",
       "style": "IPY_MODEL_3a234d18388f463496caf8ce3871698e",
       "value": 30
      }
     },
     "2d8157d941184562817ecf02b230357b": {
      "model_module": "@jupyter-widgets/controls",
      "model_module_version": "1.4.0",
      "model_name": "ButtonModel",
      "state": {
       "description": "Bottom left",
       "layout": "IPY_MODEL_f0a8dbd576aa4881bec919c849a08144",
       "style": "IPY_MODEL_02789c5910004bd09af4f8a615a5892b"
      }
     },
     "2d82ef6f8a51460d88b1c5d1feab25e2": {
      "model_module": "@jupyter-widgets/controls",
      "model_module_version": "1.4.0",
      "model_name": "ButtonModel",
      "state": {
       "description": "Top left",
       "layout": "IPY_MODEL_ee180c6c85f1407e8539a4da1d43fa80",
       "style": "IPY_MODEL_decba32da0ed487ca0a45399441a20e3"
      }
     },
     "2dafce3e4fab48bd834b216cb483e9e1": {
      "model_module": "@jupyter-widgets/base",
      "model_module_version": "1.1.0",
      "model_name": "LayoutModel",
      "state": {
       "grid_area": "top-left"
      }
     },
     "2dc3441378b34793b8b9b45dea013f86": {
      "model_module": "@jupyter-widgets/base",
      "model_module_version": "1.1.0",
      "model_name": "LayoutModel",
      "state": {
       "grid_area": "top-right"
      }
     },
     "2de1adf7ad384c4b9df25609c5c916bb": {
      "model_module": "@jupyter-widgets/base",
      "model_module_version": "1.1.0",
      "model_name": "LayoutModel",
      "state": {
       "grid_template_areas": "\"top-left top-right\"\n\"bottom-left bottom-right\"",
       "grid_template_columns": "1fr 1fr",
       "grid_template_rows": "1fr 1fr",
       "width": "auto"
      }
     },
     "2e0e78fd11a5401bb03d9ee99c2f6fce": {
      "model_module": "@jupyter-widgets/base",
      "model_module_version": "1.1.0",
      "model_name": "LayoutModel",
      "state": {
       "grid_template_areas": "\"top-left bottom-right\"\n\"bottom-left bottom-right\"",
       "grid_template_columns": "1fr 1fr",
       "grid_template_rows": "1fr 1fr",
       "width": "auto"
      }
     },
     "2e4e11c9d63344228a42d98b0ad77610": {
      "model_module": "@jupyter-widgets/base",
      "model_module_version": "1.1.0",
      "model_name": "LayoutModel",
      "state": {
       "grid_area": "top-left"
      }
     },
     "2e4e6da264be44cb9807a2314f19a370": {
      "model_module": "@jupyter-widgets/controls",
      "model_module_version": "1.4.0",
      "model_name": "FloatSliderModel",
      "state": {
       "layout": "IPY_MODEL_17ef0daa10774fd8950a14b16c60ab6e",
       "max": 1,
       "step": 0.1,
       "style": "IPY_MODEL_71bcd1ad7d2a42fa8b25bba3777b672e",
       "value": null
      }
     },
     "2e52b001fcff4287a672c59bdc91250d": {
      "model_module": "@jupyter-widgets/base",
      "model_module_version": "1.1.0",
      "model_name": "LayoutModel",
      "state": {
       "grid_template_areas": "\"top-left bottom-right\"\n\"bottom-left bottom-right\"",
       "grid_template_columns": "1fr 1fr",
       "grid_template_rows": "1fr 1fr",
       "width": "auto"
      }
     },
     "2ea9e5e7f1a14f89b769910a9fba0014": {
      "model_module": "@jupyter-widgets/controls",
      "model_module_version": "1.4.0",
      "model_name": "IntTextModel",
      "state": {
       "layout": "IPY_MODEL_9b9048abc96348babd5fccaf82962824",
       "step": 1,
       "style": "IPY_MODEL_fb35e2bc0dba480987f24230831124ac",
       "value": 25
      }
     },
     "2eab607ba03045af98e5acac7e44cbae": {
      "model_module": "@jupyter-widgets/base",
      "model_module_version": "1.1.0",
      "model_name": "LayoutModel",
      "state": {
       "align_items": "center",
       "grid_template_areas": "\"top-left bottom-right\"\n\"bottom-left bottom-right\"",
       "grid_template_columns": "1fr 1fr",
       "grid_template_rows": "1fr 1fr",
       "height": "300px",
       "width": "80%"
      }
     },
     "2eddb3e5faf54a36a82a18bae896a9bb": {
      "model_module": "@jupyter-widgets/controls",
      "model_module_version": "1.4.0",
      "model_name": "SliderStyleModel",
      "state": {
       "description_width": ""
      }
     },
     "2ef6ba2949c44e0784ef759553ec72db": {
      "model_module": "@jupyter-widgets/controls",
      "model_module_version": "1.4.0",
      "model_name": "ButtonStyleModel",
      "state": {}
     },
     "2efc4bb799cf4eb89ee5b00ca51c1f8c": {
      "model_module": "@jupyter-widgets/base",
      "model_module_version": "1.1.0",
      "model_name": "LayoutModel",
      "state": {
       "grid_area": "top-right"
      }
     },
     "2f07667218c349a794f5cddca8ac9147": {
      "model_module": "@jupyter-widgets/base",
      "model_module_version": "1.1.0",
      "model_name": "LayoutModel",
      "state": {
       "grid_template_areas": "\"top-left top-left\"\n\"bottom-left bottom-left\"",
       "grid_template_columns": "1fr 1fr",
       "grid_template_rows": "1fr 1fr",
       "width": "auto"
      }
     },
     "2f49b0634b444e3f9895513a7ba798fe": {
      "model_module": "@jupyter-widgets/controls",
      "model_module_version": "1.4.0",
      "model_name": "ButtonModel",
      "state": {
       "description": "Bottom left",
       "layout": "IPY_MODEL_7213f847a18441baa75bda20ae7d3046",
       "style": "IPY_MODEL_ba3fbe5896fd4e67ab9c91db4b9d05e5"
      }
     },
     "2f4a002ed4544167b209c255b339111e": {
      "model_module": "@jupyter-widgets/base",
      "model_module_version": "1.1.0",
      "model_name": "LayoutModel",
      "state": {
       "grid_area": "top-left"
      }
     },
     "2f6a59a8607a485e98292d16aee064fc": {
      "model_module": "@jupyter-widgets/controls",
      "model_module_version": "1.4.0",
      "model_name": "ButtonModel",
      "state": {
       "description": "Top left",
       "layout": "IPY_MODEL_f713656574f24899882ca7c40e19d8b0",
       "style": "IPY_MODEL_088bb444e3cc45fca86def47004f6c5c"
      }
     },
     "2fb1e99116594c6ca91ddbf4a9eaa372": {
      "model_module": "@jupyter-widgets/base",
      "model_module_version": "1.1.0",
      "model_name": "LayoutModel",
      "state": {
       "grid_area": "top-left"
      }
     },
     "2fb6d3f771f74d5489b423ac6f8baa43": {
      "model_module": "@jupyter-widgets/controls",
      "model_module_version": "1.4.0",
      "model_name": "ButtonStyleModel",
      "state": {}
     },
     "2fc7817e9ecf43939bbfe41f9732ca6e": {
      "model_module": "bqplot",
      "model_module_version": "^0.4.5",
      "model_name": "AxisModel",
      "state": {
       "scale": "IPY_MODEL_9d197d997a7948c68970a213870e6c43",
       "side": "bottom",
       "tick_values": {
        "type": null,
        "values": null
       }
      }
     },
     "2fc9b15751454188b80fcb704a1e04b3": {
      "model_module": "@jupyter-widgets/controls",
      "model_module_version": "1.4.0",
      "model_name": "SliderStyleModel",
      "state": {
       "description_width": ""
      }
     },
     "2fd36c6a266a4ba3bd71d9be06f1e71d": {
      "model_module": "@jupyter-widgets/controls",
      "model_module_version": "1.4.0",
      "model_name": "ButtonStyleModel",
      "state": {}
     },
     "2fd5269438fa4283b31fe6356b151adf": {
      "model_module": "@jupyter-widgets/controls",
      "model_module_version": "1.4.0",
      "model_name": "ButtonModel",
      "state": {
       "description": "Top right",
       "layout": "IPY_MODEL_4b8913b78ca644f2b92fcd1ffc734ac1",
       "style": "IPY_MODEL_9d442734f00a4416a0304284c80d4ddb"
      }
     },
     "3000e945490c478da5d77fad838e7dc5": {
      "model_module": "@jupyter-widgets/controls",
      "model_module_version": "1.4.0",
      "model_name": "ButtonModel",
      "state": {
       "description": "Top left",
       "layout": "IPY_MODEL_c0349d7e2b47424eaf6bde1a85c3391a",
       "style": "IPY_MODEL_1b1444271e26441ebfaf319ee72f3794"
      }
     },
     "30336f9f1a0440f1ae0a211835743d60": {
      "model_module": "@jupyter-widgets/controls",
      "model_module_version": "1.4.0",
      "model_name": "ButtonStyleModel",
      "state": {}
     },
     "305730ec8891412cab9bf15cd8c096ec": {
      "model_module": "@jupyter-widgets/controls",
      "model_module_version": "1.4.0",
      "model_name": "FloatSliderModel",
      "state": {
       "layout": "IPY_MODEL_a04a344fafb445828d0612289dc717df",
       "max": 1,
       "step": 0.1,
       "style": "IPY_MODEL_797c9fb5bc0244649a5abe1d690d2524"
      }
     },
     "306e59f07ea844dcb43fe79478af8199": {
      "model_module": "@jupyter-widgets/controls",
      "model_module_version": "1.4.0",
      "model_name": "GridBoxModel",
      "state": {
       "children": [
        "IPY_MODEL_98262e9f92f44a7f90862be95bb0aa54",
        "IPY_MODEL_d70cf53bc42e44c69f9e262ff5a57ff0",
        "IPY_MODEL_4a4fe18a30824a5ebb3911633853dfa5",
        "IPY_MODEL_8d40679073dc4cba845b4682fdc0b626"
       ],
       "layout": "IPY_MODEL_95c031a144c2478ba44d32eb7c840019"
      }
     },
     "306fdd5825ca47d999a7f43fed5e2254": {
      "model_module": "@jupyter-widgets/controls",
      "model_module_version": "1.4.0",
      "model_name": "GridBoxModel",
      "state": {
       "children": [
        "IPY_MODEL_5a2d2167b11c4c0d9b7daba1754e0747",
        "IPY_MODEL_079a762fc482499b80c53bef018494f2"
       ],
       "layout": "IPY_MODEL_ab20262360c3438bafd98059d9eb1b79"
      }
     },
     "3093b27b8e394f52bcec1ef2a67ae097": {
      "model_module": "@jupyter-widgets/controls",
      "model_module_version": "1.4.0",
      "model_name": "LinkModel",
      "state": {
       "source": [
        "IPY_MODEL_fc11ab93b8894a1da80a45d5a56a5136",
        "min"
       ],
       "target": [
        "IPY_MODEL_562bf23ee3c84e02bc28eb920c15229e",
        "value"
       ]
      }
     },
     "309505df5d4e49c89f6eb96da462015f": {
      "model_module": "@jupyter-widgets/controls",
      "model_module_version": "1.4.0",
      "model_name": "ButtonModel",
      "state": {
       "description": "Top right",
       "layout": "IPY_MODEL_dcf3746c910749008b1da804ad9294e7",
       "style": "IPY_MODEL_4d4656e164f14afe9896781c441acfe7"
      }
     },
     "30ad37700b3b4c11939d8df91d7a420f": {
      "model_module": "@jupyter-widgets/base",
      "model_module_version": "1.1.0",
      "model_name": "LayoutModel",
      "state": {
       "grid_area": "top-left"
      }
     },
     "30b1a91feeb64b7e939056af5eeb79d4": {
      "model_module": "@jupyter-widgets/controls",
      "model_module_version": "1.4.0",
      "model_name": "ButtonModel",
      "state": {
       "description": "Top left",
       "layout": "IPY_MODEL_2cb6784a8a194a1aa9b72e0db220dd97",
       "style": "IPY_MODEL_cf7f5ddfe8754bc1a861c9e3aad702d9"
      }
     },
     "30b771b7247a4f57a6677b8ecfdba425": {
      "model_module": "@jupyter-widgets/base",
      "model_module_version": "1.1.0",
      "model_name": "LayoutModel",
      "state": {
       "grid_area": "top-left"
      }
     },
     "30c5f3aee10d4a37affcb0f481f803a3": {
      "model_module": "bqplot",
      "model_module_version": "^0.4.5",
      "model_name": "LinearScaleModel",
      "state": {
       "max": 1,
       "min": 0.05,
       "stabilized": false
      }
     },
     "30cb6f8186f84523a903ae16836bb181": {
      "model_module": "@jupyter-widgets/controls",
      "model_module_version": "1.4.0",
      "model_name": "SliderStyleModel",
      "state": {
       "description_width": ""
      }
     },
     "30de310c61ee403f8f00722ac32cf7f0": {
      "model_module": "@jupyter-widgets/base",
      "model_module_version": "1.1.0",
      "model_name": "LayoutModel",
      "state": {
       "grid_template_areas": "\"top-left top-right\"\n\"bottom-left top-right\"",
       "grid_template_columns": "1fr 1fr",
       "grid_template_rows": "1fr 1fr",
       "width": "auto"
      }
     },
     "30eb8e836f88420280c2f76ff56fd45e": {
      "model_module": "@jupyter-widgets/controls",
      "model_module_version": "1.4.0",
      "model_name": "GridBoxModel",
      "state": {
       "children": [
        "IPY_MODEL_b7f57ecec42a4acfb3bc4485f42d9a4d",
        "IPY_MODEL_2923978c50dd47559dc8e4e23f59a29f",
        "IPY_MODEL_5417f5667d214cedb69e0bafa9e69187",
        "IPY_MODEL_e549f2a36b5c4103a84f5229d2e08109"
       ],
       "layout": "IPY_MODEL_b23940f4e06f419390f8916ff69e2c02"
      }
     },
     "30ff45408dfa43c8afd071d89a7a3c4a": {
      "model_module": "bqplot",
      "model_module_version": "^0.4.5",
      "model_name": "LinearScaleModel",
      "state": {
       "allow_padding": false,
       "max": 1,
       "min": 0,
       "stabilized": false
      }
     },
     "3106bf2450ea480c99f00db83ba50f4f": {
      "model_module": "@jupyter-widgets/controls",
      "model_module_version": "1.4.0",
      "model_name": "ButtonModel",
      "state": {
       "description": "Top left",
       "layout": "IPY_MODEL_b3cc93184c424d1094239780e95b7839",
       "style": "IPY_MODEL_ddb9e240575e4ddb83c7b9c9b2a7b0a4"
      }
     },
     "3118b28a88cb433b934e1496689c4c88": {
      "model_module": "@jupyter-widgets/controls",
      "model_module_version": "1.4.0",
      "model_name": "ButtonStyleModel",
      "state": {}
     },
     "312c26c2682d4ff0a4836ba3f39f9daf": {
      "model_module": "@jupyter-widgets/controls",
      "model_module_version": "1.4.0",
      "model_name": "ButtonStyleModel",
      "state": {}
     },
     "316560221dfc444596fd8e5559c4d939": {
      "model_module": "@jupyter-widgets/controls",
      "model_module_version": "1.4.0",
      "model_name": "LinkModel",
      "state": {
       "source": [
        "IPY_MODEL_013bc7698dad4c6ba210ed81b6ef0eb9",
        "value"
       ],
       "target": [
        "IPY_MODEL_5d0d617e1067446d8a64ba15838f39ee",
        "value"
       ]
      }
     },
     "31683ed246e449b4aeb988346387c343": {
      "model_module": "@jupyter-widgets/controls",
      "model_module_version": "1.4.0",
      "model_name": "ButtonModel",
      "state": {
       "description": "Bottom left",
       "layout": "IPY_MODEL_2b6927f520554952b334fe1b92293305",
       "style": "IPY_MODEL_cf14b6a329494a26abfe7cff2d13e90b"
      }
     },
     "318c2d6a1e5c4e52a1aab7b92040583e": {
      "model_module": "@jupyter-widgets/base",
      "model_module_version": "1.1.0",
      "model_name": "LayoutModel",
      "state": {
       "grid_area": "bottom-left",
       "width": "200px"
      }
     },
     "318c5d2346a24754afffe6d13cc500a3": {
      "model_module": "@jupyter-widgets/base",
      "model_module_version": "1.1.0",
      "model_name": "LayoutModel",
      "state": {
       "grid_area": "top-right"
      }
     },
     "31b2b0688a664dc9bd9840cca4a7a2e3": {
      "model_module": "@jupyter-widgets/controls",
      "model_module_version": "1.4.0",
      "model_name": "ButtonModel",
      "state": {
       "description": "Bottom right",
       "layout": "IPY_MODEL_a367a4db57dc43b8b3f676a3feeed6bd",
       "style": "IPY_MODEL_f6dfcf71c4e248c7bc88f7c6fddd29d8"
      }
     },
     "31e52240f4474814af41d6c989907b4f": {
      "model_module": "bqplot",
      "model_module_version": "^0.4.5",
      "model_name": "AxisModel",
      "state": {
       "scale": "IPY_MODEL_a191ff141a594fe0b562b1097c2cd2ea",
       "side": "bottom",
       "tick_values": {
        "type": null,
        "values": null
       }
      }
     },
     "320636a3704b4ce18a535698cad85a10": {
      "model_module": "@jupyter-widgets/base",
      "model_module_version": "1.1.0",
      "model_name": "LayoutModel",
      "state": {
       "grid_area": "top-left"
      }
     },
     "32567a7d1eec4bd2b4658f19ddf092b3": {
      "model_module": "@jupyter-widgets/base",
      "model_module_version": "1.1.0",
      "model_name": "LayoutModel",
      "state": {
       "grid_template_areas": "\"top-left top-right\"\n\"bottom-left top-right\"",
       "grid_template_columns": "1fr 1fr",
       "grid_template_rows": "1fr 1fr",
       "width": "auto"
      }
     },
     "3296fcc997504674b504296b03307117": {
      "model_module": "@jupyter-widgets/base",
      "model_module_version": "1.1.0",
      "model_name": "LayoutModel",
      "state": {
       "grid_area": "top-left"
      }
     },
     "32d5d8ab47ee42009144dba58f3789a3": {
      "model_module": "@jupyter-widgets/controls",
      "model_module_version": "1.4.0",
      "model_name": "SliderStyleModel",
      "state": {
       "description_width": ""
      }
     },
     "32e36ad207ef403aa82354f2b3fc0cd1": {
      "model_module": "@jupyter-widgets/controls",
      "model_module_version": "1.4.0",
      "model_name": "ButtonModel",
      "state": {
       "description": "Bottom left",
       "layout": "IPY_MODEL_0ddd36a4c37d4da4a961c4b0a5b0e2b8",
       "style": "IPY_MODEL_5cff3ae9300548e98443a4be9e220554"
      }
     },
     "330f819df0a644168f2833916694bd36": {
      "model_module": "@jupyter-widgets/controls",
      "model_module_version": "1.4.0",
      "model_name": "ButtonStyleModel",
      "state": {}
     },
     "331334b515d44663bd1d1160a6e4b36b": {
      "model_module": "bqplot",
      "model_module_version": "^0.4.5",
      "model_name": "OrdinalScaleModel",
      "state": {
       "domain": []
      }
     },
     "3319483583ee47af9e1633f0f6859634": {
      "model_module": "bqplot",
      "model_module_version": "^0.4.5",
      "model_name": "OrdinalScaleModel",
      "state": {
       "domain": []
      }
     },
     "332d151004c24e78bbb0ca7087219f35": {
      "model_module": "@jupyter-widgets/base",
      "model_module_version": "1.1.0",
      "model_name": "LayoutModel",
      "state": {
       "grid_area": "bottom-left"
      }
     },
     "332f96d84e014e5399462eac010ddd61": {
      "model_module": "@jupyter-widgets/base",
      "model_module_version": "1.1.0",
      "model_name": "LayoutModel",
      "state": {
       "grid_area": "bottom-right"
      }
     },
     "33673a36202540e5be453e0a889bc5dc": {
      "model_module": "@jupyter-widgets/controls",
      "model_module_version": "1.4.0",
      "model_name": "ButtonModel",
      "state": {
       "description": "Bottom left",
       "layout": "IPY_MODEL_fa12d0d27f3840fea5ea95d8e3a909e6",
       "style": "IPY_MODEL_7406a2fbe5c449798640e040696b540a"
      }
     },
     "338c845e6479415cb1d693cb4259f112": {
      "model_module": "@jupyter-widgets/base",
      "model_module_version": "1.1.0",
      "model_name": "LayoutModel",
      "state": {
       "grid_area": "bottom-left"
      }
     },
     "339fd472ac44487c85d8b456412839d1": {
      "model_module": "@jupyter-widgets/base",
      "model_module_version": "1.1.0",
      "model_name": "LayoutModel",
      "state": {
       "grid_area": "top-left"
      }
     },
     "33b422fd9df64e9290361e73285a6d16": {
      "model_module": "@jupyter-widgets/base",
      "model_module_version": "1.1.0",
      "model_name": "LayoutModel",
      "state": {
       "grid_area": "bottom-left",
       "height": "20px",
       "width": "300px"
      }
     },
     "33c378c15ef848859880ed2fc2ed655e": {
      "model_module": "@jupyter-widgets/base",
      "model_module_version": "1.1.0",
      "model_name": "LayoutModel",
      "state": {
       "grid_area": "top-left"
      }
     },
     "33ee9ef51c934175969c5fb50e0dc087": {
      "model_module": "bqplot",
      "model_module_version": "^0.4.5",
      "model_name": "FigureModel",
      "state": {
       "_dom_classes": [],
       "axes": [
        "IPY_MODEL_31e52240f4474814af41d6c989907b4f",
        "IPY_MODEL_0e4c97ff23b34430a5ce989b06085df5"
       ],
       "layout": "IPY_MODEL_64af6651ff054841bb0ccd0d31fb719d",
       "marks": [
        "IPY_MODEL_7741d0dd0c134bbab9223d917921c474"
       ],
       "padding_x": 0.025,
       "scale_x": "IPY_MODEL_bd098aaa810b4f59bbb35ac9e1cc1184",
       "scale_y": "IPY_MODEL_0aefd8dc22164b65a2f057ebdbcb331a"
      }
     },
     "34031bd2d1c6462ca2ddb29914118260": {
      "model_module": "@jupyter-widgets/controls",
      "model_module_version": "1.4.0",
      "model_name": "DescriptionStyleModel",
      "state": {
       "description_width": ""
      }
     },
     "34099f6c55f0425395feafa194b78d2d": {
      "model_module": "@jupyter-widgets/controls",
      "model_module_version": "1.4.0",
      "model_name": "ButtonModel",
      "state": {
       "description": "Bottom left",
       "layout": "IPY_MODEL_689ac12dc080466a808da096a205b65d",
       "style": "IPY_MODEL_78f23ae9c9284d24ae861048308ceb47"
      }
     },
     "3410c02a5d6c4a7697a5c66c9e5d7439": {
      "model_module": "@jupyter-widgets/base",
      "model_module_version": "1.1.0",
      "model_name": "LayoutModel",
      "state": {
       "grid_template_areas": "\"top-left top-right\"\n\"bottom-left bottom-right\"",
       "grid_template_columns": "1fr 1fr",
       "grid_template_rows": "1fr 1fr",
       "width": "auto"
      }
     },
     "341116f30f0245eaa2d27661a4528bef": {
      "model_module": "@jupyter-widgets/controls",
      "model_module_version": "1.4.0",
      "model_name": "ButtonStyleModel",
      "state": {}
     },
     "3418ed073c79437c803fcad8f6d534de": {
      "model_module": "bqplot",
      "model_module_version": "^0.4.5",
      "model_name": "AxisModel",
      "state": {
       "orientation": "vertical",
       "scale": "IPY_MODEL_ebb147aeea6d4453aacf9e22351c15dc",
       "side": "left",
       "tick_format": "0.2f",
       "tick_values": {
        "type": null,
        "values": null
       }
      }
     },
     "344e40e69d5e4f908fb37e8844befd3e": {
      "model_module": "@jupyter-widgets/base",
      "model_module_version": "1.1.0",
      "model_name": "LayoutModel",
      "state": {
       "grid_area": "bottom-left"
      }
     },
     "34ad9dc233c3488394cb1a0dea56c2b0": {
      "model_module": "@jupyter-widgets/base",
      "model_module_version": "1.1.0",
      "model_name": "LayoutModel",
      "state": {
       "grid_area": "bottom-right"
      }
     },
     "34be67c21b1a448eaf1f2fb51e6e204e": {
      "model_module": "@jupyter-widgets/controls",
      "model_module_version": "1.4.0",
      "model_name": "GridBoxModel",
      "state": {
       "children": [
        "IPY_MODEL_85d2b7d7aa61450ea1ac66f0cceff2eb",
        "IPY_MODEL_1f9e67c967fe4de189083a646f660b46",
        "IPY_MODEL_d20d966ef2b145f5a71a169e19d87115"
       ],
       "layout": "IPY_MODEL_7fc508b5a8c44de7801b2eba4e39551f"
      }
     },
     "34c7feda85364d72809b2232cd6192f0": {
      "model_module": "@jupyter-widgets/controls",
      "model_module_version": "1.4.0",
      "model_name": "LinkModel",
      "state": {
       "source": [
        "IPY_MODEL_352ed5678f7141dea76b5ffdec8e8813",
        "max"
       ],
       "target": [
        "IPY_MODEL_ec2026d0e7a84578b78d5b2249f800e5",
        "value"
       ]
      }
     },
     "34dd103088a349efaa1b3f084779910c": {
      "model_module": "bqplot",
      "model_module_version": "^0.4.5",
      "model_name": "LinearScaleModel",
      "state": {
       "allow_padding": false,
       "max": 1,
       "min": 0,
       "stabilized": false
      }
     },
     "34f1f360eec24e3b86450f1d08f375fc": {
      "model_module": "@jupyter-widgets/controls",
      "model_module_version": "1.4.0",
      "model_name": "GridBoxModel",
      "state": {
       "children": [
        "IPY_MODEL_60f2ff9663fe4fe994b84b04d75519ce",
        "IPY_MODEL_957133507aa84139abd3e430b6702ca7",
        "IPY_MODEL_411da36796cf4aa9a7d4757f33747ca7"
       ],
       "layout": "IPY_MODEL_aa677b8c7b0e4e558498705a60fee34a"
      }
     },
     "35020bcdcf644b57be7152835f85bd1c": {
      "model_module": "@jupyter-widgets/controls",
      "model_module_version": "1.4.0",
      "model_name": "ButtonStyleModel",
      "state": {}
     },
     "3519d7a29b3d4cc4a6003cba34b6d9ee": {
      "model_module": "@jupyter-widgets/base",
      "model_module_version": "1.1.0",
      "model_name": "LayoutModel",
      "state": {
       "grid_template_areas": "\"top-left top-right\"\n\"bottom-left bottom-right\"",
       "grid_template_columns": "1fr 1fr",
       "grid_template_rows": "1fr 1fr"
      }
     },
     "352ed5678f7141dea76b5ffdec8e8813": {
      "model_module": "bqplot",
      "model_module_version": "^0.4.5",
      "model_name": "LinearScaleModel",
      "state": {
       "stabilized": false
      }
     },
     "354c9bf240c54ca4bc4988b63cfaaf60": {
      "model_module": "@jupyter-widgets/controls",
      "model_module_version": "1.4.0",
      "model_name": "ButtonStyleModel",
      "state": {}
     },
     "3550193e13444a878cd93f6c52ad4bac": {
      "model_module": "@jupyter-widgets/controls",
      "model_module_version": "1.4.0",
      "model_name": "ButtonModel",
      "state": {
       "description": "Top left",
       "layout": "IPY_MODEL_52c87d92ce8149429c81214e3be4cb03",
       "style": "IPY_MODEL_8cf5cc03707e42b3a358248644a6a807"
      }
     },
     "355a1b8c2fe542c2b901212251eb7f79": {
      "model_module": "@jupyter-widgets/controls",
      "model_module_version": "1.4.0",
      "model_name": "LinkModel",
      "state": {
       "source": [
        "IPY_MODEL_cbcb6d5705fa40ac90206f70fb000b91",
        "value"
       ],
       "target": [
        "IPY_MODEL_5574bbb10c2e4a6a964083312d8e0252",
        "value"
       ]
      }
     },
     "358c17f5c0084c288baa7525e0998de1": {
      "model_module": "@jupyter-widgets/base",
      "model_module_version": "1.1.0",
      "model_name": "LayoutModel",
      "state": {
       "grid_template_areas": "\"top-left bottom-right\"\n\"bottom-left bottom-right\"",
       "grid_template_columns": "1fr 1fr",
       "grid_template_rows": "1fr 1fr",
       "width": "auto"
      }
     },
     "35908223f4c54d8a954f92ef82e45776": {
      "model_module": "@jupyter-widgets/controls",
      "model_module_version": "1.4.0",
      "model_name": "FloatSliderModel",
      "state": {
       "layout": "IPY_MODEL_e263e77ef4e44a4595de8b9191b40631",
       "max": 1,
       "step": 0.1,
       "style": "IPY_MODEL_faf8d01562574d62976f1a8cf0eb94fc"
      }
     },
     "35a780c694214b13b1cb66157fa2b616": {
      "model_module": "@jupyter-widgets/controls",
      "model_module_version": "1.4.0",
      "model_name": "IntSliderModel",
      "state": {
       "layout": "IPY_MODEL_a5eebf178d5041a3869fb4cc0f604907",
       "style": "IPY_MODEL_4a69c34244aa4358af2105e42d87efbd",
       "value": 30
      }
     },
     "35c258eca3b14884928cbe23c5f0a37b": {
      "model_module": "@jupyter-widgets/controls",
      "model_module_version": "1.4.0",
      "model_name": "ButtonModel",
      "state": {
       "description": "Bottom left",
       "layout": "IPY_MODEL_344e40e69d5e4f908fb37e8844befd3e",
       "style": "IPY_MODEL_f868d2478e7c41ae9cbfa52f46451adc"
      }
     },
     "35c66ae818b747018efdb739908e2444": {
      "model_module": "@jupyter-widgets/controls",
      "model_module_version": "1.4.0",
      "model_name": "LinkModel",
      "state": {
       "source": [
        "IPY_MODEL_bea03538a7c8474e82273918f3abe2a7",
        "max"
       ],
       "target": [
        "IPY_MODEL_89425658b7c84114b02ea3b508a71b5e",
        "value"
       ]
      }
     },
     "3615f6ab808049e5990ec785d4b07de0": {
      "model_module": "bqplot",
      "model_module_version": "^0.4.5",
      "model_name": "FigureModel",
      "state": {
       "_dom_classes": [],
       "axes": [
        "IPY_MODEL_12fdbaf378fd4a5ea265abc2698dd460",
        "IPY_MODEL_41d897658834494e82d833700576a5ba"
       ],
       "layout": "IPY_MODEL_365cd6c6651e44aea694ef8566eee416",
       "marks": [
        "IPY_MODEL_aeff68289e8548f888faa16240337872"
       ],
       "padding_x": 0.025,
       "scale_x": "IPY_MODEL_98fd7c3fc9574a4e9d6eb7666027fa59",
       "scale_y": "IPY_MODEL_f363dfd27bc343478f4328683c2f36cc"
      }
     },
     "364b816f964d4926845d4988d73954b5": {
      "model_module": "bqplot",
      "model_module_version": "^0.4.5",
      "model_name": "OrdinalScaleModel",
      "state": {
       "domain": []
      }
     },
     "365cd6c6651e44aea694ef8566eee416": {
      "model_module": "@jupyter-widgets/base",
      "model_module_version": "1.1.0",
      "model_name": "LayoutModel",
      "state": {
       "grid_area": "bottom-right",
       "min_width": "125px"
      }
     },
     "3667984534f34d9caca9f23fab17a9b6": {
      "model_module": "@jupyter-widgets/controls",
      "model_module_version": "1.4.0",
      "model_name": "ButtonModel",
      "state": {
       "description": "Bottom right",
       "layout": "IPY_MODEL_27aba0ebb567451db86006b3f9e2cf52",
       "style": "IPY_MODEL_0b33e0641fec4bbe9e65f2b2fb8a4487"
      }
     },
     "367eb4d8099747fe8fdb718d8c4eb31c": {
      "model_module": "@jupyter-widgets/controls",
      "model_module_version": "1.4.0",
      "model_name": "ButtonModel",
      "state": {
       "description": "Top left",
       "layout": "IPY_MODEL_e19d0b2903b2461ba5bba3da0b6a02ac",
       "style": "IPY_MODEL_4d614cd6d04744ceb30b9dff9ecac5c0"
      }
     },
     "3694ae1ffebf41ffaa682aedab1cc29a": {
      "model_module": "@jupyter-widgets/controls",
      "model_module_version": "1.4.0",
      "model_name": "FloatSliderModel",
      "state": {
       "description": "Max: ",
       "layout": "IPY_MODEL_71e312bea7a44029b813ac9566db944c",
       "max": 10,
       "min": 1,
       "step": 0.1,
       "style": "IPY_MODEL_4d2b6b9b826248d7a5828ed2d3b0acf5",
       "value": 1
      }
     },
     "3696fd1250a249ce8c0343b6f13e97c1": {
      "model_module": "@jupyter-widgets/controls",
      "model_module_version": "1.4.0",
      "model_name": "GridBoxModel",
      "state": {
       "children": [
        "IPY_MODEL_ea58784fa2184d3b9ff442b81c5dc9b5",
        "IPY_MODEL_e529995795714b70b808ac02d96ebc0a",
        "IPY_MODEL_aff55b195a0f48a29b081f1342c23fb6"
       ],
       "layout": "IPY_MODEL_a80fb96e858245c6a51824e35adc71f7"
      }
     },
     "36c84db401a74014bc6139a5ff48eb3e": {
      "model_module": "@jupyter-widgets/controls",
      "model_module_version": "1.4.0",
      "model_name": "ButtonStyleModel",
      "state": {}
     },
     "36e7d0fc594e4d3ab6d790594a76e9a0": {
      "model_module": "@jupyter-widgets/controls",
      "model_module_version": "1.4.0",
      "model_name": "ButtonStyleModel",
      "state": {}
     },
     "370773ad30d64df98174c606af7e3a75": {
      "model_module": "@jupyter-widgets/controls",
      "model_module_version": "1.4.0",
      "model_name": "LinkModel",
      "state": {
       "source": [
        "IPY_MODEL_f7bcaa7244194cb4a61d16ad20a9f734",
        "value"
       ],
       "target": [
        "IPY_MODEL_2d4774b7a70145bd902a855539d3c44d",
        "value"
       ]
      }
     },
     "371ad0f411a74854bcaa112a48518fb4": {
      "model_module": "@jupyter-widgets/base",
      "model_module_version": "1.1.0",
      "model_name": "LayoutModel",
      "state": {
       "grid_area": "top-left"
      }
     },
     "372480ffed0043868a557611df2d7a72": {
      "model_module": "@jupyter-widgets/controls",
      "model_module_version": "1.4.0",
      "model_name": "ButtonStyleModel",
      "state": {}
     },
     "3744d14164074b7b99c25dc2439dc832": {
      "model_module": "@jupyter-widgets/controls",
      "model_module_version": "1.4.0",
      "model_name": "ButtonModel",
      "state": {
       "description": "Top left",
       "layout": "IPY_MODEL_9357d23b258140229ef8e17b899fbbf9",
       "style": "IPY_MODEL_7865b979812a482aa680f1d09e29df27"
      }
     },
     "3749d776b1ce4d85bdae6ccbcf69a97c": {
      "model_module": "@jupyter-widgets/base",
      "model_module_version": "1.1.0",
      "model_name": "LayoutModel",
      "state": {
       "grid_area": "bottom-right"
      }
     },
     "37557a58832748cc81f0303d519f0eca": {
      "model_module": "@jupyter-widgets/controls",
      "model_module_version": "1.4.0",
      "model_name": "ButtonStyleModel",
      "state": {}
     },
     "3764666ab2d640df9fc0e4c5b0af1bf1": {
      "model_module": "@jupyter-widgets/controls",
      "model_module_version": "1.4.0",
      "model_name": "DescriptionStyleModel",
      "state": {
       "description_width": ""
      }
     },
     "37c5074eee1a468dae9a6f0b4ce20fd8": {
      "model_module": "@jupyter-widgets/controls",
      "model_module_version": "1.4.0",
      "model_name": "ButtonModel",
      "state": {
       "layout": "IPY_MODEL_412b7908503342aa9c3d4da1bcb60951",
       "style": "IPY_MODEL_497f5602613e4a98abbd736ea93647f7"
      }
     },
     "382accc6306c4eb5a2b2ab7e416ccf58": {
      "model_module": "@jupyter-widgets/base",
      "model_module_version": "1.1.0",
      "model_name": "LayoutModel",
      "state": {
       "grid_area": "bottom-left"
      }
     },
     "389d45e8173e481ebe8f3ec661b130c8": {
      "model_module": "@jupyter-widgets/controls",
      "model_module_version": "1.4.0",
      "model_name": "ButtonModel",
      "state": {
       "layout": "IPY_MODEL_18fb60589a0b4fb791788460eaad00cb",
       "style": "IPY_MODEL_1475dde5ae0c4c41b8ca114872fc44bc"
      }
     },
     "38e39d085ebf4c3a9e0ba5ce1317d7ac": {
      "model_module": "@jupyter-widgets/controls",
      "model_module_version": "1.4.0",
      "model_name": "ButtonModel",
      "state": {
       "description": "Bottom left",
       "layout": "IPY_MODEL_8ef5955053be4e3e8b0bf7399995b945",
       "style": "IPY_MODEL_e9ca3043841c4047857b642c8632b5cc"
      }
     },
     "3914a57f3a0d490783129a6092741b9f": {
      "model_module": "@jupyter-widgets/base",
      "model_module_version": "1.1.0",
      "model_name": "LayoutModel",
      "state": {
       "grid_area": "bottom-right",
       "height": "100%"
      }
     },
     "39763ae289274188ae14d0b8550c224d": {
      "model_module": "@jupyter-widgets/base",
      "model_module_version": "1.1.0",
      "model_name": "LayoutModel",
      "state": {
       "grid_template_areas": "\"top-left top-right\"\n\"bottom-left bottom-right\"",
       "grid_template_columns": "1fr 1fr",
       "grid_template_rows": "1fr 1fr",
       "width": "auto"
      }
     },
     "39b4afd201fb4a32967579a1fa05c4e1": {
      "model_module": "@jupyter-widgets/base",
      "model_module_version": "1.1.0",
      "model_name": "LayoutModel",
      "state": {
       "grid_area": "bottom-right"
      }
     },
     "39d99614d75f4f9695f8c9c90508f31e": {
      "model_module": "@jupyter-widgets/base",
      "model_module_version": "1.1.0",
      "model_name": "LayoutModel",
      "state": {
       "grid_area": "bottom-left",
       "height": "20px",
       "width": "200px"
      }
     },
     "3a1e855e705f43e7980f3a1ddb17cfe3": {
      "model_module": "@jupyter-widgets/controls",
      "model_module_version": "1.4.0",
      "model_name": "ButtonStyleModel",
      "state": {}
     },
     "3a234d18388f463496caf8ce3871698e": {
      "model_module": "@jupyter-widgets/controls",
      "model_module_version": "1.4.0",
      "model_name": "SliderStyleModel",
      "state": {
       "description_width": ""
      }
     },
     "3a262f68fc2841a9aacf6d30f6116a68": {
      "model_module": "@jupyter-widgets/controls",
      "model_module_version": "1.4.0",
      "model_name": "SliderStyleModel",
      "state": {
       "description_width": ""
      }
     },
     "3a4bfe4cd45c4167ae4daaf9eebb352e": {
      "model_module": "@jupyter-widgets/controls",
      "model_module_version": "1.4.0",
      "model_name": "ButtonModel",
      "state": {
       "description": "Bottom right",
       "layout": "IPY_MODEL_a99d077221a741b2be007cec38061e11",
       "style": "IPY_MODEL_d2450d1e487b442b99d84e4a92af542b"
      }
     },
     "3a800a256d984446a130dcc0d9f93c48": {
      "model_module": "bqplot",
      "model_module_version": "^0.4.5",
      "model_name": "BarsModel",
      "state": {
       "color": {
        "type": null,
        "values": null
       },
       "colors": [
        "steelblue"
       ],
       "display_legend": false,
       "scales": {
        "x": "IPY_MODEL_64b974ad42ef4ae7a0e5dc1e7eed28df",
        "y": "IPY_MODEL_750adc3de4564888a5eeee1aff47f592"
       },
       "selected": [],
       "x": {
        "type": "float",
        "values": [
         0,
         1,
         2,
         3,
         4,
         5,
         6,
         7,
         8,
         9
        ]
       },
       "y": {
        "type": "float",
        "values": [
         0.6288984390617004,
         0.3984342586196771,
         0.0627129520233457,
         0.42403225188984195,
         0.2586840668894077,
         0.8490383084285108,
         0.03330462654669619,
         0.9589827218634736,
         0.3553688484719296,
         0.3567068904025429
        ]
       }
      }
     },
     "3a864c36806f47d9b2761bd8c049a994": {
      "model_module": "@jupyter-widgets/base",
      "model_module_version": "1.1.0",
      "model_name": "LayoutModel",
      "state": {
       "grid_area": "bottom-left"
      }
     },
     "3ab423a6ced546798741f847fe60ebba": {
      "model_module": "@jupyter-widgets/base",
      "model_module_version": "1.1.0",
      "model_name": "LayoutModel",
      "state": {
       "grid_template_areas": "\"top-left bottom-right\"\n\"bottom-left bottom-right\"",
       "grid_template_columns": "1fr 1fr",
       "grid_template_rows": "1fr 1fr",
       "width": "auto"
      }
     },
     "3ae4b69a15ba4b5ba6398d19b6fe5102": {
      "model_module": "@jupyter-widgets/base",
      "model_module_version": "1.1.0",
      "model_name": "LayoutModel",
      "state": {
       "align_items": "center",
       "grid_template_areas": "\"top-left bottom-right\"\n\"bottom-left bottom-right\"",
       "grid_template_columns": "1fr 1fr",
       "grid_template_rows": "1fr 1fr"
      }
     },
     "3ae50a3b7a0f4080845df8f48adb4831": {
      "model_module": "@jupyter-widgets/base",
      "model_module_version": "1.1.0",
      "model_name": "LayoutModel",
      "state": {
       "grid_template_areas": "\"top-left bottom-right\"\n\"bottom-left bottom-right\"",
       "grid_template_columns": "1fr 1fr",
       "grid_template_rows": "1fr 1fr",
       "width": "auto"
      }
     },
     "3b00a3565e424c739b790e139db33d08": {
      "model_module": "@jupyter-widgets/controls",
      "model_module_version": "1.4.0",
      "model_name": "IntTextModel",
      "state": {
       "layout": "IPY_MODEL_dbb1b51d926443c4a9a478b8a31976ab",
       "step": 1,
       "style": "IPY_MODEL_81420eb5b0294f42a004485bbf22b549",
       "value": 25
      }
     },
     "3b2977b211d1452f99b2dd6ff4ca0a13": {
      "model_module": "@jupyter-widgets/base",
      "model_module_version": "1.1.0",
      "model_name": "LayoutModel",
      "state": {
       "grid_template_areas": "\"top-left bottom-right\"\n\"bottom-left bottom-right\"",
       "grid_template_columns": "1fr 1fr",
       "grid_template_rows": "1fr 1fr",
       "width": "auto"
      }
     },
     "3b2c53b2f1884b0ab172effafdc17e7f": {
      "model_module": "@jupyter-widgets/base",
      "model_module_version": "1.1.0",
      "model_name": "LayoutModel",
      "state": {
       "grid_area": "bottom-left"
      }
     },
     "3bc1e3e15b3f4cdc87020c9019a3dd58": {
      "model_module": "@jupyter-widgets/controls",
      "model_module_version": "1.4.0",
      "model_name": "ButtonStyleModel",
      "state": {}
     },
     "3bc264c3f4714307a23952660baf0d2c": {
      "model_module": "@jupyter-widgets/base",
      "model_module_version": "1.1.0",
      "model_name": "LayoutModel",
      "state": {
       "grid_area": "top-right"
      }
     },
     "3bf0e5baec2a41a7b4fafe921358875b": {
      "model_module": "@jupyter-widgets/base",
      "model_module_version": "1.1.0",
      "model_name": "LayoutModel",
      "state": {
       "grid_area": "top-left"
      }
     },
     "3bfa30eea5094a5aa06508b872164db8": {
      "model_module": "@jupyter-widgets/base",
      "model_module_version": "1.1.0",
      "model_name": "LayoutModel",
      "state": {
       "grid_area": "bottom-right",
       "height": "100%"
      }
     },
     "3c40bc2620b046c4a498c70edcbed62b": {
      "model_module": "@jupyter-widgets/controls",
      "model_module_version": "1.4.0",
      "model_name": "SliderStyleModel",
      "state": {
       "description_width": ""
      }
     },
     "3c55dd0a2f76483f94c32d5870c3f8b5": {
      "model_module": "@jupyter-widgets/controls",
      "model_module_version": "1.4.0",
      "model_name": "LinkModel",
      "state": {
       "source": [
        "IPY_MODEL_6e75f3c250b74904a7b2761e466af520",
        "max"
       ],
       "target": [
        "IPY_MODEL_ded08eb4176d4ba99699cdb1a3605e77",
        "value"
       ]
      }
     },
     "3c5bd16916e048b980864458eaffb304": {
      "model_module": "@jupyter-widgets/controls",
      "model_module_version": "1.4.0",
      "model_name": "ButtonStyleModel",
      "state": {}
     },
     "3c8c753c3b6e45be8e1cf87839a3b31c": {
      "model_module": "@jupyter-widgets/base",
      "model_module_version": "1.1.0",
      "model_name": "LayoutModel",
      "state": {
       "grid_template_areas": "\"top-left top-right\"\n\"bottom-left bottom-right\"",
       "grid_template_columns": "1fr 1fr",
       "grid_template_rows": "1fr 1fr",
       "width": "auto"
      }
     },
     "3c9cc32d9efc4a04af42415ebef95ddc": {
      "model_module": "@jupyter-widgets/controls",
      "model_module_version": "1.4.0",
      "model_name": "ButtonStyleModel",
      "state": {}
     },
     "3ca544d340c6413a8a0e11bae40ae469": {
      "model_module": "@jupyter-widgets/base",
      "model_module_version": "1.1.0",
      "model_name": "LayoutModel",
      "state": {
       "grid_area": "top-left"
      }
     },
     "3cba1a054904474ea224dd77039bafbf": {
      "model_module": "bqplot",
      "model_module_version": "^0.4.5",
      "model_name": "BarsModel",
      "state": {
       "color": {
        "type": null,
        "values": null
       },
       "colors": [
        "steelblue"
       ],
       "display_legend": false,
       "scales": {
        "x": "IPY_MODEL_0fedd6e7a0a749b28d8b620bad3d7763",
        "y": "IPY_MODEL_fc11ab93b8894a1da80a45d5a56a5136"
       },
       "selected": [],
       "x": {
        "type": "float",
        "values": [
         0,
         1,
         2,
         3,
         4,
         5,
         6,
         7,
         8,
         9
        ]
       },
       "y": {
        "type": "float",
        "values": [
         0.6288984390617004,
         0.3984342586196771,
         0.0627129520233457,
         0.42403225188984195,
         0.2586840668894077,
         0.8490383084285108,
         0.03330462654669619,
         0.9589827218634736,
         0.3553688484719296,
         0.3567068904025429
        ]
       }
      }
     },
     "3cc2632974cf4ca59d2b271572ddd3d8": {
      "model_module": "@jupyter-widgets/controls",
      "model_module_version": "1.4.0",
      "model_name": "LinkModel",
      "state": {
       "source": [
        "IPY_MODEL_fc11ab93b8894a1da80a45d5a56a5136",
        "max"
       ],
       "target": [
        "IPY_MODEL_a3c93aa3765249ac82ca615120aea61c",
        "value"
       ]
      }
     },
     "3cf88c0fc46a46a582eb717af855f4ae": {
      "model_module": "bqplot",
      "model_module_version": "^0.4.5",
      "model_name": "BarsModel",
      "state": {
       "color": {
        "type": null,
        "values": null
       },
       "colors": [
        "steelblue"
       ],
       "display_legend": false,
       "scales": {
        "x": "IPY_MODEL_0b8b3736a02b45b28018452aa75b35e0",
        "y": "IPY_MODEL_30c5f3aee10d4a37affcb0f481f803a3"
       },
       "selected": [],
       "x": {
        "type": "float",
        "values": [
         0,
         1,
         2,
         3,
         4,
         5,
         6,
         7,
         8,
         9
        ]
       },
       "y": {
        "type": "float",
        "values": [
         0.6288984390617004,
         0.3984342586196771,
         0.0627129520233457,
         0.42403225188984195,
         0.2586840668894077,
         0.8490383084285108,
         0.03330462654669619,
         0.9589827218634736,
         0.3553688484719296,
         0.3567068904025429
        ]
       }
      }
     },
     "3d1436bce5be43418a73fb4511de0340": {
      "model_module": "@jupyter-widgets/controls",
      "model_module_version": "1.4.0",
      "model_name": "GridBoxModel",
      "state": {
       "children": [
        "IPY_MODEL_bd61c7ab96c54466b056d5c315b67292",
        "IPY_MODEL_10261ebf80184f3b854049ebf6af01df",
        "IPY_MODEL_1a5a184177f347c3a6d8496749ea0bdd",
        "IPY_MODEL_1682b821c0934b3eaf7f0643fa2d19cd"
       ],
       "layout": "IPY_MODEL_ba5f17678eae4294a7a386ae51171737"
      }
     },
     "3d215a9867224fffaa67b0d71b8c88d6": {
      "model_module": "@jupyter-widgets/controls",
      "model_module_version": "1.4.0",
      "model_name": "FloatSliderModel",
      "state": {
       "layout": "IPY_MODEL_ed9c3d2071244d2a8c807cdc2b1be4a1",
       "max": 10,
       "min": 0.05,
       "step": 0.1,
       "style": "IPY_MODEL_281986aee75742a5b7842b7e55723e16",
       "value": 2
      }
     },
     "3d426024e5f44b788a8983a0f79c9150": {
      "model_module": "@jupyter-widgets/controls",
      "model_module_version": "1.4.0",
      "model_name": "GridBoxModel",
      "state": {
       "children": [
        "IPY_MODEL_65739db8eb5248bba46af97090a2ee43",
        "IPY_MODEL_43362826337648729661f84897e46799",
        "IPY_MODEL_a27b3d14bb0c4c28b45a0fb01559e3a2"
       ],
       "layout": "IPY_MODEL_442d1e4ab7da479bb5689dc6fbdf35b7"
      }
     },
     "3d568d33e8564ca29fb349b3a6d03a6b": {
      "model_module": "@jupyter-widgets/controls",
      "model_module_version": "1.4.0",
      "model_name": "GridBoxModel",
      "state": {
       "children": [
        "IPY_MODEL_94ef4aca1a124c14be9f0fb76ba55ab0",
        "IPY_MODEL_18a0df4fdb4f48e887ed49a43561029c",
        "IPY_MODEL_84df4efaf018442282da0c66ab8035ed",
        "IPY_MODEL_134c61d7144c418583e0fd0e1c864474"
       ],
       "layout": "IPY_MODEL_834e9780439e4812bdb23c06e75cf6ac"
      }
     },
     "3d8e03e8bb364503878c3a0f14a6b47a": {
      "model_module": "@jupyter-widgets/controls",
      "model_module_version": "1.4.0",
      "model_name": "ButtonStyleModel",
      "state": {}
     },
     "3da287ec91b241c9b838626e15e0a2e9": {
      "model_module": "bqplot",
      "model_module_version": "^0.4.5",
      "model_name": "OrdinalScaleModel",
      "state": {
       "domain": []
      }
     },
     "3dba0912c2ed4ed8be6aca997b1a1f6b": {
      "model_module": "@jupyter-widgets/controls",
      "model_module_version": "1.4.0",
      "model_name": "IntSliderModel",
      "state": {
       "layout": "IPY_MODEL_f61527cb6c5145af8705ed536f4f61b2",
       "style": "IPY_MODEL_7c13555a8da541b89a8896b33f29a545",
       "value": 30
      }
     },
     "3dc9c54fe1f84689a51a70e974428627": {
      "model_module": "@jupyter-widgets/controls",
      "model_module_version": "1.4.0",
      "model_name": "SliderStyleModel",
      "state": {
       "description_width": ""
      }
     },
     "3df6ea04f22f4a7d865ed2e35221b2f7": {
      "model_module": "@jupyter-widgets/controls",
      "model_module_version": "1.4.0",
      "model_name": "ButtonStyleModel",
      "state": {}
     },
     "3e0032f6ae5d416fb303891bcbd1bc05": {
      "model_module": "@jupyter-widgets/controls",
      "model_module_version": "1.4.0",
      "model_name": "LinkModel",
      "state": {
       "source": [
        "IPY_MODEL_13099dd62dc64cc29a8c6babd77385c0",
        "min"
       ],
       "target": [
        "IPY_MODEL_24e40ecef4f24b56bd2f8fa09668732a",
        "value"
       ]
      }
     },
     "3e0ee3e0d1af4052be21c84f569ed722": {
      "model_module": "bqplot",
      "model_module_version": "^0.4.5",
      "model_name": "AxisModel",
      "state": {
       "orientation": "vertical",
       "scale": "IPY_MODEL_694292eac0db47608838dd02cd8fafec",
       "side": "left",
       "tick_format": "0.2f",
       "tick_values": {
        "type": null,
        "values": null
       }
      }
     },
     "3e213caa2c734cdf8064413417fd313b": {
      "model_module": "@jupyter-widgets/base",
      "model_module_version": "1.1.0",
      "model_name": "LayoutModel",
      "state": {
       "grid_area": "top-left"
      }
     },
     "3e22a2605eb248cba935e366bda488b8": {
      "model_module": "@jupyter-widgets/base",
      "model_module_version": "1.1.0",
      "model_name": "LayoutModel",
      "state": {
       "grid_area": "top-left"
      }
     },
     "3e29bda8feb840d4b5794a996f2ce3e0": {
      "model_module": "@jupyter-widgets/base",
      "model_module_version": "1.1.0",
      "model_name": "LayoutModel",
      "state": {
       "grid_template_areas": "\"top-left top-right\"\n\"bottom-left bottom-right\"",
       "grid_template_columns": "1fr 1fr",
       "grid_template_rows": "1fr 1fr",
       "width": "auto"
      }
     },
     "3e4a6f64a2b74049a9c7b2d303c184bf": {
      "model_module": "@jupyter-widgets/base",
      "model_module_version": "1.1.0",
      "model_name": "LayoutModel",
      "state": {
       "grid_area": "bottom-right"
      }
     },
     "3e4dc29634a34298baba83e75dc0d916": {
      "model_module": "@jupyter-widgets/base",
      "model_module_version": "1.1.0",
      "model_name": "LayoutModel",
      "state": {
       "grid_area": "bottom-right",
       "height": "100%"
      }
     },
     "3e58fa83591e4275adbad95319b8ca56": {
      "model_module": "@jupyter-widgets/base",
      "model_module_version": "1.1.0",
      "model_name": "LayoutModel",
      "state": {
       "grid_area": "bottom-left"
      }
     },
     "3e5b7873307248a1850157421db35b99": {
      "model_module": "@jupyter-widgets/base",
      "model_module_version": "1.1.0",
      "model_name": "LayoutModel",
      "state": {
       "grid_area": "bottom-left"
      }
     },
     "3e8f19fc52ec47a685180e27f33e77ad": {
      "model_module": "@jupyter-widgets/base",
      "model_module_version": "1.1.0",
      "model_name": "LayoutModel",
      "state": {
       "grid_template_areas": "\"top-left top-right\"\n\"bottom-left bottom-right\"",
       "grid_template_columns": "1fr 1fr",
       "grid_template_rows": "1fr 1fr"
      }
     },
     "3e9524cde1314003bca39c03bbca98c6": {
      "model_module": "@jupyter-widgets/base",
      "model_module_version": "1.1.0",
      "model_name": "LayoutModel",
      "state": {
       "grid_area": "top-left"
      }
     },
     "3e9fbd863bec4ff58cf52d49b8e00db5": {
      "model_module": "@jupyter-widgets/controls",
      "model_module_version": "1.4.0",
      "model_name": "LinkModel",
      "state": {
       "source": [
        "IPY_MODEL_30c5f3aee10d4a37affcb0f481f803a3",
        "min"
       ],
       "target": [
        "IPY_MODEL_0f9f6bfc24ba471ba10f7f6b3b6be24a",
        "value"
       ]
      }
     },
     "3ea083ae4dd44d5982af3fbf9dd37e34": {
      "model_module": "@jupyter-widgets/base",
      "model_module_version": "1.1.0",
      "model_name": "LayoutModel",
      "state": {
       "grid_template_areas": "\"top-left bottom-right\"\n\"bottom-left bottom-right\"",
       "grid_template_columns": "1fr 1fr",
       "grid_template_rows": "1fr 1fr",
       "width": "auto"
      }
     },
     "3eb593df707f439da55cd71f6bc8ee20": {
      "model_module": "@jupyter-widgets/base",
      "model_module_version": "1.1.0",
      "model_name": "LayoutModel",
      "state": {
       "grid_area": "top-left"
      }
     },
     "3ec1bc4edb794d17bde904d19d778ca6": {
      "model_module": "@jupyter-widgets/controls",
      "model_module_version": "1.4.0",
      "model_name": "ButtonModel",
      "state": {
       "description": "Bottom right",
       "layout": "IPY_MODEL_bbf3669131fe408d9963b909d23e313d",
       "style": "IPY_MODEL_55e3b3ed0d3b4ed6958593b4303fe1a6"
      }
     },
     "3ecf50276e1542189e78c119f81827f6": {
      "model_module": "@jupyter-widgets/controls",
      "model_module_version": "1.4.0",
      "model_name": "SliderStyleModel",
      "state": {
       "description_width": ""
      }
     },
     "3f10409018e74823b76cc9e2d99fd943": {
      "model_module": "bqplot",
      "model_module_version": "^0.4.5",
      "model_name": "LinearScaleModel",
      "state": {
       "allow_padding": false,
       "max": 1,
       "min": 0,
       "stabilized": false
      }
     },
     "3f124b6c12784f999038b15495c5dd09": {
      "model_module": "bqplot",
      "model_module_version": "^0.4.5",
      "model_name": "AxisModel",
      "state": {
       "orientation": "vertical",
       "scale": "IPY_MODEL_13099dd62dc64cc29a8c6babd77385c0",
       "side": "left",
       "tick_format": "0.2f",
       "tick_values": {
        "type": null,
        "values": null
       }
      }
     },
     "3f12690912c5472a83317108726dbe22": {
      "model_module": "@jupyter-widgets/controls",
      "model_module_version": "1.4.0",
      "model_name": "ButtonStyleModel",
      "state": {}
     },
     "3f28ec8a47824d259a020cd2a7316594": {
      "model_module": "@jupyter-widgets/controls",
      "model_module_version": "1.4.0",
      "model_name": "GridBoxModel",
      "state": {
       "children": [
        "IPY_MODEL_2b639f2870c5499fb88131fa785a1e85",
        "IPY_MODEL_55ba69e60cb9492f82bcf2a77cc3825e",
        "IPY_MODEL_551f266b2cd543e7aa243f0e02b77d6e",
        "IPY_MODEL_b71b3792adc0488db971e3d73be5ec92"
       ],
       "layout": "IPY_MODEL_4429075d707b45d78f2a2008bab7afec"
      }
     },
     "3f513996987c4fc681d24fee169c7052": {
      "model_module": "@jupyter-widgets/base",
      "model_module_version": "1.1.0",
      "model_name": "LayoutModel",
      "state": {}
     },
     "3f82268622f6419db7dfd5e2f4ba5c20": {
      "model_module": "@jupyter-widgets/controls",
      "model_module_version": "1.4.0",
      "model_name": "FloatSliderModel",
      "state": {
       "layout": "IPY_MODEL_9743c8b154164feeb7b4e291efd9dfc6",
       "max": 10,
       "min": 1,
       "step": 0.1,
       "style": "IPY_MODEL_b96c006c20e44be6957ccf4cc649bd7c",
       "value": 1
      }
     },
     "3fbb9afada1341d0b8e4c9ef23fc8390": {
      "model_module": "@jupyter-widgets/controls",
      "model_module_version": "1.4.0",
      "model_name": "GridBoxModel",
      "state": {
       "children": [
        "IPY_MODEL_9f1fd95452524634a8a8b26f7ab295cb",
        "IPY_MODEL_6e7e3b92965846e986c4ef0caa008343",
        "IPY_MODEL_854fae81b2554357ad5a7cd8cd8db360",
        "IPY_MODEL_671744b73c5b4c64a0e2c6c56e2b6a51"
       ],
       "layout": "IPY_MODEL_87c1b5251f504cb4a4202f02eb189c10"
      }
     },
     "3fc91e58ba4e4993bd2394caffdabf54": {
      "model_module": "@jupyter-widgets/controls",
      "model_module_version": "1.4.0",
      "model_name": "FloatSliderModel",
      "state": {
       "layout": "IPY_MODEL_6c67b365002e473b8b2cfb97e380300f",
       "max": 10,
       "min": 0.05,
       "step": 0.1,
       "style": "IPY_MODEL_6a23b0dbf5064f4bbae70285711029fb",
       "value": 2
      }
     },
     "3fced5509e0d447bb7b49fee12596648": {
      "model_module": "bqplot",
      "model_module_version": "^0.4.5",
      "model_name": "BarsModel",
      "state": {
       "color": {
        "type": null,
        "values": null
       },
       "colors": [
        "steelblue"
       ],
       "display_legend": false,
       "scales": {
        "x": "IPY_MODEL_5c68e76f9b3a48cfbc7a07506663dc9e",
        "y": "IPY_MODEL_820f40885b1d4781a4e4abd39ead9b69"
       },
       "selected": [],
       "x": {
        "type": "float",
        "values": [
         0,
         1,
         2,
         3,
         4,
         5,
         6,
         7,
         8,
         9
        ]
       },
       "y": {
        "type": "float",
        "values": [
         0.6288984390617004,
         0.3984342586196771,
         0.0627129520233457,
         0.42403225188984195,
         0.2586840668894077,
         0.8490383084285108,
         0.03330462654669619,
         0.9589827218634736,
         0.3553688484719296,
         0.3567068904025429
        ]
       }
      }
     },
     "3fe91d1e2dd04108935cdf794220c5e1": {
      "model_module": "@jupyter-widgets/base",
      "model_module_version": "1.1.0",
      "model_name": "LayoutModel",
      "state": {
       "grid_template_areas": "\"top-left top-right\"\n\"bottom-left bottom-right\"",
       "grid_template_columns": "1fr 1fr",
       "grid_template_rows": "1fr 1fr"
      }
     },
     "407b72df2b1e4c99ab76bdd43af55298": {
      "model_module": "@jupyter-widgets/controls",
      "model_module_version": "1.4.0",
      "model_name": "ButtonStyleModel",
      "state": {}
     },
     "409316c1274e42f8b105c629cfc75211": {
      "model_module": "@jupyter-widgets/controls",
      "model_module_version": "1.4.0",
      "model_name": "ButtonStyleModel",
      "state": {}
     },
     "40bffb9358e24fb8a16b93aa86818d4b": {
      "model_module": "@jupyter-widgets/controls",
      "model_module_version": "1.4.0",
      "model_name": "ButtonModel",
      "state": {
       "description": "Bottom right",
       "layout": "IPY_MODEL_7e27bbfb42a3424ba41ee939228b8892",
       "style": "IPY_MODEL_1e5bb848c6714dd2a3201723849a9b92"
      }
     },
     "40e3b84552624da9b3e5321c0e7da460": {
      "model_module": "@jupyter-widgets/base",
      "model_module_version": "1.1.0",
      "model_name": "LayoutModel",
      "state": {
       "grid_area": "bottom-left"
      }
     },
     "40eec4a96a5b4f91aa249ba509a17b65": {
      "model_module": "@jupyter-widgets/controls",
      "model_module_version": "1.4.0",
      "model_name": "GridBoxModel",
      "state": {
       "children": [
        "IPY_MODEL_954df58bf5964c8d8efb709000f62168",
        "IPY_MODEL_ded08eb4176d4ba99699cdb1a3605e77",
        "IPY_MODEL_54721cf760804b1786b1fdebcf6c58d9"
       ],
       "layout": "IPY_MODEL_3ae4b69a15ba4b5ba6398d19b6fe5102"
      }
     },
     "411da36796cf4aa9a7d4757f33747ca7": {
      "model_module": "bqplot",
      "model_module_version": "^0.4.5",
      "model_name": "FigureModel",
      "state": {
       "_dom_classes": [],
       "axes": [
        "IPY_MODEL_2186877716ca4b25938f343d4a14e0cd",
        "IPY_MODEL_f3d583d85aac4b5cadbfd4e46978c3da"
       ],
       "layout": "IPY_MODEL_ed8753d10c4843f59acb7b30edc3861a",
       "marks": [
        "IPY_MODEL_19b9b269bc454da0a574695641b48f45"
       ],
       "padding_x": 0.025,
       "scale_x": "IPY_MODEL_0fb65dc537644fe6a1f8c5f812f48774",
       "scale_y": "IPY_MODEL_18de15783c034e38b84615b3fbb0733b"
      }
     },
     "412b7908503342aa9c3d4da1bcb60951": {
      "model_module": "@jupyter-widgets/base",
      "model_module_version": "1.1.0",
      "model_name": "LayoutModel",
      "state": {}
     },
     "41335cc7b0e14e67a433b81523601316": {
      "model_module": "bqplot",
      "model_module_version": "^0.4.5",
      "model_name": "AxisModel",
      "state": {
       "orientation": "vertical",
       "scale": "IPY_MODEL_762f980f76514085acce75f08dbffb92",
       "side": "left",
       "tick_format": "0.2f",
       "tick_values": {
        "type": null,
        "values": null
       }
      }
     },
     "4157f86eb2ca4cb9b13015e356561d2e": {
      "model_module": "@jupyter-widgets/base",
      "model_module_version": "1.1.0",
      "model_name": "LayoutModel",
      "state": {
       "grid_area": "bottom-right",
       "height": "100%"
      }
     },
     "41a9452a487e40e987863d4e8c131fd6": {
      "model_module": "@jupyter-widgets/controls",
      "model_module_version": "1.4.0",
      "model_name": "FloatSliderModel",
      "state": {
       "description": "Min: ",
       "layout": "IPY_MODEL_0fb745ee3d5849cf83345e7e83852e8d",
       "max": 10,
       "step": 0.1,
       "style": "IPY_MODEL_7631fd3f0ef341098108d87a4d6c9310",
       "value": 1
      }
     },
     "41d897658834494e82d833700576a5ba": {
      "model_module": "bqplot",
      "model_module_version": "^0.4.5",
      "model_name": "AxisModel",
      "state": {
       "orientation": "vertical",
       "scale": "IPY_MODEL_8b299d264fd041d79424a380355596f0",
       "side": "left",
       "tick_format": "0.2f",
       "tick_values": {
        "type": null,
        "values": null
       }
      }
     },
     "4213e7c8f26844b182e153cc67da62e4": {
      "model_module": "@jupyter-widgets/controls",
      "model_module_version": "1.4.0",
      "model_name": "DescriptionStyleModel",
      "state": {
       "description_width": ""
      }
     },
     "42611d445cca47f6b65c55709cbb8d58": {
      "model_module": "@jupyter-widgets/base",
      "model_module_version": "1.1.0",
      "model_name": "LayoutModel",
      "state": {
       "grid_area": "bottom-left",
       "height": "20px",
       "width": "200px"
      }
     },
     "4277a99c02bf4e76b84cd869a6ffb7d3": {
      "model_module": "@jupyter-widgets/controls",
      "model_module_version": "1.4.0",
      "model_name": "IntSliderModel",
      "state": {
       "layout": "IPY_MODEL_fc45d8e97fd84d4399586333864bfb27",
       "style": "IPY_MODEL_722811cea0424312a4b67c202b1a4763",
       "value": 30
      }
     },
     "427a04964a134146b9fc7a6d083ceea7": {
      "model_module": "@jupyter-widgets/base",
      "model_module_version": "1.1.0",
      "model_name": "LayoutModel",
      "state": {
       "grid_area": "bottom-left",
       "height": "20px",
       "width": "300px"
      }
     },
     "42b5beda39684ca29e4ec78087600aeb": {
      "model_module": "@jupyter-widgets/controls",
      "model_module_version": "1.4.0",
      "model_name": "IntTextModel",
      "state": {
       "layout": "IPY_MODEL_6dee9411a33b40dda42a68ab4e116d95",
       "step": 1,
       "style": "IPY_MODEL_a9fdbbad9392404ea8d5878a7c519a0e",
       "value": 25
      }
     },
     "42c799fc4aaf4933b252932d1dd1e50f": {
      "model_module": "bqplot",
      "model_module_version": "^0.4.5",
      "model_name": "LinearScaleModel",
      "state": {
       "allow_padding": false,
       "max": 1,
       "min": 0,
       "stabilized": false
      }
     },
     "42e1618b6f944b7b839113eb2d0c00c1": {
      "model_module": "@jupyter-widgets/controls",
      "model_module_version": "1.4.0",
      "model_name": "GridBoxModel",
      "state": {
       "children": [
        "IPY_MODEL_e8098df1e7b346d69c4000bd1c33b7b8",
        "IPY_MODEL_531a7811d33d43b79a86085d9f45c4c3",
        "IPY_MODEL_89bdef4ba65f4e8880d58b58792a66e6"
       ],
       "layout": "IPY_MODEL_c7c93d98a7da485f82129ffc921a24de"
      }
     },
     "432500dec33b43cc955f5dfd2c81bdff": {
      "model_module": "@jupyter-widgets/base",
      "model_module_version": "1.1.0",
      "model_name": "LayoutModel",
      "state": {
       "grid_area": "top-left"
      }
     },
     "43362826337648729661f84897e46799": {
      "model_module": "@jupyter-widgets/controls",
      "model_module_version": "1.4.0",
      "model_name": "ButtonModel",
      "state": {
       "description": "Bottom left",
       "layout": "IPY_MODEL_769c3fecceeb40ee86c59076c7bac44f",
       "style": "IPY_MODEL_242ff97bfa024b81959d0964dda9a883"
      }
     },
     "4342ccea03b548eda85afe294ac26841": {
      "model_module": "@jupyter-widgets/base",
      "model_module_version": "1.1.0",
      "model_name": "LayoutModel",
      "state": {
       "align_items": "center"
      }
     },
     "4353bb390ed64c0ca4c66c6b1765e71a": {
      "model_module": "@jupyter-widgets/controls",
      "model_module_version": "1.4.0",
      "model_name": "IntSliderModel",
      "state": {
       "layout": "IPY_MODEL_818fca7e96bc41aab098d218975f2e07",
       "style": "IPY_MODEL_cc5fd353379442b48187502c680a9bf1",
       "value": 10
      }
     },
     "43763741f4f94a739eda34588fe381fd": {
      "model_module": "@jupyter-widgets/controls",
      "model_module_version": "1.4.0",
      "model_name": "GridBoxModel",
      "state": {
       "children": [
        "IPY_MODEL_263252cac7844d31afdba16e11513c29",
        "IPY_MODEL_070ca8fa7990495ab9b21a804980fc8b",
        "IPY_MODEL_54721cf760804b1786b1fdebcf6c58d9"
       ],
       "layout": "IPY_MODEL_72b53a38c71f4eadbb374ff207472c41"
      }
     },
     "43772d0e57df4cff80046732b1a6bb9b": {
      "model_module": "@jupyter-widgets/base",
      "model_module_version": "1.1.0",
      "model_name": "LayoutModel",
      "state": {
       "align_items": "center",
       "grid_template_areas": "\"top-left bottom-right\"\n\"bottom-left bottom-right\"",
       "grid_template_columns": "1fr 1fr",
       "grid_template_rows": "1fr 1fr",
       "height": "500px",
       "width": "80%"
      }
     },
     "4391f5da6acc40839d47db99d6775fc9": {
      "model_module": "bqplot",
      "model_module_version": "^0.4.5",
      "model_name": "AxisModel",
      "state": {
       "scale": "IPY_MODEL_5c68e76f9b3a48cfbc7a07506663dc9e",
       "side": "bottom",
       "tick_values": {
        "type": null,
        "values": null
       }
      }
     },
     "43e31869a0a54f6ab7f1a4e361fb9b3b": {
      "model_module": "@jupyter-widgets/base",
      "model_module_version": "1.1.0",
      "model_name": "LayoutModel",
      "state": {
       "grid_area": "bottom-left"
      }
     },
     "43ffd80eb7c6435281e5887a7d65e0db": {
      "model_module": "@jupyter-widgets/controls",
      "model_module_version": "1.4.0",
      "model_name": "LinkModel",
      "state": {
       "source": [
        "IPY_MODEL_a156d3199938440290e1c1c96a125fef",
        "min"
       ],
       "target": [
        "IPY_MODEL_2392c8780da04ce68b00f463626c2435",
        "value"
       ]
      }
     },
     "44026a3745744d9aaab0cc9a08007155": {
      "model_module": "@jupyter-widgets/controls",
      "model_module_version": "1.4.0",
      "model_name": "SliderStyleModel",
      "state": {
       "description_width": ""
      }
     },
     "4429075d707b45d78f2a2008bab7afec": {
      "model_module": "@jupyter-widgets/base",
      "model_module_version": "1.1.0",
      "model_name": "LayoutModel",
      "state": {
       "grid_template_areas": "\"top-left top-right\"\n\"bottom-left bottom-right\"",
       "grid_template_columns": "1fr 1fr",
       "grid_template_rows": "1fr 1fr"
      }
     },
     "442d1e4ab7da479bb5689dc6fbdf35b7": {
      "model_module": "@jupyter-widgets/base",
      "model_module_version": "1.1.0",
      "model_name": "LayoutModel",
      "state": {
       "grid_template_areas": "\"top-left bottom-right\"\n\"bottom-left bottom-right\"",
       "grid_template_columns": "1fr 1fr",
       "grid_template_rows": "1fr 1fr",
       "width": "auto"
      }
     },
     "44572b5097ba40ed9639eda2e30f51ca": {
      "model_module": "@jupyter-widgets/base",
      "model_module_version": "1.1.0",
      "model_name": "LayoutModel",
      "state": {
       "grid_template_areas": "\"top-left top-right\"\n\"bottom-left bottom-right\"",
       "grid_template_columns": "1fr 1fr",
       "grid_template_rows": "1fr 1fr"
      }
     },
     "44a1a33f5dd841bf82a498dfa215fec6": {
      "model_module": "@jupyter-widgets/base",
      "model_module_version": "1.1.0",
      "model_name": "LayoutModel",
      "state": {
       "grid_area": "top-left",
       "height": "20px",
       "width": "300px"
      }
     },
     "44af75ffef054a0da53f604305183a3c": {
      "model_module": "@jupyter-widgets/controls",
      "model_module_version": "1.4.0",
      "model_name": "GridBoxModel",
      "state": {
       "children": [
        "IPY_MODEL_7bf9ba6b1b2646719106d2c83319578c",
        "IPY_MODEL_e58046537e2b4228bf92fbb2bbe6d5ef",
        "IPY_MODEL_4be5d8cffe254980b5de479a4b782a5c"
       ],
       "layout": "IPY_MODEL_d900643a214f4901b766d4432b5ab843"
      }
     },
     "44c34e01f68b416fb123198deb3aa9d0": {
      "model_module": "bqplot",
      "model_module_version": "^0.4.5",
      "model_name": "LinearScaleModel",
      "state": {
       "max": 1,
       "stabilized": false
      }
     },
     "44cab9b7d7e64323bb50b433b80d2b9f": {
      "model_module": "@jupyter-widgets/base",
      "model_module_version": "1.1.0",
      "model_name": "LayoutModel",
      "state": {
       "grid_template_areas": "\"top-left top-right\"\n\"bottom-left bottom-right\"",
       "grid_template_columns": "1fr 1fr",
       "grid_template_rows": "1fr 1fr",
       "width": "auto"
      }
     },
     "450ca63f6fb543d78911bcf40fd270b2": {
      "model_module": "@jupyter-widgets/controls",
      "model_module_version": "1.4.0",
      "model_name": "DescriptionStyleModel",
      "state": {
       "description_width": ""
      }
     },
     "451ddf96d4e54573bad627f6c8ae3c3b": {
      "model_module": "@jupyter-widgets/controls",
      "model_module_version": "1.4.0",
      "model_name": "ButtonStyleModel",
      "state": {}
     },
     "4538eba05d9a4db583e9f2ac0dc95aa4": {
      "model_module": "@jupyter-widgets/base",
      "model_module_version": "1.1.0",
      "model_name": "LayoutModel",
      "state": {
       "grid_template_areas": "\"top-left top-right\"\n\"bottom-left top-right\"",
       "grid_template_columns": "1fr 1fr",
       "grid_template_rows": "1fr 1fr",
       "width": "auto"
      }
     },
     "4553ec6cd2734bf29752f37ca549b309": {
      "model_module": "@jupyter-widgets/controls",
      "model_module_version": "1.4.0",
      "model_name": "ButtonModel",
      "state": {
       "description": "Bottom right",
       "layout": "IPY_MODEL_3749d776b1ce4d85bdae6ccbcf69a97c",
       "style": "IPY_MODEL_6e736fa108224cc092a062bfc5eb223d"
      }
     },
     "4561c4725f6b47458ebef8ee40f1b49b": {
      "model_module": "@jupyter-widgets/controls",
      "model_module_version": "1.4.0",
      "model_name": "ButtonModel",
      "state": {
       "description": "Bottom left",
       "layout": "IPY_MODEL_91f90b8541a341dc91d49c58a64f5b30",
       "style": "IPY_MODEL_9536e57aee6b4a9d82d611d24c71bb66"
      }
     },
     "45675e1dc35f44af8a0d206f2f7b0642": {
      "model_module": "@jupyter-widgets/controls",
      "model_module_version": "1.4.0",
      "model_name": "ButtonStyleModel",
      "state": {}
     },
     "4572cdc3f1184bc2adf57ee18cedd392": {
      "model_module": "@jupyter-widgets/controls",
      "model_module_version": "1.4.0",
      "model_name": "ButtonModel",
      "state": {
       "description": "Bottom right",
       "layout": "IPY_MODEL_db49ac75edc14567b118723eb3674900",
       "style": "IPY_MODEL_58a6c5cf5a344cc398fc4ba81f271fb9"
      }
     },
     "459e8704a663439e936ae5970bb91666": {
      "model_module": "@jupyter-widgets/base",
      "model_module_version": "1.1.0",
      "model_name": "LayoutModel",
      "state": {
       "grid_template_areas": "\"top-left top-right\"\n\"bottom-left bottom-right\"",
       "grid_template_columns": "1fr 1fr",
       "grid_template_rows": "1fr 1fr",
       "width": "auto"
      }
     },
     "459f6528f60e4c28a449eb4a04b68e90": {
      "model_module": "@jupyter-widgets/controls",
      "model_module_version": "1.4.0",
      "model_name": "SliderStyleModel",
      "state": {
       "description_width": ""
      }
     },
     "45beeba04a4f45a38973ddc1fac684dc": {
      "model_module": "@jupyter-widgets/base",
      "model_module_version": "1.1.0",
      "model_name": "LayoutModel",
      "state": {
       "grid_template_areas": "\"top-left top-right\"\n\"bottom-left bottom-right\"",
       "grid_template_columns": "1fr 1fr",
       "grid_template_rows": "1fr 1fr",
       "width": "auto"
      }
     },
     "45c1f3e79d7a4d4b9521aaddee8e8f76": {
      "model_module": "@jupyter-widgets/controls",
      "model_module_version": "1.4.0",
      "model_name": "ButtonStyleModel",
      "state": {}
     },
     "45e3db51b14741f0b0092daf0809d252": {
      "model_module": "@jupyter-widgets/controls",
      "model_module_version": "1.4.0",
      "model_name": "SliderStyleModel",
      "state": {
       "description_width": ""
      }
     },
     "45ef053777874f9a946e3d8d1310fd66": {
      "model_module": "@jupyter-widgets/controls",
      "model_module_version": "1.4.0",
      "model_name": "GridBoxModel",
      "state": {
       "children": [
        "IPY_MODEL_013bc7698dad4c6ba210ed81b6ef0eb9",
        "IPY_MODEL_5a109a04491c4bd0bb1432cc1eaf2982",
        "IPY_MODEL_5d0d617e1067446d8a64ba15838f39ee",
        "IPY_MODEL_584b2b7a0f0a4023b1a8d5ddd96aca1e"
       ],
       "layout": "IPY_MODEL_07072f7afdea4b9798650eb86537ceaf"
      }
     },
     "46168501a2004648989be4772bbc3475": {
      "model_module": "@jupyter-widgets/controls",
      "model_module_version": "1.4.0",
      "model_name": "SliderStyleModel",
      "state": {
       "description_width": ""
      }
     },
     "461dd3ee6bb2479b8363d15518336066": {
      "model_module": "@jupyter-widgets/base",
      "model_module_version": "1.1.0",
      "model_name": "LayoutModel",
      "state": {
       "grid_template_areas": "\"top-left top-right\"\n\"bottom-left bottom-right\"",
       "grid_template_columns": "1fr 1fr",
       "grid_template_rows": "1fr 1fr",
       "width": "auto"
      }
     },
     "46a63a8278bc496e8368c2f891b8d6a2": {
      "model_module": "@jupyter-widgets/controls",
      "model_module_version": "1.4.0",
      "model_name": "IntTextModel",
      "state": {
       "layout": "IPY_MODEL_dbc0e4990c03497abaef76dfb728f233",
       "step": 1,
       "style": "IPY_MODEL_7ddae41692a54a4d88b7f517a2b38fd6",
       "value": 30
      }
     },
     "46ad8aac4e3e4e3aa3dcc5c6ffc62cd4": {
      "model_module": "@jupyter-widgets/controls",
      "model_module_version": "1.4.0",
      "model_name": "FloatSliderModel",
      "state": {
       "layout": "IPY_MODEL_b8f213b1817b412280a7fd1e4c07e1a0",
       "max": 10,
       "min": 0.05,
       "step": 0.1,
       "style": "IPY_MODEL_fa0a93de2e9b4509b6ed453ea2fa5881",
       "value": 0.05
      }
     },
     "46b0d3f2a05a427c946727a154d9ac54": {
      "model_module": "@jupyter-widgets/controls",
      "model_module_version": "1.4.0",
      "model_name": "ButtonModel",
      "state": {
       "layout": "IPY_MODEL_c1dacb28d43e45898286158f96393cbd",
       "style": "IPY_MODEL_8c235a3c2bb1408bb7d2b5d57ab094cb"
      }
     },
     "46e71b6d7f3b44f18d53d53714fa3d75": {
      "model_module": "@jupyter-widgets/base",
      "model_module_version": "1.1.0",
      "model_name": "LayoutModel",
      "state": {
       "grid_area": "bottom-right"
      }
     },
     "4715f96058fd452c94f50bb78ad3cf9e": {
      "model_module": "@jupyter-widgets/controls",
      "model_module_version": "1.4.0",
      "model_name": "ButtonStyleModel",
      "state": {}
     },
     "471cc92aaea542eba66613932979a0be": {
      "model_module": "@jupyter-widgets/controls",
      "model_module_version": "1.4.0",
      "model_name": "SliderStyleModel",
      "state": {
       "description_width": ""
      }
     },
     "473c18e1aa2d44eaad0bb7588358dce8": {
      "model_module": "@jupyter-widgets/controls",
      "model_module_version": "1.4.0",
      "model_name": "ButtonModel",
      "state": {
       "description": "Top right",
       "layout": "IPY_MODEL_825491e663fb4bd8a00de4686872f102",
       "style": "IPY_MODEL_1faeab3f8cde4a05818e04667b93420d"
      }
     },
     "4760148875624d9ebd48cc2f1078362a": {
      "model_module": "@jupyter-widgets/base",
      "model_module_version": "1.1.0",
      "model_name": "LayoutModel",
      "state": {
       "grid_template_areas": "\"top-left bottom-right\"\n\"bottom-left bottom-right\"",
       "grid_template_columns": "1fr 1fr",
       "grid_template_rows": "1fr 1fr",
       "width": "auto"
      }
     },
     "4768d7bfe9324b83a331bd626dbece30": {
      "model_module": "@jupyter-widgets/controls",
      "model_module_version": "1.4.0",
      "model_name": "SliderStyleModel",
      "state": {
       "description_width": ""
      }
     },
     "47700637b8f1463685050e79fad8c751": {
      "model_module": "@jupyter-widgets/base",
      "model_module_version": "1.1.0",
      "model_name": "LayoutModel",
      "state": {
       "grid_template_areas": "\"top-left bottom-right\"\n\"bottom-left bottom-right\"",
       "grid_template_columns": "1fr 1fr",
       "grid_template_rows": "1fr 1fr",
       "width": "auto"
      }
     },
     "4775e8c3ffa6498a90ec0743c810a5e3": {
      "model_module": "bqplot",
      "model_module_version": "^0.4.5",
      "model_name": "OrdinalScaleModel",
      "state": {
       "domain": []
      }
     },
     "477a0c67fd844652b7d9588721dcc58a": {
      "model_module": "bqplot",
      "model_module_version": "^0.4.5",
      "model_name": "LinearScaleModel",
      "state": {
       "allow_padding": false,
       "max": 1,
       "min": 0,
       "stabilized": false
      }
     },
     "47bd1d88d9104fc6b3f932e0227da461": {
      "model_module": "@jupyter-widgets/base",
      "model_module_version": "1.1.0",
      "model_name": "LayoutModel",
      "state": {
       "grid_area": "top-left"
      }
     },
     "47d2f2df27c140a18501943656d6a7f2": {
      "model_module": "@jupyter-widgets/base",
      "model_module_version": "1.1.0",
      "model_name": "LayoutModel",
      "state": {
       "grid_area": "top-right"
      }
     },
     "47d5e9fcbab2412e8b38e4522692ce70": {
      "model_module": "@jupyter-widgets/base",
      "model_module_version": "1.1.0",
      "model_name": "LayoutModel",
      "state": {
       "grid_area": "top-left"
      }
     },
     "47d636fd186146ffbe52c6990e6b6e1e": {
      "model_module": "@jupyter-widgets/controls",
      "model_module_version": "1.4.0",
      "model_name": "SliderStyleModel",
      "state": {
       "description_width": ""
      }
     },
     "480e732e814a4093a69b245409b9e95a": {
      "model_module": "@jupyter-widgets/base",
      "model_module_version": "1.1.0",
      "model_name": "LayoutModel",
      "state": {
       "align_items": "center",
       "grid_template_areas": "\"top-left bottom-right\"\n\"bottom-left bottom-right\"",
       "grid_template_columns": "1fr 1fr",
       "grid_template_rows": "1fr 1fr",
       "height": "300px",
       "width": "80%"
      }
     },
     "481ef230bec54b08832248df97703865": {
      "model_module": "@jupyter-widgets/controls",
      "model_module_version": "1.4.0",
      "model_name": "GridBoxModel",
      "state": {
       "children": [
        "IPY_MODEL_7f33e22bba114cd0a15f9843a1fb8aee",
        "IPY_MODEL_38e39d085ebf4c3a9e0ba5ce1317d7ac",
        "IPY_MODEL_1e9aafe9ae564e60baae12db4199b946"
       ],
       "layout": "IPY_MODEL_1576111194ea48f28ed058bf983ce963"
      }
     },
     "483a1e42c600489f9f1effa5322032ca": {
      "model_module": "@jupyter-widgets/controls",
      "model_module_version": "1.4.0",
      "model_name": "ButtonModel",
      "state": {
       "description": "Top left",
       "layout": "IPY_MODEL_ec02c01a056342908da0b569a776df34",
       "style": "IPY_MODEL_9ebe3b470e7b41efa3c320519d96e794"
      }
     },
     "483dee1b0f654715b548c42225780ea3": {
      "model_module": "@jupyter-widgets/controls",
      "model_module_version": "1.4.0",
      "model_name": "SliderStyleModel",
      "state": {
       "description_width": ""
      }
     },
     "485b5689c4904325866b2b8f344330d6": {
      "model_module": "@jupyter-widgets/controls",
      "model_module_version": "1.4.0",
      "model_name": "ButtonModel",
      "state": {
       "description": "Bottom right",
       "layout": "IPY_MODEL_1533b95e93f24f9db4aa7b9ea36f0f0a",
       "style": "IPY_MODEL_1ca9f6b60b904fcebe040e5f9f64ad82"
      }
     },
     "48950132da07409fadc8160142ec38e8": {
      "model_module": "@jupyter-widgets/controls",
      "model_module_version": "1.4.0",
      "model_name": "ButtonStyleModel",
      "state": {}
     },
     "489c8f6e5e5b4472b591e7819fca0bcf": {
      "model_module": "@jupyter-widgets/controls",
      "model_module_version": "1.4.0",
      "model_name": "ButtonModel",
      "state": {
       "description": "Bottom left",
       "layout": "IPY_MODEL_7269ceae7e9647f2840c4d7e2889818d",
       "style": "IPY_MODEL_f1352ca02489488186a816a687f9581b"
      }
     },
     "48c1e8f7a8b04cb3aef84742d7e456bf": {
      "model_module": "@jupyter-widgets/base",
      "model_module_version": "1.1.0",
      "model_name": "LayoutModel",
      "state": {
       "grid_area": "bottom-right",
       "height": "100%"
      }
     },
     "48df8d232e5e4704a14c2884773abf17": {
      "model_module": "bqplot",
      "model_module_version": "^0.4.5",
      "model_name": "LinearScaleModel",
      "state": {
       "allow_padding": false,
       "max": 1,
       "min": 0,
       "stabilized": false
      }
     },
     "49147ede49ac44b4b6c7dd779f4bbea3": {
      "model_module": "@jupyter-widgets/base",
      "model_module_version": "1.1.0",
      "model_name": "LayoutModel",
      "state": {
       "grid_area": "top-right"
      }
     },
     "491a11e7ada4459aa00cacd6b4773967": {
      "model_module": "@jupyter-widgets/controls",
      "model_module_version": "1.4.0",
      "model_name": "DescriptionStyleModel",
      "state": {
       "description_width": ""
      }
     },
     "4930d75f596548a59a93a94efe4c5606": {
      "model_module": "@jupyter-widgets/controls",
      "model_module_version": "1.4.0",
      "model_name": "SliderStyleModel",
      "state": {
       "description_width": ""
      }
     },
     "4960376e48f44ef690388c11e05b5935": {
      "model_module": "@jupyter-widgets/base",
      "model_module_version": "1.1.0",
      "model_name": "LayoutModel",
      "state": {
       "grid_area": "bottom-right"
      }
     },
     "496f3238ae044c9aac4c6ac26c0ef531": {
      "model_module": "@jupyter-widgets/base",
      "model_module_version": "1.1.0",
      "model_name": "LayoutModel",
      "state": {
       "grid_area": "bottom-left"
      }
     },
     "4977341df03c4e03a776a8c0ec7badac": {
      "model_module": "@jupyter-widgets/base",
      "model_module_version": "1.1.0",
      "model_name": "LayoutModel",
      "state": {
       "grid_area": "top-left"
      }
     },
     "497f5602613e4a98abbd736ea93647f7": {
      "model_module": "@jupyter-widgets/controls",
      "model_module_version": "1.4.0",
      "model_name": "ButtonStyleModel",
      "state": {}
     },
     "4986cab9ff5b47d880994b8240008887": {
      "model_module": "@jupyter-widgets/base",
      "model_module_version": "1.1.0",
      "model_name": "LayoutModel",
      "state": {
       "grid_area": "bottom-right"
      }
     },
     "498e10bfd1414b14974ddbd6f8b73676": {
      "model_module": "@jupyter-widgets/base",
      "model_module_version": "1.1.0",
      "model_name": "LayoutModel",
      "state": {
       "grid_area": "bottom-left"
      }
     },
     "49c7a3a37377466691f4b4d994dc5c8f": {
      "model_module": "@jupyter-widgets/controls",
      "model_module_version": "1.4.0",
      "model_name": "ButtonModel",
      "state": {
       "description": "Bottom right",
       "layout": "IPY_MODEL_8a79db8bf445467e820a6116d761094e",
       "style": "IPY_MODEL_5c25287b29d34fe695af92032c1e181e"
      }
     },
     "49e1a2e389014513b07aa2df76e7533a": {
      "model_module": "@jupyter-widgets/base",
      "model_module_version": "1.1.0",
      "model_name": "LayoutModel",
      "state": {
       "grid_area": "top-right"
      }
     },
     "49ea1631342848a5b778efe3615f4352": {
      "model_module": "@jupyter-widgets/controls",
      "model_module_version": "1.4.0",
      "model_name": "ButtonModel",
      "state": {
       "description": "Top left",
       "layout": "IPY_MODEL_29e49a00af224255b4bbe919aae0ca6c",
       "style": "IPY_MODEL_4a8782d368544dfda4a8fb132576aa27"
      }
     },
     "4a016e7ab97e4ec5accd5bc2b92c957b": {
      "model_module": "@jupyter-widgets/base",
      "model_module_version": "1.1.0",
      "model_name": "LayoutModel",
      "state": {
       "grid_area": "top-left"
      }
     },
     "4a16bc7d61064ad8ae49cca4a082714c": {
      "model_module": "@jupyter-widgets/base",
      "model_module_version": "1.1.0",
      "model_name": "LayoutModel",
      "state": {
       "grid_area": "bottom-right"
      }
     },
     "4a1a94ddc81f4e61b3419af4c7843708": {
      "model_module": "@jupyter-widgets/controls",
      "model_module_version": "1.4.0",
      "model_name": "ButtonModel",
      "state": {
       "description": "Bottom right",
       "layout": "IPY_MODEL_a8b37016ad2e46bd94dac0adf5309b07",
       "style": "IPY_MODEL_48950132da07409fadc8160142ec38e8"
      }
     },
     "4a26ee120830446080d747ec596a7541": {
      "model_module": "@jupyter-widgets/base",
      "model_module_version": "1.1.0",
      "model_name": "LayoutModel",
      "state": {
       "grid_template_areas": "\"top-left bottom-right\"\n\"bottom-left bottom-right\"",
       "grid_template_columns": "1fr 1fr",
       "grid_template_rows": "1fr 1fr",
       "width": "auto"
      }
     },
     "4a297eec59fb44108329e4ab71b2bdd7": {
      "model_module": "@jupyter-widgets/controls",
      "model_module_version": "1.4.0",
      "model_name": "SliderStyleModel",
      "state": {
       "description_width": ""
      }
     },
     "4a2a266edea64f8b94d0b8bb120d6204": {
      "model_module": "@jupyter-widgets/base",
      "model_module_version": "1.1.0",
      "model_name": "LayoutModel",
      "state": {
       "grid_area": "top-left",
       "height": "20px",
       "width": "200px"
      }
     },
     "4a4fe18a30824a5ebb3911633853dfa5": {
      "model_module": "@jupyter-widgets/controls",
      "model_module_version": "1.4.0",
      "model_name": "ButtonModel",
      "state": {
       "description": "Bottom left",
       "layout": "IPY_MODEL_23e6282953d34329bcfc38ebe1cbe797",
       "style": "IPY_MODEL_f6580c2a50dc4e17b962520acaa78556"
      }
     },
     "4a5b6cb1f8274096800a23cfa3713007": {
      "model_module": "@jupyter-widgets/base",
      "model_module_version": "1.1.0",
      "model_name": "LayoutModel",
      "state": {
       "grid_area": "bottom-left"
      }
     },
     "4a69c34244aa4358af2105e42d87efbd": {
      "model_module": "@jupyter-widgets/controls",
      "model_module_version": "1.4.0",
      "model_name": "SliderStyleModel",
      "state": {
       "description_width": ""
      }
     },
     "4a8782d368544dfda4a8fb132576aa27": {
      "model_module": "@jupyter-widgets/controls",
      "model_module_version": "1.4.0",
      "model_name": "ButtonStyleModel",
      "state": {}
     },
     "4a966e71ad9c4a24891c8d4d3d8f7eef": {
      "model_module": "@jupyter-widgets/controls",
      "model_module_version": "1.4.0",
      "model_name": "GridBoxModel",
      "state": {
       "children": [
        "IPY_MODEL_1595c01ddaed4092ba33f554fa191f8a",
        "IPY_MODEL_eac3ac760c8f4a1a8e40463a4b8b1681",
        "IPY_MODEL_3d215a9867224fffaa67b0d71b8c88d6"
       ],
       "layout": "IPY_MODEL_52252dec914d4b84869dee8c1e8c86a1"
      }
     },
     "4a97fd67edb94fee82f36f1213f04f3d": {
      "model_module": "@jupyter-widgets/base",
      "model_module_version": "1.1.0",
      "model_name": "LayoutModel",
      "state": {
       "grid_template_areas": "\"top-left bottom-right\"\n\"bottom-left bottom-right\"",
       "grid_template_columns": "1fr 1fr",
       "grid_template_rows": "1fr 1fr"
      }
     },
     "4ab6ffeef9ca4f91a0d19e1781f88854": {
      "model_module": "@jupyter-widgets/base",
      "model_module_version": "1.1.0",
      "model_name": "LayoutModel",
      "state": {
       "grid_area": "bottom-right",
       "height": "100%"
      }
     },
     "4b3d858f19b54edd9522088b4a243083": {
      "model_module": "@jupyter-widgets/controls",
      "model_module_version": "1.4.0",
      "model_name": "ButtonModel",
      "state": {
       "description": "Bottom left",
       "layout": "IPY_MODEL_338c845e6479415cb1d693cb4259f112",
       "style": "IPY_MODEL_d4b82abcf9b644c6af1b66abb7d9d6e2"
      }
     },
     "4b456b14b63143ae9bb664253168c025": {
      "model_module": "@jupyter-widgets/controls",
      "model_module_version": "1.4.0",
      "model_name": "FloatSliderModel",
      "state": {
       "layout": "IPY_MODEL_97fb6ded9d20418394be267f5ca7ff3a",
       "max": 10,
       "min": 0.05,
       "step": 0.1,
       "style": "IPY_MODEL_61041f9215f549208f089f643bdd5f01",
       "value": 1
      }
     },
     "4b471a317325490dbb551821290b2bdb": {
      "model_module": "@jupyter-widgets/controls",
      "model_module_version": "1.4.0",
      "model_name": "LinkModel",
      "state": {
       "source": [
        "IPY_MODEL_d2974f5e76dd4f1b846689bffab3ea41",
        "value"
       ],
       "target": [
        "IPY_MODEL_b8f63785e1da4b81931dd64e5965fd74",
        "value"
       ]
      }
     },
     "4b493ce6cd994daa8a20fa1c59854396": {
      "model_module": "@jupyter-widgets/base",
      "model_module_version": "1.1.0",
      "model_name": "LayoutModel",
      "state": {
       "grid_area": "bottom-right"
      }
     },
     "4b64d296e1144f07a55dcdd4a38460d1": {
      "model_module": "@jupyter-widgets/base",
      "model_module_version": "1.1.0",
      "model_name": "LayoutModel",
      "state": {
       "grid_template_areas": "\"top-left bottom-right\"\n\"bottom-left bottom-right\"",
       "grid_template_columns": "1fr 1fr",
       "grid_template_rows": "1fr 1fr",
       "width": "auto"
      }
     },
     "4b8913b78ca644f2b92fcd1ffc734ac1": {
      "model_module": "@jupyter-widgets/base",
      "model_module_version": "1.1.0",
      "model_name": "LayoutModel",
      "state": {
       "grid_area": "top-right"
      }
     },
     "4b967c270cd74f668087a413f5f7834f": {
      "model_module": "@jupyter-widgets/controls",
      "model_module_version": "1.4.0",
      "model_name": "ButtonModel",
      "state": {
       "description": "Top right",
       "layout": "IPY_MODEL_72710c48c52046cdbcefe79aa03a8523",
       "style": "IPY_MODEL_914e79a85eb44da08bc2457d865880bf"
      }
     },
     "4ba9b42fffcb4a42bd3edbc700316877": {
      "model_module": "@jupyter-widgets/controls",
      "model_module_version": "1.4.0",
      "model_name": "IntSliderModel",
      "state": {
       "layout": "IPY_MODEL_6f857289906846aeaeb21dec09e53137",
       "style": "IPY_MODEL_a6e2073de86c4df6a69408ac885c20d4",
       "value": 30
      }
     },
     "4bb9b02c9bf44c7fa3ac8441f4995460": {
      "model_module": "@jupyter-widgets/base",
      "model_module_version": "1.1.0",
      "model_name": "LayoutModel",
      "state": {}
     },
     "4be5d8cffe254980b5de479a4b782a5c": {
      "model_module": "bqplot",
      "model_module_version": "^0.4.5",
      "model_name": "FigureModel",
      "state": {
       "_dom_classes": [],
       "axes": [
        "IPY_MODEL_857d9348661542aea477c7a5d84add1e",
        "IPY_MODEL_3e0ee3e0d1af4052be21c84f569ed722"
       ],
       "layout": "IPY_MODEL_1f4d5af453644b0695fbc1460218b5fc",
       "marks": [
        "IPY_MODEL_ab985fa6973649d9bb95c687fae5b288"
       ],
       "padding_x": 0.025,
       "scale_x": "IPY_MODEL_a8d31034f10e48daa6b0cc2b2f98b6f2",
       "scale_y": "IPY_MODEL_8c527e341aff48eab8d31eee2f5dc33d"
      }
     },
     "4bef58c9bf2c4d5ca8517486607192f1": {
      "model_module": "@jupyter-widgets/controls",
      "model_module_version": "1.4.0",
      "model_name": "FloatSliderModel",
      "state": {
       "layout": "IPY_MODEL_4a2a266edea64f8b94d0b8bb120d6204",
       "max": 1,
       "step": 0.1,
       "style": "IPY_MODEL_4f42e0ebd3534de2b5e0d3e850948f29"
      }
     },
     "4bf7cf259ebc49d38f1e53308c89f492": {
      "model_module": "@jupyter-widgets/controls",
      "model_module_version": "1.4.0",
      "model_name": "ButtonStyleModel",
      "state": {}
     },
     "4c14cd44e9ed4bdf935a07abb504ce89": {
      "model_module": "@jupyter-widgets/controls",
      "model_module_version": "1.4.0",
      "model_name": "ButtonModel",
      "state": {
       "description": "Bottom left",
       "layout": "IPY_MODEL_d78b12ca899e4145a8892aebf59c515b",
       "style": "IPY_MODEL_312c26c2682d4ff0a4836ba3f39f9daf"
      }
     },
     "4c6d3b86cc074e108f2ee7f2952761cb": {
      "model_module": "@jupyter-widgets/controls",
      "model_module_version": "1.4.0",
      "model_name": "ButtonStyleModel",
      "state": {}
     },
     "4c8c900b1eea44b3b1ce47b83b878dab": {
      "model_module": "@jupyter-widgets/controls",
      "model_module_version": "1.4.0",
      "model_name": "SliderStyleModel",
      "state": {
       "description_width": ""
      }
     },
     "4c8e44f476914b43ae9ebb11e529e7a1": {
      "model_module": "@jupyter-widgets/base",
      "model_module_version": "1.1.0",
      "model_name": "LayoutModel",
      "state": {
       "grid_template_areas": "\"top-left top-right\"\n\"bottom-left bottom-right\"",
       "grid_template_columns": "1fr 1fr",
       "grid_template_rows": "1fr 1fr",
       "width": "auto"
      }
     },
     "4ce08da2c9cd44d5ac0152b0304ba4b5": {
      "model_module": "@jupyter-widgets/controls",
      "model_module_version": "1.4.0",
      "model_name": "ButtonStyleModel",
      "state": {}
     },
     "4ceee564233645a9aca2faf245c7e435": {
      "model_module": "@jupyter-widgets/base",
      "model_module_version": "1.1.0",
      "model_name": "LayoutModel",
      "state": {
       "grid_template_areas": "\"top-left top-right\"\n\"bottom-left top-right\"",
       "grid_template_columns": "1fr 1fr",
       "grid_template_rows": "1fr 1fr",
       "width": "auto"
      }
     },
     "4cfdde91e321430c9e4dbc465e768428": {
      "model_module": "@jupyter-widgets/base",
      "model_module_version": "1.1.0",
      "model_name": "LayoutModel",
      "state": {
       "grid_area": "bottom-left"
      }
     },
     "4d2b6b9b826248d7a5828ed2d3b0acf5": {
      "model_module": "@jupyter-widgets/controls",
      "model_module_version": "1.4.0",
      "model_name": "SliderStyleModel",
      "state": {
       "description_width": ""
      }
     },
     "4d4656e164f14afe9896781c441acfe7": {
      "model_module": "@jupyter-widgets/controls",
      "model_module_version": "1.4.0",
      "model_name": "ButtonStyleModel",
      "state": {}
     },
     "4d614cd6d04744ceb30b9dff9ecac5c0": {
      "model_module": "@jupyter-widgets/controls",
      "model_module_version": "1.4.0",
      "model_name": "ButtonStyleModel",
      "state": {}
     },
     "4d661a5685ee498184ff6baa6ad02184": {
      "model_module": "@jupyter-widgets/base",
      "model_module_version": "1.1.0",
      "model_name": "LayoutModel",
      "state": {
       "grid_area": "bottom-right",
       "height": "100%"
      }
     },
     "4d66ac674d3f434d96553b90abfabcba": {
      "model_module": "@jupyter-widgets/controls",
      "model_module_version": "1.4.0",
      "model_name": "LinkModel",
      "state": {
       "source": [
        "IPY_MODEL_fd07cca84ee146fe87cf5e0b2b5be5a2",
        "max"
       ],
       "target": [
        "IPY_MODEL_291f6701606a42bbb3cbeff61531f688",
        "value"
       ]
      }
     },
     "4d865e156aa24aba91e2b169e894d3f0": {
      "model_module": "@jupyter-widgets/controls",
      "model_module_version": "1.4.0",
      "model_name": "DescriptionStyleModel",
      "state": {
       "description_width": ""
      }
     },
     "4da0d81cd05c4b0395c6c23712d307f9": {
      "model_module": "@jupyter-widgets/base",
      "model_module_version": "1.1.0",
      "model_name": "LayoutModel",
      "state": {
       "align_items": "center"
      }
     },
     "4db0e15dd448470a93ef896a43f16ee1": {
      "model_module": "@jupyter-widgets/base",
      "model_module_version": "1.1.0",
      "model_name": "LayoutModel",
      "state": {
       "grid_template_areas": "\"top-left top-right\"\n\"bottom-left bottom-right\"",
       "grid_template_columns": "1fr 1fr",
       "grid_template_rows": "1fr 1fr",
       "width": "auto"
      }
     },
     "4dba5fcfaba544b296f50034f312a688": {
      "model_module": "@jupyter-widgets/base",
      "model_module_version": "1.1.0",
      "model_name": "LayoutModel",
      "state": {
       "grid_area": "bottom-right"
      }
     },
     "4df4ad3d66e344c29bb6531846f1e6e2": {
      "model_module": "@jupyter-widgets/controls",
      "model_module_version": "1.4.0",
      "model_name": "DescriptionStyleModel",
      "state": {
       "description_width": ""
      }
     },
     "4df9678bc7cd492987f05429b804742b": {
      "model_module": "@jupyter-widgets/controls",
      "model_module_version": "1.4.0",
      "model_name": "IntSliderModel",
      "state": {
       "layout": "IPY_MODEL_c5e85e0a2a8345e1aa564387989dcad5",
       "style": "IPY_MODEL_4930d75f596548a59a93a94efe4c5606",
       "value": 25
      }
     },
     "4dfa523c832348b999f4750e70cdb2ca": {
      "model_module": "@jupyter-widgets/controls",
      "model_module_version": "1.4.0",
      "model_name": "ButtonStyleModel",
      "state": {}
     },
     "4dff1c23c4de41908a754bad179d5e5d": {
      "model_module": "@jupyter-widgets/controls",
      "model_module_version": "1.4.0",
      "model_name": "LinkModel",
      "state": {
       "source": [
        "IPY_MODEL_675e508065eb411d9459bee5d03b3d25",
        "max"
       ],
       "target": [
        "IPY_MODEL_277fc6c059c348f2b513ec1a65e5590c",
        "value"
       ]
      }
     },
     "4e12fb215cf94c25abe8cf7172e2d81f": {
      "model_module": "@jupyter-widgets/base",
      "model_module_version": "1.1.0",
      "model_name": "LayoutModel",
      "state": {
       "grid_area": "bottom-right",
       "height": "100%",
       "width": "auto"
      }
     },
     "4e234d35281c4ea7b327a1c82578d56b": {
      "model_module": "@jupyter-widgets/base",
      "model_module_version": "1.1.0",
      "model_name": "LayoutModel",
      "state": {
       "grid_area": "bottom-right"
      }
     },
     "4e28cc6b213b499bb8c5c55128724f99": {
      "model_module": "@jupyter-widgets/controls",
      "model_module_version": "1.4.0",
      "model_name": "ButtonModel",
      "state": {
       "description": "Bottom left",
       "layout": "IPY_MODEL_a16319d55cf948db934dbde498d49f39",
       "style": "IPY_MODEL_120dfae8c1d8440489a44169f3a924d3"
      }
     },
     "4e40ca436b574b5d8205e7512b2e4306": {
      "model_module": "@jupyter-widgets/base",
      "model_module_version": "1.1.0",
      "model_name": "LayoutModel",
      "state": {
       "grid_area": "top-left"
      }
     },
     "4e77d45c6e3946a48dd218f92b4754a6": {
      "model_module": "@jupyter-widgets/controls",
      "model_module_version": "1.4.0",
      "model_name": "GridBoxModel",
      "state": {
       "children": [
        "IPY_MODEL_e7f58c72db3c47e2863a8dec0e072578",
        "IPY_MODEL_473c18e1aa2d44eaad0bb7588358dce8",
        "IPY_MODEL_c877205770594e599d883baf7bbcdcbb",
        "IPY_MODEL_4572cdc3f1184bc2adf57ee18cedd392"
       ],
       "layout": "IPY_MODEL_0a1e4f06a6a04e9faeae2685d035186e"
      }
     },
     "4ed6ab84b9684373b0e1dd7269c0ad1a": {
      "model_module": "@jupyter-widgets/base",
      "model_module_version": "1.1.0",
      "model_name": "LayoutModel",
      "state": {
       "grid_template_areas": "\"top-left bottom-right\"\n\"bottom-left bottom-right\"",
       "grid_template_columns": "1fr 1fr",
       "grid_template_rows": "1fr 1fr"
      }
     },
     "4eefa2e2a02c46909c3429fa2062838e": {
      "model_module": "@jupyter-widgets/base",
      "model_module_version": "1.1.0",
      "model_name": "LayoutModel",
      "state": {
       "grid_template_areas": "\"top-left top-right\"\n\"bottom-left bottom-right\"",
       "grid_template_columns": "1fr 1fr",
       "grid_template_rows": "1fr 1fr",
       "width": "auto"
      }
     },
     "4ef533a3f9ed4818843020b7951d7323": {
      "model_module": "@jupyter-widgets/base",
      "model_module_version": "1.1.0",
      "model_name": "LayoutModel",
      "state": {
       "grid_template_areas": "\"top-left top-right\"\n\"bottom-left bottom-right\"",
       "grid_template_columns": "1fr 1fr",
       "grid_template_rows": "1fr 1fr",
       "width": "auto"
      }
     },
     "4ef716fafc1a4d2796740a3f3294ccec": {
      "model_module": "@jupyter-widgets/controls",
      "model_module_version": "1.4.0",
      "model_name": "ButtonModel",
      "state": {
       "description": "Top left",
       "layout": "IPY_MODEL_b9e81fc4222645c88983cbc28807094d",
       "style": "IPY_MODEL_12999b9c229e49dcbf4de9775d3161e5"
      }
     },
     "4f3ce086094a4410b1f048875aee1d1d": {
      "model_module": "@jupyter-widgets/controls",
      "model_module_version": "1.4.0",
      "model_name": "GridBoxModel",
      "state": {
       "children": [
        "IPY_MODEL_2bde29f4b4f040398f74a1fe40e8509e",
        "IPY_MODEL_0656e4659d37432e8dee4ab4fc84de7c",
        "IPY_MODEL_771af2dcbd6644e9bb1ffc648c5ea06c"
       ],
       "layout": "IPY_MODEL_fb4e788a38754805a3d6b72464b3d95b"
      }
     },
     "4f42e0ebd3534de2b5e0d3e850948f29": {
      "model_module": "@jupyter-widgets/controls",
      "model_module_version": "1.4.0",
      "model_name": "SliderStyleModel",
      "state": {
       "description_width": ""
      }
     },
     "4f7757a974cc444f966cacc67c373cc0": {
      "model_module": "@jupyter-widgets/base",
      "model_module_version": "1.1.0",
      "model_name": "LayoutModel",
      "state": {
       "grid_area": "bottom-right"
      }
     },
     "4f7dbaf415d84bcb88e2a2df9bef4253": {
      "model_module": "@jupyter-widgets/base",
      "model_module_version": "1.1.0",
      "model_name": "LayoutModel",
      "state": {
       "grid_template_areas": "\"top-left bottom-right\"\n\"bottom-left bottom-right\"",
       "grid_template_columns": "1fr 1fr",
       "grid_template_rows": "1fr 1fr",
       "width": "auto"
      }
     },
     "4f8cb9b018ef466892a17f8df29cc069": {
      "model_module": "@jupyter-widgets/controls",
      "model_module_version": "1.4.0",
      "model_name": "ButtonModel",
      "state": {
       "description": "Top left",
       "layout": "IPY_MODEL_bc6844de8e61485097adb787caf9bf1a",
       "style": "IPY_MODEL_0ee7b63f502d46368016c790f704ff1a"
      }
     },
     "4faccb9b809c435ca57e9a14608033b4": {
      "model_module": "@jupyter-widgets/base",
      "model_module_version": "1.1.0",
      "model_name": "LayoutModel",
      "state": {
       "grid_template_areas": "\"top-left top-right\"\n\"bottom-left bottom-right\"",
       "grid_template_columns": "1fr 1fr",
       "grid_template_rows": "1fr 1fr",
       "width": "auto"
      }
     },
     "4fbe1a45d47542debf3f351097052bdb": {
      "model_module": "@jupyter-widgets/controls",
      "model_module_version": "1.4.0",
      "model_name": "ButtonModel",
      "state": {
       "description": "Top left",
       "layout": "IPY_MODEL_ba6e806e330b4461918f89a95e20e81b",
       "style": "IPY_MODEL_4715f96058fd452c94f50bb78ad3cf9e"
      }
     },
     "4ffa550d67164f15afd7fc12a523e78b": {
      "model_module": "@jupyter-widgets/controls",
      "model_module_version": "1.4.0",
      "model_name": "SliderStyleModel",
      "state": {
       "description_width": ""
      }
     },
     "4ffb65917d064e8dab3fb9ae19058ba2": {
      "model_module": "@jupyter-widgets/base",
      "model_module_version": "1.1.0",
      "model_name": "LayoutModel",
      "state": {
       "grid_template_areas": "\"top-left bottom-right\"\n\"bottom-left bottom-right\"",
       "grid_template_columns": "1fr 1fr",
       "grid_template_rows": "1fr 1fr",
       "width": "auto"
      }
     },
     "501a1873fde64553ba723721eb56ff6d": {
      "model_module": "@jupyter-widgets/base",
      "model_module_version": "1.1.0",
      "model_name": "LayoutModel",
      "state": {
       "grid_template_areas": "\"top-left bottom-right\"\n\"bottom-left bottom-right\"",
       "grid_template_columns": "1fr 1fr",
       "grid_template_rows": "1fr 1fr",
       "width": "auto"
      }
     },
     "501e791ef38b4e25a427d4e20797d7dc": {
      "model_module": "@jupyter-widgets/controls",
      "model_module_version": "1.4.0",
      "model_name": "DescriptionStyleModel",
      "state": {
       "description_width": ""
      }
     },
     "50263bfcb68c46dcbd2fc38d2e3d1000": {
      "model_module": "@jupyter-widgets/controls",
      "model_module_version": "1.4.0",
      "model_name": "GridBoxModel",
      "state": {
       "children": [
        "IPY_MODEL_6c2cc527b6b74da2acd6d31d4dae3acb",
        "IPY_MODEL_489c8f6e5e5b4472b591e7819fca0bcf",
        "IPY_MODEL_b7ed257a39dc4763b845f3a66686efce"
       ],
       "layout": "IPY_MODEL_af91fbfb810a44099da2fc6797df3b34"
      }
     },
     "50811582673843acb117d36383427de2": {
      "model_module": "@jupyter-widgets/controls",
      "model_module_version": "1.4.0",
      "model_name": "ButtonModel",
      "state": {
       "description": "Top left",
       "layout": "IPY_MODEL_b057dcaf8cd94d379cd869b57bd97ac8",
       "style": "IPY_MODEL_75ab07202d2b4b14898f1a681a8fcd9b"
      }
     },
     "5086667b6121401bba4b80b77732dbd7": {
      "model_module": "@jupyter-widgets/base",
      "model_module_version": "1.1.0",
      "model_name": "LayoutModel",
      "state": {
       "grid_area": "bottom-left"
      }
     },
     "50ac29ae685e4cc59734b76027f6aa8a": {
      "model_module": "@jupyter-widgets/controls",
      "model_module_version": "1.4.0",
      "model_name": "SliderStyleModel",
      "state": {
       "description_width": ""
      }
     },
     "50bc4281d48844c191d2fccce34b5bc8": {
      "model_module": "@jupyter-widgets/controls",
      "model_module_version": "1.4.0",
      "model_name": "GridBoxModel",
      "state": {
       "children": [
        "IPY_MODEL_d16091a86f204d5385077d4f4d3dff91",
        "IPY_MODEL_af76510af8f3417f83184129b1a86fa3",
        "IPY_MODEL_b1713788d02645c39bd13e088d6557a1",
        "IPY_MODEL_84f00ea080dc465a8eb59a4d1d784860"
       ],
       "layout": "IPY_MODEL_1bd17a2f87e34eb694b0ccb44617e25c"
      }
     },
     "50ef11babae84c52a64a17e23a7631db": {
      "model_module": "@jupyter-widgets/controls",
      "model_module_version": "1.4.0",
      "model_name": "ButtonModel",
      "state": {
       "description": "Bottom left",
       "layout": "IPY_MODEL_64b163196385423eb1a64fc7ffb6d024",
       "style": "IPY_MODEL_78cec477234840fd9b8e0ca3f3ded609"
      }
     },
     "510afbf5c2fd4f56b34b7ccc4552a92b": {
      "model_module": "@jupyter-widgets/base",
      "model_module_version": "1.1.0",
      "model_name": "LayoutModel",
      "state": {
       "grid_area": "top-right"
      }
     },
     "511dd35cc574499c8059429b6127f42d": {
      "model_module": "@jupyter-widgets/base",
      "model_module_version": "1.1.0",
      "model_name": "LayoutModel",
      "state": {
       "grid_area": "bottom-left"
      }
     },
     "51201404ac5b452d88ec01fca087d51b": {
      "model_module": "@jupyter-widgets/base",
      "model_module_version": "1.1.0",
      "model_name": "LayoutModel",
      "state": {
       "grid_template_areas": "\"top-left top-right\"\n\"bottom-left bottom-right\"",
       "grid_template_columns": "1fr 1fr",
       "grid_template_rows": "1fr 1fr",
       "width": "auto"
      }
     },
     "51232e9393634d35a592ddf2f3689f49": {
      "model_module": "@jupyter-widgets/controls",
      "model_module_version": "1.4.0",
      "model_name": "ButtonStyleModel",
      "state": {}
     },
     "5131e60af2904a8d853d17b28a3507fb": {
      "model_module": "@jupyter-widgets/controls",
      "model_module_version": "1.4.0",
      "model_name": "LinkModel",
      "state": {
       "source": [
        "IPY_MODEL_820f40885b1d4781a4e4abd39ead9b69",
        "max"
       ],
       "target": [
        "IPY_MODEL_079a762fc482499b80c53bef018494f2",
        "value"
       ]
      }
     },
     "51693b963c5e40b78cea345930d985f2": {
      "model_module": "@jupyter-widgets/controls",
      "model_module_version": "1.4.0",
      "model_name": "ButtonStyleModel",
      "state": {}
     },
     "51833ab74c1a41efa27e53f09be5f707": {
      "model_module": "@jupyter-widgets/controls",
      "model_module_version": "1.4.0",
      "model_name": "ButtonStyleModel",
      "state": {}
     },
     "518879f8586649ffbfded0005993ff93": {
      "model_module": "@jupyter-widgets/controls",
      "model_module_version": "1.4.0",
      "model_name": "GridBoxModel",
      "state": {
       "children": [
        "IPY_MODEL_7afb117e39c247e09ed4164482de9a16",
        "IPY_MODEL_e0138d6436934cd090908ddc83fa89a2",
        "IPY_MODEL_9a57b8b21fe845e8abc8ccb00d5f17b9"
       ],
       "layout": "IPY_MODEL_459e8704a663439e936ae5970bb91666"
      }
     },
     "51a7fa71d8ab479081f35d6b1043ec11": {
      "model_module": "@jupyter-widgets/controls",
      "model_module_version": "1.4.0",
      "model_name": "LinkModel",
      "state": {
       "source": [
        "IPY_MODEL_fc11ab93b8894a1da80a45d5a56a5136",
        "min"
       ],
       "target": [
        "IPY_MODEL_c2887f1366494b20aa4ac07a67229a92",
        "value"
       ]
      }
     },
     "51a8957711dc4e6b86fb75091adf3d08": {
      "model_module": "@jupyter-widgets/controls",
      "model_module_version": "1.4.0",
      "model_name": "SliderStyleModel",
      "state": {
       "description_width": ""
      }
     },
     "51d57055e2524ceeb1a4237cac46730f": {
      "model_module": "@jupyter-widgets/controls",
      "model_module_version": "1.4.0",
      "model_name": "GridBoxModel",
      "state": {
       "children": [
        "IPY_MODEL_e6cccb9b79014139914191ae06b22e84",
        "IPY_MODEL_d7bf3bfe9756442180c12ce6a1512b4a",
        "IPY_MODEL_4df9678bc7cd492987f05429b804742b",
        "IPY_MODEL_55620078befc47aebc40fca77810f90f"
       ],
       "layout": "IPY_MODEL_3e8f19fc52ec47a685180e27f33e77ad"
      }
     },
     "51dcf59d876645c79cfab8f04e68bda0": {
      "model_module": "@jupyter-widgets/base",
      "model_module_version": "1.1.0",
      "model_name": "LayoutModel",
      "state": {
       "grid_template_areas": "\"top-left bottom-right\"\n\"bottom-left bottom-right\"",
       "grid_template_columns": "1fr 1fr",
       "grid_template_rows": "1fr 1fr",
       "width": "auto"
      }
     },
     "51e84c727ebd4173a12513295ef18c7a": {
      "model_module": "@jupyter-widgets/controls",
      "model_module_version": "1.4.0",
      "model_name": "LinkModel",
      "state": {
       "source": [
        "IPY_MODEL_e08a3201c7e646c48adec34b7f51a934",
        "max"
       ],
       "target": [
        "IPY_MODEL_101dbcb0faab4e268cbe36fb4f0b1d54",
        "value"
       ]
      }
     },
     "52252dec914d4b84869dee8c1e8c86a1": {
      "model_module": "@jupyter-widgets/base",
      "model_module_version": "1.1.0",
      "model_name": "LayoutModel",
      "state": {
       "grid_template_areas": "\"top-left bottom-right\"\n\"bottom-left bottom-right\"",
       "grid_template_columns": "1fr 1fr",
       "grid_template_rows": "1fr 1fr",
       "width": "auto"
      }
     },
     "523278c4356b48f3859a3362e86622ff": {
      "model_module": "@jupyter-widgets/controls",
      "model_module_version": "1.4.0",
      "model_name": "ButtonStyleModel",
      "state": {}
     },
     "524b4e9f62a04e0eb5034a3f31098462": {
      "model_module": "@jupyter-widgets/controls",
      "model_module_version": "1.4.0",
      "model_name": "LinkModel",
      "state": {
       "source": [
        "IPY_MODEL_30c5f3aee10d4a37affcb0f481f803a3",
        "max"
       ],
       "target": [
        "IPY_MODEL_536e89b80ee34070b54acac99c488604",
        "value"
       ]
      }
     },
     "52513cb754b74fc19c54d2d7a31bddf1": {
      "model_module": "@jupyter-widgets/base",
      "model_module_version": "1.1.0",
      "model_name": "LayoutModel",
      "state": {
       "grid_template_areas": "\"top-left top-right\"\n\"bottom-left bottom-right\"",
       "grid_template_columns": "1fr 1fr",
       "grid_template_rows": "1fr 1fr",
       "width": "auto"
      }
     },
     "5273c173e9d74b6cbe07c30f452fd948": {
      "model_module": "@jupyter-widgets/base",
      "model_module_version": "1.1.0",
      "model_name": "LayoutModel",
      "state": {
       "grid_area": "bottom-right"
      }
     },
     "527d931e3809489b8615d554b3f01ade": {
      "model_module": "@jupyter-widgets/controls",
      "model_module_version": "1.4.0",
      "model_name": "LinkModel",
      "state": {
       "source": [
        "IPY_MODEL_613a10628bc64d16840f9dde5959f74b",
        "min"
       ],
       "target": [
        "IPY_MODEL_41a9452a487e40e987863d4e8c131fd6",
        "value"
       ]
      }
     },
     "527eb42c917344ebbdd681659d36a680": {
      "model_module": "@jupyter-widgets/controls",
      "model_module_version": "1.4.0",
      "model_name": "SliderStyleModel",
      "state": {
       "description_width": ""
      }
     },
     "52baa0f4562048cda06b8e93fce320bb": {
      "model_module": "@jupyter-widgets/base",
      "model_module_version": "1.1.0",
      "model_name": "LayoutModel",
      "state": {
       "grid_area": "bottom-right"
      }
     },
     "52c87d92ce8149429c81214e3be4cb03": {
      "model_module": "@jupyter-widgets/base",
      "model_module_version": "1.1.0",
      "model_name": "LayoutModel",
      "state": {
       "grid_area": "top-left"
      }
     },
     "531a7811d33d43b79a86085d9f45c4c3": {
      "model_module": "@jupyter-widgets/controls",
      "model_module_version": "1.4.0",
      "model_name": "FloatSliderModel",
      "state": {
       "layout": "IPY_MODEL_74b5531bba544c5bace4aa4700b496fa",
       "max": 10,
       "min": 1,
       "step": 0.1,
       "style": "IPY_MODEL_983b171b4f9349e2a00210bbda38c2cf",
       "value": 1
      }
     },
     "533cfe167dea4b808222ee6d2c574aba": {
      "model_module": "bqplot",
      "model_module_version": "^0.4.5",
      "model_name": "BarsModel",
      "state": {
       "color": {
        "type": null,
        "values": null
       },
       "colors": [
        "steelblue"
       ],
       "display_legend": false,
       "scales": {
        "x": "IPY_MODEL_8db8640dbf5c45c3ac0bb3868dd678c3",
        "y": "IPY_MODEL_44c34e01f68b416fb123198deb3aa9d0"
       },
       "selected": [],
       "x": {
        "type": "float",
        "values": [
         0,
         1,
         2,
         3,
         4,
         5,
         6,
         7,
         8,
         9
        ]
       },
       "y": {
        "type": "float",
        "values": [
         0.6288984390617004,
         0.3984342586196771,
         0.0627129520233457,
         0.42403225188984195,
         0.2586840668894077,
         0.8490383084285108,
         0.03330462654669619,
         0.9589827218634736,
         0.3553688484719296,
         0.3567068904025429
        ]
       }
      }
     },
     "53686fb53c754662bfabdbee7a92257b": {
      "model_module": "@jupyter-widgets/base",
      "model_module_version": "1.1.0",
      "model_name": "LayoutModel",
      "state": {
       "grid_area": "top-right"
      }
     },
     "536e89b80ee34070b54acac99c488604": {
      "model_module": "@jupyter-widgets/controls",
      "model_module_version": "1.4.0",
      "model_name": "FloatSliderModel",
      "state": {
       "layout": "IPY_MODEL_772986c112d1415695061cb490707327",
       "max": 10,
       "min": 0.05,
       "step": 0.1,
       "style": "IPY_MODEL_4768d7bfe9324b83a331bd626dbece30",
       "value": 1
      }
     },
     "5391e20830d44ddea557da54b8ff870a": {
      "model_module": "@jupyter-widgets/controls",
      "model_module_version": "1.4.0",
      "model_name": "LinkModel",
      "state": {
       "source": [
        "IPY_MODEL_6cd2bf7eb9844f428c39f48eb079d333",
        "min"
       ],
       "target": [
        "IPY_MODEL_bf5f1365e570409ea787aa681b638ee2",
        "value"
       ]
      }
     },
     "53c0ec97139e48f4b38a720f7306d57d": {
      "model_module": "@jupyter-widgets/base",
      "model_module_version": "1.1.0",
      "model_name": "LayoutModel",
      "state": {
       "grid_area": "bottom-right"
      }
     },
     "53e594f7a6d74478b534a6d22e821900": {
      "model_module": "bqplot",
      "model_module_version": "^0.4.5",
      "model_name": "LinearScaleModel",
      "state": {
       "allow_padding": false,
       "max": 1,
       "min": 0,
       "stabilized": false
      }
     },
     "5417f5667d214cedb69e0bafa9e69187": {
      "model_module": "@jupyter-widgets/controls",
      "model_module_version": "1.4.0",
      "model_name": "ButtonModel",
      "state": {
       "description": "Bottom left",
       "layout": "IPY_MODEL_70fd16dd4033430196af6fd8d7fa73a2",
       "style": "IPY_MODEL_65a61cf38dc847f0a120e897ea7352f2"
      }
     },
     "54261432952e4fc3b66a52a40d53dee4": {
      "model_module": "bqplot",
      "model_module_version": "^0.4.5",
      "model_name": "AxisModel",
      "state": {
       "orientation": "vertical",
       "scale": "IPY_MODEL_6e75f3c250b74904a7b2761e466af520",
       "side": "left",
       "tick_format": "0.2f",
       "tick_values": {
        "type": null,
        "values": null
       }
      }
     },
     "5434750ebd194834b12a39e7c9dc7d75": {
      "model_module": "@jupyter-widgets/controls",
      "model_module_version": "1.4.0",
      "model_name": "ButtonModel",
      "state": {
       "description": "Bottom left",
       "layout": "IPY_MODEL_8d9c43912b514d3fbeb63d01a3d160c6",
       "style": "IPY_MODEL_dfc95bd6b35b4b7ebdb1d642c64514e7"
      }
     },
     "54347db708c84e2694e580a59c539959": {
      "model_module": "@jupyter-widgets/controls",
      "model_module_version": "1.4.0",
      "model_name": "SliderStyleModel",
      "state": {
       "description_width": ""
      }
     },
     "54721cf760804b1786b1fdebcf6c58d9": {
      "model_module": "bqplot",
      "model_module_version": "^0.4.5",
      "model_name": "FigureModel",
      "state": {
       "_dom_classes": [],
       "axes": [
        "IPY_MODEL_cc6c1b3498fe47319bd3d067d0897bc4",
        "IPY_MODEL_54261432952e4fc3b66a52a40d53dee4"
       ],
       "layout": "IPY_MODEL_5a45fdd51d6f46418fafb77508628a1e",
       "marks": [
        "IPY_MODEL_1b115d3b1ebc4bab89bd3d7c9ac207fd"
       ],
       "padding_x": 0.025,
       "scale_x": "IPY_MODEL_d41bae3a51264b4b87280477127f3da9",
       "scale_y": "IPY_MODEL_53e594f7a6d74478b534a6d22e821900"
      }
     },
     "54cea126ebc34c9e830436f27756abde": {
      "model_module": "@jupyter-widgets/controls",
      "model_module_version": "1.4.0",
      "model_name": "LinkModel",
      "state": {
       "source": [
        "IPY_MODEL_675e508065eb411d9459bee5d03b3d25",
        "max"
       ],
       "target": [
        "IPY_MODEL_da36a23ea9df4366a79496a4e0ec6da0",
        "value"
       ]
      }
     },
     "54e2d4f504c446c9a0d558a60d2b8a8f": {
      "model_module": "@jupyter-widgets/controls",
      "model_module_version": "1.4.0",
      "model_name": "ButtonModel",
      "state": {
       "description": "Bottom left",
       "layout": "IPY_MODEL_bd7664794e6f4129b4e1a16a202d2a4d",
       "style": "IPY_MODEL_ef57ed860d184726a4859bef31e7f200"
      }
     },
     "55005ac8c6ce472b90311a1da11900e5": {
      "model_module": "bqplot",
      "model_module_version": "^0.4.5",
      "model_name": "AxisModel",
      "state": {
       "scale": "IPY_MODEL_0fedd6e7a0a749b28d8b620bad3d7763",
       "side": "bottom",
       "tick_values": {
        "type": null,
        "values": null
       }
      }
     },
     "550bed0efff448719612146fc3cc96c9": {
      "model_module": "@jupyter-widgets/controls",
      "model_module_version": "1.4.0",
      "model_name": "GridBoxModel",
      "state": {
       "children": [
        "IPY_MODEL_3000e945490c478da5d77fad838e7dc5",
        "IPY_MODEL_2fd5269438fa4283b31fe6356b151adf",
        "IPY_MODEL_bcb1f885c6d746c382c6bf020f8ffe51",
        "IPY_MODEL_6268df705fe447728fc0d9de5b50a613"
       ],
       "layout": "IPY_MODEL_8b8fd65b767b421d8ad40ade4abff6eb"
      }
     },
     "551934baeb37432c847881f2c6b6c2b9": {
      "model_module": "@jupyter-widgets/controls",
      "model_module_version": "1.4.0",
      "model_name": "ButtonStyleModel",
      "state": {}
     },
     "551f266b2cd543e7aa243f0e02b77d6e": {
      "model_module": "@jupyter-widgets/controls",
      "model_module_version": "1.4.0",
      "model_name": "ButtonModel",
      "state": {
       "description": "Bottom left",
       "layout": "IPY_MODEL_c6f84d34d7a14d4d975dfdf8b74a2f0e",
       "style": "IPY_MODEL_099c7ade4d7a449c9ea680a20a357981"
      }
     },
     "552ee2d18ce747858f8b711a3f32138f": {
      "model_module": "@jupyter-widgets/base",
      "model_module_version": "1.1.0",
      "model_name": "LayoutModel",
      "state": {
       "grid_area": "bottom-left"
      }
     },
     "553173a9c5bd4fb7b8445bf9c05f1fc3": {
      "model_module": "@jupyter-widgets/base",
      "model_module_version": "1.1.0",
      "model_name": "LayoutModel",
      "state": {
       "grid_area": "bottom-left"
      }
     },
     "553727c17f8245ac9d7124ffb1a4066d": {
      "model_module": "@jupyter-widgets/base",
      "model_module_version": "1.1.0",
      "model_name": "LayoutModel",
      "state": {
       "grid_area": "top-right"
      }
     },
     "55501ffd6f114d748ed921ba69ebe2dd": {
      "model_module": "@jupyter-widgets/controls",
      "model_module_version": "1.4.0",
      "model_name": "ButtonModel",
      "state": {
       "description": "Top left",
       "layout": "IPY_MODEL_3eb593df707f439da55cd71f6bc8ee20",
       "style": "IPY_MODEL_98bfa97edaf149fb95f4f0c23fd8de28"
      }
     },
     "55620078befc47aebc40fca77810f90f": {
      "model_module": "@jupyter-widgets/controls",
      "model_module_version": "1.4.0",
      "model_name": "IntSliderModel",
      "state": {
       "layout": "IPY_MODEL_a3992156c07e4a328bfcf1fc6612b9b9",
       "style": "IPY_MODEL_0fe42b095ee44d40b436bf92f3f8f188",
       "value": 30
      }
     },
     "5574bbb10c2e4a6a964083312d8e0252": {
      "model_module": "@jupyter-widgets/controls",
      "model_module_version": "1.4.0",
      "model_name": "IntSliderModel",
      "state": {
       "layout": "IPY_MODEL_a0f5dda9cdca4a3c98d680a113d6af05",
       "style": "IPY_MODEL_a228e93f7d2146bf9450dececea59161",
       "value": 30
      }
     },
     "55a52760a74543b8afef3b70ad815254": {
      "model_module": "@jupyter-widgets/controls",
      "model_module_version": "1.4.0",
      "model_name": "ButtonModel",
      "state": {
       "description": "Bottom left",
       "layout": "IPY_MODEL_d51cd3fca2ec437d95122b7549f1955f",
       "style": "IPY_MODEL_dfc536644f0d43c1862a5b341a787f31"
      }
     },
     "55ad53c2b7474f0e97f963c53ea8a6d8": {
      "model_module": "@jupyter-widgets/controls",
      "model_module_version": "1.4.0",
      "model_name": "ButtonStyleModel",
      "state": {}
     },
     "55ba69e60cb9492f82bcf2a77cc3825e": {
      "model_module": "@jupyter-widgets/controls",
      "model_module_version": "1.4.0",
      "model_name": "ButtonModel",
      "state": {
       "description": "Top right",
       "layout": "IPY_MODEL_f933978abd1e47c3bae33ec92a187e0d",
       "style": "IPY_MODEL_ce4eabb0627840bcae8771654621928b"
      }
     },
     "55c994223b964bb198a5343345833721": {
      "model_module": "@jupyter-widgets/controls",
      "model_module_version": "1.4.0",
      "model_name": "IntTextModel",
      "state": {
       "layout": "IPY_MODEL_f15e208098184f779c4f21fd99b98ceb",
       "step": 1,
       "style": "IPY_MODEL_a40eab257a9b480780bade452975298c",
       "value": 59
      }
     },
     "55ce35df8b7441f88c2a3e59fea19e31": {
      "model_module": "@jupyter-widgets/controls",
      "model_module_version": "1.4.0",
      "model_name": "LinkModel",
      "state": {
       "source": [
        "IPY_MODEL_c8c181def2da486bb99e2ce613b3b6b5",
        "value"
       ],
       "target": [
        "IPY_MODEL_4353bb390ed64c0ca4c66c6b1765e71a",
        "value"
       ]
      }
     },
     "55e3b3ed0d3b4ed6958593b4303fe1a6": {
      "model_module": "@jupyter-widgets/controls",
      "model_module_version": "1.4.0",
      "model_name": "ButtonStyleModel",
      "state": {}
     },
     "55f6d4a0ffc340ae83fadc0aeac278b2": {
      "model_module": "@jupyter-widgets/base",
      "model_module_version": "1.1.0",
      "model_name": "LayoutModel",
      "state": {
       "grid_area": "bottom-right"
      }
     },
     "55f70d2dd72f4ed684140177ff2aa80d": {
      "model_module": "@jupyter-widgets/controls",
      "model_module_version": "1.4.0",
      "model_name": "ButtonModel",
      "state": {
       "description": "Bottom left",
       "layout": "IPY_MODEL_ad145b6b1e33499eb9e2d85e340c845b",
       "style": "IPY_MODEL_c39cb7c369464a8fb5cf5f552f59458c"
      }
     },
     "562bf23ee3c84e02bc28eb920c15229e": {
      "model_module": "@jupyter-widgets/controls",
      "model_module_version": "1.4.0",
      "model_name": "FloatSliderModel",
      "state": {
       "description": "Min: ",
       "layout": "IPY_MODEL_b2512fd55ce041ed9be0b15aa6a8d56b",
       "max": 5.8,
       "step": 0.1,
       "style": "IPY_MODEL_22277720f0544c01919828e12c108c97",
       "value": 1
      }
     },
     "562fa1b71af94010832857aa07c3ef9c": {
      "model_module": "@jupyter-widgets/base",
      "model_module_version": "1.1.0",
      "model_name": "LayoutModel",
      "state": {
       "grid_template_areas": "\"top-left bottom-right\"\n\"bottom-left bottom-right\"",
       "grid_template_columns": "1fr 1fr",
       "grid_template_rows": "1fr 1fr",
       "width": "auto"
      }
     },
     "564e8921df2c4cb9a60e47cde48e40cc": {
      "model_module": "@jupyter-widgets/controls",
      "model_module_version": "1.4.0",
      "model_name": "LinkModel",
      "state": {
       "source": [
        "IPY_MODEL_6cd2bf7eb9844f428c39f48eb079d333",
        "max"
       ],
       "target": [
        "IPY_MODEL_60db0f4b6549490ab676895b1344d46c",
        "value"
       ]
      }
     },
     "5657c4206b8549c0a5c67fea718c1ad7": {
      "model_module": "@jupyter-widgets/controls",
      "model_module_version": "1.4.0",
      "model_name": "GridBoxModel",
      "state": {
       "children": [
        "IPY_MODEL_f5de289f9fe240f8b2313806ad1b1bea",
        "IPY_MODEL_5a2d2167b11c4c0d9b7daba1754e0747",
        "IPY_MODEL_0a2469c0888d4185bf874899605149a4"
       ],
       "layout": "IPY_MODEL_298c9949ec44413f940e770e1414ca82"
      }
     },
     "565fc911a08e444898af211d558c6a69": {
      "model_module": "@jupyter-widgets/controls",
      "model_module_version": "1.4.0",
      "model_name": "SliderStyleModel",
      "state": {
       "description_width": ""
      }
     },
     "56796a3ae5114e45bd7975d9d7656aa7": {
      "model_module": "@jupyter-widgets/base",
      "model_module_version": "1.1.0",
      "model_name": "LayoutModel",
      "state": {
       "grid_area": "bottom-right",
       "height": "100%",
       "width": "auto"
      }
     },
     "569a6d00e7d541fba761383f5fc606c6": {
      "model_module": "@jupyter-widgets/controls",
      "model_module_version": "1.4.0",
      "model_name": "ButtonStyleModel",
      "state": {}
     },
     "56b798a45546460aba2df124e13f663a": {
      "model_module": "@jupyter-widgets/controls",
      "model_module_version": "1.4.0",
      "model_name": "LinkModel",
      "state": {
       "source": [
        "IPY_MODEL_a612809ed6234ed4896cf0991bee1c5f",
        "max"
       ],
       "target": [
        "IPY_MODEL_b3d52b6d03cc4f159ba68abbf43a000e",
        "value"
       ]
      }
     },
     "56b8719763294e11b623b829783818c8": {
      "model_module": "@jupyter-widgets/controls",
      "model_module_version": "1.4.0",
      "model_name": "GridBoxModel",
      "state": {
       "children": [
        "IPY_MODEL_483a1e42c600489f9f1effa5322032ca",
        "IPY_MODEL_71bd13bdc29446afbcebb69f0907605f",
        "IPY_MODEL_c696a70f4bcb4384b1d7c37f1783b4e5",
        "IPY_MODEL_61e6adc8b69f4e88bd39cc4312d7ea1d"
       ],
       "layout": "IPY_MODEL_175518e72b774d0da294571b876e34c8"
      }
     },
     "56cbe4d6aa75431f8093509ca2d44fb9": {
      "model_module": "@jupyter-widgets/controls",
      "model_module_version": "1.4.0",
      "model_name": "GridBoxModel",
      "state": {
       "children": [
        "IPY_MODEL_66f0cb74510741d596bfcf4ee40ff462",
        "IPY_MODEL_da36a23ea9df4366a79496a4e0ec6da0",
        "IPY_MODEL_074af9c2107f40159d1ca9cd38cb6cab"
       ],
       "layout": "IPY_MODEL_43772d0e57df4cff80046732b1a6bb9b"
      }
     },
     "5716b17051ce48128f15b269a3ac26e6": {
      "model_module": "@jupyter-widgets/base",
      "model_module_version": "1.1.0",
      "model_name": "LayoutModel",
      "state": {
       "align_items": "center"
      }
     },
     "5736713adb704a27a2d13a3af3b25518": {
      "model_module": "@jupyter-widgets/controls",
      "model_module_version": "1.4.0",
      "model_name": "IntSliderModel",
      "state": {
       "layout": "IPY_MODEL_05c1c77aa3a34414abeca061bf47a93a",
       "style": "IPY_MODEL_79c78683d04a4fb6b8a8747f2063252d"
      }
     },
     "5794ea3e8cff43e78d88cc1acda5bc47": {
      "model_module": "@jupyter-widgets/controls",
      "model_module_version": "1.4.0",
      "model_name": "GridBoxModel",
      "state": {
       "children": [
        "IPY_MODEL_30b1a91feeb64b7e939056af5eeb79d4",
        "IPY_MODEL_4c14cd44e9ed4bdf935a07abb504ce89",
        "IPY_MODEL_c4236a68af75492ba8539f46f2d85a5a"
       ],
       "layout": "IPY_MODEL_eb2eaddba6594bdf8b760efaf58149a1"
      }
     },
     "5796a5bf58d14cf8ad896d854e6fb3aa": {
      "model_module": "@jupyter-widgets/base",
      "model_module_version": "1.1.0",
      "model_name": "LayoutModel",
      "state": {
       "grid_area": "bottom-right",
       "height": "100%"
      }
     },
     "57b6bb8a092246159380e6eceaaf3541": {
      "model_module": "@jupyter-widgets/controls",
      "model_module_version": "1.4.0",
      "model_name": "ButtonModel",
      "state": {
       "description": "Top left",
       "layout": "IPY_MODEL_7594bded268e434fa23ee2d0e7f5ee44",
       "style": "IPY_MODEL_b07edc2aa6454eca93aacf15cc3ec659"
      }
     },
     "57b802a12bb046599bb66420f6d9bee4": {
      "model_module": "@jupyter-widgets/base",
      "model_module_version": "1.1.0",
      "model_name": "LayoutModel",
      "state": {
       "grid_area": "top-right"
      }
     },
     "57be803393574e87853cb6ff7b75dd72": {
      "model_module": "@jupyter-widgets/base",
      "model_module_version": "1.1.0",
      "model_name": "LayoutModel",
      "state": {
       "grid_template_areas": "\"top-left top-right\"\n\"bottom-left bottom-right\"",
       "grid_template_columns": "1fr 1fr",
       "grid_template_rows": "1fr 1fr",
       "width": "auto"
      }
     },
     "57c1e31481d449f09705bd9d377a89c8": {
      "model_module": "@jupyter-widgets/base",
      "model_module_version": "1.1.0",
      "model_name": "LayoutModel",
      "state": {
       "grid_template_areas": "\"top-left top-right\"\n\"bottom-left bottom-right\"",
       "grid_template_columns": "1fr 1fr",
       "grid_template_rows": "1fr 1fr",
       "width": "auto"
      }
     },
     "57e2b646393543b6b8c87178d5d9dd12": {
      "model_module": "@jupyter-widgets/controls",
      "model_module_version": "1.4.0",
      "model_name": "GridBoxModel",
      "state": {
       "children": [
        "IPY_MODEL_6d4d8661c78f4541bdaa4f519cf8408e",
        "IPY_MODEL_a40c95eb34b04ca5932ca6619aee1923",
        "IPY_MODEL_05f0cfbe96a646e6ad6a036c4cd35468",
        "IPY_MODEL_f0807b18a3614f369b5d058da09f9f07"
       ],
       "layout": "IPY_MODEL_39763ae289274188ae14d0b8550c224d"
      }
     },
     "57fae54e8c2c4f1f83ba32b847c8d29c": {
      "model_module": "@jupyter-widgets/controls",
      "model_module_version": "1.4.0",
      "model_name": "FloatSliderModel",
      "state": {
       "layout": "IPY_MODEL_669868fc90f94a2095e04841a0ab326a",
       "max": 1,
       "step": 0.1,
       "style": "IPY_MODEL_23e5882ca3a642f2869eed1e192947fb"
      }
     },
     "580aae028fe74fb79beec9bc25cc1bd8": {
      "model_module": "@jupyter-widgets/controls",
      "model_module_version": "1.4.0",
      "model_name": "LinkModel",
      "state": {
       "source": [
        "IPY_MODEL_6e75f3c250b74904a7b2761e466af520",
        "max"
       ],
       "target": [
        "IPY_MODEL_2400fad5748647b4ac145be35e6efef1",
        "value"
       ]
      }
     },
     "580bc9642fb4413b8e63791beb7d61e4": {
      "model_module": "@jupyter-widgets/base",
      "model_module_version": "1.1.0",
      "model_name": "LayoutModel",
      "state": {
       "grid_template_areas": "\"top-left top-right\"\n\"bottom-left bottom-right\"",
       "grid_template_columns": "1fr 1fr",
       "grid_template_rows": "1fr 1fr",
       "width": "auto"
      }
     },
     "5820826b6a604449b4808ef4734c59e8": {
      "model_module": "@jupyter-widgets/controls",
      "model_module_version": "1.4.0",
      "model_name": "SliderStyleModel",
      "state": {
       "description_width": ""
      }
     },
     "5846a81cc0614954ac20f7c9ec263be5": {
      "model_module": "@jupyter-widgets/controls",
      "model_module_version": "1.4.0",
      "model_name": "LinkModel",
      "state": {
       "source": [
        "IPY_MODEL_fc11ab93b8894a1da80a45d5a56a5136",
        "max"
       ],
       "target": [
        "IPY_MODEL_88c0a8ca313748f6a8a2e6d4f4267122",
        "value"
       ]
      }
     },
     "584b2b7a0f0a4023b1a8d5ddd96aca1e": {
      "model_module": "@jupyter-widgets/controls",
      "model_module_version": "1.4.0",
      "model_name": "IntSliderModel",
      "state": {
       "layout": "IPY_MODEL_52baa0f4562048cda06b8e93fce320bb",
       "style": "IPY_MODEL_bb8c0ca8fb424aea93b7bf75cdbc15ba",
       "value": 30
      }
     },
     "585a953040784128b5486f3e6fc3582b": {
      "model_module": "@jupyter-widgets/base",
      "model_module_version": "1.1.0",
      "model_name": "LayoutModel",
      "state": {
       "grid_area": "bottom-right"
      }
     },
     "585c3edf491f44489c50209d2b755a18": {
      "model_module": "@jupyter-widgets/controls",
      "model_module_version": "1.4.0",
      "model_name": "ButtonModel",
      "state": {
       "description": "Top left",
       "layout": "IPY_MODEL_6b803c963fbd432486b71ef2ee01c5b0",
       "style": "IPY_MODEL_908b5e548bba471bab11e1545d103edc"
      }
     },
     "5875fee03efb490f8a4b256c3ba58238": {
      "model_module": "@jupyter-widgets/controls",
      "model_module_version": "1.4.0",
      "model_name": "ButtonStyleModel",
      "state": {}
     },
     "587706d65bb54ddbadff66e7f997af31": {
      "model_module": "@jupyter-widgets/base",
      "model_module_version": "1.1.0",
      "model_name": "LayoutModel",
      "state": {
       "grid_template_areas": "\"top-left top-right\"\n\"bottom-left bottom-right\"",
       "grid_template_columns": "1fr 1fr",
       "grid_template_rows": "1fr 1fr",
       "width": "auto"
      }
     },
     "589fd35bae594f59b3357dc4c293f763": {
      "model_module": "@jupyter-widgets/base",
      "model_module_version": "1.1.0",
      "model_name": "LayoutModel",
      "state": {
       "grid_area": "top-left"
      }
     },
     "58a6c5cf5a344cc398fc4ba81f271fb9": {
      "model_module": "@jupyter-widgets/controls",
      "model_module_version": "1.4.0",
      "model_name": "ButtonStyleModel",
      "state": {}
     },
     "58ab2ec494624af183c3ee126082a92e": {
      "model_module": "@jupyter-widgets/controls",
      "model_module_version": "1.4.0",
      "model_name": "ButtonStyleModel",
      "state": {}
     },
     "58c46ad21c424b119dca4ad2c087a382": {
      "model_module": "@jupyter-widgets/base",
      "model_module_version": "1.1.0",
      "model_name": "LayoutModel",
      "state": {
       "grid_area": "top-right"
      }
     },
     "58e873a768c04f9ea955e7e5ad14c624": {
      "model_module": "@jupyter-widgets/controls",
      "model_module_version": "1.4.0",
      "model_name": "ButtonModel",
      "state": {
       "description": "Bottom right",
       "layout": "IPY_MODEL_cc2cdf2ebfd3486d90d0d0165d510723",
       "style": "IPY_MODEL_28e72f5a068643c08c1871cf53ec3a1a"
      }
     },
     "58f7311e80c14398ba490311db637cee": {
      "model_module": "@jupyter-widgets/controls",
      "model_module_version": "1.4.0",
      "model_name": "FloatSliderModel",
      "state": {
       "layout": "IPY_MODEL_63e47875e7df41a2af150343048b6462",
       "max": 1,
       "step": 0.1,
       "style": "IPY_MODEL_a61021740dfe41be82092b98cc202cad"
      }
     },
     "5927a08193b74365b7ed635f76dee612": {
      "model_module": "@jupyter-widgets/controls",
      "model_module_version": "1.4.0",
      "model_name": "ButtonModel",
      "state": {
       "description": "Top right",
       "layout": "IPY_MODEL_070613aa57c8479dbde81c19e94ec180",
       "style": "IPY_MODEL_51693b963c5e40b78cea345930d985f2"
      }
     },
     "593f3439fe2b425b88b297a1f7b022a5": {
      "model_module": "@jupyter-widgets/controls",
      "model_module_version": "1.4.0",
      "model_name": "DescriptionStyleModel",
      "state": {
       "description_width": ""
      }
     },
     "59d739196e8c4592b1d0baa74fe6fbed": {
      "model_module": "@jupyter-widgets/controls",
      "model_module_version": "1.4.0",
      "model_name": "ButtonModel",
      "state": {
       "description": "Bottom left",
       "layout": "IPY_MODEL_12e3040ffb5545a7847c97cd19730a31",
       "style": "IPY_MODEL_5da12268aef7428898ee9429a98735dc"
      }
     },
     "5a041eef07a74deebc583edb7172b90e": {
      "model_module": "@jupyter-widgets/controls",
      "model_module_version": "1.4.0",
      "model_name": "ButtonModel",
      "state": {
       "description": "Bottom left",
       "layout": "IPY_MODEL_d1173d5e75dd4ce49687b8e7b15ba709",
       "style": "IPY_MODEL_6814090678c345d6bac41c8234b188ba"
      }
     },
     "5a0aab56ee8a4700a55d36f4f43551b9": {
      "model_module": "@jupyter-widgets/controls",
      "model_module_version": "1.4.0",
      "model_name": "SliderStyleModel",
      "state": {
       "description_width": ""
      }
     },
     "5a109a04491c4bd0bb1432cc1eaf2982": {
      "model_module": "@jupyter-widgets/controls",
      "model_module_version": "1.4.0",
      "model_name": "IntTextModel",
      "state": {
       "layout": "IPY_MODEL_553727c17f8245ac9d7124ffb1a4066d",
       "step": 1,
       "style": "IPY_MODEL_a627d7d96f424ddab4a24f8af01ce91d",
       "value": 30
      }
     },
     "5a2d2167b11c4c0d9b7daba1754e0747": {
      "model_module": "bqplot",
      "model_module_version": "^0.4.5",
      "model_name": "FigureModel",
      "state": {
       "_dom_classes": [],
       "axes": [
        "IPY_MODEL_4391f5da6acc40839d47db99d6775fc9",
        "IPY_MODEL_0345d5f0dfae4224a6c5c2f0148adf9a"
       ],
       "layout": "IPY_MODEL_690926214c7c41f1876313321d9a165d",
       "marks": [
        "IPY_MODEL_3fced5509e0d447bb7b49fee12596648"
       ],
       "padding_x": 0.025,
       "scale_x": "IPY_MODEL_a54249403a094d93980f44c6556c119b",
       "scale_y": "IPY_MODEL_5d9bebacd40744c3a20cb94f1aeded9f"
      }
     },
     "5a45fdd51d6f46418fafb77508628a1e": {
      "model_module": "@jupyter-widgets/base",
      "model_module_version": "1.1.0",
      "model_name": "LayoutModel",
      "state": {
       "grid_area": "bottom-right",
       "min_width": "125px"
      }
     },
     "5a478b4e63c14b6b9317f2504218a23c": {
      "model_module": "@jupyter-widgets/base",
      "model_module_version": "1.1.0",
      "model_name": "LayoutModel",
      "state": {
       "grid_template_areas": "\"top-left top-right\"\n\"bottom-left bottom-right\"",
       "grid_template_columns": "1fr 1fr",
       "grid_template_rows": "1fr 1fr",
       "width": "auto"
      }
     },
     "5a63d8d0596a48deaf165565da0ea9f5": {
      "model_module": "@jupyter-widgets/controls",
      "model_module_version": "1.4.0",
      "model_name": "GridBoxModel",
      "state": {
       "children": [
        "IPY_MODEL_da244cd026d5447aa190cb67b74a21d6",
        "IPY_MODEL_2582354d03424bf59c18a2336f58dd63",
        "IPY_MODEL_789ce9e2c67341709c274c7c85bd4dea"
       ],
       "layout": "IPY_MODEL_fdd4d84fa5fc4389aed260cf817f934e"
      }
     },
     "5a85a2d7337c4cb1954f96527d588c6a": {
      "model_module": "@jupyter-widgets/base",
      "model_module_version": "1.1.0",
      "model_name": "LayoutModel",
      "state": {
       "grid_template_areas": "\"top-left bottom-right\"\n\"bottom-left bottom-right\"",
       "grid_template_columns": "1fr 1fr",
       "grid_template_rows": "1fr 1fr",
       "width": "auto"
      }
     },
     "5aa86e793588445fa2c6bc9bbc9c9524": {
      "model_module": "@jupyter-widgets/controls",
      "model_module_version": "1.4.0",
      "model_name": "ButtonStyleModel",
      "state": {}
     },
     "5ab2b8928cf7437da25310ec789fc584": {
      "model_module": "@jupyter-widgets/controls",
      "model_module_version": "1.4.0",
      "model_name": "ButtonStyleModel",
      "state": {}
     },
     "5ab8368fad8145df93b26bfc8294ea93": {
      "model_module": "@jupyter-widgets/base",
      "model_module_version": "1.1.0",
      "model_name": "LayoutModel",
      "state": {
       "grid_template_areas": "\"top-left top-right\"\n\"bottom-left bottom-right\"",
       "grid_template_columns": "1fr 1fr",
       "grid_template_rows": "1fr 1fr",
       "width": "auto"
      }
     },
     "5abe6432fc3e4779968662fb282d06cc": {
      "model_module": "@jupyter-widgets/controls",
      "model_module_version": "1.4.0",
      "model_name": "ButtonStyleModel",
      "state": {}
     },
     "5ac43cdf28cf4bde834ce86807a910af": {
      "model_module": "bqplot",
      "model_module_version": "^0.4.5",
      "model_name": "AxisModel",
      "state": {
       "orientation": "vertical",
       "scale": "IPY_MODEL_fc11ab93b8894a1da80a45d5a56a5136",
       "side": "left",
       "tick_format": "0.2f",
       "tick_values": {
        "type": null,
        "values": null
       }
      }
     },
     "5adaa6b317504cfa99b209b2bcefe70e": {
      "model_module": "@jupyter-widgets/base",
      "model_module_version": "1.1.0",
      "model_name": "LayoutModel",
      "state": {
       "grid_template_areas": "\"top-left top-right\"\n\"bottom-left bottom-right\"",
       "grid_template_columns": "1fr 1fr",
       "grid_template_rows": "1fr 1fr",
       "width": "auto"
      }
     },
     "5b27e8da60054cf881860d5890872a1f": {
      "model_module": "@jupyter-widgets/controls",
      "model_module_version": "1.4.0",
      "model_name": "SliderStyleModel",
      "state": {
       "description_width": ""
      }
     },
     "5b41e3c8135044b6b2fdc4f8740d9354": {
      "model_module": "@jupyter-widgets/controls",
      "model_module_version": "1.4.0",
      "model_name": "ButtonModel",
      "state": {
       "description": "Bottom right",
       "layout": "IPY_MODEL_8d0e346c987a4682abb00539aad76596",
       "style": "IPY_MODEL_8d6a9a429e21429ca851c328c3c7e732"
      }
     },
     "5b5d791e04994f93835ffcada3a0115c": {
      "model_module": "@jupyter-widgets/base",
      "model_module_version": "1.1.0",
      "model_name": "LayoutModel",
      "state": {
       "grid_area": "bottom-left",
       "height": "20px",
       "width": "300px"
      }
     },
     "5be2ce790cb84312a614b37218120179": {
      "model_module": "@jupyter-widgets/base",
      "model_module_version": "1.1.0",
      "model_name": "LayoutModel",
      "state": {
       "grid_area": "bottom-right"
      }
     },
     "5c25287b29d34fe695af92032c1e181e": {
      "model_module": "@jupyter-widgets/controls",
      "model_module_version": "1.4.0",
      "model_name": "ButtonStyleModel",
      "state": {}
     },
     "5c4bca8f57a44ce99acbf3cd8c151f4a": {
      "model_module": "@jupyter-widgets/controls",
      "model_module_version": "1.4.0",
      "model_name": "LinkModel",
      "state": {
       "source": [
        "IPY_MODEL_6e75f3c250b74904a7b2761e466af520",
        "max"
       ],
       "target": [
        "IPY_MODEL_c536d23d86a546d0abab14ef47933b67",
        "value"
       ]
      }
     },
     "5c50d1af971d4db7930b50b94d662ed5": {
      "model_module": "@jupyter-widgets/base",
      "model_module_version": "1.1.0",
      "model_name": "LayoutModel",
      "state": {
       "grid_template_areas": "\"top-left top-left\"\n\"bottom-left bottom-left\"",
       "grid_template_columns": "1fr 1fr",
       "grid_template_rows": "1fr 1fr",
       "width": "auto"
      }
     },
     "5c68e76f9b3a48cfbc7a07506663dc9e": {
      "model_module": "bqplot",
      "model_module_version": "^0.4.5",
      "model_name": "OrdinalScaleModel",
      "state": {
       "domain": []
      }
     },
     "5c78f16b75b24567bf64568672f8377b": {
      "model_module": "@jupyter-widgets/controls",
      "model_module_version": "1.4.0",
      "model_name": "ButtonModel",
      "state": {
       "description": "Top left",
       "layout": "IPY_MODEL_7880a46289134cd2834b16bb7d7281ec",
       "style": "IPY_MODEL_92000f17224a4bcf99bad746d6d08568"
      }
     },
     "5ccfd3ec768144cf9001db5b229119dd": {
      "model_module": "bqplot",
      "model_module_version": "^0.4.5",
      "model_name": "OrdinalScaleModel",
      "state": {
       "domain": []
      }
     },
     "5cd074a8937e4aaca27eab6bbca15343": {
      "model_module": "@jupyter-widgets/controls",
      "model_module_version": "1.4.0",
      "model_name": "ButtonModel",
      "state": {
       "description": "Top left",
       "layout": "IPY_MODEL_b70fc5fcf6a147f48ee41d4fa18292c4",
       "style": "IPY_MODEL_8664cfa382c84ee68a8ee3f16e82679a"
      }
     },
     "5ceebb38f3af4400b896c907db936dd0": {
      "model_module": "@jupyter-widgets/base",
      "model_module_version": "1.1.0",
      "model_name": "LayoutModel",
      "state": {
       "grid_template_areas": "\"top-left top-right\"\n\"bottom-left bottom-right\"",
       "grid_template_columns": "1fr 1fr",
       "grid_template_rows": "1fr 1fr"
      }
     },
     "5cff3ae9300548e98443a4be9e220554": {
      "model_module": "@jupyter-widgets/controls",
      "model_module_version": "1.4.0",
      "model_name": "ButtonStyleModel",
      "state": {}
     },
     "5d08850f0d6b46ffbf99c639ed7804ad": {
      "model_module": "@jupyter-widgets/controls",
      "model_module_version": "1.4.0",
      "model_name": "FloatSliderModel",
      "state": {
       "description": "Max: ",
       "layout": "IPY_MODEL_a02490f47bd44f4d94f91aa83ec61221",
       "max": 10,
       "min": 1,
       "step": 0.1,
       "style": "IPY_MODEL_e7288fac6d0e4ea799bd7d6cfa56a408",
       "value": 10
      }
     },
     "5d0d617e1067446d8a64ba15838f39ee": {
      "model_module": "@jupyter-widgets/controls",
      "model_module_version": "1.4.0",
      "model_name": "IntSliderModel",
      "state": {
       "layout": "IPY_MODEL_3b2c53b2f1884b0ab172effafdc17e7f",
       "style": "IPY_MODEL_1ace943fe3914c6aa8ea398f1276dbe6",
       "value": 25
      }
     },
     "5d759a18b39c4424930095201f96ccd3": {
      "model_module": "@jupyter-widgets/controls",
      "model_module_version": "1.4.0",
      "model_name": "ButtonModel",
      "state": {
       "description": "Top right",
       "layout": "IPY_MODEL_7b6e1800da0b41428cfed6e915f83299",
       "style": "IPY_MODEL_bb4654efb5f44de78a7f254b7cd75f60"
      }
     },
     "5d9bebacd40744c3a20cb94f1aeded9f": {
      "model_module": "bqplot",
      "model_module_version": "^0.4.5",
      "model_name": "LinearScaleModel",
      "state": {
       "allow_padding": false,
       "max": 1,
       "min": 0,
       "stabilized": false
      }
     },
     "5da12268aef7428898ee9429a98735dc": {
      "model_module": "@jupyter-widgets/controls",
      "model_module_version": "1.4.0",
      "model_name": "ButtonStyleModel",
      "state": {}
     },
     "5da3098a4f9c4b7488a9f358d2eb350f": {
      "model_module": "@jupyter-widgets/controls",
      "model_module_version": "1.4.0",
      "model_name": "SliderStyleModel",
      "state": {
       "description_width": ""
      }
     },
     "5dd4c9ac4b4742ed8071e60b93f13f00": {
      "model_module": "@jupyter-widgets/base",
      "model_module_version": "1.1.0",
      "model_name": "LayoutModel",
      "state": {
       "grid_area": "bottom-right",
       "height": "100%",
       "width": "auto"
      }
     },
     "5de7aa73f11240969b3ecc1fef4e1cce": {
      "model_module": "@jupyter-widgets/controls",
      "model_module_version": "1.4.0",
      "model_name": "ButtonModel",
      "state": {
       "description": "Bottom right",
       "layout": "IPY_MODEL_f516d274bfbf49ea82bb91839a8769ef",
       "style": "IPY_MODEL_451ddf96d4e54573bad627f6c8ae3c3b"
      }
     },
     "5e3ee1fe9f714d808e675d443ecd1174": {
      "model_module": "@jupyter-widgets/base",
      "model_module_version": "1.1.0",
      "model_name": "LayoutModel",
      "state": {
       "grid_area": "bottom-right",
       "height": "100%",
       "width": "auto"
      }
     },
     "5e711b8d9c4c49369f2d4dbe91ef948d": {
      "model_module": "@jupyter-widgets/controls",
      "model_module_version": "1.4.0",
      "model_name": "GridBoxModel",
      "state": {
       "children": [
        "IPY_MODEL_faa025a4ccf54b19bbfeffccfaf2dbb4",
        "IPY_MODEL_cf5eb516d1d549f68a4025f9c57c5d61",
        "IPY_MODEL_251f8b0af57e4146a775eaa0218f2b33"
       ],
       "layout": "IPY_MODEL_b4bcaf8d8e044fe184787ecc8957eadc"
      }
     },
     "5eeed3515c83468c9c6ec2f6a7c0208e": {
      "model_module": "@jupyter-widgets/controls",
      "model_module_version": "1.4.0",
      "model_name": "ButtonModel",
      "state": {
       "description": "Top left",
       "layout": "IPY_MODEL_3bf0e5baec2a41a7b4fafe921358875b",
       "style": "IPY_MODEL_e27a6fa8769449929a03b61dd668b6dc"
      }
     },
     "5f00f4c1dd4c44f3a00174d3db368251": {
      "model_module": "@jupyter-widgets/base",
      "model_module_version": "1.1.0",
      "model_name": "LayoutModel",
      "state": {
       "grid_area": "bottom-left"
      }
     },
     "5f128557a98140c2b9d7de4ed38aac76": {
      "model_module": "@jupyter-widgets/controls",
      "model_module_version": "1.4.0",
      "model_name": "ButtonStyleModel",
      "state": {}
     },
     "5f15fbc9b7bb4e0c92429b4017859b72": {
      "model_module": "@jupyter-widgets/controls",
      "model_module_version": "1.4.0",
      "model_name": "ButtonStyleModel",
      "state": {}
     },
     "5f2863e30d294926b36157d2583881b3": {
      "model_module": "@jupyter-widgets/controls",
      "model_module_version": "1.4.0",
      "model_name": "GridBoxModel",
      "state": {
       "children": [
        "IPY_MODEL_938803e9849c4286b850ab3b885c723c",
        "IPY_MODEL_91e25fd81e824dac93f9885ff7b168f8",
        "IPY_MODEL_074af9c2107f40159d1ca9cd38cb6cab"
       ],
       "layout": "IPY_MODEL_024cb179fb7f4237b1f2101177ce66b0"
      }
     },
     "5f2b9b952ff540eb851f7e74fa68869d": {
      "model_module": "@jupyter-widgets/base",
      "model_module_version": "1.1.0",
      "model_name": "LayoutModel",
      "state": {
       "grid_template_areas": "\"top-left bottom-right\"\n\"bottom-left bottom-right\"",
       "grid_template_columns": "1fr 1fr",
       "grid_template_rows": "1fr 1fr",
       "width": "auto"
      }
     },
     "5f353e6bce014561ab3c1e8a45a8d462": {
      "model_module": "@jupyter-widgets/controls",
      "model_module_version": "1.4.0",
      "model_name": "ButtonStyleModel",
      "state": {}
     },
     "5f50fd0e6fe8445491366a070e4a6ccc": {
      "model_module": "@jupyter-widgets/base",
      "model_module_version": "1.1.0",
      "model_name": "LayoutModel",
      "state": {
       "grid_template_areas": "\"top-left top-right\"\n\"bottom-left bottom-right\"",
       "grid_template_columns": "1fr 1fr",
       "grid_template_rows": "1fr 1fr",
       "width": "auto"
      }
     },
     "5f93d1ac52554f04b0bab5f2a6a2ec49": {
      "model_module": "bqplot",
      "model_module_version": "^0.4.5",
      "model_name": "LinearScaleModel",
      "state": {
       "allow_padding": false,
       "max": 1,
       "min": 0,
       "stabilized": false
      }
     },
     "5fcd4de6a2594c35b69b7860c373a4e9": {
      "model_module": "@jupyter-widgets/base",
      "model_module_version": "1.1.0",
      "model_name": "LayoutModel",
      "state": {
       "grid_template_areas": "\"top-left bottom-right\"\n\"bottom-left bottom-right\"",
       "grid_template_columns": "1fr 1fr",
       "grid_template_rows": "1fr 1fr",
       "width": "auto"
      }
     },
     "5fe0ab3cab7943c087023b6b2f47aa22": {
      "model_module": "@jupyter-widgets/base",
      "model_module_version": "1.1.0",
      "model_name": "LayoutModel",
      "state": {
       "grid_area": "bottom-right"
      }
     },
     "5fe44089020c422b9751ba60bac94ff9": {
      "model_module": "bqplot",
      "model_module_version": "^0.4.5",
      "model_name": "LinearScaleModel",
      "state": {
       "allow_padding": false,
       "max": 1,
       "min": 0,
       "stabilized": false
      }
     },
     "6001ed4c3d3a479eaa47ac3c21fe4a18": {
      "model_module": "@jupyter-widgets/base",
      "model_module_version": "1.1.0",
      "model_name": "LayoutModel",
      "state": {
       "grid_area": "top-left",
       "height": "20px",
       "width": "300px"
      }
     },
     "601458b674184a61b6507e77a1cd0225": {
      "model_module": "@jupyter-widgets/controls",
      "model_module_version": "1.4.0",
      "model_name": "DescriptionStyleModel",
      "state": {
       "description_width": ""
      }
     },
     "60229449f4764371a1d9439318ec8fec": {
      "model_module": "@jupyter-widgets/base",
      "model_module_version": "1.1.0",
      "model_name": "LayoutModel",
      "state": {
       "grid_template_areas": "\"top-left top-right\"\n\"bottom-left bottom-right\"",
       "grid_template_columns": "1fr 1fr",
       "grid_template_rows": "1fr 1fr"
      }
     },
     "60589f492921423a9ed2b4c8acebe09a": {
      "model_module": "@jupyter-widgets/base",
      "model_module_version": "1.1.0",
      "model_name": "LayoutModel",
      "state": {
       "align_items": "center",
       "grid_template_areas": "\"top-left bottom-right\"\n\"bottom-left bottom-right\"",
       "grid_template_columns": "1fr 1fr",
       "grid_template_rows": "1fr 1fr",
       "height": "500px",
       "width": "80%"
      }
     },
     "6060becdd96843f88b8b357a68a104f0": {
      "model_module": "@jupyter-widgets/controls",
      "model_module_version": "1.4.0",
      "model_name": "ButtonStyleModel",
      "state": {}
     },
     "6070478b1ac04f4c99f8ddd03ba94bfc": {
      "model_module": "@jupyter-widgets/controls",
      "model_module_version": "1.4.0",
      "model_name": "ButtonStyleModel",
      "state": {}
     },
     "60938624934845a38af0814a5a1e97e6": {
      "model_module": "@jupyter-widgets/base",
      "model_module_version": "1.1.0",
      "model_name": "LayoutModel",
      "state": {
       "grid_area": "bottom-left"
      }
     },
     "60b38d98dc0942028fc4da2da8aa5df5": {
      "model_module": "@jupyter-widgets/base",
      "model_module_version": "1.1.0",
      "model_name": "LayoutModel",
      "state": {
       "grid_area": "top-right"
      }
     },
     "60cd9706b1224729b59c473eedc307a4": {
      "model_module": "@jupyter-widgets/base",
      "model_module_version": "1.1.0",
      "model_name": "LayoutModel",
      "state": {
       "grid_template_areas": "\"top-left bottom-right\"\n\"bottom-left bottom-right\"",
       "grid_template_columns": "1fr 1fr",
       "grid_template_rows": "1fr 1fr",
       "width": "auto"
      }
     },
     "60d49354dcce4a6f81578d4ff21925fb": {
      "model_module": "@jupyter-widgets/base",
      "model_module_version": "1.1.0",
      "model_name": "LayoutModel",
      "state": {
       "grid_template_areas": "\"top-left top-right\"\n\"bottom-left top-right\"",
       "grid_template_columns": "1fr 1fr",
       "grid_template_rows": "1fr 1fr",
       "width": "auto"
      }
     },
     "60db0f4b6549490ab676895b1344d46c": {
      "model_module": "@jupyter-widgets/controls",
      "model_module_version": "1.4.0",
      "model_name": "FloatSliderModel",
      "state": {
       "layout": "IPY_MODEL_318c2d6a1e5c4e52a1aab7b92040583e",
       "max": 10,
       "min": 1,
       "step": 0.1,
       "style": "IPY_MODEL_694bf358ad1b49a9b2c833f60e6da556",
       "value": 1
      }
     },
     "60f2ff9663fe4fe994b84b04d75519ce": {
      "model_module": "@jupyter-widgets/controls",
      "model_module_version": "1.4.0",
      "model_name": "FloatSliderModel",
      "state": {
       "layout": "IPY_MODEL_f42b3a1c28d548a8b0a53303e32e960e",
       "max": 1,
       "step": 0.1,
       "style": "IPY_MODEL_d3c9ee104b7946609d5527c545f6f2fd",
       "value": null
      }
     },
     "6103faa60b084dd0a04838ef14fefc74": {
      "model_module": "@jupyter-widgets/base",
      "model_module_version": "1.1.0",
      "model_name": "LayoutModel",
      "state": {
       "grid_area": "bottom-right"
      }
     },
     "61041f9215f549208f089f643bdd5f01": {
      "model_module": "@jupyter-widgets/controls",
      "model_module_version": "1.4.0",
      "model_name": "SliderStyleModel",
      "state": {
       "description_width": ""
      }
     },
     "611cf9fc49c645538473b21e6ae20339": {
      "model_module": "bqplot",
      "model_module_version": "^0.4.5",
      "model_name": "FigureModel",
      "state": {
       "_dom_classes": [],
       "axes": [
        "IPY_MODEL_55005ac8c6ce472b90311a1da11900e5",
        "IPY_MODEL_5ac43cdf28cf4bde834ce86807a910af"
       ],
       "layout": "IPY_MODEL_ff7fdb8cc7d149a298da656471213a95",
       "marks": [
        "IPY_MODEL_3cba1a054904474ea224dd77039bafbf"
       ],
       "padding_x": 0.025,
       "scale_x": "IPY_MODEL_e4558e36f4c14b909863a73d9488bca7",
       "scale_y": "IPY_MODEL_28f0243669de407c98df769a3a700509"
      }
     },
     "613a10628bc64d16840f9dde5959f74b": {
      "model_module": "bqplot",
      "model_module_version": "^0.4.5",
      "model_name": "LinearScaleModel",
      "state": {
       "max": 10,
       "min": 1,
       "stabilized": false
      }
     },
     "615d0c44c05941d597b03201637646a2": {
      "model_module": "@jupyter-widgets/base",
      "model_module_version": "1.1.0",
      "model_name": "LayoutModel",
      "state": {
       "grid_area": "bottom-left",
       "height": "20px",
       "width": "300px"
      }
     },
     "61e6adc8b69f4e88bd39cc4312d7ea1d": {
      "model_module": "@jupyter-widgets/controls",
      "model_module_version": "1.4.0",
      "model_name": "ButtonModel",
      "state": {
       "description": "Bottom right",
       "layout": "IPY_MODEL_6e496ba9abd5435b9cb09a302febffb8",
       "style": "IPY_MODEL_753156c0487c4aadadcc5d368dd9dfec"
      }
     },
     "62192dcd024c4f3aade5230c7542928d": {
      "model_module": "@jupyter-widgets/controls",
      "model_module_version": "1.4.0",
      "model_name": "ButtonStyleModel",
      "state": {}
     },
     "62235da8edbd4ed88e9197a156aac6ce": {
      "model_module": "@jupyter-widgets/controls",
      "model_module_version": "1.4.0",
      "model_name": "GridBoxModel",
      "state": {
       "children": [
        "IPY_MODEL_adb2767f1c96404398bda200d8c769bd",
        "IPY_MODEL_64b504850e004920845eae7added9c84",
        "IPY_MODEL_c8941ccb842248e2bd2aa99956a69fcf"
       ],
       "layout": "IPY_MODEL_1e2afeffdafd49ebafa19591e54ea23d"
      }
     },
     "62539cc9f59e4027ba82172a9162d05c": {
      "model_module": "@jupyter-widgets/base",
      "model_module_version": "1.1.0",
      "model_name": "LayoutModel",
      "state": {
       "grid_area": "top-left"
      }
     },
     "6268df705fe447728fc0d9de5b50a613": {
      "model_module": "@jupyter-widgets/controls",
      "model_module_version": "1.4.0",
      "model_name": "ButtonModel",
      "state": {
       "description": "Bottom right",
       "layout": "IPY_MODEL_9957130949964db28f17d744e34adb8a",
       "style": "IPY_MODEL_5abe6432fc3e4779968662fb282d06cc"
      }
     },
     "62ba19b0e952465082ed15ca0e812f07": {
      "model_module": "@jupyter-widgets/controls",
      "model_module_version": "1.4.0",
      "model_name": "ButtonStyleModel",
      "state": {}
     },
     "62c327407f2f43ee977df73e9444eb3f": {
      "model_module": "@jupyter-widgets/base",
      "model_module_version": "1.1.0",
      "model_name": "LayoutModel",
      "state": {
       "grid_template_areas": "\"top-left top-right\"\n\"bottom-left bottom-right\"",
       "grid_template_columns": "1fr 1fr",
       "grid_template_rows": "1fr 1fr",
       "width": "auto"
      }
     },
     "62f2a33aa5b74ec8af951ab38569a0bb": {
      "model_module": "@jupyter-widgets/base",
      "model_module_version": "1.1.0",
      "model_name": "LayoutModel",
      "state": {
       "grid_template_areas": "\"top-left top-right\"\n\"bottom-left bottom-right\"",
       "grid_template_columns": "1fr 1fr",
       "grid_template_rows": "1fr 1fr",
       "width": "auto"
      }
     },
     "6329dbb008644fd5a422a322af6d9f24": {
      "model_module": "@jupyter-widgets/controls",
      "model_module_version": "1.4.0",
      "model_name": "ButtonStyleModel",
      "state": {}
     },
     "6331cf5eae71443faca45fc927577321": {
      "model_module": "@jupyter-widgets/controls",
      "model_module_version": "1.4.0",
      "model_name": "FloatSliderModel",
      "state": {
       "description": "Max: ",
       "layout": "IPY_MODEL_427a04964a134146b9fc7a6d083ceea7",
       "max": 10,
       "step": 0.1,
       "style": "IPY_MODEL_0454d63bfe76484ea91d8d369ba50fa5",
       "value": 2.3
      }
     },
     "6347865d26a94695bdb75bdce53fe21d": {
      "model_module": "@jupyter-widgets/controls",
      "model_module_version": "1.4.0",
      "model_name": "ButtonModel",
      "state": {
       "description": "Bottom left",
       "layout": "IPY_MODEL_ddd91fb64c0c4f6ea7323bbff34ce8aa",
       "style": "IPY_MODEL_92948f2515634cf3b1f791df30da27dc"
      }
     },
     "634b625464194ac78865be9a3c6abe6b": {
      "model_module": "@jupyter-widgets/base",
      "model_module_version": "1.1.0",
      "model_name": "LayoutModel",
      "state": {
       "grid_template_areas": "\"top-left top-right\"\n\"bottom-left bottom-right\"",
       "grid_template_columns": "1fr 1fr",
       "grid_template_rows": "1fr 1fr"
      }
     },
     "63a8cb6ed44747ffad9e1c749088a318": {
      "model_module": "@jupyter-widgets/controls",
      "model_module_version": "1.4.0",
      "model_name": "LinkModel",
      "state": {
       "source": [
        "IPY_MODEL_fc11ab93b8894a1da80a45d5a56a5136",
        "max"
       ],
       "target": [
        "IPY_MODEL_143a31647e0b492bb36489fc40fa1540",
        "value"
       ]
      }
     },
     "63ca6f33a7174f9e9ea2254f9b0e1e87": {
      "model_module": "@jupyter-widgets/controls",
      "model_module_version": "1.4.0",
      "model_name": "LinkModel",
      "state": {
       "source": [
        "IPY_MODEL_90dbb1b5a05e4a10b4004bbd57c6a1bf",
        "max"
       ],
       "target": [
        "IPY_MODEL_88aae750ffa84aec98fce235ed7728cc",
        "value"
       ]
      }
     },
     "63d86c042bd74372ab4ee2225f3ee583": {
      "model_module": "@jupyter-widgets/base",
      "model_module_version": "1.1.0",
      "model_name": "LayoutModel",
      "state": {
       "grid_template_areas": "\"top-left bottom-right\"\n\"bottom-left bottom-right\"",
       "grid_template_columns": "1fr 1fr",
       "grid_template_rows": "1fr 1fr",
       "width": "auto"
      }
     },
     "63e41c5128604993a2113b94c92525ae": {
      "model_module": "@jupyter-widgets/base",
      "model_module_version": "1.1.0",
      "model_name": "LayoutModel",
      "state": {
       "grid_area": "top-left"
      }
     },
     "63e47875e7df41a2af150343048b6462": {
      "model_module": "@jupyter-widgets/base",
      "model_module_version": "1.1.0",
      "model_name": "LayoutModel",
      "state": {
       "grid_area": "top-left",
       "height": "20px",
       "width": "200px"
      }
     },
     "63e8b402b4704c889eb4c718e7ed29bb": {
      "model_module": "@jupyter-widgets/controls",
      "model_module_version": "1.4.0",
      "model_name": "ButtonStyleModel",
      "state": {}
     },
     "63f056a049ac4499a635f81a5d19b8c0": {
      "model_module": "@jupyter-widgets/controls",
      "model_module_version": "1.4.0",
      "model_name": "GridBoxModel",
      "state": {
       "children": [
        "IPY_MODEL_adb28488458e4abbad2410cc302dfae5",
        "IPY_MODEL_79d1e1f9f84e4d26ac33d4189a80d4d8",
        "IPY_MODEL_ceecf6c6be61473cb5672031b59319fb"
       ],
       "layout": "IPY_MODEL_fcfea4798ea7438e9e18b48e645ca645"
      }
     },
     "643b404e658f4ba18a261965d378a6a7": {
      "model_module": "@jupyter-widgets/controls",
      "model_module_version": "1.4.0",
      "model_name": "ButtonStyleModel",
      "state": {}
     },
     "6476440b69714f4bbffdaaaa0e746ad7": {
      "model_module": "@jupyter-widgets/controls",
      "model_module_version": "1.4.0",
      "model_name": "ButtonModel",
      "state": {
       "description": "Bottom right",
       "layout": "IPY_MODEL_978f0f0e29154aec9e6daf063d49e6c3",
       "style": "IPY_MODEL_9c0ad52a00574229a6e47d00a26a61a1"
      }
     },
     "64af6651ff054841bb0ccd0d31fb719d": {
      "model_module": "@jupyter-widgets/base",
      "model_module_version": "1.1.0",
      "model_name": "LayoutModel",
      "state": {
       "grid_area": "bottom-right",
       "height": "100%",
       "width": "auto"
      }
     },
     "64b163196385423eb1a64fc7ffb6d024": {
      "model_module": "@jupyter-widgets/base",
      "model_module_version": "1.1.0",
      "model_name": "LayoutModel",
      "state": {
       "grid_area": "bottom-left"
      }
     },
     "64b504850e004920845eae7added9c84": {
      "model_module": "@jupyter-widgets/controls",
      "model_module_version": "1.4.0",
      "model_name": "ButtonModel",
      "state": {
       "description": "Bottom left",
       "layout": "IPY_MODEL_6e6399027e3e435e9dde2430a53273da",
       "style": "IPY_MODEL_664a3e59e4264a34b5645502659468d0"
      }
     },
     "64b974ad42ef4ae7a0e5dc1e7eed28df": {
      "model_module": "bqplot",
      "model_module_version": "^0.4.5",
      "model_name": "OrdinalScaleModel",
      "state": {
       "domain": []
      }
     },
     "64e80edc6b7f40539fe132ed8b30957a": {
      "model_module": "@jupyter-widgets/base",
      "model_module_version": "1.1.0",
      "model_name": "LayoutModel",
      "state": {
       "grid_area": "bottom-left",
       "width": "200px"
      }
     },
     "64f3675794024e0db5aeb8d98436e942": {
      "model_module": "@jupyter-widgets/controls",
      "model_module_version": "1.4.0",
      "model_name": "GridBoxModel",
      "state": {
       "children": [
        "IPY_MODEL_5c78f16b75b24567bf64568672f8377b",
        "IPY_MODEL_751efd8da8fb4ba696b319dfad80b77a",
        "IPY_MODEL_9d260d11946e4ff38dcf04ee5e310af5",
        "IPY_MODEL_3667984534f34d9caca9f23fab17a9b6"
       ],
       "layout": "IPY_MODEL_51201404ac5b452d88ec01fca087d51b"
      }
     },
     "6500fc134ba1467796967eca2aaabac4": {
      "model_module": "bqplot",
      "model_module_version": "^0.4.5",
      "model_name": "AxisModel",
      "state": {
       "orientation": "vertical",
       "scale": "IPY_MODEL_750adc3de4564888a5eeee1aff47f592",
       "side": "left",
       "tick_format": "0.2f",
       "tick_values": {
        "type": null,
        "values": null
       }
      }
     },
     "650403dc1c474f16bd8bfa4607719336": {
      "model_module": "@jupyter-widgets/controls",
      "model_module_version": "1.4.0",
      "model_name": "LinkModel",
      "state": {
       "source": [
        "IPY_MODEL_9b0be89660144710a836f7e3a52173c6",
        "max"
       ],
       "target": [
        "IPY_MODEL_5d08850f0d6b46ffbf99c639ed7804ad",
        "value"
       ]
      }
     },
     "650ace1981144c0ab45e9f5c5092aec2": {
      "model_module": "@jupyter-widgets/base",
      "model_module_version": "1.1.0",
      "model_name": "LayoutModel",
      "state": {
       "grid_template_areas": "\"top-left top-right\"\n\"bottom-left bottom-right\"",
       "grid_template_columns": "1fr 1fr",
       "grid_template_rows": "1fr 1fr"
      }
     },
     "6535864da872475a90564b6f572f4bc9": {
      "model_module": "@jupyter-widgets/base",
      "model_module_version": "1.1.0",
      "model_name": "LayoutModel",
      "state": {
       "grid_template_areas": "\"top-left top-right\"\n\"bottom-left bottom-right\"",
       "grid_template_columns": "1fr 1fr",
       "grid_template_rows": "1fr 1fr",
       "width": "auto"
      }
     },
     "65493b3db8ce4d02b46a4afaccf27613": {
      "model_module": "@jupyter-widgets/controls",
      "model_module_version": "1.4.0",
      "model_name": "LinkModel",
      "state": {
       "source": [
        "IPY_MODEL_675e508065eb411d9459bee5d03b3d25",
        "min"
       ],
       "target": [
        "IPY_MODEL_9e411bbb96de4e41bf8139bb6277898f",
        "value"
       ]
      }
     },
     "6556609f7f6b4264b818fcb870a63642": {
      "model_module": "@jupyter-widgets/controls",
      "model_module_version": "1.4.0",
      "model_name": "GridBoxModel",
      "state": {
       "children": [
        "IPY_MODEL_a86d5948e25f417da18120e9790c3b84",
        "IPY_MODEL_94fb1d25aa6c437ea51ab3ceff3f9146",
        "IPY_MODEL_90df2f39ec7548e692053de3633ac5c6",
        "IPY_MODEL_dcfe4ed1b1a54297bb57c69612599e27"
       ],
       "layout": "IPY_MODEL_c4ac95af85c24fa9a3f84dc497bc51c7"
      }
     },
     "65739db8eb5248bba46af97090a2ee43": {
      "model_module": "@jupyter-widgets/controls",
      "model_module_version": "1.4.0",
      "model_name": "ButtonModel",
      "state": {
       "description": "Top left",
       "layout": "IPY_MODEL_320636a3704b4ce18a535698cad85a10",
       "style": "IPY_MODEL_30336f9f1a0440f1ae0a211835743d60"
      }
     },
     "659b60e7ccc8405899d5e78518ccfaa8": {
      "model_module": "@jupyter-widgets/base",
      "model_module_version": "1.1.0",
      "model_name": "LayoutModel",
      "state": {
       "grid_area": "top-left"
      }
     },
     "65a0e0f1a1604989b626a9de571c8ba1": {
      "model_module": "@jupyter-widgets/controls",
      "model_module_version": "1.4.0",
      "model_name": "ButtonStyleModel",
      "state": {}
     },
     "65a61cf38dc847f0a120e897ea7352f2": {
      "model_module": "@jupyter-widgets/controls",
      "model_module_version": "1.4.0",
      "model_name": "ButtonStyleModel",
      "state": {}
     },
     "65d3fe8a185f4422815c786742d8f91f": {
      "model_module": "@jupyter-widgets/controls",
      "model_module_version": "1.4.0",
      "model_name": "ButtonStyleModel",
      "state": {}
     },
     "66181809428a4ae9be60db1649cd9f7e": {
      "model_module": "@jupyter-widgets/controls",
      "model_module_version": "1.4.0",
      "model_name": "SliderStyleModel",
      "state": {
       "description_width": ""
      }
     },
     "661cbc8ae7cb4d248e8c7ca1b4720894": {
      "model_module": "@jupyter-widgets/base",
      "model_module_version": "1.1.0",
      "model_name": "LayoutModel",
      "state": {}
     },
     "6626d864c15d4e6d9505b704f8798495": {
      "model_module": "@jupyter-widgets/controls",
      "model_module_version": "1.4.0",
      "model_name": "ButtonStyleModel",
      "state": {}
     },
     "664a3e59e4264a34b5645502659468d0": {
      "model_module": "@jupyter-widgets/controls",
      "model_module_version": "1.4.0",
      "model_name": "ButtonStyleModel",
      "state": {}
     },
     "6655a7a4cdd6428dac9074c4e7d5c0f1": {
      "model_module": "@jupyter-widgets/base",
      "model_module_version": "1.1.0",
      "model_name": "LayoutModel",
      "state": {
       "grid_template_areas": "\"top-left bottom-right\"\n\"bottom-left bottom-right\"",
       "grid_template_columns": "1fr 1fr",
       "grid_template_rows": "1fr 1fr",
       "width": "auto"
      }
     },
     "6659a987237c438aadc1df239276b222": {
      "model_module": "@jupyter-widgets/base",
      "model_module_version": "1.1.0",
      "model_name": "LayoutModel",
      "state": {
       "grid_area": "bottom-left"
      }
     },
     "669868fc90f94a2095e04841a0ab326a": {
      "model_module": "@jupyter-widgets/base",
      "model_module_version": "1.1.0",
      "model_name": "LayoutModel",
      "state": {
       "grid_area": "top-left"
      }
     },
     "66bcf813c5124d48b1c7b28dcbc14bba": {
      "model_module": "@jupyter-widgets/controls",
      "model_module_version": "1.4.0",
      "model_name": "FloatSliderModel",
      "state": {
       "layout": "IPY_MODEL_498e10bfd1414b14974ddbd6f8b73676",
       "max": 1,
       "step": 0.1,
       "style": "IPY_MODEL_03a369b2fe9a469f9af544b305828000",
       "value": 0.05
      }
     },
     "66f0cb74510741d596bfcf4ee40ff462": {
      "model_module": "@jupyter-widgets/controls",
      "model_module_version": "1.4.0",
      "model_name": "FloatSliderModel",
      "state": {
       "layout": "IPY_MODEL_8ce0349478b5456e9fa1015d36003eed",
       "max": 1,
       "step": 0.1,
       "style": "IPY_MODEL_6a70e65357814e579fdf897c7149d1f5"
      }
     },
     "671744b73c5b4c64a0e2c6c56e2b6a51": {
      "model_module": "@jupyter-widgets/controls",
      "model_module_version": "1.4.0",
      "model_name": "ButtonModel",
      "state": {
       "description": "Bottom right",
       "layout": "IPY_MODEL_f6d7657ab9e94421924b7ec65b47b752",
       "style": "IPY_MODEL_ea7054526ea14ad0b5c967ac4d4c0726"
      }
     },
     "67249cc8814946ea95632699ea814d19": {
      "model_module": "@jupyter-widgets/base",
      "model_module_version": "1.1.0",
      "model_name": "LayoutModel",
      "state": {
       "grid_area": "top-left"
      }
     },
     "672e601af8104a16bef192dbd235acf8": {
      "model_module": "@jupyter-widgets/base",
      "model_module_version": "1.1.0",
      "model_name": "LayoutModel",
      "state": {
       "grid_template_areas": "\"top-left top-right\"\n\"bottom-left bottom-right\"",
       "grid_template_columns": "1fr 1fr",
       "grid_template_rows": "1fr 1fr",
       "width": "auto"
      }
     },
     "6737f46a3b214be895080c6cc701516f": {
      "model_module": "@jupyter-widgets/base",
      "model_module_version": "1.1.0",
      "model_name": "LayoutModel",
      "state": {
       "grid_area": "bottom-left"
      }
     },
     "6744848934ad4b81b4efb3d9b5107ae6": {
      "model_module": "@jupyter-widgets/controls",
      "model_module_version": "1.4.0",
      "model_name": "LinkModel",
      "state": {
       "source": [
        "IPY_MODEL_5d08850f0d6b46ffbf99c639ed7804ad",
        "min"
       ],
       "target": [
        "IPY_MODEL_bdf70c69466149e4b081f23c8abc6338",
        "value"
       ]
      }
     },
     "674aaf6cf959490c8bf3e391c66b4e81": {
      "model_module": "@jupyter-widgets/controls",
      "model_module_version": "1.4.0",
      "model_name": "GridBoxModel",
      "state": {
       "children": [
        "IPY_MODEL_4ef716fafc1a4d2796740a3f3294ccec",
        "IPY_MODEL_7f282c30c55d4c72a3cce50804898e3e",
        "IPY_MODEL_b636c07ab1a44be98a1a20f29ad774fe",
        "IPY_MODEL_1a5f8e76c8ee4b9ea8612c2eedd42bfe"
       ],
       "layout": "IPY_MODEL_3e29bda8feb840d4b5794a996f2ce3e0"
      }
     },
     "675912a355bd49dda50513bd94727f36": {
      "model_module": "@jupyter-widgets/controls",
      "model_module_version": "1.4.0",
      "model_name": "SliderStyleModel",
      "state": {
       "description_width": ""
      }
     },
     "675e508065eb411d9459bee5d03b3d25": {
      "model_module": "bqplot",
      "model_module_version": "^0.4.5",
      "model_name": "LinearScaleModel",
      "state": {
       "max": 1,
       "min": 0,
       "stabilized": false
      }
     },
     "678e7f8075fd4f02a4ec037769b000a1": {
      "model_module": "@jupyter-widgets/controls",
      "model_module_version": "1.4.0",
      "model_name": "ButtonStyleModel",
      "state": {}
     },
     "67a4ed5dcf7144e598e8b30034a4c9c6": {
      "model_module": "@jupyter-widgets/controls",
      "model_module_version": "1.4.0",
      "model_name": "ButtonModel",
      "state": {
       "description": "Bottom left",
       "layout": "IPY_MODEL_e3e47dcb5a32462f9c76ba562a38f4c9",
       "style": "IPY_MODEL_45675e1dc35f44af8a0d206f2f7b0642"
      }
     },
     "67ad4f836e5e4258beaa753e80d069e6": {
      "model_module": "@jupyter-widgets/controls",
      "model_module_version": "1.4.0",
      "model_name": "DescriptionStyleModel",
      "state": {
       "description_width": ""
      }
     },
     "67fd5019c7e8443aaa4900c4ea66e3eb": {
      "model_module": "@jupyter-widgets/controls",
      "model_module_version": "1.4.0",
      "model_name": "LinkModel",
      "state": {
       "source": [
        "IPY_MODEL_ebb147aeea6d4453aacf9e22351c15dc",
        "min"
       ],
       "target": [
        "IPY_MODEL_2e4e6da264be44cb9807a2314f19a370",
        "value"
       ]
      }
     },
     "6814090678c345d6bac41c8234b188ba": {
      "model_module": "@jupyter-widgets/controls",
      "model_module_version": "1.4.0",
      "model_name": "ButtonStyleModel",
      "state": {}
     },
     "6816fe8d00424943977d1db415800679": {
      "model_module": "@jupyter-widgets/controls",
      "model_module_version": "1.4.0",
      "model_name": "FloatSliderModel",
      "state": {
       "layout": "IPY_MODEL_62539cc9f59e4027ba82172a9162d05c",
       "max": 1,
       "step": 0.1,
       "style": "IPY_MODEL_e65817a9922c41fc8409cf78a247e7d7",
       "value": null
      }
     },
     "689ac12dc080466a808da096a205b65d": {
      "model_module": "@jupyter-widgets/base",
      "model_module_version": "1.1.0",
      "model_name": "LayoutModel",
      "state": {
       "grid_area": "bottom-left"
      }
     },
     "68c504a8b0094a4fb3107334ad97fc5e": {
      "model_module": "@jupyter-widgets/controls",
      "model_module_version": "1.4.0",
      "model_name": "ButtonStyleModel",
      "state": {}
     },
     "68de1bf30646480c973b75a2bd3f2d0c": {
      "model_module": "@jupyter-widgets/base",
      "model_module_version": "1.1.0",
      "model_name": "LayoutModel",
      "state": {
       "grid_template_areas": "\"top-left top-right\"\n\"bottom-left bottom-right\"",
       "grid_template_columns": "1fr 1fr",
       "grid_template_rows": "1fr 1fr",
       "width": "auto"
      }
     },
     "68fa60bb50e74b1f9a4b71f44247cf6d": {
      "model_module": "bqplot",
      "model_module_version": "^0.4.5",
      "model_name": "OrdinalScaleModel",
      "state": {
       "domain": []
      }
     },
     "68ffd45f38cc4a42a5f2949c3d3d8eaf": {
      "model_module": "@jupyter-widgets/base",
      "model_module_version": "1.1.0",
      "model_name": "LayoutModel",
      "state": {
       "grid_area": "bottom-right",
       "height": "100%"
      }
     },
     "690926214c7c41f1876313321d9a165d": {
      "model_module": "@jupyter-widgets/base",
      "model_module_version": "1.1.0",
      "model_name": "LayoutModel",
      "state": {
       "grid_area": "top-right",
       "min_width": "125px"
      }
     },
     "694292eac0db47608838dd02cd8fafec": {
      "model_module": "bqplot",
      "model_module_version": "^0.4.5",
      "model_name": "LinearScaleModel",
      "state": {
       "max": 8.8,
       "min": 7.3,
       "stabilized": false
      }
     },
     "694bf358ad1b49a9b2c833f60e6da556": {
      "model_module": "@jupyter-widgets/controls",
      "model_module_version": "1.4.0",
      "model_name": "SliderStyleModel",
      "state": {
       "description_width": ""
      }
     },
     "694fddb152494784b216a299ea5ed748": {
      "model_module": "bqplot",
      "model_module_version": "^0.4.5",
      "model_name": "FigureModel",
      "state": {
       "_dom_classes": [],
       "axes": [
        "IPY_MODEL_e9e84db8234d48908e1bf62a2c9f3d6c",
        "IPY_MODEL_3f124b6c12784f999038b15495c5dd09"
       ],
       "layout": "IPY_MODEL_4e12fb215cf94c25abe8cf7172e2d81f",
       "marks": [
        "IPY_MODEL_ae812fb2713e445086b31b1c18ac86af"
       ],
       "padding_x": 0.025,
       "scale_x": "IPY_MODEL_3f10409018e74823b76cc9e2d99fd943",
       "scale_y": "IPY_MODEL_c36c0fae720c48d88aeb2a130e455c70"
      }
     },
     "6965f4f3ff1e49f09f610642643c7914": {
      "model_module": "@jupyter-widgets/controls",
      "model_module_version": "1.4.0",
      "model_name": "ButtonModel",
      "state": {
       "description": "Top left",
       "layout": "IPY_MODEL_73922513e59a486f8186d021e72d0e1f",
       "style": "IPY_MODEL_8ce8c00c5cf34fbb9c9abbef1f718617"
      }
     },
     "696fdbd1ccef4b0ca41820ac2b6878eb": {
      "model_module": "@jupyter-widgets/base",
      "model_module_version": "1.1.0",
      "model_name": "LayoutModel",
      "state": {
       "grid_area": "top-right"
      }
     },
     "697183d72bbb4768a1dda1a1eb49b61c": {
      "model_module": "@jupyter-widgets/controls",
      "model_module_version": "1.4.0",
      "model_name": "GridBoxModel",
      "state": {
       "children": [
        "IPY_MODEL_2c522f7fff164357bfd8a1e69d4ae278",
        "IPY_MODEL_fa6f6a8fbd17454e88d8a7c456976a7c",
        "IPY_MODEL_7d63b7557d40437a80fd84464a00f2d0"
       ],
       "layout": "IPY_MODEL_11ed14afcc734fcdada9ad270e4c174d"
      }
     },
     "69739f1065c14b4c82f6454bdc27c770": {
      "model_module": "@jupyter-widgets/controls",
      "model_module_version": "1.4.0",
      "model_name": "ButtonModel",
      "state": {
       "description": "Top left",
       "layout": "IPY_MODEL_371ad0f411a74854bcaa112a48518fb4",
       "style": "IPY_MODEL_36c84db401a74014bc6139a5ff48eb3e"
      }
     },
     "69e39de4e6024c2b8a276f2bc2fe2aa6": {
      "model_module": "@jupyter-widgets/controls",
      "model_module_version": "1.4.0",
      "model_name": "IntSliderModel",
      "state": {
       "layout": "IPY_MODEL_d34566e35c8b412fa6915d9f6aa6ee2c",
       "style": "IPY_MODEL_d2476c47b13d436aa56eb7c58e84d218",
       "value": 30
      }
     },
     "6a1a44d0097c4f088eeb02b6950f7522": {
      "model_module": "@jupyter-widgets/base",
      "model_module_version": "1.1.0",
      "model_name": "LayoutModel",
      "state": {
       "grid_template_areas": "\"top-left top-right\"\n\"bottom-left bottom-right\"",
       "grid_template_columns": "1fr 1fr",
       "grid_template_rows": "1fr 1fr",
       "width": "auto"
      }
     },
     "6a23b0dbf5064f4bbae70285711029fb": {
      "model_module": "@jupyter-widgets/controls",
      "model_module_version": "1.4.0",
      "model_name": "SliderStyleModel",
      "state": {
       "description_width": ""
      }
     },
     "6a256cf8854743218f9f0106ee12a27a": {
      "model_module": "@jupyter-widgets/controls",
      "model_module_version": "1.4.0",
      "model_name": "GridBoxModel",
      "state": {
       "children": [
        "IPY_MODEL_d3abe8d4e7c146a4bd8cbc767fb9a116",
        "IPY_MODEL_a60709e193cb4903b4ccf9e3d416300f",
        "IPY_MODEL_4b3d858f19b54edd9522088b4a243083",
        "IPY_MODEL_a1ebda1ab9a741c28e1ee473ef64f192"
       ],
       "layout": "IPY_MODEL_3fe91d1e2dd04108935cdf794220c5e1"
      }
     },
     "6a4157f0c1c04b64b8d9e033fafe6a98": {
      "model_module": "@jupyter-widgets/controls",
      "model_module_version": "1.4.0",
      "model_name": "GridBoxModel",
      "state": {
       "children": [
        "IPY_MODEL_829ec60609cb437fae0b0283a2a31c96",
        "IPY_MODEL_10b5e6a5191d4668bbafa215f97e1e59",
        "IPY_MODEL_e7e509eec5174b12bcec4734aee13729",
        "IPY_MODEL_31b2b0688a664dc9bd9840cca4a7a2e3"
       ],
       "layout": "IPY_MODEL_127ad87ef8d74b70a26956b7fe482f30"
      }
     },
     "6a4ea62eb0bb4597acaa27abd8c04250": {
      "model_module": "@jupyter-widgets/controls",
      "model_module_version": "1.4.0",
      "model_name": "LinkModel",
      "state": {
       "source": [
        "IPY_MODEL_762f980f76514085acce75f08dbffb92",
        "min"
       ],
       "target": [
        "IPY_MODEL_fd07cca84ee146fe87cf5e0b2b5be5a2",
        "value"
       ]
      }
     },
     "6a59c5555c244467b88fc030459fd1b9": {
      "model_module": "@jupyter-widgets/controls",
      "model_module_version": "1.4.0",
      "model_name": "FloatSliderModel",
      "state": {
       "description": "Min: ",
       "layout": "IPY_MODEL_e4ae60833eb9481aab11b17db7e4be75",
       "max": 5.8,
       "step": 0.1,
       "style": "IPY_MODEL_926b22b1fc394d45b2af574e3033c0b6",
       "value": 1
      }
     },
     "6a70e65357814e579fdf897c7149d1f5": {
      "model_module": "@jupyter-widgets/controls",
      "model_module_version": "1.4.0",
      "model_name": "SliderStyleModel",
      "state": {
       "description_width": ""
      }
     },
     "6a8e7af40fad4d059eb9b4327346934b": {
      "model_module": "@jupyter-widgets/controls",
      "model_module_version": "1.4.0",
      "model_name": "ButtonModel",
      "state": {
       "description": "Bottom right",
       "layout": "IPY_MODEL_23f4c3fff16746e183a02a0e7282a85e",
       "style": "IPY_MODEL_a843e4fa239f470582fb4989110dfcfb"
      }
     },
     "6a8f58846cfa4fa699dae23b0ca3ed6c": {
      "model_module": "@jupyter-widgets/base",
      "model_module_version": "1.1.0",
      "model_name": "LayoutModel",
      "state": {
       "grid_template_areas": "\"top-left bottom-right\"\n\"bottom-left bottom-right\"",
       "grid_template_columns": "1fr 1fr",
       "grid_template_rows": "1fr 1fr",
       "width": "auto"
      }
     },
     "6aaadcb6c6164f478241619eb5cae2fe": {
      "model_module": "@jupyter-widgets/controls",
      "model_module_version": "1.4.0",
      "model_name": "GridBoxModel",
      "state": {
       "children": [
        "IPY_MODEL_9be0cbac87c44bc1b67c384bbe7c7f5e",
        "IPY_MODEL_0b93ef9aca834a229d3c243bfbd0074c"
       ],
       "layout": "IPY_MODEL_d75d9cb6e5d34aaa83b7681def0876d3"
      }
     },
     "6b0a997d3ec442beb07888e2d2c9bfe4": {
      "model_module": "@jupyter-widgets/base",
      "model_module_version": "1.1.0",
      "model_name": "LayoutModel",
      "state": {
       "grid_template_areas": "\"top-left top-right\"\n\"bottom-left bottom-right\"",
       "grid_template_columns": "1fr 1fr",
       "grid_template_rows": "1fr 1fr",
       "width": "auto"
      }
     },
     "6b1cae079b624093befe799d7b9f0f62": {
      "model_module": "@jupyter-widgets/base",
      "model_module_version": "1.1.0",
      "model_name": "LayoutModel",
      "state": {
       "grid_area": "top-left"
      }
     },
     "6b1efa255fbd4fa49ff6130456735f6a": {
      "model_module": "@jupyter-widgets/controls",
      "model_module_version": "1.4.0",
      "model_name": "GridBoxModel",
      "state": {
       "children": [
        "IPY_MODEL_9be469e2d82d4f178a37f3a4d5ac1921",
        "IPY_MODEL_16aca47cbfb94bd89d73a1fdaf421b6c",
        "IPY_MODEL_a3e2fb61ea734ce0a0112d9ac3f54ca4",
        "IPY_MODEL_4277a99c02bf4e76b84cd869a6ffb7d3"
       ],
       "layout": "IPY_MODEL_1f3f60d4c3fe452983dc8e222f8400d6"
      }
     },
     "6b6fd12cac1b47baaa89868a1fe84bf4": {
      "model_module": "@jupyter-widgets/controls",
      "model_module_version": "1.4.0",
      "model_name": "ButtonStyleModel",
      "state": {}
     },
     "6b713753f2aa462788662582d779298a": {
      "model_module": "@jupyter-widgets/controls",
      "model_module_version": "1.4.0",
      "model_name": "SliderStyleModel",
      "state": {
       "description_width": ""
      }
     },
     "6b7a5cc47ee74f1bb11eb04db149c1ec": {
      "model_module": "@jupyter-widgets/controls",
      "model_module_version": "1.4.0",
      "model_name": "DescriptionStyleModel",
      "state": {
       "description_width": ""
      }
     },
     "6b803c963fbd432486b71ef2ee01c5b0": {
      "model_module": "@jupyter-widgets/base",
      "model_module_version": "1.1.0",
      "model_name": "LayoutModel",
      "state": {
       "grid_area": "top-left"
      }
     },
     "6b84df22f772448ca88012d2c005ead5": {
      "model_module": "@jupyter-widgets/base",
      "model_module_version": "1.1.0",
      "model_name": "LayoutModel",
      "state": {
       "grid_template_areas": "\"top-left top-left\"\n\"bottom-left bottom-left\"",
       "grid_template_columns": "1fr 1fr",
       "grid_template_rows": "1fr 1fr",
       "width": "auto"
      }
     },
     "6ba0bf186e1047b58a4ff408ba6221c1": {
      "model_module": "@jupyter-widgets/controls",
      "model_module_version": "1.4.0",
      "model_name": "GridBoxModel",
      "state": {
       "children": [
        "IPY_MODEL_5736713adb704a27a2d13a3af3b25518",
        "IPY_MODEL_5a2d2167b11c4c0d9b7daba1754e0747",
        "IPY_MODEL_fe47dddf96f34ab1b448bea3ef68896b"
       ],
       "layout": "IPY_MODEL_ddbf62c8bcb646508ccc7ec71953d978"
      }
     },
     "6bb5ad8aec8b4cc8a108b7da56c586e0": {
      "model_module": "@jupyter-widgets/controls",
      "model_module_version": "1.4.0",
      "model_name": "ButtonStyleModel",
      "state": {}
     },
     "6c02bbad7d594a0db5d5010efc8bcd41": {
      "model_module": "@jupyter-widgets/controls",
      "model_module_version": "1.4.0",
      "model_name": "ButtonModel",
      "state": {
       "layout": "IPY_MODEL_72605182fe7747a084ac00b3d2d18b7a",
       "style": "IPY_MODEL_187b509f0bc24a46b9762a6674b32edd"
      }
     },
     "6c2cc527b6b74da2acd6d31d4dae3acb": {
      "model_module": "@jupyter-widgets/controls",
      "model_module_version": "1.4.0",
      "model_name": "ButtonModel",
      "state": {
       "description": "Top left",
       "layout": "IPY_MODEL_17c81ff2aca94b88982d05a1acfc8381",
       "style": "IPY_MODEL_7912bb93e6e9441c8eee75b65d34aea1"
      }
     },
     "6c3e9629793d4c25961028eb683c2b6d": {
      "model_module": "bqplot",
      "model_module_version": "^0.4.5",
      "model_name": "BarsModel",
      "state": {
       "color": {
        "type": null,
        "values": null
       },
       "colors": [
        "steelblue"
       ],
       "display_legend": false,
       "scales": {
        "x": "IPY_MODEL_3da287ec91b241c9b838626e15e0a2e9",
        "y": "IPY_MODEL_100e72e79bce4f5791fff2635382e69d"
       },
       "selected": [],
       "x": {
        "type": "float",
        "values": [
         0,
         1,
         2,
         3,
         4,
         5,
         6,
         7,
         8,
         9
        ]
       },
       "y": {
        "type": "float",
        "values": [
         0.6288984390617004,
         0.3984342586196771,
         0.0627129520233457,
         0.42403225188984195,
         0.2586840668894077,
         0.8490383084285108,
         0.03330462654669619,
         0.9589827218634736,
         0.3553688484719296,
         0.3567068904025429
        ]
       }
      }
     },
     "6c67b365002e473b8b2cfb97e380300f": {
      "model_module": "@jupyter-widgets/base",
      "model_module_version": "1.1.0",
      "model_name": "LayoutModel",
      "state": {}
     },
     "6caca7fc479646608b555794f5cd1f74": {
      "model_module": "@jupyter-widgets/base",
      "model_module_version": "1.1.0",
      "model_name": "LayoutModel",
      "state": {
       "grid_template_areas": "\"top-left bottom-right\"\n\"bottom-left bottom-right\"",
       "grid_template_columns": "1fr 1fr",
       "grid_template_rows": "1fr 1fr",
       "width": "auto"
      }
     },
     "6cadbc3ed23441c6937e4a10c5a37d2c": {
      "model_module": "@jupyter-widgets/controls",
      "model_module_version": "1.4.0",
      "model_name": "ButtonModel",
      "state": {
       "description": "Top left",
       "layout": "IPY_MODEL_8525e808ca194753991d909489ca67c0",
       "style": "IPY_MODEL_e25347d09fda4940bb4f01a049eab842"
      }
     },
     "6cae1e86eab5481bb2d24ef1f24c2692": {
      "model_module": "@jupyter-widgets/controls",
      "model_module_version": "1.4.0",
      "model_name": "ButtonStyleModel",
      "state": {}
     },
     "6ccc23ed2ddd4fc391fa355330477ef7": {
      "model_module": "@jupyter-widgets/base",
      "model_module_version": "1.1.0",
      "model_name": "LayoutModel",
      "state": {
       "grid_area": "bottom-right",
       "height": "100%"
      }
     },
     "6cd2bf7eb9844f428c39f48eb079d333": {
      "model_module": "bqplot",
      "model_module_version": "^0.4.5",
      "model_name": "LinearScaleModel",
      "state": {
       "max": 1,
       "stabilized": false
      }
     },
     "6cd4f3aef6574f33865f98bedc4eec74": {
      "model_module": "@jupyter-widgets/base",
      "model_module_version": "1.1.0",
      "model_name": "LayoutModel",
      "state": {
       "grid_template_areas": "\"top-left top-right\"\n\"bottom-left bottom-right\"",
       "grid_template_columns": "1fr 1fr",
       "grid_template_rows": "1fr 1fr",
       "width": "auto"
      }
     },
     "6d1b58710c70448d943d5c17444d4d39": {
      "model_module": "@jupyter-widgets/base",
      "model_module_version": "1.1.0",
      "model_name": "LayoutModel",
      "state": {
       "grid_area": "bottom-left"
      }
     },
     "6d3e6c19d51d41c0818b1c4751e29073": {
      "model_module": "@jupyter-widgets/controls",
      "model_module_version": "1.4.0",
      "model_name": "ButtonModel",
      "state": {
       "description": "Bottom right",
       "layout": "IPY_MODEL_f0d7eab97a1e412081c57207abfa66bc",
       "style": "IPY_MODEL_6060becdd96843f88b8b357a68a104f0"
      }
     },
     "6d4d8661c78f4541bdaa4f519cf8408e": {
      "model_module": "@jupyter-widgets/controls",
      "model_module_version": "1.4.0",
      "model_name": "ButtonModel",
      "state": {
       "description": "Top left",
       "layout": "IPY_MODEL_2d054097cff8479ba4345e7348fc5bb9",
       "style": "IPY_MODEL_5ab2b8928cf7437da25310ec789fc584"
      }
     },
     "6d76c3a7d3b240c687e6568736b90359": {
      "model_module": "@jupyter-widgets/controls",
      "model_module_version": "1.4.0",
      "model_name": "ButtonStyleModel",
      "state": {}
     },
     "6d81e0c51fe5405ca350bb11ac98975b": {
      "model_module": "@jupyter-widgets/controls",
      "model_module_version": "1.4.0",
      "model_name": "ButtonModel",
      "state": {
       "description": "Bottom left",
       "layout": "IPY_MODEL_553173a9c5bd4fb7b8445bf9c05f1fc3",
       "style": "IPY_MODEL_1ef0958a53a84790b8906f0b46f03954"
      }
     },
     "6db55cfb7d894364b019f13cf89320a4": {
      "model_module": "@jupyter-widgets/controls",
      "model_module_version": "1.4.0",
      "model_name": "FloatSliderModel",
      "state": {
       "layout": "IPY_MODEL_2dafce3e4fab48bd834b216cb483e9e1",
       "max": 1,
       "step": 0.1,
       "style": "IPY_MODEL_cb4c6ab7f8034ff78bbb994e2c17db48"
      }
     },
     "6dee9411a33b40dda42a68ab4e116d95": {
      "model_module": "@jupyter-widgets/base",
      "model_module_version": "1.1.0",
      "model_name": "LayoutModel",
      "state": {
       "grid_area": "top-left"
      }
     },
     "6e18c32c535f4dcbb5bdc381a741437d": {
      "model_module": "@jupyter-widgets/controls",
      "model_module_version": "1.4.0",
      "model_name": "IntSliderModel",
      "state": {
       "layout": "IPY_MODEL_9a6fca215288441c896d4b9854c85563",
       "style": "IPY_MODEL_273fab03cb6b4c7c8023c5339cd9d4d4",
       "value": 25
      }
     },
     "6e496ba9abd5435b9cb09a302febffb8": {
      "model_module": "@jupyter-widgets/base",
      "model_module_version": "1.1.0",
      "model_name": "LayoutModel",
      "state": {
       "grid_area": "bottom-right"
      }
     },
     "6e6399027e3e435e9dde2430a53273da": {
      "model_module": "@jupyter-widgets/base",
      "model_module_version": "1.1.0",
      "model_name": "LayoutModel",
      "state": {
       "grid_area": "bottom-left"
      }
     },
     "6e736fa108224cc092a062bfc5eb223d": {
      "model_module": "@jupyter-widgets/controls",
      "model_module_version": "1.4.0",
      "model_name": "ButtonStyleModel",
      "state": {}
     },
     "6e75f3c250b74904a7b2761e466af520": {
      "model_module": "bqplot",
      "model_module_version": "^0.4.5",
      "model_name": "LinearScaleModel",
      "state": {
       "max": 1,
       "min": 0,
       "stabilized": false
      }
     },
     "6e7e3b92965846e986c4ef0caa008343": {
      "model_module": "@jupyter-widgets/controls",
      "model_module_version": "1.4.0",
      "model_name": "ButtonModel",
      "state": {
       "description": "Top right",
       "layout": "IPY_MODEL_3bc264c3f4714307a23952660baf0d2c",
       "style": "IPY_MODEL_fb03caf0a17b46ad96453a8d499fd596"
      }
     },
     "6e845b39f3064745ba1b551eec195446": {
      "model_module": "@jupyter-widgets/controls",
      "model_module_version": "1.4.0",
      "model_name": "ButtonStyleModel",
      "state": {}
     },
     "6e8d5dfa89174dd5808ae8c7ac45fe9b": {
      "model_module": "@jupyter-widgets/controls",
      "model_module_version": "1.4.0",
      "model_name": "ButtonStyleModel",
      "state": {}
     },
     "6eaf810764fa4142996895143a5073ee": {
      "model_module": "@jupyter-widgets/base",
      "model_module_version": "1.1.0",
      "model_name": "LayoutModel",
      "state": {
       "grid_area": "bottom-left"
      }
     },
     "6eb54d488dd7439bb1c1c1b421c82905": {
      "model_module": "@jupyter-widgets/base",
      "model_module_version": "1.1.0",
      "model_name": "LayoutModel",
      "state": {
       "align_items": "center",
       "grid_template_areas": "\"top-left bottom-right\"\n\"bottom-left bottom-right\"",
       "grid_template_columns": "1fr 1fr",
       "grid_template_rows": "1fr 1fr",
       "height": "200px",
       "width": "80%"
      }
     },
     "6ec5901eead24a61b8822983767627cf": {
      "model_module": "@jupyter-widgets/base",
      "model_module_version": "1.1.0",
      "model_name": "LayoutModel",
      "state": {
       "grid_area": "top-left"
      }
     },
     "6ecb3fb8c5134d388db4f76ddbd6cde5": {
      "model_module": "@jupyter-widgets/controls",
      "model_module_version": "1.4.0",
      "model_name": "GridBoxModel",
      "state": {
       "children": [
        "IPY_MODEL_809262cedbc140a8bd6fa57b1b37b43b",
        "IPY_MODEL_108e1c98423043958c7ff2dcd0011420",
        "IPY_MODEL_58e873a768c04f9ea955e7e5ad14c624"
       ],
       "layout": "IPY_MODEL_3519d7a29b3d4cc4a6003cba34b6d9ee"
      }
     },
     "6ee1049a3a8e4748bb4d4f9063d33b2d": {
      "model_module": "@jupyter-widgets/base",
      "model_module_version": "1.1.0",
      "model_name": "LayoutModel",
      "state": {
       "grid_template_areas": "\"top-left top-right\"\n\"bottom-left bottom-right\"",
       "grid_template_columns": "1fr 1fr",
       "grid_template_rows": "1fr 1fr",
       "width": "auto"
      }
     },
     "6eea436707e34335baae9039507c5caf": {
      "model_module": "@jupyter-widgets/controls",
      "model_module_version": "1.4.0",
      "model_name": "SliderStyleModel",
      "state": {
       "description_width": ""
      }
     },
     "6f6a308a3f174607a1d526d012cb11a6": {
      "model_module": "bqplot",
      "model_module_version": "^0.4.5",
      "model_name": "FigureModel",
      "state": {
       "_dom_classes": [],
       "axes": [
        "IPY_MODEL_e7f7a61241c34c779a04148f5eb52f7e",
        "IPY_MODEL_3418ed073c79437c803fcad8f6d534de"
       ],
       "layout": "IPY_MODEL_ef49dcd4d7a84662946455a366ad37c3",
       "marks": [
        "IPY_MODEL_0b73f84aef3c45abb4262ffdd0d83a09"
       ],
       "padding_x": 0.025,
       "scale_x": "IPY_MODEL_01bf147eb1004d65b0b83f14252ba339",
       "scale_y": "IPY_MODEL_0dd925e24d174fb2bb62320c82a7a2d8"
      }
     },
     "6f7033b049a34d7d85d937d5fbaaa91c": {
      "model_module": "@jupyter-widgets/controls",
      "model_module_version": "1.4.0",
      "model_name": "LinkModel",
      "state": {
       "source": [
        "IPY_MODEL_613a10628bc64d16840f9dde5959f74b",
        "max"
       ],
       "target": [
        "IPY_MODEL_7435944f0838464f9c7be602d27302ec",
        "value"
       ]
      }
     },
     "6f857289906846aeaeb21dec09e53137": {
      "model_module": "@jupyter-widgets/base",
      "model_module_version": "1.1.0",
      "model_name": "LayoutModel",
      "state": {
       "grid_area": "bottom-right"
      }
     },
     "6f8925043088412a90c228b480828e42": {
      "model_module": "@jupyter-widgets/controls",
      "model_module_version": "1.4.0",
      "model_name": "ButtonStyleModel",
      "state": {}
     },
     "70588d314db841daabe91518cdbb8be5": {
      "model_module": "@jupyter-widgets/controls",
      "model_module_version": "1.4.0",
      "model_name": "ButtonStyleModel",
      "state": {}
     },
     "7075c026a1914bf38079f84febdfbbc2": {
      "model_module": "@jupyter-widgets/controls",
      "model_module_version": "1.4.0",
      "model_name": "SliderStyleModel",
      "state": {
       "description_width": ""
      }
     },
     "70b0068579dc47488ef468e23298a7ba": {
      "model_module": "@jupyter-widgets/base",
      "model_module_version": "1.1.0",
      "model_name": "LayoutModel",
      "state": {
       "grid_template_areas": "\"top-left bottom-right\"\n\"bottom-left bottom-right\"",
       "grid_template_columns": "1fr 1fr",
       "grid_template_rows": "1fr 1fr",
       "width": "auto"
      }
     },
     "70f72ba874704d11b1f6aa6417b44143": {
      "model_module": "@jupyter-widgets/controls",
      "model_module_version": "1.4.0",
      "model_name": "ButtonStyleModel",
      "state": {}
     },
     "70fd16dd4033430196af6fd8d7fa73a2": {
      "model_module": "@jupyter-widgets/base",
      "model_module_version": "1.1.0",
      "model_name": "LayoutModel",
      "state": {
       "grid_area": "bottom-left"
      }
     },
     "7128ad59571f4448a9b0611390f44b8b": {
      "model_module": "@jupyter-widgets/base",
      "model_module_version": "1.1.0",
      "model_name": "LayoutModel",
      "state": {
       "grid_area": "bottom-left"
      }
     },
     "713e18febce94d67ab0e592222952430": {
      "model_module": "@jupyter-widgets/base",
      "model_module_version": "1.1.0",
      "model_name": "LayoutModel",
      "state": {
       "grid_area": "bottom-right"
      }
     },
     "718f973f818c410c8578423c4968d7ac": {
      "model_module": "@jupyter-widgets/base",
      "model_module_version": "1.1.0",
      "model_name": "LayoutModel",
      "state": {
       "grid_template_areas": "\"top-left top-right\"\n\"bottom-left top-right\"",
       "grid_template_columns": "1fr 1fr",
       "grid_template_rows": "1fr 1fr",
       "width": "auto"
      }
     },
     "71bcd1ad7d2a42fa8b25bba3777b672e": {
      "model_module": "@jupyter-widgets/controls",
      "model_module_version": "1.4.0",
      "model_name": "SliderStyleModel",
      "state": {
       "description_width": ""
      }
     },
     "71bd13bdc29446afbcebb69f0907605f": {
      "model_module": "@jupyter-widgets/controls",
      "model_module_version": "1.4.0",
      "model_name": "ButtonModel",
      "state": {
       "description": "Top right",
       "layout": "IPY_MODEL_ca4064fd2c8a42b688502d49e764eec0",
       "style": "IPY_MODEL_354c9bf240c54ca4bc4988b63cfaaf60"
      }
     },
     "71c21fddf7ce45849091a79c07eb82bb": {
      "model_module": "@jupyter-widgets/controls",
      "model_module_version": "1.4.0",
      "model_name": "LinkModel",
      "state": {
       "source": [
        "IPY_MODEL_30c5f3aee10d4a37affcb0f481f803a3",
        "max"
       ],
       "target": [
        "IPY_MODEL_7d98cac770e94fa7940e1eba0aac1c85",
        "value"
       ]
      }
     },
     "71c6120209564a24bf35a7779cb60cff": {
      "model_module": "@jupyter-widgets/base",
      "model_module_version": "1.1.0",
      "model_name": "LayoutModel",
      "state": {
       "grid_template_areas": "\"top-left top-right\"\n\"bottom-left bottom-right\"",
       "grid_template_columns": "1fr 1fr",
       "grid_template_rows": "1fr 1fr",
       "width": "auto"
      }
     },
     "71e312bea7a44029b813ac9566db944c": {
      "model_module": "@jupyter-widgets/base",
      "model_module_version": "1.1.0",
      "model_name": "LayoutModel",
      "state": {
       "grid_area": "bottom-left",
       "height": "20px",
       "width": "200px"
      }
     },
     "7203739a72a147e79ae7b39cddcbae13": {
      "model_module": "@jupyter-widgets/controls",
      "model_module_version": "1.4.0",
      "model_name": "GridBoxModel",
      "state": {
       "children": [
        "IPY_MODEL_4fbe1a45d47542debf3f351097052bdb",
        "IPY_MODEL_7514dc1c83b74795b2463420255fcd3a",
        "IPY_MODEL_89e8dc3e4f7d403e89100df1b028a199"
       ],
       "layout": "IPY_MODEL_e6461731092a44e99185ac9ad62f18b1"
      }
     },
     "7213f847a18441baa75bda20ae7d3046": {
      "model_module": "@jupyter-widgets/base",
      "model_module_version": "1.1.0",
      "model_name": "LayoutModel",
      "state": {
       "grid_area": "bottom-left"
      }
     },
     "721d43fa6cb949528f8b16137781393c": {
      "model_module": "@jupyter-widgets/controls",
      "model_module_version": "1.4.0",
      "model_name": "ButtonStyleModel",
      "state": {}
     },
     "722811cea0424312a4b67c202b1a4763": {
      "model_module": "@jupyter-widgets/controls",
      "model_module_version": "1.4.0",
      "model_name": "SliderStyleModel",
      "state": {
       "description_width": ""
      }
     },
     "725bddf28b2b471ea049a33554ebe884": {
      "model_module": "bqplot",
      "model_module_version": "^0.4.5",
      "model_name": "BarsModel",
      "state": {
       "color": {
        "type": null,
        "values": null
       },
       "colors": [
        "steelblue"
       ],
       "display_legend": false,
       "scales": {
        "x": "IPY_MODEL_72f62edd42ed4e1ca921a0c2e3ab89c8",
        "y": "IPY_MODEL_352ed5678f7141dea76b5ffdec8e8813"
       },
       "selected": [],
       "x": {
        "type": "float",
        "values": [
         0,
         1,
         2,
         3,
         4,
         5,
         6,
         7,
         8,
         9
        ]
       },
       "y": {
        "type": "float",
        "values": [
         0.6288984390617004,
         0.3984342586196771,
         0.0627129520233457,
         0.42403225188984195,
         0.2586840668894077,
         0.8490383084285108,
         0.03330462654669619,
         0.9589827218634736,
         0.3553688484719296,
         0.3567068904025429
        ]
       }
      }
     },
     "72605182fe7747a084ac00b3d2d18b7a": {
      "model_module": "@jupyter-widgets/base",
      "model_module_version": "1.1.0",
      "model_name": "LayoutModel",
      "state": {}
     },
     "7269ceae7e9647f2840c4d7e2889818d": {
      "model_module": "@jupyter-widgets/base",
      "model_module_version": "1.1.0",
      "model_name": "LayoutModel",
      "state": {
       "grid_area": "bottom-left"
      }
     },
     "72710c48c52046cdbcefe79aa03a8523": {
      "model_module": "@jupyter-widgets/base",
      "model_module_version": "1.1.0",
      "model_name": "LayoutModel",
      "state": {
       "grid_area": "top-right"
      }
     },
     "727143b57a574d88b9baf0f63882eb77": {
      "model_module": "@jupyter-widgets/controls",
      "model_module_version": "1.4.0",
      "model_name": "ButtonModel",
      "state": {
       "description": "Bottom left",
       "layout": "IPY_MODEL_9a164412db2742b39dae47681b5a951f",
       "style": "IPY_MODEL_a3a722c53c364684a25bc4bfb8cb5fac"
      }
     },
     "72ace85268464596b43318e8ff67a4c8": {
      "model_module": "@jupyter-widgets/base",
      "model_module_version": "1.1.0",
      "model_name": "LayoutModel",
      "state": {
       "grid_template_areas": "\"top-left top-right\"\n\"bottom-left bottom-right\"",
       "grid_template_columns": "1fr 1fr",
       "grid_template_rows": "1fr 1fr"
      }
     },
     "72b53a38c71f4eadbb374ff207472c41": {
      "model_module": "@jupyter-widgets/base",
      "model_module_version": "1.1.0",
      "model_name": "LayoutModel",
      "state": {
       "align_items": "center",
       "grid_template_areas": "\"top-left bottom-right\"\n\"bottom-left bottom-right\"",
       "grid_template_columns": "1fr 1fr",
       "grid_template_rows": "1fr 1fr",
       "height": "200px",
       "width": "80%"
      }
     },
     "72f62edd42ed4e1ca921a0c2e3ab89c8": {
      "model_module": "bqplot",
      "model_module_version": "^0.4.5",
      "model_name": "OrdinalScaleModel",
      "state": {
       "domain": []
      }
     },
     "731f2cad9b2141a095fc9aa487b5123b": {
      "model_module": "@jupyter-widgets/controls",
      "model_module_version": "1.4.0",
      "model_name": "ButtonModel",
      "state": {
       "description": "Bottom left",
       "layout": "IPY_MODEL_1a99be23e42149ca952353237547a76d",
       "style": "IPY_MODEL_a12bd02e3a604ed9b92188ecca222b1d"
      }
     },
     "73473e7fc5424ca2a6df7cc4e24bf546": {
      "model_module": "@jupyter-widgets/base",
      "model_module_version": "1.1.0",
      "model_name": "LayoutModel",
      "state": {
       "align_items": "center",
       "grid_template_areas": "\"top-left bottom-right\"\n\"bottom-left bottom-right\"",
       "grid_template_columns": "1fr 1fr",
       "grid_template_rows": "1fr 1fr",
       "height": "300px",
       "width": "80%"
      }
     },
     "73922513e59a486f8186d021e72d0e1f": {
      "model_module": "@jupyter-widgets/base",
      "model_module_version": "1.1.0",
      "model_name": "LayoutModel",
      "state": {
       "grid_area": "top-left"
      }
     },
     "73a8a1c57bb445ef9df43a470638c8a7": {
      "model_module": "@jupyter-widgets/controls",
      "model_module_version": "1.4.0",
      "model_name": "DescriptionStyleModel",
      "state": {
       "description_width": ""
      }
     },
     "73b05fbe8daa40e199bec64b11296506": {
      "model_module": "@jupyter-widgets/base",
      "model_module_version": "1.1.0",
      "model_name": "LayoutModel",
      "state": {
       "grid_area": "bottom-left"
      }
     },
     "73e3221482df4c6ea5280d7e6a935c63": {
      "model_module": "@jupyter-widgets/controls",
      "model_module_version": "1.4.0",
      "model_name": "IntTextModel",
      "state": {
       "layout": "IPY_MODEL_078b3eeba3674cddb26176d12952be59",
       "step": 1,
       "style": "IPY_MODEL_601458b674184a61b6507e77a1cd0225"
      }
     },
     "7406a2fbe5c449798640e040696b540a": {
      "model_module": "@jupyter-widgets/controls",
      "model_module_version": "1.4.0",
      "model_name": "ButtonStyleModel",
      "state": {}
     },
     "741d8dd4bdff45059bc80a6b9e79ff64": {
      "model_module": "@jupyter-widgets/base",
      "model_module_version": "1.1.0",
      "model_name": "LayoutModel",
      "state": {
       "grid_area": "bottom-right"
      }
     },
     "7435944f0838464f9c7be602d27302ec": {
      "model_module": "@jupyter-widgets/controls",
      "model_module_version": "1.4.0",
      "model_name": "FloatSliderModel",
      "state": {
       "description": "Max: ",
       "layout": "IPY_MODEL_33b422fd9df64e9290361e73285a6d16",
       "max": 10,
       "min": 1,
       "step": 0.1,
       "style": "IPY_MODEL_260a7ba7e4054a0bb83ba7c37761a28a",
       "value": 10
      }
     },
     "74431881588f45948158012ae5a92879": {
      "model_module": "@jupyter-widgets/base",
      "model_module_version": "1.1.0",
      "model_name": "LayoutModel",
      "state": {
       "grid_template_areas": "\"top-left top-right\"\n\"bottom-left bottom-right\"",
       "grid_template_columns": "1fr 1fr",
       "grid_template_rows": "1fr 1fr"
      }
     },
     "7482982315b7464b92eaf50dbd06e245": {
      "model_module": "@jupyter-widgets/controls",
      "model_module_version": "1.4.0",
      "model_name": "GridBoxModel",
      "state": {
       "children": [
        "IPY_MODEL_bea03538a7c8474e82273918f3abe2a7",
        "IPY_MODEL_89425658b7c84114b02ea3b508a71b5e",
        "IPY_MODEL_bcfbc0b2a16841188714b78cb50adcfe"
       ],
       "layout": "IPY_MODEL_b8894a73153d4977bbfe9e2887084c77"
      }
     },
     "74b5531bba544c5bace4aa4700b496fa": {
      "model_module": "@jupyter-widgets/base",
      "model_module_version": "1.1.0",
      "model_name": "LayoutModel",
      "state": {
       "grid_area": "bottom-left",
       "width": "200px"
      }
     },
     "74c3b904dbb540e499efed01fba89455": {
      "model_module": "@jupyter-widgets/base",
      "model_module_version": "1.1.0",
      "model_name": "LayoutModel",
      "state": {
       "grid_area": "bottom-right"
      }
     },
     "74c61cb88cea448f9af2c009463940bb": {
      "model_module": "@jupyter-widgets/controls",
      "model_module_version": "1.4.0",
      "model_name": "ButtonModel",
      "state": {
       "description": "Top left",
       "layout": "IPY_MODEL_67249cc8814946ea95632699ea814d19",
       "style": "IPY_MODEL_f88b50ac1eab49c3bac3b556ecf18a24"
      }
     },
     "750aa27a936e48628b9653bfb01f86df": {
      "model_module": "@jupyter-widgets/base",
      "model_module_version": "1.1.0",
      "model_name": "LayoutModel",
      "state": {
       "grid_area": "bottom-right",
       "height": "200px",
       "width": "auto"
      }
     },
     "750adc3de4564888a5eeee1aff47f592": {
      "model_module": "bqplot",
      "model_module_version": "^0.4.5",
      "model_name": "LinearScaleModel",
      "state": {
       "max": 1,
       "min": 0.3,
       "stabilized": false
      }
     },
     "7514dc1c83b74795b2463420255fcd3a": {
      "model_module": "@jupyter-widgets/controls",
      "model_module_version": "1.4.0",
      "model_name": "ButtonModel",
      "state": {
       "description": "Bottom left",
       "layout": "IPY_MODEL_2a3b33aa4e0c4fe0b7d2193c6710889b",
       "style": "IPY_MODEL_b31f67c720e9432da55ffc098cbd031b"
      }
     },
     "751efd8da8fb4ba696b319dfad80b77a": {
      "model_module": "@jupyter-widgets/controls",
      "model_module_version": "1.4.0",
      "model_name": "ButtonModel",
      "state": {
       "description": "Top right",
       "layout": "IPY_MODEL_eebb6621f6e340faa7a597007bee5f85",
       "style": "IPY_MODEL_75aed7044f6041b1869bd4166cc38dc8"
      }
     },
     "75287f6f178e4cd293de35bb1dc996b7": {
      "model_module": "bqplot",
      "model_module_version": "^0.4.5",
      "model_name": "AxisModel",
      "state": {
       "orientation": "vertical",
       "scale": "IPY_MODEL_d0e4e017d4544e87897d5c64976007d7",
       "side": "left",
       "tick_format": "0.2f",
       "tick_values": {
        "type": null,
        "values": null
       }
      }
     },
     "753156c0487c4aadadcc5d368dd9dfec": {
      "model_module": "@jupyter-widgets/controls",
      "model_module_version": "1.4.0",
      "model_name": "ButtonStyleModel",
      "state": {}
     },
     "7535ec87911f46b181df827599189b5f": {
      "model_module": "@jupyter-widgets/controls",
      "model_module_version": "1.4.0",
      "model_name": "GridBoxModel",
      "state": {
       "children": [
        "IPY_MODEL_6cadbc3ed23441c6937e4a10c5a37d2c",
        "IPY_MODEL_20cfe5ded8884297a5b307845a061c63",
        "IPY_MODEL_1698f63d81874979b12e02bfec0cd3bd"
       ],
       "layout": "IPY_MODEL_51dcf59d876645c79cfab8f04e68bda0"
      }
     },
     "754736fca3f04657b27c41d7adf4e554": {
      "model_module": "bqplot",
      "model_module_version": "^0.4.5",
      "model_name": "AxisModel",
      "state": {
       "scale": "IPY_MODEL_2a0de0defbf540c39e8b136f8894d6ba",
       "side": "bottom",
       "tick_values": {
        "type": null,
        "values": null
       }
      }
     },
     "7556e2614c6b4f1697280f977e36dc54": {
      "model_module": "@jupyter-widgets/base",
      "model_module_version": "1.1.0",
      "model_name": "LayoutModel",
      "state": {
       "grid_area": "top-right"
      }
     },
     "7594bded268e434fa23ee2d0e7f5ee44": {
      "model_module": "@jupyter-widgets/base",
      "model_module_version": "1.1.0",
      "model_name": "LayoutModel",
      "state": {
       "grid_area": "top-left"
      }
     },
     "75ab07202d2b4b14898f1a681a8fcd9b": {
      "model_module": "@jupyter-widgets/controls",
      "model_module_version": "1.4.0",
      "model_name": "ButtonStyleModel",
      "state": {}
     },
     "75aed7044f6041b1869bd4166cc38dc8": {
      "model_module": "@jupyter-widgets/controls",
      "model_module_version": "1.4.0",
      "model_name": "ButtonStyleModel",
      "state": {}
     },
     "75b4378caf74444bb241883c10e683f7": {
      "model_module": "@jupyter-widgets/base",
      "model_module_version": "1.1.0",
      "model_name": "LayoutModel",
      "state": {
       "grid_area": "bottom-left"
      }
     },
     "75b6e442c7694956abe0032c9c067428": {
      "model_module": "@jupyter-widgets/base",
      "model_module_version": "1.1.0",
      "model_name": "LayoutModel",
      "state": {
       "grid_area": "top-left",
       "height": "20px",
       "width": "300px"
      }
     },
     "75f956423b9b4a9ca3ff8504fe24d0bf": {
      "model_module": "@jupyter-widgets/base",
      "model_module_version": "1.1.0",
      "model_name": "LayoutModel",
      "state": {
       "grid_area": "top-right"
      }
     },
     "7611a1a5d8764b4fb03d0be73c4df099": {
      "model_module": "@jupyter-widgets/controls",
      "model_module_version": "1.4.0",
      "model_name": "FloatSliderModel",
      "state": {
       "layout": "IPY_MODEL_8dc48568bde64683bcdcbce4a88e7a0d",
       "max": 1,
       "step": 0.1,
       "style": "IPY_MODEL_7839d61c0e6b44ecb0adea932deda29c"
      }
     },
     "761f7a4a589c4ca69f43d05a7c8708df": {
      "model_module": "@jupyter-widgets/controls",
      "model_module_version": "1.4.0",
      "model_name": "SliderStyleModel",
      "state": {
       "description_width": ""
      }
     },
     "762f980f76514085acce75f08dbffb92": {
      "model_module": "bqplot",
      "model_module_version": "^0.4.5",
      "model_name": "LinearScaleModel",
      "state": {
       "max": 2.8,
       "min": 0,
       "stabilized": false
      }
     },
     "76306c645be346638dfaedcd2d997486": {
      "model_module": "@jupyter-widgets/controls",
      "model_module_version": "1.4.0",
      "model_name": "SliderStyleModel",
      "state": {
       "description_width": ""
      }
     },
     "7631fd3f0ef341098108d87a4d6c9310": {
      "model_module": "@jupyter-widgets/controls",
      "model_module_version": "1.4.0",
      "model_name": "SliderStyleModel",
      "state": {
       "description_width": ""
      }
     },
     "76770b75db7948cc8e29182e681073c2": {
      "model_module": "@jupyter-widgets/base",
      "model_module_version": "1.1.0",
      "model_name": "LayoutModel",
      "state": {
       "grid_area": "bottom-left"
      }
     },
     "769c3fecceeb40ee86c59076c7bac44f": {
      "model_module": "@jupyter-widgets/base",
      "model_module_version": "1.1.0",
      "model_name": "LayoutModel",
      "state": {
       "grid_area": "bottom-left"
      }
     },
     "76b5721fa24a408fa6cbc48cd9755be5": {
      "model_module": "@jupyter-widgets/controls",
      "model_module_version": "1.4.0",
      "model_name": "SliderStyleModel",
      "state": {
       "description_width": ""
      }
     },
     "76b8fa33bcdc4b71a94717c62f999eba": {
      "model_module": "@jupyter-widgets/controls",
      "model_module_version": "1.4.0",
      "model_name": "GridBoxModel",
      "state": {
       "children": [
        "IPY_MODEL_e7033bd0885f42f38590c67321b8b5de",
        "IPY_MODEL_dca08d44d4e04572b6361bcba5d1aa92",
        "IPY_MODEL_d72115bc0ca7443f97eb3619aa6daf7a"
       ],
       "layout": "IPY_MODEL_e64bb79e6bc34274bec074312eb7be29"
      }
     },
     "76c1020867d84270b91b4d460a8a3c2f": {
      "model_module": "@jupyter-widgets/controls",
      "model_module_version": "1.4.0",
      "model_name": "LinkModel",
      "state": {
       "source": [
        "IPY_MODEL_08bb601521da486c9a9820ce46ec8918",
        "value"
       ],
       "target": [
        "IPY_MODEL_775f58a2afe147bb84ea59d9054adfbc",
        "value"
       ]
      }
     },
     "76c948c79cd540b69a71f54f73d275a7": {
      "model_module": "@jupyter-widgets/controls",
      "model_module_version": "1.4.0",
      "model_name": "LinkModel",
      "state": {
       "source": [
        "IPY_MODEL_dfb369af7539448ba5d145fa44e9755d",
        "value"
       ],
       "target": [
        "IPY_MODEL_fcd4dbd65e1d4bd7adce0435f209019d",
        "value"
       ]
      }
     },
     "76ca884c37dd483fa8026644d23c7baf": {
      "model_module": "@jupyter-widgets/controls",
      "model_module_version": "1.4.0",
      "model_name": "ButtonStyleModel",
      "state": {}
     },
     "76d2636c07ef4948bd477fce135ff62b": {
      "model_module": "@jupyter-widgets/controls",
      "model_module_version": "1.4.0",
      "model_name": "GridBoxModel",
      "state": {
       "children": [
        "IPY_MODEL_2f6a59a8607a485e98292d16aee064fc",
        "IPY_MODEL_5927a08193b74365b7ed635f76dee612",
        "IPY_MODEL_b52b4a9a1ff14c5aa7890ab1664e9e42",
        "IPY_MODEL_e294f801781944369996bc4072dc1b97"
       ],
       "layout": "IPY_MODEL_d2e96043d7184e6db6c95ebea689356a"
      }
     },
     "771af2dcbd6644e9bb1ffc648c5ea06c": {
      "model_module": "@jupyter-widgets/controls",
      "model_module_version": "1.4.0",
      "model_name": "ButtonModel",
      "state": {
       "description": "Bottom right",
       "layout": "IPY_MODEL_4ab6ffeef9ca4f91a0d19e1781f88854",
       "style": "IPY_MODEL_068f7f2074df475fbe48f4286b6a5c2c"
      }
     },
     "772986c112d1415695061cb490707327": {
      "model_module": "@jupyter-widgets/base",
      "model_module_version": "1.1.0",
      "model_name": "LayoutModel",
      "state": {
       "grid_area": "bottom-left"
      }
     },
     "7738dd63499e448dbad695f51d2da34a": {
      "model_module": "@jupyter-widgets/base",
      "model_module_version": "1.1.0",
      "model_name": "LayoutModel",
      "state": {
       "grid_template_areas": "\"top-left bottom-right\"\n\"bottom-left bottom-right\"",
       "grid_template_columns": "1fr 1fr",
       "grid_template_rows": "1fr 1fr",
       "width": "auto"
      }
     },
     "7741d0dd0c134bbab9223d917921c474": {
      "model_module": "bqplot",
      "model_module_version": "^0.4.5",
      "model_name": "BarsModel",
      "state": {
       "color": {
        "type": null,
        "values": null
       },
       "colors": [
        "steelblue"
       ],
       "display_legend": false,
       "scales": {
        "x": "IPY_MODEL_a191ff141a594fe0b562b1097c2cd2ea",
        "y": "IPY_MODEL_095910139dad4f27b4f76d9637d0dcb5"
       },
       "selected": [],
       "x": {
        "type": "float",
        "values": [
         0,
         1,
         2,
         3,
         4,
         5,
         6,
         7,
         8,
         9
        ]
       },
       "y": {
        "type": "float",
        "values": [
         0.6288984390617004,
         0.3984342586196771,
         0.0627129520233457,
         0.42403225188984195,
         0.2586840668894077,
         0.8490383084285108,
         0.03330462654669619,
         0.9589827218634736,
         0.3553688484719296,
         0.3567068904025429
        ]
       }
      }
     },
     "775f58a2afe147bb84ea59d9054adfbc": {
      "model_module": "@jupyter-widgets/controls",
      "model_module_version": "1.4.0",
      "model_name": "IntSliderModel",
      "state": {
       "layout": "IPY_MODEL_8348b4061c424252a4cfec44fba49297",
       "style": "IPY_MODEL_5b27e8da60054cf881860d5890872a1f",
       "value": 66
      }
     },
     "778127c1c7eb456eafdffb0a483d6e2c": {
      "model_module": "@jupyter-widgets/base",
      "model_module_version": "1.1.0",
      "model_name": "LayoutModel",
      "state": {
       "grid_template_areas": "\"top-left top-right\"\n\"bottom-left bottom-right\"",
       "grid_template_columns": "1fr 1fr",
       "grid_template_rows": "1fr 1fr",
       "width": "auto"
      }
     },
     "77a92b0f6acf4ba4b5a40798d0c46f96": {
      "model_module": "@jupyter-widgets/base",
      "model_module_version": "1.1.0",
      "model_name": "LayoutModel",
      "state": {
       "grid_area": "top-left"
      }
     },
     "77c14422ea6b46c8b7a545113d34f369": {
      "model_module": "@jupyter-widgets/base",
      "model_module_version": "1.1.0",
      "model_name": "LayoutModel",
      "state": {
       "grid_template_areas": "\"top-left bottom-right\"\n\"bottom-left bottom-right\"",
       "grid_template_columns": "1fr 1fr",
       "grid_template_rows": "1fr 1fr",
       "width": "auto"
      }
     },
     "77e26fafd9614ae890e77eb926e2f662": {
      "model_module": "@jupyter-widgets/controls",
      "model_module_version": "1.4.0",
      "model_name": "ButtonModel",
      "state": {
       "description": "Bottom left",
       "layout": "IPY_MODEL_e1aeb4b94ddb435fbcd62bc46ba7dd3d",
       "style": "IPY_MODEL_9b1907e439664d959fdccfb85af23189"
      }
     },
     "780b3c06ac3f44228714779df886882c": {
      "model_module": "@jupyter-widgets/controls",
      "model_module_version": "1.4.0",
      "model_name": "ButtonModel",
      "state": {
       "description": "Bottom right",
       "layout": "IPY_MODEL_a212aa6a1eba48429fd4f2f5ebd96c4b",
       "style": "IPY_MODEL_9cd62ee742c5482ca827e90d9b475014"
      }
     },
     "7839d61c0e6b44ecb0adea932deda29c": {
      "model_module": "@jupyter-widgets/controls",
      "model_module_version": "1.4.0",
      "model_name": "SliderStyleModel",
      "state": {
       "description_width": ""
      }
     },
     "785f2b0477894863a1aec9d45cac8173": {
      "model_module": "@jupyter-widgets/base",
      "model_module_version": "1.1.0",
      "model_name": "LayoutModel",
      "state": {
       "grid_area": "bottom-left"
      }
     },
     "7865b979812a482aa680f1d09e29df27": {
      "model_module": "@jupyter-widgets/controls",
      "model_module_version": "1.4.0",
      "model_name": "ButtonStyleModel",
      "state": {}
     },
     "7880a46289134cd2834b16bb7d7281ec": {
      "model_module": "@jupyter-widgets/base",
      "model_module_version": "1.1.0",
      "model_name": "LayoutModel",
      "state": {
       "grid_area": "top-left"
      }
     },
     "7882e0c8190545b4a607eba3ec29dba4": {
      "model_module": "@jupyter-widgets/base",
      "model_module_version": "1.1.0",
      "model_name": "LayoutModel",
      "state": {}
     },
     "789ce9e2c67341709c274c7c85bd4dea": {
      "model_module": "@jupyter-widgets/controls",
      "model_module_version": "1.4.0",
      "model_name": "ButtonModel",
      "state": {
       "description": "Bottom right",
       "layout": "IPY_MODEL_3e4dc29634a34298baba83e75dc0d916",
       "style": "IPY_MODEL_22721a1f40dc45439293e80f37fe74ee"
      }
     },
     "78b98cf8a8a148ff86642e142d60cc14": {
      "model_module": "@jupyter-widgets/base",
      "model_module_version": "1.1.0",
      "model_name": "LayoutModel",
      "state": {
       "grid_template_areas": "\"top-left top-right\"\n\"bottom-left bottom-right\"",
       "grid_template_columns": "1fr 1fr",
       "grid_template_rows": "1fr 1fr",
       "width": "auto"
      }
     },
     "78c044f1ccfb4b2ca8598ebf08f80393": {
      "model_module": "@jupyter-widgets/controls",
      "model_module_version": "1.4.0",
      "model_name": "ButtonStyleModel",
      "state": {}
     },
     "78c4fde47d7f4ba6b01e76f28f916022": {
      "model_module": "@jupyter-widgets/controls",
      "model_module_version": "1.4.0",
      "model_name": "GridBoxModel",
      "state": {
       "children": [
        "IPY_MODEL_a612809ed6234ed4896cf0991bee1c5f",
        "IPY_MODEL_b3d52b6d03cc4f159ba68abbf43a000e",
        "IPY_MODEL_611cf9fc49c645538473b21e6ae20339"
       ],
       "layout": "IPY_MODEL_ea601b291d504cf8b552633bc02cbd71"
      }
     },
     "78c64eb4e39b486f82dfb046a9c2208b": {
      "model_module": "@jupyter-widgets/controls",
      "model_module_version": "1.4.0",
      "model_name": "GridBoxModel",
      "state": {
       "children": [
        "IPY_MODEL_863ee1ea71724383998be3b2f53a8868",
        "IPY_MODEL_3f82268622f6419db7dfd5e2f4ba5c20",
        "IPY_MODEL_074af9c2107f40159d1ca9cd38cb6cab"
       ],
       "layout": "IPY_MODEL_ea4b02df27fd48a8a51cbb7b4b091f82"
      }
     },
     "78cec477234840fd9b8e0ca3f3ded609": {
      "model_module": "@jupyter-widgets/controls",
      "model_module_version": "1.4.0",
      "model_name": "ButtonStyleModel",
      "state": {}
     },
     "78e50733a7b2404b83b996c439ea462b": {
      "model_module": "@jupyter-widgets/base",
      "model_module_version": "1.1.0",
      "model_name": "LayoutModel",
      "state": {
       "grid_area": "bottom-right"
      }
     },
     "78f23ae9c9284d24ae861048308ceb47": {
      "model_module": "@jupyter-widgets/controls",
      "model_module_version": "1.4.0",
      "model_name": "ButtonStyleModel",
      "state": {}
     },
     "7912bb93e6e9441c8eee75b65d34aea1": {
      "model_module": "@jupyter-widgets/controls",
      "model_module_version": "1.4.0",
      "model_name": "ButtonStyleModel",
      "state": {}
     },
     "793a0f1881aa41f3a88e90ba2e7c135b": {
      "model_module": "@jupyter-widgets/controls",
      "model_module_version": "1.4.0",
      "model_name": "LinkModel",
      "state": {
       "source": [
        "IPY_MODEL_16aca47cbfb94bd89d73a1fdaf421b6c",
        "value"
       ],
       "target": [
        "IPY_MODEL_4277a99c02bf4e76b84cd869a6ffb7d3",
        "value"
       ]
      }
     },
     "797c9fb5bc0244649a5abe1d690d2524": {
      "model_module": "@jupyter-widgets/controls",
      "model_module_version": "1.4.0",
      "model_name": "SliderStyleModel",
      "state": {
       "description_width": ""
      }
     },
     "7996095a8c9f4c2589e5889f51c2c18f": {
      "model_module": "@jupyter-widgets/controls",
      "model_module_version": "1.4.0",
      "model_name": "LinkModel",
      "state": {
       "source": [
        "IPY_MODEL_7caa0e6cd26949b4ab77566be6e8267b",
        "value"
       ],
       "target": [
        "IPY_MODEL_a92ea4802d2c4f159c19a29590493c7d",
        "value"
       ]
      }
     },
     "79c3433225bb433d9a4edb4022d321a8": {
      "model_module": "@jupyter-widgets/base",
      "model_module_version": "1.1.0",
      "model_name": "LayoutModel",
      "state": {
       "grid_area": "bottom-left"
      }
     },
     "79c456df7180471ca959ed93ea673b13": {
      "model_module": "@jupyter-widgets/controls",
      "model_module_version": "1.4.0",
      "model_name": "ButtonStyleModel",
      "state": {}
     },
     "79c78683d04a4fb6b8a8747f2063252d": {
      "model_module": "@jupyter-widgets/controls",
      "model_module_version": "1.4.0",
      "model_name": "SliderStyleModel",
      "state": {
       "description_width": ""
      }
     },
     "79d1e1f9f84e4d26ac33d4189a80d4d8": {
      "model_module": "bqplot",
      "model_module_version": "^0.4.5",
      "model_name": "FigureModel",
      "state": {
       "_dom_classes": [],
       "axes": [
        "IPY_MODEL_bd920272a9a8461f8dc5085fa620c036",
        "IPY_MODEL_75287f6f178e4cd293de35bb1dc996b7"
       ],
       "layout": "IPY_MODEL_da7f47a9b34b456db2a81d33205c47a7",
       "marks": [
        "IPY_MODEL_093c41790e4c468097f269c0ac860444"
       ],
       "padding_x": 0.025,
       "scale_x": "IPY_MODEL_924e5e7430144d4987bdf46e1f9a9d6f",
       "scale_y": "IPY_MODEL_34dd103088a349efaa1b3f084779910c"
      }
     },
     "7a0ae8b512cb4d8ea252fd7e0c83dbcb": {
      "model_module": "@jupyter-widgets/base",
      "model_module_version": "1.1.0",
      "model_name": "LayoutModel",
      "state": {
       "align_items": "center",
       "grid_template_areas": "\"top-left bottom-right\"\n\"bottom-left bottom-right\"",
       "grid_template_columns": "1fr 1fr",
       "grid_template_rows": "1fr 1fr",
       "height": "500px",
       "width": "80%"
      }
     },
     "7a475e5afb4a4707b9faeab89e832d7d": {
      "model_module": "@jupyter-widgets/controls",
      "model_module_version": "1.4.0",
      "model_name": "LinkModel",
      "state": {
       "source": [
        "IPY_MODEL_820f40885b1d4781a4e4abd39ead9b69",
        "max"
       ],
       "target": [
        "IPY_MODEL_fc113e529eae40e0b6bf9cf6a2c9cd45",
        "value"
       ]
      }
     },
     "7a697e5225c54f38952f1991e71a81f0": {
      "model_module": "@jupyter-widgets/controls",
      "model_module_version": "1.4.0",
      "model_name": "ButtonModel",
      "state": {
       "description": "Top right",
       "layout": "IPY_MODEL_27d92d7738ca48e5ba60924161672fb5",
       "style": "IPY_MODEL_91573eb8e8254a3c92b176bc9080619d"
      }
     },
     "7a70a2892d64464ba2161721c75f58bf": {
      "model_module": "@jupyter-widgets/base",
      "model_module_version": "1.1.0",
      "model_name": "LayoutModel",
      "state": {
       "grid_template_areas": "\"top-left bottom-right\"\n\"bottom-left bottom-right\"",
       "grid_template_columns": "1fr 1fr",
       "grid_template_rows": "1fr 1fr",
       "width": "auto"
      }
     },
     "7a80f860c34945baba424cf90c44d80e": {
      "model_module": "@jupyter-widgets/controls",
      "model_module_version": "1.4.0",
      "model_name": "IntSliderModel",
      "state": {
       "layout": "IPY_MODEL_eba00d14d7b34fd2ab6705970ce5a483",
       "style": "IPY_MODEL_44026a3745744d9aaab0cc9a08007155"
      }
     },
     "7aa2b57aa2a849389c85ffeab46c37f9": {
      "model_module": "@jupyter-widgets/base",
      "model_module_version": "1.1.0",
      "model_name": "LayoutModel",
      "state": {
       "grid_area": "bottom-right"
      }
     },
     "7af1c944977f4399a0e4e364411d36d6": {
      "model_module": "@jupyter-widgets/controls",
      "model_module_version": "1.4.0",
      "model_name": "IntSliderModel",
      "state": {
       "layout": "IPY_MODEL_bda48bd1aaa14730837081ec5474ca7c",
       "style": "IPY_MODEL_e68e56e1f6144f18acf261d338171ad3",
       "value": 25
      }
     },
     "7afb117e39c247e09ed4164482de9a16": {
      "model_module": "@jupyter-widgets/controls",
      "model_module_version": "1.4.0",
      "model_name": "ButtonModel",
      "state": {
       "description": "Top left",
       "layout": "IPY_MODEL_ad8376e60d4b431f9909d5a084132452",
       "style": "IPY_MODEL_63e8b402b4704c889eb4c718e7ed29bb"
      }
     },
     "7b320878dd854a9db699c009e3295db5": {
      "model_module": "@jupyter-widgets/base",
      "model_module_version": "1.1.0",
      "model_name": "LayoutModel",
      "state": {
       "grid_template_areas": "\"top-left bottom-right\"\n\"bottom-left bottom-right\"",
       "grid_template_columns": "1fr 1fr",
       "grid_template_rows": "1fr 1fr",
       "width": "auto"
      }
     },
     "7b6e1800da0b41428cfed6e915f83299": {
      "model_module": "@jupyter-widgets/base",
      "model_module_version": "1.1.0",
      "model_name": "LayoutModel",
      "state": {
       "grid_area": "top-right"
      }
     },
     "7b76eca0708546159cade184916a485f": {
      "model_module": "bqplot",
      "model_module_version": "^0.4.5",
      "model_name": "FigureModel",
      "state": {
       "_dom_classes": [],
       "axes": [
        "IPY_MODEL_d042e3d51551495ca9d3c23fe301dbe4",
        "IPY_MODEL_c32f1cc1adc943419a3d632f5404d9d5"
       ],
       "layout": "IPY_MODEL_8b9e4968a00e4aa4917012c4125c4231",
       "marks": [
        "IPY_MODEL_f8d6ae6c915f47f697fe5fc400fe7adb"
       ],
       "padding_x": 0.025,
       "scale_x": "IPY_MODEL_cc85f46abf4b4c35a4ae524feca68973",
       "scale_y": "IPY_MODEL_aa4821b12d004c9ea0b0e23e57308b51"
      }
     },
     "7bbfc82e86124fbebb359dfe0c0d135f": {
      "model_module": "@jupyter-widgets/controls",
      "model_module_version": "1.4.0",
      "model_name": "ButtonModel",
      "state": {
       "description": "Top left",
       "layout": "IPY_MODEL_9977a94c6abe45d685a1d715089520e9",
       "style": "IPY_MODEL_fb08b5c5fb884cb9a54ccd09df7ce98c"
      }
     },
     "7bde34c67a9f472cb3dca5e21cf3d73a": {
      "model_module": "@jupyter-widgets/base",
      "model_module_version": "1.1.0",
      "model_name": "LayoutModel",
      "state": {
       "grid_area": "bottom-right",
       "height": "100%"
      }
     },
     "7be6e8a5f64a4d94bad80e0156c78336": {
      "model_module": "@jupyter-widgets/controls",
      "model_module_version": "1.4.0",
      "model_name": "ButtonModel",
      "state": {
       "description": "Top left",
       "layout": "IPY_MODEL_3e9524cde1314003bca39c03bbca98c6",
       "style": "IPY_MODEL_c1ed9cacdd724e968d9590133dd91b36"
      }
     },
     "7bf9ba6b1b2646719106d2c83319578c": {
      "model_module": "@jupyter-widgets/controls",
      "model_module_version": "1.4.0",
      "model_name": "FloatSliderModel",
      "state": {
       "description": "Min: ",
       "layout": "IPY_MODEL_ad77cfcb3b3546bfa924401bcc86a6ea",
       "max": 8.8,
       "step": 0.1,
       "style": "IPY_MODEL_28bb1dde28fa49cf98c22a364601091f",
       "value": 7.3
      }
     },
     "7c13555a8da541b89a8896b33f29a545": {
      "model_module": "@jupyter-widgets/controls",
      "model_module_version": "1.4.0",
      "model_name": "SliderStyleModel",
      "state": {
       "description_width": ""
      }
     },
     "7c297d99d65d46588880c4d76b8a7122": {
      "model_module": "@jupyter-widgets/base",
      "model_module_version": "1.1.0",
      "model_name": "LayoutModel",
      "state": {
       "grid_area": "top-left",
       "min_width": "125px"
      }
     },
     "7c331ccaacf14457bce4c13a4cd25142": {
      "model_module": "@jupyter-widgets/controls",
      "model_module_version": "1.4.0",
      "model_name": "SliderStyleModel",
      "state": {
       "description_width": ""
      }
     },
     "7c6ec8a567904b8f814672d837f4cab3": {
      "model_module": "@jupyter-widgets/base",
      "model_module_version": "1.1.0",
      "model_name": "LayoutModel",
      "state": {
       "grid_area": "bottom-left"
      }
     },
     "7caa0e6cd26949b4ab77566be6e8267b": {
      "model_module": "@jupyter-widgets/controls",
      "model_module_version": "1.4.0",
      "model_name": "IntTextModel",
      "state": {
       "layout": "IPY_MODEL_4a016e7ab97e4ec5accd5bc2b92c957b",
       "step": 1,
       "style": "IPY_MODEL_4213e7c8f26844b182e153cc67da62e4",
       "value": 25
      }
     },
     "7cc0a9810acc480f836fb61fd337c4aa": {
      "model_module": "@jupyter-widgets/controls",
      "model_module_version": "1.4.0",
      "model_name": "GridBoxModel",
      "state": {
       "children": [
        "IPY_MODEL_e8d4ea0466554654a6156532d96c0a92",
        "IPY_MODEL_88aae750ffa84aec98fce235ed7728cc",
        "IPY_MODEL_cb6c37595b3a45eb9202ac21e522c75e"
       ],
       "layout": "IPY_MODEL_c78de16356fc4918a5acb1d089bcf67c"
      }
     },
     "7cc77b9aa6ba48609906eb264b19bdf8": {
      "model_module": "@jupyter-widgets/controls",
      "model_module_version": "1.4.0",
      "model_name": "ButtonStyleModel",
      "state": {}
     },
     "7cd6e6d2bfe7454dab637b65f63c882b": {
      "model_module": "@jupyter-widgets/controls",
      "model_module_version": "1.4.0",
      "model_name": "DescriptionStyleModel",
      "state": {
       "description_width": ""
      }
     },
     "7ced6147713842c8ac2ed13272db3a11": {
      "model_module": "@jupyter-widgets/base",
      "model_module_version": "1.1.0",
      "model_name": "LayoutModel",
      "state": {
       "align_items": "center",
       "grid_template_areas": "\"top-left bottom-right\"\n\"bottom-left bottom-right\"",
       "grid_template_columns": "1fr 1fr",
       "grid_template_rows": "1fr 1fr"
      }
     },
     "7cf675eec58a422a932fb01c388f58ae": {
      "model_module": "@jupyter-widgets/base",
      "model_module_version": "1.1.0",
      "model_name": "LayoutModel",
      "state": {
       "grid_template_areas": "\"top-left bottom-right\"\n\"bottom-left bottom-right\"",
       "grid_template_columns": "1fr 1fr",
       "grid_template_rows": "1fr 1fr",
       "width": "auto"
      }
     },
     "7d1bc133890d4db5be1dd3f2135178ea": {
      "model_module": "@jupyter-widgets/base",
      "model_module_version": "1.1.0",
      "model_name": "LayoutModel",
      "state": {
       "grid_template_areas": "\"top-left top-right\"\n\"bottom-left top-right\"",
       "grid_template_columns": "1fr 1fr",
       "grid_template_rows": "1fr 1fr",
       "width": "auto"
      }
     },
     "7d2b273493c54cd0802a514cc682679d": {
      "model_module": "bqplot",
      "model_module_version": "^0.4.5",
      "model_name": "AxisModel",
      "state": {
       "scale": "IPY_MODEL_0b8b3736a02b45b28018452aa75b35e0",
       "side": "bottom",
       "tick_values": {
        "type": null,
        "values": null
       }
      }
     },
     "7d4a269c0e2f4e4783fc67f218f7c731": {
      "model_module": "@jupyter-widgets/base",
      "model_module_version": "1.1.0",
      "model_name": "LayoutModel",
      "state": {
       "grid_template_areas": "\"top-left bottom-right\"\n\"bottom-left bottom-right\"",
       "grid_template_columns": "1fr 1fr",
       "grid_template_rows": "1fr 1fr",
       "width": "auto"
      }
     },
     "7d63b7557d40437a80fd84464a00f2d0": {
      "model_module": "@jupyter-widgets/controls",
      "model_module_version": "1.4.0",
      "model_name": "ButtonModel",
      "state": {
       "description": "Bottom right",
       "layout": "IPY_MODEL_27ca7f52088a41ae8660e7a99aa4b7d8",
       "style": "IPY_MODEL_2ef6ba2949c44e0784ef759553ec72db"
      }
     },
     "7d98cac770e94fa7940e1eba0aac1c85": {
      "model_module": "@jupyter-widgets/controls",
      "model_module_version": "1.4.0",
      "model_name": "FloatSliderModel",
      "state": {
       "layout": "IPY_MODEL_d89a0790b6df40f299c147db516e396d",
       "max": 10,
       "min": 1,
       "step": 0.1,
       "style": "IPY_MODEL_021f9249af1d45fbbbd600399907b3f9",
       "value": 1
      }
     },
     "7dbb69a87d66475f8c06df987d8d222b": {
      "model_module": "@jupyter-widgets/controls",
      "model_module_version": "1.4.0",
      "model_name": "IntSliderModel",
      "state": {
       "layout": "IPY_MODEL_0c0597db0b5240298bf3d9513470f1b4",
       "style": "IPY_MODEL_7075c026a1914bf38079f84febdfbbc2",
       "value": 25
      }
     },
     "7dd0b07cadae400b8af8f4f4b24e0124": {
      "model_module": "@jupyter-widgets/controls",
      "model_module_version": "1.4.0",
      "model_name": "GridBoxModel",
      "state": {
       "children": [
        "IPY_MODEL_bac7db0079744a5395174b3089db44f3",
        "IPY_MODEL_5a041eef07a74deebc583edb7172b90e",
        "IPY_MODEL_e9d82ea847254d4e965252bcc5dcc38f"
       ],
       "layout": "IPY_MODEL_fe953581789a4c20866ca507fd59de79"
      }
     },
     "7ddae41692a54a4d88b7f517a2b38fd6": {
      "model_module": "@jupyter-widgets/controls",
      "model_module_version": "1.4.0",
      "model_name": "DescriptionStyleModel",
      "state": {
       "description_width": ""
      }
     },
     "7dee67a628974da4993cb1ac4cb47885": {
      "model_module": "@jupyter-widgets/controls",
      "model_module_version": "1.4.0",
      "model_name": "LinkModel",
      "state": {
       "source": [
        "IPY_MODEL_820f40885b1d4781a4e4abd39ead9b69",
        "max"
       ],
       "target": [
        "IPY_MODEL_ee492dc3c189417a816d758763873c9a",
        "value"
       ]
      }
     },
     "7df957271e7d4c44a3e41a7403bc4581": {
      "model_module": "@jupyter-widgets/base",
      "model_module_version": "1.1.0",
      "model_name": "LayoutModel",
      "state": {
       "grid_template_areas": "\"top-left top-right\"\n\"bottom-left bottom-right\"",
       "grid_template_columns": "1fr 1fr",
       "grid_template_rows": "1fr 1fr",
       "width": "auto"
      }
     },
     "7dfedc1a2b394945959202c31c60f7a8": {
      "model_module": "@jupyter-widgets/controls",
      "model_module_version": "1.4.0",
      "model_name": "SliderStyleModel",
      "state": {
       "description_width": ""
      }
     },
     "7e27bbfb42a3424ba41ee939228b8892": {
      "model_module": "@jupyter-widgets/base",
      "model_module_version": "1.1.0",
      "model_name": "LayoutModel",
      "state": {
       "grid_area": "bottom-right",
       "height": "100%"
      }
     },
     "7e2ab8eae8c74afcaf184a6401279a41": {
      "model_module": "@jupyter-widgets/base",
      "model_module_version": "1.1.0",
      "model_name": "LayoutModel",
      "state": {
       "grid_area": "top-left"
      }
     },
     "7e36f0ce71bf4d429dd3ab38ec6a5df5": {
      "model_module": "@jupyter-widgets/base",
      "model_module_version": "1.1.0",
      "model_name": "LayoutModel",
      "state": {
       "grid_area": "bottom-left"
      }
     },
     "7e42a266b3a3479ca15547d55f0e6830": {
      "model_module": "@jupyter-widgets/controls",
      "model_module_version": "1.4.0",
      "model_name": "GridBoxModel",
      "state": {
       "children": [
        "IPY_MODEL_b2e35dc720af44f090b90ce1016ad757",
        "IPY_MODEL_9e9f23bf66144677b19717cad9e4613c",
        "IPY_MODEL_40bffb9358e24fb8a16b93aa86818d4b"
       ],
       "layout": "IPY_MODEL_af10421fa02b4cecb91a547b70317629"
      }
     },
     "7e4a4e73a16b4fc699141fe7feba5e17": {
      "model_module": "@jupyter-widgets/controls",
      "model_module_version": "1.4.0",
      "model_name": "ButtonStyleModel",
      "state": {}
     },
     "7e5665a1608c42f8a93f58bb3484fba3": {
      "model_module": "@jupyter-widgets/base",
      "model_module_version": "1.1.0",
      "model_name": "LayoutModel",
      "state": {
       "grid_area": "bottom-left"
      }
     },
     "7e6984a9e29349d8a9c8e13006ad0885": {
      "model_module": "@jupyter-widgets/base",
      "model_module_version": "1.1.0",
      "model_name": "LayoutModel",
      "state": {
       "align_items": "center",
       "grid_template_areas": "\"top-left bottom-right\"\n\"bottom-left bottom-right\"",
       "grid_template_columns": "1fr 1fr",
       "grid_template_rows": "1fr 1fr",
       "height": "300px",
       "width": "80%"
      }
     },
     "7eb312b456514b62bd2b7794fc3586e4": {
      "model_module": "@jupyter-widgets/base",
      "model_module_version": "1.1.0",
      "model_name": "LayoutModel",
      "state": {
       "grid_template_areas": "\"top-left top-right\"\n\"bottom-left bottom-right\"",
       "grid_template_columns": "1fr 1fr",
       "grid_template_rows": "1fr 1fr",
       "width": "auto"
      }
     },
     "7f282c30c55d4c72a3cce50804898e3e": {
      "model_module": "@jupyter-widgets/controls",
      "model_module_version": "1.4.0",
      "model_name": "ButtonModel",
      "state": {
       "description": "Top right",
       "layout": "IPY_MODEL_510afbf5c2fd4f56b34b7ccc4552a92b",
       "style": "IPY_MODEL_d66d483563144d43ab0a2142ea409c37"
      }
     },
     "7f33e22bba114cd0a15f9843a1fb8aee": {
      "model_module": "@jupyter-widgets/controls",
      "model_module_version": "1.4.0",
      "model_name": "ButtonModel",
      "state": {
       "description": "Top left",
       "layout": "IPY_MODEL_4e40ca436b574b5d8205e7512b2e4306",
       "style": "IPY_MODEL_e9f3a77a346742e1b8ff9778eaafdc93"
      }
     },
     "7f7e6f53ecde4165a538aab2ff34ff7a": {
      "model_module": "@jupyter-widgets/base",
      "model_module_version": "1.1.0",
      "model_name": "LayoutModel",
      "state": {
       "grid_area": "bottom-left"
      }
     },
     "7fa1f05a3e544df78d23a78a497c33f4": {
      "model_module": "@jupyter-widgets/controls",
      "model_module_version": "1.4.0",
      "model_name": "GridBoxModel",
      "state": {
       "children": [
        "IPY_MODEL_57b6bb8a092246159380e6eceaaf3541",
        "IPY_MODEL_2d1948f30bbe47338545a4199532c6c6",
        "IPY_MODEL_5de7aa73f11240969b3ecc1fef4e1cce"
       ],
       "layout": "IPY_MODEL_f01750372da04962936b1a9b49d0ead9"
      }
     },
     "7fb5a4c3163f4d66bb279a21b611e1df": {
      "model_module": "@jupyter-widgets/base",
      "model_module_version": "1.1.0",
      "model_name": "LayoutModel",
      "state": {}
     },
     "7fc508b5a8c44de7801b2eba4e39551f": {
      "model_module": "@jupyter-widgets/base",
      "model_module_version": "1.1.0",
      "model_name": "LayoutModel",
      "state": {
       "grid_template_areas": "\"top-left bottom-right\"\n\"bottom-left bottom-right\"",
       "grid_template_columns": "1fr 1fr",
       "grid_template_rows": "1fr 1fr",
       "width": "auto"
      }
     },
     "7fc6521221bc474ea3cf5bcca762f197": {
      "model_module": "@jupyter-widgets/controls",
      "model_module_version": "1.4.0",
      "model_name": "SliderStyleModel",
      "state": {
       "description_width": ""
      }
     },
     "809262cedbc140a8bd6fa57b1b37b43b": {
      "model_module": "@jupyter-widgets/controls",
      "model_module_version": "1.4.0",
      "model_name": "ButtonModel",
      "state": {
       "description": "Top left",
       "layout": "IPY_MODEL_3e213caa2c734cdf8064413417fd313b",
       "style": "IPY_MODEL_2a5b22fdeead40d0ace6d41554f3957c"
      }
     },
     "80ab19ece823494ea91c735882ead784": {
      "model_module": "@jupyter-widgets/base",
      "model_module_version": "1.1.0",
      "model_name": "LayoutModel",
      "state": {
       "grid_area": "top-left"
      }
     },
     "80bda078cf464bdc8ec1528c4c191765": {
      "model_module": "@jupyter-widgets/base",
      "model_module_version": "1.1.0",
      "model_name": "LayoutModel",
      "state": {
       "grid_area": "top-right"
      }
     },
     "80fbf1628f61411ebf6c89966c5ba3e4": {
      "model_module": "@jupyter-widgets/controls",
      "model_module_version": "1.4.0",
      "model_name": "GridBoxModel",
      "state": {
       "children": [
        "IPY_MODEL_ef99f0eff87d423ca370746484fbb008",
        "IPY_MODEL_1879fb7df8e647099dcb6f3d5705d9f5",
        "IPY_MODEL_d61b421c551c4f138fb9244f8d0d06bd"
       ],
       "layout": "IPY_MODEL_daaa29b894ab490f8abbe17c40c702f3"
      }
     },
     "80fd283f639943108a81d4bc0ea926f9": {
      "model_module": "@jupyter-widgets/controls",
      "model_module_version": "1.4.0",
      "model_name": "FloatSliderModel",
      "state": {
       "layout": "IPY_MODEL_7e2ab8eae8c74afcaf184a6401279a41",
       "max": 2,
       "step": 0.1,
       "style": "IPY_MODEL_958269fa082044ae891c3dce6c20bc2f",
       "value": 0.05
      }
     },
     "814093297dd543ce9003126fe993aef3": {
      "model_module": "@jupyter-widgets/controls",
      "model_module_version": "1.4.0",
      "model_name": "ButtonModel",
      "state": {
       "description": "Bottom right",
       "layout": "IPY_MODEL_cd7da02d41ed4b8091c811d60329c6f0",
       "style": "IPY_MODEL_37557a58832748cc81f0303d519f0eca"
      }
     },
     "81420eb5b0294f42a004485bbf22b549": {
      "model_module": "@jupyter-widgets/controls",
      "model_module_version": "1.4.0",
      "model_name": "DescriptionStyleModel",
      "state": {
       "description_width": ""
      }
     },
     "815c7c773b5b404ca18e7363c9f5aa24": {
      "model_module": "@jupyter-widgets/base",
      "model_module_version": "1.1.0",
      "model_name": "LayoutModel",
      "state": {
       "grid_area": "top-right"
      }
     },
     "818fca7e96bc41aab098d218975f2e07": {
      "model_module": "@jupyter-widgets/base",
      "model_module_version": "1.1.0",
      "model_name": "LayoutModel",
      "state": {
       "grid_area": "bottom-right"
      }
     },
     "81963f83e0a54661ab7afdbf1c1aa6de": {
      "model_module": "@jupyter-widgets/controls",
      "model_module_version": "1.4.0",
      "model_name": "LinkModel",
      "state": {
       "source": [
        "IPY_MODEL_fc11ab93b8894a1da80a45d5a56a5136",
        "max"
       ],
       "target": [
        "IPY_MODEL_8ce34ee22f0645279bc5196c2d523309",
        "value"
       ]
      }
     },
     "819e155f308b436dbd112b6696169f90": {
      "model_module": "@jupyter-widgets/controls",
      "model_module_version": "1.4.0",
      "model_name": "ButtonStyleModel",
      "state": {}
     },
     "81ab7518e3354e199343b450682b561b": {
      "model_module": "@jupyter-widgets/base",
      "model_module_version": "1.1.0",
      "model_name": "LayoutModel",
      "state": {
       "align_items": "center",
       "grid_template_areas": "\"top-left bottom-right\"\n\"bottom-left bottom-right\"",
       "grid_template_columns": "1fr 1fr",
       "grid_template_rows": "1fr 1fr",
       "height": "200px",
       "width": "80%"
      }
     },
     "81b9372765da46b68dd842c8fdef7060": {
      "model_module": "@jupyter-widgets/controls",
      "model_module_version": "1.4.0",
      "model_name": "GridBoxModel",
      "state": {
       "children": [
        "IPY_MODEL_a0e535563e734d7c929136194a5674e5",
        "IPY_MODEL_26c131b812904895b49db8d30c652708"
       ],
       "layout": "IPY_MODEL_9eee510b0a684fc3819bdfcc4698533a"
      }
     },
     "820f40885b1d4781a4e4abd39ead9b69": {
      "model_module": "bqplot",
      "model_module_version": "^0.4.5",
      "model_name": "LinearScaleModel",
      "state": {
       "max": 3.35,
       "min": 0.2,
       "stabilized": false
      }
     },
     "821f668def244c928d093c6ec1d9f607": {
      "model_module": "@jupyter-widgets/base",
      "model_module_version": "1.1.0",
      "model_name": "LayoutModel",
      "state": {
       "align_items": "center",
       "grid_template_areas": "\"top-left bottom-right\"\n\"bottom-left bottom-right\"",
       "grid_template_columns": "1fr 1fr",
       "grid_template_rows": "1fr 1fr",
       "height": "300px",
       "width": "80%"
      }
     },
     "82219f0ce04641fb81da5caf1abc502b": {
      "model_module": "@jupyter-widgets/controls",
      "model_module_version": "1.4.0",
      "model_name": "LinkModel",
      "state": {
       "source": [
        "IPY_MODEL_f235e4987f734bd49661fffca8f1c684",
        "value"
       ],
       "target": [
        "IPY_MODEL_95fc159c07194e4baf33d53825960431",
        "value"
       ]
      }
     },
     "8225d3bb164a42448b442bbe0360fd97": {
      "model_module": "@jupyter-widgets/controls",
      "model_module_version": "1.4.0",
      "model_name": "SliderStyleModel",
      "state": {
       "description_width": ""
      }
     },
     "82530b47050a4de190ecc3bee6ec1bc8": {
      "model_module": "@jupyter-widgets/controls",
      "model_module_version": "1.4.0",
      "model_name": "ButtonModel",
      "state": {
       "description": "Top left",
       "layout": "IPY_MODEL_b647bb807325428789586bd22090b2a0",
       "style": "IPY_MODEL_fded5a7ec1d94b48bdd9a687b1a4a7c5"
      }
     },
     "825491e663fb4bd8a00de4686872f102": {
      "model_module": "@jupyter-widgets/base",
      "model_module_version": "1.1.0",
      "model_name": "LayoutModel",
      "state": {
       "grid_area": "top-right"
      }
     },
     "829ec60609cb437fae0b0283a2a31c96": {
      "model_module": "@jupyter-widgets/controls",
      "model_module_version": "1.4.0",
      "model_name": "ButtonModel",
      "state": {
       "description": "Top left",
       "layout": "IPY_MODEL_897492b471314e8ba755b3c5e3f1aec0",
       "style": "IPY_MODEL_189f31cc8f744f1e89b2ffedbc1cbf33"
      }
     },
     "82a4a005eddf4e9ea58fcd9797a61a89": {
      "model_module": "@jupyter-widgets/controls",
      "model_module_version": "1.4.0",
      "model_name": "ButtonStyleModel",
      "state": {}
     },
     "82d463aff5b4445d8b95b4e2fbf978bb": {
      "model_module": "@jupyter-widgets/base",
      "model_module_version": "1.1.0",
      "model_name": "LayoutModel",
      "state": {
       "grid_template_areas": "\"top-left bottom-right\"\n\"bottom-left bottom-right\"",
       "grid_template_columns": "1fr 1fr",
       "grid_template_rows": "1fr 1fr",
       "width": "auto"
      }
     },
     "82f854dbda314376afbecc8dbe294743": {
      "model_module": "@jupyter-widgets/controls",
      "model_module_version": "1.4.0",
      "model_name": "SliderStyleModel",
      "state": {
       "description_width": ""
      }
     },
     "8316a09da25940c3947a27955e2abc31": {
      "model_module": "@jupyter-widgets/controls",
      "model_module_version": "1.4.0",
      "model_name": "SliderStyleModel",
      "state": {
       "description_width": ""
      }
     },
     "8348b4061c424252a4cfec44fba49297": {
      "model_module": "@jupyter-widgets/base",
      "model_module_version": "1.1.0",
      "model_name": "LayoutModel",
      "state": {
       "grid_area": "bottom-left"
      }
     },
     "834e9780439e4812bdb23c06e75cf6ac": {
      "model_module": "@jupyter-widgets/base",
      "model_module_version": "1.1.0",
      "model_name": "LayoutModel",
      "state": {
       "grid_template_areas": "\"top-left top-right\"\n\"bottom-left bottom-right\"",
       "grid_template_columns": "1fr 1fr",
       "grid_template_rows": "1fr 1fr"
      }
     },
     "838c3678fd0a4e888d492690f07a46ea": {
      "model_module": "@jupyter-widgets/base",
      "model_module_version": "1.1.0",
      "model_name": "LayoutModel",
      "state": {
       "grid_area": "bottom-left"
      }
     },
     "83cd2125af1347e9874cd6fe10853616": {
      "model_module": "@jupyter-widgets/controls",
      "model_module_version": "1.4.0",
      "model_name": "GridBoxModel",
      "state": {
       "children": [
        "IPY_MODEL_55c994223b964bb198a5343345833721",
        "IPY_MODEL_c8c181def2da486bb99e2ce613b3b6b5",
        "IPY_MODEL_ad1a5318f3e2432aacea527864e4861c",
        "IPY_MODEL_4353bb390ed64c0ca4c66c6b1765e71a"
       ],
       "layout": "IPY_MODEL_9ed924bc36ce42b684e84be4cecf7d36"
      }
     },
     "83ed99b3e3d0454eacb82682fee01b13": {
      "model_module": "@jupyter-widgets/base",
      "model_module_version": "1.1.0",
      "model_name": "LayoutModel",
      "state": {
       "grid_template_areas": "\"top-left bottom-right\"\n\"bottom-left bottom-right\"",
       "grid_template_columns": "1fr 1fr",
       "grid_template_rows": "1fr 1fr",
       "width": "auto"
      }
     },
     "8419b2a148304b5da9da18739b0fde2e": {
      "model_module": "@jupyter-widgets/base",
      "model_module_version": "1.1.0",
      "model_name": "LayoutModel",
      "state": {
       "grid_area": "top-left",
       "width": "20%"
      }
     },
     "841c0079a2e04fb8ae1bd08d334f14d1": {
      "model_module": "@jupyter-widgets/controls",
      "model_module_version": "1.4.0",
      "model_name": "LinkModel",
      "state": {
       "source": [
        "IPY_MODEL_7bf9ba6b1b2646719106d2c83319578c",
        "max"
       ],
       "target": [
        "IPY_MODEL_e58046537e2b4228bf92fbb2bbe6d5ef",
        "value"
       ]
      }
     },
     "843d9da99c1d4645ac4af325383c5d57": {
      "model_module": "@jupyter-widgets/controls",
      "model_module_version": "1.4.0",
      "model_name": "ButtonModel",
      "state": {
       "description": "Top left",
       "layout": "IPY_MODEL_432500dec33b43cc955f5dfd2c81bdff",
       "style": "IPY_MODEL_a4cc5f64ae8c42918c3f443cbab516cc"
      }
     },
     "8451ba7838464bdba629ad43c9b7949e": {
      "model_module": "@jupyter-widgets/controls",
      "model_module_version": "1.4.0",
      "model_name": "DescriptionStyleModel",
      "state": {
       "description_width": ""
      }
     },
     "84586e48fc38429988be32ad60361a80": {
      "model_module": "@jupyter-widgets/controls",
      "model_module_version": "1.4.0",
      "model_name": "LinkModel",
      "state": {
       "source": [
        "IPY_MODEL_b11d97af58584a01a0c670f17d21601c",
        "value"
       ],
       "target": [
        "IPY_MODEL_b6772be24add40b3ad046162ef893b29",
        "value"
       ]
      }
     },
     "845e4bef141a4fa886813c2fd78509d0": {
      "model_module": "@jupyter-widgets/base",
      "model_module_version": "1.1.0",
      "model_name": "LayoutModel",
      "state": {
       "grid_area": "top-left",
       "height": "20px",
       "width": "300px"
      }
     },
     "84df4efaf018442282da0c66ab8035ed": {
      "model_module": "@jupyter-widgets/controls",
      "model_module_version": "1.4.0",
      "model_name": "ButtonModel",
      "state": {
       "description": "Bottom left",
       "layout": "IPY_MODEL_76770b75db7948cc8e29182e681073c2",
       "style": "IPY_MODEL_bea2dae4c2504158938514e6226247c1"
      }
     },
     "84e356d4058c4b0d9af6a0e94e317686": {
      "model_module": "@jupyter-widgets/controls",
      "model_module_version": "1.4.0",
      "model_name": "GridBoxModel",
      "state": {
       "children": [
        "IPY_MODEL_ace150919ddc457781b56f6564a43648",
        "IPY_MODEL_2d09618574034d4d9faf8497a7a57fdb",
        "IPY_MODEL_faf68dbae83e4464aeaf231da98e53a5",
        "IPY_MODEL_f13e41b8b78649b5b2a161fe388e1f06"
       ],
       "layout": "IPY_MODEL_5ceebb38f3af4400b896c907db936dd0"
      }
     },
     "84e90db9163548be8e01989c0a9ff589": {
      "model_module": "@jupyter-widgets/controls",
      "model_module_version": "1.4.0",
      "model_name": "ButtonStyleModel",
      "state": {}
     },
     "84f00ea080dc465a8eb59a4d1d784860": {
      "model_module": "@jupyter-widgets/controls",
      "model_module_version": "1.4.0",
      "model_name": "ButtonModel",
      "state": {
       "description": "Bottom right",
       "layout": "IPY_MODEL_014a7256e2dd4a14b5e8e4eede13aa8b",
       "style": "IPY_MODEL_8a1188f75cb54107b0b6ff8d384644ec"
      }
     },
     "84fbd8fa84ac4901bced0cb78edf6a9c": {
      "model_module": "@jupyter-widgets/controls",
      "model_module_version": "1.4.0",
      "model_name": "LinkModel",
      "state": {
       "source": [
        "IPY_MODEL_9c3043629aa946029d6cd03de1067204",
        "max"
       ],
       "target": [
        "IPY_MODEL_af03975b03524da1b6983ca1a51f00a9",
        "value"
       ]
      }
     },
     "8525e808ca194753991d909489ca67c0": {
      "model_module": "@jupyter-widgets/base",
      "model_module_version": "1.1.0",
      "model_name": "LayoutModel",
      "state": {
       "grid_area": "top-left"
      }
     },
     "854fae81b2554357ad5a7cd8cd8db360": {
      "model_module": "@jupyter-widgets/controls",
      "model_module_version": "1.4.0",
      "model_name": "ButtonModel",
      "state": {
       "description": "Bottom left",
       "layout": "IPY_MODEL_552ee2d18ce747858f8b711a3f32138f",
       "style": "IPY_MODEL_deb292270b3945b0b02cb03b34e39517"
      }
     },
     "8554d87bb0ec4bab83c9981d7953849c": {
      "model_module": "@jupyter-widgets/controls",
      "model_module_version": "1.4.0",
      "model_name": "ButtonStyleModel",
      "state": {}
     },
     "85613532e7d14e218569fdb7ff4a2256": {
      "model_module": "@jupyter-widgets/base",
      "model_module_version": "1.1.0",
      "model_name": "LayoutModel",
      "state": {
       "grid_area": "top-right"
      }
     },
     "8567a2b93f294e1191288a92916b6718": {
      "model_module": "@jupyter-widgets/controls",
      "model_module_version": "1.4.0",
      "model_name": "SliderStyleModel",
      "state": {
       "description_width": ""
      }
     },
     "857d9348661542aea477c7a5d84add1e": {
      "model_module": "bqplot",
      "model_module_version": "^0.4.5",
      "model_name": "AxisModel",
      "state": {
       "scale": "IPY_MODEL_1cb4087ded5948ecbd0684da22d0481f",
       "side": "bottom",
       "tick_values": {
        "type": null,
        "values": null
       }
      }
     },
     "8581be6e809245709f97182d76a2cc96": {
      "model_module": "@jupyter-widgets/controls",
      "model_module_version": "1.4.0",
      "model_name": "GridBoxModel",
      "state": {
       "children": [
        "IPY_MODEL_7611a1a5d8764b4fb03d0be73c4df099",
        "IPY_MODEL_2400fad5748647b4ac145be35e6efef1",
        "IPY_MODEL_54721cf760804b1786b1fdebcf6c58d9"
       ],
       "layout": "IPY_MODEL_81ab7518e3354e199343b450682b561b"
      }
     },
     "85ca3e4c18ea4ee8a1d3f4bf0e73c1e0": {
      "model_module": "@jupyter-widgets/controls",
      "model_module_version": "1.4.0",
      "model_name": "LinkModel",
      "state": {
       "source": [
        "IPY_MODEL_30c5f3aee10d4a37affcb0f481f803a3",
        "max"
       ],
       "target": [
        "IPY_MODEL_b148a114aa254f80b65be00437d2a68c",
        "value"
       ]
      }
     },
     "85d2b7d7aa61450ea1ac66f0cceff2eb": {
      "model_module": "@jupyter-widgets/controls",
      "model_module_version": "1.4.0",
      "model_name": "ButtonModel",
      "state": {
       "description": "Top left",
       "layout": "IPY_MODEL_68ffd45f38cc4a42a5f2949c3d3d8eaf",
       "style": "IPY_MODEL_08adcd1077904a85a07c99b2da164604"
      }
     },
     "863ee1ea71724383998be3b2f53a8868": {
      "model_module": "@jupyter-widgets/controls",
      "model_module_version": "1.4.0",
      "model_name": "FloatSliderModel",
      "state": {
       "layout": "IPY_MODEL_e071cf075a3c40b6a4325e5666a5c7af",
       "max": 1,
       "step": 0.1,
       "style": "IPY_MODEL_0be4e5b62bc9484492405c3c9bea9746"
      }
     },
     "865007bfb4f3463982868a68b6fcd450": {
      "model_module": "@jupyter-widgets/controls",
      "model_module_version": "1.4.0",
      "model_name": "ButtonModel",
      "state": {
       "description": "Bottom right",
       "layout": "IPY_MODEL_7aa2b57aa2a849389c85ffeab46c37f9",
       "style": "IPY_MODEL_aac36d02846a43e08a7c45f947634065"
      }
     },
     "8664cfa382c84ee68a8ee3f16e82679a": {
      "model_module": "@jupyter-widgets/controls",
      "model_module_version": "1.4.0",
      "model_name": "ButtonStyleModel",
      "state": {}
     },
     "8682adc094884d44abff993bdb41381a": {
      "model_module": "@jupyter-widgets/controls",
      "model_module_version": "1.4.0",
      "model_name": "LinkModel",
      "state": {
       "source": [
        "IPY_MODEL_6e75f3c250b74904a7b2761e466af520",
        "min"
       ],
       "target": [
        "IPY_MODEL_93246c3677c04918b29a4b8f21260b73",
        "value"
       ]
      }
     },
     "86d3a6e1ec984f9fbdd5825954c0c501": {
      "model_module": "@jupyter-widgets/base",
      "model_module_version": "1.1.0",
      "model_name": "LayoutModel",
      "state": {
       "grid_template_areas": "\"top-left top-right\"\n\"bottom-left top-right\"",
       "grid_template_columns": "1fr 1fr",
       "grid_template_rows": "1fr 1fr",
       "width": "auto"
      }
     },
     "86e5bec6ebca439f841d286a6fc5965d": {
      "model_module": "@jupyter-widgets/controls",
      "model_module_version": "1.4.0",
      "model_name": "ButtonStyleModel",
      "state": {}
     },
     "86f91f3545b94085b5ab8dbb0c5bd4d7": {
      "model_module": "@jupyter-widgets/controls",
      "model_module_version": "1.4.0",
      "model_name": "IntSliderModel",
      "state": {
       "layout": "IPY_MODEL_5086667b6121401bba4b80b77732dbd7",
       "style": "IPY_MODEL_e2e3b49a3c16434b8801db051bc4dd32",
       "value": 25
      }
     },
     "872ff0053a7c4c8ca97ed18d105fa46d": {
      "model_module": "@jupyter-widgets/base",
      "model_module_version": "1.1.0",
      "model_name": "LayoutModel",
      "state": {
       "grid_area": "top-left"
      }
     },
     "8740578f56d447a0a2a952c900228f74": {
      "model_module": "bqplot",
      "model_module_version": "^0.4.5",
      "model_name": "AxisModel",
      "state": {
       "orientation": "vertical",
       "scale": "IPY_MODEL_613a10628bc64d16840f9dde5959f74b",
       "side": "left",
       "tick_format": "0.2f",
       "tick_values": {
        "type": null,
        "values": null
       }
      }
     },
     "876f8be304284ceea9450527cd06f065": {
      "model_module": "@jupyter-widgets/controls",
      "model_module_version": "1.4.0",
      "model_name": "GridBoxModel",
      "state": {
       "children": [
        "IPY_MODEL_82530b47050a4de190ecc3bee6ec1bc8",
        "IPY_MODEL_8f052592e68c4c93a6c3b1956a3602aa",
        "IPY_MODEL_3ec1bc4edb794d17bde904d19d778ca6"
       ],
       "layout": "IPY_MODEL_ef511131c18a4facb36047bbeb4f9aeb"
      }
     },
     "8786df33daf941e38243cab490dbfbc1": {
      "model_module": "@jupyter-widgets/controls",
      "model_module_version": "1.4.0",
      "model_name": "ButtonStyleModel",
      "state": {}
     },
     "87c1b5251f504cb4a4202f02eb189c10": {
      "model_module": "@jupyter-widgets/base",
      "model_module_version": "1.1.0",
      "model_name": "LayoutModel",
      "state": {
       "grid_template_areas": "\"top-left top-right\"\n\"bottom-left bottom-right\"",
       "grid_template_columns": "1fr 1fr",
       "grid_template_rows": "1fr 1fr",
       "width": "auto"
      }
     },
     "87da623596f34218bd5b6b3bd3134937": {
      "model_module": "@jupyter-widgets/controls",
      "model_module_version": "1.4.0",
      "model_name": "LinkModel",
      "state": {
       "source": [
        "IPY_MODEL_9be0cbac87c44bc1b67c384bbe7c7f5e",
        "value"
       ],
       "target": [
        "IPY_MODEL_0b93ef9aca834a229d3c243bfbd0074c",
        "value"
       ]
      }
     },
     "87f06c5ee9754add90fffc1df8387d24": {
      "model_module": "@jupyter-widgets/base",
      "model_module_version": "1.1.0",
      "model_name": "LayoutModel",
      "state": {
       "align_items": "center",
       "grid_template_areas": "\"top-left bottom-right\"\n\"bottom-left bottom-right\"",
       "grid_template_columns": "1fr 1fr",
       "grid_template_rows": "1fr 1fr",
       "height": "300px",
       "width": "80%"
      }
     },
     "881422266cb9473cadff370ebf1eac2e": {
      "model_module": "@jupyter-widgets/controls",
      "model_module_version": "1.4.0",
      "model_name": "ButtonStyleModel",
      "state": {}
     },
     "88353ea72c9846d792405771b325bf29": {
      "model_module": "@jupyter-widgets/base",
      "model_module_version": "1.1.0",
      "model_name": "LayoutModel",
      "state": {
       "grid_area": "bottom-left",
       "height": "20px",
       "width": "300px"
      }
     },
     "884b40772d754c6d8d9379cf4047d8de": {
      "model_module": "@jupyter-widgets/base",
      "model_module_version": "1.1.0",
      "model_name": "LayoutModel",
      "state": {
       "grid_area": "bottom-left",
       "width": "200px"
      }
     },
     "8893374de0614e2eb4bf6411038e0a2f": {
      "model_module": "@jupyter-widgets/controls",
      "model_module_version": "1.4.0",
      "model_name": "LinkModel",
      "state": {
       "source": [
        "IPY_MODEL_762f980f76514085acce75f08dbffb92",
        "max"
       ],
       "target": [
        "IPY_MODEL_af03975b03524da1b6983ca1a51f00a9",
        "value"
       ]
      }
     },
     "88a8d76ff983456fbfc4acbc3a1adeea": {
      "model_module": "@jupyter-widgets/base",
      "model_module_version": "1.1.0",
      "model_name": "LayoutModel",
      "state": {
       "grid_area": "top-right"
      }
     },
     "88aae750ffa84aec98fce235ed7728cc": {
      "model_module": "@jupyter-widgets/controls",
      "model_module_version": "1.4.0",
      "model_name": "FloatSliderModel",
      "state": {
       "layout": "IPY_MODEL_a8b3489d68224da48bd0f2560a6dffcf",
       "max": 10,
       "min": 1,
       "step": 0.1,
       "style": "IPY_MODEL_8225d3bb164a42448b442bbe0360fd97",
       "value": 1
      }
     },
     "88c0a8ca313748f6a8a2e6d4f4267122": {
      "model_module": "@jupyter-widgets/controls",
      "model_module_version": "1.4.0",
      "model_name": "FloatSliderModel",
      "state": {
       "description": "Max: ",
       "layout": "IPY_MODEL_615d0c44c05941d597b03201637646a2",
       "max": 10,
       "min": 1,
       "step": 0.1,
       "style": "IPY_MODEL_c0f77785a2854572a8c95f013b4b622b",
       "value": 5.8
      }
     },
     "88c61201812246de89b4109785a1b988": {
      "model_module": "@jupyter-widgets/base",
      "model_module_version": "1.1.0",
      "model_name": "LayoutModel",
      "state": {
       "align_items": "center"
      }
     },
     "88c7b6bb40814fd1a4858672837a81f2": {
      "model_module": "@jupyter-widgets/base",
      "model_module_version": "1.1.0",
      "model_name": "LayoutModel",
      "state": {
       "grid_template_areas": "\"top-left bottom-right\"\n\"bottom-left bottom-right\"",
       "grid_template_columns": "1fr 1fr",
       "grid_template_rows": "1fr 1fr",
       "width": "auto"
      }
     },
     "89425658b7c84114b02ea3b508a71b5e": {
      "model_module": "@jupyter-widgets/controls",
      "model_module_version": "1.4.0",
      "model_name": "FloatSliderModel",
      "state": {
       "description": "Max: ",
       "layout": "IPY_MODEL_06e34161cd1145ff9845dc0ccc235d98",
       "max": 10,
       "min": 1,
       "step": 0.1,
       "style": "IPY_MODEL_bc47ec60b4524ed39ff44723c112337d",
       "value": 10
      }
     },
     "897492b471314e8ba755b3c5e3f1aec0": {
      "model_module": "@jupyter-widgets/base",
      "model_module_version": "1.1.0",
      "model_name": "LayoutModel",
      "state": {
       "grid_area": "top-left"
      }
     },
     "89842cf2205c4b769013a5fd0ffd54a3": {
      "model_module": "@jupyter-widgets/base",
      "model_module_version": "1.1.0",
      "model_name": "LayoutModel",
      "state": {
       "grid_area": "top-right"
      }
     },
     "898ce6a908e648eb88ff81ae92093a0e": {
      "model_module": "@jupyter-widgets/base",
      "model_module_version": "1.1.0",
      "model_name": "LayoutModel",
      "state": {
       "grid_area": "bottom-left"
      }
     },
     "8997e5b5f7a14256a62c87fa6dc8ed60": {
      "model_module": "@jupyter-widgets/controls",
      "model_module_version": "1.4.0",
      "model_name": "LinkModel",
      "state": {
       "source": [
        "IPY_MODEL_6e75f3c250b74904a7b2761e466af520",
        "max"
       ],
       "target": [
        "IPY_MODEL_d2cc51348e414851a3c1eb672b873f38",
        "value"
       ]
      }
     },
     "899dc4b0e12648ec8a4681aeca83bd63": {
      "model_module": "@jupyter-widgets/controls",
      "model_module_version": "1.4.0",
      "model_name": "ButtonStyleModel",
      "state": {}
     },
     "89ae3b8c25b747c199063cdb24890640": {
      "model_module": "@jupyter-widgets/controls",
      "model_module_version": "1.4.0",
      "model_name": "GridBoxModel",
      "state": {
       "children": [
        "IPY_MODEL_9c3043629aa946029d6cd03de1067204",
        "IPY_MODEL_af03975b03524da1b6983ca1a51f00a9",
        "IPY_MODEL_d51598261a814aceada6e129c0f2ec9e"
       ],
       "layout": "IPY_MODEL_73473e7fc5424ca2a6df7cc4e24bf546"
      }
     },
     "89b42f261196452a85cc4fee1a15b2bf": {
      "model_module": "@jupyter-widgets/controls",
      "model_module_version": "1.4.0",
      "model_name": "ButtonModel",
      "state": {
       "layout": "IPY_MODEL_2521694c55284f39815184d29b5fb5ba",
       "style": "IPY_MODEL_9ff2e2d93cfd4919a2d0dcb38ec8b864"
      }
     },
     "89bdef4ba65f4e8880d58b58792a66e6": {
      "model_module": "bqplot",
      "model_module_version": "^0.4.5",
      "model_name": "FigureModel",
      "state": {
       "_dom_classes": [],
       "axes": [
        "IPY_MODEL_e68f59d00099469596bdb29fb77b81b7",
        "IPY_MODEL_bdd872b05e8d437d85a791dba2386d90"
       ],
       "layout": "IPY_MODEL_750aa27a936e48628b9653bfb01f86df",
       "marks": [
        "IPY_MODEL_533cfe167dea4b808222ee6d2c574aba"
       ],
       "padding_x": 0.025,
       "scale_x": "IPY_MODEL_1ea5e78ed3034ff995c3d9161772341e",
       "scale_y": "IPY_MODEL_b8c1ae81528445dfa939b437065e9890"
      }
     },
     "89e5d6f8a128431b971798f505f8ae81": {
      "model_module": "bqplot",
      "model_module_version": "^0.4.5",
      "model_name": "OrdinalScaleModel",
      "state": {
       "domain": []
      }
     },
     "89e8dc3e4f7d403e89100df1b028a199": {
      "model_module": "@jupyter-widgets/controls",
      "model_module_version": "1.4.0",
      "model_name": "ButtonModel",
      "state": {
       "description": "Bottom right",
       "layout": "IPY_MODEL_3914a57f3a0d490783129a6092741b9f",
       "style": "IPY_MODEL_c9efe0f41f094cac968b5c91792cefb9"
      }
     },
     "8a1188f75cb54107b0b6ff8d384644ec": {
      "model_module": "@jupyter-widgets/controls",
      "model_module_version": "1.4.0",
      "model_name": "ButtonStyleModel",
      "state": {}
     },
     "8a4581186a724357904f5bdaaa023760": {
      "model_module": "@jupyter-widgets/controls",
      "model_module_version": "1.4.0",
      "model_name": "ButtonModel",
      "state": {
       "description": "Top right",
       "layout": "IPY_MODEL_49e1a2e389014513b07aa2df76e7533a",
       "style": "IPY_MODEL_407b72df2b1e4c99ab76bdd43af55298"
      }
     },
     "8a48fbfafd674e0692305a3776a068fb": {
      "model_module": "@jupyter-widgets/base",
      "model_module_version": "1.1.0",
      "model_name": "LayoutModel",
      "state": {
       "grid_template_areas": "\"top-left bottom-right\"\n\"bottom-left bottom-right\"",
       "grid_template_columns": "1fr 1fr",
       "grid_template_rows": "1fr 1fr",
       "width": "auto"
      }
     },
     "8a4be53d719f476987d9cffcfa14273e": {
      "model_module": "@jupyter-widgets/controls",
      "model_module_version": "1.4.0",
      "model_name": "LinkModel",
      "state": {
       "source": [
        "IPY_MODEL_c6d079d4275f4ebcb9351fbab0e62e14",
        "value"
       ],
       "target": [
        "IPY_MODEL_4ba9b42fffcb4a42bd3edbc700316877",
        "value"
       ]
      }
     },
     "8a52411d7ee942078b67d2b5bed899a9": {
      "model_module": "@jupyter-widgets/controls",
      "model_module_version": "1.4.0",
      "model_name": "IntTextModel",
      "state": {
       "layout": "IPY_MODEL_a0c64373df724f5caf2a83066c491a7f",
       "step": 1,
       "style": "IPY_MODEL_501e791ef38b4e25a427d4e20797d7dc",
       "value": 25
      }
     },
     "8a79db8bf445467e820a6116d761094e": {
      "model_module": "@jupyter-widgets/base",
      "model_module_version": "1.1.0",
      "model_name": "LayoutModel",
      "state": {
       "grid_area": "bottom-right"
      }
     },
     "8a7c520cea61414b85c18aef4b77f47e": {
      "model_module": "@jupyter-widgets/controls",
      "model_module_version": "1.4.0",
      "model_name": "ButtonModel",
      "state": {
       "description": "Top left",
       "layout": "IPY_MODEL_33c378c15ef848859880ed2fc2ed655e",
       "style": "IPY_MODEL_6e845b39f3064745ba1b551eec195446"
      }
     },
     "8aa80257bb244145a4b49194c4d179d5": {
      "model_module": "@jupyter-widgets/base",
      "model_module_version": "1.1.0",
      "model_name": "LayoutModel",
      "state": {
       "grid_template_areas": "\"top-left bottom-right\"\n\"bottom-left bottom-right\"",
       "grid_template_columns": "1fr 1fr",
       "grid_template_rows": "1fr 1fr",
       "width": "auto"
      }
     },
     "8ab1f756183d41c5bf769e5b9078213c": {
      "model_module": "@jupyter-widgets/base",
      "model_module_version": "1.1.0",
      "model_name": "LayoutModel",
      "state": {}
     },
     "8ad05ff90bf64e679490694cce2fc665": {
      "model_module": "@jupyter-widgets/base",
      "model_module_version": "1.1.0",
      "model_name": "LayoutModel",
      "state": {
       "grid_area": "bottom-right",
       "height": "100%"
      }
     },
     "8af0af04e0904fe0a069540625123aa1": {
      "model_module": "@jupyter-widgets/controls",
      "model_module_version": "1.4.0",
      "model_name": "ButtonModel",
      "state": {
       "description": "Top left",
       "layout": "IPY_MODEL_47bd1d88d9104fc6b3f932e0227da461",
       "style": "IPY_MODEL_7e4a4e73a16b4fc699141fe7feba5e17"
      }
     },
     "8af997834871482a880e9b57db60c1bb": {
      "model_module": "@jupyter-widgets/controls",
      "model_module_version": "1.4.0",
      "model_name": "GridBoxModel",
      "state": {
       "children": [
        "IPY_MODEL_3b00a3565e424c739b790e139db33d08",
        "IPY_MODEL_d47e4676837e4c318df876c9ba08b0f8",
        "IPY_MODEL_7dbb69a87d66475f8c06df987d8d222b",
        "IPY_MODEL_69e39de4e6024c2b8a276f2bc2fe2aa6"
       ],
       "layout": "IPY_MODEL_44572b5097ba40ed9639eda2e30f51ca"
      }
     },
     "8b1bc5c454f34320a0c59d6fbd242d04": {
      "model_module": "@jupyter-widgets/base",
      "model_module_version": "1.1.0",
      "model_name": "LayoutModel",
      "state": {
       "grid_template_areas": "\"top-left top-right\"\n\"bottom-left bottom-right\"",
       "grid_template_columns": "1fr 1fr",
       "grid_template_rows": "1fr 1fr"
      }
     },
     "8b299d264fd041d79424a380355596f0": {
      "model_module": "bqplot",
      "model_module_version": "^0.4.5",
      "model_name": "LinearScaleModel",
      "state": {
       "max": 1,
       "min": 0,
       "stabilized": false
      }
     },
     "8b78b89a314640eb8930299f5690a126": {
      "model_module": "@jupyter-widgets/controls",
      "model_module_version": "1.4.0",
      "model_name": "ButtonModel",
      "state": {
       "description": "Bottom right",
       "layout": "IPY_MODEL_c9acacf1aafa47efb6d4d5efece72bcf",
       "style": "IPY_MODEL_f7ff122dcc5443ae8f36cf3387998a2d"
      }
     },
     "8b8fd65b767b421d8ad40ade4abff6eb": {
      "model_module": "@jupyter-widgets/base",
      "model_module_version": "1.1.0",
      "model_name": "LayoutModel",
      "state": {
       "grid_template_areas": "\"top-left top-right\"\n\"bottom-left bottom-right\"",
       "grid_template_columns": "1fr 1fr",
       "grid_template_rows": "1fr 1fr",
       "width": "auto"
      }
     },
     "8b9b729ed10a4fa19cddbc80d9b1fecb": {
      "model_module": "@jupyter-widgets/controls",
      "model_module_version": "1.4.0",
      "model_name": "ButtonStyleModel",
      "state": {}
     },
     "8b9e4968a00e4aa4917012c4125c4231": {
      "model_module": "@jupyter-widgets/base",
      "model_module_version": "1.1.0",
      "model_name": "LayoutModel",
      "state": {
       "grid_area": "bottom-right",
       "height": "100%",
       "width": "auto"
      }
     },
     "8bb847f6dd104cf191ceecef6dd6f04d": {
      "model_module": "@jupyter-widgets/controls",
      "model_module_version": "1.4.0",
      "model_name": "ButtonStyleModel",
      "state": {}
     },
     "8bc1a5d794434505b7cf38f1e14d1648": {
      "model_module": "bqplot",
      "model_module_version": "^0.4.5",
      "model_name": "LinearScaleModel",
      "state": {
       "allow_padding": false,
       "max": 1,
       "min": 0,
       "stabilized": false
      }
     },
     "8bd6ed2ee7d2414eb7c73f6afb2c213e": {
      "model_module": "@jupyter-widgets/base",
      "model_module_version": "1.1.0",
      "model_name": "LayoutModel",
      "state": {
       "grid_template_areas": "\"top-left bottom-right\"\n\"bottom-left bottom-right\"",
       "grid_template_columns": "1fr 1fr",
       "grid_template_rows": "1fr 1fr",
       "width": "auto"
      }
     },
     "8c1e506481e0437088ca49e2e9b916c1": {
      "model_module": "bqplot",
      "model_module_version": "^0.4.5",
      "model_name": "AxisModel",
      "state": {
       "orientation": "vertical",
       "scale": "IPY_MODEL_30c5f3aee10d4a37affcb0f481f803a3",
       "side": "left",
       "tick_format": "0.2f",
       "tick_values": {
        "type": null,
        "values": null
       }
      }
     },
     "8c235a3c2bb1408bb7d2b5d57ab094cb": {
      "model_module": "@jupyter-widgets/controls",
      "model_module_version": "1.4.0",
      "model_name": "ButtonStyleModel",
      "state": {}
     },
     "8c4e73561f6648168a17666e6b44e85c": {
      "model_module": "@jupyter-widgets/base",
      "model_module_version": "1.1.0",
      "model_name": "LayoutModel",
      "state": {
       "grid_template_areas": "\"top-left bottom-right\"\n\"bottom-left bottom-right\"",
       "grid_template_columns": "1fr 1fr",
       "grid_template_rows": "1fr 1fr",
       "width": "auto"
      }
     },
     "8c527e341aff48eab8d31eee2f5dc33d": {
      "model_module": "bqplot",
      "model_module_version": "^0.4.5",
      "model_name": "LinearScaleModel",
      "state": {
       "allow_padding": false,
       "max": 1,
       "min": 0,
       "stabilized": false
      }
     },
     "8c5c937601f14319b88d8b61f7b312c2": {
      "model_module": "@jupyter-widgets/base",
      "model_module_version": "1.1.0",
      "model_name": "LayoutModel",
      "state": {}
     },
     "8c6ec03bccdf4d6b8c6368197f02f1a0": {
      "model_module": "@jupyter-widgets/controls",
      "model_module_version": "1.4.0",
      "model_name": "ButtonModel",
      "state": {
       "description": "Bottom right",
       "layout": "IPY_MODEL_4157f86eb2ca4cb9b13015e356561d2e",
       "style": "IPY_MODEL_ea97c3c33a184370a86b99342bdd7d5f"
      }
     },
     "8c7323c7f3a24eb49ab339651a1e252c": {
      "model_module": "@jupyter-widgets/controls",
      "model_module_version": "1.4.0",
      "model_name": "ButtonModel",
      "state": {
       "description": "Bottom left",
       "layout": "IPY_MODEL_dbbfbe17238748d9898bfb765dc1e7ce",
       "style": "IPY_MODEL_f81d18c903a04960ade884e2b7729931"
      }
     },
     "8c95841fd04846c197818ceda3bd2dcc": {
      "model_module": "@jupyter-widgets/controls",
      "model_module_version": "1.4.0",
      "model_name": "DescriptionStyleModel",
      "state": {
       "description_width": ""
      }
     },
     "8ccbd6975a08480ea54033ae519341fa": {
      "model_module": "@jupyter-widgets/controls",
      "model_module_version": "1.4.0",
      "model_name": "LinkModel",
      "state": {
       "source": [
        "IPY_MODEL_095910139dad4f27b4f76d9637d0dcb5",
        "min"
       ],
       "target": [
        "IPY_MODEL_0798b94265434067a7e6eb23279bc523",
        "value"
       ]
      }
     },
     "8ce0349478b5456e9fa1015d36003eed": {
      "model_module": "@jupyter-widgets/base",
      "model_module_version": "1.1.0",
      "model_name": "LayoutModel",
      "state": {
       "grid_area": "top-left",
       "width": "200px"
      }
     },
     "8ce34ee22f0645279bc5196c2d523309": {
      "model_module": "@jupyter-widgets/controls",
      "model_module_version": "1.4.0",
      "model_name": "FloatSliderModel",
      "state": {
       "description": "Max: ",
       "layout": "IPY_MODEL_c6c48dca0e3f447fac9ed4f895545ae2",
       "max": 10,
       "min": 1,
       "step": 0.1,
       "style": "IPY_MODEL_7c331ccaacf14457bce4c13a4cd25142",
       "value": 5.8
      }
     },
     "8ce8c00c5cf34fbb9c9abbef1f718617": {
      "model_module": "@jupyter-widgets/controls",
      "model_module_version": "1.4.0",
      "model_name": "ButtonStyleModel",
      "state": {}
     },
     "8cf5cc03707e42b3a358248644a6a807": {
      "model_module": "@jupyter-widgets/controls",
      "model_module_version": "1.4.0",
      "model_name": "ButtonStyleModel",
      "state": {}
     },
     "8d0e346c987a4682abb00539aad76596": {
      "model_module": "@jupyter-widgets/base",
      "model_module_version": "1.1.0",
      "model_name": "LayoutModel",
      "state": {
       "grid_area": "bottom-right",
       "height": "100%"
      }
     },
     "8d10a8f178ee4fcb9738c347e008ba77": {
      "model_module": "@jupyter-widgets/controls",
      "model_module_version": "1.4.0",
      "model_name": "DescriptionStyleModel",
      "state": {
       "description_width": ""
      }
     },
     "8d40679073dc4cba845b4682fdc0b626": {
      "model_module": "@jupyter-widgets/controls",
      "model_module_version": "1.4.0",
      "model_name": "ButtonModel",
      "state": {
       "description": "Bottom right",
       "layout": "IPY_MODEL_78e50733a7b2404b83b996c439ea462b",
       "style": "IPY_MODEL_cea2af44118b4e99986370e50019b340"
      }
     },
     "8d4c296dbbfc493faf2736f6f46dbbdf": {
      "model_module": "bqplot",
      "model_module_version": "^0.4.5",
      "model_name": "FigureModel",
      "state": {
       "_dom_classes": [],
       "axes": [
        "IPY_MODEL_7d2b273493c54cd0802a514cc682679d",
        "IPY_MODEL_8c1e506481e0437088ca49e2e9b916c1"
       ],
       "layout": "IPY_MODEL_a019a9b93d6140c4a7e5215975d4ac0b",
       "marks": [
        "IPY_MODEL_3cf88c0fc46a46a582eb717af855f4ae"
       ],
       "padding_x": 0.025,
       "scale_x": "IPY_MODEL_ea6f3522521e41fdbee92bc410505f3b",
       "scale_y": "IPY_MODEL_48df8d232e5e4704a14c2884773abf17"
      }
     },
     "8d608c740456491f897ba8cfb891a14b": {
      "model_module": "@jupyter-widgets/base",
      "model_module_version": "1.1.0",
      "model_name": "LayoutModel",
      "state": {
       "grid_area": "top-right"
      }
     },
     "8d6a9a429e21429ca851c328c3c7e732": {
      "model_module": "@jupyter-widgets/controls",
      "model_module_version": "1.4.0",
      "model_name": "ButtonStyleModel",
      "state": {}
     },
     "8d6ce8da0897488b81adf47a47b6c063": {
      "model_module": "@jupyter-widgets/controls",
      "model_module_version": "1.4.0",
      "model_name": "ButtonStyleModel",
      "state": {}
     },
     "8d9c43912b514d3fbeb63d01a3d160c6": {
      "model_module": "@jupyter-widgets/base",
      "model_module_version": "1.1.0",
      "model_name": "LayoutModel",
      "state": {
       "grid_area": "bottom-left"
      }
     },
     "8db8640dbf5c45c3ac0bb3868dd678c3": {
      "model_module": "bqplot",
      "model_module_version": "^0.4.5",
      "model_name": "OrdinalScaleModel",
      "state": {
       "domain": []
      }
     },
     "8dc48568bde64683bcdcbce4a88e7a0d": {
      "model_module": "@jupyter-widgets/base",
      "model_module_version": "1.1.0",
      "model_name": "LayoutModel",
      "state": {
       "grid_area": "top-left"
      }
     },
     "8dcc7d7e550644e992586159d9d31bb0": {
      "model_module": "@jupyter-widgets/base",
      "model_module_version": "1.1.0",
      "model_name": "LayoutModel",
      "state": {
       "grid_template_areas": "\"top-left top-right\"\n\"bottom-left bottom-right\"",
       "grid_template_columns": "1fr 1fr",
       "grid_template_rows": "1fr 1fr"
      }
     },
     "8dd407f9a7514ebcba16035b46b18929": {
      "model_module": "@jupyter-widgets/controls",
      "model_module_version": "1.4.0",
      "model_name": "ButtonModel",
      "state": {
       "description": "Bottom left",
       "layout": "IPY_MODEL_6eaf810764fa4142996895143a5073ee",
       "style": "IPY_MODEL_4ce08da2c9cd44d5ac0152b0304ba4b5"
      }
     },
     "8e0f5dd09b314ea59d77bd6d7105e2b5": {
      "model_module": "@jupyter-widgets/controls",
      "model_module_version": "1.4.0",
      "model_name": "SliderStyleModel",
      "state": {
       "description_width": ""
      }
     },
     "8e446494f91c4d46a45e6eda9b5b23ab": {
      "model_module": "@jupyter-widgets/base",
      "model_module_version": "1.1.0",
      "model_name": "LayoutModel",
      "state": {
       "grid_area": "bottom-left",
       "height": "20px",
       "width": "300px"
      }
     },
     "8e5191875ec44aa28070d9fb8458fcc4": {
      "model_module": "@jupyter-widgets/base",
      "model_module_version": "1.1.0",
      "model_name": "LayoutModel",
      "state": {
       "grid_area": "bottom-right"
      }
     },
     "8e7313d037fd4336a4912d17b1133ba0": {
      "model_module": "@jupyter-widgets/base",
      "model_module_version": "1.1.0",
      "model_name": "LayoutModel",
      "state": {
       "align_items": "center"
      }
     },
     "8eb4ea1409a24621b76ea49c3195699d": {
      "model_module": "@jupyter-widgets/controls",
      "model_module_version": "1.4.0",
      "model_name": "ButtonStyleModel",
      "state": {}
     },
     "8eda5e8f9ea249bab3825418caad5cdf": {
      "model_module": "@jupyter-widgets/base",
      "model_module_version": "1.1.0",
      "model_name": "LayoutModel",
      "state": {
       "grid_template_areas": "\"top-left bottom-right\"\n\"bottom-left bottom-right\"",
       "grid_template_columns": "1fr 1fr",
       "grid_template_rows": "1fr 1fr",
       "width": "auto"
      }
     },
     "8ef5955053be4e3e8b0bf7399995b945": {
      "model_module": "@jupyter-widgets/base",
      "model_module_version": "1.1.0",
      "model_name": "LayoutModel",
      "state": {
       "grid_area": "bottom-left"
      }
     },
     "8efe80488e9043ea950af59205fda148": {
      "model_module": "@jupyter-widgets/controls",
      "model_module_version": "1.4.0",
      "model_name": "GridBoxModel",
      "state": {
       "children": [
        "IPY_MODEL_74c61cb88cea448f9af2c009463940bb",
        "IPY_MODEL_50ef11babae84c52a64a17e23a7631db",
        "IPY_MODEL_0c8edbd09988451dbc8df3cd18fcf68b"
       ],
       "layout": "IPY_MODEL_ab22831ff56f4214b9ae812aef11ec1d"
      }
     },
     "8f052592e68c4c93a6c3b1956a3602aa": {
      "model_module": "@jupyter-widgets/controls",
      "model_module_version": "1.4.0",
      "model_name": "ButtonModel",
      "state": {
       "description": "Bottom left",
       "layout": "IPY_MODEL_7e5665a1608c42f8a93f58bb3484fba3",
       "style": "IPY_MODEL_569a6d00e7d541fba761383f5fc606c6"
      }
     },
     "8f21f72e8b5e465eb2acefa0a8595906": {
      "model_module": "@jupyter-widgets/controls",
      "model_module_version": "1.4.0",
      "model_name": "LinkModel",
      "state": {
       "source": [
        "IPY_MODEL_095910139dad4f27b4f76d9637d0dcb5",
        "max"
       ],
       "target": [
        "IPY_MODEL_6331cf5eae71443faca45fc927577321",
        "value"
       ]
      }
     },
     "8f3978e0968d4a518f58cceb4c6e3ded": {
      "model_module": "@jupyter-widgets/base",
      "model_module_version": "1.1.0",
      "model_name": "LayoutModel",
      "state": {
       "grid_template_areas": "\"top-left bottom-right\"\n\"bottom-left bottom-right\"",
       "grid_template_columns": "1fr 1fr",
       "grid_template_rows": "1fr 1fr",
       "width": "auto"
      }
     },
     "8f5384792c794f6b8acaed5a2fa9e064": {
      "model_module": "@jupyter-widgets/base",
      "model_module_version": "1.1.0",
      "model_name": "LayoutModel",
      "state": {
       "grid_template_areas": "\"top-left bottom-right\"\n\"bottom-left bottom-right\"",
       "grid_template_columns": "1fr 1fr",
       "grid_template_rows": "1fr 1fr",
       "width": "auto"
      }
     },
     "8f67444518854dba97a880db27dfb196": {
      "model_module": "@jupyter-widgets/controls",
      "model_module_version": "1.4.0",
      "model_name": "LinkModel",
      "state": {
       "source": [
        "IPY_MODEL_6a59c5555c244467b88fc030459fd1b9",
        "max"
       ],
       "target": [
        "IPY_MODEL_a3c93aa3765249ac82ca615120aea61c",
        "value"
       ]
      }
     },
     "8f86a15e3b174e3ab9806180801d1b2f": {
      "model_module": "@jupyter-widgets/controls",
      "model_module_version": "1.4.0",
      "model_name": "ButtonModel",
      "state": {
       "description": "Top left",
       "layout": "IPY_MODEL_872ff0053a7c4c8ca97ed18d105fa46d",
       "style": "IPY_MODEL_1c0e98064b4742a4924df73c95a104d8"
      }
     },
     "8fb7905b8e484938a0cd46d4757d6a97": {
      "model_module": "@jupyter-widgets/base",
      "model_module_version": "1.1.0",
      "model_name": "LayoutModel",
      "state": {
       "grid_template_areas": "\"top-left top-right\"\n\"bottom-left bottom-right\"",
       "grid_template_columns": "1fr 1fr",
       "grid_template_rows": "1fr 1fr",
       "width": "auto"
      }
     },
     "8fdf9ac70f754a4c9f6ecdd3d46a0ed3": {
      "model_module": "@jupyter-widgets/controls",
      "model_module_version": "1.4.0",
      "model_name": "GridBoxModel",
      "state": {
       "children": [
        "IPY_MODEL_08bb601521da486c9a9820ce46ec8918",
        "IPY_MODEL_15872ee60858425cbf8e7340f6be4bf7",
        "IPY_MODEL_775f58a2afe147bb84ea59d9054adfbc",
        "IPY_MODEL_a57b52a0bd714569a66647bc58c12516"
       ],
       "layout": "IPY_MODEL_e243cab7206d47769cc8bae8b6f4f7db"
      }
     },
     "9044e7930ee34e4faa3eb0e0594ac2f2": {
      "model_module": "@jupyter-widgets/base",
      "model_module_version": "1.1.0",
      "model_name": "LayoutModel",
      "state": {
       "grid_area": "top-left",
       "height": "20px",
       "width": "300px"
      }
     },
     "9045c5c0c7684c91a704e6a4080c886d": {
      "model_module": "@jupyter-widgets/base",
      "model_module_version": "1.1.0",
      "model_name": "LayoutModel",
      "state": {
       "grid_template_areas": "\"top-left top-right\"\n\"bottom-left bottom-right\"",
       "grid_template_columns": "1fr 1fr",
       "grid_template_rows": "1fr 1fr",
       "width": "auto"
      }
     },
     "90546e497c77472989fb526418b183e5": {
      "model_module": "@jupyter-widgets/controls",
      "model_module_version": "1.4.0",
      "model_name": "ButtonStyleModel",
      "state": {}
     },
     "908b5e548bba471bab11e1545d103edc": {
      "model_module": "@jupyter-widgets/controls",
      "model_module_version": "1.4.0",
      "model_name": "ButtonStyleModel",
      "state": {}
     },
     "90a7ae6a31504b7d999d8924564cc048": {
      "model_module": "@jupyter-widgets/controls",
      "model_module_version": "1.4.0",
      "model_name": "ButtonModel",
      "state": {
       "description": "Bottom right",
       "layout": "IPY_MODEL_f2ce0ac101214a27bd993480b11ccb1c",
       "style": "IPY_MODEL_86e5bec6ebca439f841d286a6fc5965d"
      }
     },
     "90af89b0c77746de9263f67adeecb4d2": {
      "model_module": "@jupyter-widgets/controls",
      "model_module_version": "1.4.0",
      "model_name": "GridBoxModel",
      "state": {
       "children": [
        "IPY_MODEL_5a2d2167b11c4c0d9b7daba1754e0747",
        "IPY_MODEL_06049c5976ea4452bc25c50ed2fc128e"
       ],
       "layout": "IPY_MODEL_d8f4a84af2fb4494843e424e68be35a2"
      }
     },
     "90dbb1b5a05e4a10b4004bbd57c6a1bf": {
      "model_module": "bqplot",
      "model_module_version": "^0.4.5",
      "model_name": "LinearScaleModel",
      "state": {
       "max": 1,
       "stabilized": false
      }
     },
     "90df2f39ec7548e692053de3633ac5c6": {
      "model_module": "@jupyter-widgets/controls",
      "model_module_version": "1.4.0",
      "model_name": "ButtonModel",
      "state": {
       "description": "Bottom left",
       "layout": "IPY_MODEL_e7c44e362490432087ba2c561a6cae89",
       "style": "IPY_MODEL_08b5556909c54da68c6c11922ca29c0d"
      }
     },
     "9144ba81ac8b4f26b509a3cb1c1dc4f2": {
      "model_module": "@jupyter-widgets/base",
      "model_module_version": "1.1.0",
      "model_name": "LayoutModel",
      "state": {
       "align_items": "center",
       "grid_template_areas": "\"top-left bottom-right\"\n\"bottom-left bottom-right\"",
       "grid_template_columns": "1fr 1fr",
       "grid_template_rows": "1fr 1fr",
       "height": "200px",
       "width": "80%"
      }
     },
     "914e79a85eb44da08bc2457d865880bf": {
      "model_module": "@jupyter-widgets/controls",
      "model_module_version": "1.4.0",
      "model_name": "ButtonStyleModel",
      "state": {}
     },
     "91573eb8e8254a3c92b176bc9080619d": {
      "model_module": "@jupyter-widgets/controls",
      "model_module_version": "1.4.0",
      "model_name": "ButtonStyleModel",
      "state": {}
     },
     "91893b1151c64559b7a5e6990fe8900e": {
      "model_module": "@jupyter-widgets/base",
      "model_module_version": "1.1.0",
      "model_name": "LayoutModel",
      "state": {
       "grid_area": "bottom-right"
      }
     },
     "918d5436841d4a3f831271e10bebe3fe": {
      "model_module": "@jupyter-widgets/base",
      "model_module_version": "1.1.0",
      "model_name": "LayoutModel",
      "state": {
       "grid_area": "bottom-right",
       "height": "100%"
      }
     },
     "91bbdf493da8482fae9b2fb84536d35b": {
      "model_module": "@jupyter-widgets/base",
      "model_module_version": "1.1.0",
      "model_name": "LayoutModel",
      "state": {
       "grid_template_areas": "\"top-left bottom-right\"\n\"bottom-left bottom-right\"",
       "grid_template_columns": "1fr 1fr",
       "grid_template_rows": "1fr 1fr",
       "width": "auto"
      }
     },
     "91cfba5885b84744a1af45f477938c20": {
      "model_module": "@jupyter-widgets/controls",
      "model_module_version": "1.4.0",
      "model_name": "SliderStyleModel",
      "state": {
       "description_width": ""
      }
     },
     "91d0211df2a84f0187985da454370431": {
      "model_module": "@jupyter-widgets/controls",
      "model_module_version": "1.4.0",
      "model_name": "LinkModel",
      "state": {
       "source": [
        "IPY_MODEL_750adc3de4564888a5eeee1aff47f592",
        "min"
       ],
       "target": [
        "IPY_MODEL_b1830432aae64b148fcb12531f5af162",
        "value"
       ]
      }
     },
     "91e25fd81e824dac93f9885ff7b168f8": {
      "model_module": "@jupyter-widgets/controls",
      "model_module_version": "1.4.0",
      "model_name": "FloatSliderModel",
      "state": {
       "layout": "IPY_MODEL_95ff84810fae42f4a986c228d3cd297c",
       "max": 10,
       "min": 1,
       "step": 0.1,
       "style": "IPY_MODEL_f12987418f1a4870a6a193b0ac11209c",
       "value": 1
      }
     },
     "91f90b8541a341dc91d49c58a64f5b30": {
      "model_module": "@jupyter-widgets/base",
      "model_module_version": "1.1.0",
      "model_name": "LayoutModel",
      "state": {
       "grid_area": "bottom-left"
      }
     },
     "92000f17224a4bcf99bad746d6d08568": {
      "model_module": "@jupyter-widgets/controls",
      "model_module_version": "1.4.0",
      "model_name": "ButtonStyleModel",
      "state": {}
     },
     "924d1ae84abb4ce19e887fb7e1c79414": {
      "model_module": "@jupyter-widgets/controls",
      "model_module_version": "1.4.0",
      "model_name": "ButtonStyleModel",
      "state": {}
     },
     "924e5e7430144d4987bdf46e1f9a9d6f": {
      "model_module": "bqplot",
      "model_module_version": "^0.4.5",
      "model_name": "LinearScaleModel",
      "state": {
       "allow_padding": false,
       "max": 1,
       "min": 0,
       "stabilized": false
      }
     },
     "926b22b1fc394d45b2af574e3033c0b6": {
      "model_module": "@jupyter-widgets/controls",
      "model_module_version": "1.4.0",
      "model_name": "SliderStyleModel",
      "state": {
       "description_width": ""
      }
     },
     "928ce68df3024fd785dbffb76d34f6f7": {
      "model_module": "@jupyter-widgets/base",
      "model_module_version": "1.1.0",
      "model_name": "LayoutModel",
      "state": {
       "grid_area": "bottom-left"
      }
     },
     "92948f2515634cf3b1f791df30da27dc": {
      "model_module": "@jupyter-widgets/controls",
      "model_module_version": "1.4.0",
      "model_name": "ButtonStyleModel",
      "state": {}
     },
     "929e97a8205440f3abea8db71539ca18": {
      "model_module": "@jupyter-widgets/base",
      "model_module_version": "1.1.0",
      "model_name": "LayoutModel",
      "state": {
       "grid_template_areas": "\"top-left bottom-right\"\n\"bottom-left bottom-right\"",
       "grid_template_columns": "1fr 1fr",
       "grid_template_rows": "1fr 1fr",
       "width": "auto"
      }
     },
     "92e29478b947410e8ff1d32cad8781ac": {
      "model_module": "bqplot",
      "model_module_version": "^0.4.5",
      "model_name": "LinearScaleModel",
      "state": {
       "allow_padding": false,
       "max": 1,
       "min": 0,
       "stabilized": false
      }
     },
     "93246c3677c04918b29a4b8f21260b73": {
      "model_module": "@jupyter-widgets/controls",
      "model_module_version": "1.4.0",
      "model_name": "FloatSliderModel",
      "state": {
       "layout": "IPY_MODEL_28fbc113b9f5469e89811401b260acaa",
       "max": 1,
       "step": 0.1,
       "style": "IPY_MODEL_2eddb3e5faf54a36a82a18bae896a9bb"
      }
     },
     "934b815b91be4592b116c7a1421631b6": {
      "model_module": "@jupyter-widgets/controls",
      "model_module_version": "1.4.0",
      "model_name": "FloatSliderModel",
      "state": {
       "layout": "IPY_MODEL_256253a1990b46ba899e654cc3a97776",
       "max": 10,
       "step": 0.1,
       "style": "IPY_MODEL_7fc6521221bc474ea3cf5bcca762f197",
       "value": 3.35
      }
     },
     "9357d23b258140229ef8e17b899fbbf9": {
      "model_module": "@jupyter-widgets/base",
      "model_module_version": "1.1.0",
      "model_name": "LayoutModel",
      "state": {
       "grid_area": "top-left"
      }
     },
     "938803e9849c4286b850ab3b885c723c": {
      "model_module": "@jupyter-widgets/controls",
      "model_module_version": "1.4.0",
      "model_name": "FloatSliderModel",
      "state": {
       "layout": "IPY_MODEL_2ae47f63293f4c40a7706ecf3056b907",
       "max": 1,
       "step": 0.1,
       "style": "IPY_MODEL_761f7a4a589c4ca69f43d05a7c8708df"
      }
     },
     "939c7a2d68404822b44aa0eca8e6f145": {
      "model_module": "@jupyter-widgets/base",
      "model_module_version": "1.1.0",
      "model_name": "LayoutModel",
      "state": {
       "grid_area": "top-left"
      }
     },
     "93a6da7c758c4d59880a47ecacbb5645": {
      "model_module": "bqplot",
      "model_module_version": "^0.4.5",
      "model_name": "BarsModel",
      "state": {
       "color": {
        "type": null,
        "values": null
       },
       "colors": [
        "steelblue"
       ],
       "display_legend": false,
       "scales": {
        "x": "IPY_MODEL_bcfd71f4cc834defaa4e6608dd339125",
        "y": "IPY_MODEL_762f980f76514085acce75f08dbffb92"
       },
       "selected": [],
       "x": {
        "type": "float",
        "values": [
         0,
         1,
         2,
         3,
         4,
         5,
         6,
         7,
         8,
         9
        ]
       },
       "y": {
        "type": "float",
        "values": [
         0.6288984390617004,
         0.3984342586196771,
         0.0627129520233457,
         0.42403225188984195,
         0.2586840668894077,
         0.8490383084285108,
         0.03330462654669619,
         0.9589827218634736,
         0.3553688484719296,
         0.3567068904025429
        ]
       }
      }
     },
     "93ccf53c444e47a4925190d3bd428c1f": {
      "model_module": "@jupyter-widgets/base",
      "model_module_version": "1.1.0",
      "model_name": "LayoutModel",
      "state": {
       "grid_area": "bottom-left"
      }
     },
     "94166f153132486eb5381a44331bc2b6": {
      "model_module": "@jupyter-widgets/base",
      "model_module_version": "1.1.0",
      "model_name": "LayoutModel",
      "state": {
       "grid_template_areas": "\"top-left bottom-right\"\n\"bottom-left bottom-right\"",
       "grid_template_columns": "1fr 1fr",
       "grid_template_rows": "1fr 1fr",
       "width": "auto"
      }
     },
     "946a655321984779ba255a91d24762a2": {
      "model_module": "@jupyter-widgets/base",
      "model_module_version": "1.1.0",
      "model_name": "LayoutModel",
      "state": {
       "grid_area": "bottom-right",
       "height": "100%"
      }
     },
     "946bbecebfde4b16be437148af01f64f": {
      "model_module": "@jupyter-widgets/controls",
      "model_module_version": "1.4.0",
      "model_name": "SliderStyleModel",
      "state": {
       "description_width": ""
      }
     },
     "948959a937c44a6c8fb51cc10aef0461": {
      "model_module": "@jupyter-widgets/controls",
      "model_module_version": "1.4.0",
      "model_name": "LinkModel",
      "state": {
       "source": [
        "IPY_MODEL_6cd2bf7eb9844f428c39f48eb079d333",
        "max"
       ],
       "target": [
        "IPY_MODEL_c2ab6e225c8445d3bc588cc2f92d6cd2",
        "value"
       ]
      }
     },
     "949a9333cc6c4fcea34e560aac348163": {
      "model_module": "@jupyter-widgets/base",
      "model_module_version": "1.1.0",
      "model_name": "LayoutModel",
      "state": {
       "grid_template_areas": "\"top-left top-right\"\n\"bottom-left bottom-right\"",
       "grid_template_columns": "1fr 1fr",
       "grid_template_rows": "1fr 1fr"
      }
     },
     "949e7dab48ac47b7aae6b6c1c2a0e0a6": {
      "model_module": "@jupyter-widgets/controls",
      "model_module_version": "1.4.0",
      "model_name": "SliderStyleModel",
      "state": {
       "description_width": ""
      }
     },
     "94bf54b2fffd40ea94a6e950f0ea3a07": {
      "model_module": "@jupyter-widgets/base",
      "model_module_version": "1.1.0",
      "model_name": "LayoutModel",
      "state": {
       "grid_area": "bottom-left",
       "height": "20px",
       "width": "200px"
      }
     },
     "94ef4aca1a124c14be9f0fb76ba55ab0": {
      "model_module": "@jupyter-widgets/controls",
      "model_module_version": "1.4.0",
      "model_name": "ButtonModel",
      "state": {
       "description": "Top left",
       "layout": "IPY_MODEL_a8c1c50515074f09a82c58d56d74d8ab",
       "style": "IPY_MODEL_d56809a1fe9c416da009d3c03c63bbfc"
      }
     },
     "94fb1d25aa6c437ea51ab3ceff3f9146": {
      "model_module": "@jupyter-widgets/controls",
      "model_module_version": "1.4.0",
      "model_name": "ButtonModel",
      "state": {
       "description": "Top right",
       "layout": "IPY_MODEL_89842cf2205c4b769013a5fd0ffd54a3",
       "style": "IPY_MODEL_62192dcd024c4f3aade5230c7542928d"
      }
     },
     "9508219e305346c893e569bea66f7ad7": {
      "model_module": "@jupyter-widgets/controls",
      "model_module_version": "1.4.0",
      "model_name": "LinkModel",
      "state": {
       "source": [
        "IPY_MODEL_fdf50f6f640a40119f041539d9342134",
        "value"
       ],
       "target": [
        "IPY_MODEL_6e18c32c535f4dcbb5bdc381a741437d",
        "value"
       ]
      }
     },
     "9513ed05b085445496c882741a4af5c7": {
      "model_module": "@jupyter-widgets/controls",
      "model_module_version": "1.4.0",
      "model_name": "SliderStyleModel",
      "state": {
       "description_width": ""
      }
     },
     "95284156a78e4128bb6d46e35afd1954": {
      "model_module": "@jupyter-widgets/base",
      "model_module_version": "1.1.0",
      "model_name": "LayoutModel",
      "state": {
       "grid_area": "bottom-left"
      }
     },
     "9536e57aee6b4a9d82d611d24c71bb66": {
      "model_module": "@jupyter-widgets/controls",
      "model_module_version": "1.4.0",
      "model_name": "ButtonStyleModel",
      "state": {}
     },
     "954df58bf5964c8d8efb709000f62168": {
      "model_module": "@jupyter-widgets/controls",
      "model_module_version": "1.4.0",
      "model_name": "FloatSliderModel",
      "state": {
       "layout": "IPY_MODEL_ec0abe531fb5491ab8df93e27db9f1f3",
       "max": 1,
       "step": 0.1,
       "style": "IPY_MODEL_cc63fa2a4a6a4405b0fa318666ddafc8"
      }
     },
     "95705317bbfd4a40975831868f018a9a": {
      "model_module": "@jupyter-widgets/controls",
      "model_module_version": "1.4.0",
      "model_name": "GridBoxModel",
      "state": {
       "children": [
        "IPY_MODEL_4bef58c9bf2c4d5ca8517486607192f1",
        "IPY_MODEL_277fc6c059c348f2b513ec1a65e5590c",
        "IPY_MODEL_074af9c2107f40159d1ca9cd38cb6cab"
       ],
       "layout": "IPY_MODEL_2eab607ba03045af98e5acac7e44cbae"
      }
     },
     "957133507aa84139abd3e430b6702ca7": {
      "model_module": "@jupyter-widgets/controls",
      "model_module_version": "1.4.0",
      "model_name": "FloatSliderModel",
      "state": {
       "layout": "IPY_MODEL_99b0222015b745fab9808eb60e21ca17",
       "max": 10,
       "min": 1,
       "step": 0.1,
       "style": "IPY_MODEL_3a262f68fc2841a9aacf6d30f6116a68",
       "value": 1
      }
     },
     "957725ccff29484688bf99d4f0311534": {
      "model_module": "@jupyter-widgets/base",
      "model_module_version": "1.1.0",
      "model_name": "LayoutModel",
      "state": {
       "grid_area": "bottom-left"
      }
     },
     "95803f7d885e43699effb575b0652dbc": {
      "model_module": "@jupyter-widgets/base",
      "model_module_version": "1.1.0",
      "model_name": "LayoutModel",
      "state": {
       "grid_area": "bottom-left"
      }
     },
     "958269fa082044ae891c3dce6c20bc2f": {
      "model_module": "@jupyter-widgets/controls",
      "model_module_version": "1.4.0",
      "model_name": "SliderStyleModel",
      "state": {
       "description_width": ""
      }
     },
     "95c031a144c2478ba44d32eb7c840019": {
      "model_module": "@jupyter-widgets/base",
      "model_module_version": "1.1.0",
      "model_name": "LayoutModel",
      "state": {
       "grid_template_areas": "\"top-left top-right\"\n\"bottom-left bottom-right\"",
       "grid_template_columns": "1fr 1fr",
       "grid_template_rows": "1fr 1fr"
      }
     },
     "95c1dd984af449f3824e36c1ba8eb0de": {
      "model_module": "@jupyter-widgets/controls",
      "model_module_version": "1.4.0",
      "model_name": "ButtonModel",
      "state": {
       "description": "Bottom left",
       "layout": "IPY_MODEL_c3e354173e9341739c1c8943e2b4ae9a",
       "style": "IPY_MODEL_d415401d082f43c5b3b5e11321e559ea"
      }
     },
     "95d3ae30208d48df80865f6028bd8f2a": {
      "model_module": "@jupyter-widgets/base",
      "model_module_version": "1.1.0",
      "model_name": "LayoutModel",
      "state": {
       "grid_template_areas": "\"top-left top-right\"\n\"bottom-left bottom-right\"",
       "grid_template_columns": "1fr 1fr",
       "grid_template_rows": "1fr 1fr",
       "width": "auto"
      }
     },
     "95fc159c07194e4baf33d53825960431": {
      "model_module": "@jupyter-widgets/controls",
      "model_module_version": "1.4.0",
      "model_name": "IntSliderModel",
      "state": {
       "layout": "IPY_MODEL_4dba5fcfaba544b296f50034f312a688",
       "style": "IPY_MODEL_fe0a322eaeea424b82608cdcd4a0f3f7",
       "value": 30
      }
     },
     "95ff84810fae42f4a986c228d3cd297c": {
      "model_module": "@jupyter-widgets/base",
      "model_module_version": "1.1.0",
      "model_name": "LayoutModel",
      "state": {
       "grid_area": "bottom-left",
       "width": "200px"
      }
     },
     "961c8b284ece46159144eb1b7c56f94e": {
      "model_module": "@jupyter-widgets/controls",
      "model_module_version": "1.4.0",
      "model_name": "LinkModel",
      "state": {
       "source": [
        "IPY_MODEL_820f40885b1d4781a4e4abd39ead9b69",
        "min"
       ],
       "target": [
        "IPY_MODEL_f5de289f9fe240f8b2313806ad1b1bea",
        "value"
       ]
      }
     },
     "964e6a38f14d413ba2e803c3eebb010b": {
      "model_module": "@jupyter-widgets/controls",
      "model_module_version": "1.4.0",
      "model_name": "GridBoxModel",
      "state": {
       "children": [
        "IPY_MODEL_b11d97af58584a01a0c670f17d21601c",
        "IPY_MODEL_f235e4987f734bd49661fffca8f1c684",
        "IPY_MODEL_b6772be24add40b3ad046162ef893b29",
        "IPY_MODEL_95fc159c07194e4baf33d53825960431"
       ],
       "layout": "IPY_MODEL_778127c1c7eb456eafdffb0a483d6e2c"
      }
     },
     "966ff5b8247e4b05b9ce2aad2e699892": {
      "model_module": "@jupyter-widgets/base",
      "model_module_version": "1.1.0",
      "model_name": "LayoutModel",
      "state": {
       "grid_template_areas": "\"top-left bottom-right\"\n\"bottom-left bottom-right\"",
       "grid_template_columns": "1fr 1fr",
       "grid_template_rows": "1fr 1fr",
       "width": "auto"
      }
     },
     "96807eb7707343698cf50c4041de8dff": {
      "model_module": "@jupyter-widgets/controls",
      "model_module_version": "1.4.0",
      "model_name": "LinkModel",
      "state": {
       "source": [
        "IPY_MODEL_d7bf3bfe9756442180c12ce6a1512b4a",
        "value"
       ],
       "target": [
        "IPY_MODEL_55620078befc47aebc40fca77810f90f",
        "value"
       ]
      }
     },
     "968de4dad254485ca2fc79223864f74c": {
      "model_module": "@jupyter-widgets/controls",
      "model_module_version": "1.4.0",
      "model_name": "DescriptionStyleModel",
      "state": {
       "description_width": ""
      }
     },
     "9743c8b154164feeb7b4e291efd9dfc6": {
      "model_module": "@jupyter-widgets/base",
      "model_module_version": "1.1.0",
      "model_name": "LayoutModel",
      "state": {
       "grid_area": "bottom-left",
       "height": "auto",
       "width": "200px"
      }
     },
     "978317c961834d45bf8f3a7e5c06c9e6": {
      "model_module": "@jupyter-widgets/controls",
      "model_module_version": "1.4.0",
      "model_name": "ButtonStyleModel",
      "state": {}
     },
     "978359687c6e4076a138af1df152e617": {
      "model_module": "@jupyter-widgets/controls",
      "model_module_version": "1.4.0",
      "model_name": "ButtonModel",
      "state": {
       "description": "Bottom right",
       "layout": "IPY_MODEL_c2d8bbf0890a4dc286769c75dd064f43",
       "style": "IPY_MODEL_e73b5d898b4f4ef2a1bd94c43bfec51f"
      }
     },
     "978f0f0e29154aec9e6daf063d49e6c3": {
      "model_module": "@jupyter-widgets/base",
      "model_module_version": "1.1.0",
      "model_name": "LayoutModel",
      "state": {
       "grid_area": "bottom-right",
       "height": "auto",
       "width": "100%"
      }
     },
     "97a6e8121db14a009551d5b488ec6f9d": {
      "model_module": "@jupyter-widgets/controls",
      "model_module_version": "1.4.0",
      "model_name": "LinkModel",
      "state": {
       "source": [
        "IPY_MODEL_675e508065eb411d9459bee5d03b3d25",
        "min"
       ],
       "target": [
        "IPY_MODEL_58f7311e80c14398ba490311db637cee",
        "value"
       ]
      }
     },
     "97ee988017a840dca60e65ba3eb498fe": {
      "model_module": "@jupyter-widgets/controls",
      "model_module_version": "1.4.0",
      "model_name": "ButtonStyleModel",
      "state": {}
     },
     "97fb6ded9d20418394be267f5ca7ff3a": {
      "model_module": "@jupyter-widgets/base",
      "model_module_version": "1.1.0",
      "model_name": "LayoutModel",
      "state": {
       "grid_area": "bottom-left"
      }
     },
     "980eddda60034a8d8ff2a1c0736787b7": {
      "model_module": "@jupyter-widgets/controls",
      "model_module_version": "1.4.0",
      "model_name": "IntSliderModel",
      "state": {
       "layout": "IPY_MODEL_d54f4f4110234ff3a9302f8ea2d5a9bc",
       "style": "IPY_MODEL_e5f7cce029ae4fbcb9de88bd8fed3322",
       "value": 25
      }
     },
     "981b2aa30fea448187bf19a9be146ea2": {
      "model_module": "@jupyter-widgets/base",
      "model_module_version": "1.1.0",
      "model_name": "LayoutModel",
      "state": {
       "grid_template_areas": "\"top-left bottom-right\"\n\"bottom-left bottom-right\"",
       "grid_template_columns": "1fr 1fr",
       "grid_template_rows": "1fr 1fr",
       "width": "auto"
      }
     },
     "98262e9f92f44a7f90862be95bb0aa54": {
      "model_module": "@jupyter-widgets/controls",
      "model_module_version": "1.4.0",
      "model_name": "ButtonModel",
      "state": {
       "description": "Top left",
       "layout": "IPY_MODEL_6ec5901eead24a61b8822983767627cf",
       "style": "IPY_MODEL_be30291a006d4e4186abb2bee79c92da"
      }
     },
     "98316b3c3210448a972ad8f4b85b39c2": {
      "model_module": "@jupyter-widgets/base",
      "model_module_version": "1.1.0",
      "model_name": "LayoutModel",
      "state": {
       "grid_template_areas": "\"top-left top-right\"\n\"bottom-left bottom-right\"",
       "grid_template_columns": "1fr 1fr",
       "grid_template_rows": "1fr 1fr",
       "width": "auto"
      }
     },
     "983b171b4f9349e2a00210bbda38c2cf": {
      "model_module": "@jupyter-widgets/controls",
      "model_module_version": "1.4.0",
      "model_name": "SliderStyleModel",
      "state": {
       "description_width": ""
      }
     },
     "98aa2052bb8241b6bc3e863da36695a4": {
      "model_module": "@jupyter-widgets/controls",
      "model_module_version": "1.4.0",
      "model_name": "ButtonModel",
      "state": {
       "description": "Bottom right",
       "layout": "IPY_MODEL_46e71b6d7f3b44f18d53d53714fa3d75",
       "style": "IPY_MODEL_f3feadedec5c4e85a6a99aa5709be30e"
      }
     },
     "98ad048de6d64565a8eac780474b4d74": {
      "model_module": "@jupyter-widgets/controls",
      "model_module_version": "1.4.0",
      "model_name": "ButtonStyleModel",
      "state": {}
     },
     "98bfa97edaf149fb95f4f0c23fd8de28": {
      "model_module": "@jupyter-widgets/controls",
      "model_module_version": "1.4.0",
      "model_name": "ButtonStyleModel",
      "state": {}
     },
     "98ef7dd5fbcd4979a8e4d829e7f87f13": {
      "model_module": "@jupyter-widgets/base",
      "model_module_version": "1.1.0",
      "model_name": "LayoutModel",
      "state": {
       "grid_template_areas": "\"top-left top-left\"\n\"bottom-left bottom-left\"",
       "grid_template_columns": "1fr 1fr",
       "grid_template_rows": "1fr 1fr",
       "width": "auto"
      }
     },
     "98fd7c3fc9574a4e9d6eb7666027fa59": {
      "model_module": "bqplot",
      "model_module_version": "^0.4.5",
      "model_name": "LinearScaleModel",
      "state": {
       "allow_padding": false,
       "max": 1,
       "min": 0,
       "stabilized": false
      }
     },
     "9931629347804dd89a41c1a361706792": {
      "model_module": "@jupyter-widgets/base",
      "model_module_version": "1.1.0",
      "model_name": "LayoutModel",
      "state": {
       "grid_template_areas": "\"top-left bottom-right\"\n\"bottom-left bottom-right\"",
       "grid_template_columns": "1fr 1fr",
       "grid_template_rows": "1fr 1fr",
       "width": "auto"
      }
     },
     "9940c6c7125e447e8b08dfe17b7196b7": {
      "model_module": "@jupyter-widgets/base",
      "model_module_version": "1.1.0",
      "model_name": "LayoutModel",
      "state": {
       "grid_area": "bottom-right",
       "height": "100%"
      }
     },
     "9953931383bf4c12ba632d5814e5e167": {
      "model_module": "@jupyter-widgets/controls",
      "model_module_version": "1.4.0",
      "model_name": "GridBoxModel",
      "state": {
       "children": [
        "IPY_MODEL_8af0af04e0904fe0a069540625123aa1",
        "IPY_MODEL_cbb78282ec2b489fa9d47150d8b2c971",
        "IPY_MODEL_1596b5bb3e7d46ffa2d82183d95bcdaa"
       ],
       "layout": "IPY_MODEL_222e0515eec44cb99dd30f8615e8edd4"
      }
     },
     "9957130949964db28f17d744e34adb8a": {
      "model_module": "@jupyter-widgets/base",
      "model_module_version": "1.1.0",
      "model_name": "LayoutModel",
      "state": {
       "grid_area": "bottom-right"
      }
     },
     "9977a94c6abe45d685a1d715089520e9": {
      "model_module": "@jupyter-widgets/base",
      "model_module_version": "1.1.0",
      "model_name": "LayoutModel",
      "state": {
       "grid_area": "top-left"
      }
     },
     "99b0222015b745fab9808eb60e21ca17": {
      "model_module": "@jupyter-widgets/base",
      "model_module_version": "1.1.0",
      "model_name": "LayoutModel",
      "state": {
       "grid_area": "bottom-left",
       "width": "200px"
      }
     },
     "99de25e8588a4d7fbf705eeed099b8b5": {
      "model_module": "@jupyter-widgets/base",
      "model_module_version": "1.1.0",
      "model_name": "LayoutModel",
      "state": {
       "grid_area": "top-left",
       "height": "20px",
       "width": "300px"
      }
     },
     "99f33277cd4f4b0b8dd58907dfb8c11c": {
      "model_module": "@jupyter-widgets/controls",
      "model_module_version": "1.4.0",
      "model_name": "ButtonModel",
      "state": {
       "description": "Top right",
       "layout": "IPY_MODEL_d93b3d7653ca42ee80a53803a4924235",
       "style": "IPY_MODEL_aeb52b5cef104082b9db29fbc8a8b013"
      }
     },
     "9a05a47284954a5398f87ef866f354c4": {
      "model_module": "@jupyter-widgets/base",
      "model_module_version": "1.1.0",
      "model_name": "LayoutModel",
      "state": {
       "grid_area": "top-left"
      }
     },
     "9a164412db2742b39dae47681b5a951f": {
      "model_module": "@jupyter-widgets/base",
      "model_module_version": "1.1.0",
      "model_name": "LayoutModel",
      "state": {
       "grid_area": "bottom-left"
      }
     },
     "9a17b0e00cba4b2ea1c7e6246e9e132c": {
      "model_module": "@jupyter-widgets/base",
      "model_module_version": "1.1.0",
      "model_name": "LayoutModel",
      "state": {
       "grid_template_areas": "\"top-left bottom-right\"\n\"bottom-left bottom-right\"",
       "grid_template_columns": "1fr 1fr",
       "grid_template_rows": "1fr 1fr",
       "width": "auto"
      }
     },
     "9a57b8b21fe845e8abc8ccb00d5f17b9": {
      "model_module": "@jupyter-widgets/controls",
      "model_module_version": "1.4.0",
      "model_name": "ButtonModel",
      "state": {
       "description": "Bottom right",
       "layout": "IPY_MODEL_946a655321984779ba255a91d24762a2",
       "style": "IPY_MODEL_f8099754143a4a5a90d580d42dd3b3bd"
      }
     },
     "9a5e6c50d6b74b238c5517eceb3b80e1": {
      "model_module": "@jupyter-widgets/base",
      "model_module_version": "1.1.0",
      "model_name": "LayoutModel",
      "state": {
       "grid_area": "bottom-right"
      }
     },
     "9a6725178f29445f8421a130c8eea85a": {
      "model_module": "@jupyter-widgets/base",
      "model_module_version": "1.1.0",
      "model_name": "LayoutModel",
      "state": {
       "grid_area": "bottom-left"
      }
     },
     "9a6fca215288441c896d4b9854c85563": {
      "model_module": "@jupyter-widgets/base",
      "model_module_version": "1.1.0",
      "model_name": "LayoutModel",
      "state": {
       "grid_area": "bottom-left"
      }
     },
     "9a8f08eb8d3744e99c65cdaedf19dfb8": {
      "model_module": "@jupyter-widgets/controls",
      "model_module_version": "1.4.0",
      "model_name": "ButtonStyleModel",
      "state": {}
     },
     "9ac6648d6524492da70992d5c6f90886": {
      "model_module": "@jupyter-widgets/base",
      "model_module_version": "1.1.0",
      "model_name": "LayoutModel",
      "state": {
       "grid_area": "top-left"
      }
     },
     "9af6fe0d0a8d466c95a738f56c1d04ff": {
      "model_module": "@jupyter-widgets/controls",
      "model_module_version": "1.4.0",
      "model_name": "ButtonModel",
      "state": {
       "description": "Top left",
       "layout": "IPY_MODEL_d73777f4a9c34e499e38bfff31ef1fa4",
       "style": "IPY_MODEL_5aa86e793588445fa2c6bc9bbc9c9524"
      }
     },
     "9b0be89660144710a836f7e3a52173c6": {
      "model_module": "bqplot",
      "model_module_version": "^0.4.5",
      "model_name": "LinearScaleModel",
      "state": {
       "max": 10,
       "min": 1,
       "stabilized": false
      }
     },
     "9b1907e439664d959fdccfb85af23189": {
      "model_module": "@jupyter-widgets/controls",
      "model_module_version": "1.4.0",
      "model_name": "ButtonStyleModel",
      "state": {}
     },
     "9b6e6958e3cf4c47995a6a637e2a0c35": {
      "model_module": "@jupyter-widgets/base",
      "model_module_version": "1.1.0",
      "model_name": "LayoutModel",
      "state": {
       "grid_template_areas": "\"top-left top-right\"\n\"bottom-left bottom-right\"",
       "grid_template_columns": "1fr 1fr",
       "grid_template_rows": "1fr 1fr",
       "width": "auto"
      }
     },
     "9b79f206526b43f894afa6ceb79b77bd": {
      "model_module": "bqplot",
      "model_module_version": "^0.4.5",
      "model_name": "LinearScaleModel",
      "state": {
       "allow_padding": false,
       "max": 1,
       "min": 0,
       "stabilized": false
      }
     },
     "9b80cd56958b47629adf1417084d457f": {
      "model_module": "@jupyter-widgets/controls",
      "model_module_version": "1.4.0",
      "model_name": "GridBoxModel",
      "state": {
       "children": [
        "IPY_MODEL_9e411bbb96de4e41bf8139bb6277898f",
        "IPY_MODEL_250df06dd0424807bcc25839a065307a",
        "IPY_MODEL_074af9c2107f40159d1ca9cd38cb6cab"
       ],
       "layout": "IPY_MODEL_821f668def244c928d093c6ec1d9f607"
      }
     },
     "9b9048abc96348babd5fccaf82962824": {
      "model_module": "@jupyter-widgets/base",
      "model_module_version": "1.1.0",
      "model_name": "LayoutModel",
      "state": {
       "grid_area": "top-left"
      }
     },
     "9bd8c6ca33d04a69995e813655006e32": {
      "model_module": "@jupyter-widgets/base",
      "model_module_version": "1.1.0",
      "model_name": "LayoutModel",
      "state": {
       "grid_template_areas": "\"top-left bottom-right\"\n\"bottom-left bottom-right\"",
       "grid_template_columns": "1fr 1fr",
       "grid_template_rows": "1fr 1fr",
       "width": "auto"
      }
     },
     "9be0cbac87c44bc1b67c384bbe7c7f5e": {
      "model_module": "@jupyter-widgets/controls",
      "model_module_version": "1.4.0",
      "model_name": "IntTextModel",
      "state": {
       "layout": "IPY_MODEL_e614dad3c2a147dcac39b48f39e8a3ed",
       "step": 1,
       "style": "IPY_MODEL_00ca129c96574ed4932769a490bd2f5e"
      }
     },
     "9be469e2d82d4f178a37f3a4d5ac1921": {
      "model_module": "@jupyter-widgets/controls",
      "model_module_version": "1.4.0",
      "model_name": "IntTextModel",
      "state": {
       "layout": "IPY_MODEL_63e41c5128604993a2113b94c92525ae",
       "step": 1,
       "style": "IPY_MODEL_8c95841fd04846c197818ceda3bd2dcc"
      }
     },
     "9bfb7d6268294b46bd0b5449fa06baf6": {
      "model_module": "@jupyter-widgets/controls",
      "model_module_version": "1.4.0",
      "model_name": "LinkModel",
      "state": {
       "source": [
        "IPY_MODEL_10c007e416fc401c992766c9a7f55cca",
        "max"
       ],
       "target": [
        "IPY_MODEL_89425658b7c84114b02ea3b508a71b5e",
        "value"
       ]
      }
     },
     "9c0ad52a00574229a6e47d00a26a61a1": {
      "model_module": "@jupyter-widgets/controls",
      "model_module_version": "1.4.0",
      "model_name": "ButtonStyleModel",
      "state": {}
     },
     "9c0f2729e061455bba706683f4b1d2b4": {
      "model_module": "@jupyter-widgets/base",
      "model_module_version": "1.1.0",
      "model_name": "LayoutModel",
      "state": {
       "grid_area": "bottom-left"
      }
     },
     "9c3043629aa946029d6cd03de1067204": {
      "model_module": "@jupyter-widgets/controls",
      "model_module_version": "1.4.0",
      "model_name": "FloatSliderModel",
      "state": {
       "description": "Min: ",
       "layout": "IPY_MODEL_ff586aef2ac946649c8185f68fab7c75",
       "max": 2.8,
       "step": 0.1,
       "style": "IPY_MODEL_2abe2c66cc7446c3896c3ded568c525c"
      }
     },
     "9c7ee503924846e7bf7d95b36d41b77b": {
      "model_module": "@jupyter-widgets/base",
      "model_module_version": "1.1.0",
      "model_name": "LayoutModel",
      "state": {
       "grid_template_areas": "\"top-left bottom-right\"\n\"bottom-left bottom-right\"",
       "grid_template_columns": "1fr 1fr",
       "grid_template_rows": "1fr 1fr",
       "width": "auto"
      }
     },
     "9cd62ee742c5482ca827e90d9b475014": {
      "model_module": "@jupyter-widgets/controls",
      "model_module_version": "1.4.0",
      "model_name": "ButtonStyleModel",
      "state": {}
     },
     "9ce13ba876684c5888562d038222ccef": {
      "model_module": "@jupyter-widgets/controls",
      "model_module_version": "1.4.0",
      "model_name": "ButtonModel",
      "state": {
       "description": "Bottom left",
       "layout": "IPY_MODEL_7c6ec8a567904b8f814672d837f4cab3",
       "style": "IPY_MODEL_36e7d0fc594e4d3ab6d790594a76e9a0"
      }
     },
     "9ce7c65611154f52b5bbdb89e8f75fe5": {
      "model_module": "@jupyter-widgets/controls",
      "model_module_version": "1.4.0",
      "model_name": "ButtonModel",
      "state": {
       "description": "Bottom left",
       "layout": "IPY_MODEL_73b05fbe8daa40e199bec64b11296506",
       "style": "IPY_MODEL_2fb6d3f771f74d5489b423ac6f8baa43"
      }
     },
     "9d0385ce65004ae68f26f9789916a3e7": {
      "model_module": "@jupyter-widgets/controls",
      "model_module_version": "1.4.0",
      "model_name": "ButtonModel",
      "state": {
       "description": "Top left",
       "layout": "IPY_MODEL_6b1cae079b624093befe799d7b9f0f62",
       "style": "IPY_MODEL_fef5962366f4498d8bbdbdfc23a4b45c"
      }
     },
     "9d197d997a7948c68970a213870e6c43": {
      "model_module": "bqplot",
      "model_module_version": "^0.4.5",
      "model_name": "OrdinalScaleModel",
      "state": {
       "domain": []
      }
     },
     "9d260d11946e4ff38dcf04ee5e310af5": {
      "model_module": "@jupyter-widgets/controls",
      "model_module_version": "1.4.0",
      "model_name": "ButtonModel",
      "state": {
       "description": "Bottom left",
       "layout": "IPY_MODEL_e8bcf26cf6a04d66a676921fea5b800b",
       "style": "IPY_MODEL_26f697413df44aa5bf38f8652bf15de8"
      }
     },
     "9d26d976d715420e80a5ef094f25638c": {
      "model_module": "@jupyter-widgets/controls",
      "model_module_version": "1.4.0",
      "model_name": "GridBoxModel",
      "state": {
       "children": [
        "IPY_MODEL_93246c3677c04918b29a4b8f21260b73",
        "IPY_MODEL_d2cc51348e414851a3c1eb672b873f38",
        "IPY_MODEL_54721cf760804b1786b1fdebcf6c58d9"
       ],
       "layout": "IPY_MODEL_9144ba81ac8b4f26b509a3cb1c1dc4f2"
      }
     },
     "9d442734f00a4416a0304284c80d4ddb": {
      "model_module": "@jupyter-widgets/controls",
      "model_module_version": "1.4.0",
      "model_name": "ButtonStyleModel",
      "state": {}
     },
     "9d548e68c0114e7d88a0b8ab84478a80": {
      "model_module": "@jupyter-widgets/base",
      "model_module_version": "1.1.0",
      "model_name": "LayoutModel",
      "state": {
       "grid_area": "top-right"
      }
     },
     "9d8cfa79e4cc4e0193f630145415dff5": {
      "model_module": "@jupyter-widgets/base",
      "model_module_version": "1.1.0",
      "model_name": "LayoutModel",
      "state": {
       "grid_area": "top-left"
      }
     },
     "9dedbe99b3f04eee9be06c92e2b22617": {
      "model_module": "@jupyter-widgets/controls",
      "model_module_version": "1.4.0",
      "model_name": "ButtonStyleModel",
      "state": {}
     },
     "9df05a82e1b94ceabd023162ab64ada6": {
      "model_module": "@jupyter-widgets/base",
      "model_module_version": "1.1.0",
      "model_name": "LayoutModel",
      "state": {
       "align_items": "center",
       "grid_template_areas": "\"top-left bottom-right\"\n\"bottom-left bottom-right\"",
       "grid_template_columns": "1fr 1fr",
       "grid_template_rows": "1fr 1fr",
       "height": "300px",
       "width": "80%"
      }
     },
     "9df2331d9e394dd5b4fa193cf2825f68": {
      "model_module": "@jupyter-widgets/base",
      "model_module_version": "1.1.0",
      "model_name": "LayoutModel",
      "state": {
       "grid_template_areas": "\"top-left bottom-right\"\n\"bottom-left bottom-right\"",
       "grid_template_columns": "1fr 1fr",
       "grid_template_rows": "1fr 1fr",
       "width": "auto"
      }
     },
     "9dff20bdb7b4426c9a4cdfd8fa9efcdd": {
      "model_module": "@jupyter-widgets/controls",
      "model_module_version": "1.4.0",
      "model_name": "FloatSliderModel",
      "state": {
       "description": "Min: ",
       "layout": "IPY_MODEL_dac99785b53f49a3aa5ee0de24d87fff",
       "max": 5.8,
       "step": 0.1,
       "style": "IPY_MODEL_2a2ceb6d1ac5451e960f14cf8cc2ee9d",
       "value": 1
      }
     },
     "9e2f8b17a00e4fc6a1a4f812180b75e4": {
      "model_module": "@jupyter-widgets/controls",
      "model_module_version": "1.4.0",
      "model_name": "GridBoxModel",
      "state": {
       "children": [
        "IPY_MODEL_585c3edf491f44489c50209d2b755a18",
        "IPY_MODEL_fababee59c814a2a94eb3ba5fd07ef7c",
        "IPY_MODEL_e36b3e73f7374de5a50141c5cf21a0c6",
        "IPY_MODEL_e0695b82e4bb4cb88de67b296c1681a5"
       ],
       "layout": "IPY_MODEL_267db6c64ec644c8b4887c430e636b9b"
      }
     },
     "9e411bbb96de4e41bf8139bb6277898f": {
      "model_module": "@jupyter-widgets/controls",
      "model_module_version": "1.4.0",
      "model_name": "FloatSliderModel",
      "state": {
       "description": "Min: ",
       "layout": "IPY_MODEL_a09aa378678240739f6d092019796a26",
       "max": 1,
       "step": 0.1,
       "style": "IPY_MODEL_32d5d8ab47ee42009144dba58f3789a3"
      }
     },
     "9e9f23bf66144677b19717cad9e4613c": {
      "model_module": "@jupyter-widgets/controls",
      "model_module_version": "1.4.0",
      "model_name": "ButtonModel",
      "state": {
       "description": "Bottom left",
       "layout": "IPY_MODEL_f4bf9dd20c81442fb09184f2b87b55ab",
       "style": "IPY_MODEL_58ab2ec494624af183c3ee126082a92e"
      }
     },
     "9eaa2451dcfb4ef4bc32a8bcd0a1684e": {
      "model_module": "@jupyter-widgets/controls",
      "model_module_version": "1.4.0",
      "model_name": "SliderStyleModel",
      "state": {
       "description_width": ""
      }
     },
     "9eb7f79e7a964cbe973c12e519b126ee": {
      "model_module": "@jupyter-widgets/base",
      "model_module_version": "1.1.0",
      "model_name": "LayoutModel",
      "state": {
       "grid_template_areas": "\"top-left bottom-right\"\n\"bottom-left bottom-right\"",
       "grid_template_columns": "1fr 1fr",
       "grid_template_rows": "1fr 1fr",
       "width": "auto"
      }
     },
     "9ebe3b470e7b41efa3c320519d96e794": {
      "model_module": "@jupyter-widgets/controls",
      "model_module_version": "1.4.0",
      "model_name": "ButtonStyleModel",
      "state": {}
     },
     "9ebe861e39d246319836a9aa9bb2dae5": {
      "model_module": "@jupyter-widgets/controls",
      "model_module_version": "1.4.0",
      "model_name": "GridBoxModel",
      "state": {
       "children": [
        "IPY_MODEL_57fae54e8c2c4f1f83ba32b847c8d29c",
        "IPY_MODEL_e576d06d73f440d3abe54e5c64b53136",
        "IPY_MODEL_54721cf760804b1786b1fdebcf6c58d9"
       ],
       "layout": "IPY_MODEL_29e60c3d5eb54e7db1d369b4881c92af"
      }
     },
     "9ed924bc36ce42b684e84be4cecf7d36": {
      "model_module": "@jupyter-widgets/base",
      "model_module_version": "1.1.0",
      "model_name": "LayoutModel",
      "state": {
       "grid_template_areas": "\"top-left top-right\"\n\"bottom-left bottom-right\"",
       "grid_template_columns": "1fr 1fr",
       "grid_template_rows": "1fr 1fr",
       "width": "auto"
      }
     },
     "9eda2a3b35324eb1ad7b7102b9889e06": {
      "model_module": "@jupyter-widgets/controls",
      "model_module_version": "1.4.0",
      "model_name": "ButtonStyleModel",
      "state": {}
     },
     "9ee30b4bc5794e71a2da99542750bdf9": {
      "model_module": "@jupyter-widgets/controls",
      "model_module_version": "1.4.0",
      "model_name": "SliderStyleModel",
      "state": {
       "description_width": ""
      }
     },
     "9eee510b0a684fc3819bdfcc4698533a": {
      "model_module": "@jupyter-widgets/base",
      "model_module_version": "1.1.0",
      "model_name": "LayoutModel",
      "state": {
       "grid_template_areas": "\"top-left top-left\"\n\"bottom-left bottom-left\"",
       "grid_template_columns": "1fr 1fr",
       "grid_template_rows": "1fr 1fr",
       "width": "auto"
      }
     },
     "9f0657705c1c4e27aea1b54c8f609777": {
      "model_module": "@jupyter-widgets/controls",
      "model_module_version": "1.4.0",
      "model_name": "ButtonModel",
      "state": {
       "description": "Top left",
       "layout": "IPY_MODEL_77a92b0f6acf4ba4b5a40798d0c46f96",
       "style": "IPY_MODEL_b4247af4fd4847db8ed105833341017e"
      }
     },
     "9f0fad4f6c0a40058a8f03dcc3f4f68f": {
      "model_module": "@jupyter-widgets/base",
      "model_module_version": "1.1.0",
      "model_name": "LayoutModel",
      "state": {
       "grid_template_areas": "\"top-left top-right\"\n\"bottom-left top-right\"",
       "grid_template_columns": "1fr 1fr",
       "grid_template_rows": "1fr 1fr",
       "width": "auto"
      }
     },
     "9f1fd95452524634a8a8b26f7ab295cb": {
      "model_module": "@jupyter-widgets/controls",
      "model_module_version": "1.4.0",
      "model_name": "ButtonModel",
      "state": {
       "description": "Top left",
       "layout": "IPY_MODEL_339fd472ac44487c85d8b456412839d1",
       "style": "IPY_MODEL_01bc8f457c2e4d87a5b6cc498c46ca4a"
      }
     },
     "9fd4b6178dd741b98f95b25b9ff32028": {
      "model_module": "@jupyter-widgets/base",
      "model_module_version": "1.1.0",
      "model_name": "LayoutModel",
      "state": {
       "grid_template_areas": "\"top-left top-right\"\n\"bottom-left bottom-right\"",
       "grid_template_columns": "1fr 1fr",
       "grid_template_rows": "1fr 1fr",
       "width": "auto"
      }
     },
     "9ff2e2d93cfd4919a2d0dcb38ec8b864": {
      "model_module": "@jupyter-widgets/controls",
      "model_module_version": "1.4.0",
      "model_name": "ButtonStyleModel",
      "state": {}
     },
     "a019a9b93d6140c4a7e5215975d4ac0b": {
      "model_module": "@jupyter-widgets/base",
      "model_module_version": "1.1.0",
      "model_name": "LayoutModel",
      "state": {
       "grid_area": "bottom-right",
       "min_width": "125px"
      }
     },
     "a02490f47bd44f4d94f91aa83ec61221": {
      "model_module": "@jupyter-widgets/base",
      "model_module_version": "1.1.0",
      "model_name": "LayoutModel",
      "state": {
       "grid_area": "bottom-left",
       "height": "20px",
       "width": "300px"
      }
     },
     "a04a344fafb445828d0612289dc717df": {
      "model_module": "@jupyter-widgets/base",
      "model_module_version": "1.1.0",
      "model_name": "LayoutModel",
      "state": {
       "grid_area": "top-left",
       "height": "20px",
       "width": "200px"
      }
     },
     "a06c63a2596c43d985532533868e62fa": {
      "model_module": "@jupyter-widgets/controls",
      "model_module_version": "1.4.0",
      "model_name": "DescriptionStyleModel",
      "state": {
       "description_width": ""
      }
     },
     "a09aa378678240739f6d092019796a26": {
      "model_module": "@jupyter-widgets/base",
      "model_module_version": "1.1.0",
      "model_name": "LayoutModel",
      "state": {
       "grid_area": "top-left",
       "height": "20px",
       "width": "300px"
      }
     },
     "a0c64373df724f5caf2a83066c491a7f": {
      "model_module": "@jupyter-widgets/base",
      "model_module_version": "1.1.0",
      "model_name": "LayoutModel",
      "state": {
       "grid_area": "top-left"
      }
     },
     "a0e535563e734d7c929136194a5674e5": {
      "model_module": "@jupyter-widgets/controls",
      "model_module_version": "1.4.0",
      "model_name": "IntTextModel",
      "state": {
       "layout": "IPY_MODEL_2c38a224217144b0a043cb3fcf6d66e7",
       "step": 1,
       "style": "IPY_MODEL_fd18139fdc324bc7a68202aa47856ea2",
       "value": 59
      }
     },
     "a0f5dda9cdca4a3c98d680a113d6af05": {
      "model_module": "@jupyter-widgets/base",
      "model_module_version": "1.1.0",
      "model_name": "LayoutModel",
      "state": {
       "grid_area": "bottom-right"
      }
     },
     "a111033976bf4372a46868d4ac6589ef": {
      "model_module": "@jupyter-widgets/base",
      "model_module_version": "1.1.0",
      "model_name": "LayoutModel",
      "state": {
       "grid_template_areas": "\"top-left bottom-right\"\n\"bottom-left bottom-right\"",
       "grid_template_columns": "1fr 1fr",
       "grid_template_rows": "1fr 1fr",
       "width": "auto"
      }
     },
     "a12bd02e3a604ed9b92188ecca222b1d": {
      "model_module": "@jupyter-widgets/controls",
      "model_module_version": "1.4.0",
      "model_name": "ButtonStyleModel",
      "state": {}
     },
     "a1329e01442c4afc83075e9c1480feb2": {
      "model_module": "@jupyter-widgets/controls",
      "model_module_version": "1.4.0",
      "model_name": "SliderStyleModel",
      "state": {
       "description_width": ""
      }
     },
     "a135da7e892248cdb4de16c77c85d5d5": {
      "model_module": "@jupyter-widgets/base",
      "model_module_version": "1.1.0",
      "model_name": "LayoutModel",
      "state": {
       "grid_template_areas": "\"top-left top-right\"\n\"bottom-left bottom-right\"",
       "grid_template_columns": "1fr 1fr",
       "grid_template_rows": "1fr 1fr",
       "width": "auto"
      }
     },
     "a14a44951efd471990956c7a7d4c1ddc": {
      "model_module": "bqplot",
      "model_module_version": "^0.4.5",
      "model_name": "LinearScaleModel",
      "state": {
       "allow_padding": false,
       "max": 1,
       "min": 0,
       "stabilized": false
      }
     },
     "a156d3199938440290e1c1c96a125fef": {
      "model_module": "@jupyter-widgets/controls",
      "model_module_version": "1.4.0",
      "model_name": "FloatSliderModel",
      "state": {
       "description": "Max: ",
       "layout": "IPY_MODEL_b58c87f6b9544143a494a63a00dc990d",
       "max": 10,
       "min": 1,
       "step": 0.1,
       "style": "IPY_MODEL_ab2c7b2ae9dd4bae8db59fe5d42191ce",
       "value": 10
      }
     },
     "a16319d55cf948db934dbde498d49f39": {
      "model_module": "@jupyter-widgets/base",
      "model_module_version": "1.1.0",
      "model_name": "LayoutModel",
      "state": {
       "grid_area": "bottom-left"
      }
     },
     "a16cf0a5653547eca4382e8ecf77e4d6": {
      "model_module": "@jupyter-widgets/controls",
      "model_module_version": "1.4.0",
      "model_name": "ButtonStyleModel",
      "state": {}
     },
     "a18b894327eb40d6989cde85c7e45c5c": {
      "model_module": "@jupyter-widgets/controls",
      "model_module_version": "1.4.0",
      "model_name": "SliderStyleModel",
      "state": {
       "description_width": ""
      }
     },
     "a191ff141a594fe0b562b1097c2cd2ea": {
      "model_module": "bqplot",
      "model_module_version": "^0.4.5",
      "model_name": "OrdinalScaleModel",
      "state": {
       "domain": []
      }
     },
     "a1ebda1ab9a741c28e1ee473ef64f192": {
      "model_module": "@jupyter-widgets/controls",
      "model_module_version": "1.4.0",
      "model_name": "ButtonModel",
      "state": {
       "description": "Bottom right",
       "layout": "IPY_MODEL_ea0b38a57fb74f178e1deccdb684f33d",
       "style": "IPY_MODEL_133e9c6c2ab145cfb7a2d8499fb4a009"
      }
     },
     "a212aa6a1eba48429fd4f2f5ebd96c4b": {
      "model_module": "@jupyter-widgets/base",
      "model_module_version": "1.1.0",
      "model_name": "LayoutModel",
      "state": {
       "grid_area": "bottom-right",
       "height": "100%"
      }
     },
     "a21c95afe88a46549228f4d07649ac7e": {
      "model_module": "@jupyter-widgets/base",
      "model_module_version": "1.1.0",
      "model_name": "LayoutModel",
      "state": {
       "grid_template_areas": "\"top-left bottom-right\"\n\"bottom-left bottom-right\"",
       "grid_template_columns": "1fr 1fr",
       "grid_template_rows": "1fr 1fr",
       "width": "auto"
      }
     },
     "a228e93f7d2146bf9450dececea59161": {
      "model_module": "@jupyter-widgets/controls",
      "model_module_version": "1.4.0",
      "model_name": "SliderStyleModel",
      "state": {
       "description_width": ""
      }
     },
     "a230c2a6942245b5b943d37cfdfd1dd0": {
      "model_module": "@jupyter-widgets/controls",
      "model_module_version": "1.4.0",
      "model_name": "ButtonModel",
      "state": {
       "description": "Bottom right",
       "layout": "IPY_MODEL_01f2d29971714889806233e348738f8f",
       "style": "IPY_MODEL_90546e497c77472989fb526418b183e5"
      }
     },
     "a25a22b16140491b983ae4205077e7a6": {
      "model_module": "@jupyter-widgets/base",
      "model_module_version": "1.1.0",
      "model_name": "LayoutModel",
      "state": {
       "grid_area": "top-left"
      }
     },
     "a27b3d14bb0c4c28b45a0fb01559e3a2": {
      "model_module": "@jupyter-widgets/controls",
      "model_module_version": "1.4.0",
      "model_name": "ButtonModel",
      "state": {
       "description": "Bottom right",
       "layout": "IPY_MODEL_4e234d35281c4ea7b327a1c82578d56b",
       "style": "IPY_MODEL_2b0a240382b648c6a88914ddcc51df3c"
      }
     },
     "a2b9ec0c1e7c443c88d49e1d2153cb1f": {
      "model_module": "@jupyter-widgets/controls",
      "model_module_version": "1.4.0",
      "model_name": "DescriptionStyleModel",
      "state": {
       "description_width": ""
      }
     },
     "a367a4db57dc43b8b3f676a3feeed6bd": {
      "model_module": "@jupyter-widgets/base",
      "model_module_version": "1.1.0",
      "model_name": "LayoutModel",
      "state": {
       "grid_area": "bottom-right"
      }
     },
     "a3992156c07e4a328bfcf1fc6612b9b9": {
      "model_module": "@jupyter-widgets/base",
      "model_module_version": "1.1.0",
      "model_name": "LayoutModel",
      "state": {
       "grid_area": "bottom-right"
      }
     },
     "a39ceeaddcc94c6a8851b93a30d3be46": {
      "model_module": "bqplot",
      "model_module_version": "^0.4.5",
      "model_name": "LinearScaleModel",
      "state": {
       "allow_padding": false,
       "max": 1,
       "min": 0,
       "stabilized": false
      }
     },
     "a3a722c53c364684a25bc4bfb8cb5fac": {
      "model_module": "@jupyter-widgets/controls",
      "model_module_version": "1.4.0",
      "model_name": "ButtonStyleModel",
      "state": {}
     },
     "a3a9d1b05a8949679e5c926a6e4e6ce8": {
      "model_module": "@jupyter-widgets/controls",
      "model_module_version": "1.4.0",
      "model_name": "ButtonModel",
      "state": {
       "description": "Bottom left",
       "layout": "IPY_MODEL_dbe1bcb8cec14927a7b573e35d15e68c",
       "style": "IPY_MODEL_6cae1e86eab5481bb2d24ef1f24c2692"
      }
     },
     "a3c93aa3765249ac82ca615120aea61c": {
      "model_module": "@jupyter-widgets/controls",
      "model_module_version": "1.4.0",
      "model_name": "FloatSliderModel",
      "state": {
       "description": "Max: ",
       "layout": "IPY_MODEL_5b5d791e04994f93835ffcada3a0115c",
       "max": 10,
       "min": 1,
       "step": 0.1,
       "style": "IPY_MODEL_07a9424a8d6945e8a746c4130dcc3dbb",
       "value": 5.8
      }
     },
     "a3d8a643d606431eb6f1c57e757d1eca": {
      "model_module": "@jupyter-widgets/controls",
      "model_module_version": "1.4.0",
      "model_name": "GridBoxModel",
      "state": {
       "children": [
        "IPY_MODEL_69739f1065c14b4c82f6454bdc27c770",
        "IPY_MODEL_4b967c270cd74f668087a413f5f7834f",
        "IPY_MODEL_77e26fafd9614ae890e77eb926e2f662",
        "IPY_MODEL_4553ec6cd2734bf29752f37ca549b309"
       ],
       "layout": "IPY_MODEL_05840c65a0814da1ad13dc4d390d1fe5"
      }
     },
     "a3dbeebc0502463e8cee66e227ac6f82": {
      "model_module": "@jupyter-widgets/controls",
      "model_module_version": "1.4.0",
      "model_name": "ButtonStyleModel",
      "state": {}
     },
     "a3e2fb61ea734ce0a0112d9ac3f54ca4": {
      "model_module": "@jupyter-widgets/controls",
      "model_module_version": "1.4.0",
      "model_name": "IntSliderModel",
      "state": {
       "layout": "IPY_MODEL_e3f88a645fc6487d8c97af9eee76bf51",
       "style": "IPY_MODEL_471cc92aaea542eba66613932979a0be"
      }
     },
     "a3e6b9d09b7f4e7295dec89386d7ff9a": {
      "model_module": "@jupyter-widgets/controls",
      "model_module_version": "1.4.0",
      "model_name": "ButtonStyleModel",
      "state": {}
     },
     "a40c95eb34b04ca5932ca6619aee1923": {
      "model_module": "@jupyter-widgets/controls",
      "model_module_version": "1.4.0",
      "model_name": "ButtonModel",
      "state": {
       "description": "Top right",
       "layout": "IPY_MODEL_8d608c740456491f897ba8cfb891a14b",
       "style": "IPY_MODEL_c254e3df888d4706b20b22f4f1f90554"
      }
     },
     "a40eab257a9b480780bade452975298c": {
      "model_module": "@jupyter-widgets/controls",
      "model_module_version": "1.4.0",
      "model_name": "DescriptionStyleModel",
      "state": {
       "description_width": ""
      }
     },
     "a435407d8f4a483797782cfdcee37a47": {
      "model_module": "@jupyter-widgets/controls",
      "model_module_version": "1.4.0",
      "model_name": "GridBoxModel",
      "state": {
       "children": [
        "IPY_MODEL_5cd074a8937e4aaca27eab6bbca15343",
        "IPY_MODEL_f49efc91d02442db9cfe9f141ef91ff3",
        "IPY_MODEL_59d739196e8c4592b1d0baa74fe6fbed",
        "IPY_MODEL_2c7b81c66a43420eaed90fd551784683"
       ],
       "layout": "IPY_MODEL_fc6dc8c720bb4e30b2e6058d8ffbcc36"
      }
     },
     "a43b4dc261f94ca1a0467e59677587f4": {
      "model_module": "@jupyter-widgets/controls",
      "model_module_version": "1.4.0",
      "model_name": "ButtonStyleModel",
      "state": {}
     },
     "a48a91e831164e308e0d2e553a527cc4": {
      "model_module": "@jupyter-widgets/base",
      "model_module_version": "1.1.0",
      "model_name": "LayoutModel",
      "state": {
       "grid_template_areas": "\"top-left bottom-right\"\n\"bottom-left bottom-right\"",
       "grid_template_columns": "1fr 1fr",
       "grid_template_rows": "1fr 1fr",
       "width": "auto"
      }
     },
     "a48c2520b5b64f07abe29acd407232aa": {
      "model_module": "bqplot",
      "model_module_version": "^0.4.5",
      "model_name": "OrdinalScaleModel",
      "state": {
       "domain": []
      }
     },
     "a4cc5f64ae8c42918c3f443cbab516cc": {
      "model_module": "@jupyter-widgets/controls",
      "model_module_version": "1.4.0",
      "model_name": "ButtonStyleModel",
      "state": {}
     },
     "a50b684e404941539d26f5ae43c99058": {
      "model_module": "@jupyter-widgets/base",
      "model_module_version": "1.1.0",
      "model_name": "LayoutModel",
      "state": {
       "grid_template_areas": "\"top-left top-right\"\n\"bottom-left bottom-right\"",
       "grid_template_columns": "1fr 1fr",
       "grid_template_rows": "1fr 1fr",
       "width": "auto"
      }
     },
     "a54249403a094d93980f44c6556c119b": {
      "model_module": "bqplot",
      "model_module_version": "^0.4.5",
      "model_name": "LinearScaleModel",
      "state": {
       "allow_padding": false,
       "max": 1,
       "min": 0,
       "stabilized": false
      }
     },
     "a57b52a0bd714569a66647bc58c12516": {
      "model_module": "@jupyter-widgets/controls",
      "model_module_version": "1.4.0",
      "model_name": "IntSliderModel",
      "state": {
       "layout": "IPY_MODEL_4a16bc7d61064ad8ae49cca4a082714c",
       "style": "IPY_MODEL_9ee30b4bc5794e71a2da99542750bdf9",
       "value": 26
      }
     },
     "a588fedb1b2a41f4abdb761a865ebce8": {
      "model_module": "@jupyter-widgets/base",
      "model_module_version": "1.1.0",
      "model_name": "LayoutModel",
      "state": {
       "grid_area": "top-right"
      }
     },
     "a5a2ac4cf7b148c8bf35650719f3cdc5": {
      "model_module": "@jupyter-widgets/controls",
      "model_module_version": "1.4.0",
      "model_name": "ButtonModel",
      "state": {
       "description": "Bottom left",
       "layout": "IPY_MODEL_496f3238ae044c9aac4c6ac26c0ef531",
       "style": "IPY_MODEL_70588d314db841daabe91518cdbb8be5"
      }
     },
     "a5b20eb1d4b94a29b7c8a1ec32f57888": {
      "model_module": "@jupyter-widgets/base",
      "model_module_version": "1.1.0",
      "model_name": "LayoutModel",
      "state": {
       "grid_template_areas": "\"top-left bottom-right\"\n\"bottom-left bottom-right\"",
       "grid_template_columns": "1fr 1fr",
       "grid_template_rows": "1fr 1fr",
       "width": "auto"
      }
     },
     "a5c74ed90ed64fab84a128b698bbe4a0": {
      "model_module": "@jupyter-widgets/controls",
      "model_module_version": "1.4.0",
      "model_name": "ButtonStyleModel",
      "state": {}
     },
     "a5eebf178d5041a3869fb4cc0f604907": {
      "model_module": "@jupyter-widgets/base",
      "model_module_version": "1.1.0",
      "model_name": "LayoutModel",
      "state": {
       "grid_area": "bottom-right"
      }
     },
     "a5f36579532d4108a72fe3df492cd04d": {
      "model_module": "@jupyter-widgets/controls",
      "model_module_version": "1.4.0",
      "model_name": "LinkModel",
      "state": {
       "source": [
        "IPY_MODEL_2392c8780da04ce68b00f463626c2435",
        "max"
       ],
       "target": [
        "IPY_MODEL_a156d3199938440290e1c1c96a125fef",
        "value"
       ]
      }
     },
     "a60709e193cb4903b4ccf9e3d416300f": {
      "model_module": "@jupyter-widgets/controls",
      "model_module_version": "1.4.0",
      "model_name": "ButtonModel",
      "state": {
       "description": "Top right",
       "layout": "IPY_MODEL_b34f6073fd6b4ef5ba46707c8ee81a67",
       "style": "IPY_MODEL_f340151fb24343089ee095211b024adc"
      }
     },
     "a61021740dfe41be82092b98cc202cad": {
      "model_module": "@jupyter-widgets/controls",
      "model_module_version": "1.4.0",
      "model_name": "SliderStyleModel",
      "state": {
       "description_width": ""
      }
     },
     "a612809ed6234ed4896cf0991bee1c5f": {
      "model_module": "@jupyter-widgets/controls",
      "model_module_version": "1.4.0",
      "model_name": "FloatSliderModel",
      "state": {
       "description": "Min: ",
       "layout": "IPY_MODEL_44a1a33f5dd841bf82a498dfa215fec6",
       "max": 5.8,
       "step": 0.1,
       "style": "IPY_MODEL_54347db708c84e2694e580a59c539959",
       "value": 1
      }
     },
     "a62300ffd6ce462b913906f48a4360c4": {
      "model_module": "bqplot",
      "model_module_version": "^0.4.5",
      "model_name": "BarsModel",
      "state": {
       "color": {
        "type": null,
        "values": null
       },
       "colors": [
        "steelblue"
       ],
       "display_legend": false,
       "scales": {
        "x": "IPY_MODEL_2a0de0defbf540c39e8b136f8894d6ba",
        "y": "IPY_MODEL_675e508065eb411d9459bee5d03b3d25"
       },
       "selected": [],
       "x": {
        "type": "float",
        "values": [
         0,
         1,
         2,
         3,
         4,
         5,
         6,
         7,
         8,
         9
        ]
       },
       "y": {
        "type": "float",
        "values": [
         0.6288984390617004,
         0.3984342586196771,
         0.0627129520233457,
         0.42403225188984195,
         0.2586840668894077,
         0.8490383084285108,
         0.03330462654669619,
         0.9589827218634736,
         0.3553688484719296,
         0.3567068904025429
        ]
       }
      }
     },
     "a627d7d96f424ddab4a24f8af01ce91d": {
      "model_module": "@jupyter-widgets/controls",
      "model_module_version": "1.4.0",
      "model_name": "DescriptionStyleModel",
      "state": {
       "description_width": ""
      }
     },
     "a62aae62a2234805826b5052661669e4": {
      "model_module": "@jupyter-widgets/controls",
      "model_module_version": "1.4.0",
      "model_name": "ButtonModel",
      "state": {
       "description": "Top left",
       "layout": "IPY_MODEL_30b771b7247a4f57a6677b8ecfdba425",
       "style": "IPY_MODEL_924d1ae84abb4ce19e887fb7e1c79414"
      }
     },
     "a685ef44a7874abf932f7428834a38f2": {
      "model_module": "@jupyter-widgets/controls",
      "model_module_version": "1.4.0",
      "model_name": "GridBoxModel",
      "state": {
       "children": [
        "IPY_MODEL_5eeed3515c83468c9c6ec2f6a7c0208e",
        "IPY_MODEL_170bd4565f544e8b95d107cd9257bd75",
        "IPY_MODEL_e48bf4fc9cad4306a501df92afc3e98b",
        "IPY_MODEL_fa54d05d63724802a58138e558819746"
       ],
       "layout": "IPY_MODEL_2390f6cb68944dce9498d3513f1c10d0"
      }
     },
     "a6926ce8ee24406cb090a5378c4a0467": {
      "model_module": "@jupyter-widgets/controls",
      "model_module_version": "1.4.0",
      "model_name": "LinkModel",
      "state": {
       "source": [
        "IPY_MODEL_73e3221482df4c6ea5280d7e6a935c63",
        "value"
       ],
       "target": [
        "IPY_MODEL_226e638026254fefb3fcbcdfbb8c74fa",
        "value"
       ]
      }
     },
     "a6cd9cdd607e4198807461a8cb38410f": {
      "model_module": "@jupyter-widgets/controls",
      "model_module_version": "1.4.0",
      "model_name": "FloatSliderModel",
      "state": {
       "layout": "IPY_MODEL_ece6940fe66d44f19b6ea18e1ebaaeaf",
       "max": 1,
       "step": 0.1,
       "style": "IPY_MODEL_17cdd8bd9da84181a663441117dd3fb8",
       "value": null
      }
     },
     "a6cea96fca264c28b5e5c60130244344": {
      "model_module": "@jupyter-widgets/controls",
      "model_module_version": "1.4.0",
      "model_name": "IntSliderModel",
      "state": {
       "layout": "IPY_MODEL_1f01fda82cab44b29b088a41f7984f55",
       "style": "IPY_MODEL_4ffa550d67164f15afd7fc12a523e78b",
       "value": 30
      }
     },
     "a6d69d63bdf3404e9f87c2dfd121ba46": {
      "model_module": "@jupyter-widgets/controls",
      "model_module_version": "1.4.0",
      "model_name": "ButtonStyleModel",
      "state": {}
     },
     "a6e2073de86c4df6a69408ac885c20d4": {
      "model_module": "@jupyter-widgets/controls",
      "model_module_version": "1.4.0",
      "model_name": "SliderStyleModel",
      "state": {
       "description_width": ""
      }
     },
     "a72f7a28b7134a6ba8131772f1493f30": {
      "model_module": "@jupyter-widgets/base",
      "model_module_version": "1.1.0",
      "model_name": "LayoutModel",
      "state": {
       "grid_template_areas": "\"top-left bottom-right\"\n\"bottom-left bottom-right\"",
       "grid_template_columns": "1fr 1fr",
       "grid_template_rows": "1fr 1fr",
       "width": "auto"
      }
     },
     "a753dfcac8ac4305a795e508baf39e1d": {
      "model_module": "@jupyter-widgets/base",
      "model_module_version": "1.1.0",
      "model_name": "LayoutModel",
      "state": {
       "grid_template_areas": "\"top-left bottom-right\"\n\"bottom-left bottom-right\"",
       "grid_template_columns": "1fr 1fr",
       "grid_template_rows": "1fr 1fr",
       "width": "auto"
      }
     },
     "a75511e2ed20499bb026c2ca0c7d1afb": {
      "model_module": "@jupyter-widgets/controls",
      "model_module_version": "1.4.0",
      "model_name": "ButtonModel",
      "state": {
       "description": "Top left",
       "layout": "IPY_MODEL_2a01422b44bf4e58af6bd80fb748d847",
       "style": "IPY_MODEL_15050d3849094a20a83792be8d73554e"
      }
     },
     "a775410a13ac4b67aab34b667aa2d503": {
      "model_module": "@jupyter-widgets/controls",
      "model_module_version": "1.4.0",
      "model_name": "GridBoxModel",
      "state": {
       "children": [
        "IPY_MODEL_8f86a15e3b174e3ab9806180801d1b2f",
        "IPY_MODEL_8a4581186a724357904f5bdaaa023760",
        "IPY_MODEL_8dd407f9a7514ebcba16035b46b18929",
        "IPY_MODEL_e83824a7f056462eacb66cbefa6b398d"
       ],
       "layout": "IPY_MODEL_cc169222c26f4e369bc6d19c697a4f98"
      }
     },
     "a79fd68a23374f97ba66e9c43af44b9f": {
      "model_module": "@jupyter-widgets/base",
      "model_module_version": "1.1.0",
      "model_name": "LayoutModel",
      "state": {
       "grid_area": "bottom-left"
      }
     },
     "a7a4bcb7df2c4debb608f6513c99ab4e": {
      "model_module": "@jupyter-widgets/controls",
      "model_module_version": "1.4.0",
      "model_name": "GridBoxModel",
      "state": {
       "children": [
        "IPY_MODEL_305730ec8891412cab9bf15cd8c096ec",
        "IPY_MODEL_3694ae1ffebf41ffaa682aedab1cc29a",
        "IPY_MODEL_074af9c2107f40159d1ca9cd38cb6cab"
       ],
       "layout": "IPY_MODEL_be9edc0a92fd4a6e8d26f6e921b6e9d9"
      }
     },
     "a80fb96e858245c6a51824e35adc71f7": {
      "model_module": "@jupyter-widgets/base",
      "model_module_version": "1.1.0",
      "model_name": "LayoutModel",
      "state": {
       "grid_template_areas": "\"top-left bottom-right\"\n\"bottom-left bottom-right\"",
       "grid_template_columns": "1fr 1fr",
       "grid_template_rows": "1fr 1fr",
       "width": "auto"
      }
     },
     "a8100977ec5b4686ad5f0a46e2df015b": {
      "model_module": "@jupyter-widgets/base",
      "model_module_version": "1.1.0",
      "model_name": "LayoutModel",
      "state": {
       "align_items": "center",
       "grid_template_areas": "\"top-left bottom-right\"\n\"bottom-left bottom-right\"",
       "grid_template_columns": "1fr 1fr",
       "grid_template_rows": "1fr 1fr",
       "height": "300px",
       "width": "80%"
      }
     },
     "a843e4fa239f470582fb4989110dfcfb": {
      "model_module": "@jupyter-widgets/controls",
      "model_module_version": "1.4.0",
      "model_name": "ButtonStyleModel",
      "state": {}
     },
     "a8468b6074414acf83efa1e17e944c5f": {
      "model_module": "@jupyter-widgets/controls",
      "model_module_version": "1.4.0",
      "model_name": "LinkModel",
      "state": {
       "source": [
        "IPY_MODEL_820f40885b1d4781a4e4abd39ead9b69",
        "max"
       ],
       "target": [
        "IPY_MODEL_934b815b91be4592b116c7a1421631b6",
        "value"
       ]
      }
     },
     "a86d5948e25f417da18120e9790c3b84": {
      "model_module": "@jupyter-widgets/controls",
      "model_module_version": "1.4.0",
      "model_name": "ButtonModel",
      "state": {
       "description": "Top left",
       "layout": "IPY_MODEL_0b4320f375574096941773f311181a21",
       "style": "IPY_MODEL_76ca884c37dd483fa8026644d23c7baf"
      }
     },
     "a87fcd5ef9824935894de61a512a2f9c": {
      "model_module": "@jupyter-widgets/controls",
      "model_module_version": "1.4.0",
      "model_name": "LinkModel",
      "state": {
       "source": [
        "IPY_MODEL_675e508065eb411d9459bee5d03b3d25",
        "min"
       ],
       "target": [
        "IPY_MODEL_938803e9849c4286b850ab3b885c723c",
        "value"
       ]
      }
     },
     "a8b3489d68224da48bd0f2560a6dffcf": {
      "model_module": "@jupyter-widgets/base",
      "model_module_version": "1.1.0",
      "model_name": "LayoutModel",
      "state": {
       "grid_area": "bottom-left",
       "width": "200px"
      }
     },
     "a8b37016ad2e46bd94dac0adf5309b07": {
      "model_module": "@jupyter-widgets/base",
      "model_module_version": "1.1.0",
      "model_name": "LayoutModel",
      "state": {
       "grid_area": "bottom-right"
      }
     },
     "a8c1c50515074f09a82c58d56d74d8ab": {
      "model_module": "@jupyter-widgets/base",
      "model_module_version": "1.1.0",
      "model_name": "LayoutModel",
      "state": {
       "grid_area": "top-left"
      }
     },
     "a8d31034f10e48daa6b0cc2b2f98b6f2": {
      "model_module": "bqplot",
      "model_module_version": "^0.4.5",
      "model_name": "LinearScaleModel",
      "state": {
       "allow_padding": false,
       "max": 1,
       "min": 0,
       "stabilized": false
      }
     },
     "a9120ee13f2d49aaab374b249d883551": {
      "model_module": "@jupyter-widgets/controls",
      "model_module_version": "1.4.0",
      "model_name": "GridBoxModel",
      "state": {
       "children": [
        "IPY_MODEL_843d9da99c1d4645ac4af325383c5d57",
        "IPY_MODEL_33673a36202540e5be453e0a889bc5dc",
        "IPY_MODEL_2027349e5fbe40579b8864e5b9e73393"
       ],
       "layout": "IPY_MODEL_1427c331a288425aaf9f6ab90efa404b"
      }
     },
     "a92ea4802d2c4f159c19a29590493c7d": {
      "model_module": "@jupyter-widgets/controls",
      "model_module_version": "1.4.0",
      "model_name": "IntSliderModel",
      "state": {
       "layout": "IPY_MODEL_04b2d37a44444ebfb00990d399dcba30",
       "style": "IPY_MODEL_8e0f5dd09b314ea59d77bd6d7105e2b5",
       "value": 25
      }
     },
     "a9371c7ef6394d0fb521f9b129a487ef": {
      "model_module": "@jupyter-widgets/base",
      "model_module_version": "1.1.0",
      "model_name": "LayoutModel",
      "state": {
       "grid_template_areas": "\"top-left bottom-right\"\n\"bottom-left bottom-right\"",
       "grid_template_columns": "1fr 1fr",
       "grid_template_rows": "1fr 1fr",
       "width": "auto"
      }
     },
     "a944a34cc3a14d2a990c49da14ba0c09": {
      "model_module": "@jupyter-widgets/controls",
      "model_module_version": "1.4.0",
      "model_name": "ButtonStyleModel",
      "state": {}
     },
     "a95447c8f89141afb5a88081f312495c": {
      "model_module": "@jupyter-widgets/controls",
      "model_module_version": "1.4.0",
      "model_name": "ButtonModel",
      "state": {
       "description": "Top right",
       "layout": "IPY_MODEL_8ab1f756183d41c5bf769e5b9078213c",
       "style": "IPY_MODEL_6e8d5dfa89174dd5808ae8c7ac45fe9b"
      }
     },
     "a9672de1eb9643b9b70ff0f985f956c2": {
      "model_module": "bqplot",
      "model_module_version": "^0.4.5",
      "model_name": "AxisModel",
      "state": {
       "scale": "IPY_MODEL_72f62edd42ed4e1ca921a0c2e3ab89c8",
       "side": "bottom",
       "tick_values": {
        "type": null,
        "values": null
       }
      }
     },
     "a984f84e4b844ed3bb84e82a2a96abda": {
      "model_module": "@jupyter-widgets/base",
      "model_module_version": "1.1.0",
      "model_name": "LayoutModel",
      "state": {
       "align_items": "center",
       "grid_template_areas": "\"top-left bottom-right\"\n\"bottom-left bottom-right\"",
       "grid_template_columns": "1fr 1fr",
       "grid_template_rows": "1fr 1fr",
       "height": "300px",
       "width": "80%"
      }
     },
     "a9993596e28844219179d2a735e65829": {
      "model_module": "@jupyter-widgets/base",
      "model_module_version": "1.1.0",
      "model_name": "LayoutModel",
      "state": {
       "grid_area": "bottom-left"
      }
     },
     "a99d077221a741b2be007cec38061e11": {
      "model_module": "@jupyter-widgets/base",
      "model_module_version": "1.1.0",
      "model_name": "LayoutModel",
      "state": {
       "grid_area": "bottom-right",
       "height": "100%"
      }
     },
     "a9fdbbad9392404ea8d5878a7c519a0e": {
      "model_module": "@jupyter-widgets/controls",
      "model_module_version": "1.4.0",
      "model_name": "DescriptionStyleModel",
      "state": {
       "description_width": ""
      }
     },
     "aa4821b12d004c9ea0b0e23e57308b51": {
      "model_module": "bqplot",
      "model_module_version": "^0.4.5",
      "model_name": "LinearScaleModel",
      "state": {
       "allow_padding": false,
       "max": 1,
       "min": 0,
       "stabilized": false
      }
     },
     "aa677b8c7b0e4e558498705a60fee34a": {
      "model_module": "@jupyter-widgets/base",
      "model_module_version": "1.1.0",
      "model_name": "LayoutModel",
      "state": {
       "align_items": "center",
       "grid_template_areas": "\"top-left bottom-right\"\n\"bottom-left bottom-right\"",
       "grid_template_columns": "1fr 1fr",
       "grid_template_rows": "1fr 1fr",
       "height": "500px",
       "width": "80%"
      }
     },
     "aa75fc2dd9de4c3baa3ac2d3acd4c8b6": {
      "model_module": "@jupyter-widgets/controls",
      "model_module_version": "1.4.0",
      "model_name": "GridBoxModel",
      "state": {
       "children": [
        "IPY_MODEL_bb0ef4416eb14cd1a326a454fdb31294",
        "IPY_MODEL_c6d079d4275f4ebcb9351fbab0e62e14",
        "IPY_MODEL_b0d21688b9a04f1c9f27fa1e4cfc3285",
        "IPY_MODEL_4ba9b42fffcb4a42bd3edbc700316877"
       ],
       "layout": "IPY_MODEL_7eb312b456514b62bd2b7794fc3586e4"
      }
     },
     "aa85cda08d064b8eb5d115ee3a142371": {
      "model_module": "@jupyter-widgets/controls",
      "model_module_version": "1.4.0",
      "model_name": "GridBoxModel",
      "state": {
       "children": [
        "IPY_MODEL_41a9452a487e40e987863d4e8c131fd6",
        "IPY_MODEL_eb3bd620c9104f4194344fc405b0c9f9",
        "IPY_MODEL_1cd1fb8f65c446458bf7e6a4441f0fab"
       ],
       "layout": "IPY_MODEL_a984f84e4b844ed3bb84e82a2a96abda"
      }
     },
     "aaa1ee9145bc4399b7c8815d8440d10b": {
      "model_module": "@jupyter-widgets/controls",
      "model_module_version": "1.4.0",
      "model_name": "LinkModel",
      "state": {
       "source": [
        "IPY_MODEL_820f40885b1d4781a4e4abd39ead9b69",
        "max"
       ],
       "target": [
        "IPY_MODEL_fe47dddf96f34ab1b448bea3ef68896b",
        "value"
       ]
      }
     },
     "aabd7b936e3e47ef9060b8bdaff71d0f": {
      "model_module": "@jupyter-widgets/base",
      "model_module_version": "1.1.0",
      "model_name": "LayoutModel",
      "state": {
       "grid_template_areas": "\"top-left bottom-right\"\n\"bottom-left bottom-right\"",
       "grid_template_columns": "1fr 1fr",
       "grid_template_rows": "1fr 1fr",
       "width": "auto"
      }
     },
     "aac36d02846a43e08a7c45f947634065": {
      "model_module": "@jupyter-widgets/controls",
      "model_module_version": "1.4.0",
      "model_name": "ButtonStyleModel",
      "state": {}
     },
     "aad5780cb4c4492bab5bea92f9034485": {
      "model_module": "@jupyter-widgets/base",
      "model_module_version": "1.1.0",
      "model_name": "LayoutModel",
      "state": {
       "align_items": "center"
      }
     },
     "aadb7db9bb3649c4899da56d3bbeef0a": {
      "model_module": "@jupyter-widgets/base",
      "model_module_version": "1.1.0",
      "model_name": "LayoutModel",
      "state": {
       "align_items": "center",
       "grid_template_areas": "\"top-left bottom-right\"\n\"bottom-left bottom-right\"",
       "grid_template_columns": "1fr 1fr",
       "grid_template_rows": "1fr 1fr",
       "height": "300px",
       "width": "80%"
      }
     },
     "ab20262360c3438bafd98059d9eb1b79": {
      "model_module": "@jupyter-widgets/base",
      "model_module_version": "1.1.0",
      "model_name": "LayoutModel",
      "state": {
       "grid_template_areas": "\"top-left top-left\"\n\"bottom-left bottom-left\"",
       "grid_template_columns": "1fr 1fr",
       "grid_template_rows": "1fr 1fr",
       "width": "auto"
      }
     },
     "ab22831ff56f4214b9ae812aef11ec1d": {
      "model_module": "@jupyter-widgets/base",
      "model_module_version": "1.1.0",
      "model_name": "LayoutModel",
      "state": {
       "grid_template_areas": "\"top-left bottom-right\"\n\"bottom-left bottom-right\"",
       "grid_template_columns": "1fr 1fr",
       "grid_template_rows": "1fr 1fr"
      }
     },
     "ab2c7b2ae9dd4bae8db59fe5d42191ce": {
      "model_module": "@jupyter-widgets/controls",
      "model_module_version": "1.4.0",
      "model_name": "SliderStyleModel",
      "state": {
       "description_width": ""
      }
     },
     "ab42cdda9cfd4787a0eeac881bfd56d5": {
      "model_module": "@jupyter-widgets/controls",
      "model_module_version": "1.4.0",
      "model_name": "IntTextModel",
      "state": {
       "layout": "IPY_MODEL_a588fedb1b2a41f4abdb761a865ebce8",
       "step": 1,
       "style": "IPY_MODEL_ae80f997d66643cd993595668c75cfbc",
       "value": 30
      }
     },
     "ab467ecf20aa40849a0600eca60030a5": {
      "model_module": "@jupyter-widgets/base",
      "model_module_version": "1.1.0",
      "model_name": "LayoutModel",
      "state": {
       "grid_area": "bottom-left",
       "height": "20px",
       "width": "300px"
      }
     },
     "ab62348f3e55400bb5cf274bdb1826ba": {
      "model_module": "@jupyter-widgets/base",
      "model_module_version": "1.1.0",
      "model_name": "LayoutModel",
      "state": {
       "grid_template_areas": "\"top-left top-right\"\n\"bottom-left top-right\"",
       "grid_template_columns": "1fr 1fr",
       "grid_template_rows": "1fr 1fr",
       "width": "auto"
      }
     },
     "ab6d98f74db544769ccd71f5d8d2809f": {
      "model_module": "@jupyter-widgets/controls",
      "model_module_version": "1.4.0",
      "model_name": "ButtonModel",
      "state": {
       "description": "Bottom right",
       "layout": "IPY_MODEL_b7500b983d414f46813dab5bea9f0937",
       "style": "IPY_MODEL_1718b03fa52c478facbafb7ff9720197"
      }
     },
     "ab985fa6973649d9bb95c687fae5b288": {
      "model_module": "bqplot",
      "model_module_version": "^0.4.5",
      "model_name": "BarsModel",
      "state": {
       "color": {
        "type": null,
        "values": null
       },
       "colors": [
        "steelblue"
       ],
       "display_legend": false,
       "scales": {
        "x": "IPY_MODEL_1cb4087ded5948ecbd0684da22d0481f",
        "y": "IPY_MODEL_694292eac0db47608838dd02cd8fafec"
       },
       "selected": [],
       "x": {
        "type": "float",
        "values": [
         0,
         1,
         2,
         3,
         4,
         5,
         6,
         7,
         8,
         9
        ]
       },
       "y": {
        "type": "float",
        "values": [
         0.6288984390617004,
         0.3984342586196771,
         0.0627129520233457,
         0.42403225188984195,
         0.2586840668894077,
         0.8490383084285108,
         0.03330462654669619,
         0.9589827218634736,
         0.3553688484719296,
         0.3567068904025429
        ]
       }
      }
     },
     "abc1be8bd9f74280960164ca9cc494e3": {
      "model_module": "@jupyter-widgets/controls",
      "model_module_version": "1.4.0",
      "model_name": "LinkModel",
      "state": {
       "source": [
        "IPY_MODEL_55c994223b964bb198a5343345833721",
        "value"
       ],
       "target": [
        "IPY_MODEL_ad1a5318f3e2432aacea527864e4861c",
        "value"
       ]
      }
     },
     "abd1c00e39fe4d50b13704590b174da7": {
      "model_module": "@jupyter-widgets/controls",
      "model_module_version": "1.4.0",
      "model_name": "LinkModel",
      "state": {
       "source": [
        "IPY_MODEL_e08a3201c7e646c48adec34b7f51a934",
        "min"
       ],
       "target": [
        "IPY_MODEL_6816fe8d00424943977d1db415800679",
        "value"
       ]
      }
     },
     "abf61aa7d991425586b609e6868ef058": {
      "model_module": "bqplot",
      "model_module_version": "^0.4.5",
      "model_name": "AxisModel",
      "state": {
       "orientation": "vertical",
       "scale": "IPY_MODEL_10c007e416fc401c992766c9a7f55cca",
       "side": "left",
       "tick_format": "0.2f",
       "tick_values": {
        "type": null,
        "values": null
       }
      }
     },
     "ac01fdea3b8e49e182417e774f80b4df": {
      "model_module": "@jupyter-widgets/controls",
      "model_module_version": "1.4.0",
      "model_name": "ButtonModel",
      "state": {
       "description": "Bottom left",
       "layout": "IPY_MODEL_75b4378caf74444bb241883c10e683f7",
       "style": "IPY_MODEL_fde08b8c77f14d16855e6e5ef603d6bb"
      }
     },
     "ac0f945f53f0407b9b8e37f9641b4fd5": {
      "model_module": "@jupyter-widgets/base",
      "model_module_version": "1.1.0",
      "model_name": "LayoutModel",
      "state": {
       "grid_area": "top-left"
      }
     },
     "ac16700686cd4a7fa32b98c543bcd4e9": {
      "model_module": "@jupyter-widgets/base",
      "model_module_version": "1.1.0",
      "model_name": "LayoutModel",
      "state": {
       "grid_template_areas": "\"top-left top-right\"\n\"bottom-left bottom-right\"",
       "grid_template_columns": "1fr 1fr",
       "grid_template_rows": "1fr 1fr"
      }
     },
     "ac1cc130ac81468cb568fccc8b72e3c4": {
      "model_module": "@jupyter-widgets/base",
      "model_module_version": "1.1.0",
      "model_name": "LayoutModel",
      "state": {
       "grid_template_areas": "\"top-left bottom-right\"\n\"bottom-left bottom-right\"",
       "grid_template_columns": "1fr 1fr",
       "grid_template_rows": "1fr 1fr",
       "width": "auto"
      }
     },
     "ac47a3eab3af41479d50460a4d018dcf": {
      "model_module": "bqplot",
      "model_module_version": "^0.4.5",
      "model_name": "AxisModel",
      "state": {
       "scale": "IPY_MODEL_bcfd71f4cc834defaa4e6608dd339125",
       "side": "bottom",
       "tick_values": {
        "type": null,
        "values": null
       }
      }
     },
     "ac5b204600c34dcb93fbf3a842102fa2": {
      "model_module": "@jupyter-widgets/controls",
      "model_module_version": "1.4.0",
      "model_name": "FloatSliderModel",
      "state": {
       "layout": "IPY_MODEL_eb340c161a8647f7b631ace9f3ef92ae",
       "max": 1,
       "step": 0.1,
       "style": "IPY_MODEL_2d056212298243c893fc51da3be26602",
       "value": 0.2
      }
     },
     "acb72d4a13d34960b260f6cbe7a45c5a": {
      "model_module": "@jupyter-widgets/controls",
      "model_module_version": "1.4.0",
      "model_name": "GridBoxModel",
      "state": {
       "children": [
        "IPY_MODEL_73e3221482df4c6ea5280d7e6a935c63",
        "IPY_MODEL_c82aaa1b894d4c298ad75a996906548c",
        "IPY_MODEL_226e638026254fefb3fcbcdfbb8c74fa",
        "IPY_MODEL_fc5a397d0cd44a078b0b3f1d8111fc3a"
       ],
       "layout": "IPY_MODEL_4c8e44f476914b43ae9ebb11e529e7a1"
      }
     },
     "acc44908eedf441c9272c5c81e9f6871": {
      "model_module": "@jupyter-widgets/controls",
      "model_module_version": "1.4.0",
      "model_name": "SliderStyleModel",
      "state": {
       "description_width": ""
      }
     },
     "acd08279bf144a79aaa2d3be3ee1845f": {
      "model_module": "@jupyter-widgets/controls",
      "model_module_version": "1.4.0",
      "model_name": "ButtonModel",
      "state": {
       "description": "Bottom right",
       "layout": "IPY_MODEL_c546ac55951249b0af55cda663589c3d",
       "style": "IPY_MODEL_4bf7cf259ebc49d38f1e53308c89f492"
      }
     },
     "ace150919ddc457781b56f6564a43648": {
      "model_module": "@jupyter-widgets/controls",
      "model_module_version": "1.4.0",
      "model_name": "IntTextModel",
      "state": {
       "layout": "IPY_MODEL_172a473aac214825829ddf7f7b146f6d",
       "step": 1,
       "style": "IPY_MODEL_491a11e7ada4459aa00cacd6b4773967",
       "value": 25
      }
     },
     "aceec794a44943a0ac63e64ed56b6774": {
      "model_module": "@jupyter-widgets/controls",
      "model_module_version": "1.4.0",
      "model_name": "ButtonModel",
      "state": {
       "description": "Bottom left",
       "layout": "IPY_MODEL_19c78b5565b6441798d73c5a3182c3ca",
       "style": "IPY_MODEL_84e90db9163548be8e01989c0a9ff589"
      }
     },
     "ad145b6b1e33499eb9e2d85e340c845b": {
      "model_module": "@jupyter-widgets/base",
      "model_module_version": "1.1.0",
      "model_name": "LayoutModel",
      "state": {
       "grid_area": "bottom-left"
      }
     },
     "ad15f2f068ad42fab6633573857131e9": {
      "model_module": "@jupyter-widgets/base",
      "model_module_version": "1.1.0",
      "model_name": "LayoutModel",
      "state": {
       "grid_area": "top-left"
      }
     },
     "ad1a5318f3e2432aacea527864e4861c": {
      "model_module": "@jupyter-widgets/controls",
      "model_module_version": "1.4.0",
      "model_name": "IntSliderModel",
      "state": {
       "layout": "IPY_MODEL_08f0420ca4d74eeaa14411912d927bd4",
       "style": "IPY_MODEL_c241c7d45c264838a94b67426b902f9a",
       "value": 59
      }
     },
     "ad4d570d9d434dc28de7632f2673cac9": {
      "model_module": "@jupyter-widgets/controls",
      "model_module_version": "1.4.0",
      "model_name": "SliderStyleModel",
      "state": {
       "description_width": ""
      }
     },
     "ad6190cdab4e4360ac524ef628353905": {
      "model_module": "@jupyter-widgets/base",
      "model_module_version": "1.1.0",
      "model_name": "LayoutModel",
      "state": {
       "grid_area": "bottom-left"
      }
     },
     "ad692e84e67a47c890d41a03a18f4d3d": {
      "model_module": "bqplot",
      "model_module_version": "^0.4.5",
      "model_name": "AxisModel",
      "state": {
       "scale": "IPY_MODEL_3da287ec91b241c9b838626e15e0a2e9",
       "side": "bottom",
       "tick_values": {
        "type": null,
        "values": null
       }
      }
     },
     "ad77cfcb3b3546bfa924401bcc86a6ea": {
      "model_module": "@jupyter-widgets/base",
      "model_module_version": "1.1.0",
      "model_name": "LayoutModel",
      "state": {
       "grid_area": "top-left",
       "height": "20px",
       "width": "300px"
      }
     },
     "ad8376e60d4b431f9909d5a084132452": {
      "model_module": "@jupyter-widgets/base",
      "model_module_version": "1.1.0",
      "model_name": "LayoutModel",
      "state": {
       "grid_area": "top-left"
      }
     },
     "ad85910ce0e748339f5b7806fa3b582b": {
      "model_module": "@jupyter-widgets/base",
      "model_module_version": "1.1.0",
      "model_name": "LayoutModel",
      "state": {
       "grid_template_areas": "\"top-left top-right\"\n\"bottom-left bottom-right\"",
       "grid_template_columns": "1fr 1fr",
       "grid_template_rows": "1fr 1fr",
       "width": "auto"
      }
     },
     "ad92174324974fb59746d4fb2add3c76": {
      "model_module": "@jupyter-widgets/base",
      "model_module_version": "1.1.0",
      "model_name": "LayoutModel",
      "state": {
       "grid_template_areas": "\"top-left bottom-right\"\n\"bottom-left bottom-right\"",
       "grid_template_columns": "1fr 1fr",
       "grid_template_rows": "1fr 1fr",
       "width": "auto"
      }
     },
     "adb2767f1c96404398bda200d8c769bd": {
      "model_module": "@jupyter-widgets/controls",
      "model_module_version": "1.4.0",
      "model_name": "ButtonModel",
      "state": {
       "description": "Top left",
       "layout": "IPY_MODEL_ac0f945f53f0407b9b8e37f9641b4fd5",
       "style": "IPY_MODEL_55ad53c2b7474f0e97f963c53ea8a6d8"
      }
     },
     "adb28488458e4abbad2410cc302dfae5": {
      "model_module": "@jupyter-widgets/controls",
      "model_module_version": "1.4.0",
      "model_name": "FloatSliderModel",
      "state": {
       "layout": "IPY_MODEL_b219a7dafa754aa29e7c6c5232c10f46",
       "max": 1,
       "step": 0.1,
       "style": "IPY_MODEL_083fe336485541ffb40cd37a160bf996",
       "value": 1
      }
     },
     "ade02042607b4849b9296424286abe2e": {
      "model_module": "@jupyter-widgets/base",
      "model_module_version": "1.1.0",
      "model_name": "LayoutModel",
      "state": {
       "align_items": "center"
      }
     },
     "adfd5f49a45f4a488560467a4a88362a": {
      "model_module": "@jupyter-widgets/controls",
      "model_module_version": "1.4.0",
      "model_name": "LinkModel",
      "state": {
       "source": [
        "IPY_MODEL_da8052b7fac44fd38966923163775eaa",
        "value"
       ],
       "target": [
        "IPY_MODEL_d5c16d2ac33e4d5f9b3c26bc945c5968",
        "value"
       ]
      }
     },
     "ae163b8cb5e84a42acca2b05ec7670b3": {
      "model_module": "@jupyter-widgets/controls",
      "model_module_version": "1.4.0",
      "model_name": "GridBoxModel",
      "state": {
       "children": [
        "IPY_MODEL_6a59c5555c244467b88fc030459fd1b9",
        "IPY_MODEL_a3c93aa3765249ac82ca615120aea61c",
        "IPY_MODEL_611cf9fc49c645538473b21e6ae20339"
       ],
       "layout": "IPY_MODEL_0fd975b6a45943ec9aadaa2d7771c712"
      }
     },
     "ae31e31652a9428cb3b43f4e9f2259a9": {
      "model_module": "@jupyter-widgets/controls",
      "model_module_version": "1.4.0",
      "model_name": "IntSliderModel",
      "state": {
       "layout": "IPY_MODEL_ad6190cdab4e4360ac524ef628353905",
       "style": "IPY_MODEL_459f6528f60e4c28a449eb4a04b68e90",
       "value": 25
      }
     },
     "ae4841c44d04487e871e50552c9bbc6e": {
      "model_module": "@jupyter-widgets/controls",
      "model_module_version": "1.4.0",
      "model_name": "GridBoxModel",
      "state": {
       "children": [
        "IPY_MODEL_3744d14164074b7b99c25dc2439dc832",
        "IPY_MODEL_6d81e0c51fe5405ca350bb11ac98975b",
        "IPY_MODEL_6d3e6c19d51d41c0818b1c4751e29073"
       ],
       "layout": "IPY_MODEL_ac16700686cd4a7fa32b98c543bcd4e9"
      }
     },
     "ae80f997d66643cd993595668c75cfbc": {
      "model_module": "@jupyter-widgets/controls",
      "model_module_version": "1.4.0",
      "model_name": "DescriptionStyleModel",
      "state": {
       "description_width": ""
      }
     },
     "ae812fb2713e445086b31b1c18ac86af": {
      "model_module": "bqplot",
      "model_module_version": "^0.4.5",
      "model_name": "BarsModel",
      "state": {
       "color": {
        "type": null,
        "values": null
       },
       "colors": [
        "steelblue"
       ],
       "display_legend": false,
       "scales": {
        "x": "IPY_MODEL_c76fd4e25054407599b09d4665f02595",
        "y": "IPY_MODEL_13099dd62dc64cc29a8c6babd77385c0"
       },
       "selected": [],
       "x": {
        "type": "float",
        "values": [
         0,
         1,
         2,
         3,
         4,
         5,
         6,
         7,
         8,
         9
        ]
       },
       "y": {
        "type": "float",
        "values": [
         0.6288984390617004,
         0.3984342586196771,
         0.0627129520233457,
         0.42403225188984195,
         0.2586840668894077,
         0.8490383084285108,
         0.03330462654669619,
         0.9589827218634736,
         0.3553688484719296,
         0.3567068904025429
        ]
       }
      }
     },
     "ae933fd12d8d4aaa9390c6b498659e5e": {
      "model_module": "@jupyter-widgets/controls",
      "model_module_version": "1.4.0",
      "model_name": "GridBoxModel",
      "state": {
       "children": [
        "IPY_MODEL_f704c30879e14dddbc51672b01b51c43",
        "IPY_MODEL_46a63a8278bc496e8368c2f891b8d6a2",
        "IPY_MODEL_7af1c944977f4399a0e4e364411d36d6",
        "IPY_MODEL_3dba0912c2ed4ed8be6aca997b1a1f6b"
       ],
       "layout": "IPY_MODEL_c86bfb8e4d5f4ffdb3ef9fe4b6e38d8b"
      }
     },
     "ae9a5de267dd40d68b26ac68f36555c3": {
      "model_module": "@jupyter-widgets/base",
      "model_module_version": "1.1.0",
      "model_name": "LayoutModel",
      "state": {
       "grid_template_areas": "\"top-left top-left\"\n\"bottom-left bottom-left\"",
       "grid_template_columns": "1fr 1fr",
       "grid_template_rows": "1fr 1fr",
       "width": "auto"
      }
     },
     "aeb52b5cef104082b9db29fbc8a8b013": {
      "model_module": "@jupyter-widgets/controls",
      "model_module_version": "1.4.0",
      "model_name": "ButtonStyleModel",
      "state": {}
     },
     "aeeae46b9fa44a60bd3f923e4be0adaf": {
      "model_module": "@jupyter-widgets/base",
      "model_module_version": "1.1.0",
      "model_name": "LayoutModel",
      "state": {
       "align_items": "center"
      }
     },
     "aef49c4f74ec4ac7a0171eb3740c521c": {
      "model_module": "bqplot",
      "model_module_version": "^0.4.5",
      "model_name": "OrdinalScaleModel",
      "state": {
       "domain": []
      }
     },
     "aeff68289e8548f888faa16240337872": {
      "model_module": "bqplot",
      "model_module_version": "^0.4.5",
      "model_name": "BarsModel",
      "state": {
       "color": {
        "type": null,
        "values": null
       },
       "colors": [
        "steelblue"
       ],
       "display_legend": false,
       "scales": {
        "x": "IPY_MODEL_5ccfd3ec768144cf9001db5b229119dd",
        "y": "IPY_MODEL_8b299d264fd041d79424a380355596f0"
       },
       "selected": [],
       "x": {
        "type": "float",
        "values": [
         0,
         1,
         2,
         3,
         4,
         5,
         6,
         7,
         8,
         9
        ]
       },
       "y": {
        "type": "float",
        "values": [
         0.6288984390617004,
         0.3984342586196771,
         0.0627129520233457,
         0.42403225188984195,
         0.2586840668894077,
         0.8490383084285108,
         0.03330462654669619,
         0.9589827218634736,
         0.3553688484719296,
         0.3567068904025429
        ]
       }
      }
     },
     "af03975b03524da1b6983ca1a51f00a9": {
      "model_module": "@jupyter-widgets/controls",
      "model_module_version": "1.4.0",
      "model_name": "FloatSliderModel",
      "state": {
       "description": "Max: ",
       "layout": "IPY_MODEL_d903deb17b6a47da8b839136f74fa651",
       "max": 10,
       "step": 0.1,
       "style": "IPY_MODEL_b778dec84fba46deb551ef9b78373c28",
       "value": 2.8
      }
     },
     "af10421fa02b4cecb91a547b70317629": {
      "model_module": "@jupyter-widgets/base",
      "model_module_version": "1.1.0",
      "model_name": "LayoutModel",
      "state": {
       "grid_template_areas": "\"top-left bottom-right\"\n\"bottom-left bottom-right\"",
       "grid_template_columns": "1fr 1fr",
       "grid_template_rows": "1fr 1fr",
       "width": "auto"
      }
     },
     "af588d0b3a814050b731ef8919daab00": {
      "model_module": "@jupyter-widgets/controls",
      "model_module_version": "1.4.0",
      "model_name": "SliderStyleModel",
      "state": {
       "description_width": ""
      }
     },
     "af58beaca28a4be680847da7584d54ac": {
      "model_module": "@jupyter-widgets/controls",
      "model_module_version": "1.4.0",
      "model_name": "FloatSliderModel",
      "state": {
       "description": "Min: ",
       "layout": "IPY_MODEL_845e4bef141a4fa886813c2fd78509d0",
       "max": 10,
       "step": 0.1,
       "style": "IPY_MODEL_174b340b887940728eae9a1589c2cf87",
       "value": 1
      }
     },
     "af76510af8f3417f83184129b1a86fa3": {
      "model_module": "@jupyter-widgets/controls",
      "model_module_version": "1.4.0",
      "model_name": "ButtonModel",
      "state": {
       "description": "Top right",
       "layout": "IPY_MODEL_2dc3441378b34793b8b9b45dea013f86",
       "style": "IPY_MODEL_a3e6b9d09b7f4e7295dec89386d7ff9a"
      }
     },
     "af91fbfb810a44099da2fc6797df3b34": {
      "model_module": "@jupyter-widgets/base",
      "model_module_version": "1.1.0",
      "model_name": "LayoutModel",
      "state": {
       "grid_template_areas": "\"top-left bottom-right\"\n\"bottom-left bottom-right\"",
       "grid_template_columns": "1fr 1fr",
       "grid_template_rows": "1fr 1fr",
       "width": "auto"
      }
     },
     "afc14a154eb244b6ac79b44c1ed0b0c3": {
      "model_module": "@jupyter-widgets/controls",
      "model_module_version": "1.4.0",
      "model_name": "GridBoxModel",
      "state": {
       "children": [
        "IPY_MODEL_25d741750e08496fb4ec9827d8738d2e",
        "IPY_MODEL_c536d23d86a546d0abab14ef47933b67",
        "IPY_MODEL_54721cf760804b1786b1fdebcf6c58d9"
       ],
       "layout": "IPY_MODEL_07d36c45b9cb4a5f92bd88191f6ca262"
      }
     },
     "afcdb8b0ca86483092fc4121e4484b94": {
      "model_module": "@jupyter-widgets/controls",
      "model_module_version": "1.4.0",
      "model_name": "ButtonStyleModel",
      "state": {}
     },
     "afe1696d54184f8e80154fa8307b5933": {
      "model_module": "@jupyter-widgets/controls",
      "model_module_version": "1.4.0",
      "model_name": "GridBoxModel",
      "state": {
       "children": [
        "IPY_MODEL_fd07cca84ee146fe87cf5e0b2b5be5a2",
        "IPY_MODEL_291f6701606a42bbb3cbeff61531f688",
        "IPY_MODEL_d51598261a814aceada6e129c0f2ec9e"
       ],
       "layout": "IPY_MODEL_1d9fb476eb7c4b75847ac7e3819e7d3d"
      }
     },
     "aff55b195a0f48a29b081f1342c23fb6": {
      "model_module": "@jupyter-widgets/controls",
      "model_module_version": "1.4.0",
      "model_name": "ButtonModel",
      "state": {
       "description": "Bottom right",
       "layout": "IPY_MODEL_f72d1f6710584f4faab1fc21a69d18a5",
       "style": "IPY_MODEL_2786ed230dd0498dbab7391d6dac841a"
      }
     },
     "b022e3eb014241fbb3ca9917903be3af": {
      "model_module": "@jupyter-widgets/controls",
      "model_module_version": "1.4.0",
      "model_name": "GridBoxModel",
      "state": {
       "children": [
        "IPY_MODEL_174f3a327d6e4b0db096cc5c42c152c7",
        "IPY_MODEL_ccd7560d0ea142d2a6e8f55a4c5e52a6",
        "IPY_MODEL_074af9c2107f40159d1ca9cd38cb6cab"
       ],
       "layout": "IPY_MODEL_480e732e814a4093a69b245409b9e95a"
      }
     },
     "b057dcaf8cd94d379cd869b57bd97ac8": {
      "model_module": "@jupyter-widgets/base",
      "model_module_version": "1.1.0",
      "model_name": "LayoutModel",
      "state": {
       "grid_area": "top-left"
      }
     },
     "b07edc2aa6454eca93aacf15cc3ec659": {
      "model_module": "@jupyter-widgets/controls",
      "model_module_version": "1.4.0",
      "model_name": "ButtonStyleModel",
      "state": {}
     },
     "b0871980d9aa42d8a1720ec156d4c04f": {
      "model_module": "@jupyter-widgets/controls",
      "model_module_version": "1.4.0",
      "model_name": "GridBoxModel",
      "state": {
       "children": [
        "IPY_MODEL_562bf23ee3c84e02bc28eb920c15229e",
        "IPY_MODEL_8ce34ee22f0645279bc5196c2d523309",
        "IPY_MODEL_611cf9fc49c645538473b21e6ae20339"
       ],
       "layout": "IPY_MODEL_aadb7db9bb3649c4899da56d3bbeef0a"
      }
     },
     "b08e6afc6b3640cdb9fc940978dae61a": {
      "model_module": "@jupyter-widgets/base",
      "model_module_version": "1.1.0",
      "model_name": "LayoutModel",
      "state": {
       "grid_template_areas": "\"top-left top-right\"\n\"bottom-left bottom-right\"",
       "grid_template_columns": "1fr 1fr",
       "grid_template_rows": "1fr 1fr",
       "width": "auto"
      }
     },
     "b0a98437839c49c88f85568657cc18b9": {
      "model_module": "@jupyter-widgets/base",
      "model_module_version": "1.1.0",
      "model_name": "LayoutModel",
      "state": {
       "grid_area": "bottom-left",
       "height": "20px",
       "width": "300px"
      }
     },
     "b0d21688b9a04f1c9f27fa1e4cfc3285": {
      "model_module": "@jupyter-widgets/controls",
      "model_module_version": "1.4.0",
      "model_name": "IntSliderModel",
      "state": {
       "layout": "IPY_MODEL_95284156a78e4128bb6d46e35afd1954",
       "style": "IPY_MODEL_6b713753f2aa462788662582d779298a",
       "value": 25
      }
     },
     "b11d97af58584a01a0c670f17d21601c": {
      "model_module": "@jupyter-widgets/controls",
      "model_module_version": "1.4.0",
      "model_name": "IntTextModel",
      "state": {
       "layout": "IPY_MODEL_c661f4c5445e44e0856594b176d863a5",
       "step": 1,
       "style": "IPY_MODEL_7cd6e6d2bfe7454dab637b65f63c882b",
       "value": 25
      }
     },
     "b148a114aa254f80b65be00437d2a68c": {
      "model_module": "@jupyter-widgets/controls",
      "model_module_version": "1.4.0",
      "model_name": "FloatSliderModel",
      "state": {
       "layout": "IPY_MODEL_9a5e6c50d6b74b238c5517eceb3b80e1",
       "max": 10,
       "min": 0.05,
       "step": 0.1,
       "style": "IPY_MODEL_1dacd88b4721438fb78cc49ff0d9f501",
       "value": 1
      }
     },
     "b169d72c805749ff93ff0423313e5fa3": {
      "model_module": "@jupyter-widgets/base",
      "model_module_version": "1.1.0",
      "model_name": "LayoutModel",
      "state": {
       "grid_template_areas": "\"top-left bottom-right\"\n\"bottom-left bottom-right\"",
       "grid_template_columns": "1fr 1fr",
       "grid_template_rows": "1fr 1fr",
       "width": "auto"
      }
     },
     "b1713788d02645c39bd13e088d6557a1": {
      "model_module": "@jupyter-widgets/controls",
      "model_module_version": "1.4.0",
      "model_name": "ButtonModel",
      "state": {
       "description": "Bottom left",
       "layout": "IPY_MODEL_332d151004c24e78bbb0ca7087219f35",
       "style": "IPY_MODEL_113d3d817ae446ae9247761db51c2b8d"
      }
     },
     "b1751cb322ca47ad8cff8d051e22d4fb": {
      "model_module": "@jupyter-widgets/controls",
      "model_module_version": "1.4.0",
      "model_name": "LinkModel",
      "state": {
       "source": [
        "IPY_MODEL_c14a297730f3499c8f7e142773a45f54",
        "value"
       ],
       "target": [
        "IPY_MODEL_980eddda60034a8d8ff2a1c0736787b7",
        "value"
       ]
      }
     },
     "b1830432aae64b148fcb12531f5af162": {
      "model_module": "@jupyter-widgets/controls",
      "model_module_version": "1.4.0",
      "model_name": "FloatSliderModel",
      "state": {
       "layout": "IPY_MODEL_ddab2acac7ad468d95e1ad94ec31dd2a",
       "max": 1,
       "step": 0.1,
       "style": "IPY_MODEL_cc410701d7b243d9abf529310d6d10a8",
       "value": 0.3
      }
     },
     "b1975b8b5f00470b96d250858eda5806": {
      "model_module": "bqplot",
      "model_module_version": "^0.4.5",
      "model_name": "AxisModel",
      "state": {
       "scale": "IPY_MODEL_331334b515d44663bd1d1160a6e4b36b",
       "side": "bottom",
       "tick_values": {
        "type": null,
        "values": null
       }
      }
     },
     "b1bf6aaa9555405e80069844e298aadc": {
      "model_module": "@jupyter-widgets/controls",
      "model_module_version": "1.4.0",
      "model_name": "LinkModel",
      "state": {
       "source": [
        "IPY_MODEL_5a109a04491c4bd0bb1432cc1eaf2982",
        "value"
       ],
       "target": [
        "IPY_MODEL_584b2b7a0f0a4023b1a8d5ddd96aca1e",
        "value"
       ]
      }
     },
     "b219a7dafa754aa29e7c6c5232c10f46": {
      "model_module": "@jupyter-widgets/base",
      "model_module_version": "1.1.0",
      "model_name": "LayoutModel",
      "state": {
       "grid_area": "top-left"
      }
     },
     "b23940f4e06f419390f8916ff69e2c02": {
      "model_module": "@jupyter-widgets/base",
      "model_module_version": "1.1.0",
      "model_name": "LayoutModel",
      "state": {
       "grid_template_areas": "\"top-left top-right\"\n\"bottom-left bottom-right\"",
       "grid_template_columns": "1fr 1fr",
       "grid_template_rows": "1fr 1fr",
       "width": "auto"
      }
     },
     "b2512fd55ce041ed9be0b15aa6a8d56b": {
      "model_module": "@jupyter-widgets/base",
      "model_module_version": "1.1.0",
      "model_name": "LayoutModel",
      "state": {
       "grid_area": "top-left",
       "height": "20px",
       "width": "300px"
      }
     },
     "b28025fa15a8475984614ff77346afe4": {
      "model_module": "@jupyter-widgets/controls",
      "model_module_version": "1.4.0",
      "model_name": "ButtonStyleModel",
      "state": {}
     },
     "b2acd38338a84b89a52ca402cde746d0": {
      "model_module": "@jupyter-widgets/controls",
      "model_module_version": "1.4.0",
      "model_name": "GridBoxModel",
      "state": {
       "children": [
        "IPY_MODEL_c6ab3f8999f24279b236d4631412bbac",
        "IPY_MODEL_5a2d2167b11c4c0d9b7daba1754e0747",
        "IPY_MODEL_f67b8232dc4b4da1b0533fdc8a06e343"
       ],
       "layout": "IPY_MODEL_daf5286db23946a7b1be3a083976502f"
      }
     },
     "b2ad29735a304e34a3bea6d1f8542432": {
      "model_module": "@jupyter-widgets/base",
      "model_module_version": "1.1.0",
      "model_name": "LayoutModel",
      "state": {
       "grid_template_areas": "\"top-left bottom-right\"\n\"bottom-left bottom-right\"",
       "grid_template_columns": "1fr 1fr",
       "grid_template_rows": "1fr 1fr",
       "width": "auto"
      }
     },
     "b2b5dc0c04ca455c952d9f9a3a7dcd06": {
      "model_module": "@jupyter-widgets/base",
      "model_module_version": "1.1.0",
      "model_name": "LayoutModel",
      "state": {
       "grid_area": "bottom-right"
      }
     },
     "b2e35dc720af44f090b90ce1016ad757": {
      "model_module": "@jupyter-widgets/controls",
      "model_module_version": "1.4.0",
      "model_name": "ButtonModel",
      "state": {
       "description": "Top left",
       "layout": "IPY_MODEL_2e4e11c9d63344228a42d98b0ad77610",
       "style": "IPY_MODEL_6f8925043088412a90c228b480828e42"
      }
     },
     "b3112fd8c4c549368db10c1a130bf496": {
      "model_module": "@jupyter-widgets/base",
      "model_module_version": "1.1.0",
      "model_name": "LayoutModel",
      "state": {
       "grid_area": "bottom-left"
      }
     },
     "b31f67c720e9432da55ffc098cbd031b": {
      "model_module": "@jupyter-widgets/controls",
      "model_module_version": "1.4.0",
      "model_name": "ButtonStyleModel",
      "state": {}
     },
     "b32b3f3fb3b04aeab15f98836e7a8b45": {
      "model_module": "@jupyter-widgets/controls",
      "model_module_version": "1.4.0",
      "model_name": "LinkModel",
      "state": {
       "source": [
        "IPY_MODEL_675e508065eb411d9459bee5d03b3d25",
        "min"
       ],
       "target": [
        "IPY_MODEL_66f0cb74510741d596bfcf4ee40ff462",
        "value"
       ]
      }
     },
     "b3328fe3e2ea43df82d2fadf4b21eda9": {
      "model_module": "@jupyter-widgets/controls",
      "model_module_version": "1.4.0",
      "model_name": "ButtonModel",
      "state": {
       "description": "Top left",
       "layout": "IPY_MODEL_589fd35bae594f59b3357dc4c293f763",
       "style": "IPY_MODEL_721d43fa6cb949528f8b16137781393c"
      }
     },
     "b333a84f74964060ab0ad71ded7bf0ba": {
      "model_module": "@jupyter-widgets/controls",
      "model_module_version": "1.4.0",
      "model_name": "ButtonModel",
      "state": {
       "description": "Bottom right",
       "layout": "IPY_MODEL_9940c6c7125e447e8b08dfe17b7196b7",
       "style": "IPY_MODEL_8d6ce8da0897488b81adf47a47b6c063"
      }
     },
     "b34f6073fd6b4ef5ba46707c8ee81a67": {
      "model_module": "@jupyter-widgets/base",
      "model_module_version": "1.1.0",
      "model_name": "LayoutModel",
      "state": {
       "grid_area": "top-right"
      }
     },
     "b3cc93184c424d1094239780e95b7839": {
      "model_module": "@jupyter-widgets/base",
      "model_module_version": "1.1.0",
      "model_name": "LayoutModel",
      "state": {
       "grid_area": "top-left"
      }
     },
     "b3d52b6d03cc4f159ba68abbf43a000e": {
      "model_module": "@jupyter-widgets/controls",
      "model_module_version": "1.4.0",
      "model_name": "FloatSliderModel",
      "state": {
       "description": "Max: ",
       "layout": "IPY_MODEL_8e446494f91c4d46a45e6eda9b5b23ab",
       "max": 10,
       "min": 1,
       "step": 0.1,
       "style": "IPY_MODEL_8316a09da25940c3947a27955e2abc31",
       "value": 5.8
      }
     },
     "b4247af4fd4847db8ed105833341017e": {
      "model_module": "@jupyter-widgets/controls",
      "model_module_version": "1.4.0",
      "model_name": "ButtonStyleModel",
      "state": {}
     },
     "b453d81ae33b45efacb3ac8a7854fc45": {
      "model_module": "@jupyter-widgets/base",
      "model_module_version": "1.1.0",
      "model_name": "LayoutModel",
      "state": {
       "grid_area": "bottom-left",
       "height": "20px",
       "width": "300px"
      }
     },
     "b453e4c75f454118bf29f46f57a839a5": {
      "model_module": "@jupyter-widgets/controls",
      "model_module_version": "1.4.0",
      "model_name": "ButtonStyleModel",
      "state": {}
     },
     "b4665d10706b4138993efc9734591f5b": {
      "model_module": "@jupyter-widgets/controls",
      "model_module_version": "1.4.0",
      "model_name": "LinkModel",
      "state": {
       "source": [
        "IPY_MODEL_100e72e79bce4f5791fff2635382e69d",
        "min"
       ],
       "target": [
        "IPY_MODEL_fae1d9e6af4b419ab14ae4c1bd4f417a",
        "value"
       ]
      }
     },
     "b489e13b713541478bd1f6ec43cfbac4": {
      "model_module": "@jupyter-widgets/base",
      "model_module_version": "1.1.0",
      "model_name": "LayoutModel",
      "state": {
       "grid_template_areas": "\"top-left top-right\"\n\"bottom-left bottom-right\"",
       "grid_template_columns": "1fr 1fr",
       "grid_template_rows": "1fr 1fr",
       "width": "auto"
      }
     },
     "b48e3af8704a4aee9ff8162d7278ac79": {
      "model_module": "@jupyter-widgets/controls",
      "model_module_version": "1.4.0",
      "model_name": "ButtonModel",
      "state": {
       "description": "Bottom left",
       "layout": "IPY_MODEL_5f00f4c1dd4c44f3a00174d3db368251",
       "style": "IPY_MODEL_145b55e515f642cea4ae34d0c4e39b4d"
      }
     },
     "b4a973f4da4846e994f68035f5cde175": {
      "model_module": "@jupyter-widgets/base",
      "model_module_version": "1.1.0",
      "model_name": "LayoutModel",
      "state": {
       "grid_template_areas": "\"top-left top-right\"\n\"bottom-left bottom-right\"",
       "grid_template_columns": "1fr 1fr",
       "grid_template_rows": "1fr 1fr",
       "width": "auto"
      }
     },
     "b4bcaf8d8e044fe184787ecc8957eadc": {
      "model_module": "@jupyter-widgets/base",
      "model_module_version": "1.1.0",
      "model_name": "LayoutModel",
      "state": {
       "grid_template_areas": "\"top-left top-right\"\n\"bottom-left bottom-right\"",
       "grid_template_columns": "1fr 1fr",
       "grid_template_rows": "1fr 1fr"
      }
     },
     "b4f4349478584cd79f48f5a6d44ef9d0": {
      "model_module": "bqplot",
      "model_module_version": "^0.4.5",
      "model_name": "LinearScaleModel",
      "state": {
       "allow_padding": false,
       "max": 1,
       "min": 0,
       "stabilized": false
      }
     },
     "b52b4a9a1ff14c5aa7890ab1664e9e42": {
      "model_module": "@jupyter-widgets/controls",
      "model_module_version": "1.4.0",
      "model_name": "ButtonModel",
      "state": {
       "description": "Bottom left",
       "layout": "IPY_MODEL_237e641b5764449a9b7c68c19380798d",
       "style": "IPY_MODEL_15a0d3932c63480fa4abec492b4ef1c1"
      }
     },
     "b54bab01d96a42ca93c51f6541473660": {
      "model_module": "@jupyter-widgets/controls",
      "model_module_version": "1.4.0",
      "model_name": "SliderStyleModel",
      "state": {
       "description_width": ""
      }
     },
     "b54d6fcfa3524939a7c7bc69a579e306": {
      "model_module": "@jupyter-widgets/base",
      "model_module_version": "1.1.0",
      "model_name": "LayoutModel",
      "state": {
       "grid_area": "top-left",
       "width": "200px"
      }
     },
     "b56267c3136643c580c3d348db602d88": {
      "model_module": "@jupyter-widgets/base",
      "model_module_version": "1.1.0",
      "model_name": "LayoutModel",
      "state": {
       "grid_area": "top-left"
      }
     },
     "b58c87f6b9544143a494a63a00dc990d": {
      "model_module": "@jupyter-widgets/base",
      "model_module_version": "1.1.0",
      "model_name": "LayoutModel",
      "state": {
       "grid_area": "bottom-left",
       "height": "20px",
       "width": "300px"
      }
     },
     "b5bb7517266f49d5b51e02d848cf0a3b": {
      "model_module": "@jupyter-widgets/base",
      "model_module_version": "1.1.0",
      "model_name": "LayoutModel",
      "state": {
       "grid_template_areas": "\"top-left bottom-right\"\n\"bottom-left bottom-right\"",
       "grid_template_columns": "1fr 1fr",
       "grid_template_rows": "1fr 1fr",
       "width": "auto"
      }
     },
     "b5f69b4e150447fe853b52ff090cc269": {
      "model_module": "@jupyter-widgets/base",
      "model_module_version": "1.1.0",
      "model_name": "LayoutModel",
      "state": {
       "align_items": "center"
      }
     },
     "b60ae3a080fe4911985f1420ed173bbc": {
      "model_module": "@jupyter-widgets/base",
      "model_module_version": "1.1.0",
      "model_name": "LayoutModel",
      "state": {
       "grid_area": "top-left"
      }
     },
     "b636c07ab1a44be98a1a20f29ad774fe": {
      "model_module": "@jupyter-widgets/controls",
      "model_module_version": "1.4.0",
      "model_name": "ButtonModel",
      "state": {
       "description": "Bottom left",
       "layout": "IPY_MODEL_b6687673d8e4494bafc8e36f67037abc",
       "style": "IPY_MODEL_cab398fb2a6e4a72ae9a5bcfc703317b"
      }
     },
     "b647bb807325428789586bd22090b2a0": {
      "model_module": "@jupyter-widgets/base",
      "model_module_version": "1.1.0",
      "model_name": "LayoutModel",
      "state": {
       "grid_area": "top-left"
      }
     },
     "b64d803bcc4349328e4d7b65443aed66": {
      "model_module": "@jupyter-widgets/controls",
      "model_module_version": "1.4.0",
      "model_name": "FloatSliderModel",
      "state": {
       "layout": "IPY_MODEL_957725ccff29484688bf99d4f0311534",
       "max": 10,
       "min": 1,
       "step": 0.1,
       "style": "IPY_MODEL_11fa3fefece44d89a277110df98bf579",
       "value": 1
      }
     },
     "b6687673d8e4494bafc8e36f67037abc": {
      "model_module": "@jupyter-widgets/base",
      "model_module_version": "1.1.0",
      "model_name": "LayoutModel",
      "state": {
       "grid_area": "bottom-left"
      }
     },
     "b6772be24add40b3ad046162ef893b29": {
      "model_module": "@jupyter-widgets/controls",
      "model_module_version": "1.4.0",
      "model_name": "IntSliderModel",
      "state": {
       "layout": "IPY_MODEL_4cfdde91e321430c9e4dbc465e768428",
       "style": "IPY_MODEL_af588d0b3a814050b731ef8919daab00",
       "value": 25
      }
     },
     "b6a9b9bd14a24f7892d5a918788403e1": {
      "model_module": "@jupyter-widgets/base",
      "model_module_version": "1.1.0",
      "model_name": "LayoutModel",
      "state": {
       "grid_template_areas": "\"top-left bottom-right\"\n\"bottom-left bottom-right\"",
       "grid_template_columns": "1fr 1fr",
       "grid_template_rows": "1fr 1fr",
       "width": "auto"
      }
     },
     "b6ac071a384f41eab6f28b6369e0602d": {
      "model_module": "@jupyter-widgets/base",
      "model_module_version": "1.1.0",
      "model_name": "LayoutModel",
      "state": {
       "grid_template_areas": "\"top-left top-right\"\n\"bottom-left bottom-right\"",
       "grid_template_columns": "1fr 1fr",
       "grid_template_rows": "1fr 1fr",
       "width": "auto"
      }
     },
     "b6c4c5cfa9364e8aad316bbd27f2e8bf": {
      "model_module": "@jupyter-widgets/controls",
      "model_module_version": "1.4.0",
      "model_name": "SliderStyleModel",
      "state": {
       "description_width": ""
      }
     },
     "b6d67391e1da4b018c5d012cb3f560e4": {
      "model_module": "@jupyter-widgets/controls",
      "model_module_version": "1.4.0",
      "model_name": "GridBoxModel",
      "state": {
       "children": [
        "IPY_MODEL_80fd283f639943108a81d4bc0ea926f9",
        "IPY_MODEL_536e89b80ee34070b54acac99c488604",
        "IPY_MODEL_8d4c296dbbfc493faf2736f6f46dbbdf"
       ],
       "layout": "IPY_MODEL_3ae50a3b7a0f4080845df8f48adb4831"
      }
     },
     "b70fc5fcf6a147f48ee41d4fa18292c4": {
      "model_module": "@jupyter-widgets/base",
      "model_module_version": "1.1.0",
      "model_name": "LayoutModel",
      "state": {
       "grid_area": "top-left"
      }
     },
     "b71b3792adc0488db971e3d73be5ec92": {
      "model_module": "@jupyter-widgets/controls",
      "model_module_version": "1.4.0",
      "model_name": "ButtonModel",
      "state": {
       "description": "Bottom right",
       "layout": "IPY_MODEL_0f792542708a4d4f9bd0beaf4c1f0d76",
       "style": "IPY_MODEL_5875fee03efb490f8a4b256c3ba58238"
      }
     },
     "b731e96f404e497abf96dde2f91e9016": {
      "model_module": "@jupyter-widgets/base",
      "model_module_version": "1.1.0",
      "model_name": "LayoutModel",
      "state": {
       "grid_template_areas": "\"top-left top-right\"\n\"bottom-left bottom-right\"",
       "grid_template_columns": "1fr 1fr",
       "grid_template_rows": "1fr 1fr",
       "width": "auto"
      }
     },
     "b7500b983d414f46813dab5bea9f0937": {
      "model_module": "@jupyter-widgets/base",
      "model_module_version": "1.1.0",
      "model_name": "LayoutModel",
      "state": {
       "grid_area": "bottom-right"
      }
     },
     "b75f2d3042714cf5bec464600230cce0": {
      "model_module": "@jupyter-widgets/base",
      "model_module_version": "1.1.0",
      "model_name": "LayoutModel",
      "state": {
       "grid_area": "top-right"
      }
     },
     "b76f3c1e43de4a3daccfd3789c80e989": {
      "model_module": "@jupyter-widgets/controls",
      "model_module_version": "1.4.0",
      "model_name": "ButtonModel",
      "state": {
       "description": "Bottom right",
       "layout": "IPY_MODEL_00d7200155a8453c88ef290da5459106",
       "style": "IPY_MODEL_e9c19299a0e842a7b70796a96dbd1789"
      }
     },
     "b778dec84fba46deb551ef9b78373c28": {
      "model_module": "@jupyter-widgets/controls",
      "model_module_version": "1.4.0",
      "model_name": "SliderStyleModel",
      "state": {
       "description_width": ""
      }
     },
     "b78c4dc79d0f44ceaf117eb5a43719c3": {
      "model_module": "@jupyter-widgets/controls",
      "model_module_version": "1.4.0",
      "model_name": "GridBoxModel",
      "state": {
       "children": [
        "IPY_MODEL_1a88ff3d9a254158b2cc33708adb2077",
        "IPY_MODEL_95c1dd984af449f3824e36c1ba8eb0de",
        "IPY_MODEL_8c6ec03bccdf4d6b8c6368197f02f1a0"
       ],
       "layout": "IPY_MODEL_634b625464194ac78865be9a3c6abe6b"
      }
     },
     "b7c9edff58434a389f557a344c60629e": {
      "model_module": "@jupyter-widgets/controls",
      "model_module_version": "1.4.0",
      "model_name": "SliderStyleModel",
      "state": {
       "description_width": ""
      }
     },
     "b7ed257a39dc4763b845f3a66686efce": {
      "model_module": "@jupyter-widgets/controls",
      "model_module_version": "1.4.0",
      "model_name": "ButtonModel",
      "state": {
       "description": "Bottom right",
       "layout": "IPY_MODEL_4f7757a974cc444f966cacc67c373cc0",
       "style": "IPY_MODEL_4dfa523c832348b999f4750e70cdb2ca"
      }
     },
     "b7f57ecec42a4acfb3bc4485f42d9a4d": {
      "model_module": "@jupyter-widgets/controls",
      "model_module_version": "1.4.0",
      "model_name": "ButtonModel",
      "state": {
       "description": "Top left",
       "layout": "IPY_MODEL_07a65a626e6c4712a1743e3ed26206c4",
       "style": "IPY_MODEL_5f128557a98140c2b9d7de4ed38aac76"
      }
     },
     "b81e37fcc5ef4612bc8f60d574d2c302": {
      "model_module": "@jupyter-widgets/controls",
      "model_module_version": "1.4.0",
      "model_name": "SliderStyleModel",
      "state": {
       "description_width": ""
      }
     },
     "b82d17689c7b45d4911df736dda02fbf": {
      "model_module": "@jupyter-widgets/controls",
      "model_module_version": "1.4.0",
      "model_name": "LinkModel",
      "state": {
       "source": [
        "IPY_MODEL_6e75f3c250b74904a7b2761e466af520",
        "min"
       ],
       "target": [
        "IPY_MODEL_263252cac7844d31afdba16e11513c29",
        "value"
       ]
      }
     },
     "b8894a73153d4977bbfe9e2887084c77": {
      "model_module": "@jupyter-widgets/base",
      "model_module_version": "1.1.0",
      "model_name": "LayoutModel",
      "state": {
       "align_items": "center",
       "grid_template_areas": "\"top-left bottom-right\"\n\"bottom-left bottom-right\"",
       "grid_template_columns": "1fr 1fr",
       "grid_template_rows": "1fr 1fr",
       "height": "300px",
       "width": "80%"
      }
     },
     "b89000f62689450daca95e96e723f962": {
      "model_module": "@jupyter-widgets/base",
      "model_module_version": "1.1.0",
      "model_name": "LayoutModel",
      "state": {}
     },
     "b8c1ae81528445dfa939b437065e9890": {
      "model_module": "bqplot",
      "model_module_version": "^0.4.5",
      "model_name": "LinearScaleModel",
      "state": {
       "allow_padding": false,
       "max": 1,
       "min": 0,
       "stabilized": false
      }
     },
     "b8f213b1817b412280a7fd1e4c07e1a0": {
      "model_module": "@jupyter-widgets/base",
      "model_module_version": "1.1.0",
      "model_name": "LayoutModel",
      "state": {
       "grid_area": "bottom-right"
      }
     },
     "b8f63785e1da4b81931dd64e5965fd74": {
      "model_module": "@jupyter-widgets/controls",
      "model_module_version": "1.4.0",
      "model_name": "IntSliderModel",
      "state": {
       "layout": "IPY_MODEL_4960376e48f44ef690388c11e05b5935",
       "style": "IPY_MODEL_9513ed05b085445496c882741a4af5c7",
       "value": 30
      }
     },
     "b95abafdb60c4d1ab42d51ade2180cc7": {
      "model_module": "@jupyter-widgets/controls",
      "model_module_version": "1.4.0",
      "model_name": "LinkModel",
      "state": {
       "source": [
        "IPY_MODEL_90dbb1b5a05e4a10b4004bbd57c6a1bf",
        "min"
       ],
       "target": [
        "IPY_MODEL_e8d4ea0466554654a6156532d96c0a92",
        "value"
       ]
      }
     },
     "b96c006c20e44be6957ccf4cc649bd7c": {
      "model_module": "@jupyter-widgets/controls",
      "model_module_version": "1.4.0",
      "model_name": "SliderStyleModel",
      "state": {
       "description_width": ""
      }
     },
     "b9a9bcffe905460cb47ee0a2bbef7e9d": {
      "model_module": "@jupyter-widgets/base",
      "model_module_version": "1.1.0",
      "model_name": "LayoutModel",
      "state": {
       "grid_area": "top-left"
      }
     },
     "b9b07889ddc64305ad96dadfc576e152": {
      "model_module": "@jupyter-widgets/controls",
      "model_module_version": "1.4.0",
      "model_name": "LinkModel",
      "state": {
       "source": [
        "IPY_MODEL_613a10628bc64d16840f9dde5959f74b",
        "max"
       ],
       "target": [
        "IPY_MODEL_eb3bd620c9104f4194344fc405b0c9f9",
        "value"
       ]
      }
     },
     "b9bf67d973074f358f2be00e7a5a8ed3": {
      "model_module": "@jupyter-widgets/controls",
      "model_module_version": "1.4.0",
      "model_name": "ButtonModel",
      "state": {
       "description": "Bottom left",
       "layout": "IPY_MODEL_1048e6d9a82f4fa2a4a4b2c3877c6454",
       "style": "IPY_MODEL_82a4a005eddf4e9ea58fcd9797a61a89"
      }
     },
     "b9e81fc4222645c88983cbc28807094d": {
      "model_module": "@jupyter-widgets/base",
      "model_module_version": "1.1.0",
      "model_name": "LayoutModel",
      "state": {
       "grid_area": "top-left"
      }
     },
     "ba3fbe5896fd4e67ab9c91db4b9d05e5": {
      "model_module": "@jupyter-widgets/controls",
      "model_module_version": "1.4.0",
      "model_name": "ButtonStyleModel",
      "state": {}
     },
     "ba4c98bdc6084ababea14b6a1c83aee4": {
      "model_module": "@jupyter-widgets/controls",
      "model_module_version": "1.4.0",
      "model_name": "SliderStyleModel",
      "state": {
       "description_width": ""
      }
     },
     "ba5f17678eae4294a7a386ae51171737": {
      "model_module": "@jupyter-widgets/base",
      "model_module_version": "1.1.0",
      "model_name": "LayoutModel",
      "state": {
       "grid_template_areas": "\"top-left top-right\"\n\"bottom-left bottom-right\"",
       "grid_template_columns": "1fr 1fr",
       "grid_template_rows": "1fr 1fr",
       "width": "auto"
      }
     },
     "ba6e806e330b4461918f89a95e20e81b": {
      "model_module": "@jupyter-widgets/base",
      "model_module_version": "1.1.0",
      "model_name": "LayoutModel",
      "state": {
       "grid_area": "top-left"
      }
     },
     "ba88d9ece48642c3a55040b77b8180f7": {
      "model_module": "@jupyter-widgets/controls",
      "model_module_version": "1.4.0",
      "model_name": "ButtonStyleModel",
      "state": {}
     },
     "ba963d20b87c42778f5f66234fbc8a8b": {
      "model_module": "@jupyter-widgets/base",
      "model_module_version": "1.1.0",
      "model_name": "LayoutModel",
      "state": {
       "grid_template_areas": "\"top-left bottom-right\"\n\"bottom-left bottom-right\"",
       "grid_template_columns": "1fr 1fr",
       "grid_template_rows": "1fr 1fr",
       "width": "auto"
      }
     },
     "baa4bd1e48be4629864526e1581487ab": {
      "model_module": "@jupyter-widgets/controls",
      "model_module_version": "1.4.0",
      "model_name": "LinkModel",
      "state": {
       "source": [
        "IPY_MODEL_675e508065eb411d9459bee5d03b3d25",
        "min"
       ],
       "target": [
        "IPY_MODEL_4bef58c9bf2c4d5ca8517486607192f1",
        "value"
       ]
      }
     },
     "bac7db0079744a5395174b3089db44f3": {
      "model_module": "@jupyter-widgets/controls",
      "model_module_version": "1.4.0",
      "model_name": "ButtonModel",
      "state": {
       "description": "Top left",
       "layout": "IPY_MODEL_112a944d3c2843a88f33a7678cda2f42",
       "style": "IPY_MODEL_034edc5c164c4e04a41d6b26d3e852ba"
      }
     },
     "bb0ef4416eb14cd1a326a454fdb31294": {
      "model_module": "@jupyter-widgets/controls",
      "model_module_version": "1.4.0",
      "model_name": "IntTextModel",
      "state": {
       "layout": "IPY_MODEL_939c7a2d68404822b44aa0eca8e6f145",
       "step": 1,
       "style": "IPY_MODEL_eb4b68111081458e8cbb2c97a5ec2999",
       "value": 25
      }
     },
     "bb4654efb5f44de78a7f254b7cd75f60": {
      "model_module": "@jupyter-widgets/controls",
      "model_module_version": "1.4.0",
      "model_name": "ButtonStyleModel",
      "state": {}
     },
     "bb8c0ca8fb424aea93b7bf75cdbc15ba": {
      "model_module": "@jupyter-widgets/controls",
      "model_module_version": "1.4.0",
      "model_name": "SliderStyleModel",
      "state": {
       "description_width": ""
      }
     },
     "bbbdd32706df444691c9f491788bc934": {
      "model_module": "@jupyter-widgets/base",
      "model_module_version": "1.1.0",
      "model_name": "LayoutModel",
      "state": {
       "grid_template_areas": "\"top-left top-left\"\n\"bottom-left bottom-left\"",
       "grid_template_columns": "1fr 1fr",
       "grid_template_rows": "1fr 1fr",
       "width": "auto"
      }
     },
     "bbdd45b38d0c48c89b8c04684caebb6d": {
      "model_module": "@jupyter-widgets/base",
      "model_module_version": "1.1.0",
      "model_name": "LayoutModel",
      "state": {
       "grid_area": "bottom-right",
       "height": "100%",
       "width": "auto"
      }
     },
     "bbef1b9c780d475f918b0bd3ccb9467f": {
      "model_module": "@jupyter-widgets/base",
      "model_module_version": "1.1.0",
      "model_name": "LayoutModel",
      "state": {
       "grid_template_areas": "\"top-left bottom-right\"\n\"bottom-left bottom-right\"",
       "grid_template_columns": "1fr 1fr",
       "grid_template_rows": "1fr 1fr",
       "width": "auto"
      }
     },
     "bbf3669131fe408d9963b909d23e313d": {
      "model_module": "@jupyter-widgets/base",
      "model_module_version": "1.1.0",
      "model_name": "LayoutModel",
      "state": {
       "grid_area": "bottom-right",
       "height": "100%"
      }
     },
     "bbf40a0109374a3d8acb3ebd19870c4e": {
      "model_module": "@jupyter-widgets/controls",
      "model_module_version": "1.4.0",
      "model_name": "LinkModel",
      "state": {
       "source": [
        "IPY_MODEL_694292eac0db47608838dd02cd8fafec",
        "max"
       ],
       "target": [
        "IPY_MODEL_e58046537e2b4228bf92fbb2bbe6d5ef",
        "value"
       ]
      }
     },
     "bbfbdeab30694c9992711891fba8cf1e": {
      "model_module": "@jupyter-widgets/base",
      "model_module_version": "1.1.0",
      "model_name": "LayoutModel",
      "state": {
       "grid_template_areas": "\"top-left top-right\"\n\"bottom-left bottom-right\"",
       "grid_template_columns": "1fr 1fr",
       "grid_template_rows": "1fr 1fr",
       "width": "auto"
      }
     },
     "bc01dc53a3c54771b0228cf6ad10f1c9": {
      "model_module": "@jupyter-widgets/controls",
      "model_module_version": "1.4.0",
      "model_name": "LinkModel",
      "state": {
       "source": [
        "IPY_MODEL_2ea9e5e7f1a14f89b769910a9fba0014",
        "value"
       ],
       "target": [
        "IPY_MODEL_ae31e31652a9428cb3b43f4e9f2259a9",
        "value"
       ]
      }
     },
     "bc38e51f8bb34450a666121bd87b68e2": {
      "model_module": "@jupyter-widgets/controls",
      "model_module_version": "1.4.0",
      "model_name": "ButtonStyleModel",
      "state": {}
     },
     "bc47ec60b4524ed39ff44723c112337d": {
      "model_module": "@jupyter-widgets/controls",
      "model_module_version": "1.4.0",
      "model_name": "SliderStyleModel",
      "state": {
       "description_width": ""
      }
     },
     "bc6844de8e61485097adb787caf9bf1a": {
      "model_module": "@jupyter-widgets/base",
      "model_module_version": "1.1.0",
      "model_name": "LayoutModel",
      "state": {
       "grid_area": "top-left"
      }
     },
     "bcb1f885c6d746c382c6bf020f8ffe51": {
      "model_module": "@jupyter-widgets/controls",
      "model_module_version": "1.4.0",
      "model_name": "ButtonModel",
      "state": {
       "description": "Bottom left",
       "layout": "IPY_MODEL_9c0f2729e061455bba706683f4b1d2b4",
       "style": "IPY_MODEL_170b944ebfbc4211a0604011ec9091a1"
      }
     },
     "bcc2033d0e2e4058a8351fe9310a638f": {
      "model_module": "@jupyter-widgets/controls",
      "model_module_version": "1.4.0",
      "model_name": "ButtonModel",
      "state": {
       "description": "Top left",
       "layout": "IPY_MODEL_b60ae3a080fe4911985f1420ed173bbc",
       "style": "IPY_MODEL_899dc4b0e12648ec8a4681aeca83bd63"
      }
     },
     "bcfbc0b2a16841188714b78cb50adcfe": {
      "model_module": "bqplot",
      "model_module_version": "^0.4.5",
      "model_name": "FigureModel",
      "state": {
       "_dom_classes": [],
       "axes": [
        "IPY_MODEL_2fc7817e9ecf43939bbfe41f9732ca6e",
        "IPY_MODEL_abf61aa7d991425586b609e6868ef058"
       ],
       "layout": "IPY_MODEL_bbdd45b38d0c48c89b8c04684caebb6d",
       "marks": [
        "IPY_MODEL_c19658476cf943d1bfb86d4f7467c81f"
       ],
       "padding_x": 0.025,
       "scale_x": "IPY_MODEL_92e29478b947410e8ff1d32cad8781ac",
       "scale_y": "IPY_MODEL_9b79f206526b43f894afa6ceb79b77bd"
      }
     },
     "bcfd71f4cc834defaa4e6608dd339125": {
      "model_module": "bqplot",
      "model_module_version": "^0.4.5",
      "model_name": "OrdinalScaleModel",
      "state": {
       "domain": []
      }
     },
     "bd095832941b40579101a2202733595b": {
      "model_module": "@jupyter-widgets/base",
      "model_module_version": "1.1.0",
      "model_name": "LayoutModel",
      "state": {
       "grid_area": "bottom-right"
      }
     },
     "bd098aaa810b4f59bbb35ac9e1cc1184": {
      "model_module": "bqplot",
      "model_module_version": "^0.4.5",
      "model_name": "LinearScaleModel",
      "state": {
       "allow_padding": false,
       "max": 1,
       "min": 0,
       "stabilized": false
      }
     },
     "bd61c7ab96c54466b056d5c315b67292": {
      "model_module": "@jupyter-widgets/controls",
      "model_module_version": "1.4.0",
      "model_name": "ButtonModel",
      "state": {
       "description": "Top left",
       "layout": "IPY_MODEL_659b60e7ccc8405899d5e78518ccfaa8",
       "style": "IPY_MODEL_68c504a8b0094a4fb3107334ad97fc5e"
      }
     },
     "bd7664794e6f4129b4e1a16a202d2a4d": {
      "model_module": "@jupyter-widgets/base",
      "model_module_version": "1.1.0",
      "model_name": "LayoutModel",
      "state": {
       "grid_area": "bottom-left",
       "height": "100%"
      }
     },
     "bd920272a9a8461f8dc5085fa620c036": {
      "model_module": "bqplot",
      "model_module_version": "^0.4.5",
      "model_name": "AxisModel",
      "state": {
       "scale": "IPY_MODEL_68fa60bb50e74b1f9a4b71f44247cf6d",
       "side": "bottom",
       "tick_values": {
        "type": null,
        "values": null
       }
      }
     },
     "bda48bd1aaa14730837081ec5474ca7c": {
      "model_module": "@jupyter-widgets/base",
      "model_module_version": "1.1.0",
      "model_name": "LayoutModel",
      "state": {
       "grid_area": "bottom-left"
      }
     },
     "bdb1c144098e42a2af4b986a634d8dcd": {
      "model_module": "@jupyter-widgets/base",
      "model_module_version": "1.1.0",
      "model_name": "LayoutModel",
      "state": {
       "grid_template_areas": "\"top-left bottom-right\"\n\"bottom-left bottom-right\"",
       "grid_template_columns": "1fr 1fr",
       "grid_template_rows": "1fr 1fr",
       "width": "auto"
      }
     },
     "bdd0299cd06f4598b4b3665b97010edd": {
      "model_module": "@jupyter-widgets/base",
      "model_module_version": "1.1.0",
      "model_name": "LayoutModel",
      "state": {}
     },
     "bdd872b05e8d437d85a791dba2386d90": {
      "model_module": "bqplot",
      "model_module_version": "^0.4.5",
      "model_name": "AxisModel",
      "state": {
       "orientation": "vertical",
       "scale": "IPY_MODEL_44c34e01f68b416fb123198deb3aa9d0",
       "side": "left",
       "tick_format": "0.2f",
       "tick_values": {
        "type": null,
        "values": null
       }
      }
     },
     "bdf70c69466149e4b081f23c8abc6338": {
      "model_module": "@jupyter-widgets/controls",
      "model_module_version": "1.4.0",
      "model_name": "FloatSliderModel",
      "state": {
       "description": "Min: ",
       "layout": "IPY_MODEL_9044e7930ee34e4faa3eb0e0594ac2f2",
       "max": 10,
       "step": 0.1,
       "style": "IPY_MODEL_76306c645be346638dfaedcd2d997486",
       "value": 1
      }
     },
     "be105a753a0c46479fb0ef468cae5946": {
      "model_module": "@jupyter-widgets/base",
      "model_module_version": "1.1.0",
      "model_name": "LayoutModel",
      "state": {
       "grid_area": "bottom-left"
      }
     },
     "be30291a006d4e4186abb2bee79c92da": {
      "model_module": "@jupyter-widgets/controls",
      "model_module_version": "1.4.0",
      "model_name": "ButtonStyleModel",
      "state": {}
     },
     "be9edc0a92fd4a6e8d26f6e921b6e9d9": {
      "model_module": "@jupyter-widgets/base",
      "model_module_version": "1.1.0",
      "model_name": "LayoutModel",
      "state": {
       "align_items": "center",
       "grid_template_areas": "\"top-left bottom-right\"\n\"bottom-left bottom-right\"",
       "grid_template_columns": "1fr 1fr",
       "grid_template_rows": "1fr 1fr",
       "height": "300px",
       "width": "80%"
      }
     },
     "bea03538a7c8474e82273918f3abe2a7": {
      "model_module": "@jupyter-widgets/controls",
      "model_module_version": "1.4.0",
      "model_name": "FloatSliderModel",
      "state": {
       "description": "Min: ",
       "layout": "IPY_MODEL_e98a7967346b445fa8017741f6e271d4",
       "max": 10,
       "step": 0.1,
       "style": "IPY_MODEL_18b706f21a0c4388af44d7f7a284c3df",
       "value": 1
      }
     },
     "bea2dae4c2504158938514e6226247c1": {
      "model_module": "@jupyter-widgets/controls",
      "model_module_version": "1.4.0",
      "model_name": "ButtonStyleModel",
      "state": {}
     },
     "bef19aa719fe4095aeca0dcdd916c4e2": {
      "model_module": "@jupyter-widgets/controls",
      "model_module_version": "1.4.0",
      "model_name": "LinkModel",
      "state": {
       "source": [
        "IPY_MODEL_30c5f3aee10d4a37affcb0f481f803a3",
        "min"
       ],
       "target": [
        "IPY_MODEL_80fd283f639943108a81d4bc0ea926f9",
        "value"
       ]
      }
     },
     "bf1e09653c8449169451c3b89733c1cb": {
      "model_module": "@jupyter-widgets/controls",
      "model_module_version": "1.4.0",
      "model_name": "ButtonStyleModel",
      "state": {}
     },
     "bf44ddce2d2f42d9b93c3ed9ca697ecc": {
      "model_module": "@jupyter-widgets/base",
      "model_module_version": "1.1.0",
      "model_name": "LayoutModel",
      "state": {
       "grid_template_areas": "\"top-left bottom-right\"\n\"bottom-left bottom-right\"",
       "grid_template_columns": "1fr 1fr",
       "grid_template_rows": "1fr 1fr",
       "width": "auto"
      }
     },
     "bf5f1365e570409ea787aa681b638ee2": {
      "model_module": "@jupyter-widgets/controls",
      "model_module_version": "1.4.0",
      "model_name": "FloatSliderModel",
      "state": {
       "layout": "IPY_MODEL_e4b0fb877a87464abd0d59145a679fe1",
       "max": 1,
       "step": 0.1,
       "style": "IPY_MODEL_d170302affd54dcfae954588554946b5",
       "value": null
      }
     },
     "bf7894892cdf4618917c5f5f1d365d46": {
      "model_module": "@jupyter-widgets/controls",
      "model_module_version": "1.4.0",
      "model_name": "FloatSliderModel",
      "state": {
       "layout": "IPY_MODEL_60938624934845a38af0814a5a1e97e6",
       "max": 10,
       "min": 1,
       "step": 0.1,
       "style": "IPY_MODEL_ca857c9ad1f74210956a122c1051d80c",
       "value": 1
      }
     },
     "bf86ab455af049b9bf2355b5f23fc7e0": {
      "model_module": "@jupyter-widgets/base",
      "model_module_version": "1.1.0",
      "model_name": "LayoutModel",
      "state": {
       "grid_template_areas": "\"top-left bottom-right\"\n\"bottom-left bottom-right\"",
       "grid_template_columns": "1fr 1fr",
       "grid_template_rows": "1fr 1fr",
       "width": "auto"
      }
     },
     "c01daa9465e84f0597cd93738184413d": {
      "model_module": "@jupyter-widgets/base",
      "model_module_version": "1.1.0",
      "model_name": "LayoutModel",
      "state": {
       "grid_area": "top-right"
      }
     },
     "c02709ee557740d286a25d2609dcc031": {
      "model_module": "@jupyter-widgets/base",
      "model_module_version": "1.1.0",
      "model_name": "LayoutModel",
      "state": {
       "grid_template_areas": "\"top-left bottom-right\"\n\"bottom-left bottom-right\"",
       "grid_template_columns": "1fr 1fr",
       "grid_template_rows": "1fr 1fr",
       "width": "auto"
      }
     },
     "c0349d7e2b47424eaf6bde1a85c3391a": {
      "model_module": "@jupyter-widgets/base",
      "model_module_version": "1.1.0",
      "model_name": "LayoutModel",
      "state": {
       "grid_area": "top-left"
      }
     },
     "c0540f945e8a4b6d8405e524a78542fe": {
      "model_module": "@jupyter-widgets/controls",
      "model_module_version": "1.4.0",
      "model_name": "ButtonModel",
      "state": {
       "description": "Top left",
       "layout": "IPY_MODEL_b56267c3136643c580c3d348db602d88",
       "style": "IPY_MODEL_279710b25f62480b88e19143373d04ae"
      }
     },
     "c07b8138fab146b0931b02118abe6a76": {
      "model_module": "@jupyter-widgets/base",
      "model_module_version": "1.1.0",
      "model_name": "LayoutModel",
      "state": {
       "grid_template_areas": "\"top-left top-right\"\n\"bottom-left bottom-right\"",
       "grid_template_columns": "1fr 1fr",
       "grid_template_rows": "1fr 1fr"
      }
     },
     "c0978b508f5d409d8a8bb460def9f3c8": {
      "model_module": "@jupyter-widgets/controls",
      "model_module_version": "1.4.0",
      "model_name": "LinkModel",
      "state": {
       "source": [
        "IPY_MODEL_8a52411d7ee942078b67d2b5bed899a9",
        "value"
       ],
       "target": [
        "IPY_MODEL_da95ba4179ef43939f70bf364c2c0e80",
        "value"
       ]
      }
     },
     "c0f77785a2854572a8c95f013b4b622b": {
      "model_module": "@jupyter-widgets/controls",
      "model_module_version": "1.4.0",
      "model_name": "SliderStyleModel",
      "state": {
       "description_width": ""
      }
     },
     "c10c610425ce4b51b909de1b6f4d8f43": {
      "model_module": "@jupyter-widgets/controls",
      "model_module_version": "1.4.0",
      "model_name": "FloatSliderModel",
      "state": {
       "layout": "IPY_MODEL_884b40772d754c6d8d9379cf4047d8de",
       "max": 10,
       "min": 1,
       "step": 0.1,
       "style": "IPY_MODEL_4c8c900b1eea44b3b1ce47b83b878dab",
       "value": 1
      }
     },
     "c1143307c449459794c5e7a1f79e4298": {
      "model_module": "@jupyter-widgets/base",
      "model_module_version": "1.1.0",
      "model_name": "LayoutModel",
      "state": {
       "grid_template_areas": "\"top-left top-right\"\n\"bottom-left bottom-right\"",
       "grid_template_columns": "1fr 1fr",
       "grid_template_rows": "1fr 1fr",
       "width": "auto"
      }
     },
     "c14a297730f3499c8f7e142773a45f54": {
      "model_module": "@jupyter-widgets/controls",
      "model_module_version": "1.4.0",
      "model_name": "IntTextModel",
      "state": {
       "layout": "IPY_MODEL_e60ca3a4bc3e4c2d91da4515daa2bd48",
       "step": 1,
       "style": "IPY_MODEL_fa3f972d4e004b27a05ae28962893628",
       "value": 25
      }
     },
     "c1684e3153a64f39acd6ee54d339a2e0": {
      "model_module": "@jupyter-widgets/base",
      "model_module_version": "1.1.0",
      "model_name": "LayoutModel",
      "state": {
       "grid_area": "top-left",
       "height": "20px",
       "width": "300px"
      }
     },
     "c183e18ff6044708a2ceb8f6292585cf": {
      "model_module": "@jupyter-widgets/base",
      "model_module_version": "1.1.0",
      "model_name": "LayoutModel",
      "state": {
       "grid_template_areas": "\"top-left bottom-right\"\n\"bottom-left bottom-right\"",
       "grid_template_columns": "1fr 1fr",
       "grid_template_rows": "1fr 1fr",
       "width": "auto"
      }
     },
     "c19658476cf943d1bfb86d4f7467c81f": {
      "model_module": "bqplot",
      "model_module_version": "^0.4.5",
      "model_name": "BarsModel",
      "state": {
       "color": {
        "type": null,
        "values": null
       },
       "colors": [
        "steelblue"
       ],
       "display_legend": false,
       "scales": {
        "x": "IPY_MODEL_9d197d997a7948c68970a213870e6c43",
        "y": "IPY_MODEL_10c007e416fc401c992766c9a7f55cca"
       },
       "selected": [],
       "x": {
        "type": "float",
        "values": [
         0,
         1,
         2,
         3,
         4,
         5,
         6,
         7,
         8,
         9
        ]
       },
       "y": {
        "type": "float",
        "values": [
         0.6288984390617004,
         0.3984342586196771,
         0.0627129520233457,
         0.42403225188984195,
         0.2586840668894077,
         0.8490383084285108,
         0.03330462654669619,
         0.9589827218634736,
         0.3553688484719296,
         0.3567068904025429
        ]
       }
      }
     },
     "c1c422f3b1214a4ea29a2ba315708149": {
      "model_module": "@jupyter-widgets/controls",
      "model_module_version": "1.4.0",
      "model_name": "GridBoxModel",
      "state": {
       "children": [
        "IPY_MODEL_b1830432aae64b148fcb12531f5af162",
        "IPY_MODEL_bf7894892cdf4618917c5f5f1d365d46",
        "IPY_MODEL_1fe04f0da50d46afbead4472d6d60676"
       ],
       "layout": "IPY_MODEL_77c14422ea6b46c8b7a545113d34f369"
      }
     },
     "c1dacb28d43e45898286158f96393cbd": {
      "model_module": "@jupyter-widgets/base",
      "model_module_version": "1.1.0",
      "model_name": "LayoutModel",
      "state": {}
     },
     "c1ed9cacdd724e968d9590133dd91b36": {
      "model_module": "@jupyter-widgets/controls",
      "model_module_version": "1.4.0",
      "model_name": "ButtonStyleModel",
      "state": {}
     },
     "c2099f36eba34699b31b4c33051a8967": {
      "model_module": "@jupyter-widgets/base",
      "model_module_version": "1.1.0",
      "model_name": "LayoutModel",
      "state": {
       "grid_area": "top-left",
       "height": "20px",
       "width": "300px"
      }
     },
     "c241c7d45c264838a94b67426b902f9a": {
      "model_module": "@jupyter-widgets/controls",
      "model_module_version": "1.4.0",
      "model_name": "SliderStyleModel",
      "state": {
       "description_width": ""
      }
     },
     "c254e3df888d4706b20b22f4f1f90554": {
      "model_module": "@jupyter-widgets/controls",
      "model_module_version": "1.4.0",
      "model_name": "ButtonStyleModel",
      "state": {}
     },
     "c2887f1366494b20aa4ac07a67229a92": {
      "model_module": "@jupyter-widgets/controls",
      "model_module_version": "1.4.0",
      "model_name": "FloatSliderModel",
      "state": {
       "description": "Min: ",
       "layout": "IPY_MODEL_c1684e3153a64f39acd6ee54d339a2e0",
       "max": 1,
       "step": 0.1,
       "style": "IPY_MODEL_0006cb34011347109bf509ca191924a6",
       "value": 1
      }
     },
     "c2ab6e225c8445d3bc588cc2f92d6cd2": {
      "model_module": "@jupyter-widgets/controls",
      "model_module_version": "1.4.0",
      "model_name": "FloatSliderModel",
      "state": {
       "layout": "IPY_MODEL_64e80edc6b7f40539fe132ed8b30957a",
       "max": 10,
       "min": 1,
       "step": 0.1,
       "style": "IPY_MODEL_527eb42c917344ebbdd681659d36a680",
       "value": 1
      }
     },
     "c2ac0922216c440ca5dd71d27ca394ff": {
      "model_module": "@jupyter-widgets/controls",
      "model_module_version": "1.4.0",
      "model_name": "LinkModel",
      "state": {
       "source": [
        "IPY_MODEL_100e72e79bce4f5791fff2635382e69d",
        "max"
       ],
       "target": [
        "IPY_MODEL_46ad8aac4e3e4e3aa3dcc5c6ffc62cd4",
        "value"
       ]
      }
     },
     "c2d8bbf0890a4dc286769c75dd064f43": {
      "model_module": "@jupyter-widgets/base",
      "model_module_version": "1.1.0",
      "model_name": "LayoutModel",
      "state": {
       "grid_area": "bottom-right",
       "height": "100%"
      }
     },
     "c2dd272662b54a4fb9fca8a49c44601f": {
      "model_module": "@jupyter-widgets/base",
      "model_module_version": "1.1.0",
      "model_name": "LayoutModel",
      "state": {
       "grid_template_areas": "\"top-left top-right\"\n\"bottom-left bottom-right\"",
       "grid_template_columns": "1fr 1fr",
       "grid_template_rows": "1fr 1fr",
       "width": "auto"
      }
     },
     "c32f1cc1adc943419a3d632f5404d9d5": {
      "model_module": "bqplot",
      "model_module_version": "^0.4.5",
      "model_name": "AxisModel",
      "state": {
       "orientation": "vertical",
       "scale": "IPY_MODEL_9b0be89660144710a836f7e3a52173c6",
       "side": "left",
       "tick_format": "0.2f",
       "tick_values": {
        "type": null,
        "values": null
       }
      }
     },
     "c3596f5b18c5466c88a4a7843aeab8a1": {
      "model_module": "@jupyter-widgets/base",
      "model_module_version": "1.1.0",
      "model_name": "LayoutModel",
      "state": {
       "grid_template_areas": "\"top-left top-right\"\n\"bottom-left top-right\"",
       "grid_template_columns": "1fr 1fr",
       "grid_template_rows": "1fr 1fr",
       "width": "auto"
      }
     },
     "c3606b5fcf8a492397df209a89dfc70b": {
      "model_module": "@jupyter-widgets/controls",
      "model_module_version": "1.4.0",
      "model_name": "LinkModel",
      "state": {
       "source": [
        "IPY_MODEL_ab42cdda9cfd4787a0eeac881bfd56d5",
        "value"
       ],
       "target": [
        "IPY_MODEL_a6cea96fca264c28b5e5c60130244344",
        "value"
       ]
      }
     },
     "c36c0fae720c48d88aeb2a130e455c70": {
      "model_module": "bqplot",
      "model_module_version": "^0.4.5",
      "model_name": "LinearScaleModel",
      "state": {
       "allow_padding": false,
       "max": 1,
       "min": 0,
       "stabilized": false
      }
     },
     "c3910266da974343a55bfcc742d52cf2": {
      "model_module": "@jupyter-widgets/controls",
      "model_module_version": "1.4.0",
      "model_name": "ButtonStyleModel",
      "state": {}
     },
     "c39cb7c369464a8fb5cf5f552f59458c": {
      "model_module": "@jupyter-widgets/controls",
      "model_module_version": "1.4.0",
      "model_name": "ButtonStyleModel",
      "state": {}
     },
     "c3e354173e9341739c1c8943e2b4ae9a": {
      "model_module": "@jupyter-widgets/base",
      "model_module_version": "1.1.0",
      "model_name": "LayoutModel",
      "state": {
       "grid_area": "bottom-left"
      }
     },
     "c4236a68af75492ba8539f46f2d85a5a": {
      "model_module": "@jupyter-widgets/controls",
      "model_module_version": "1.4.0",
      "model_name": "ButtonModel",
      "state": {
       "description": "Bottom right",
       "layout": "IPY_MODEL_4d661a5685ee498184ff6baa6ad02184",
       "style": "IPY_MODEL_a3dbeebc0502463e8cee66e227ac6f82"
      }
     },
     "c44cb37fa60c40d5992ba3dfbff036b8": {
      "model_module": "@jupyter-widgets/base",
      "model_module_version": "1.1.0",
      "model_name": "LayoutModel",
      "state": {
       "grid_template_areas": "\"top-left top-left\"\n\"bottom-left bottom-left\"",
       "grid_template_columns": "1fr 1fr",
       "grid_template_rows": "1fr 1fr",
       "width": "auto"
      }
     },
     "c49246de211c4fa1aff7cb1226b36597": {
      "model_module": "@jupyter-widgets/base",
      "model_module_version": "1.1.0",
      "model_name": "LayoutModel",
      "state": {
       "grid_area": "bottom-left"
      }
     },
     "c49d98560063488085e4064990241563": {
      "model_module": "@jupyter-widgets/controls",
      "model_module_version": "1.4.0",
      "model_name": "LinkModel",
      "state": {
       "source": [
        "IPY_MODEL_6e75f3c250b74904a7b2761e466af520",
        "min"
       ],
       "target": [
        "IPY_MODEL_35908223f4c54d8a954f92ef82e45776",
        "value"
       ]
      }
     },
     "c4ac95af85c24fa9a3f84dc497bc51c7": {
      "model_module": "@jupyter-widgets/base",
      "model_module_version": "1.1.0",
      "model_name": "LayoutModel",
      "state": {
       "grid_template_areas": "\"top-left top-right\"\n\"bottom-left bottom-right\"",
       "grid_template_columns": "1fr 1fr",
       "grid_template_rows": "1fr 1fr"
      }
     },
     "c52ee7d0efff489b9550d1f6573aed3a": {
      "model_module": "@jupyter-widgets/controls",
      "model_module_version": "1.4.0",
      "model_name": "GridBoxModel",
      "state": {
       "children": [
        "IPY_MODEL_7caa0e6cd26949b4ab77566be6e8267b",
        "IPY_MODEL_d2974f5e76dd4f1b846689bffab3ea41",
        "IPY_MODEL_a92ea4802d2c4f159c19a29590493c7d",
        "IPY_MODEL_b8f63785e1da4b81931dd64e5965fd74"
       ],
       "layout": "IPY_MODEL_dc740a1fa7334edab393b4465e0c9a69"
      }
     },
     "c536d23d86a546d0abab14ef47933b67": {
      "model_module": "@jupyter-widgets/controls",
      "model_module_version": "1.4.0",
      "model_name": "FloatSliderModel",
      "state": {
       "layout": "IPY_MODEL_1bee444f13454c188c2879511d63711e",
       "max": 10,
       "min": 1,
       "step": 0.1,
       "style": "IPY_MODEL_0112e45d98154e748a5a32b07aa5c1a8",
       "value": 1
      }
     },
     "c541d4e62a2848188af84614ba64c583": {
      "model_module": "@jupyter-widgets/controls",
      "model_module_version": "1.4.0",
      "model_name": "ButtonStyleModel",
      "state": {}
     },
     "c546ac55951249b0af55cda663589c3d": {
      "model_module": "@jupyter-widgets/base",
      "model_module_version": "1.1.0",
      "model_name": "LayoutModel",
      "state": {
       "grid_area": "bottom-right"
      }
     },
     "c5d168b9900047babc458f305de214b9": {
      "model_module": "@jupyter-widgets/controls",
      "model_module_version": "1.4.0",
      "model_name": "ButtonModel",
      "state": {
       "description": "Bottom left",
       "layout": "IPY_MODEL_928ce68df3024fd785dbffb76d34f6f7",
       "style": "IPY_MODEL_a6d69d63bdf3404e9f87c2dfd121ba46"
      }
     },
     "c5e1c329f9eb4663ac0ee2bbc04fc9f5": {
      "model_module": "bqplot",
      "model_module_version": "^0.4.5",
      "model_name": "LinearScaleModel",
      "state": {
       "allow_padding": false,
       "max": 1,
       "min": 0,
       "stabilized": false
      }
     },
     "c5e85e0a2a8345e1aa564387989dcad5": {
      "model_module": "@jupyter-widgets/base",
      "model_module_version": "1.1.0",
      "model_name": "LayoutModel",
      "state": {
       "grid_area": "bottom-left"
      }
     },
     "c6434959e43e4b2b89dedbaaf60c182f": {
      "model_module": "@jupyter-widgets/controls",
      "model_module_version": "1.4.0",
      "model_name": "GridBoxModel",
      "state": {
       "children": [
        "IPY_MODEL_072b941273404cbd9ee9da7cb3d668b7",
        "IPY_MODEL_54e2d4f504c446c9a0d558a60d2b8a8f",
        "IPY_MODEL_03061f4922de4582b03ec0c68f0e938c"
       ],
       "layout": "IPY_MODEL_47700637b8f1463685050e79fad8c751"
      }
     },
     "c661f4c5445e44e0856594b176d863a5": {
      "model_module": "@jupyter-widgets/base",
      "model_module_version": "1.1.0",
      "model_name": "LayoutModel",
      "state": {
       "grid_area": "top-left"
      }
     },
     "c674a883de3f4676810a967270d05e63": {
      "model_module": "@jupyter-widgets/controls",
      "model_module_version": "1.4.0",
      "model_name": "ButtonModel",
      "state": {
       "description": "Bottom right",
       "layout": "IPY_MODEL_5be2ce790cb84312a614b37218120179",
       "style": "IPY_MODEL_1eea73ed417440ee8a00cf7f1de7128f"
      }
     },
     "c685d9db27e74fe59a26d8665f8d92b9": {
      "model_module": "@jupyter-widgets/base",
      "model_module_version": "1.1.0",
      "model_name": "LayoutModel",
      "state": {
       "grid_area": "top-right"
      }
     },
     "c69297b4e6e2479fa064f7416cae8f6c": {
      "model_module": "@jupyter-widgets/base",
      "model_module_version": "1.1.0",
      "model_name": "LayoutModel",
      "state": {
       "grid_area": "top-left"
      }
     },
     "c696a70f4bcb4384b1d7c37f1783b4e5": {
      "model_module": "@jupyter-widgets/controls",
      "model_module_version": "1.4.0",
      "model_name": "ButtonModel",
      "state": {
       "description": "Bottom left",
       "layout": "IPY_MODEL_d13dbb170f2d43a5b816cd9dc1060335",
       "style": "IPY_MODEL_b453e4c75f454118bf29f46f57a839a5"
      }
     },
     "c6971cba023f46b8ad2b7f158897bc80": {
      "model_module": "@jupyter-widgets/base",
      "model_module_version": "1.1.0",
      "model_name": "LayoutModel",
      "state": {
       "grid_template_areas": "\"top-left bottom-right\"\n\"bottom-left bottom-right\"",
       "grid_template_columns": "1fr 1fr",
       "grid_template_rows": "1fr 1fr",
       "width": "auto"
      }
     },
     "c6ab3f8999f24279b236d4631412bbac": {
      "model_module": "@jupyter-widgets/controls",
      "model_module_version": "1.4.0",
      "model_name": "FloatSliderModel",
      "state": {
       "layout": "IPY_MODEL_ad15f2f068ad42fab6633573857131e9",
       "max": 1,
       "step": 0.1,
       "style": "IPY_MODEL_565fc911a08e444898af211d558c6a69",
       "value": 0.2
      }
     },
     "c6c48dca0e3f447fac9ed4f895545ae2": {
      "model_module": "@jupyter-widgets/base",
      "model_module_version": "1.1.0",
      "model_name": "LayoutModel",
      "state": {
       "grid_area": "bottom-left",
       "height": "20px",
       "width": "300px"
      }
     },
     "c6d079d4275f4ebcb9351fbab0e62e14": {
      "model_module": "@jupyter-widgets/controls",
      "model_module_version": "1.4.0",
      "model_name": "IntTextModel",
      "state": {
       "layout": "IPY_MODEL_03e0009c37e04f71b5a3dbed516e717f",
       "step": 1,
       "style": "IPY_MODEL_1a5f3a251be549f49e37f6619eb9916b",
       "value": 30
      }
     },
     "c6daead11e1642338d1f951b7a3ecdf4": {
      "model_module": "@jupyter-widgets/controls",
      "model_module_version": "1.4.0",
      "model_name": "DescriptionStyleModel",
      "state": {
       "description_width": ""
      }
     },
     "c6f84d34d7a14d4d975dfdf8b74a2f0e": {
      "model_module": "@jupyter-widgets/base",
      "model_module_version": "1.1.0",
      "model_name": "LayoutModel",
      "state": {
       "grid_area": "bottom-left"
      }
     },
     "c70713b3fb20459d965c8098972f982a": {
      "model_module": "@jupyter-widgets/base",
      "model_module_version": "1.1.0",
      "model_name": "LayoutModel",
      "state": {
       "align_items": "center",
       "grid_template_areas": "\"top-left bottom-right\"\n\"bottom-left bottom-right\"",
       "grid_template_columns": "1fr 1fr",
       "grid_template_rows": "1fr 1fr",
       "height": "200px",
       "width": "80%"
      }
     },
     "c738af830e7740709f6c1da4e37bc17f": {
      "model_module": "@jupyter-widgets/base",
      "model_module_version": "1.1.0",
      "model_name": "LayoutModel",
      "state": {
       "grid_template_areas": "\"top-left top-right\"\n\"bottom-left bottom-right\"",
       "grid_template_columns": "1fr 1fr",
       "grid_template_rows": "1fr 1fr",
       "width": "auto"
      }
     },
     "c76fd4e25054407599b09d4665f02595": {
      "model_module": "bqplot",
      "model_module_version": "^0.4.5",
      "model_name": "OrdinalScaleModel",
      "state": {
       "domain": []
      }
     },
     "c777c279dc5c42b6ad5025e36f07739d": {
      "model_module": "@jupyter-widgets/base",
      "model_module_version": "1.1.0",
      "model_name": "LayoutModel",
      "state": {
       "grid_template_areas": "\"top-left bottom-right\"\n\"bottom-left bottom-right\"",
       "grid_template_columns": "1fr 1fr",
       "grid_template_rows": "1fr 1fr",
       "width": "auto"
      }
     },
     "c78de16356fc4918a5acb1d089bcf67c": {
      "model_module": "@jupyter-widgets/base",
      "model_module_version": "1.1.0",
      "model_name": "LayoutModel",
      "state": {
       "align_items": "center",
       "grid_template_areas": "\"top-left bottom-right\"\n\"bottom-left bottom-right\"",
       "grid_template_columns": "1fr 1fr",
       "grid_template_rows": "1fr 1fr",
       "height": "500px",
       "width": "80%"
      }
     },
     "c7c93d98a7da485f82129ffc921a24de": {
      "model_module": "@jupyter-widgets/base",
      "model_module_version": "1.1.0",
      "model_name": "LayoutModel",
      "state": {
       "align_items": "center",
       "grid_template_areas": "\"top-left bottom-right\"\n\"bottom-left bottom-right\"",
       "grid_template_columns": "1fr 1fr",
       "grid_template_rows": "1fr 1fr",
       "height": "500px",
       "width": "80%"
      }
     },
     "c828fcb281dd41648b385cfbf8c2c6f8": {
      "model_module": "@jupyter-widgets/base",
      "model_module_version": "1.1.0",
      "model_name": "LayoutModel",
      "state": {
       "grid_area": "bottom-left"
      }
     },
     "c82928358a9c4b09b76c4397f5e2fa78": {
      "model_module": "@jupyter-widgets/controls",
      "model_module_version": "1.4.0",
      "model_name": "GridBoxModel",
      "state": {
       "children": [
        "IPY_MODEL_3106bf2450ea480c99f00db83ba50f4f",
        "IPY_MODEL_dc6698afa22f4951aef23cf2626898f0",
        "IPY_MODEL_32e36ad207ef403aa82354f2b3fc0cd1",
        "IPY_MODEL_c674a883de3f4676810a967270d05e63"
       ],
       "layout": "IPY_MODEL_db942c6ff59e4e9eac1a4024c7538117"
      }
     },
     "c82aaa1b894d4c298ad75a996906548c": {
      "model_module": "@jupyter-widgets/controls",
      "model_module_version": "1.4.0",
      "model_name": "IntTextModel",
      "state": {
       "layout": "IPY_MODEL_c685d9db27e74fe59a26d8665f8d92b9",
       "step": 1,
       "style": "IPY_MODEL_6b7a5cc47ee74f1bb11eb04db149c1ec"
      }
     },
     "c8489132d5af423e852c66c00dc994c2": {
      "model_module": "@jupyter-widgets/base",
      "model_module_version": "1.1.0",
      "model_name": "LayoutModel",
      "state": {
       "grid_area": "bottom-right",
       "height": "100%"
      }
     },
     "c84a45b7cacb47e19a10f139a7d28039": {
      "model_module": "@jupyter-widgets/base",
      "model_module_version": "1.1.0",
      "model_name": "LayoutModel",
      "state": {
       "grid_area": "bottom-left"
      }
     },
     "c8667724b64e42f3a2897c407519f96e": {
      "model_module": "@jupyter-widgets/base",
      "model_module_version": "1.1.0",
      "model_name": "LayoutModel",
      "state": {}
     },
     "c86bfb8e4d5f4ffdb3ef9fe4b6e38d8b": {
      "model_module": "@jupyter-widgets/base",
      "model_module_version": "1.1.0",
      "model_name": "LayoutModel",
      "state": {
       "grid_template_areas": "\"top-left top-right\"\n\"bottom-left bottom-right\"",
       "grid_template_columns": "1fr 1fr",
       "grid_template_rows": "1fr 1fr"
      }
     },
     "c877205770594e599d883baf7bbcdcbb": {
      "model_module": "@jupyter-widgets/controls",
      "model_module_version": "1.4.0",
      "model_name": "ButtonModel",
      "state": {
       "description": "Bottom left",
       "layout": "IPY_MODEL_43e31869a0a54f6ab7f1a4e361fb9b3b",
       "style": "IPY_MODEL_ba88d9ece48642c3a55040b77b8180f7"
      }
     },
     "c8941ccb842248e2bd2aa99956a69fcf": {
      "model_module": "@jupyter-widgets/controls",
      "model_module_version": "1.4.0",
      "model_name": "ButtonModel",
      "state": {
       "description": "Bottom right",
       "layout": "IPY_MODEL_22c9df6848d04c6e9950c69c0079acd1",
       "style": "IPY_MODEL_551934baeb37432c847881f2c6b6c2b9"
      }
     },
     "c8c181def2da486bb99e2ce613b3b6b5": {
      "model_module": "@jupyter-widgets/controls",
      "model_module_version": "1.4.0",
      "model_name": "IntTextModel",
      "state": {
       "layout": "IPY_MODEL_f949a999f8834fddb128d208516740b8",
       "step": 1,
       "style": "IPY_MODEL_67ad4f836e5e4258beaa753e80d069e6",
       "value": 10
      }
     },
     "c8c3886fef1643e7a83124d7a132e167": {
      "model_module": "@jupyter-widgets/base",
      "model_module_version": "1.1.0",
      "model_name": "LayoutModel",
      "state": {
       "grid_template_areas": "\"top-left top-right\"\n\"bottom-left bottom-right\"",
       "grid_template_columns": "1fr 1fr",
       "grid_template_rows": "1fr 1fr",
       "width": "auto"
      }
     },
     "c8cfc00d7c584782b103c83130b110b1": {
      "model_module": "bqplot",
      "model_module_version": "^0.4.5",
      "model_name": "LinearScaleModel",
      "state": {
       "allow_padding": false,
       "max": 1,
       "min": 0,
       "stabilized": false
      }
     },
     "c93ab174f48b48d0985c52be52d539b6": {
      "model_module": "@jupyter-widgets/controls",
      "model_module_version": "1.4.0",
      "model_name": "ButtonStyleModel",
      "state": {}
     },
     "c93f328a11464e589af0c3f3c2c0855b": {
      "model_module": "@jupyter-widgets/controls",
      "model_module_version": "1.4.0",
      "model_name": "SliderStyleModel",
      "state": {
       "description_width": ""
      }
     },
     "c94ae8c1dc5a440fa50093a10aadd5e8": {
      "model_module": "@jupyter-widgets/controls",
      "model_module_version": "1.4.0",
      "model_name": "ButtonStyleModel",
      "state": {}
     },
     "c965bb832eab41d1a3f2eb239a03a200": {
      "model_module": "@jupyter-widgets/controls",
      "model_module_version": "1.4.0",
      "model_name": "LinkModel",
      "state": {
       "source": [
        "IPY_MODEL_675e508065eb411d9459bee5d03b3d25",
        "max"
       ],
       "target": [
        "IPY_MODEL_91e25fd81e824dac93f9885ff7b168f8",
        "value"
       ]
      }
     },
     "c9a2a6bd03c74a9a996d782e5f7ed20d": {
      "model_module": "@jupyter-widgets/base",
      "model_module_version": "1.1.0",
      "model_name": "LayoutModel",
      "state": {
       "grid_template_areas": "\"top-left bottom-right\"\n\"bottom-left bottom-right\"",
       "grid_template_columns": "1fr 1fr",
       "grid_template_rows": "1fr 1fr",
       "width": "auto"
      }
     },
     "c9acacf1aafa47efb6d4d5efece72bcf": {
      "model_module": "@jupyter-widgets/base",
      "model_module_version": "1.1.0",
      "model_name": "LayoutModel",
      "state": {
       "grid_area": "bottom-right",
       "height": "100%"
      }
     },
     "c9ca3c2aa10b457d8c694763010d4858": {
      "model_module": "@jupyter-widgets/controls",
      "model_module_version": "1.4.0",
      "model_name": "ButtonModel",
      "state": {
       "description": "Bottom right",
       "layout": "IPY_MODEL_918d5436841d4a3f831271e10bebe3fe",
       "style": "IPY_MODEL_3118b28a88cb433b934e1496689c4c88"
      }
     },
     "c9e8d5d3201a4ffdb3b07aa84262feb7": {
      "model_module": "@jupyter-widgets/controls",
      "model_module_version": "1.4.0",
      "model_name": "GridBoxModel",
      "state": {
       "children": [
        "IPY_MODEL_a62aae62a2234805826b5052661669e4",
        "IPY_MODEL_727143b57a574d88b9baf0f63882eb77",
        "IPY_MODEL_fc5de866c1aa40859a381e55f2720980"
       ],
       "layout": "IPY_MODEL_7738dd63499e448dbad695f51d2da34a"
      }
     },
     "c9efe0f41f094cac968b5c91792cefb9": {
      "model_module": "@jupyter-widgets/controls",
      "model_module_version": "1.4.0",
      "model_name": "ButtonStyleModel",
      "state": {}
     },
     "ca4064fd2c8a42b688502d49e764eec0": {
      "model_module": "@jupyter-widgets/base",
      "model_module_version": "1.1.0",
      "model_name": "LayoutModel",
      "state": {
       "grid_area": "top-right"
      }
     },
     "ca4baa499eb5484386c2e8bc3b9a7c94": {
      "model_module": "@jupyter-widgets/controls",
      "model_module_version": "1.4.0",
      "model_name": "GridBoxModel",
      "state": {
       "children": [
        "IPY_MODEL_03aa3e2c648e485fb3d842696c2d8276",
        "IPY_MODEL_66bcf813c5124d48b1c7b28dcbc14bba",
        "IPY_MODEL_244a98f8976f4d599e72286a25e7acbb"
       ],
       "layout": "IPY_MODEL_bbef1b9c780d475f918b0bd3ccb9467f"
      }
     },
     "ca537ace3b0141aaae823be9d108e02d": {
      "model_module": "bqplot",
      "model_module_version": "^0.4.5",
      "model_name": "LinearScaleModel",
      "state": {
       "allow_padding": false,
       "max": 1,
       "min": 0,
       "stabilized": false
      }
     },
     "ca7b8a6f9fae46e2b9b2652d241162ae": {
      "model_module": "@jupyter-widgets/controls",
      "model_module_version": "1.4.0",
      "model_name": "GridBoxModel",
      "state": {
       "children": [
        "IPY_MODEL_199ccac107604a829f021830ab950d4a",
        "IPY_MODEL_67a4ed5dcf7144e598e8b30034a4c9c6",
        "IPY_MODEL_6476440b69714f4bbffdaaaa0e746ad7"
       ],
       "layout": "IPY_MODEL_9bd8c6ca33d04a69995e813655006e32"
      }
     },
     "ca857c9ad1f74210956a122c1051d80c": {
      "model_module": "@jupyter-widgets/controls",
      "model_module_version": "1.4.0",
      "model_name": "SliderStyleModel",
      "state": {
       "description_width": ""
      }
     },
     "cab1c7c6bb1540599d43abf8c03829cc": {
      "model_module": "bqplot",
      "model_module_version": "^0.4.5",
      "model_name": "BarsModel",
      "state": {
       "color": {
        "type": null,
        "values": null
       },
       "colors": [
        "steelblue"
       ],
       "display_legend": false,
       "scales": {
        "x": "IPY_MODEL_3319483583ee47af9e1633f0f6859634",
        "y": "IPY_MODEL_6cd2bf7eb9844f428c39f48eb079d333"
       },
       "selected": [],
       "x": {
        "type": "float",
        "values": [
         0,
         1,
         2,
         3,
         4,
         5,
         6,
         7,
         8,
         9
        ]
       },
       "y": {
        "type": "float",
        "values": [
         0.6288984390617004,
         0.3984342586196771,
         0.0627129520233457,
         0.42403225188984195,
         0.2586840668894077,
         0.8490383084285108,
         0.03330462654669619,
         0.9589827218634736,
         0.3553688484719296,
         0.3567068904025429
        ]
       }
      }
     },
     "cab398fb2a6e4a72ae9a5bcfc703317b": {
      "model_module": "@jupyter-widgets/controls",
      "model_module_version": "1.4.0",
      "model_name": "ButtonStyleModel",
      "state": {}
     },
     "cac1122cc114453c9820e774832e49a9": {
      "model_module": "@jupyter-widgets/base",
      "model_module_version": "1.1.0",
      "model_name": "LayoutModel",
      "state": {
       "grid_template_areas": "\"top-left bottom-right\"\n\"bottom-left bottom-right\"",
       "grid_template_columns": "1fr 1fr",
       "grid_template_rows": "1fr 1fr",
       "width": "auto"
      }
     },
     "caf7133bf24244648ad0dc86b14fe0c6": {
      "model_module": "@jupyter-widgets/base",
      "model_module_version": "1.1.0",
      "model_name": "LayoutModel",
      "state": {
       "grid_template_areas": "\"top-left bottom-right\"\n\"bottom-left bottom-right\"",
       "grid_template_columns": "1fr 1fr",
       "grid_template_rows": "1fr 1fr",
       "width": "auto"
      }
     },
     "cb1c5a1bc60249949d3452081dbbf77a": {
      "model_module": "@jupyter-widgets/base",
      "model_module_version": "1.1.0",
      "model_name": "LayoutModel",
      "state": {
       "grid_template_areas": "\"top-left top-left\"\n\"bottom-left bottom-left\"",
       "grid_template_columns": "1fr 1fr",
       "grid_template_rows": "1fr 1fr",
       "width": "auto"
      }
     },
     "cb4c6ab7f8034ff78bbb994e2c17db48": {
      "model_module": "@jupyter-widgets/controls",
      "model_module_version": "1.4.0",
      "model_name": "SliderStyleModel",
      "state": {
       "description_width": ""
      }
     },
     "cb6c37595b3a45eb9202ac21e522c75e": {
      "model_module": "bqplot",
      "model_module_version": "^0.4.5",
      "model_name": "FigureModel",
      "state": {
       "_dom_classes": [],
       "axes": [
        "IPY_MODEL_f4a9f78ae6294659b6de35f1d914c7f7",
        "IPY_MODEL_14ca64f83849461d904c903df8dac917"
       ],
       "layout": "IPY_MODEL_dcc31bf94c8b422b9d6116a363b28933",
       "marks": [
        "IPY_MODEL_fb703f82edd54115b165f411d527e5bc"
       ],
       "padding_x": 0.025,
       "scale_x": "IPY_MODEL_5f93d1ac52554f04b0bab5f2a6a2ec49",
       "scale_y": "IPY_MODEL_f159b4d7f9c0447f87008a3963b037ae"
      }
     },
     "cb738eff9cd74e32a289fed1dd342d10": {
      "model_module": "@jupyter-widgets/base",
      "model_module_version": "1.1.0",
      "model_name": "LayoutModel",
      "state": {
       "grid_template_areas": "\"top-left bottom-right\"\n\"bottom-left bottom-right\"",
       "grid_template_columns": "1fr 1fr",
       "grid_template_rows": "1fr 1fr",
       "width": "auto"
      }
     },
     "cb92f5a48c5d4d95a503dacc53d27d4e": {
      "model_module": "@jupyter-widgets/base",
      "model_module_version": "1.1.0",
      "model_name": "LayoutModel",
      "state": {}
     },
     "cbb78282ec2b489fa9d47150d8b2c971": {
      "model_module": "@jupyter-widgets/controls",
      "model_module_version": "1.4.0",
      "model_name": "ButtonModel",
      "state": {
       "description": "Bottom left",
       "layout": "IPY_MODEL_95803f7d885e43699effb575b0652dbc",
       "style": "IPY_MODEL_97ee988017a840dca60e65ba3eb498fe"
      }
     },
     "cbcb6d5705fa40ac90206f70fb000b91": {
      "model_module": "@jupyter-widgets/controls",
      "model_module_version": "1.4.0",
      "model_name": "IntTextModel",
      "state": {
       "layout": "IPY_MODEL_57b802a12bb046599bb66420f6d9bee4",
       "step": 1,
       "style": "IPY_MODEL_a2b9ec0c1e7c443c88d49e1d2153cb1f",
       "value": 30
      }
     },
     "cc169222c26f4e369bc6d19c697a4f98": {
      "model_module": "@jupyter-widgets/base",
      "model_module_version": "1.1.0",
      "model_name": "LayoutModel",
      "state": {
       "grid_template_areas": "\"top-left top-right\"\n\"bottom-left bottom-right\"",
       "grid_template_columns": "1fr 1fr",
       "grid_template_rows": "1fr 1fr",
       "width": "auto"
      }
     },
     "cc2cdf2ebfd3486d90d0d0165d510723": {
      "model_module": "@jupyter-widgets/base",
      "model_module_version": "1.1.0",
      "model_name": "LayoutModel",
      "state": {
       "grid_area": "bottom-right",
       "height": "100%"
      }
     },
     "cc306f4da64f497fb2e10d5804b2d004": {
      "model_module": "@jupyter-widgets/base",
      "model_module_version": "1.1.0",
      "model_name": "LayoutModel",
      "state": {
       "grid_area": "bottom-right"
      }
     },
     "cc410701d7b243d9abf529310d6d10a8": {
      "model_module": "@jupyter-widgets/controls",
      "model_module_version": "1.4.0",
      "model_name": "SliderStyleModel",
      "state": {
       "description_width": ""
      }
     },
     "cc5fd353379442b48187502c680a9bf1": {
      "model_module": "@jupyter-widgets/controls",
      "model_module_version": "1.4.0",
      "model_name": "SliderStyleModel",
      "state": {
       "description_width": ""
      }
     },
     "cc63fa2a4a6a4405b0fa318666ddafc8": {
      "model_module": "@jupyter-widgets/controls",
      "model_module_version": "1.4.0",
      "model_name": "SliderStyleModel",
      "state": {
       "description_width": ""
      }
     },
     "cc66f4d05f544a8a83959119045e1674": {
      "model_module": "@jupyter-widgets/base",
      "model_module_version": "1.1.0",
      "model_name": "LayoutModel",
      "state": {
       "grid_template_areas": "\"top-left top-right\"\n\"bottom-left top-right\"",
       "grid_template_columns": "1fr 1fr",
       "grid_template_rows": "1fr 1fr",
       "width": "auto"
      }
     },
     "cc6c1b3498fe47319bd3d067d0897bc4": {
      "model_module": "bqplot",
      "model_module_version": "^0.4.5",
      "model_name": "AxisModel",
      "state": {
       "scale": "IPY_MODEL_4775e8c3ffa6498a90ec0743c810a5e3",
       "side": "bottom",
       "tick_values": {
        "type": null,
        "values": null
       }
      }
     },
     "cc85f46abf4b4c35a4ae524feca68973": {
      "model_module": "bqplot",
      "model_module_version": "^0.4.5",
      "model_name": "LinearScaleModel",
      "state": {
       "allow_padding": false,
       "max": 1,
       "min": 0,
       "stabilized": false
      }
     },
     "ccc24fa7dab74e8dad533160131046a8": {
      "model_module": "@jupyter-widgets/controls",
      "model_module_version": "1.4.0",
      "model_name": "SliderStyleModel",
      "state": {
       "description_width": ""
      }
     },
     "ccd7560d0ea142d2a6e8f55a4c5e52a6": {
      "model_module": "@jupyter-widgets/controls",
      "model_module_version": "1.4.0",
      "model_name": "FloatSliderModel",
      "state": {
       "description": "Max: ",
       "layout": "IPY_MODEL_39d99614d75f4f9695f8c9c90508f31e",
       "max": 10,
       "min": 1,
       "step": 0.1,
       "style": "IPY_MODEL_0f7f1caa3a8942e1964c489c796732ed",
       "value": 1
      }
     },
     "cd47bc74994044bdb21cc391f51e1110": {
      "model_module": "bqplot",
      "model_module_version": "^0.4.5",
      "model_name": "BarsModel",
      "state": {
       "color": {
        "type": null,
        "values": null
       },
       "colors": [
        "steelblue"
       ],
       "display_legend": false,
       "scales": {
        "x": "IPY_MODEL_aef49c4f74ec4ac7a0171eb3740c521c",
        "y": "IPY_MODEL_e08a3201c7e646c48adec34b7f51a934"
       },
       "selected": [],
       "x": {
        "type": "float",
        "values": [
         0,
         1,
         2,
         3,
         4,
         5,
         6,
         7,
         8,
         9
        ]
       },
       "y": {
        "type": "float",
        "values": [
         0.6288984390617004,
         0.3984342586196771,
         0.0627129520233457,
         0.42403225188984195,
         0.2586840668894077,
         0.8490383084285108,
         0.03330462654669619,
         0.9589827218634736,
         0.3553688484719296,
         0.3567068904025429
        ]
       }
      }
     },
     "cd577f5b4c664d04b54544d539c7591c": {
      "model_module": "@jupyter-widgets/controls",
      "model_module_version": "1.4.0",
      "model_name": "ButtonModel",
      "state": {
       "description": "Top left",
       "layout": "IPY_MODEL_e7f713a40a174f7aae375f68c2482c30",
       "style": "IPY_MODEL_6bb5ad8aec8b4cc8a108b7da56c586e0"
      }
     },
     "cd7da02d41ed4b8091c811d60329c6f0": {
      "model_module": "@jupyter-widgets/base",
      "model_module_version": "1.1.0",
      "model_name": "LayoutModel",
      "state": {
       "grid_area": "bottom-right",
       "height": "100%"
      }
     },
     "cd7de7bc70a24576beef60848d0c9cd0": {
      "model_module": "@jupyter-widgets/base",
      "model_module_version": "1.1.0",
      "model_name": "LayoutModel",
      "state": {
       "grid_template_areas": "\"top-left bottom-right\"\n\"bottom-left bottom-right\"",
       "grid_template_columns": "1fr 1fr",
       "grid_template_rows": "1fr 1fr",
       "width": "auto"
      }
     },
     "cdf195eb490b4b5b9415c3a8cb59c320": {
      "model_module": "@jupyter-widgets/base",
      "model_module_version": "1.1.0",
      "model_name": "LayoutModel",
      "state": {
       "grid_template_areas": "\"top-left top-left\"\n\"bottom-left bottom-left\"",
       "grid_template_columns": "1fr 1fr",
       "grid_template_rows": "1fr 1fr",
       "width": "auto"
      }
     },
     "ce4eabb0627840bcae8771654621928b": {
      "model_module": "@jupyter-widgets/controls",
      "model_module_version": "1.4.0",
      "model_name": "ButtonStyleModel",
      "state": {}
     },
     "ce73f99995764d1fbd1df550f918e340": {
      "model_module": "@jupyter-widgets/base",
      "model_module_version": "1.1.0",
      "model_name": "LayoutModel",
      "state": {
       "align_items": "center",
       "grid_template_areas": "\"top-left bottom-right\"\n\"bottom-left bottom-right\"",
       "grid_template_columns": "1fr 1fr",
       "grid_template_rows": "1fr 1fr",
       "height": "300px",
       "width": "80%"
      }
     },
     "cea2af44118b4e99986370e50019b340": {
      "model_module": "@jupyter-widgets/controls",
      "model_module_version": "1.4.0",
      "model_name": "ButtonStyleModel",
      "state": {}
     },
     "cebf41c480984854a4b8db0a0bd05a16": {
      "model_module": "@jupyter-widgets/controls",
      "model_module_version": "1.4.0",
      "model_name": "GridBoxModel",
      "state": {
       "children": [
        "IPY_MODEL_a6cd9cdd607e4198807461a8cb38410f",
        "IPY_MODEL_60db0f4b6549490ab676895b1344d46c",
        "IPY_MODEL_fa1303a51ad74c7c8259c847b25efe30"
       ],
       "layout": "IPY_MODEL_7a0ae8b512cb4d8ea252fd7e0c83dbcb"
      }
     },
     "ced0bbe9bc3f4dafaecc148fea5d157b": {
      "model_module": "@jupyter-widgets/controls",
      "model_module_version": "1.4.0",
      "model_name": "SliderStyleModel",
      "state": {
       "description_width": ""
      }
     },
     "cee7f2a6a5834a428f5d31ec2b2f5ac1": {
      "model_module": "@jupyter-widgets/base",
      "model_module_version": "1.1.0",
      "model_name": "LayoutModel",
      "state": {
       "grid_area": "top-left"
      }
     },
     "ceecf6c6be61473cb5672031b59319fb": {
      "model_module": "@jupyter-widgets/controls",
      "model_module_version": "1.4.0",
      "model_name": "FloatSliderModel",
      "state": {
       "layout": "IPY_MODEL_40e3b84552624da9b3e5321c0e7da460",
       "max": 10,
       "min": 0.05,
       "step": 0.1,
       "style": "IPY_MODEL_51a8957711dc4e6b86fb75091adf3d08",
       "value": 4.55
      }
     },
     "cef86aaf00d74529b99ba67f28ae64e9": {
      "model_module": "@jupyter-widgets/base",
      "model_module_version": "1.1.0",
      "model_name": "LayoutModel",
      "state": {
       "grid_template_areas": "\"top-left bottom-right\"\n\"bottom-left bottom-right\"",
       "grid_template_columns": "1fr 1fr",
       "grid_template_rows": "1fr 1fr",
       "width": "auto"
      }
     },
     "cf14b6a329494a26abfe7cff2d13e90b": {
      "model_module": "@jupyter-widgets/controls",
      "model_module_version": "1.4.0",
      "model_name": "ButtonStyleModel",
      "state": {}
     },
     "cf3109fde8db4343a282865bc471ecdc": {
      "model_module": "@jupyter-widgets/base",
      "model_module_version": "1.1.0",
      "model_name": "LayoutModel",
      "state": {
       "align_items": "center",
       "grid_template_areas": "\"top-left bottom-right\"\n\"bottom-left bottom-right\"",
       "grid_template_columns": "1fr 1fr",
       "grid_template_rows": "1fr 1fr",
       "height": "300px",
       "width": "80%"
      }
     },
     "cf5eb516d1d549f68a4025f9c57c5d61": {
      "model_module": "@jupyter-widgets/controls",
      "model_module_version": "1.4.0",
      "model_name": "ButtonModel",
      "state": {
       "description": "Bottom left",
       "layout": "IPY_MODEL_2c90245a6ef547169ee0b34348d1040a",
       "style": "IPY_MODEL_d42b931f296a4db5aa6811c009711927"
      }
     },
     "cf7f5ddfe8754bc1a861c9e3aad702d9": {
      "model_module": "@jupyter-widgets/controls",
      "model_module_version": "1.4.0",
      "model_name": "ButtonStyleModel",
      "state": {}
     },
     "cf9041caa9a745e0b0dca6123e6544fc": {
      "model_module": "@jupyter-widgets/controls",
      "model_module_version": "1.4.0",
      "model_name": "ButtonStyleModel",
      "state": {}
     },
     "cfb6fa4721cd4a8a888eb060a6605cbb": {
      "model_module": "@jupyter-widgets/controls",
      "model_module_version": "1.4.0",
      "model_name": "LinkModel",
      "state": {
       "source": [
        "IPY_MODEL_18ebceb66b6f47ed853d312211a80371",
        "value"
       ],
       "target": [
        "IPY_MODEL_35a780c694214b13b1cb66157fa2b616",
        "value"
       ]
      }
     },
     "cfd560d571b04c87936d7a08f7deb5b0": {
      "model_module": "@jupyter-widgets/controls",
      "model_module_version": "1.4.0",
      "model_name": "ButtonStyleModel",
      "state": {}
     },
     "d042e3d51551495ca9d3c23fe301dbe4": {
      "model_module": "bqplot",
      "model_module_version": "^0.4.5",
      "model_name": "AxisModel",
      "state": {
       "scale": "IPY_MODEL_d8bdf5026fcf4816b6e610e1c3fe1482",
       "side": "bottom",
       "tick_values": {
        "type": null,
        "values": null
       }
      }
     },
     "d06a8eec823848f188f4ffb90db53e1b": {
      "model_module": "@jupyter-widgets/base",
      "model_module_version": "1.1.0",
      "model_name": "LayoutModel",
      "state": {
       "grid_area": "top-left"
      }
     },
     "d0795c3618bc4ec78b2d9473deed7891": {
      "model_module": "@jupyter-widgets/base",
      "model_module_version": "1.1.0",
      "model_name": "LayoutModel",
      "state": {
       "grid_area": "top-left"
      }
     },
     "d093e93b9ac249f58366b0cbeecb2f07": {
      "model_module": "@jupyter-widgets/base",
      "model_module_version": "1.1.0",
      "model_name": "LayoutModel",
      "state": {
       "grid_template_areas": "\"top-left top-right\"\n\"bottom-left top-right\"",
       "grid_template_columns": "1fr 1fr",
       "grid_template_rows": "1fr 1fr",
       "width": "auto"
      }
     },
     "d0a02209d40c49a2b2804269cc9adf94": {
      "model_module": "@jupyter-widgets/controls",
      "model_module_version": "1.4.0",
      "model_name": "ButtonStyleModel",
      "state": {}
     },
     "d0dcfe64e79d453ab180d3fa1b72c5f2": {
      "model_module": "@jupyter-widgets/controls",
      "model_module_version": "1.4.0",
      "model_name": "GridBoxModel",
      "state": {
       "children": [
        "IPY_MODEL_123bf3b8211f48a2b6f54d12db19b713",
        "IPY_MODEL_d663b4dc1d854f61a2a539076beda863",
        "IPY_MODEL_8d4c296dbbfc493faf2736f6f46dbbdf"
       ],
       "layout": "IPY_MODEL_a21c95afe88a46549228f4d07649ac7e"
      }
     },
     "d0e4e017d4544e87897d5c64976007d7": {
      "model_module": "bqplot",
      "model_module_version": "^0.4.5",
      "model_name": "LinearScaleModel",
      "state": {
       "max": 4.55,
       "min": 1,
       "stabilized": false
      }
     },
     "d1173d5e75dd4ce49687b8e7b15ba709": {
      "model_module": "@jupyter-widgets/base",
      "model_module_version": "1.1.0",
      "model_name": "LayoutModel",
      "state": {
       "grid_area": "bottom-left"
      }
     },
     "d12525ee884d460f99bfa4fb8743e0bb": {
      "model_module": "@jupyter-widgets/controls",
      "model_module_version": "1.4.0",
      "model_name": "ButtonStyleModel",
      "state": {}
     },
     "d13dbb170f2d43a5b816cd9dc1060335": {
      "model_module": "@jupyter-widgets/base",
      "model_module_version": "1.1.0",
      "model_name": "LayoutModel",
      "state": {
       "grid_area": "bottom-left"
      }
     },
     "d16091a86f204d5385077d4f4d3dff91": {
      "model_module": "@jupyter-widgets/controls",
      "model_module_version": "1.4.0",
      "model_name": "ButtonModel",
      "state": {
       "description": "Top left",
       "layout": "IPY_MODEL_f12073330c904e23b9a84473f8010eea",
       "style": "IPY_MODEL_270e3344435443f99aeab2b449dd7f20"
      }
     },
     "d170302affd54dcfae954588554946b5": {
      "model_module": "@jupyter-widgets/controls",
      "model_module_version": "1.4.0",
      "model_name": "SliderStyleModel",
      "state": {
       "description_width": ""
      }
     },
     "d17b6a9baa9b443ba80fc473546a5ef3": {
      "model_module": "@jupyter-widgets/controls",
      "model_module_version": "1.4.0",
      "model_name": "GridBoxModel",
      "state": {
       "children": [
        "IPY_MODEL_2d82ef6f8a51460d88b1c5d1feab25e2",
        "IPY_MODEL_13ad77d0f441402c9757a2a1a810d4f8",
        "IPY_MODEL_f1fb61d3524d46b5bfd788a3e5d5f7a2",
        "IPY_MODEL_4a1a94ddc81f4e61b3419af4c7843708"
       ],
       "layout": "IPY_MODEL_eaedb4de3bc74a8ca0bc7e0604c7b8b8"
      }
     },
     "d192441b1e8b49c787cfbb138cf82f81": {
      "model_module": "@jupyter-widgets/controls",
      "model_module_version": "1.4.0",
      "model_name": "SliderStyleModel",
      "state": {
       "description_width": ""
      }
     },
     "d20d966ef2b145f5a71a169e19d87115": {
      "model_module": "@jupyter-widgets/controls",
      "model_module_version": "1.4.0",
      "model_name": "ButtonModel",
      "state": {
       "description": "Bottom right",
       "layout": "IPY_MODEL_68ffd45f38cc4a42a5f2949c3d3d8eaf",
       "style": "IPY_MODEL_9eda2a3b35324eb1ad7b7102b9889e06"
      }
     },
     "d21a78df00e546e49575c92c91d27cdb": {
      "model_module": "@jupyter-widgets/controls",
      "model_module_version": "1.4.0",
      "model_name": "LinkModel",
      "state": {
       "source": [
        "IPY_MODEL_9be469e2d82d4f178a37f3a4d5ac1921",
        "value"
       ],
       "target": [
        "IPY_MODEL_a3e2fb61ea734ce0a0112d9ac3f54ca4",
        "value"
       ]
      }
     },
     "d21e2dc17e4248419fec741b4837fe73": {
      "model_module": "@jupyter-widgets/controls",
      "model_module_version": "1.4.0",
      "model_name": "GridBoxModel",
      "state": {
       "children": [
        "IPY_MODEL_0bdb125afddd455dad9ca86a03ba311b",
        "IPY_MODEL_d7575c8e774f4177880825a21cf1672c",
        "IPY_MODEL_8d4c296dbbfc493faf2736f6f46dbbdf"
       ],
       "layout": "IPY_MODEL_7a70a2892d64464ba2161721c75f58bf"
      }
     },
     "d23ecdd4cb1e40ddb56893d30a5326a4": {
      "model_module": "@jupyter-widgets/base",
      "model_module_version": "1.1.0",
      "model_name": "LayoutModel",
      "state": {
       "grid_template_areas": "\"top-left top-right\"\n\"bottom-left top-right\"",
       "grid_template_columns": "1fr 1fr",
       "grid_template_rows": "1fr 1fr",
       "width": "auto"
      }
     },
     "d2450d1e487b442b99d84e4a92af542b": {
      "model_module": "@jupyter-widgets/controls",
      "model_module_version": "1.4.0",
      "model_name": "ButtonStyleModel",
      "state": {}
     },
     "d2476c47b13d436aa56eb7c58e84d218": {
      "model_module": "@jupyter-widgets/controls",
      "model_module_version": "1.4.0",
      "model_name": "SliderStyleModel",
      "state": {
       "description_width": ""
      }
     },
     "d2974f5e76dd4f1b846689bffab3ea41": {
      "model_module": "@jupyter-widgets/controls",
      "model_module_version": "1.4.0",
      "model_name": "IntTextModel",
      "state": {
       "layout": "IPY_MODEL_dfe37055df0d48848ec909e8b83a4090",
       "step": 1,
       "style": "IPY_MODEL_8d10a8f178ee4fcb9738c347e008ba77",
       "value": 30
      }
     },
     "d2cc51348e414851a3c1eb672b873f38": {
      "model_module": "@jupyter-widgets/controls",
      "model_module_version": "1.4.0",
      "model_name": "FloatSliderModel",
      "state": {
       "layout": "IPY_MODEL_d3af38b7de394a5e9bb80b4dc363cd7c",
       "max": 10,
       "min": 1,
       "step": 0.1,
       "style": "IPY_MODEL_76b5721fa24a408fa6cbc48cd9755be5",
       "value": 1
      }
     },
     "d2e0b87762ae4b9a88a3ff8ba3d85b78": {
      "model_module": "@jupyter-widgets/controls",
      "model_module_version": "1.4.0",
      "model_name": "ButtonModel",
      "state": {
       "description": "Bottom right",
       "layout": "IPY_MODEL_7bde34c67a9f472cb3dca5e21cf3d73a",
       "style": "IPY_MODEL_6d76c3a7d3b240c687e6568736b90359"
      }
     },
     "d2e96043d7184e6db6c95ebea689356a": {
      "model_module": "@jupyter-widgets/base",
      "model_module_version": "1.1.0",
      "model_name": "LayoutModel",
      "state": {
       "grid_template_areas": "\"top-left top-right\"\n\"bottom-left bottom-right\"",
       "grid_template_columns": "1fr 1fr",
       "grid_template_rows": "1fr 1fr"
      }
     },
     "d2f85ffc0a894cd1851029b4fc9ebc67": {
      "model_module": "@jupyter-widgets/base",
      "model_module_version": "1.1.0",
      "model_name": "LayoutModel",
      "state": {
       "grid_area": "bottom-left"
      }
     },
     "d300e96a208943299484aae29fc8cf26": {
      "model_module": "@jupyter-widgets/base",
      "model_module_version": "1.1.0",
      "model_name": "LayoutModel",
      "state": {
       "grid_area": "top-left",
       "width": "auto"
      }
     },
     "d32db25770364345adb890382d96c6eb": {
      "model_module": "@jupyter-widgets/controls",
      "model_module_version": "1.4.0",
      "model_name": "GridBoxModel",
      "state": {
       "children": [
        "IPY_MODEL_fdf50f6f640a40119f041539d9342134",
        "IPY_MODEL_cbcb6d5705fa40ac90206f70fb000b91",
        "IPY_MODEL_6e18c32c535f4dcbb5bdc381a741437d",
        "IPY_MODEL_5574bbb10c2e4a6a964083312d8e0252"
       ],
       "layout": "IPY_MODEL_c07b8138fab146b0931b02118abe6a76"
      }
     },
     "d335fb1fd81c47768d24db81becb8226": {
      "model_module": "@jupyter-widgets/base",
      "model_module_version": "1.1.0",
      "model_name": "LayoutModel",
      "state": {
       "grid_template_areas": "\"top-left top-right\"\n\"bottom-left bottom-right\"",
       "grid_template_columns": "1fr 1fr",
       "grid_template_rows": "1fr 1fr",
       "width": "auto"
      }
     },
     "d343dce489624c019da11bfb57b60ff6": {
      "model_module": "@jupyter-widgets/controls",
      "model_module_version": "1.4.0",
      "model_name": "ButtonStyleModel",
      "state": {}
     },
     "d34566e35c8b412fa6915d9f6aa6ee2c": {
      "model_module": "@jupyter-widgets/base",
      "model_module_version": "1.1.0",
      "model_name": "LayoutModel",
      "state": {
       "grid_area": "bottom-right"
      }
     },
     "d3abe8d4e7c146a4bd8cbc767fb9a116": {
      "model_module": "@jupyter-widgets/controls",
      "model_module_version": "1.4.0",
      "model_name": "ButtonModel",
      "state": {
       "description": "Top left",
       "layout": "IPY_MODEL_3e22a2605eb248cba935e366bda488b8",
       "style": "IPY_MODEL_f684c8b3ebf74bb6944f6c3352628899"
      }
     },
     "d3af38b7de394a5e9bb80b4dc363cd7c": {
      "model_module": "@jupyter-widgets/base",
      "model_module_version": "1.1.0",
      "model_name": "LayoutModel",
      "state": {
       "grid_area": "bottom-left",
       "width": "200px"
      }
     },
     "d3c9ee104b7946609d5527c545f6f2fd": {
      "model_module": "@jupyter-widgets/controls",
      "model_module_version": "1.4.0",
      "model_name": "SliderStyleModel",
      "state": {
       "description_width": ""
      }
     },
     "d412c0b876b94b729849cb854360c4cb": {
      "model_module": "@jupyter-widgets/base",
      "model_module_version": "1.1.0",
      "model_name": "LayoutModel",
      "state": {
       "grid_template_areas": "\"top-left bottom-right\"\n\"bottom-left bottom-right\"",
       "grid_template_columns": "1fr 1fr",
       "grid_template_rows": "1fr 1fr",
       "width": "auto"
      }
     },
     "d415401d082f43c5b3b5e11321e559ea": {
      "model_module": "@jupyter-widgets/controls",
      "model_module_version": "1.4.0",
      "model_name": "ButtonStyleModel",
      "state": {}
     },
     "d418658ff7b64dcb98ea9ef86b474914": {
      "model_module": "@jupyter-widgets/base",
      "model_module_version": "1.1.0",
      "model_name": "LayoutModel",
      "state": {
       "grid_area": "bottom-left"
      }
     },
     "d41b50da7a4e4b189ba7d1ba883760b3": {
      "model_module": "@jupyter-widgets/base",
      "model_module_version": "1.1.0",
      "model_name": "LayoutModel",
      "state": {
       "grid_area": "top-left"
      }
     },
     "d41bae3a51264b4b87280477127f3da9": {
      "model_module": "bqplot",
      "model_module_version": "^0.4.5",
      "model_name": "LinearScaleModel",
      "state": {
       "allow_padding": false,
       "max": 1,
       "min": 0,
       "stabilized": false
      }
     },
     "d42610b01de5478f90d1f4d7e905b66a": {
      "model_module": "@jupyter-widgets/base",
      "model_module_version": "1.1.0",
      "model_name": "LayoutModel",
      "state": {
       "grid_template_areas": "\"top-left top-right\"\n\"bottom-left bottom-right\"",
       "grid_template_columns": "1fr 1fr",
       "grid_template_rows": "1fr 1fr",
       "width": "auto"
      }
     },
     "d42b6daa2693430d9c22bb5df8eb153c": {
      "model_module": "@jupyter-widgets/base",
      "model_module_version": "1.1.0",
      "model_name": "LayoutModel",
      "state": {
       "grid_area": "bottom-left"
      }
     },
     "d42b931f296a4db5aa6811c009711927": {
      "model_module": "@jupyter-widgets/controls",
      "model_module_version": "1.4.0",
      "model_name": "ButtonStyleModel",
      "state": {}
     },
     "d43810196d524d24ad5623340b2c4440": {
      "model_module": "bqplot",
      "model_module_version": "^0.4.5",
      "model_name": "FigureModel",
      "state": {
       "_dom_classes": [],
       "axes": [
        "IPY_MODEL_a9672de1eb9643b9b70ff0f985f956c2",
        "IPY_MODEL_e42e960d92df488b822ee5df17446027"
       ],
       "layout": "IPY_MODEL_fc56ad8a0fea47949541df135bfb9f83",
       "marks": [
        "IPY_MODEL_725bddf28b2b471ea049a33554ebe884"
       ],
       "padding_x": 0.025,
       "scale_x": "IPY_MODEL_b4f4349478584cd79f48f5a6d44ef9d0",
       "scale_y": "IPY_MODEL_1526cf477a1c4e5aada1003ac296f160"
      }
     },
     "d46a6854350e4fd9ab08751fb8169464": {
      "model_module": "@jupyter-widgets/controls",
      "model_module_version": "1.4.0",
      "model_name": "GridBoxModel",
      "state": {
       "children": [
        "IPY_MODEL_0f9f6bfc24ba471ba10f7f6b3b6be24a",
        "IPY_MODEL_4b456b14b63143ae9bb664253168c025",
        "IPY_MODEL_8d4c296dbbfc493faf2736f6f46dbbdf"
       ],
       "layout": "IPY_MODEL_25d3a164141648d6a14ee482134d3fb4"
      }
     },
     "d47e4676837e4c318df876c9ba08b0f8": {
      "model_module": "@jupyter-widgets/controls",
      "model_module_version": "1.4.0",
      "model_name": "IntTextModel",
      "state": {
       "layout": "IPY_MODEL_fe342e46ed304a1284ede5536fde1e9e",
       "step": 1,
       "style": "IPY_MODEL_3764666ab2d640df9fc0e4c5b0af1bf1",
       "value": 30
      }
     },
     "d4b82abcf9b644c6af1b66abb7d9d6e2": {
      "model_module": "@jupyter-widgets/controls",
      "model_module_version": "1.4.0",
      "model_name": "ButtonStyleModel",
      "state": {}
     },
     "d514e47a18e24df392be58bf852e140d": {
      "model_module": "@jupyter-widgets/base",
      "model_module_version": "1.1.0",
      "model_name": "LayoutModel",
      "state": {
       "grid_template_areas": "\"top-left top-right\"\n\"bottom-left bottom-right\"",
       "grid_template_columns": "1fr 1fr",
       "grid_template_rows": "1fr 1fr",
       "width": "auto"
      }
     },
     "d51598261a814aceada6e129c0f2ec9e": {
      "model_module": "bqplot",
      "model_module_version": "^0.4.5",
      "model_name": "FigureModel",
      "state": {
       "_dom_classes": [],
       "axes": [
        "IPY_MODEL_ac47a3eab3af41479d50460a4d018dcf",
        "IPY_MODEL_41335cc7b0e14e67a433b81523601316"
       ],
       "layout": "IPY_MODEL_5e3ee1fe9f714d808e675d443ecd1174",
       "marks": [
        "IPY_MODEL_93a6da7c758c4d59880a47ecacbb5645"
       ],
       "padding_x": 0.025,
       "scale_x": "IPY_MODEL_ca537ace3b0141aaae823be9d108e02d",
       "scale_y": "IPY_MODEL_d8fb7344569842b58dca80ef7e6a2a52"
      }
     },
     "d51cd3fca2ec437d95122b7549f1955f": {
      "model_module": "@jupyter-widgets/base",
      "model_module_version": "1.1.0",
      "model_name": "LayoutModel",
      "state": {
       "grid_area": "bottom-left"
      }
     },
     "d54f4f4110234ff3a9302f8ea2d5a9bc": {
      "model_module": "@jupyter-widgets/base",
      "model_module_version": "1.1.0",
      "model_name": "LayoutModel",
      "state": {
       "grid_area": "bottom-left"
      }
     },
     "d56809a1fe9c416da009d3c03c63bbfc": {
      "model_module": "@jupyter-widgets/controls",
      "model_module_version": "1.4.0",
      "model_name": "ButtonStyleModel",
      "state": {}
     },
     "d579877a60804818a66b5c693f86c0f6": {
      "model_module": "@jupyter-widgets/controls",
      "model_module_version": "1.4.0",
      "model_name": "LinkModel",
      "state": {
       "source": [
        "IPY_MODEL_30c5f3aee10d4a37affcb0f481f803a3",
        "min"
       ],
       "target": [
        "IPY_MODEL_0bdb125afddd455dad9ca86a03ba311b",
        "value"
       ]
      }
     },
     "d5c16d2ac33e4d5f9b3c26bc945c5968": {
      "model_module": "@jupyter-widgets/controls",
      "model_module_version": "1.4.0",
      "model_name": "IntSliderModel",
      "state": {
       "layout": "IPY_MODEL_f42d8ccd30c64e19b7a401e849168356",
       "style": "IPY_MODEL_3c40bc2620b046c4a498c70edcbed62b",
       "value": 25
      }
     },
     "d5e333817a65429581d8854be90bcdaf": {
      "model_module": "@jupyter-widgets/base",
      "model_module_version": "1.1.0",
      "model_name": "LayoutModel",
      "state": {
       "grid_template_areas": "\"top-left top-right\"\n\"bottom-left bottom-right\"",
       "grid_template_columns": "1fr 1fr",
       "grid_template_rows": "1fr 1fr",
       "width": "auto"
      }
     },
     "d5f48c0e20ed427a84243f7a06d56447": {
      "model_module": "@jupyter-widgets/controls",
      "model_module_version": "1.4.0",
      "model_name": "LinkModel",
      "state": {
       "source": [
        "IPY_MODEL_af58beaca28a4be680847da7584d54ac",
        "max"
       ],
       "target": [
        "IPY_MODEL_7435944f0838464f9c7be602d27302ec",
        "value"
       ]
      }
     },
     "d61b421c551c4f138fb9244f8d0d06bd": {
      "model_module": "@jupyter-widgets/controls",
      "model_module_version": "1.4.0",
      "model_name": "ButtonModel",
      "state": {
       "description": "Bottom right",
       "layout": "IPY_MODEL_5796a5bf58d14cf8ad896d854e6fb3aa",
       "style": "IPY_MODEL_c3910266da974343a55bfcc742d52cf2"
      }
     },
     "d61d5db13d6243aa87be1324db2f0b98": {
      "model_module": "@jupyter-widgets/controls",
      "model_module_version": "1.4.0",
      "model_name": "SliderStyleModel",
      "state": {
       "description_width": ""
      }
     },
     "d64ede88d8ae40b68e1bdd678aa57aa6": {
      "model_module": "@jupyter-widgets/controls",
      "model_module_version": "1.4.0",
      "model_name": "GridBoxModel",
      "state": {
       "children": [
        "IPY_MODEL_35908223f4c54d8a954f92ef82e45776",
        "IPY_MODEL_f339310e5ce04527860f1ce65219b329",
        "IPY_MODEL_54721cf760804b1786b1fdebcf6c58d9"
       ],
       "layout": "IPY_MODEL_6eb54d488dd7439bb1c1c1b421c82905"
      }
     },
     "d663b4dc1d854f61a2a539076beda863": {
      "model_module": "@jupyter-widgets/controls",
      "model_module_version": "1.4.0",
      "model_name": "FloatSliderModel",
      "state": {
       "layout": "IPY_MODEL_382accc6306c4eb5a2b2ab7e416ccf58",
       "max": 10,
       "min": 0.05,
       "step": 0.1,
       "style": "IPY_MODEL_b54bab01d96a42ca93c51f6541473660",
       "value": 1
      }
     },
     "d66d483563144d43ab0a2142ea409c37": {
      "model_module": "@jupyter-widgets/controls",
      "model_module_version": "1.4.0",
      "model_name": "ButtonStyleModel",
      "state": {}
     },
     "d67c201aaac442db902e1cfc1a326f5c": {
      "model_module": "@jupyter-widgets/controls",
      "model_module_version": "1.4.0",
      "model_name": "GridBoxModel",
      "state": {
       "children": [
        "IPY_MODEL_cd577f5b4c664d04b54544d539c7591c",
        "IPY_MODEL_1b34b07c995b456b907c08ba08e90b24",
        "IPY_MODEL_2f49b0634b444e3f9895513a7ba798fe",
        "IPY_MODEL_18c519c60da54703b4103350506e39be"
       ],
       "layout": "IPY_MODEL_28ee0fabc43945d09d37affa1ec36dc0"
      }
     },
     "d70cf53bc42e44c69f9e262ff5a57ff0": {
      "model_module": "@jupyter-widgets/controls",
      "model_module_version": "1.4.0",
      "model_name": "ButtonModel",
      "state": {
       "description": "Top right",
       "layout": "IPY_MODEL_318c5d2346a24754afffe6d13cc500a3",
       "style": "IPY_MODEL_819e155f308b436dbd112b6696169f90"
      }
     },
     "d72115bc0ca7443f97eb3619aa6daf7a": {
      "model_module": "@jupyter-widgets/controls",
      "model_module_version": "1.4.0",
      "model_name": "ButtonModel",
      "state": {
       "description": "Bottom right",
       "layout": "IPY_MODEL_04e2ec36f5174a949c74e6ee3b9fcf01",
       "style": "IPY_MODEL_0eb3c74fee7c4085a7f325b8409d83da"
      }
     },
     "d73777f4a9c34e499e38bfff31ef1fa4": {
      "model_module": "@jupyter-widgets/base",
      "model_module_version": "1.1.0",
      "model_name": "LayoutModel",
      "state": {
       "grid_area": "top-left"
      }
     },
     "d7575c8e774f4177880825a21cf1672c": {
      "model_module": "@jupyter-widgets/controls",
      "model_module_version": "1.4.0",
      "model_name": "FloatSliderModel",
      "state": {
       "layout": "IPY_MODEL_7128ad59571f4448a9b0611390f44b8b",
       "max": 10,
       "min": 1,
       "step": 0.1,
       "style": "IPY_MODEL_1fda64fd251842ed80e2fc5986e963cd",
       "value": 1
      }
     },
     "d75d9cb6e5d34aaa83b7681def0876d3": {
      "model_module": "@jupyter-widgets/base",
      "model_module_version": "1.1.0",
      "model_name": "LayoutModel",
      "state": {
       "grid_template_areas": "\"top-left top-left\"\n\"bottom-left bottom-left\"",
       "grid_template_columns": "1fr 1fr",
       "grid_template_rows": "1fr 1fr",
       "width": "auto"
      }
     },
     "d778808e1fe84c24ba2e02103fed8654": {
      "model_module": "@jupyter-widgets/base",
      "model_module_version": "1.1.0",
      "model_name": "LayoutModel",
      "state": {
       "grid_area": "top-right"
      }
     },
     "d78b12ca899e4145a8892aebf59c515b": {
      "model_module": "@jupyter-widgets/base",
      "model_module_version": "1.1.0",
      "model_name": "LayoutModel",
      "state": {
       "grid_area": "bottom-left"
      }
     },
     "d79daafab9154285835e13d409a121c0": {
      "model_module": "@jupyter-widgets/base",
      "model_module_version": "1.1.0",
      "model_name": "LayoutModel",
      "state": {
       "grid_area": "bottom-right",
       "height": "100%"
      }
     },
     "d7bf3bfe9756442180c12ce6a1512b4a": {
      "model_module": "@jupyter-widgets/controls",
      "model_module_version": "1.4.0",
      "model_name": "IntTextModel",
      "state": {
       "layout": "IPY_MODEL_60b38d98dc0942028fc4da2da8aa5df5",
       "step": 1,
       "style": "IPY_MODEL_df07fc40ac3c43de889c715dbd93f8b6",
       "value": 30
      }
     },
     "d89a0790b6df40f299c147db516e396d": {
      "model_module": "@jupyter-widgets/base",
      "model_module_version": "1.1.0",
      "model_name": "LayoutModel",
      "state": {
       "grid_area": "bottom-left"
      }
     },
     "d8bdf5026fcf4816b6e610e1c3fe1482": {
      "model_module": "bqplot",
      "model_module_version": "^0.4.5",
      "model_name": "OrdinalScaleModel",
      "state": {
       "domain": []
      }
     },
     "d8d42de356594207a969f7c5a2db808a": {
      "model_module": "@jupyter-widgets/base",
      "model_module_version": "1.1.0",
      "model_name": "LayoutModel",
      "state": {
       "grid_area": "top-right"
      }
     },
     "d8f3d4cdfc93478d9a09dcb273a7d6b3": {
      "model_module": "@jupyter-widgets/controls",
      "model_module_version": "1.4.0",
      "model_name": "LinkModel",
      "state": {
       "source": [
        "IPY_MODEL_2d09618574034d4d9faf8497a7a57fdb",
        "value"
       ],
       "target": [
        "IPY_MODEL_f13e41b8b78649b5b2a161fe388e1f06",
        "value"
       ]
      }
     },
     "d8f4a84af2fb4494843e424e68be35a2": {
      "model_module": "@jupyter-widgets/base",
      "model_module_version": "1.1.0",
      "model_name": "LayoutModel",
      "state": {
       "grid_template_areas": "\"top-left top-left\"\n\"bottom-left bottom-left\"",
       "grid_template_columns": "1fr 1fr",
       "grid_template_rows": "1fr 1fr",
       "width": "auto"
      }
     },
     "d8f97e7338a34707878fa043b4cbcaea": {
      "model_module": "@jupyter-widgets/controls",
      "model_module_version": "1.4.0",
      "model_name": "GridBoxModel",
      "state": {
       "children": [
        "IPY_MODEL_bdf70c69466149e4b081f23c8abc6338",
        "IPY_MODEL_5d08850f0d6b46ffbf99c639ed7804ad",
        "IPY_MODEL_7b76eca0708546159cade184916a485f"
       ],
       "layout": "IPY_MODEL_ce73f99995764d1fbd1df550f918e340"
      }
     },
     "d8fb7344569842b58dca80ef7e6a2a52": {
      "model_module": "bqplot",
      "model_module_version": "^0.4.5",
      "model_name": "LinearScaleModel",
      "state": {
       "allow_padding": false,
       "max": 1,
       "min": 0,
       "stabilized": false
      }
     },
     "d900643a214f4901b766d4432b5ab843": {
      "model_module": "@jupyter-widgets/base",
      "model_module_version": "1.1.0",
      "model_name": "LayoutModel",
      "state": {
       "align_items": "center",
       "grid_template_areas": "\"top-left bottom-right\"\n\"bottom-left bottom-right\"",
       "grid_template_columns": "1fr 1fr",
       "grid_template_rows": "1fr 1fr",
       "height": "300px",
       "width": "80%"
      }
     },
     "d9030d35351c44f0a9fc9aedeab35cf7": {
      "model_module": "@jupyter-widgets/controls",
      "model_module_version": "1.4.0",
      "model_name": "LinkModel",
      "state": {
       "source": [
        "IPY_MODEL_177d2db707f54fb98b71c2b6c542ad69",
        "min"
       ],
       "target": [
        "IPY_MODEL_24e40ecef4f24b56bd2f8fa09668732a",
        "value"
       ]
      }
     },
     "d903deb17b6a47da8b839136f74fa651": {
      "model_module": "@jupyter-widgets/base",
      "model_module_version": "1.1.0",
      "model_name": "LayoutModel",
      "state": {
       "grid_area": "bottom-left",
       "height": "20px",
       "width": "300px"
      }
     },
     "d91f912ce2fb44cc803ec9489adde1ca": {
      "model_module": "@jupyter-widgets/controls",
      "model_module_version": "1.4.0",
      "model_name": "ButtonStyleModel",
      "state": {}
     },
     "d93b3d7653ca42ee80a53803a4924235": {
      "model_module": "@jupyter-widgets/base",
      "model_module_version": "1.1.0",
      "model_name": "LayoutModel",
      "state": {}
     },
     "d93e947ce33543c7851e6fd2be4831dc": {
      "model_module": "@jupyter-widgets/controls",
      "model_module_version": "1.4.0",
      "model_name": "GridBoxModel",
      "state": {
       "children": [
        "IPY_MODEL_6965f4f3ff1e49f09f610642643c7914",
        "IPY_MODEL_a5a2ac4cf7b148c8bf35650719f3cdc5",
        "IPY_MODEL_780b3c06ac3f44228714779df886882c"
       ],
       "layout": "IPY_MODEL_1812c55875784e189d4ac95821b96e3f"
      }
     },
     "d94209237d6a4e83ae63803a6b038f8f": {
      "model_module": "@jupyter-widgets/controls",
      "model_module_version": "1.4.0",
      "model_name": "GridBoxModel",
      "state": {
       "children": [
        "IPY_MODEL_da8052b7fac44fd38966923163775eaa",
        "IPY_MODEL_18ebceb66b6f47ed853d312211a80371",
        "IPY_MODEL_d5c16d2ac33e4d5f9b3c26bc945c5968",
        "IPY_MODEL_35a780c694214b13b1cb66157fa2b616"
       ],
       "layout": "IPY_MODEL_74431881588f45948158012ae5a92879"
      }
     },
     "d9f6faeef26a44019a8372c963af2259": {
      "model_module": "@jupyter-widgets/controls",
      "model_module_version": "1.4.0",
      "model_name": "GridBoxModel",
      "state": {
       "children": [
        "IPY_MODEL_2ea9e5e7f1a14f89b769910a9fba0014",
        "IPY_MODEL_1a24e3de5d58493cba683182888c3045",
        "IPY_MODEL_ae31e31652a9428cb3b43f4e9f2259a9",
        "IPY_MODEL_eab3be38042d463695d5247f7f9aae84"
       ],
       "layout": "IPY_MODEL_e027ad757ba846118153ab2e9d51c1a6"
      }
     },
     "da244cd026d5447aa190cb67b74a21d6": {
      "model_module": "@jupyter-widgets/controls",
      "model_module_version": "1.4.0",
      "model_name": "ButtonModel",
      "state": {
       "description": "Top left",
       "layout": "IPY_MODEL_d41b50da7a4e4b189ba7d1ba883760b3",
       "style": "IPY_MODEL_d12525ee884d460f99bfa4fb8743e0bb"
      }
     },
     "da36a23ea9df4366a79496a4e0ec6da0": {
      "model_module": "@jupyter-widgets/controls",
      "model_module_version": "1.4.0",
      "model_name": "FloatSliderModel",
      "state": {
       "layout": "IPY_MODEL_27673a195d82430aa9f97c4252d7a80c",
       "max": 10,
       "min": 1,
       "step": 0.1,
       "style": "IPY_MODEL_949e7dab48ac47b7aae6b6c1c2a0e0a6",
       "value": 1
      }
     },
     "da4a99b3cb87432199740a87b61ad56e": {
      "model_module": "@jupyter-widgets/base",
      "model_module_version": "1.1.0",
      "model_name": "LayoutModel",
      "state": {
       "grid_area": "bottom-right"
      }
     },
     "da7b0df974024309bc5df0972f225a22": {
      "model_module": "@jupyter-widgets/controls",
      "model_module_version": "1.4.0",
      "model_name": "ButtonStyleModel",
      "state": {}
     },
     "da7f47a9b34b456db2a81d33205c47a7": {
      "model_module": "@jupyter-widgets/base",
      "model_module_version": "1.1.0",
      "model_name": "LayoutModel",
      "state": {
       "grid_area": "top-right",
       "min_width": "125px"
      }
     },
     "da8052b7fac44fd38966923163775eaa": {
      "model_module": "@jupyter-widgets/controls",
      "model_module_version": "1.4.0",
      "model_name": "IntTextModel",
      "state": {
       "layout": "IPY_MODEL_133f910b9fc140ccb9ee5c89f6a7cec0",
       "step": 1,
       "style": "IPY_MODEL_968de4dad254485ca2fc79223864f74c",
       "value": 25
      }
     },
     "da95ba4179ef43939f70bf364c2c0e80": {
      "model_module": "@jupyter-widgets/controls",
      "model_module_version": "1.4.0",
      "model_name": "IntSliderModel",
      "state": {
       "layout": "IPY_MODEL_0486875f70be4b01918812f4809a946b",
       "style": "IPY_MODEL_29489f1dd51c46b1a2f5149b38fe661a",
       "value": 25
      }
     },
     "daaa29b894ab490f8abbe17c40c702f3": {
      "model_module": "@jupyter-widgets/base",
      "model_module_version": "1.1.0",
      "model_name": "LayoutModel",
      "state": {
       "grid_template_areas": "\"top-left top-right\"\n\"bottom-left bottom-right\"",
       "grid_template_columns": "1fr 1fr",
       "grid_template_rows": "1fr 1fr"
      }
     },
     "dabc5212f3f7426da3ffdf6e21f6fda7": {
      "model_module": "@jupyter-widgets/base",
      "model_module_version": "1.1.0",
      "model_name": "LayoutModel",
      "state": {
       "grid_template_areas": "\"top-left bottom-right\"\n\"bottom-left bottom-right\"",
       "grid_template_columns": "1fr 1fr",
       "grid_template_rows": "1fr 1fr",
       "width": "auto"
      }
     },
     "dac99785b53f49a3aa5ee0de24d87fff": {
      "model_module": "@jupyter-widgets/base",
      "model_module_version": "1.1.0",
      "model_name": "LayoutModel",
      "state": {
       "grid_area": "top-left",
       "height": "20px",
       "width": "300px"
      }
     },
     "daf446b5f2714a5a9153fdfa83230ba5": {
      "model_module": "@jupyter-widgets/controls",
      "model_module_version": "1.4.0",
      "model_name": "LinkModel",
      "state": {
       "source": [
        "IPY_MODEL_10c007e416fc401c992766c9a7f55cca",
        "min"
       ],
       "target": [
        "IPY_MODEL_bea03538a7c8474e82273918f3abe2a7",
        "value"
       ]
      }
     },
     "daf5286db23946a7b1be3a083976502f": {
      "model_module": "@jupyter-widgets/base",
      "model_module_version": "1.1.0",
      "model_name": "LayoutModel",
      "state": {
       "grid_template_areas": "\"top-left top-right\"\n\"bottom-left top-right\"",
       "grid_template_columns": "1fr 1fr",
       "grid_template_rows": "1fr 1fr",
       "width": "auto"
      }
     },
     "db49ac75edc14567b118723eb3674900": {
      "model_module": "@jupyter-widgets/base",
      "model_module_version": "1.1.0",
      "model_name": "LayoutModel",
      "state": {
       "grid_area": "bottom-right"
      }
     },
     "db4c6c768ae54987b48cc1d6f6e4d500": {
      "model_module": "@jupyter-widgets/base",
      "model_module_version": "1.1.0",
      "model_name": "LayoutModel",
      "state": {
       "grid_area": "bottom-left"
      }
     },
     "db58c6096dd248c7ab1bfae5b3d9d1c5": {
      "model_module": "@jupyter-widgets/controls",
      "model_module_version": "1.4.0",
      "model_name": "LinkModel",
      "state": {
       "source": [
        "IPY_MODEL_762f980f76514085acce75f08dbffb92",
        "max"
       ],
       "target": [
        "IPY_MODEL_291f6701606a42bbb3cbeff61531f688",
        "value"
       ]
      }
     },
     "db8b29046db2474184a4478cf54ec51c": {
      "model_module": "@jupyter-widgets/controls",
      "model_module_version": "1.4.0",
      "model_name": "ButtonStyleModel",
      "state": {}
     },
     "db92861c9c5043ecbc642f910df45c82": {
      "model_module": "@jupyter-widgets/controls",
      "model_module_version": "1.4.0",
      "model_name": "SliderStyleModel",
      "state": {
       "description_width": ""
      }
     },
     "db942c6ff59e4e9eac1a4024c7538117": {
      "model_module": "@jupyter-widgets/base",
      "model_module_version": "1.1.0",
      "model_name": "LayoutModel",
      "state": {
       "grid_template_areas": "\"top-left top-right\"\n\"bottom-left bottom-right\"",
       "grid_template_columns": "1fr 1fr",
       "grid_template_rows": "1fr 1fr"
      }
     },
     "dba01eaac71d4ea0a851058e741e1649": {
      "model_module": "@jupyter-widgets/base",
      "model_module_version": "1.1.0",
      "model_name": "LayoutModel",
      "state": {
       "grid_area": "top-left",
       "height": "20px",
       "width": "200px"
      }
     },
     "dbb1b51d926443c4a9a478b8a31976ab": {
      "model_module": "@jupyter-widgets/base",
      "model_module_version": "1.1.0",
      "model_name": "LayoutModel",
      "state": {
       "grid_area": "top-left"
      }
     },
     "dbbfbe17238748d9898bfb765dc1e7ce": {
      "model_module": "@jupyter-widgets/base",
      "model_module_version": "1.1.0",
      "model_name": "LayoutModel",
      "state": {
       "grid_area": "bottom-left"
      }
     },
     "dbc0e4990c03497abaef76dfb728f233": {
      "model_module": "@jupyter-widgets/base",
      "model_module_version": "1.1.0",
      "model_name": "LayoutModel",
      "state": {
       "grid_area": "top-right"
      }
     },
     "dbe1bcb8cec14927a7b573e35d15e68c": {
      "model_module": "@jupyter-widgets/base",
      "model_module_version": "1.1.0",
      "model_name": "LayoutModel",
      "state": {
       "grid_area": "bottom-left"
      }
     },
     "dc03d58fdccf42308a2efb51b216231b": {
      "model_module": "@jupyter-widgets/controls",
      "model_module_version": "1.4.0",
      "model_name": "ButtonModel",
      "state": {
       "description": "Bottom right",
       "layout": "IPY_MODEL_48c1e8f7a8b04cb3aef84742d7e456bf",
       "style": "IPY_MODEL_207dc3e2ce9b49029709e029277178a1"
      }
     },
     "dc43184717ee4ef3a0e079bd02b86f16": {
      "model_module": "@jupyter-widgets/base",
      "model_module_version": "1.1.0",
      "model_name": "LayoutModel",
      "state": {
       "grid_template_areas": "\"top-left top-right\"\n\"bottom-left bottom-right\"",
       "grid_template_columns": "1fr 1fr",
       "grid_template_rows": "1fr 1fr"
      }
     },
     "dc6698afa22f4951aef23cf2626898f0": {
      "model_module": "@jupyter-widgets/controls",
      "model_module_version": "1.4.0",
      "model_name": "ButtonModel",
      "state": {
       "description": "Top right",
       "layout": "IPY_MODEL_c01daa9465e84f0597cd93738184413d",
       "style": "IPY_MODEL_3c9cc32d9efc4a04af42415ebef95ddc"
      }
     },
     "dc740a1fa7334edab393b4465e0c9a69": {
      "model_module": "@jupyter-widgets/base",
      "model_module_version": "1.1.0",
      "model_name": "LayoutModel",
      "state": {
       "grid_template_areas": "\"top-left top-right\"\n\"bottom-left bottom-right\"",
       "grid_template_columns": "1fr 1fr",
       "grid_template_rows": "1fr 1fr"
      }
     },
     "dc8fa86b655647608b045c14344484d1": {
      "model_module": "@jupyter-widgets/base",
      "model_module_version": "1.1.0",
      "model_name": "LayoutModel",
      "state": {
       "grid_area": "bottom-left",
       "height": "20px",
       "width": "300px"
      }
     },
     "dca0805d66b043ab8b17b8d097aa4621": {
      "model_module": "@jupyter-widgets/controls",
      "model_module_version": "1.4.0",
      "model_name": "GridBoxModel",
      "state": {
       "children": [
        "IPY_MODEL_49ea1631342848a5b778efe3615f4352",
        "IPY_MODEL_ff1f366c16a543ccbd087a552aa3a9ba",
        "IPY_MODEL_35c258eca3b14884928cbe23c5f0a37b",
        "IPY_MODEL_ea39fe6e6db741a998abb60af9a4af49"
       ],
       "layout": "IPY_MODEL_020ee7c243884dc78e62b0dc3063ae3c"
      }
     },
     "dca08d44d4e04572b6361bcba5d1aa92": {
      "model_module": "@jupyter-widgets/controls",
      "model_module_version": "1.4.0",
      "model_name": "ButtonModel",
      "state": {
       "description": "Bottom left",
       "layout": "IPY_MODEL_d2f85ffc0a894cd1851029b4fc9ebc67",
       "style": "IPY_MODEL_db8b29046db2474184a4478cf54ec51c"
      }
     },
     "dcc31bf94c8b422b9d6116a363b28933": {
      "model_module": "@jupyter-widgets/base",
      "model_module_version": "1.1.0",
      "model_name": "LayoutModel",
      "state": {
       "grid_area": "bottom-right",
       "height": "300px",
       "width": "auto"
      }
     },
     "dce28abba31348658fe9d429494dbb32": {
      "model_module": "@jupyter-widgets/controls",
      "model_module_version": "1.4.0",
      "model_name": "LinkModel",
      "state": {
       "source": [
        "IPY_MODEL_f3dd77a40aa546008e8281518c98989d",
        "max"
       ],
       "target": [
        "IPY_MODEL_957133507aa84139abd3e430b6702ca7",
        "value"
       ]
      }
     },
     "dcf3746c910749008b1da804ad9294e7": {
      "model_module": "@jupyter-widgets/base",
      "model_module_version": "1.1.0",
      "model_name": "LayoutModel",
      "state": {}
     },
     "dcfe4ed1b1a54297bb57c69612599e27": {
      "model_module": "@jupyter-widgets/controls",
      "model_module_version": "1.4.0",
      "model_name": "ButtonModel",
      "state": {
       "description": "Bottom right",
       "layout": "IPY_MODEL_da4a99b3cb87432199740a87b61ad56e",
       "style": "IPY_MODEL_b28025fa15a8475984614ff77346afe4"
      }
     },
     "dd303164fce5498bbef55393ce6c7765": {
      "model_module": "@jupyter-widgets/base",
      "model_module_version": "1.1.0",
      "model_name": "LayoutModel",
      "state": {
       "grid_area": "top-left",
       "width": "200px"
      }
     },
     "dd7804209d884c68a61e4aebb2f647da": {
      "model_module": "@jupyter-widgets/controls",
      "model_module_version": "1.4.0",
      "model_name": "GridBoxModel",
      "state": {
       "children": [
        "IPY_MODEL_3550193e13444a878cd93f6c52ad4bac",
        "IPY_MODEL_34099f6c55f0425395feafa194b78d2d",
        "IPY_MODEL_c9ca3c2aa10b457d8c694763010d4858"
       ],
       "layout": "IPY_MODEL_949a9333cc6c4fcea34e560aac348163"
      }
     },
     "ddaa73e0ce5048b7a5a9b3b492d6fe30": {
      "model_module": "@jupyter-widgets/controls",
      "model_module_version": "1.4.0",
      "model_name": "ButtonStyleModel",
      "state": {}
     },
     "ddab2acac7ad468d95e1ad94ec31dd2a": {
      "model_module": "@jupyter-widgets/base",
      "model_module_version": "1.1.0",
      "model_name": "LayoutModel",
      "state": {
       "grid_area": "top-left"
      }
     },
     "ddb9e240575e4ddb83c7b9c9b2a7b0a4": {
      "model_module": "@jupyter-widgets/controls",
      "model_module_version": "1.4.0",
      "model_name": "ButtonStyleModel",
      "state": {}
     },
     "ddbf62c8bcb646508ccc7ec71953d978": {
      "model_module": "@jupyter-widgets/base",
      "model_module_version": "1.1.0",
      "model_name": "LayoutModel",
      "state": {
       "grid_template_areas": "\"top-left top-right\"\n\"bottom-left top-right\"",
       "grid_template_columns": "1fr 1fr",
       "grid_template_rows": "1fr 1fr",
       "width": "auto"
      }
     },
     "ddd91fb64c0c4f6ea7323bbff34ce8aa": {
      "model_module": "@jupyter-widgets/base",
      "model_module_version": "1.1.0",
      "model_name": "LayoutModel",
      "state": {
       "grid_area": "bottom-left"
      }
     },
     "de016bea3bba464fa905ea73ed086847": {
      "model_module": "@jupyter-widgets/base",
      "model_module_version": "1.1.0",
      "model_name": "LayoutModel",
      "state": {
       "grid_area": "bottom-left"
      }
     },
     "de6f7c2a6e6d4935a92c8bcbfb9441b9": {
      "model_module": "@jupyter-widgets/controls",
      "model_module_version": "1.4.0",
      "model_name": "ButtonStyleModel",
      "state": {}
     },
     "de893bdfc1674e57a8694e1ac7261bec": {
      "model_module": "@jupyter-widgets/controls",
      "model_module_version": "1.4.0",
      "model_name": "LinkModel",
      "state": {
       "source": [
        "IPY_MODEL_9dff20bdb7b4426c9a4cdfd8fa9efcdd",
        "max"
       ],
       "target": [
        "IPY_MODEL_88c0a8ca313748f6a8a2e6d4f4267122",
        "value"
       ]
      }
     },
     "de8ede4bbd9d414bb699063041f88984": {
      "model_module": "@jupyter-widgets/controls",
      "model_module_version": "1.4.0",
      "model_name": "LinkModel",
      "state": {
       "source": [
        "IPY_MODEL_562bf23ee3c84e02bc28eb920c15229e",
        "max"
       ],
       "target": [
        "IPY_MODEL_8ce34ee22f0645279bc5196c2d523309",
        "value"
       ]
      }
     },
     "deb292270b3945b0b02cb03b34e39517": {
      "model_module": "@jupyter-widgets/controls",
      "model_module_version": "1.4.0",
      "model_name": "ButtonStyleModel",
      "state": {}
     },
     "dec5beacc5514f5a8261eeeb8d7256f1": {
      "model_module": "@jupyter-widgets/base",
      "model_module_version": "1.1.0",
      "model_name": "LayoutModel",
      "state": {
       "grid_template_areas": "\"top-left bottom-right\"\n\"bottom-left bottom-right\"",
       "grid_template_columns": "1fr 1fr",
       "grid_template_rows": "1fr 1fr",
       "width": "auto"
      }
     },
     "decba32da0ed487ca0a45399441a20e3": {
      "model_module": "@jupyter-widgets/controls",
      "model_module_version": "1.4.0",
      "model_name": "ButtonStyleModel",
      "state": {}
     },
     "ded08eb4176d4ba99699cdb1a3605e77": {
      "model_module": "@jupyter-widgets/controls",
      "model_module_version": "1.4.0",
      "model_name": "FloatSliderModel",
      "state": {
       "layout": "IPY_MODEL_ec81786ed530476c8efa6ec11a14659d",
       "max": 10,
       "min": 1,
       "step": 0.1,
       "style": "IPY_MODEL_3ecf50276e1542189e78c119f81827f6",
       "value": 1
      }
     },
     "dedd3ab80d914b3db6b9795dda7268e6": {
      "model_module": "@jupyter-widgets/controls",
      "model_module_version": "1.4.0",
      "model_name": "DescriptionStyleModel",
      "state": {
       "description_width": ""
      }
     },
     "dee1c7d20d0648f0a6e2148bb0689244": {
      "model_module": "@jupyter-widgets/controls",
      "model_module_version": "1.4.0",
      "model_name": "LinkModel",
      "state": {
       "source": [
        "IPY_MODEL_30c5f3aee10d4a37affcb0f481f803a3",
        "min"
       ],
       "target": [
        "IPY_MODEL_123bf3b8211f48a2b6f54d12db19b713",
        "value"
       ]
      }
     },
     "df07fc40ac3c43de889c715dbd93f8b6": {
      "model_module": "@jupyter-widgets/controls",
      "model_module_version": "1.4.0",
      "model_name": "DescriptionStyleModel",
      "state": {
       "description_width": ""
      }
     },
     "df15a235b14247c2a4f054a1fca883c2": {
      "model_module": "@jupyter-widgets/base",
      "model_module_version": "1.1.0",
      "model_name": "LayoutModel",
      "state": {
       "grid_area": "top-right"
      }
     },
     "df57db68ea56422d9e316f3e6db5798f": {
      "model_module": "@jupyter-widgets/controls",
      "model_module_version": "1.4.0",
      "model_name": "ButtonModel",
      "state": {
       "description": "Top right",
       "layout": "IPY_MODEL_f062df05526f43c787a3344d923315a2",
       "style": "IPY_MODEL_3df6ea04f22f4a7d865ed2e35221b2f7"
      }
     },
     "df5c02cf0a3245ce9f94a06f6bf69642": {
      "model_module": "@jupyter-widgets/controls",
      "model_module_version": "1.4.0",
      "model_name": "LinkModel",
      "state": {
       "source": [
        "IPY_MODEL_6e75f3c250b74904a7b2761e466af520",
        "min"
       ],
       "target": [
        "IPY_MODEL_25d741750e08496fb4ec9827d8738d2e",
        "value"
       ]
      }
     },
     "dfa1892f4d0347bd8322dcdcbd7d478d": {
      "model_module": "@jupyter-widgets/base",
      "model_module_version": "1.1.0",
      "model_name": "LayoutModel",
      "state": {
       "grid_template_areas": "\"top-left bottom-right\"\n\"bottom-left bottom-right\"",
       "grid_template_columns": "1fr 1fr",
       "grid_template_rows": "1fr 1fr",
       "width": "auto"
      }
     },
     "dfb369af7539448ba5d145fa44e9755d": {
      "model_module": "@jupyter-widgets/controls",
      "model_module_version": "1.4.0",
      "model_name": "IntTextModel",
      "state": {
       "layout": "IPY_MODEL_80bda078cf464bdc8ec1528c4c191765",
       "step": 1,
       "style": "IPY_MODEL_593f3439fe2b425b88b297a1f7b022a5",
       "value": 30
      }
     },
     "dfc3a03e7e594e719754f45111052198": {
      "model_module": "@jupyter-widgets/controls",
      "model_module_version": "1.4.0",
      "model_name": "LinkModel",
      "state": {
       "source": [
        "IPY_MODEL_ebb147aeea6d4453aacf9e22351c15dc",
        "max"
       ],
       "target": [
        "IPY_MODEL_c10c610425ce4b51b909de1b6f4d8f43",
        "value"
       ]
      }
     },
     "dfc536644f0d43c1862a5b341a787f31": {
      "model_module": "@jupyter-widgets/controls",
      "model_module_version": "1.4.0",
      "model_name": "ButtonStyleModel",
      "state": {}
     },
     "dfc95bd6b35b4b7ebdb1d642c64514e7": {
      "model_module": "@jupyter-widgets/controls",
      "model_module_version": "1.4.0",
      "model_name": "ButtonStyleModel",
      "state": {}
     },
     "dfd5a5e821aa46b988fb9875d7fc8333": {
      "model_module": "@jupyter-widgets/controls",
      "model_module_version": "1.4.0",
      "model_name": "LinkModel",
      "state": {
       "source": [
        "IPY_MODEL_bb0ef4416eb14cd1a326a454fdb31294",
        "value"
       ],
       "target": [
        "IPY_MODEL_b0d21688b9a04f1c9f27fa1e4cfc3285",
        "value"
       ]
      }
     },
     "dfe37055df0d48848ec909e8b83a4090": {
      "model_module": "@jupyter-widgets/base",
      "model_module_version": "1.1.0",
      "model_name": "LayoutModel",
      "state": {
       "grid_area": "top-right"
      }
     },
     "dfe405b9aa9e4b6e972df314f83c9593": {
      "model_module": "@jupyter-widgets/controls",
      "model_module_version": "1.4.0",
      "model_name": "GridBoxModel",
      "state": {
       "children": [
        "IPY_MODEL_6db55cfb7d894364b019f13cf89320a4",
        "IPY_MODEL_b64d803bcc4349328e4d7b65443aed66",
        "IPY_MODEL_3615f6ab808049e5990ec785d4b07de0"
       ],
       "layout": "IPY_MODEL_7ced6147713842c8ac2ed13272db3a11"
      }
     },
     "e0093e655c254b8e9c0fdb3feb7d8aed": {
      "model_module": "@jupyter-widgets/base",
      "model_module_version": "1.1.0",
      "model_name": "LayoutModel",
      "state": {
       "align_items": "center"
      }
     },
     "e0138d6436934cd090908ddc83fa89a2": {
      "model_module": "@jupyter-widgets/controls",
      "model_module_version": "1.4.0",
      "model_name": "ButtonModel",
      "state": {
       "description": "Bottom left",
       "layout": "IPY_MODEL_93ccf53c444e47a4925190d3bd428c1f",
       "style": "IPY_MODEL_c93ab174f48b48d0985c52be52d539b6"
      }
     },
     "e027ad757ba846118153ab2e9d51c1a6": {
      "model_module": "@jupyter-widgets/base",
      "model_module_version": "1.1.0",
      "model_name": "LayoutModel",
      "state": {
       "grid_template_areas": "\"top-left top-right\"\n\"bottom-left bottom-right\"",
       "grid_template_columns": "1fr 1fr",
       "grid_template_rows": "1fr 1fr"
      }
     },
     "e042abeb5ffe40a1b6ccca8203658f53": {
      "model_module": "@jupyter-widgets/base",
      "model_module_version": "1.1.0",
      "model_name": "LayoutModel",
      "state": {
       "grid_area": "bottom-left"
      }
     },
     "e0695b82e4bb4cb88de67b296c1681a5": {
      "model_module": "@jupyter-widgets/controls",
      "model_module_version": "1.4.0",
      "model_name": "ButtonModel",
      "state": {
       "description": "Bottom right",
       "layout": "IPY_MODEL_fecc0bd47255460d9506b2a356e97041",
       "style": "IPY_MODEL_f1d7554c758d4554a4cbff88a7715229"
      }
     },
     "e071cf075a3c40b6a4325e5666a5c7af": {
      "model_module": "@jupyter-widgets/base",
      "model_module_version": "1.1.0",
      "model_name": "LayoutModel",
      "state": {
       "grid_area": "top-left",
       "height": "auto",
       "width": "200px"
      }
     },
     "e07ff200c62648069ae37feaf13b04d6": {
      "model_module": "@jupyter-widgets/controls",
      "model_module_version": "1.4.0",
      "model_name": "LinkModel",
      "state": {
       "source": [
        "IPY_MODEL_820f40885b1d4781a4e4abd39ead9b69",
        "max"
       ],
       "target": [
        "IPY_MODEL_06049c5976ea4452bc25c50ed2fc128e",
        "value"
       ]
      }
     },
     "e08a3201c7e646c48adec34b7f51a934": {
      "model_module": "bqplot",
      "model_module_version": "^0.4.5",
      "model_name": "LinearScaleModel",
      "state": {
       "max": 1.45,
       "stabilized": false
      }
     },
     "e10ec85a07944bc6b8a13fe0a6a185be": {
      "model_module": "@jupyter-widgets/base",
      "model_module_version": "1.1.0",
      "model_name": "LayoutModel",
      "state": {
       "grid_template_areas": "\"top-left top-right\"\n\"bottom-left bottom-right\"",
       "grid_template_columns": "1fr 1fr",
       "grid_template_rows": "1fr 1fr",
       "width": "auto"
      }
     },
     "e17589e00bf34ddb90c96e58ce569af9": {
      "model_module": "@jupyter-widgets/controls",
      "model_module_version": "1.4.0",
      "model_name": "ButtonStyleModel",
      "state": {}
     },
     "e19d0b2903b2461ba5bba3da0b6a02ac": {
      "model_module": "@jupyter-widgets/base",
      "model_module_version": "1.1.0",
      "model_name": "LayoutModel",
      "state": {
       "grid_area": "top-left"
      }
     },
     "e1a99a567b1e44fbafb3b8972d111029": {
      "model_module": "@jupyter-widgets/base",
      "model_module_version": "1.1.0",
      "model_name": "LayoutModel",
      "state": {
       "grid_area": "top-right"
      }
     },
     "e1aeb4b94ddb435fbcd62bc46ba7dd3d": {
      "model_module": "@jupyter-widgets/base",
      "model_module_version": "1.1.0",
      "model_name": "LayoutModel",
      "state": {
       "grid_area": "bottom-left"
      }
     },
     "e1c797437ce44541bd571ee1031547cb": {
      "model_module": "@jupyter-widgets/base",
      "model_module_version": "1.1.0",
      "model_name": "LayoutModel",
      "state": {
       "grid_template_areas": "\"top-left bottom-right\"\n\"bottom-left bottom-right\"",
       "grid_template_columns": "1fr 1fr",
       "grid_template_rows": "1fr 1fr",
       "width": "auto"
      }
     },
     "e1d6a82dd154425191e4b86ae791562c": {
      "model_module": "@jupyter-widgets/controls",
      "model_module_version": "1.4.0",
      "model_name": "LinkModel",
      "state": {
       "source": [
        "IPY_MODEL_ace150919ddc457781b56f6564a43648",
        "value"
       ],
       "target": [
        "IPY_MODEL_faf68dbae83e4464aeaf231da98e53a5",
        "value"
       ]
      }
     },
     "e1d883f808c94e4ca34165baa3d93d7d": {
      "model_module": "@jupyter-widgets/controls",
      "model_module_version": "1.4.0",
      "model_name": "ButtonModel",
      "state": {
       "description": "Top right",
       "layout": "IPY_MODEL_df15a235b14247c2a4f054a1fca883c2",
       "style": "IPY_MODEL_8786df33daf941e38243cab490dbfbc1"
      }
     },
     "e1fb1da17d984f05bcf9b5210a7a329c": {
      "model_module": "@jupyter-widgets/base",
      "model_module_version": "1.1.0",
      "model_name": "LayoutModel",
      "state": {
       "grid_template_areas": "\"top-left bottom-right\"\n\"bottom-left bottom-right\"",
       "grid_template_columns": "1fr 1fr",
       "grid_template_rows": "1fr 1fr",
       "width": "auto"
      }
     },
     "e243cab7206d47769cc8bae8b6f4f7db": {
      "model_module": "@jupyter-widgets/base",
      "model_module_version": "1.1.0",
      "model_name": "LayoutModel",
      "state": {
       "grid_template_areas": "\"top-left top-right\"\n\"bottom-left bottom-right\"",
       "grid_template_columns": "1fr 1fr",
       "grid_template_rows": "1fr 1fr",
       "width": "auto"
      }
     },
     "e25347d09fda4940bb4f01a049eab842": {
      "model_module": "@jupyter-widgets/controls",
      "model_module_version": "1.4.0",
      "model_name": "ButtonStyleModel",
      "state": {}
     },
     "e263e77ef4e44a4595de8b9191b40631": {
      "model_module": "@jupyter-widgets/base",
      "model_module_version": "1.1.0",
      "model_name": "LayoutModel",
      "state": {
       "grid_area": "top-left",
       "width": "100px"
      }
     },
     "e27a6fa8769449929a03b61dd668b6dc": {
      "model_module": "@jupyter-widgets/controls",
      "model_module_version": "1.4.0",
      "model_name": "ButtonStyleModel",
      "state": {}
     },
     "e294f801781944369996bc4072dc1b97": {
      "model_module": "@jupyter-widgets/controls",
      "model_module_version": "1.4.0",
      "model_name": "ButtonModel",
      "state": {
       "description": "Bottom right",
       "layout": "IPY_MODEL_255d1931efab4e12bca709ec94eee30e",
       "style": "IPY_MODEL_8bb847f6dd104cf191ceecef6dd6f04d"
      }
     },
     "e2ac25e5c9264f8eb9406f623e1c1024": {
      "model_module": "@jupyter-widgets/controls",
      "model_module_version": "1.4.0",
      "model_name": "SliderStyleModel",
      "state": {
       "description_width": ""
      }
     },
     "e2e3b49a3c16434b8801db051bc4dd32": {
      "model_module": "@jupyter-widgets/controls",
      "model_module_version": "1.4.0",
      "model_name": "SliderStyleModel",
      "state": {
       "description_width": ""
      }
     },
     "e31cd91d94f142ee8393be0719360294": {
      "model_module": "@jupyter-widgets/base",
      "model_module_version": "1.1.0",
      "model_name": "LayoutModel",
      "state": {
       "grid_template_areas": "\"top-left bottom-right\"\n\"bottom-left bottom-right\"",
       "grid_template_columns": "1fr 1fr",
       "grid_template_rows": "1fr 1fr",
       "width": "auto"
      }
     },
     "e33ed5d18e464697a0fb836e16c5d8e2": {
      "model_module": "@jupyter-widgets/controls",
      "model_module_version": "1.4.0",
      "model_name": "ButtonModel",
      "state": {
       "description": "Bottom right",
       "layout": "IPY_MODEL_e9553b557a004ea49d4580a3fcba1b91",
       "style": "IPY_MODEL_f1a66d4fc0f8433db005a636b7429b86"
      }
     },
     "e36b3e73f7374de5a50141c5cf21a0c6": {
      "model_module": "@jupyter-widgets/controls",
      "model_module_version": "1.4.0",
      "model_name": "ButtonModel",
      "state": {
       "description": "Bottom left",
       "layout": "IPY_MODEL_a79fd68a23374f97ba66e9c43af44b9f",
       "style": "IPY_MODEL_228bf4ed93964a3bb75c407cb7517d69"
      }
     },
     "e3aff95381c0472b919710ea17dcaca5": {
      "model_module": "bqplot",
      "model_module_version": "^0.4.5",
      "model_name": "AxisModel",
      "state": {
       "scale": "IPY_MODEL_aef49c4f74ec4ac7a0171eb3740c521c",
       "side": "bottom",
       "tick_values": {
        "type": null,
        "values": null
       }
      }
     },
     "e3e47dcb5a32462f9c76ba562a38f4c9": {
      "model_module": "@jupyter-widgets/base",
      "model_module_version": "1.1.0",
      "model_name": "LayoutModel",
      "state": {
       "grid_area": "bottom-left"
      }
     },
     "e3f88a645fc6487d8c97af9eee76bf51": {
      "model_module": "@jupyter-widgets/base",
      "model_module_version": "1.1.0",
      "model_name": "LayoutModel",
      "state": {
       "grid_area": "bottom-left"
      }
     },
     "e42e960d92df488b822ee5df17446027": {
      "model_module": "bqplot",
      "model_module_version": "^0.4.5",
      "model_name": "AxisModel",
      "state": {
       "orientation": "vertical",
       "scale": "IPY_MODEL_352ed5678f7141dea76b5ffdec8e8813",
       "side": "left",
       "tick_format": "0.2f",
       "tick_values": {
        "type": null,
        "values": null
       }
      }
     },
     "e4558e36f4c14b909863a73d9488bca7": {
      "model_module": "bqplot",
      "model_module_version": "^0.4.5",
      "model_name": "LinearScaleModel",
      "state": {
       "allow_padding": false,
       "max": 1,
       "min": 0,
       "stabilized": false
      }
     },
     "e48bf4fc9cad4306a501df92afc3e98b": {
      "model_module": "@jupyter-widgets/controls",
      "model_module_version": "1.4.0",
      "model_name": "ButtonModel",
      "state": {
       "description": "Bottom left",
       "layout": "IPY_MODEL_a9993596e28844219179d2a735e65829",
       "style": "IPY_MODEL_a5c74ed90ed64fab84a128b698bbe4a0"
      }
     },
     "e491a561cb654496903ad3faeaf666ec": {
      "model_module": "@jupyter-widgets/base",
      "model_module_version": "1.1.0",
      "model_name": "LayoutModel",
      "state": {
       "grid_template_areas": "\"top-left top-right\"\n\"bottom-left bottom-right\"",
       "grid_template_columns": "1fr 1fr",
       "grid_template_rows": "1fr 1fr",
       "width": "auto"
      }
     },
     "e49ed65f8aed4ca69901de04230ab95b": {
      "model_module": "@jupyter-widgets/base",
      "model_module_version": "1.1.0",
      "model_name": "LayoutModel",
      "state": {
       "grid_area": "bottom-left"
      }
     },
     "e4ae60833eb9481aab11b17db7e4be75": {
      "model_module": "@jupyter-widgets/base",
      "model_module_version": "1.1.0",
      "model_name": "LayoutModel",
      "state": {
       "grid_area": "top-left",
       "height": "20px",
       "width": "300px"
      }
     },
     "e4b0fb877a87464abd0d59145a679fe1": {
      "model_module": "@jupyter-widgets/base",
      "model_module_version": "1.1.0",
      "model_name": "LayoutModel",
      "state": {
       "grid_area": "top-left",
       "width": "200px"
      }
     },
     "e4e21a26e5d84590b976e747cdfd5523": {
      "model_module": "@jupyter-widgets/controls",
      "model_module_version": "1.4.0",
      "model_name": "SliderStyleModel",
      "state": {
       "description_width": ""
      }
     },
     "e4f408df0c264401b76501daa1e6f328": {
      "model_module": "@jupyter-widgets/controls",
      "model_module_version": "1.4.0",
      "model_name": "ButtonStyleModel",
      "state": {}
     },
     "e529995795714b70b808ac02d96ebc0a": {
      "model_module": "@jupyter-widgets/controls",
      "model_module_version": "1.4.0",
      "model_name": "ButtonModel",
      "state": {
       "description": "Bottom left",
       "layout": "IPY_MODEL_e042abeb5ffe40a1b6ccca8203658f53",
       "style": "IPY_MODEL_da7b0df974024309bc5df0972f225a22"
      }
     },
     "e549f2a36b5c4103a84f5229d2e08109": {
      "model_module": "@jupyter-widgets/controls",
      "model_module_version": "1.4.0",
      "model_name": "ButtonModel",
      "state": {
       "description": "Bottom right",
       "layout": "IPY_MODEL_741d8dd4bdff45059bc80a6b9e79ff64",
       "style": "IPY_MODEL_341116f30f0245eaa2d27661a4528bef"
      }
     },
     "e554239b177e44f1a9e6f9093eca9c6e": {
      "model_module": "@jupyter-widgets/controls",
      "model_module_version": "1.4.0",
      "model_name": "GridBoxModel",
      "state": {
       "children": [
        "IPY_MODEL_ac5b204600c34dcb93fbf3a842102fa2",
        "IPY_MODEL_5a2d2167b11c4c0d9b7daba1754e0747",
        "IPY_MODEL_fc113e529eae40e0b6bf9cf6a2c9cd45"
       ],
       "layout": "IPY_MODEL_0abf7a5936b847f98babd366dfbb017d"
      }
     },
     "e56bae38b1c44b81b400a9ea4908452e": {
      "model_module": "@jupyter-widgets/controls",
      "model_module_version": "1.4.0",
      "model_name": "ButtonModel",
      "state": {
       "description": "Bottom left",
       "layout": "IPY_MODEL_2a1c7b8fe85f43f698d78a158e7dd3f2",
       "style": "IPY_MODEL_62ba19b0e952465082ed15ca0e812f07"
      }
     },
     "e576d06d73f440d3abe54e5c64b53136": {
      "model_module": "@jupyter-widgets/controls",
      "model_module_version": "1.4.0",
      "model_name": "FloatSliderModel",
      "state": {
       "layout": "IPY_MODEL_fe4b108e65ee47e4bbb9306958bc8625",
       "max": 10,
       "min": 1,
       "step": 0.1,
       "style": "IPY_MODEL_ced0bbe9bc3f4dafaecc148fea5d157b",
       "value": 1
      }
     },
     "e58046537e2b4228bf92fbb2bbe6d5ef": {
      "model_module": "@jupyter-widgets/controls",
      "model_module_version": "1.4.0",
      "model_name": "FloatSliderModel",
      "state": {
       "description": "Max: ",
       "layout": "IPY_MODEL_ab467ecf20aa40849a0600eca60030a5",
       "max": 10,
       "min": 7.3,
       "step": 0.1,
       "style": "IPY_MODEL_e6e5869e60f740a6806140c008bb4363",
       "value": 8.8
      }
     },
     "e5b6344509834f61bab3a4e8794f1a66": {
      "model_module": "@jupyter-widgets/base",
      "model_module_version": "1.1.0",
      "model_name": "LayoutModel",
      "state": {
       "grid_template_areas": "\"top-left top-right\"\n\"bottom-left top-right\"",
       "grid_template_columns": "1fr 1fr",
       "grid_template_rows": "1fr 1fr",
       "width": "auto"
      }
     },
     "e5f7cce029ae4fbcb9de88bd8fed3322": {
      "model_module": "@jupyter-widgets/controls",
      "model_module_version": "1.4.0",
      "model_name": "SliderStyleModel",
      "state": {
       "description_width": ""
      }
     },
     "e60ca3a4bc3e4c2d91da4515daa2bd48": {
      "model_module": "@jupyter-widgets/base",
      "model_module_version": "1.1.0",
      "model_name": "LayoutModel",
      "state": {
       "grid_area": "top-left"
      }
     },
     "e614dad3c2a147dcac39b48f39e8a3ed": {
      "model_module": "@jupyter-widgets/base",
      "model_module_version": "1.1.0",
      "model_name": "LayoutModel",
      "state": {
       "grid_area": "top-left"
      }
     },
     "e61ae1720a9441b7b37c33059713a9d6": {
      "model_module": "@jupyter-widgets/controls",
      "model_module_version": "1.4.0",
      "model_name": "FloatSliderModel",
      "state": {
       "layout": "IPY_MODEL_42611d445cca47f6b65c55709cbb8d58",
       "max": 10,
       "min": 1,
       "step": 0.1,
       "style": "IPY_MODEL_8567a2b93f294e1191288a92916b6718",
       "value": 1
      }
     },
     "e6271172e35249bfbe06cbb08ba3d3c8": {
      "model_module": "@jupyter-widgets/base",
      "model_module_version": "1.1.0",
      "model_name": "LayoutModel",
      "state": {
       "grid_area": "top-left"
      }
     },
     "e6461731092a44e99185ac9ad62f18b1": {
      "model_module": "@jupyter-widgets/base",
      "model_module_version": "1.1.0",
      "model_name": "LayoutModel",
      "state": {
       "grid_template_areas": "\"top-left top-right\"\n\"bottom-left bottom-right\"",
       "grid_template_columns": "1fr 1fr",
       "grid_template_rows": "1fr 1fr",
       "width": "auto"
      }
     },
     "e64bb79e6bc34274bec074312eb7be29": {
      "model_module": "@jupyter-widgets/base",
      "model_module_version": "1.1.0",
      "model_name": "LayoutModel",
      "state": {
       "grid_template_areas": "\"top-left bottom-right\"\n\"bottom-left bottom-right\"",
       "grid_template_columns": "1fr 1fr",
       "grid_template_rows": "1fr 1fr"
      }
     },
     "e65684f0bae8451d8f9c05c06deac46e": {
      "model_module": "@jupyter-widgets/controls",
      "model_module_version": "1.4.0",
      "model_name": "LinkModel",
      "state": {
       "source": [
        "IPY_MODEL_9b0be89660144710a836f7e3a52173c6",
        "min"
       ],
       "target": [
        "IPY_MODEL_bdf70c69466149e4b081f23c8abc6338",
        "value"
       ]
      }
     },
     "e65817a9922c41fc8409cf78a247e7d7": {
      "model_module": "@jupyter-widgets/controls",
      "model_module_version": "1.4.0",
      "model_name": "SliderStyleModel",
      "state": {
       "description_width": ""
      }
     },
     "e664f7433b2346c08bcf8a4c7c9ecb3b": {
      "model_module": "@jupyter-widgets/base",
      "model_module_version": "1.1.0",
      "model_name": "LayoutModel",
      "state": {
       "grid_template_areas": "\"top-left top-right\"\n\"bottom-left bottom-right\"",
       "grid_template_columns": "1fr 1fr",
       "grid_template_rows": "1fr 1fr",
       "width": "auto"
      }
     },
     "e68e56e1f6144f18acf261d338171ad3": {
      "model_module": "@jupyter-widgets/controls",
      "model_module_version": "1.4.0",
      "model_name": "SliderStyleModel",
      "state": {
       "description_width": ""
      }
     },
     "e68f59d00099469596bdb29fb77b81b7": {
      "model_module": "bqplot",
      "model_module_version": "^0.4.5",
      "model_name": "AxisModel",
      "state": {
       "scale": "IPY_MODEL_8db8640dbf5c45c3ac0bb3868dd678c3",
       "side": "bottom",
       "tick_values": {
        "type": null,
        "values": null
       }
      }
     },
     "e6b5d36085004fb7ad1737fbf8de0787": {
      "model_module": "@jupyter-widgets/base",
      "model_module_version": "1.1.0",
      "model_name": "LayoutModel",
      "state": {
       "grid_area": "top-left"
      }
     },
     "e6cccb9b79014139914191ae06b22e84": {
      "model_module": "@jupyter-widgets/controls",
      "model_module_version": "1.4.0",
      "model_name": "IntTextModel",
      "state": {
       "layout": "IPY_MODEL_47d5e9fcbab2412e8b38e4522692ce70",
       "step": 1,
       "style": "IPY_MODEL_8451ba7838464bdba629ad43c9b7949e",
       "value": 25
      }
     },
     "e6e5869e60f740a6806140c008bb4363": {
      "model_module": "@jupyter-widgets/controls",
      "model_module_version": "1.4.0",
      "model_name": "SliderStyleModel",
      "state": {
       "description_width": ""
      }
     },
     "e6eb3a0a50114bf28ccf3918ce6138f2": {
      "model_module": "@jupyter-widgets/controls",
      "model_module_version": "1.4.0",
      "model_name": "LinkModel",
      "state": {
       "source": [
        "IPY_MODEL_30c5f3aee10d4a37affcb0f481f803a3",
        "max"
       ],
       "target": [
        "IPY_MODEL_d663b4dc1d854f61a2a539076beda863",
        "value"
       ]
      }
     },
     "e6f00a5077314231a0b8dafaee9d8b03": {
      "model_module": "@jupyter-widgets/controls",
      "model_module_version": "1.4.0",
      "model_name": "ButtonModel",
      "state": {
       "description": "Top left",
       "layout": "IPY_MODEL_20988ad77e91431688e9ab9d24391f6f",
       "style": "IPY_MODEL_bf1e09653c8449169451c3b89733c1cb"
      }
     },
     "e7033bd0885f42f38590c67321b8b5de": {
      "model_module": "@jupyter-widgets/controls",
      "model_module_version": "1.4.0",
      "model_name": "ButtonModel",
      "state": {
       "description": "Top left",
       "layout": "IPY_MODEL_03cd00fe5bee4200922bf6692abe3607",
       "style": "IPY_MODEL_6626d864c15d4e6d9505b704f8798495"
      }
     },
     "e7056c86b4794e80afe97242bca3424c": {
      "model_module": "@jupyter-widgets/controls",
      "model_module_version": "1.4.0",
      "model_name": "GridBoxModel",
      "state": {
       "children": [
        "IPY_MODEL_7bbfc82e86124fbebb359dfe0c0d135f",
        "IPY_MODEL_2bb29913659d4646a8d8e404e95cb653",
        "IPY_MODEL_3a4bfe4cd45c4167ae4daaf9eebb352e"
       ],
       "layout": "IPY_MODEL_4a97fd67edb94fee82f36f1213f04f3d"
      }
     },
     "e70cfbeed91c49f0af67780917292fb0": {
      "model_module": "@jupyter-widgets/controls",
      "model_module_version": "1.4.0",
      "model_name": "ButtonModel",
      "state": {
       "description": "Bottom right",
       "layout": "IPY_MODEL_39b4afd201fb4a32967579a1fa05c4e1",
       "style": "IPY_MODEL_4c6d3b86cc074e108f2ee7f2952761cb"
      }
     },
     "e7288fac6d0e4ea799bd7d6cfa56a408": {
      "model_module": "@jupyter-widgets/controls",
      "model_module_version": "1.4.0",
      "model_name": "SliderStyleModel",
      "state": {
       "description_width": ""
      }
     },
     "e73b5d898b4f4ef2a1bd94c43bfec51f": {
      "model_module": "@jupyter-widgets/controls",
      "model_module_version": "1.4.0",
      "model_name": "ButtonStyleModel",
      "state": {}
     },
     "e75ac5b9f82743a0ac467db986bba583": {
      "model_module": "@jupyter-widgets/base",
      "model_module_version": "1.1.0",
      "model_name": "LayoutModel",
      "state": {
       "grid_template_areas": "\"top-left bottom-right\"\n\"bottom-left bottom-right\"",
       "grid_template_columns": "1fr 1fr",
       "grid_template_rows": "1fr 1fr",
       "width": "auto"
      }
     },
     "e77cc58ef2ff4a12905f1491330f2664": {
      "model_module": "@jupyter-widgets/controls",
      "model_module_version": "1.4.0",
      "model_name": "LinkModel",
      "state": {
       "source": [
        "IPY_MODEL_30c5f3aee10d4a37affcb0f481f803a3",
        "min"
       ],
       "target": [
        "IPY_MODEL_07380df1f7224aa5a22fe8f6dec98710",
        "value"
       ]
      }
     },
     "e7c44e362490432087ba2c561a6cae89": {
      "model_module": "@jupyter-widgets/base",
      "model_module_version": "1.1.0",
      "model_name": "LayoutModel",
      "state": {
       "grid_area": "bottom-left"
      }
     },
     "e7e509eec5174b12bcec4734aee13729": {
      "model_module": "@jupyter-widgets/controls",
      "model_module_version": "1.4.0",
      "model_name": "ButtonModel",
      "state": {
       "description": "Bottom left",
       "layout": "IPY_MODEL_3a864c36806f47d9b2761bd8c049a994",
       "style": "IPY_MODEL_409316c1274e42f8b105c629cfc75211"
      }
     },
     "e7f58c72db3c47e2863a8dec0e072578": {
      "model_module": "@jupyter-widgets/controls",
      "model_module_version": "1.4.0",
      "model_name": "ButtonModel",
      "state": {
       "description": "Top left",
       "layout": "IPY_MODEL_3ca544d340c6413a8a0e11bae40ae469",
       "style": "IPY_MODEL_f46885f169ee4a0bb41038f5539b78cf"
      }
     },
     "e7f713a40a174f7aae375f68c2482c30": {
      "model_module": "@jupyter-widgets/base",
      "model_module_version": "1.1.0",
      "model_name": "LayoutModel",
      "state": {
       "grid_area": "top-left"
      }
     },
     "e7f7a61241c34c779a04148f5eb52f7e": {
      "model_module": "bqplot",
      "model_module_version": "^0.4.5",
      "model_name": "AxisModel",
      "state": {
       "scale": "IPY_MODEL_a48c2520b5b64f07abe29acd407232aa",
       "side": "bottom",
       "tick_values": {
        "type": null,
        "values": null
       }
      }
     },
     "e8098df1e7b346d69c4000bd1c33b7b8": {
      "model_module": "@jupyter-widgets/controls",
      "model_module_version": "1.4.0",
      "model_name": "FloatSliderModel",
      "state": {
       "layout": "IPY_MODEL_dd303164fce5498bbef55393ce6c7765",
       "max": 1,
       "step": 0.1,
       "style": "IPY_MODEL_4a297eec59fb44108329e4ab71b2bdd7",
       "value": null
      }
     },
     "e80a142bc51443b39af408a2afa4abbf": {
      "model_module": "@jupyter-widgets/base",
      "model_module_version": "1.1.0",
      "model_name": "LayoutModel",
      "state": {
       "grid_template_areas": "\"top-left top-right\"\n\"bottom-left bottom-right\"",
       "grid_template_columns": "1fr 1fr",
       "grid_template_rows": "1fr 1fr"
      }
     },
     "e83824a7f056462eacb66cbefa6b398d": {
      "model_module": "@jupyter-widgets/controls",
      "model_module_version": "1.4.0",
      "model_name": "ButtonModel",
      "state": {
       "description": "Bottom right",
       "layout": "IPY_MODEL_53c0ec97139e48f4b38a720f7306d57d",
       "style": "IPY_MODEL_19da19927b68484ca2ff7b3871442936"
      }
     },
     "e873e3bbfa004155b11eefcea3bb6715": {
      "model_module": "@jupyter-widgets/base",
      "model_module_version": "1.1.0",
      "model_name": "LayoutModel",
      "state": {
       "grid_template_areas": "\"top-left bottom-right\"\n\"bottom-left bottom-right\"",
       "grid_template_columns": "1fr 1fr",
       "grid_template_rows": "1fr 1fr",
       "width": "auto"
      }
     },
     "e8bcf26cf6a04d66a676921fea5b800b": {
      "model_module": "@jupyter-widgets/base",
      "model_module_version": "1.1.0",
      "model_name": "LayoutModel",
      "state": {
       "grid_area": "bottom-left"
      }
     },
     "e8d4ea0466554654a6156532d96c0a92": {
      "model_module": "@jupyter-widgets/controls",
      "model_module_version": "1.4.0",
      "model_name": "FloatSliderModel",
      "state": {
       "layout": "IPY_MODEL_b54d6fcfa3524939a7c7bc69a579e306",
       "max": 1,
       "step": 0.1,
       "style": "IPY_MODEL_acc44908eedf441c9272c5c81e9f6871",
       "value": null
      }
     },
     "e946d286578648e88faf12a65b89ba86": {
      "model_module": "@jupyter-widgets/base",
      "model_module_version": "1.1.0",
      "model_name": "LayoutModel",
      "state": {
       "grid_template_areas": "\"top-left bottom-right\"\n\"bottom-left bottom-right\"",
       "grid_template_columns": "1fr 1fr",
       "grid_template_rows": "1fr 1fr",
       "width": "auto"
      }
     },
     "e9553b557a004ea49d4580a3fcba1b91": {
      "model_module": "@jupyter-widgets/base",
      "model_module_version": "1.1.0",
      "model_name": "LayoutModel",
      "state": {
       "grid_area": "bottom-right"
      }
     },
     "e974392177774a11a41294f6b264010d": {
      "model_module": "@jupyter-widgets/base",
      "model_module_version": "1.1.0",
      "model_name": "LayoutModel",
      "state": {
       "grid_template_areas": "\"top-left bottom-right\"\n\"bottom-left bottom-right\"",
       "grid_template_columns": "1fr 1fr",
       "grid_template_rows": "1fr 1fr",
       "width": "auto"
      }
     },
     "e98a7967346b445fa8017741f6e271d4": {
      "model_module": "@jupyter-widgets/base",
      "model_module_version": "1.1.0",
      "model_name": "LayoutModel",
      "state": {
       "grid_area": "top-left",
       "height": "20px",
       "width": "300px"
      }
     },
     "e9ac1debf2a84880a5e6599f4d1ba61a": {
      "model_module": "@jupyter-widgets/controls",
      "model_module_version": "1.4.0",
      "model_name": "ButtonStyleModel",
      "state": {}
     },
     "e9c19299a0e842a7b70796a96dbd1789": {
      "model_module": "@jupyter-widgets/controls",
      "model_module_version": "1.4.0",
      "model_name": "ButtonStyleModel",
      "state": {}
     },
     "e9ca3043841c4047857b642c8632b5cc": {
      "model_module": "@jupyter-widgets/controls",
      "model_module_version": "1.4.0",
      "model_name": "ButtonStyleModel",
      "state": {}
     },
     "e9d210ebe8fc4686aa1abf46c667de50": {
      "model_module": "@jupyter-widgets/controls",
      "model_module_version": "1.4.0",
      "model_name": "GridBoxModel",
      "state": {
       "children": [
        "IPY_MODEL_2e4e6da264be44cb9807a2314f19a370",
        "IPY_MODEL_c10c610425ce4b51b909de1b6f4d8f43",
        "IPY_MODEL_6f6a308a3f174607a1d526d012cb11a6"
       ],
       "layout": "IPY_MODEL_f5c500c22243477b8a0155d3f59e20d7"
      }
     },
     "e9d82ea847254d4e965252bcc5dcc38f": {
      "model_module": "@jupyter-widgets/controls",
      "model_module_version": "1.4.0",
      "model_name": "ButtonModel",
      "state": {
       "description": "Bottom right",
       "layout": "IPY_MODEL_2d1b12611588429fbc5c69cb2a5806d9",
       "style": "IPY_MODEL_70f72ba874704d11b1f6aa6417b44143"
      }
     },
     "e9e84db8234d48908e1bf62a2c9f3d6c": {
      "model_module": "bqplot",
      "model_module_version": "^0.4.5",
      "model_name": "AxisModel",
      "state": {
       "scale": "IPY_MODEL_c76fd4e25054407599b09d4665f02595",
       "side": "bottom",
       "tick_values": {
        "type": null,
        "values": null
       }
      }
     },
     "e9f3a77a346742e1b8ff9778eaafdc93": {
      "model_module": "@jupyter-widgets/controls",
      "model_module_version": "1.4.0",
      "model_name": "ButtonStyleModel",
      "state": {}
     },
     "ea0b38a57fb74f178e1deccdb684f33d": {
      "model_module": "@jupyter-widgets/base",
      "model_module_version": "1.1.0",
      "model_name": "LayoutModel",
      "state": {
       "grid_area": "bottom-right"
      }
     },
     "ea39fe6e6db741a998abb60af9a4af49": {
      "model_module": "@jupyter-widgets/controls",
      "model_module_version": "1.4.0",
      "model_name": "ButtonModel",
      "state": {
       "description": "Bottom right",
       "layout": "IPY_MODEL_4986cab9ff5b47d880994b8240008887",
       "style": "IPY_MODEL_5f353e6bce014561ab3c1e8a45a8d462"
      }
     },
     "ea4b02df27fd48a8a51cbb7b4b091f82": {
      "model_module": "@jupyter-widgets/base",
      "model_module_version": "1.1.0",
      "model_name": "LayoutModel",
      "state": {
       "align_items": "center",
       "grid_template_areas": "\"top-left bottom-right\"\n\"bottom-left bottom-right\"",
       "grid_template_columns": "1fr 1fr",
       "grid_template_rows": "1fr 1fr",
       "height": "500px",
       "width": "80%"
      }
     },
     "ea4c93b3f31c4ffda776c07f33074cf5": {
      "model_module": "@jupyter-widgets/controls",
      "model_module_version": "1.4.0",
      "model_name": "GridBoxModel",
      "state": {
       "children": [
        "IPY_MODEL_7a80f860c34945baba424cf90c44d80e",
        "IPY_MODEL_5a2d2167b11c4c0d9b7daba1754e0747",
        "IPY_MODEL_ee492dc3c189417a816d758763873c9a"
       ],
       "layout": "IPY_MODEL_c3596f5b18c5466c88a4a7843aeab8a1"
      }
     },
     "ea58784fa2184d3b9ff442b81c5dc9b5": {
      "model_module": "@jupyter-widgets/controls",
      "model_module_version": "1.4.0",
      "model_name": "ButtonModel",
      "state": {
       "description": "Top left",
       "layout": "IPY_MODEL_0e292926fd3240adbad1c76ae9c6b091",
       "style": "IPY_MODEL_2fd36c6a266a4ba3bd71d9be06f1e71d"
      }
     },
     "ea5c06826b184a7e98f7219d95d9f6cb": {
      "model_module": "@jupyter-widgets/controls",
      "model_module_version": "1.4.0",
      "model_name": "ButtonModel",
      "state": {
       "description": "Top left",
       "layout": "IPY_MODEL_0381845468174749ab7a8e35a6440691",
       "style": "IPY_MODEL_d91f912ce2fb44cc803ec9489adde1ca"
      }
     },
     "ea601b291d504cf8b552633bc02cbd71": {
      "model_module": "@jupyter-widgets/base",
      "model_module_version": "1.1.0",
      "model_name": "LayoutModel",
      "state": {
       "align_items": "center",
       "grid_template_areas": "\"top-left bottom-right\"\n\"bottom-left bottom-right\"",
       "grid_template_columns": "1fr 1fr",
       "grid_template_rows": "1fr 1fr",
       "height": "300px",
       "width": "80%"
      }
     },
     "ea6f3522521e41fdbee92bc410505f3b": {
      "model_module": "bqplot",
      "model_module_version": "^0.4.5",
      "model_name": "LinearScaleModel",
      "state": {
       "allow_padding": false,
       "max": 1,
       "min": 0,
       "stabilized": false
      }
     },
     "ea7054526ea14ad0b5c967ac4d4c0726": {
      "model_module": "@jupyter-widgets/controls",
      "model_module_version": "1.4.0",
      "model_name": "ButtonStyleModel",
      "state": {}
     },
     "ea88797f07214cc99c22d04d90e6c3f7": {
      "model_module": "@jupyter-widgets/controls",
      "model_module_version": "1.4.0",
      "model_name": "GridBoxModel",
      "state": {
       "children": [
        "IPY_MODEL_9af6fe0d0a8d466c95a738f56c1d04ff",
        "IPY_MODEL_f2eea9c52129474da77a8b20f6a3e514",
        "IPY_MODEL_a3a9d1b05a8949679e5c926a6e4e6ce8",
        "IPY_MODEL_e70cfbeed91c49f0af67780917292fb0"
       ],
       "layout": "IPY_MODEL_7df957271e7d4c44a3e41a7403bc4581"
      }
     },
     "ea8e2c9b06c54856adcdaec8a7b0abd1": {
      "model_module": "@jupyter-widgets/base",
      "model_module_version": "1.1.0",
      "model_name": "LayoutModel",
      "state": {
       "grid_template_areas": "\"top-left bottom-right\"\n\"bottom-left bottom-right\"",
       "grid_template_columns": "1fr 1fr",
       "grid_template_rows": "1fr 1fr",
       "width": "auto"
      }
     },
     "ea97c3c33a184370a86b99342bdd7d5f": {
      "model_module": "@jupyter-widgets/controls",
      "model_module_version": "1.4.0",
      "model_name": "ButtonStyleModel",
      "state": {}
     },
     "eab3be38042d463695d5247f7f9aae84": {
      "model_module": "@jupyter-widgets/controls",
      "model_module_version": "1.4.0",
      "model_name": "IntSliderModel",
      "state": {
       "layout": "IPY_MODEL_f48b6d8c90ff4583bfb5db4e52891fe0",
       "style": "IPY_MODEL_9eaa2451dcfb4ef4bc32a8bcd0a1684e",
       "value": 30
      }
     },
     "eac3ac760c8f4a1a8e40463a4b8b1681": {
      "model_module": "@jupyter-widgets/controls",
      "model_module_version": "1.4.0",
      "model_name": "FloatSliderModel",
      "state": {
       "layout": "IPY_MODEL_f8d6dc8a8c664de0977a183b4bbb3928",
       "max": 1,
       "step": 0.1,
       "style": "IPY_MODEL_b6c4c5cfa9364e8aad316bbd27f2e8bf",
       "value": 1.45
      }
     },
     "eaedb4de3bc74a8ca0bc7e0604c7b8b8": {
      "model_module": "@jupyter-widgets/base",
      "model_module_version": "1.1.0",
      "model_name": "LayoutModel",
      "state": {
       "grid_template_areas": "\"top-left top-right\"\n\"bottom-left bottom-right\"",
       "grid_template_columns": "1fr 1fr",
       "grid_template_rows": "1fr 1fr",
       "width": "auto"
      }
     },
     "eb2eaddba6594bdf8b760efaf58149a1": {
      "model_module": "@jupyter-widgets/base",
      "model_module_version": "1.1.0",
      "model_name": "LayoutModel",
      "state": {
       "grid_template_areas": "\"top-left bottom-right\"\n\"bottom-left bottom-right\"",
       "grid_template_columns": "1fr 1fr",
       "grid_template_rows": "1fr 1fr"
      }
     },
     "eb340c161a8647f7b631ace9f3ef92ae": {
      "model_module": "@jupyter-widgets/base",
      "model_module_version": "1.1.0",
      "model_name": "LayoutModel",
      "state": {
       "grid_area": "top-left"
      }
     },
     "eb3bd620c9104f4194344fc405b0c9f9": {
      "model_module": "@jupyter-widgets/controls",
      "model_module_version": "1.4.0",
      "model_name": "FloatSliderModel",
      "state": {
       "description": "Max: ",
       "layout": "IPY_MODEL_06df8b310c6541918964e53c19863ece",
       "max": 10,
       "min": 1,
       "step": 0.1,
       "style": "IPY_MODEL_f972bca3c28140d591812fd7fc483d07",
       "value": 10
      }
     },
     "eb3e1add310540ea87ca626648b67213": {
      "model_module": "@jupyter-widgets/base",
      "model_module_version": "1.1.0",
      "model_name": "LayoutModel",
      "state": {
       "grid_area": "top-right"
      }
     },
     "eb4b68111081458e8cbb2c97a5ec2999": {
      "model_module": "@jupyter-widgets/controls",
      "model_module_version": "1.4.0",
      "model_name": "DescriptionStyleModel",
      "state": {
       "description_width": ""
      }
     },
     "eba00d14d7b34fd2ab6705970ce5a483": {
      "model_module": "@jupyter-widgets/base",
      "model_module_version": "1.1.0",
      "model_name": "LayoutModel",
      "state": {
       "grid_area": "top-left"
      }
     },
     "ebb147aeea6d4453aacf9e22351c15dc": {
      "model_module": "bqplot",
      "model_module_version": "^0.4.5",
      "model_name": "LinearScaleModel",
      "state": {
       "max": 1,
       "stabilized": false
      }
     },
     "ebc60af42be448c9ac37900ed72098b0": {
      "model_module": "@jupyter-widgets/controls",
      "model_module_version": "1.4.0",
      "model_name": "GridBoxModel",
      "state": {
       "children": [
        "IPY_MODEL_42b5beda39684ca29e4ec78087600aeb",
        "IPY_MODEL_dfb369af7539448ba5d145fa44e9755d",
        "IPY_MODEL_86f91f3545b94085b5ab8dbb0c5bd4d7",
        "IPY_MODEL_fcd4dbd65e1d4bd7adce0435f209019d"
       ],
       "layout": "IPY_MODEL_6ee1049a3a8e4748bb4d4f9063d33b2d"
      }
     },
     "ec02c01a056342908da0b569a776df34": {
      "model_module": "@jupyter-widgets/base",
      "model_module_version": "1.1.0",
      "model_name": "LayoutModel",
      "state": {
       "grid_area": "top-left"
      }
     },
     "ec0abe531fb5491ab8df93e27db9f1f3": {
      "model_module": "@jupyter-widgets/base",
      "model_module_version": "1.1.0",
      "model_name": "LayoutModel",
      "state": {
       "grid_area": "top-left"
      }
     },
     "ec2026d0e7a84578b78d5b2249f800e5": {
      "model_module": "@jupyter-widgets/controls",
      "model_module_version": "1.4.0",
      "model_name": "FloatSliderModel",
      "state": {
       "layout": "IPY_MODEL_838c3678fd0a4e888d492690f07a46ea",
       "max": 1,
       "step": 0.1,
       "style": "IPY_MODEL_30cb6f8186f84523a903ae16836bb181",
       "value": null
      }
     },
     "ec33f639bf764983a79ac45e0a14df90": {
      "model_module": "@jupyter-widgets/controls",
      "model_module_version": "1.4.0",
      "model_name": "LinkModel",
      "state": {
       "source": [
        "IPY_MODEL_41a9452a487e40e987863d4e8c131fd6",
        "max"
       ],
       "target": [
        "IPY_MODEL_eb3bd620c9104f4194344fc405b0c9f9",
        "value"
       ]
      }
     },
     "ec46d2d881754dd785272aaef63e51ae": {
      "model_module": "@jupyter-widgets/base",
      "model_module_version": "1.1.0",
      "model_name": "LayoutModel",
      "state": {
       "grid_template_areas": "\"top-left top-right\"\n\"bottom-left bottom-right\"",
       "grid_template_columns": "1fr 1fr",
       "grid_template_rows": "1fr 1fr",
       "width": "auto"
      }
     },
     "ec81786ed530476c8efa6ec11a14659d": {
      "model_module": "@jupyter-widgets/base",
      "model_module_version": "1.1.0",
      "model_name": "LayoutModel",
      "state": {
       "grid_area": "bottom-left"
      }
     },
     "ecbcd4e88de34492aaca6377de118a99": {
      "model_module": "@jupyter-widgets/base",
      "model_module_version": "1.1.0",
      "model_name": "LayoutModel",
      "state": {
       "grid_template_areas": "\"top-left top-right\"\n\"bottom-left bottom-right\"",
       "grid_template_columns": "1fr 1fr",
       "grid_template_rows": "1fr 1fr",
       "width": "auto"
      }
     },
     "ecc493c55c5c4da19501e13f95b6ec12": {
      "model_module": "@jupyter-widgets/base",
      "model_module_version": "1.1.0",
      "model_name": "LayoutModel",
      "state": {
       "grid_template_areas": "\"top-left top-right\"\n\"bottom-left bottom-right\"",
       "grid_template_columns": "1fr 1fr",
       "grid_template_rows": "1fr 1fr",
       "width": "auto"
      }
     },
     "ece6940fe66d44f19b6ea18e1ebaaeaf": {
      "model_module": "@jupyter-widgets/base",
      "model_module_version": "1.1.0",
      "model_name": "LayoutModel",
      "state": {
       "grid_area": "top-left",
       "width": "200px"
      }
     },
     "ed2f9950ac9b4fdfa500f82f6b26cb83": {
      "model_module": "@jupyter-widgets/controls",
      "model_module_version": "1.4.0",
      "model_name": "LinkModel",
      "state": {
       "source": [
        "IPY_MODEL_820f40885b1d4781a4e4abd39ead9b69",
        "max"
       ],
       "target": [
        "IPY_MODEL_0a2469c0888d4185bf874899605149a4",
        "value"
       ]
      }
     },
     "ed78cad39fa6448eae646287c180b338": {
      "model_module": "@jupyter-widgets/base",
      "model_module_version": "1.1.0",
      "model_name": "LayoutModel",
      "state": {
       "grid_area": "bottom-left"
      }
     },
     "ed8753d10c4843f59acb7b30edc3861a": {
      "model_module": "@jupyter-widgets/base",
      "model_module_version": "1.1.0",
      "model_name": "LayoutModel",
      "state": {
       "grid_area": "bottom-right",
       "height": "400px",
       "width": "auto"
      }
     },
     "ed9c3d2071244d2a8c807cdc2b1be4a1": {
      "model_module": "@jupyter-widgets/base",
      "model_module_version": "1.1.0",
      "model_name": "LayoutModel",
      "state": {
       "grid_area": "bottom-right"
      }
     },
     "ed9d40c5b86d4abfb199d74fd9d78b31": {
      "model_module": "@jupyter-widgets/controls",
      "model_module_version": "1.4.0",
      "model_name": "LinkModel",
      "state": {
       "source": [
        "IPY_MODEL_13099dd62dc64cc29a8c6babd77385c0",
        "max"
       ],
       "target": [
        "IPY_MODEL_177d2db707f54fb98b71c2b6c542ad69",
        "value"
       ]
      }
     },
     "ee0ea881f6854e0f9147f7bdeef871a7": {
      "model_module": "@jupyter-widgets/controls",
      "model_module_version": "1.4.0",
      "model_name": "LinkModel",
      "state": {
       "source": [
        "IPY_MODEL_89425658b7c84114b02ea3b508a71b5e",
        "min"
       ],
       "target": [
        "IPY_MODEL_bea03538a7c8474e82273918f3abe2a7",
        "value"
       ]
      }
     },
     "ee180c6c85f1407e8539a4da1d43fa80": {
      "model_module": "@jupyter-widgets/base",
      "model_module_version": "1.1.0",
      "model_name": "LayoutModel",
      "state": {
       "grid_area": "top-left"
      }
     },
     "ee492dc3c189417a816d758763873c9a": {
      "model_module": "@jupyter-widgets/controls",
      "model_module_version": "1.4.0",
      "model_name": "FloatSliderModel",
      "state": {
       "layout": "IPY_MODEL_6737f46a3b214be895080c6cc701516f",
       "max": 10,
       "min": 0.05,
       "step": 0.1,
       "style": "IPY_MODEL_0a40ed34e7024e008357ee5290c0264e",
       "value": 3.35
      }
     },
     "eebb6621f6e340faa7a597007bee5f85": {
      "model_module": "@jupyter-widgets/base",
      "model_module_version": "1.1.0",
      "model_name": "LayoutModel",
      "state": {
       "grid_area": "top-right"
      }
     },
     "eedd09113e7a4828a816e06f6776b941": {
      "model_module": "@jupyter-widgets/controls",
      "model_module_version": "1.4.0",
      "model_name": "LinkModel",
      "state": {
       "source": [
        "IPY_MODEL_6e75f3c250b74904a7b2761e466af520",
        "max"
       ],
       "target": [
        "IPY_MODEL_e576d06d73f440d3abe54e5c64b53136",
        "value"
       ]
      }
     },
     "eef0aac6304742d299ebdba7a4d6a1cf": {
      "model_module": "@jupyter-widgets/controls",
      "model_module_version": "1.4.0",
      "model_name": "LinkModel",
      "state": {
       "source": [
        "IPY_MODEL_0798b94265434067a7e6eb23279bc523",
        "max"
       ],
       "target": [
        "IPY_MODEL_6331cf5eae71443faca45fc927577321",
        "value"
       ]
      }
     },
     "ef49dcd4d7a84662946455a366ad37c3": {
      "model_module": "@jupyter-widgets/base",
      "model_module_version": "1.1.0",
      "model_name": "LayoutModel",
      "state": {
       "grid_area": "bottom-right",
       "width": "auto"
      }
     },
     "ef511131c18a4facb36047bbeb4f9aeb": {
      "model_module": "@jupyter-widgets/base",
      "model_module_version": "1.1.0",
      "model_name": "LayoutModel",
      "state": {
       "grid_template_areas": "\"top-left bottom-right\"\n\"bottom-left bottom-right\"",
       "grid_template_columns": "1fr 1fr",
       "grid_template_rows": "1fr 1fr",
       "width": "auto"
      }
     },
     "ef57ed860d184726a4859bef31e7f200": {
      "model_module": "@jupyter-widgets/controls",
      "model_module_version": "1.4.0",
      "model_name": "ButtonStyleModel",
      "state": {}
     },
     "ef99f0eff87d423ca370746484fbb008": {
      "model_module": "@jupyter-widgets/controls",
      "model_module_version": "1.4.0",
      "model_name": "ButtonModel",
      "state": {
       "description": "Top left",
       "layout": "IPY_MODEL_1cd1d96c56ba45c6b8fcdd302f614b92",
       "style": "IPY_MODEL_e4f408df0c264401b76501daa1e6f328"
      }
     },
     "efa43acf872646b5ad7bcd23f52f8057": {
      "model_module": "@jupyter-widgets/controls",
      "model_module_version": "1.4.0",
      "model_name": "LinkModel",
      "state": {
       "source": [
        "IPY_MODEL_44c34e01f68b416fb123198deb3aa9d0",
        "max"
       ],
       "target": [
        "IPY_MODEL_531a7811d33d43b79a86085d9f45c4c3",
        "value"
       ]
      }
     },
     "f01750372da04962936b1a9b49d0ead9": {
      "model_module": "@jupyter-widgets/base",
      "model_module_version": "1.1.0",
      "model_name": "LayoutModel",
      "state": {
       "grid_template_areas": "\"top-left bottom-right\"\n\"bottom-left bottom-right\"",
       "grid_template_columns": "1fr 1fr",
       "grid_template_rows": "1fr 1fr",
       "width": "auto"
      }
     },
     "f019bee80e534da1b50055f5ea1c9c61": {
      "model_module": "@jupyter-widgets/controls",
      "model_module_version": "1.4.0",
      "model_name": "DescriptionStyleModel",
      "state": {
       "description_width": ""
      }
     },
     "f062df05526f43c787a3344d923315a2": {
      "model_module": "@jupyter-widgets/base",
      "model_module_version": "1.1.0",
      "model_name": "LayoutModel",
      "state": {
       "grid_area": "top-right"
      }
     },
     "f0807b18a3614f369b5d058da09f9f07": {
      "model_module": "@jupyter-widgets/controls",
      "model_module_version": "1.4.0",
      "model_name": "ButtonModel",
      "state": {
       "description": "Bottom right",
       "layout": "IPY_MODEL_91893b1151c64559b7a5e6990fe8900e",
       "style": "IPY_MODEL_0b0573aa28fa4a758023046a29f1204c"
      }
     },
     "f0a8dbd576aa4881bec919c849a08144": {
      "model_module": "@jupyter-widgets/base",
      "model_module_version": "1.1.0",
      "model_name": "LayoutModel",
      "state": {
       "grid_area": "bottom-left"
      }
     },
     "f0cc859a6b054397b00d8d4df2e47993": {
      "model_module": "@jupyter-widgets/base",
      "model_module_version": "1.1.0",
      "model_name": "LayoutModel",
      "state": {
       "grid_template_areas": "\"top-left bottom-right\"\n\"bottom-left bottom-right\"",
       "grid_template_columns": "1fr 1fr",
       "grid_template_rows": "1fr 1fr",
       "width": "auto"
      }
     },
     "f0d7eab97a1e412081c57207abfa66bc": {
      "model_module": "@jupyter-widgets/base",
      "model_module_version": "1.1.0",
      "model_name": "LayoutModel",
      "state": {
       "grid_area": "bottom-right",
       "height": "100%"
      }
     },
     "f12073330c904e23b9a84473f8010eea": {
      "model_module": "@jupyter-widgets/base",
      "model_module_version": "1.1.0",
      "model_name": "LayoutModel",
      "state": {
       "grid_area": "top-left"
      }
     },
     "f12987418f1a4870a6a193b0ac11209c": {
      "model_module": "@jupyter-widgets/controls",
      "model_module_version": "1.4.0",
      "model_name": "SliderStyleModel",
      "state": {
       "description_width": ""
      }
     },
     "f1352ca02489488186a816a687f9581b": {
      "model_module": "@jupyter-widgets/controls",
      "model_module_version": "1.4.0",
      "model_name": "ButtonStyleModel",
      "state": {}
     },
     "f13e41b8b78649b5b2a161fe388e1f06": {
      "model_module": "@jupyter-widgets/controls",
      "model_module_version": "1.4.0",
      "model_name": "IntSliderModel",
      "state": {
       "layout": "IPY_MODEL_4b493ce6cd994daa8a20fa1c59854396",
       "style": "IPY_MODEL_ad4d570d9d434dc28de7632f2673cac9",
       "value": 30
      }
     },
     "f1442a7b2d2e4614b4d6016a755119a2": {
      "model_module": "@jupyter-widgets/base",
      "model_module_version": "1.1.0",
      "model_name": "LayoutModel",
      "state": {
       "grid_area": "top-right"
      }
     },
     "f159b4d7f9c0447f87008a3963b037ae": {
      "model_module": "bqplot",
      "model_module_version": "^0.4.5",
      "model_name": "LinearScaleModel",
      "state": {
       "allow_padding": false,
       "max": 1,
       "min": 0,
       "stabilized": false
      }
     },
     "f15e208098184f779c4f21fd99b98ceb": {
      "model_module": "@jupyter-widgets/base",
      "model_module_version": "1.1.0",
      "model_name": "LayoutModel",
      "state": {
       "grid_area": "top-left"
      }
     },
     "f16f6dda40a24ef8bbd9e3c319790804": {
      "model_module": "@jupyter-widgets/base",
      "model_module_version": "1.1.0",
      "model_name": "LayoutModel",
      "state": {
       "grid_template_areas": "\"top-left top-right\"\n\"bottom-left bottom-right\"",
       "grid_template_columns": "1fr 1fr",
       "grid_template_rows": "1fr 1fr",
       "width": "auto"
      }
     },
     "f17c2b5bfadf4f609aa5196b60425d75": {
      "model_module": "bqplot",
      "model_module_version": "^0.4.5",
      "model_name": "AxisModel",
      "state": {
       "scale": "IPY_MODEL_64b974ad42ef4ae7a0e5dc1e7eed28df",
       "side": "bottom",
       "tick_values": {
        "type": null,
        "values": null
       }
      }
     },
     "f17f7842524d4ca5b2af7e68f0d32df1": {
      "model_module": "@jupyter-widgets/base",
      "model_module_version": "1.1.0",
      "model_name": "LayoutModel",
      "state": {
       "grid_area": "top-left"
      }
     },
     "f186e15db48245ff84352dc25bf92c0c": {
      "model_module": "@jupyter-widgets/base",
      "model_module_version": "1.1.0",
      "model_name": "LayoutModel",
      "state": {
       "grid_template_areas": "\"top-left top-right\"\n\"bottom-left bottom-right\"",
       "grid_template_columns": "1fr 1fr",
       "grid_template_rows": "1fr 1fr",
       "width": "auto"
      }
     },
     "f1a66d4fc0f8433db005a636b7429b86": {
      "model_module": "@jupyter-widgets/controls",
      "model_module_version": "1.4.0",
      "model_name": "ButtonStyleModel",
      "state": {}
     },
     "f1d7554c758d4554a4cbff88a7715229": {
      "model_module": "@jupyter-widgets/controls",
      "model_module_version": "1.4.0",
      "model_name": "ButtonStyleModel",
      "state": {}
     },
     "f1fb61d3524d46b5bfd788a3e5d5f7a2": {
      "model_module": "@jupyter-widgets/controls",
      "model_module_version": "1.4.0",
      "model_name": "ButtonModel",
      "state": {
       "description": "Bottom left",
       "layout": "IPY_MODEL_6659a987237c438aadc1df239276b222",
       "style": "IPY_MODEL_45c1f3e79d7a4d4b9521aaddee8e8f76"
      }
     },
     "f214a1f571554da5ab2ff8a1bfe5dcad": {
      "model_module": "@jupyter-widgets/controls",
      "model_module_version": "1.4.0",
      "model_name": "LinkModel",
      "state": {
       "source": [
        "IPY_MODEL_bdf70c69466149e4b081f23c8abc6338",
        "max"
       ],
       "target": [
        "IPY_MODEL_5d08850f0d6b46ffbf99c639ed7804ad",
        "value"
       ]
      }
     },
     "f22d05d1646c4e5c8d6f40cec64515a5": {
      "model_module": "@jupyter-widgets/controls",
      "model_module_version": "1.4.0",
      "model_name": "GridBoxModel",
      "state": {
       "children": [
        "IPY_MODEL_6816fe8d00424943977d1db415800679",
        "IPY_MODEL_1595c01ddaed4092ba33f554fa191f8a",
        "IPY_MODEL_101dbcb0faab4e268cbe36fb4f0b1d54"
       ],
       "layout": "IPY_MODEL_4538eba05d9a4db583e9f2ac0dc95aa4"
      }
     },
     "f235e4987f734bd49661fffca8f1c684": {
      "model_module": "@jupyter-widgets/controls",
      "model_module_version": "1.4.0",
      "model_name": "IntTextModel",
      "state": {
       "layout": "IPY_MODEL_85613532e7d14e218569fdb7ff4a2256",
       "step": 1,
       "style": "IPY_MODEL_dedd3ab80d914b3db6b9795dda7268e6",
       "value": 30
      }
     },
     "f23ccd324a67417995912572a9e060b4": {
      "model_module": "@jupyter-widgets/controls",
      "model_module_version": "1.4.0",
      "model_name": "LinkModel",
      "state": {
       "source": [
        "IPY_MODEL_3b00a3565e424c739b790e139db33d08",
        "value"
       ],
       "target": [
        "IPY_MODEL_7dbb69a87d66475f8c06df987d8d222b",
        "value"
       ]
      }
     },
     "f29fd27e4ac24ceba458dbf9942a0eb4": {
      "model_module": "@jupyter-widgets/controls",
      "model_module_version": "1.4.0",
      "model_name": "GridBoxModel",
      "state": {
       "children": [
        "IPY_MODEL_8d4c296dbbfc493faf2736f6f46dbbdf",
        "IPY_MODEL_f9e39595cf2b440d8420673ede1a3db1",
        "IPY_MODEL_b148a114aa254f80b65be00437d2a68c"
       ],
       "layout": "IPY_MODEL_b169d72c805749ff93ff0423313e5fa3"
      }
     },
     "f2bd9257c0a449c9ab73b92582aff156": {
      "model_module": "@jupyter-widgets/controls",
      "model_module_version": "1.4.0",
      "model_name": "GridBoxModel",
      "state": {
       "children": [
        "IPY_MODEL_8a7c520cea61414b85c18aef4b77f47e",
        "IPY_MODEL_2caffab1ea1a4b56bb2a83afd2265f52",
        "IPY_MODEL_2a4e7415eb234ae08617599a511cadb1",
        "IPY_MODEL_49c7a3a37377466691f4b4d994dc5c8f"
       ],
       "layout": "IPY_MODEL_09f45ac2108d46668ab751b3332fff69"
      }
     },
     "f2ce0ac101214a27bd993480b11ccb1c": {
      "model_module": "@jupyter-widgets/base",
      "model_module_version": "1.1.0",
      "model_name": "LayoutModel",
      "state": {
       "grid_area": "bottom-right"
      }
     },
     "f2eea9c52129474da77a8b20f6a3e514": {
      "model_module": "@jupyter-widgets/controls",
      "model_module_version": "1.4.0",
      "model_name": "ButtonModel",
      "state": {
       "description": "Top right",
       "layout": "IPY_MODEL_2efc4bb799cf4eb89ee5b00ca51c1f8c",
       "style": "IPY_MODEL_cfd560d571b04c87936d7a08f7deb5b0"
      }
     },
     "f3345b4321904554a7b4f1881210721b": {
      "model_module": "@jupyter-widgets/base",
      "model_module_version": "1.1.0",
      "model_name": "LayoutModel",
      "state": {
       "grid_template_areas": "\"top-left bottom-right\"\n\"bottom-left bottom-right\"",
       "grid_template_columns": "1fr 1fr",
       "grid_template_rows": "1fr 1fr",
       "width": "auto"
      }
     },
     "f339310e5ce04527860f1ce65219b329": {
      "model_module": "@jupyter-widgets/controls",
      "model_module_version": "1.4.0",
      "model_name": "FloatSliderModel",
      "state": {
       "layout": "IPY_MODEL_034ea6dc83214906b9e9b3bea11ec053",
       "max": 10,
       "min": 1,
       "step": 0.1,
       "style": "IPY_MODEL_675912a355bd49dda50513bd94727f36",
       "value": 1
      }
     },
     "f340151fb24343089ee095211b024adc": {
      "model_module": "@jupyter-widgets/controls",
      "model_module_version": "1.4.0",
      "model_name": "ButtonStyleModel",
      "state": {}
     },
     "f363dfd27bc343478f4328683c2f36cc": {
      "model_module": "bqplot",
      "model_module_version": "^0.4.5",
      "model_name": "LinearScaleModel",
      "state": {
       "allow_padding": false,
       "max": 1,
       "min": 0,
       "stabilized": false
      }
     },
     "f3733c8784cf4ae48eecfea6d2c7a695": {
      "model_module": "@jupyter-widgets/base",
      "model_module_version": "1.1.0",
      "model_name": "LayoutModel",
      "state": {
       "grid_template_areas": "\"top-left bottom-right\"\n\"bottom-left bottom-right\"",
       "grid_template_columns": "1fr 1fr",
       "grid_template_rows": "1fr 1fr",
       "width": "auto"
      }
     },
     "f37f50f2908244559c9e628cdb3c91ce": {
      "model_module": "@jupyter-widgets/controls",
      "model_module_version": "1.4.0",
      "model_name": "SliderStyleModel",
      "state": {
       "description_width": ""
      }
     },
     "f38c0db54b12434aa0f3a0425839d865": {
      "model_module": "@jupyter-widgets/base",
      "model_module_version": "1.1.0",
      "model_name": "LayoutModel",
      "state": {}
     },
     "f3ad600d846f40b4a31d812eb1c7d36e": {
      "model_module": "@jupyter-widgets/base",
      "model_module_version": "1.1.0",
      "model_name": "LayoutModel",
      "state": {
       "grid_area": "top-right"
      }
     },
     "f3d583d85aac4b5cadbfd4e46978c3da": {
      "model_module": "bqplot",
      "model_module_version": "^0.4.5",
      "model_name": "AxisModel",
      "state": {
       "orientation": "vertical",
       "scale": "IPY_MODEL_f3dd77a40aa546008e8281518c98989d",
       "side": "left",
       "tick_format": "0.2f",
       "tick_values": {
        "type": null,
        "values": null
       }
      }
     },
     "f3dd77a40aa546008e8281518c98989d": {
      "model_module": "bqplot",
      "model_module_version": "^0.4.5",
      "model_name": "LinearScaleModel",
      "state": {
       "max": 1,
       "stabilized": false
      }
     },
     "f3e8a327fc7c43c2a253b4c4b46055ff": {
      "model_module": "@jupyter-widgets/base",
      "model_module_version": "1.1.0",
      "model_name": "LayoutModel",
      "state": {
       "align_items": "center"
      }
     },
     "f3feadedec5c4e85a6a99aa5709be30e": {
      "model_module": "@jupyter-widgets/controls",
      "model_module_version": "1.4.0",
      "model_name": "ButtonStyleModel",
      "state": {}
     },
     "f42b3a1c28d548a8b0a53303e32e960e": {
      "model_module": "@jupyter-widgets/base",
      "model_module_version": "1.1.0",
      "model_name": "LayoutModel",
      "state": {
       "grid_area": "top-left",
       "width": "200px"
      }
     },
     "f42d8ccd30c64e19b7a401e849168356": {
      "model_module": "@jupyter-widgets/base",
      "model_module_version": "1.1.0",
      "model_name": "LayoutModel",
      "state": {
       "grid_area": "bottom-left"
      }
     },
     "f46885f169ee4a0bb41038f5539b78cf": {
      "model_module": "@jupyter-widgets/controls",
      "model_module_version": "1.4.0",
      "model_name": "ButtonStyleModel",
      "state": {}
     },
     "f47aeae476644b82b33cc010a8d15bc9": {
      "model_module": "@jupyter-widgets/controls",
      "model_module_version": "1.4.0",
      "model_name": "GridBoxModel",
      "state": {
       "children": [
        "IPY_MODEL_af58beaca28a4be680847da7584d54ac",
        "IPY_MODEL_7435944f0838464f9c7be602d27302ec",
        "IPY_MODEL_1cd1fb8f65c446458bf7e6a4441f0fab"
       ],
       "layout": "IPY_MODEL_7e6984a9e29349d8a9c8e13006ad0885"
      }
     },
     "f4868b95256f4580ae94449f7b66693a": {
      "model_module": "@jupyter-widgets/controls",
      "model_module_version": "1.4.0",
      "model_name": "LinkModel",
      "state": {
       "source": [
        "IPY_MODEL_eb3bd620c9104f4194344fc405b0c9f9",
        "min"
       ],
       "target": [
        "IPY_MODEL_41a9452a487e40e987863d4e8c131fd6",
        "value"
       ]
      }
     },
     "f48861dbb9424616ba846f44e61e982a": {
      "model_module": "@jupyter-widgets/base",
      "model_module_version": "1.1.0",
      "model_name": "LayoutModel",
      "state": {
       "grid_template_areas": "\"top-left top-right\"\n\"bottom-left bottom-right\"",
       "grid_template_columns": "1fr 1fr",
       "grid_template_rows": "1fr 1fr",
       "width": "auto"
      }
     },
     "f48b6d8c90ff4583bfb5db4e52891fe0": {
      "model_module": "@jupyter-widgets/base",
      "model_module_version": "1.1.0",
      "model_name": "LayoutModel",
      "state": {
       "grid_area": "bottom-right"
      }
     },
     "f49efc91d02442db9cfe9f141ef91ff3": {
      "model_module": "@jupyter-widgets/controls",
      "model_module_version": "1.4.0",
      "model_name": "ButtonModel",
      "state": {
       "description": "Top right",
       "layout": "IPY_MODEL_49147ede49ac44b4b6c7dd779f4bbea3",
       "style": "IPY_MODEL_51232e9393634d35a592ddf2f3689f49"
      }
     },
     "f4a9f78ae6294659b6de35f1d914c7f7": {
      "model_module": "bqplot",
      "model_module_version": "^0.4.5",
      "model_name": "AxisModel",
      "state": {
       "scale": "IPY_MODEL_364b816f964d4926845d4988d73954b5",
       "side": "bottom",
       "tick_values": {
        "type": null,
        "values": null
       }
      }
     },
     "f4b816e74a2544b7bd58e6612f9db606": {
      "model_module": "@jupyter-widgets/base",
      "model_module_version": "1.1.0",
      "model_name": "LayoutModel",
      "state": {
       "align_items": "center"
      }
     },
     "f4bf9dd20c81442fb09184f2b87b55ab": {
      "model_module": "@jupyter-widgets/base",
      "model_module_version": "1.1.0",
      "model_name": "LayoutModel",
      "state": {
       "grid_area": "bottom-left"
      }
     },
     "f516d274bfbf49ea82bb91839a8769ef": {
      "model_module": "@jupyter-widgets/base",
      "model_module_version": "1.1.0",
      "model_name": "LayoutModel",
      "state": {
       "grid_area": "bottom-right",
       "height": "100%"
      }
     },
     "f5c500c22243477b8a0155d3f59e20d7": {
      "model_module": "@jupyter-widgets/base",
      "model_module_version": "1.1.0",
      "model_name": "LayoutModel",
      "state": {
       "align_items": "center",
       "grid_template_areas": "\"top-left bottom-right\"\n\"bottom-left bottom-right\"",
       "grid_template_columns": "1fr 1fr",
       "grid_template_rows": "1fr 1fr",
       "height": "200px",
       "width": "80%"
      }
     },
     "f5de289f9fe240f8b2313806ad1b1bea": {
      "model_module": "@jupyter-widgets/controls",
      "model_module_version": "1.4.0",
      "model_name": "IntSliderModel",
      "state": {
       "layout": "IPY_MODEL_80ab19ece823494ea91c735882ead784",
       "style": "IPY_MODEL_a1329e01442c4afc83075e9c1480feb2",
       "value": 0.2
      }
     },
     "f61527cb6c5145af8705ed536f4f61b2": {
      "model_module": "@jupyter-widgets/base",
      "model_module_version": "1.1.0",
      "model_name": "LayoutModel",
      "state": {
       "grid_area": "bottom-right"
      }
     },
     "f63ccab024b140168863e8fa662bb1df": {
      "model_module": "@jupyter-widgets/base",
      "model_module_version": "1.1.0",
      "model_name": "LayoutModel",
      "state": {}
     },
     "f6580c2a50dc4e17b962520acaa78556": {
      "model_module": "@jupyter-widgets/controls",
      "model_module_version": "1.4.0",
      "model_name": "ButtonStyleModel",
      "state": {}
     },
     "f67b8232dc4b4da1b0533fdc8a06e343": {
      "model_module": "@jupyter-widgets/controls",
      "model_module_version": "1.4.0",
      "model_name": "FloatSliderModel",
      "state": {
       "layout": "IPY_MODEL_4a5b6cb1f8274096800a23cfa3713007",
       "max": 10,
       "min": 0.05,
       "step": 0.1,
       "style": "IPY_MODEL_66181809428a4ae9be60db1649cd9f7e",
       "value": 3.35
      }
     },
     "f68204c3f9a04c7884476fdaa2960d96": {
      "model_module": "@jupyter-widgets/base",
      "model_module_version": "1.1.0",
      "model_name": "LayoutModel",
      "state": {
       "grid_area": "top-right"
      }
     },
     "f684c8b3ebf74bb6944f6c3352628899": {
      "model_module": "@jupyter-widgets/controls",
      "model_module_version": "1.4.0",
      "model_name": "ButtonStyleModel",
      "state": {}
     },
     "f6acc2e4a5894bf29b2485c2458ec4ef": {
      "model_module": "@jupyter-widgets/controls",
      "model_module_version": "1.4.0",
      "model_name": "LinkModel",
      "state": {
       "source": [
        "IPY_MODEL_8b299d264fd041d79424a380355596f0",
        "max"
       ],
       "target": [
        "IPY_MODEL_b64d803bcc4349328e4d7b65443aed66",
        "value"
       ]
      }
     },
     "f6d7657ab9e94421924b7ec65b47b752": {
      "model_module": "@jupyter-widgets/base",
      "model_module_version": "1.1.0",
      "model_name": "LayoutModel",
      "state": {
       "grid_area": "bottom-right"
      }
     },
     "f6ddf0b600184599809cedb2b1a97392": {
      "model_module": "@jupyter-widgets/base",
      "model_module_version": "1.1.0",
      "model_name": "LayoutModel",
      "state": {
       "grid_template_areas": "\"top-left bottom-right\"\n\"bottom-left bottom-right\"",
       "grid_template_columns": "1fr 1fr",
       "grid_template_rows": "1fr 1fr"
      }
     },
     "f6dfcf71c4e248c7bc88f7c6fddd29d8": {
      "model_module": "@jupyter-widgets/controls",
      "model_module_version": "1.4.0",
      "model_name": "ButtonStyleModel",
      "state": {}
     },
     "f6e63615fff44a8a912ac0df677ef969": {
      "model_module": "@jupyter-widgets/base",
      "model_module_version": "1.1.0",
      "model_name": "LayoutModel",
      "state": {
       "grid_template_areas": "\"top-left bottom-right\"\n\"bottom-left bottom-right\"",
       "grid_template_columns": "1fr 1fr",
       "grid_template_rows": "1fr 1fr",
       "width": "auto"
      }
     },
     "f6eb4f9813454eba99e7b2240858f9d1": {
      "model_module": "bqplot",
      "model_module_version": "^0.4.5",
      "model_name": "AxisModel",
      "state": {
       "orientation": "vertical",
       "scale": "IPY_MODEL_100e72e79bce4f5791fff2635382e69d",
       "side": "left",
       "tick_format": "0.2f",
       "tick_values": {
        "type": null,
        "values": null
       }
      }
     },
     "f6eb9010d1324ce786cd08697310a4b2": {
      "model_module": "@jupyter-widgets/controls",
      "model_module_version": "1.4.0",
      "model_name": "DescriptionStyleModel",
      "state": {
       "description_width": ""
      }
     },
     "f6ff5be32d454f8dbe8b82715374d8da": {
      "model_module": "@jupyter-widgets/base",
      "model_module_version": "1.1.0",
      "model_name": "LayoutModel",
      "state": {}
     },
     "f704c30879e14dddbc51672b01b51c43": {
      "model_module": "@jupyter-widgets/controls",
      "model_module_version": "1.4.0",
      "model_name": "IntTextModel",
      "state": {
       "layout": "IPY_MODEL_4977341df03c4e03a776a8c0ec7badac",
       "step": 1,
       "style": "IPY_MODEL_f019bee80e534da1b50055f5ea1c9c61",
       "value": 25
      }
     },
     "f713656574f24899882ca7c40e19d8b0": {
      "model_module": "@jupyter-widgets/base",
      "model_module_version": "1.1.0",
      "model_name": "LayoutModel",
      "state": {
       "grid_area": "top-left"
      }
     },
     "f72d1f6710584f4faab1fc21a69d18a5": {
      "model_module": "@jupyter-widgets/base",
      "model_module_version": "1.1.0",
      "model_name": "LayoutModel",
      "state": {
       "grid_area": "bottom-right",
       "height": "100%"
      }
     },
     "f78697f93d4e4b3980c75402a52053ca": {
      "model_module": "@jupyter-widgets/base",
      "model_module_version": "1.1.0",
      "model_name": "LayoutModel",
      "state": {
       "grid_template_areas": "\"top-left top-right\"\n\"bottom-left bottom-right\"",
       "grid_template_columns": "1fr 1fr",
       "grid_template_rows": "1fr 1fr",
       "width": "auto"
      }
     },
     "f7b485eebe824beea6aba73b2fee3a5a": {
      "model_module": "@jupyter-widgets/base",
      "model_module_version": "1.1.0",
      "model_name": "LayoutModel",
      "state": {
       "grid_template_areas": "\"top-left bottom-right\"\n\"bottom-left bottom-right\"",
       "grid_template_columns": "1fr 1fr",
       "grid_template_rows": "1fr 1fr",
       "width": "auto"
      }
     },
     "f7bcaa7244194cb4a61d16ad20a9f734": {
      "model_module": "@jupyter-widgets/controls",
      "model_module_version": "1.4.0",
      "model_name": "IntTextModel",
      "state": {
       "layout": "IPY_MODEL_084d179ba68d4aa2ba6594a53ba70720",
       "step": 1,
       "style": "IPY_MODEL_450ca63f6fb543d78911bcf40fd270b2",
       "value": 30
      }
     },
     "f7ff122dcc5443ae8f36cf3387998a2d": {
      "model_module": "@jupyter-widgets/controls",
      "model_module_version": "1.4.0",
      "model_name": "ButtonStyleModel",
      "state": {}
     },
     "f8099754143a4a5a90d580d42dd3b3bd": {
      "model_module": "@jupyter-widgets/controls",
      "model_module_version": "1.4.0",
      "model_name": "ButtonStyleModel",
      "state": {}
     },
     "f81d18c903a04960ade884e2b7729931": {
      "model_module": "@jupyter-widgets/controls",
      "model_module_version": "1.4.0",
      "model_name": "ButtonStyleModel",
      "state": {}
     },
     "f821a146ce0a486797b9689df8f26b0b": {
      "model_module": "@jupyter-widgets/base",
      "model_module_version": "1.1.0",
      "model_name": "LayoutModel",
      "state": {
       "grid_area": "bottom-right"
      }
     },
     "f83526d438ab4a488ab667a950546cc7": {
      "model_module": "@jupyter-widgets/controls",
      "model_module_version": "1.4.0",
      "model_name": "LinkModel",
      "state": {
       "source": [
        "IPY_MODEL_30c5f3aee10d4a37affcb0f481f803a3",
        "max"
       ],
       "target": [
        "IPY_MODEL_d7575c8e774f4177880825a21cf1672c",
        "value"
       ]
      }
     },
     "f84aac56ec46402499ba70dfa1f63d6f": {
      "model_module": "@jupyter-widgets/base",
      "model_module_version": "1.1.0",
      "model_name": "LayoutModel",
      "state": {
       "grid_template_areas": "\"top-left bottom-right\"\n\"bottom-left bottom-right\"",
       "grid_template_columns": "1fr 1fr",
       "grid_template_rows": "1fr 1fr",
       "width": "auto"
      }
     },
     "f868d2478e7c41ae9cbfa52f46451adc": {
      "model_module": "@jupyter-widgets/controls",
      "model_module_version": "1.4.0",
      "model_name": "ButtonStyleModel",
      "state": {}
     },
     "f88b50ac1eab49c3bac3b556ecf18a24": {
      "model_module": "@jupyter-widgets/controls",
      "model_module_version": "1.4.0",
      "model_name": "ButtonStyleModel",
      "state": {}
     },
     "f8a7a45501ef41d18daf7f182ff1959e": {
      "model_module": "@jupyter-widgets/base",
      "model_module_version": "1.1.0",
      "model_name": "LayoutModel",
      "state": {
       "grid_template_areas": "\"top-left bottom-right\"\n\"bottom-left bottom-right\"",
       "grid_template_columns": "1fr 1fr",
       "grid_template_rows": "1fr 1fr",
       "width": "auto"
      }
     },
     "f8d6ae6c915f47f697fe5fc400fe7adb": {
      "model_module": "bqplot",
      "model_module_version": "^0.4.5",
      "model_name": "BarsModel",
      "state": {
       "color": {
        "type": null,
        "values": null
       },
       "colors": [
        "steelblue"
       ],
       "display_legend": false,
       "scales": {
        "x": "IPY_MODEL_d8bdf5026fcf4816b6e610e1c3fe1482",
        "y": "IPY_MODEL_9b0be89660144710a836f7e3a52173c6"
       },
       "selected": [],
       "x": {
        "type": "float",
        "values": [
         0,
         1,
         2,
         3,
         4,
         5,
         6,
         7,
         8,
         9
        ]
       },
       "y": {
        "type": "float",
        "values": [
         0.6288984390617004,
         0.3984342586196771,
         0.0627129520233457,
         0.42403225188984195,
         0.2586840668894077,
         0.8490383084285108,
         0.03330462654669619,
         0.9589827218634736,
         0.3553688484719296,
         0.3567068904025429
        ]
       }
      }
     },
     "f8d6dc8a8c664de0977a183b4bbb3928": {
      "model_module": "@jupyter-widgets/base",
      "model_module_version": "1.1.0",
      "model_name": "LayoutModel",
      "state": {
       "grid_area": "bottom-left"
      }
     },
     "f8ebd75307d44768b511925207347c26": {
      "model_module": "@jupyter-widgets/base",
      "model_module_version": "1.1.0",
      "model_name": "LayoutModel",
      "state": {
       "grid_template_areas": "\"top-left top-right\"\n\"bottom-left bottom-right\"",
       "grid_template_columns": "1fr 1fr",
       "grid_template_rows": "1fr 1fr",
       "width": "auto"
      }
     },
     "f933978abd1e47c3bae33ec92a187e0d": {
      "model_module": "@jupyter-widgets/base",
      "model_module_version": "1.1.0",
      "model_name": "LayoutModel",
      "state": {
       "grid_area": "top-right"
      }
     },
     "f949a999f8834fddb128d208516740b8": {
      "model_module": "@jupyter-widgets/base",
      "model_module_version": "1.1.0",
      "model_name": "LayoutModel",
      "state": {
       "grid_area": "top-right"
      }
     },
     "f965642378b14bb8a589e9f0b9700932": {
      "model_module": "@jupyter-widgets/base",
      "model_module_version": "1.1.0",
      "model_name": "LayoutModel",
      "state": {
       "grid_template_areas": "\"top-left top-right\"\n\"bottom-left bottom-right\"",
       "grid_template_columns": "1fr 1fr",
       "grid_template_rows": "1fr 1fr",
       "width": "auto"
      }
     },
     "f972bca3c28140d591812fd7fc483d07": {
      "model_module": "@jupyter-widgets/controls",
      "model_module_version": "1.4.0",
      "model_name": "SliderStyleModel",
      "state": {
       "description_width": ""
      }
     },
     "f9c436807c9d4be194cf47d95d694425": {
      "model_module": "@jupyter-widgets/controls",
      "model_module_version": "1.4.0",
      "model_name": "LinkModel",
      "state": {
       "source": [
        "IPY_MODEL_d47e4676837e4c318df876c9ba08b0f8",
        "value"
       ],
       "target": [
        "IPY_MODEL_69e39de4e6024c2b8a276f2bc2fe2aa6",
        "value"
       ]
      }
     },
     "f9d9055a525d41239fdc0f0bdef02871": {
      "model_module": "@jupyter-widgets/controls",
      "model_module_version": "1.4.0",
      "model_name": "LinkModel",
      "state": {
       "source": [
        "IPY_MODEL_6331cf5eae71443faca45fc927577321",
        "min"
       ],
       "target": [
        "IPY_MODEL_0798b94265434067a7e6eb23279bc523",
        "value"
       ]
      }
     },
     "f9de4a7194e34ecba66d47adf07ba29f": {
      "model_module": "@jupyter-widgets/base",
      "model_module_version": "1.1.0",
      "model_name": "LayoutModel",
      "state": {
       "grid_template_areas": "\"top-left top-right\"\n\"bottom-left top-right\"",
       "grid_template_columns": "1fr 1fr",
       "grid_template_rows": "1fr 1fr",
       "width": "auto"
      }
     },
     "f9e39595cf2b440d8420673ede1a3db1": {
      "model_module": "@jupyter-widgets/controls",
      "model_module_version": "1.4.0",
      "model_name": "FloatSliderModel",
      "state": {
       "layout": "IPY_MODEL_0ba4dc3b19264f2fbee3d92ac210a9a3",
       "max": 1,
       "step": 0.1,
       "style": "IPY_MODEL_3dc9c54fe1f84689a51a70e974428627",
       "value": 0.05
      }
     },
     "fa0a93de2e9b4509b6ed453ea2fa5881": {
      "model_module": "@jupyter-widgets/controls",
      "model_module_version": "1.4.0",
      "model_name": "SliderStyleModel",
      "state": {
       "description_width": ""
      }
     },
     "fa12d0d27f3840fea5ea95d8e3a909e6": {
      "model_module": "@jupyter-widgets/base",
      "model_module_version": "1.1.0",
      "model_name": "LayoutModel",
      "state": {
       "grid_area": "bottom-left"
      }
     },
     "fa1303a51ad74c7c8259c847b25efe30": {
      "model_module": "bqplot",
      "model_module_version": "^0.4.5",
      "model_name": "FigureModel",
      "state": {
       "_dom_classes": [],
       "axes": [
        "IPY_MODEL_0c7d8ba1fb9a4c2da70e677205edd001",
        "IPY_MODEL_ffa2becc1e9643a9b379b56605e58fb4"
       ],
       "layout": "IPY_MODEL_185b395d3df44405a775db8de29982d7",
       "marks": [
        "IPY_MODEL_cab1c7c6bb1540599d43abf8c03829cc"
       ],
       "padding_x": 0.025,
       "scale_x": "IPY_MODEL_c5e1c329f9eb4663ac0ee2bbc04fc9f5",
       "scale_y": "IPY_MODEL_5fe44089020c422b9751ba60bac94ff9"
      }
     },
     "fa3f972d4e004b27a05ae28962893628": {
      "model_module": "@jupyter-widgets/controls",
      "model_module_version": "1.4.0",
      "model_name": "DescriptionStyleModel",
      "state": {
       "description_width": ""
      }
     },
     "fa54d05d63724802a58138e558819746": {
      "model_module": "@jupyter-widgets/controls",
      "model_module_version": "1.4.0",
      "model_name": "ButtonModel",
      "state": {
       "description": "Bottom right",
       "layout": "IPY_MODEL_6103faa60b084dd0a04838ef14fefc74",
       "style": "IPY_MODEL_5f15fbc9b7bb4e0c92429b4017859b72"
      }
     },
     "fa5b96eeb99d43b4b8568012bafb5f10": {
      "model_module": "@jupyter-widgets/controls",
      "model_module_version": "1.4.0",
      "model_name": "GridBoxModel",
      "state": {
       "children": [
        "IPY_MODEL_03aa3e2c648e485fb3d842696c2d8276",
        "IPY_MODEL_fae1d9e6af4b419ab14ae4c1bd4f417a",
        "IPY_MODEL_46ad8aac4e3e4e3aa3dcc5c6ffc62cd4"
       ],
       "layout": "IPY_MODEL_6a8f58846cfa4fa699dae23b0ca3ed6c"
      }
     },
     "fa64e10f0cf24c2fb8878a34737c0ad6": {
      "model_module": "@jupyter-widgets/controls",
      "model_module_version": "1.4.0",
      "model_name": "ButtonModel",
      "state": {
       "description": "Top left",
       "layout": "IPY_MODEL_d0795c3618bc4ec78b2d9473deed7891",
       "style": "IPY_MODEL_3c5bd16916e048b980864458eaffb304"
      }
     },
     "fa6f6a8fbd17454e88d8a7c456976a7c": {
      "model_module": "@jupyter-widgets/controls",
      "model_module_version": "1.4.0",
      "model_name": "ButtonModel",
      "state": {
       "description": "Bottom left",
       "layout": "IPY_MODEL_785f2b0477894863a1aec9d45cac8173",
       "style": "IPY_MODEL_e17589e00bf34ddb90c96e58ce569af9"
      }
     },
     "fa9d4766231e49b38dda2cac9cf28d97": {
      "model_module": "@jupyter-widgets/controls",
      "model_module_version": "1.4.0",
      "model_name": "LinkModel",
      "state": {
       "source": [
        "IPY_MODEL_613a10628bc64d16840f9dde5959f74b",
        "min"
       ],
       "target": [
        "IPY_MODEL_af58beaca28a4be680847da7584d54ac",
        "value"
       ]
      }
     },
     "faa025a4ccf54b19bbfeffccfaf2dbb4": {
      "model_module": "@jupyter-widgets/controls",
      "model_module_version": "1.4.0",
      "model_name": "ButtonModel",
      "state": {
       "description": "Top left",
       "layout": "IPY_MODEL_e6271172e35249bfbe06cbb08ba3d3c8",
       "style": "IPY_MODEL_1f9502025e0743258236ecbabf5ce8fb"
      }
     },
     "fababee59c814a2a94eb3ba5fd07ef7c": {
      "model_module": "@jupyter-widgets/controls",
      "model_module_version": "1.4.0",
      "model_name": "ButtonModel",
      "state": {
       "description": "Top right",
       "layout": "IPY_MODEL_d778808e1fe84c24ba2e02103fed8654",
       "style": "IPY_MODEL_12b11ccd28114a1b94a676076d33d4e8"
      }
     },
     "fae1d9e6af4b419ab14ae4c1bd4f417a": {
      "model_module": "@jupyter-widgets/controls",
      "model_module_version": "1.4.0",
      "model_name": "FloatSliderModel",
      "state": {
       "layout": "IPY_MODEL_9a6725178f29445f8421a130c8eea85a",
       "max": 1,
       "step": 0.1,
       "style": "IPY_MODEL_e4e21a26e5d84590b976e747cdfd5523",
       "value": null
      }
     },
     "faf68dbae83e4464aeaf231da98e53a5": {
      "model_module": "@jupyter-widgets/controls",
      "model_module_version": "1.4.0",
      "model_name": "IntSliderModel",
      "state": {
       "layout": "IPY_MODEL_205c18a0d3d3480184a94278757b06d6",
       "style": "IPY_MODEL_5a0aab56ee8a4700a55d36f4f43551b9",
       "value": 25
      }
     },
     "faf8d01562574d62976f1a8cf0eb94fc": {
      "model_module": "@jupyter-widgets/controls",
      "model_module_version": "1.4.0",
      "model_name": "SliderStyleModel",
      "state": {
       "description_width": ""
      }
     },
     "fb03caf0a17b46ad96453a8d499fd596": {
      "model_module": "@jupyter-widgets/controls",
      "model_module_version": "1.4.0",
      "model_name": "ButtonStyleModel",
      "state": {}
     },
     "fb08b5c5fb884cb9a54ccd09df7ce98c": {
      "model_module": "@jupyter-widgets/controls",
      "model_module_version": "1.4.0",
      "model_name": "ButtonStyleModel",
      "state": {}
     },
     "fb35e2bc0dba480987f24230831124ac": {
      "model_module": "@jupyter-widgets/controls",
      "model_module_version": "1.4.0",
      "model_name": "DescriptionStyleModel",
      "state": {
       "description_width": ""
      }
     },
     "fb4e788a38754805a3d6b72464b3d95b": {
      "model_module": "@jupyter-widgets/base",
      "model_module_version": "1.1.0",
      "model_name": "LayoutModel",
      "state": {
       "grid_template_areas": "\"top-left bottom-right\"\n\"bottom-left bottom-right\"",
       "grid_template_columns": "1fr 1fr",
       "grid_template_rows": "1fr 1fr"
      }
     },
     "fb703f82edd54115b165f411d527e5bc": {
      "model_module": "bqplot",
      "model_module_version": "^0.4.5",
      "model_name": "BarsModel",
      "state": {
       "color": {
        "type": null,
        "values": null
       },
       "colors": [
        "steelblue"
       ],
       "display_legend": false,
       "scales": {
        "x": "IPY_MODEL_364b816f964d4926845d4988d73954b5",
        "y": "IPY_MODEL_90dbb1b5a05e4a10b4004bbd57c6a1bf"
       },
       "selected": [],
       "x": {
        "type": "float",
        "values": [
         0,
         1,
         2,
         3,
         4,
         5,
         6,
         7,
         8,
         9
        ]
       },
       "y": {
        "type": "float",
        "values": [
         0.6288984390617004,
         0.3984342586196771,
         0.0627129520233457,
         0.42403225188984195,
         0.2586840668894077,
         0.8490383084285108,
         0.03330462654669619,
         0.9589827218634736,
         0.3553688484719296,
         0.3567068904025429
        ]
       }
      }
     },
     "fc09632029094f079d34190201767945": {
      "model_module": "@jupyter-widgets/base",
      "model_module_version": "1.1.0",
      "model_name": "LayoutModel",
      "state": {
       "align_items": "center"
      }
     },
     "fc0eef5cebff4a0e8896bdac05fdb5f0": {
      "model_module": "@jupyter-widgets/base",
      "model_module_version": "1.1.0",
      "model_name": "LayoutModel",
      "state": {
       "grid_template_areas": "\"top-left top-right\"\n\"bottom-left bottom-right\"",
       "grid_template_columns": "1fr 1fr",
       "grid_template_rows": "1fr 1fr",
       "width": "auto"
      }
     },
     "fc113e529eae40e0b6bf9cf6a2c9cd45": {
      "model_module": "@jupyter-widgets/controls",
      "model_module_version": "1.4.0",
      "model_name": "FloatSliderModel",
      "state": {
       "layout": "IPY_MODEL_898ce6a908e648eb88ff81ae92093a0e",
       "max": 10,
       "min": 0.05,
       "step": 0.1,
       "style": "IPY_MODEL_91cfba5885b84744a1af45f477938c20",
       "value": 3.35
      }
     },
     "fc11ab93b8894a1da80a45d5a56a5136": {
      "model_module": "bqplot",
      "model_module_version": "^0.4.5",
      "model_name": "LinearScaleModel",
      "state": {
       "max": 5.8,
       "min": 1,
       "stabilized": false
      }
     },
     "fc34cd8d0b4c4cf1bbe69eaa08cd5261": {
      "model_module": "@jupyter-widgets/controls",
      "model_module_version": "1.4.0",
      "model_name": "ButtonModel",
      "state": {
       "description": "Top right",
       "layout": "IPY_MODEL_75f956423b9b4a9ca3ff8504fe24d0bf",
       "style": "IPY_MODEL_7cc77b9aa6ba48609906eb264b19bdf8"
      }
     },
     "fc45d8e97fd84d4399586333864bfb27": {
      "model_module": "@jupyter-widgets/base",
      "model_module_version": "1.1.0",
      "model_name": "LayoutModel",
      "state": {
       "grid_area": "bottom-right"
      }
     },
     "fc56ad8a0fea47949541df135bfb9f83": {
      "model_module": "@jupyter-widgets/base",
      "model_module_version": "1.1.0",
      "model_name": "LayoutModel",
      "state": {
       "grid_area": "top-left",
       "min_width": "125px"
      }
     },
     "fc5a397d0cd44a078b0b3f1d8111fc3a": {
      "model_module": "@jupyter-widgets/controls",
      "model_module_version": "1.4.0",
      "model_name": "IntSliderModel",
      "state": {
       "layout": "IPY_MODEL_5fe0ab3cab7943c087023b6b2f47aa22",
       "style": "IPY_MODEL_47d636fd186146ffbe52c6990e6b6e1e"
      }
     },
     "fc5de866c1aa40859a381e55f2720980": {
      "model_module": "@jupyter-widgets/controls",
      "model_module_version": "1.4.0",
      "model_name": "ButtonModel",
      "state": {
       "description": "Bottom right",
       "layout": "IPY_MODEL_cc306f4da64f497fb2e10d5804b2d004",
       "style": "IPY_MODEL_35020bcdcf644b57be7152835f85bd1c"
      }
     },
     "fc6dc8c720bb4e30b2e6058d8ffbcc36": {
      "model_module": "@jupyter-widgets/base",
      "model_module_version": "1.1.0",
      "model_name": "LayoutModel",
      "state": {
       "grid_template_areas": "\"top-left top-right\"\n\"bottom-left bottom-right\"",
       "grid_template_columns": "1fr 1fr",
       "grid_template_rows": "1fr 1fr"
      }
     },
     "fc9502cb922f4443bad1187d9902f8a6": {
      "model_module": "@jupyter-widgets/base",
      "model_module_version": "1.1.0",
      "model_name": "LayoutModel",
      "state": {
       "grid_template_areas": "\"top-left top-right\"\n\"bottom-left top-right\"",
       "grid_template_columns": "1fr 1fr",
       "grid_template_rows": "1fr 1fr",
       "width": "auto"
      }
     },
     "fcd4dbd65e1d4bd7adce0435f209019d": {
      "model_module": "@jupyter-widgets/controls",
      "model_module_version": "1.4.0",
      "model_name": "IntSliderModel",
      "state": {
       "layout": "IPY_MODEL_8e5191875ec44aa28070d9fb8458fcc4",
       "style": "IPY_MODEL_82f854dbda314376afbecc8dbe294743",
       "value": 30
      }
     },
     "fcec4fbad0e24fa88a995ddfcbe2ab3c": {
      "model_module": "@jupyter-widgets/controls",
      "model_module_version": "1.4.0",
      "model_name": "GridBoxModel",
      "state": {
       "children": [
        "IPY_MODEL_2392c8780da04ce68b00f463626c2435",
        "IPY_MODEL_a156d3199938440290e1c1c96a125fef",
        "IPY_MODEL_7b76eca0708546159cade184916a485f"
       ],
       "layout": "IPY_MODEL_9df05a82e1b94ceabd023162ab64ada6"
      }
     },
     "fcfea4798ea7438e9e18b48e645ca645": {
      "model_module": "@jupyter-widgets/base",
      "model_module_version": "1.1.0",
      "model_name": "LayoutModel",
      "state": {
       "grid_template_areas": "\"top-left top-right\"\n\"bottom-left top-right\"",
       "grid_template_columns": "1fr 1fr",
       "grid_template_rows": "1fr 1fr",
       "width": "auto"
      }
     },
     "fd07cca84ee146fe87cf5e0b2b5be5a2": {
      "model_module": "@jupyter-widgets/controls",
      "model_module_version": "1.4.0",
      "model_name": "FloatSliderModel",
      "state": {
       "description": "Min: ",
       "layout": "IPY_MODEL_75b6e442c7694956abe0032c9c067428",
       "max": 2.8,
       "step": 0.1,
       "style": "IPY_MODEL_0b37cc9c7c3c49118fe89b4717d9790c"
      }
     },
     "fd0d7cb81f34431eb7d2526cc31877ca": {
      "model_module": "@jupyter-widgets/controls",
      "model_module_version": "1.4.0",
      "model_name": "LinkModel",
      "state": {
       "source": [
        "IPY_MODEL_8b299d264fd041d79424a380355596f0",
        "min"
       ],
       "target": [
        "IPY_MODEL_6db55cfb7d894364b019f13cf89320a4",
        "value"
       ]
      }
     },
     "fd18139fdc324bc7a68202aa47856ea2": {
      "model_module": "@jupyter-widgets/controls",
      "model_module_version": "1.4.0",
      "model_name": "DescriptionStyleModel",
      "state": {
       "description_width": ""
      }
     },
     "fd5354bcec974823bff8800177897102": {
      "model_module": "@jupyter-widgets/controls",
      "model_module_version": "1.4.0",
      "model_name": "LinkModel",
      "state": {
       "source": [
        "IPY_MODEL_30c5f3aee10d4a37affcb0f481f803a3",
        "min"
       ],
       "target": [
        "IPY_MODEL_f9e39595cf2b440d8420673ede1a3db1",
        "value"
       ]
      }
     },
     "fdbc840ae2b1467688d2d0a4e11932e3": {
      "model_module": "@jupyter-widgets/controls",
      "model_module_version": "1.4.0",
      "model_name": "SliderStyleModel",
      "state": {
       "description_width": ""
      }
     },
     "fdc8094d5784404d88329c75cb784e84": {
      "model_module": "@jupyter-widgets/controls",
      "model_module_version": "1.4.0",
      "model_name": "LinkModel",
      "state": {
       "source": [
        "IPY_MODEL_fc11ab93b8894a1da80a45d5a56a5136",
        "min"
       ],
       "target": [
        "IPY_MODEL_9dff20bdb7b4426c9a4cdfd8fa9efcdd",
        "value"
       ]
      }
     },
     "fdd4d84fa5fc4389aed260cf817f934e": {
      "model_module": "@jupyter-widgets/base",
      "model_module_version": "1.1.0",
      "model_name": "LayoutModel",
      "state": {
       "grid_template_areas": "\"top-left bottom-right\"\n\"bottom-left bottom-right\"",
       "grid_template_columns": "1fr 1fr",
       "grid_template_rows": "1fr 1fr",
       "width": "auto"
      }
     },
     "fde08b8c77f14d16855e6e5ef603d6bb": {
      "model_module": "@jupyter-widgets/controls",
      "model_module_version": "1.4.0",
      "model_name": "ButtonStyleModel",
      "state": {}
     },
     "fdeb81e432c045b38bb38a8f50365a68": {
      "model_module": "@jupyter-widgets/controls",
      "model_module_version": "1.4.0",
      "model_name": "GridBoxModel",
      "state": {
       "children": [
        "IPY_MODEL_1922a5ad523c4719824c61cb3b7f3c5b",
        "IPY_MODEL_e56bae38b1c44b81b400a9ea4908452e",
        "IPY_MODEL_865007bfb4f3463982868a68b6fcd450"
       ],
       "layout": "IPY_MODEL_9c7ee503924846e7bf7d95b36d41b77b"
      }
     },
     "fded5a7ec1d94b48bdd9a687b1a4a7c5": {
      "model_module": "@jupyter-widgets/controls",
      "model_module_version": "1.4.0",
      "model_name": "ButtonStyleModel",
      "state": {}
     },
     "fdf50f6f640a40119f041539d9342134": {
      "model_module": "@jupyter-widgets/controls",
      "model_module_version": "1.4.0",
      "model_name": "IntTextModel",
      "state": {
       "layout": "IPY_MODEL_039aee73dbc944d9b54dc9c15fac9af0",
       "step": 1,
       "style": "IPY_MODEL_4d865e156aa24aba91e2b169e894d3f0",
       "value": 25
      }
     },
     "fe0a322eaeea424b82608cdcd4a0f3f7": {
      "model_module": "@jupyter-widgets/controls",
      "model_module_version": "1.4.0",
      "model_name": "SliderStyleModel",
      "state": {
       "description_width": ""
      }
     },
     "fe2b0a4e1c544955aaf82200871d3c32": {
      "model_module": "@jupyter-widgets/base",
      "model_module_version": "1.1.0",
      "model_name": "LayoutModel",
      "state": {
       "grid_template_areas": "\"top-left top-left\"\n\"bottom-left bottom-left\"",
       "grid_template_columns": "1fr 1fr",
       "grid_template_rows": "1fr 1fr",
       "width": "auto"
      }
     },
     "fe342e46ed304a1284ede5536fde1e9e": {
      "model_module": "@jupyter-widgets/base",
      "model_module_version": "1.1.0",
      "model_name": "LayoutModel",
      "state": {
       "grid_area": "top-right"
      }
     },
     "fe375f3ca1b945f5872f5017bc6b67de": {
      "model_module": "@jupyter-widgets/base",
      "model_module_version": "1.1.0",
      "model_name": "LayoutModel",
      "state": {
       "grid_template_areas": "\"top-left top-right\"\n\"bottom-left bottom-right\"",
       "grid_template_columns": "1fr 1fr",
       "grid_template_rows": "1fr 1fr",
       "width": "auto"
      }
     },
     "fe47dddf96f34ab1b448bea3ef68896b": {
      "model_module": "@jupyter-widgets/controls",
      "model_module_version": "1.4.0",
      "model_name": "FloatSliderModel",
      "state": {
       "layout": "IPY_MODEL_3e58fa83591e4275adbad95319b8ca56",
       "max": 10,
       "min": 0.05,
       "step": 0.1,
       "style": "IPY_MODEL_b81e37fcc5ef4612bc8f60d574d2c302",
       "value": 3.35
      }
     },
     "fe4a2dab75634d6fa1af55d0349b3c11": {
      "model_module": "@jupyter-widgets/controls",
      "model_module_version": "1.4.0",
      "model_name": "ButtonStyleModel",
      "state": {}
     },
     "fe4b108e65ee47e4bbb9306958bc8625": {
      "model_module": "@jupyter-widgets/base",
      "model_module_version": "1.1.0",
      "model_name": "LayoutModel",
      "state": {
       "grid_area": "bottom-left"
      }
     },
     "fe953581789a4c20866ca507fd59de79": {
      "model_module": "@jupyter-widgets/base",
      "model_module_version": "1.1.0",
      "model_name": "LayoutModel",
      "state": {
       "grid_template_areas": "\"top-left bottom-right\"\n\"bottom-left bottom-right\"",
       "grid_template_columns": "1fr 1fr",
       "grid_template_rows": "1fr 1fr"
      }
     },
     "fea067ef3f1045da930d4685deab359c": {
      "model_module": "@jupyter-widgets/base",
      "model_module_version": "1.1.0",
      "model_name": "LayoutModel",
      "state": {
       "grid_template_areas": "\"top-left top-right\"\n\"bottom-left bottom-right\"",
       "grid_template_columns": "1fr 1fr",
       "grid_template_rows": "1fr 1fr",
       "width": "auto"
      }
     },
     "fecc0bd47255460d9506b2a356e97041": {
      "model_module": "@jupyter-widgets/base",
      "model_module_version": "1.1.0",
      "model_name": "LayoutModel",
      "state": {
       "grid_area": "bottom-right"
      }
     },
     "feeb6bcb55214928a81b0778c914bcc4": {
      "model_module": "@jupyter-widgets/controls",
      "model_module_version": "1.4.0",
      "model_name": "GridBoxModel",
      "state": {
       "children": [
        "IPY_MODEL_bcc2033d0e2e4058a8351fe9310a638f",
        "IPY_MODEL_2d8157d941184562817ecf02b230357b",
        "IPY_MODEL_5b41e3c8135044b6b2fdc4f8740d9354"
       ],
       "layout": "IPY_MODEL_aabd7b936e3e47ef9060b8bdaff71d0f"
      }
     },
     "fef24f88da0c49d88ba50d935acb0e30": {
      "model_module": "@jupyter-widgets/base",
      "model_module_version": "1.1.0",
      "model_name": "LayoutModel",
      "state": {
       "align_items": "center"
      }
     },
     "fef5962366f4498d8bbdbdfc23a4b45c": {
      "model_module": "@jupyter-widgets/controls",
      "model_module_version": "1.4.0",
      "model_name": "ButtonStyleModel",
      "state": {}
     },
     "ff1f366c16a543ccbd087a552aa3a9ba": {
      "model_module": "@jupyter-widgets/controls",
      "model_module_version": "1.4.0",
      "model_name": "ButtonModel",
      "state": {
       "description": "Top right",
       "layout": "IPY_MODEL_7556e2614c6b4f1697280f977e36dc54",
       "style": "IPY_MODEL_afcdb8b0ca86483092fc4121e4484b94"
      }
     },
     "ff586aef2ac946649c8185f68fab7c75": {
      "model_module": "@jupyter-widgets/base",
      "model_module_version": "1.1.0",
      "model_name": "LayoutModel",
      "state": {
       "grid_area": "top-left",
       "height": "20px",
       "width": "300px"
      }
     },
     "ff7fdb8cc7d149a298da656471213a95": {
      "model_module": "@jupyter-widgets/base",
      "model_module_version": "1.1.0",
      "model_name": "LayoutModel",
      "state": {
       "grid_area": "bottom-right",
       "height": "100%",
       "width": "auto"
      }
     },
     "ff91c9fe5d874991bbc4fa344d5402b3": {
      "model_module": "@jupyter-widgets/controls",
      "model_module_version": "1.4.0",
      "model_name": "LinkModel",
      "state": {
       "source": [
        "IPY_MODEL_291f6701606a42bbb3cbeff61531f688",
        "min"
       ],
       "target": [
        "IPY_MODEL_fd07cca84ee146fe87cf5e0b2b5be5a2",
        "value"
       ]
      }
     },
     "ff9302e54b5140a7b1a5065b5fb0f1ae": {
      "model_module": "@jupyter-widgets/base",
      "model_module_version": "1.1.0",
      "model_name": "LayoutModel",
      "state": {}
     },
     "ffa2becc1e9643a9b379b56605e58fb4": {
      "model_module": "bqplot",
      "model_module_version": "^0.4.5",
      "model_name": "AxisModel",
      "state": {
       "orientation": "vertical",
       "scale": "IPY_MODEL_6cd2bf7eb9844f428c39f48eb079d333",
       "side": "left",
       "tick_format": "0.2f",
       "tick_values": {
        "type": null,
        "values": null
       }
      }
     },
     "ffacbb31a20f483cbcf1d2b96ef6ee49": {
      "model_module": "@jupyter-widgets/base",
      "model_module_version": "1.1.0",
      "model_name": "LayoutModel",
      "state": {
       "grid_template_areas": "\"top-left bottom-right\"\n\"bottom-left bottom-right\"",
       "grid_template_columns": "1fr 1fr",
       "grid_template_rows": "1fr 1fr",
       "width": "auto"
      }
     },
     "ffc591af6d894094b6933aca36b9bf14": {
      "model_module": "@jupyter-widgets/controls",
      "model_module_version": "1.4.0",
      "model_name": "GridBoxModel",
      "state": {
       "children": [
        "IPY_MODEL_9dff20bdb7b4426c9a4cdfd8fa9efcdd",
        "IPY_MODEL_88c0a8ca313748f6a8a2e6d4f4267122",
        "IPY_MODEL_611cf9fc49c645538473b21e6ae20339"
       ],
       "layout": "IPY_MODEL_0faff599347e41a989f07cc051a849eb"
      }
     },
     "ffe43386f74c4eb49774f8b33c2be70a": {
      "model_module": "@jupyter-widgets/controls",
      "model_module_version": "1.4.0",
      "model_name": "GridBoxModel",
      "state": {
       "children": [
        "IPY_MODEL_0798b94265434067a7e6eb23279bc523",
        "IPY_MODEL_6331cf5eae71443faca45fc927577321",
        "IPY_MODEL_33ee9ef51c934175969c5fb50e0dc087"
       ],
       "layout": "IPY_MODEL_a8100977ec5b4686ad5f0a46e2df015b"
      }
     }
    },
    "version_major": 2,
    "version_minor": 0
   }
  }
 },
 "nbformat": 4,
 "nbformat_minor": 2
}
