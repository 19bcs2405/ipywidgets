{
 "cells": [
  {
   "cell_type": "code",
   "execution_count": 1,
   "metadata": {
    "collapsed": true
   },
   "outputs": [],
   "source": [
    "from ipywidgets import Play, VBox, Button"
   ]
  },
  {
   "cell_type": "code",
   "execution_count": 2,
   "metadata": {
    "collapsed": false
   },
   "outputs": [
    {
     "data": {
      "application/vnd.jupyter.widget": "5c0c2d0fbc55422bb41abf645195291c"
     },
     "metadata": {},
     "output_type": "display_data"
    }
   ],
   "source": [
    "VBox([Play(), Button()])"
   ]
  },
  {
   "cell_type": "code",
   "execution_count": null,
   "metadata": {
    "collapsed": true
   },
   "outputs": [],
   "source": []
  }
 ],
 "metadata": {
  "kernelspec": {
   "display_name": "Python 3",
   "language": "python",
   "name": "python3"
  },
  "language_info": {
   "codemirror_mode": {
    "name": "ipython",
    "version": 3
   },
   "file_extension": ".py",
   "mimetype": "text/x-python",
   "name": "python",
   "nbconvert_exporter": "python",
   "pygments_lexer": "ipython3",
   "version": "3.5.1"
  },
  "widgets": {
   "state": {
    "021bf0f08d5d44e6ba858312a96c6260": {
     "views": []
    },
    "5c0c2d0fbc55422bb41abf645195291c": {
     "views": [
      {
       "cell_index": 1
      }
     ]
    },
    "6d088203e6c745cfb7792df6d6d520c5": {
     "views": []
    },
    "ae830b7703cc48849c7f1cbd3de47b1b": {
     "views": []
    },
    "c7ae0412c7f04191b92197e1c8fac657": {
     "views": []
    },
    "faa84c0597b74b3a9e3172a93bce24bb": {
     "views": []
    }
   },
   "version": "2.0.0-dev"
  }
 },
 "nbformat": 4,
 "nbformat_minor": 0
}
