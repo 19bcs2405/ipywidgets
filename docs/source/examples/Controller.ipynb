{
 "cells": [
  {
   "cell_type": "markdown",
   "metadata": {},
   "source": [
    "# Using Game Controllers in the Jupyter Notebook"
   ]
  },
  {
   "cell_type": "markdown",
   "metadata": {},
   "source": [
    "The controller widget automatically detects connected gamepad and joysticks"
   ]
  },
  {
   "cell_type": "code",
   "execution_count": 1,
   "metadata": {},
   "outputs": [],
   "source": [
    "from ipywidgets import Controller"
   ]
  },
  {
   "cell_type": "code",
   "execution_count": 2,
   "metadata": {},
   "outputs": [
    {
     "data": {
      "application/vnd.jupyter.widget-view+json": {
       "model_id": "de44b936ad5c4265a49963aa00e06fab"
      }
     },
     "metadata": {},
     "output_type": "display_data"
    }
   ],
   "source": [
    "Controller()"
   ]
  },
  {
   "cell_type": "markdown",
   "metadata": {},
   "source": [
    "In the case where multiple controllers are connected, you may address the controllers by index"
   ]
  },
  {
   "cell_type": "code",
   "execution_count": 3,
   "metadata": {},
   "outputs": [
    {
     "data": {
      "application/vnd.jupyter.widget-view+json": {
       "model_id": "42658f1843fc4bc48972450a0842f95c"
      }
     },
     "metadata": {},
     "output_type": "display_data"
    }
   ],
   "source": [
    "Controller(index=1)"
   ]
  }
 ],
 "metadata": {
  "kernelspec": {
   "display_name": "Python 3",
   "language": "python",
   "name": "python3"
  },
  "language_info": {
   "codemirror_mode": {
    "name": "ipython",
    "version": 3
   },
   "file_extension": ".py",
   "mimetype": "text/x-python",
   "name": "python",
   "nbconvert_exporter": "python",
   "pygments_lexer": "ipython3",
   "version": "3.5.2"
  },
  "widgets": {
   "application/vnd.jupyter.widget-state+json": {
    "state": {
     "42658f1843fc4bc48972450a0842f95c": {
      "model_module": "jupyter-js-widgets",
      "model_module_version": "*",
      "model_name": "ControllerModel",
      "state": {
       "_dom_classes": [],
       "_model_module": "jupyter-js-widgets",
       "_model_module_version": "*",
       "_model_name": "ControllerModel",
       "_view_module": "jupyter-js-widgets",
       "_view_module_version": "*",
       "_view_name": "ControllerView",
       "axes": [],
       "buttons": [],
       "connected": false,
       "index": 1,
       "layout": "IPY_MODEL_6254114d8e8c45b0adc1f0280b5eca29",
       "mapping": "",
       "msg_throttle": 1,
       "name": "",
       "timestamp": 0
      }
     },
     "4bcc6dcc1fd54f549a5193da6344d25d": {
      "model_module": "jupyter-js-widgets",
      "model_module_version": "*",
      "model_name": "LayoutModel",
      "state": {
       "_dom_classes": [],
       "_model_module": "jupyter-js-widgets",
       "_model_module_version": "*",
       "_model_name": "LayoutModel",
       "_view_module": "jupyter-js-widgets",
       "_view_module_version": "*",
       "_view_name": "LayoutView",
       "align_content": null,
       "align_items": null,
       "align_self": null,
       "border": null,
       "bottom": null,
       "display": null,
       "flex": null,
       "flex_flow": null,
       "height": null,
       "justify_content": null,
       "left": null,
       "margin": null,
       "max_height": null,
       "max_width": null,
       "min_height": null,
       "min_width": null,
       "msg_throttle": 1,
       "order": null,
       "overflow": null,
       "overflow_x": null,
       "overflow_y": null,
       "padding": null,
       "right": null,
       "top": null,
       "visibility": null,
       "width": null
      }
     },
     "6254114d8e8c45b0adc1f0280b5eca29": {
      "model_module": "jupyter-js-widgets",
      "model_module_version": "*",
      "model_name": "LayoutModel",
      "state": {
       "_dom_classes": [],
       "_model_module": "jupyter-js-widgets",
       "_model_module_version": "*",
       "_model_name": "LayoutModel",
       "_view_module": "jupyter-js-widgets",
       "_view_module_version": "*",
       "_view_name": "LayoutView",
       "align_content": null,
       "align_items": null,
       "align_self": null,
       "border": null,
       "bottom": null,
       "display": null,
       "flex": null,
       "flex_flow": null,
       "height": null,
       "justify_content": null,
       "left": null,
       "margin": null,
       "max_height": null,
       "max_width": null,
       "min_height": null,
       "min_width": null,
       "msg_throttle": 1,
       "order": null,
       "overflow": null,
       "overflow_x": null,
       "overflow_y": null,
       "padding": null,
       "right": null,
       "top": null,
       "visibility": null,
       "width": null
      }
     },
     "de44b936ad5c4265a49963aa00e06fab": {
      "model_module": "jupyter-js-widgets",
      "model_module_version": "*",
      "model_name": "ControllerModel",
      "state": {
       "_dom_classes": [],
       "_model_module": "jupyter-js-widgets",
       "_model_module_version": "*",
       "_model_name": "ControllerModel",
       "_view_module": "jupyter-js-widgets",
       "_view_module_version": "*",
       "_view_name": "ControllerView",
       "axes": [],
       "buttons": [],
       "connected": false,
       "index": 0,
       "layout": "IPY_MODEL_4bcc6dcc1fd54f549a5193da6344d25d",
       "mapping": "",
       "msg_throttle": 1,
       "name": "",
       "timestamp": 0
      }
     }
    },
    "version_major": 1,
    "version_minor": 0
   }
  }
 },
 "nbformat": 4,
 "nbformat_minor": 1
}
