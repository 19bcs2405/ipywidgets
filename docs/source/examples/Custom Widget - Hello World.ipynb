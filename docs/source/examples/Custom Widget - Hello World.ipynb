{
 "cells": [
  {
   "cell_type": "markdown",
   "metadata": {},
   "source": [
    "[Index](Index.ipynb) - [Back](Widget Styling.ipynb)"
   ]
  },
  {
   "cell_type": "code",
   "execution_count": 1,
   "metadata": {
    "collapsed": false
   },
   "outputs": [],
   "source": [
    "from __future__ import print_function # For py 2.7 compat"
   ]
  },
  {
   "cell_type": "markdown",
   "metadata": {
    "slideshow": {
     "slide_type": "slide"
    }
   },
   "source": [
    "# Building a Custom Widget"
   ]
  },
  {
   "cell_type": "markdown",
   "metadata": {},
   "source": [
    "The widget framework is built on top of the Comm framework (short for communication).  The Comm framework is a framework that allows you send/receive JSON messages to/from the front end (as seen below).\n",
    "\n",
    "![Widget layer](images/WidgetArch.png)\n",
    "\n",
    "To create a custom widget, you need to define the widget both in the browser and in the python kernel."
   ]
  },
  {
   "cell_type": "markdown",
   "metadata": {
    "slideshow": {
     "slide_type": "slide"
    }
   },
   "source": [
    "# Building a Custom Widget"
   ]
  },
  {
   "cell_type": "markdown",
   "metadata": {},
   "source": [
    "To get started, you'll create a simple hello world widget.  Later you'll build on this foundation to make more complex widgets."
   ]
  },
  {
   "cell_type": "markdown",
   "metadata": {
    "slideshow": {
     "slide_type": "slide"
    }
   },
   "source": [
    "## Python Kernel"
   ]
  },
  {
   "cell_type": "markdown",
   "metadata": {},
   "source": [
    "### DOMWidget and Widget"
   ]
  },
  {
   "cell_type": "markdown",
   "metadata": {},
   "source": [
    "To define a widget, you must inherit from the Widget or DOMWidget base class.  If you intend for your widget to be displayed in the Jupyter notebook, you'll want to inherit from the DOMWidget.  The DOMWidget class itself inherits from the Widget class.  The Widget class is useful for cases in which the Widget is not meant to be displayed directly in the notebook, but instead as a child of another rendering environment.  For example, if you wanted to create a three.js widget (a popular WebGL library), you would implement the rendering window as a DOMWidget and any 3D objects or lights meant to be rendered in that window as Widgets."
   ]
  },
  {
   "cell_type": "markdown",
   "metadata": {
    "slideshow": {
     "slide_type": "slide"
    }
   },
   "source": [
    "### _view_name"
   ]
  },
  {
   "cell_type": "markdown",
   "metadata": {},
   "source": [
    "Inheriting from the DOMWidget does not tell the widget framework what front end widget to associate with your back end widget.  Instead, you must tell it yourself by defining a specially named traitlet, `_view_name` (as seen below)."
   ]
  },
  {
   "cell_type": "code",
   "execution_count": 2,
   "metadata": {
    "collapsed": false
   },
   "outputs": [],
   "source": [
    "import ipywidgets as widgets\n",
    "from traitlets import Unicode\n",
    "\n",
    "\n",
    "class HelloWidget(widgets.DOMWidget):\n",
    "    _view_name = Unicode('HelloView').tag(sync=True)\n",
    "    _view_module = Unicode('hello').tag(sync=True)"
   ]
  },
  {
   "cell_type": "markdown",
   "metadata": {
    "slideshow": {
     "slide_type": "slide"
    }
   },
   "source": [
    "### sync=True traitlets"
   ]
  },
  {
   "cell_type": "markdown",
   "metadata": {},
   "source": [
    "Traitlets is an IPython library for defining type-safe properties on configurable objects.  For this tutorial you do not need to worry about the *configurable* piece of the traitlets machinery.   The `sync=True` keyword argument tells the widget framework to handle synchronizing that value to the browser.  Without `sync=True`, the browser would have no knowledge of `_view_name`."
   ]
  },
  {
   "cell_type": "markdown",
   "metadata": {
    "slideshow": {
     "slide_type": "slide"
    }
   },
   "source": [
    "### Other traitlet types"
   ]
  },
  {
   "cell_type": "markdown",
   "metadata": {},
   "source": [
    "Unicode, used for _view_name, is not the only Traitlet type, there are many more some of which are listed below:  \n",
    "\n",
    "- Any\n",
    "- Bool\n",
    "- Bytes\n",
    "- CBool\n",
    "- CBytes\n",
    "- CComplex\n",
    "- CFloat\n",
    "- CInt\n",
    "- CLong\n",
    "- CRegExp\n",
    "- CUnicode\n",
    "- CaselessStrEnum\n",
    "- Complex\n",
    "- Dict\n",
    "- DottedObjectName\n",
    "- Enum\n",
    "- Float\n",
    "- FunctionType\n",
    "- Instance\n",
    "- InstanceType\n",
    "- Int\n",
    "- List\n",
    "- Long\n",
    "- Set\n",
    "- TCPAddress\n",
    "- Tuple\n",
    "- Type\n",
    "- Unicode\n",
    "- Union\n",
    "\n",
    "\n",
    "Not all of these traitlets can be synchronized across the network, only the JSON-able traits and Widget instances will be synchronized."
   ]
  },
  {
   "cell_type": "markdown",
   "metadata": {
    "slideshow": {
     "slide_type": "slide"
    }
   },
   "source": [
    "## Front end (JavaScript)"
   ]
  },
  {
   "cell_type": "markdown",
   "metadata": {},
   "source": [
    "### Models and views"
   ]
  },
  {
   "cell_type": "markdown",
   "metadata": {},
   "source": [
    "The IPython widget framework front end relies heavily on [Backbone.js](http://backbonejs.org/).  Backbone.js is an MVC (model view controller) framework.  Widgets defined in the back end are automatically synchronized with generic Backbone.js models in the front end.  The traitlets are added to the front end instance automatically on first state push.  The `_view_name` trait that you defined earlier is used by the widget framework to create the corresponding Backbone.js view and link that view to the model."
   ]
  },
  {
   "cell_type": "markdown",
   "metadata": {
    "slideshow": {
     "slide_type": "slide"
    }
   },
   "source": [
    "### Import the WidgetManager"
   ]
  },
  {
   "cell_type": "markdown",
   "metadata": {},
   "source": [
    "You first need to import the `jupyter-js-widgets` module. To import modules, use the `define` method of [require.js](http://requirejs.org/) (as seen below)."
   ]
  },
  {
   "cell_type": "code",
   "execution_count": 3,
   "metadata": {
    "collapsed": false
   },
   "outputs": [
    {
     "data": {
      "application/javascript": [
       "define('hello', [\"jupyter-js-widgets\"], function(widgets) {\n",
       "    \n",
       "});"
      ],
      "text/plain": [
       "<IPython.core.display.Javascript object>"
      ]
     },
     "metadata": {},
     "output_type": "display_data"
    }
   ],
   "source": [
    "%%javascript\n",
    "define('hello', [\"jupyter-js-widgets\"], function(widgets) {\n",
    "    \n",
    "});"
   ]
  },
  {
   "cell_type": "markdown",
   "metadata": {
    "slideshow": {
     "slide_type": "slide"
    }
   },
   "source": [
    "### Define the view"
   ]
  },
  {
   "cell_type": "markdown",
   "metadata": {},
   "source": [
    "Next define your widget view class.  Inherit from the `DOMWidgetView` by using the `.extend` method."
   ]
  },
  {
   "cell_type": "code",
   "execution_count": 4,
   "metadata": {
    "collapsed": false
   },
   "outputs": [
    {
     "data": {
      "application/javascript": [
       "require.undef('hello');\n",
       "\n",
       "define('hello', [\"jupyter-js-widgets\"], function(widgets) {\n",
       "    \n",
       "    // Define the HelloView\n",
       "    var HelloView = widgets.DOMWidgetView.extend({\n",
       "        \n",
       "    });\n",
       "\n",
       "    return {\n",
       "        HelloView: HelloView\n",
       "    }\n",
       "});"
      ],
      "text/plain": [
       "<IPython.core.display.Javascript object>"
      ]
     },
     "metadata": {},
     "output_type": "display_data"
    }
   ],
   "source": [
    "%%javascript\n",
    "require.undef('hello');\n",
    "\n",
    "define('hello', [\"jupyter-js-widgets\"], function(widgets) {\n",
    "    \n",
    "    // Define the HelloView\n",
    "    var HelloView = widgets.DOMWidgetView.extend({\n",
    "        \n",
    "    });\n",
    "\n",
    "    return {\n",
    "        HelloView: HelloView\n",
    "    }\n",
    "});"
   ]
  },
  {
   "cell_type": "markdown",
   "metadata": {
    "slideshow": {
     "slide_type": "slide"
    }
   },
   "source": [
    "### Render method"
   ]
  },
  {
   "cell_type": "markdown",
   "metadata": {},
   "source": [
    "Lastly, override the base `render` method of the view to define custom rendering logic.  A handle to the widget's default div element can be acquired via `this.$el`.  The `$el` property is a [jQuery](http://jquery.com/) object handle (which can be thought of as a supercharged version of the normal DOM element's handle)."
   ]
  },
  {
   "cell_type": "code",
   "execution_count": 5,
   "metadata": {
    "collapsed": false
   },
   "outputs": [
    {
     "data": {
      "application/javascript": [
       "require.undef('hello');\n",
       "\n",
       "define('hello', [\"jupyter-js-widgets\"], function(widgets) {\n",
       "    \n",
       "    var HelloView = widgets.DOMWidgetView.extend({\n",
       "        \n",
       "        // Render the view.\n",
       "        render: function() { \n",
       "            this.$el.text('Hello World!'); \n",
       "        },\n",
       "    });\n",
       "    \n",
       "    return {\n",
       "        HelloView: HelloView\n",
       "    };\n",
       "});"
      ],
      "text/plain": [
       "<IPython.core.display.Javascript object>"
      ]
     },
     "metadata": {},
     "output_type": "display_data"
    }
   ],
   "source": [
    "%%javascript\n",
    "require.undef('hello');\n",
    "\n",
    "define('hello', [\"jupyter-js-widgets\"], function(widgets) {\n",
    "    \n",
    "    var HelloView = widgets.DOMWidgetView.extend({\n",
    "        \n",
    "        // Render the view.\n",
    "        render: function() { \n",
    "            this.$el.text('Hello World!'); \n",
    "        },\n",
    "    });\n",
    "    \n",
    "    return {\n",
    "        HelloView: HelloView\n",
    "    };\n",
    "});"
   ]
  },
  {
   "cell_type": "markdown",
   "metadata": {
    "slideshow": {
     "slide_type": "slide"
    }
   },
   "source": [
    "## Test"
   ]
  },
  {
   "cell_type": "markdown",
   "metadata": {},
   "source": [
    "You should be able to display your widget just like any other widget now."
   ]
  },
  {
   "cell_type": "code",
   "execution_count": 6,
   "metadata": {
    "collapsed": false
   },
   "outputs": [
    {
     "data": {
      "image/png": "[encoded data removed]",
      "text/html": [
       "<img src=data:image/png;base64,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 class=\"jupyter-widget\">\n",
       "<script type=\"application/vnd.jupyter-embedded-widgets\">[{},{\"_view_name\":\"HelloView\",\"_view_module\":\"hello\",\"layout\":\"IPY_MODEL_759b7842d18743b7af0691f02c7d0f1e\",\"_model_name\":\"DOMWidgetModel\"}]</script>"
      ]
     },
     "metadata": {
      "isWidgetSnapshot": true
     },
     "output_type": "display_data"
    }
   ],
   "source": [
    "HelloWidget()"
   ]
  },
  {
   "cell_type": "markdown",
   "metadata": {
    "slideshow": {
     "slide_type": "slide"
    }
   },
   "source": [
    "## Making the widget stateful"
   ]
  },
  {
   "cell_type": "markdown",
   "metadata": {},
   "source": [
    "There is not much that you can do with the above example that you can't do with the IPython display framework.  To change this, you will make the widget stateful.  Instead of displaying a static \"hello world\" message, it will display a string set by the back end.  First you need to add a traitlet in the back end.  Use the name of `value` to stay consistent with the rest of the widget framework and to allow your widget to be used with interact."
   ]
  },
  {
   "cell_type": "code",
   "execution_count": 7,
   "metadata": {
    "collapsed": false
   },
   "outputs": [],
   "source": [
    "class HelloWidget(widgets.DOMWidget):\n",
    "    _view_name = Unicode('HelloView').tag(sync=True)\n",
    "    _view_module = Unicode('hello').tag(sync=True)\n",
    "    value = Unicode('Hello World!').tag(sync=True)"
   ]
  },
  {
   "cell_type": "markdown",
   "metadata": {
    "slideshow": {
     "slide_type": "slide"
    }
   },
   "source": [
    "### Accessing the model from the view"
   ]
  },
  {
   "cell_type": "markdown",
   "metadata": {},
   "source": [
    "To access the model associate with a view instance, use the `model` property of the view.  `get` and `set` methods are used to interact with the Backbone model.  `get` is trivial, however you have to be careful when using `set`.  After calling the model `set` you need call the view's `touch` method.  This associates the `set` operation with a particular view so output will be routed to the correct cell.  The model also has an `on` method which allows you to listen to events triggered by the model (like value changes)."
   ]
  },
  {
   "cell_type": "markdown",
   "metadata": {
    "slideshow": {
     "slide_type": "slide"
    }
   },
   "source": [
    "### Rendering model contents"
   ]
  },
  {
   "cell_type": "markdown",
   "metadata": {},
   "source": [
    "By replacing the string literal with a call to `model.get`, the view will now display the value of the back end upon display.  However, it will not update itself to a new value when the value changes."
   ]
  },
  {
   "cell_type": "code",
   "execution_count": 8,
   "metadata": {
    "collapsed": false
   },
   "outputs": [
    {
     "data": {
      "application/javascript": [
       "require.undef('hello');\n",
       "\n",
       "define('hello', [\"jupyter-js-widgets\"], function(widgets) {\n",
       "    \n",
       "    var HelloView = widgets.DOMWidgetView.extend({\n",
       "        \n",
       "        render: function() { \n",
       "            this.$el.text(this.model.get('value')); \n",
       "        },\n",
       "    });\n",
       "    \n",
       "    return {\n",
       "        HelloView : HelloView\n",
       "    };\n",
       "});"
      ],
      "text/plain": [
       "<IPython.core.display.Javascript object>"
      ]
     },
     "metadata": {},
     "output_type": "display_data"
    }
   ],
   "source": [
    "%%javascript\n",
    "require.undef('hello');\n",
    "\n",
    "define('hello', [\"jupyter-js-widgets\"], function(widgets) {\n",
    "    \n",
    "    var HelloView = widgets.DOMWidgetView.extend({\n",
    "        \n",
    "        render: function() { \n",
    "            this.$el.text(this.model.get('value')); \n",
    "        },\n",
    "    });\n",
    "    \n",
    "    return {\n",
    "        HelloView : HelloView\n",
    "    };\n",
    "});"
   ]
  },
  {
   "cell_type": "markdown",
   "metadata": {
    "slideshow": {
     "slide_type": "slide"
    }
   },
   "source": [
    "### Dynamic updates"
   ]
  },
  {
   "cell_type": "markdown",
   "metadata": {},
   "source": [
    "To get the view to update itself dynamically, register a function to update the view's value when the model's `value` property changes.  This can be done using the `model.on` method.  The `on` method takes three parameters, an event name, callback handle, and callback context.   The Backbone event named `change` will fire whenever the model changes.  By appending `:value` to it, you tell Backbone to only listen to the change event of the `value` property (as seen below)."
   ]
  },
  {
   "cell_type": "code",
   "execution_count": 9,
   "metadata": {
    "collapsed": false
   },
   "outputs": [
    {
     "data": {
      "application/javascript": [
       "require.undef('hello');\n",
       "\n",
       "define('hello', [\"jupyter-js-widgets\"], function(widgets) {\n",
       "    \n",
       "    var HelloView = widgets.DOMWidgetView.extend({\n",
       "        \n",
       "        render: function() { \n",
       "            this.value_changed();\n",
       "            this.model.on('change:value', this.value_changed, this);\n",
       "        },\n",
       "        \n",
       "        value_changed: function() {\n",
       "            this.$el.text(this.model.get('value')); \n",
       "        },\n",
       "    });\n",
       "    \n",
       "    return {\n",
       "        HelloView : HelloView\n",
       "    };\n",
       "});"
      ],
      "text/plain": [
       "<IPython.core.display.Javascript object>"
      ]
     },
     "metadata": {},
     "output_type": "display_data"
    }
   ],
   "source": [
    "%%javascript\n",
    "require.undef('hello');\n",
    "\n",
    "define('hello', [\"jupyter-js-widgets\"], function(widgets) {\n",
    "    \n",
    "    var HelloView = widgets.DOMWidgetView.extend({\n",
    "        \n",
    "        render: function() { \n",
    "            this.value_changed();\n",
    "            this.model.on('change:value', this.value_changed, this);\n",
    "        },\n",
    "        \n",
    "        value_changed: function() {\n",
    "            this.$el.text(this.model.get('value')); \n",
    "        },\n",
    "    });\n",
    "    \n",
    "    return {\n",
    "        HelloView : HelloView\n",
    "    };\n",
    "});"
   ]
  },
  {
   "cell_type": "markdown",
   "metadata": {
    "slideshow": {
     "slide_type": "slide"
    }
   },
   "source": [
    "## Test"
   ]
  },
  {
   "cell_type": "code",
   "execution_count": 10,
   "metadata": {
    "collapsed": false
   },
   "outputs": [
    {
     "data": {
      "image/png": "[encoded data removed]",
      "text/html": [
       "<img src=data:image/png;base64,iVBORw0KGgoAAAANSUhEUgAAA9oAAAAfCAYAAAAY2rXdAAAD5ElEQVR4Xu3dP6jNYRzH8XuTTfmzUTJICRkMsqhrsRn9SclRGIjEIAur8meRP1lkIJMSMliuoiSTwaDULUkxoAyUweep39mO4Xf6Tr9et9796nae5/S8epZv53bu7IwfAgQIECBAgAABAgQIECBAoExgtmwnGxEgQIAAAQIECBAgQIAAAQIzBm2XgAABAgQIECBAgAABAgQIFAoYtAsxbUWAAAECBAgQIECAAAECBAza7gABAgQIECBAgAABAgQIECgUMGgXYtqKAAECBAgQIECAAAECBAgYtN0BAgQIECBAgAABAgQIECBQKGDQLsS0FQECBAgQIECAAAECBAgQMGi7AwQIECBAgAABAgQIECBAoFDAoF2IaSsCBAgQIECAAAECBAgQIGDQdgcIECBAgAABAgQIECBAgEChwHjQ3pw9l6cXU+59IuuuTbnWMgIECBAgQIAAAQIECBAgMBiBNmgv7QbsU3nOT3GyUdYcTDumWGsJAQIECBAgQIAAAQIECBAYlEAbtI+ky+lpep7upC1pV9qYFqdD6Ue6kH6lPelxupfaJ9ntE/H76Xr6NCghhyFAgAABAgQIECBAgAABAj0Exn86vpA1ozSflqSb6UC3z6s8X6eHaW86mVZ0r7/aPdvauR7v66UECBAgQIAAAQIECBAgQGCQApMG7d056eH0rDvxpjy/p/bpdRu6z6VbaVn6atAe5L1wKAIECBAgQIAAAQIECBCYUmDSoH0me61NxybsOcrvrqSfaV96Y9CeUt4yAgQIECBAgAABAgQIEBikwKRBe39OejGtS3+6U2/L83NX+yT7dtrQ1Ybv1twghRyKAAECBAgQIECAAAECBAj0EBgP2h+y5mx6n76lj+ltupTWpL/pS1qU2pemrU7ti9PWpzaYt7Vb08q00OP9vZQAAQIECBAgQIAAAQIECAxKYDxon8+pjqbj6VHanto3iLeB+m46nXamB+lGat9E/iS1/7u9Kr1M71L7c/LfgxJyGAIECBAgQIAAAQIECBAg0ENgPGj3WOKlBAgQIECAAAECBAgQIECAwP8EDNruBgECBAgQIECAAAECBAgQKBQwaBdi2ooAAQIECBAgQIAAAQIECBi03QECBAgQIECAAAECBAgQIFAoYNAuxLQVAQIECBAgQIAAAQIECBAwaLsDBAgQIECAAAECBAgQIECgUMCgXYhpKwIECBAgQIAAAQIECBAgYNB2BwgQIECAAAECBAgQIECAQKGAQbsQ01YECBAgQIAAAQIECBAgQMCg7Q4QIECAAAECBAgQIECAAIFCAYN2IaatCBAgQIAAAQIECBAgQIDAP+MSRSA4tnQ5AAAAAElFTkSuQmCC class=\"jupyter-widget\">\n",
       "<script type=\"application/vnd.jupyter-embedded-widgets\">[{},{\"_view_name\":\"HelloView\",\"_view_module\":\"hello\",\"layout\":\"IPY_MODEL_4974d5af185145b3930036f887a4adc5\",\"_model_name\":\"DOMWidgetModel\",\"value\":\"test\"}]</script>"
      ]
     },
     "metadata": {
      "isWidgetSnapshot": true
     },
     "output_type": "display_data"
    }
   ],
   "source": [
    "w = HelloWidget()\n",
    "w"
   ]
  },
  {
   "cell_type": "code",
   "execution_count": 11,
   "metadata": {
    "collapsed": false
   },
   "outputs": [],
   "source": [
    "w.value = 'test'"
   ]
  },
  {
   "cell_type": "markdown",
   "metadata": {
    "slideshow": {
     "slide_type": "slide"
    }
   },
   "source": [
    "# Finishing"
   ]
  },
  {
   "cell_type": "markdown",
   "metadata": {},
   "source": [
    "## Bidirectional communication"
   ]
  },
  {
   "cell_type": "markdown",
   "metadata": {},
   "source": [
    "The examples above dump the value directly into the DOM.  There is no way for you to interact with this dumped data in the front end.  To create an example that accepts input, you will have to do something more than blindly dumping the contents of value into the DOM.  In this part of the tutorial, you will use a jQuery spinner to display and accept input in the front end."
   ]
  },
  {
   "cell_type": "markdown",
   "metadata": {
    "slideshow": {
     "slide_type": "slide"
    }
   },
   "source": [
    "### Update the Python code"
   ]
  },
  {
   "cell_type": "markdown",
   "metadata": {},
   "source": [
    "You will need to change the type of the value traitlet to `Int`.  It also makes sense to change the name of the widget to something more appropriate, like `SpinnerWidget`."
   ]
  },
  {
   "cell_type": "code",
   "execution_count": 12,
   "metadata": {
    "collapsed": false
   },
   "outputs": [],
   "source": [
    "from traitlets import CInt\n",
    "\n",
    "\n",
    "class SpinnerWidget(widgets.DOMWidget):\n",
    "    _view_name = Unicode('SpinnerView').tag(sync=True)\n",
    "    _view_module = Unicode('spinner').tag(sync=True)\n",
    "    value = CInt().tag(sync=True)"
   ]
  },
  {
   "cell_type": "markdown",
   "metadata": {
    "slideshow": {
     "slide_type": "slide"
    }
   },
   "source": [
    "### Updating the Javascript code"
   ]
  },
  {
   "cell_type": "markdown",
   "metadata": {},
   "source": [
    "The [jQuery docs for the spinner control](https://jqueryui.com/spinner/) say to use `.spinner` to create a spinner in an element.  Calling `.spinner` on `$el` will create a spinner inside `$el`.  Make sure to update the widget name here too so it's the same as `_view_name` in the back end."
   ]
  },
  {
   "cell_type": "code",
   "execution_count": 13,
   "metadata": {
    "collapsed": false
   },
   "outputs": [
    {
     "data": {
      "application/javascript": [
       "define('spinner', [\"jupyter-js-widgets\"], function(widgets) {\n",
       "    \n",
       "    var SpinnerView = widgets.DOMWidgetView.extend({\n",
       "        \n",
       "        render: function() { \n",
       "            \n",
       "            // jQuery code to create a spinner and append it to $el\n",
       "            this.$input = $('<input />');\n",
       "            this.$el.append(this.$input);\n",
       "            this.$spinner = this.$input.spinner({\n",
       "                change: function( event, ui ) {}\n",
       "            });\n",
       "            \n",
       "            this.value_changed();\n",
       "            this.model.on('change:value', this.value_changed, this);\n",
       "        },\n",
       "        \n",
       "        value_changed: function() {\n",
       "            \n",
       "        },\n",
       "    });\n",
       "    \n",
       "    return {\n",
       "        SpinnerView: SpinnerView\n",
       "    };\n",
       "});"
      ],
      "text/plain": [
       "<IPython.core.display.Javascript object>"
      ]
     },
     "metadata": {},
     "output_type": "display_data"
    }
   ],
   "source": [
    "%%javascript\n",
    "define('spinner', [\"jupyter-js-widgets\"], function(widgets) {\n",
    "    \n",
    "    var SpinnerView = widgets.DOMWidgetView.extend({\n",
    "        \n",
    "        render: function() { \n",
    "            \n",
    "            // jQuery code to create a spinner and append it to $el\n",
    "            this.$input = $('<input />');\n",
    "            this.$el.append(this.$input);\n",
    "            this.$spinner = this.$input.spinner({\n",
    "                change: function( event, ui ) {}\n",
    "            });\n",
    "            \n",
    "            this.value_changed();\n",
    "            this.model.on('change:value', this.value_changed, this);\n",
    "        },\n",
    "        \n",
    "        value_changed: function() {\n",
    "            \n",
    "        },\n",
    "    });\n",
    "    \n",
    "    return {\n",
    "        SpinnerView: SpinnerView\n",
    "    };\n",
    "});"
   ]
  },
  {
   "cell_type": "markdown",
   "metadata": {
    "slideshow": {
     "slide_type": "slide"
    }
   },
   "source": [
    "### Getting and setting the value"
   ]
  },
  {
   "cell_type": "markdown",
   "metadata": {},
   "source": [
    "To set the value of the spinner on update from the back end, you need to use jQuery's `spinner` API.  `spinner.spinner('value', new)` will set the value of the spinner.  Add that code to the `value_changed` method to make the spinner update with the value stored in the back end.  Using jQuery's spinner API, you can add a function to handle the spinner `change` event by passing it in when constructing the spinner.  Inside the `change` event, call `model.set` to set the value and then `touch` to inform the framework that this view was the view that caused the change to the model.  Note: The `var that = this;` is a JavaScript trick to pass the current context into closures."
   ]
  },
  {
   "cell_type": "code",
   "execution_count": 14,
   "metadata": {
    "collapsed": false
   },
   "outputs": [
    {
     "data": {
      "application/javascript": [
       "requirejs.undef('spinner');\n",
       "\n",
       "define('spinner', [\"jupyter-js-widgets\"], function(widgets) {\n",
       "\n",
       "    var SpinnerView = widgets.DOMWidgetView.extend({\n",
       "        render: function() { \n",
       "\n",
       "            var that = this;\n",
       "            this.$input = $('<input />');\n",
       "            this.$el.append(this.$input);\n",
       "            this.$spinner = this.$input.spinner({\n",
       "                change: function( event, ui ) {\n",
       "                    that.handle_spin(that.$spinner.spinner('value'));\n",
       "                },\n",
       "                spin: function( event, ui ) {\n",
       "                    //ui.value is the new value of the spinner\n",
       "                    that.handle_spin(ui.value);\n",
       "                }\n",
       "            });\n",
       "            \n",
       "            this.value_changed();\n",
       "            this.model.on('change:value', this.value_changed, this);\n",
       "        },\n",
       "        \n",
       "        value_changed: function() {\n",
       "            this.$spinner.spinner('value', this.model.get('value'));\n",
       "        },\n",
       "        \n",
       "        handle_spin: function(value) {\n",
       "            this.model.set('value', value);\n",
       "            this.touch();\n",
       "        },\n",
       "    });\n",
       "    \n",
       "    return {\n",
       "        SpinnerView: SpinnerView\n",
       "    };\n",
       "});"
      ],
      "text/plain": [
       "<IPython.core.display.Javascript object>"
      ]
     },
     "metadata": {},
     "output_type": "display_data"
    }
   ],
   "source": [
    "%%javascript\n",
    "requirejs.undef('spinner');\n",
    "\n",
    "define('spinner', [\"jupyter-js-widgets\"], function(widgets) {\n",
    "\n",
    "    var SpinnerView = widgets.DOMWidgetView.extend({\n",
    "        render: function() { \n",
    "\n",
    "            var that = this;\n",
    "            this.$input = $('<input />');\n",
    "            this.$el.append(this.$input);\n",
    "            this.$spinner = this.$input.spinner({\n",
    "                change: function( event, ui ) {\n",
    "                    that.handle_spin(that.$spinner.spinner('value'));\n",
    "                },\n",
    "                spin: function( event, ui ) {\n",
    "                    //ui.value is the new value of the spinner\n",
    "                    that.handle_spin(ui.value);\n",
    "                }\n",
    "            });\n",
    "            \n",
    "            this.value_changed();\n",
    "            this.model.on('change:value', this.value_changed, this);\n",
    "        },\n",
    "        \n",
    "        value_changed: function() {\n",
    "            this.$spinner.spinner('value', this.model.get('value'));\n",
    "        },\n",
    "        \n",
    "        handle_spin: function(value) {\n",
    "            this.model.set('value', value);\n",
    "            this.touch();\n",
    "        },\n",
    "    });\n",
    "    \n",
    "    return {\n",
    "        SpinnerView: SpinnerView\n",
    "    };\n",
    "});"
   ]
  },
  {
   "cell_type": "markdown",
   "metadata": {
    "slideshow": {
     "slide_type": "slide"
    }
   },
   "source": [
    "## Test"
   ]
  },
  {
   "cell_type": "code",
   "execution_count": 15,
   "metadata": {
    "collapsed": false
   },
   "outputs": [
    {
     "data": {
      "image/png": "[encoded data removed]",
      "text/html": [
       "<img src=data:image/png;base64,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 class=\"jupyter-widget\">\n",
       "<script type=\"application/vnd.jupyter-embedded-widgets\">[{},{\"_view_name\":\"SpinnerView\",\"_view_module\":\"spinner\",\"layout\":\"IPY_MODEL_fa2e2d9d3a464632854cdcbd414c287b\",\"_model_name\":\"DOMWidgetModel\",\"value\":20}]</script>"
      ]
     },
     "metadata": {
      "isWidgetSnapshot": true
     },
     "output_type": "display_data"
    }
   ],
   "source": [
    "w = SpinnerWidget(value=5)\n",
    "w"
   ]
  },
  {
   "cell_type": "code",
   "execution_count": 16,
   "metadata": {
    "collapsed": false
   },
   "outputs": [
    {
     "data": {
      "text/plain": [
       "5"
      ]
     },
     "execution_count": 16,
     "metadata": {},
     "output_type": "execute_result"
    }
   ],
   "source": [
    "w.value"
   ]
  },
  {
   "cell_type": "code",
   "execution_count": 17,
   "metadata": {
    "collapsed": false
   },
   "outputs": [],
   "source": [
    "w.value = 20"
   ]
  },
  {
   "cell_type": "markdown",
   "metadata": {},
   "source": [
    "Trying to use the spinner with another widget."
   ]
  },
  {
   "cell_type": "code",
   "execution_count": 18,
   "metadata": {
    "collapsed": false
   },
   "outputs": [
    {
     "data": {
      "image/png": "[encoded data removed]",
      "text/html": [
       "<img src=data:image/png;base64,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 class=\"jupyter-widget\">\n",
       "<script type=\"application/vnd.jupyter-embedded-widgets\">[{},{\"_view_name\":\"SpinnerView\",\"_view_module\":\"spinner\",\"layout\":\"IPY_MODEL_cd63e6867818448c80f46ea0bee738f7\",\"_model_name\":\"DOMWidgetModel\",\"value\":0},{},{\"layout\":\"IPY_MODEL_276f933d5abf450db27b05df6f872ccf\"}]</script>"
      ]
     },
     "metadata": {
      "isWidgetSnapshot": true
     },
     "output_type": "display_data"
    }
   ],
   "source": [
    "from IPython.display import display\n",
    "w1 = SpinnerWidget(value=0)\n",
    "w2 = widgets.IntSlider()\n",
    "display(w1,w2)\n",
    "\n",
    "from traitlets import link\n",
    "mylink = link((w1, 'value'), (w2, 'value'))"
   ]
  },
  {
   "cell_type": "markdown",
   "metadata": {},
   "source": [
    "[Index](Index.ipynb) - [Back](Widget Styling.ipynb)"
   ]
  }
 ],
 "metadata": {
  "kernelspec": {
   "display_name": "Python 3",
   "language": "python",
   "name": "python3"
  },
  "language_info": {
   "codemirror_mode": {
    "name": "ipython",
    "version": 3
   },
   "file_extension": ".py",
   "mimetype": "text/x-python",
   "name": "python",
   "nbconvert_exporter": "python",
   "pygments_lexer": "ipython3",
   "version": "3.4.3+"
  },
  "widgets": {
   "state": {
    "24b7216f3579457f8f2e82a43c79e2b8": {
     "views": [
      {
       "cell": {
        "cell_type": "code",
        "execution_count": 15,
        "metadata": {
         "collapsed": false,
         "trusted": true
        },
        "outputs": [
         {
          "data": {
           "image/png": "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",
           "text/html": "<img src=data:image/png;base64,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 class=\"jupyter-widget\">\n<script type=\"application/vnd.jupyter-embedded-widgets\">[{},{\"_view_name\":\"SpinnerView\",\"_view_module\":\"spinner\",\"layout\":\"IPY_MODEL_fa2e2d9d3a464632854cdcbd414c287b\",\"_model_name\":\"DOMWidgetModel\",\"value\":20}]</script>"
          },
          "metadata": {
           "isWidgetSnapshot": true
          },
          "output_type": "display_data"
         }
        ],
        "source": "w = SpinnerWidget(value=5)\nw"
       },
       "cell_index": 58,
       "root": true
      }
     ]
    },
    "276d0a28c7f548a2bbcb2c5ab3903a4c": {
     "views": [
      {
       "cell": {
        "cell_type": "code",
        "execution_count": 18,
        "metadata": {
         "collapsed": false,
         "trusted": true
        },
        "outputs": [
         {
          "data": {
           "image/png": "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",
           "text/html": "<img src=data:image/png;base64,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 class=\"jupyter-widget\">\n<script type=\"application/vnd.jupyter-embedded-widgets\">[{},{\"_view_name\":\"SpinnerView\",\"_view_module\":\"spinner\",\"layout\":\"IPY_MODEL_cd63e6867818448c80f46ea0bee738f7\",\"_model_name\":\"DOMWidgetModel\",\"value\":0},{},{\"layout\":\"IPY_MODEL_276f933d5abf450db27b05df6f872ccf\"}]</script>"
          },
          "metadata": {
           "isWidgetSnapshot": true
          },
          "output_type": "display_data"
         }
        ],
        "source": "from IPython.display import display\nw1 = SpinnerWidget(value=0)\nw2 = widgets.IntSlider()\ndisplay(w1,w2)\n\nfrom traitlets import link\nmylink = link((w1, 'value'), (w2, 'value'))"
       },
       "cell_index": 62,
       "root": true
      }
     ]
    },
    "276f933d5abf450db27b05df6f872ccf": {
     "views": []
    },
    "2c572f866c7a43388a2ff5bd8f46c5d6": {
     "views": [
      {
       "cell": {
        "cell_type": "code",
        "execution_count": 10,
        "metadata": {
         "collapsed": false,
         "trusted": true
        },
        "outputs": [
         {
          "data": {
           "image/png": "iVBORw0KGgoAAAANSUhEUgAAA9oAAAAfCAYAAAAY2rXdAAAD5ElEQVR4Xu3dP6jNYRzH8XuTTfmzUTJICRkMsqhrsRn9SclRGIjEIAur8meRP1lkIJMSMliuoiSTwaDULUkxoAyUweep39mO4Xf6Tr9et9796nae5/S8epZv53bu7IwfAgQIECBAgAABAgQIECBAoExgtmwnGxEgQIAAAQIECBAgQIAAAQIzBm2XgAABAgQIECBAgAABAgQIFAoYtAsxbUWAAAECBAgQIECAAAECBAza7gABAgQIECBAgAABAgQIECgUMGgXYtqKAAECBAgQIECAAAECBAgYtN0BAgQIECBAgAABAgQIECBQKGDQLsS0FQECBAgQIECAAAECBAgQMGi7AwQIECBAgAABAgQIECBAoFDAoF2IaSsCBAgQIECAAAECBAgQIGDQdgcIECBAgAABAgQIECBAgEChwHjQ3pw9l6cXU+59IuuuTbnWMgIECBAgQIAAAQIECBAgMBiBNmgv7QbsU3nOT3GyUdYcTDumWGsJAQIECBAgQIAAAQIECBAYlEAbtI+ky+lpep7upC1pV9qYFqdD6Ue6kH6lPelxupfaJ9ntE/H76Xr6NCghhyFAgAABAgQIECBAgAABAj0Exn86vpA1ozSflqSb6UC3z6s8X6eHaW86mVZ0r7/aPdvauR7v66UECBAgQIAAAQIECBAgQGCQApMG7d056eH0rDvxpjy/p/bpdRu6z6VbaVn6atAe5L1wKAIECBAgQIAAAQIECBCYUmDSoH0me61NxybsOcrvrqSfaV96Y9CeUt4yAgQIECBAgAABAgQIEBikwKRBe39OejGtS3+6U2/L83NX+yT7dtrQ1Ybv1twghRyKAAECBAgQIECAAAECBAj0EBgP2h+y5mx6n76lj+ltupTWpL/pS1qU2pemrU7ti9PWpzaYt7Vb08q00OP9vZQAAQIECBAgQIAAAQIECAxKYDxon8+pjqbj6VHanto3iLeB+m46nXamB+lGat9E/iS1/7u9Kr1M71L7c/LfgxJyGAIECBAgQIAAAQIECBAg0ENgPGj3WOKlBAgQIECAAAECBAgQIECAwP8EDNruBgECBAgQIECAAAECBAgQKBQwaBdi2ooAAQIECBAgQIAAAQIECBi03QECBAgQIECAAAECBAgQIFAoYNAuxLQVAQIECBAgQIAAAQIECBAwaLsDBAgQIECAAAECBAgQIECgUMCgXYhpKwIECBAgQIAAAQIECBAgYNB2BwgQIECAAAECBAgQIECAQKGAQbsQ01YECBAgQIAAAQIECBAgQMCg7Q4QIECAAAECBAgQIECAAIFCAYN2IaatCBAgQIAAAQIECBAgQIDAP+MSRSA4tnQ5AAAAAElFTkSuQmCC",
           "text/html": "<img src=data:image/png;base64,iVBORw0KGgoAAAANSUhEUgAAA9oAAAAfCAYAAAAY2rXdAAAD5ElEQVR4Xu3dP6jNYRzH8XuTTfmzUTJICRkMsqhrsRn9SclRGIjEIAur8meRP1lkIJMSMliuoiSTwaDULUkxoAyUweep39mO4Xf6Tr9et9796nae5/S8epZv53bu7IwfAgQIECBAgAABAgQIECBAoExgtmwnGxEgQIAAAQIECBAgQIAAAQIzBm2XgAABAgQIECBAgAABAgQIFAoYtAsxbUWAAAECBAgQIECAAAECBAza7gABAgQIECBAgAABAgQIECgUMGgXYtqKAAECBAgQIECAAAECBAgYtN0BAgQIECBAgAABAgQIECBQKGDQLsS0FQECBAgQIECAAAECBAgQMGi7AwQIECBAgAABAgQIECBAoFDAoF2IaSsCBAgQIECAAAECBAgQIGDQdgcIECBAgAABAgQIECBAgEChwHjQ3pw9l6cXU+59IuuuTbnWMgIECBAgQIAAAQIECBAgMBiBNmgv7QbsU3nOT3GyUdYcTDumWGsJAQIECBAgQIAAAQIECBAYlEAbtI+ky+lpep7upC1pV9qYFqdD6Ue6kH6lPelxupfaJ9ntE/H76Xr6NCghhyFAgAABAgQIECBAgAABAj0Exn86vpA1ozSflqSb6UC3z6s8X6eHaW86mVZ0r7/aPdvauR7v66UECBAgQIAAAQIECBAgQGCQApMG7d056eH0rDvxpjy/p/bpdRu6z6VbaVn6atAe5L1wKAIECBAgQIAAAQIECBCYUmDSoH0me61NxybsOcrvrqSfaV96Y9CeUt4yAgQIECBAgAABAgQIEBikwKRBe39OejGtS3+6U2/L83NX+yT7dtrQ1Ybv1twghRyKAAECBAgQIECAAAECBAj0EBgP2h+y5mx6n76lj+ltupTWpL/pS1qU2pemrU7ti9PWpzaYt7Vb08q00OP9vZQAAQIECBAgQIAAAQIECAxKYDxon8+pjqbj6VHanto3iLeB+m46nXamB+lGat9E/iS1/7u9Kr1M71L7c/LfgxJyGAIECBAgQIAAAQIECBAg0ENgPGj3WOKlBAgQIECAAAECBAgQIECAwP8EDNruBgECBAgQIECAAAECBAgQKBQwaBdi2ooAAQIECBAgQIAAAQIECBi03QECBAgQIECAAAECBAgQIFAoYNAuxLQVAQIECBAgQIAAAQIECBAwaLsDBAgQIECAAAECBAgQIECgUMCgXYhpKwIECBAgQIAAAQIECBAgYNB2BwgQIECAAAECBAgQIECAQKGAQbsQ01YECBAgQIAAAQIECBAgQMCg7Q4QIECAAAECBAgQIECAAIFCAYN2IaatCBAgQIAAAQIECBAgQIDAP+MSRSA4tnQ5AAAAAElFTkSuQmCC class=\"jupyter-widget\">\n<script type=\"application/vnd.jupyter-embedded-widgets\">[{},{\"_view_name\":\"HelloView\",\"_view_module\":\"hello\",\"layout\":\"IPY_MODEL_4974d5af185145b3930036f887a4adc5\",\"_model_name\":\"DOMWidgetModel\",\"value\":\"test\"}]</script>"
          },
          "metadata": {
           "isWidgetSnapshot": true
          },
          "output_type": "display_data"
         }
        ],
        "source": "w = HelloWidget()\nw"
       },
       "cell_index": 43,
       "root": true
      }
     ]
    },
    "4974d5af185145b3930036f887a4adc5": {
     "views": []
    },
    "5a052a410d614529bdabb7b9e6329229": {
     "views": [
      {
       "cell": {
        "cell_type": "code",
        "execution_count": 18,
        "metadata": {
         "collapsed": false,
         "trusted": true
        },
        "outputs": [
         {
          "data": {
           "image/png": "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",
           "text/html": "<img src=data:image/png;base64,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 class=\"jupyter-widget\">\n<script type=\"application/vnd.jupyter-embedded-widgets\">[{},{\"_view_name\":\"SpinnerView\",\"_view_module\":\"spinner\",\"layout\":\"IPY_MODEL_cd63e6867818448c80f46ea0bee738f7\",\"_model_name\":\"DOMWidgetModel\",\"value\":0},{},{\"layout\":\"IPY_MODEL_276f933d5abf450db27b05df6f872ccf\"}]</script>"
          },
          "metadata": {
           "isWidgetSnapshot": true
          },
          "output_type": "display_data"
         }
        ],
        "source": "from IPython.display import display\nw1 = SpinnerWidget(value=0)\nw2 = widgets.IntSlider()\ndisplay(w1,w2)\n\nfrom traitlets import link\nmylink = link((w1, 'value'), (w2, 'value'))"
       },
       "cell_index": 62,
       "root": true
      }
     ]
    },
    "759b7842d18743b7af0691f02c7d0f1e": {
     "views": []
    },
    "cd63e6867818448c80f46ea0bee738f7": {
     "views": []
    },
    "ece94983deb94b7dbcf229aa528f67f8": {
     "views": [
      {
       "cell": {
        "cell_type": "code",
        "execution_count": 6,
        "metadata": {
         "collapsed": false,
         "trusted": true
        },
        "outputs": [
         {
          "data": {
           "image/png": "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",
           "text/html": "<img src=data:image/png;base64,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 class=\"jupyter-widget\">\n<script type=\"application/vnd.jupyter-embedded-widgets\">[{},{\"_view_name\":\"HelloView\",\"_view_module\":\"hello\",\"layout\":\"IPY_MODEL_759b7842d18743b7af0691f02c7d0f1e\",\"_model_name\":\"DOMWidgetModel\"}]</script>"
          },
          "metadata": {
           "isWidgetSnapshot": true
          },
          "output_type": "display_data"
         }
        ],
        "source": "HelloWidget()"
       },
       "cell_index": 30,
       "root": true
      }
     ]
    },
    "fa2e2d9d3a464632854cdcbd414c287b": {
     "views": []
    }
   },
   "version": "0.0.1"
  }
 },
 "nbformat": 4,
 "nbformat_minor": 1
}
