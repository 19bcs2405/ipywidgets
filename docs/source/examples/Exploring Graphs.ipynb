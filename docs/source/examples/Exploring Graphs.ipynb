{
 "cells": [
  {
   "cell_type": "markdown",
   "metadata": {
    "deletable": true,
    "editable": true
   },
   "source": [
    "## Explore Random Graphs Using NetworkX"
   ]
  },
  {
   "cell_type": "markdown",
   "metadata": {
    "deletable": true,
    "editable": true
   },
   "source": [
    "In this example, we build a simple UI for exploring random graphs with [NetworkX](http://networkx.github.io/)."
   ]
  },
  {
   "cell_type": "code",
   "execution_count": 1,
   "metadata": {
    "collapsed": true,
    "deletable": true,
    "editable": true
   },
   "outputs": [],
   "source": [
    "from ipywidgets import interact"
   ]
  },
  {
   "cell_type": "code",
   "execution_count": 2,
   "metadata": {
    "collapsed": true,
    "deletable": true,
    "editable": true
   },
   "outputs": [],
   "source": [
    "%matplotlib inline\n",
    "import matplotlib.pyplot as plt"
   ]
  },
  {
   "cell_type": "code",
   "execution_count": 3,
   "metadata": {
    "collapsed": true,
    "deletable": true,
    "editable": true
   },
   "outputs": [],
   "source": [
    "import networkx as nx"
   ]
  },
  {
   "cell_type": "code",
   "execution_count": 4,
   "metadata": {
    "collapsed": true,
    "deletable": true,
    "editable": true
   },
   "outputs": [],
   "source": [
    "# wrap a few graph generation functions so they have the same signature\n",
    "\n",
    "def random_lobster(n, m, k, p):\n",
    "    return nx.random_lobster(n, p, p / m)\n",
    "\n",
    "def powerlaw_cluster(n, m, k, p):\n",
    "    return nx.powerlaw_cluster_graph(n, m, p)\n",
    "\n",
    "def erdos_renyi(n, m, k, p):\n",
    "    return nx.erdos_renyi_graph(n, p)\n",
    "\n",
    "def newman_watts_strogatz(n, m, k, p):\n",
    "    return nx.newman_watts_strogatz_graph(n, k, p)\n",
    "\n",
    "def plot_random_graph(n, m, k, p, generator):\n",
    "    g = generator(n, m, k, p)\n",
    "    nx.draw(g)\n",
    "    plt.show()"
   ]
  },
  {
   "cell_type": "code",
   "execution_count": 5,
   "metadata": {
    "collapsed": false,
    "deletable": true,
    "editable": true
   },
   "outputs": [
    {
     "data": {
      "application/vnd.jupyter.widget-view+json": {
       "model_id": "a25884d4ecaf4ece81f0bda2832675c9"
      }
     },
     "metadata": {},
     "output_type": "display_data"
    }
   ],
   "source": [
    "interact(plot_random_graph, n=(2,30), m=(1,10), k=(1,10), p=(0.0, 1.0, 0.001),\n",
    "        generator={'lobster': random_lobster,\n",
    "                   'power law': powerlaw_cluster,\n",
    "                   'Newman-Watts-Strogatz': newman_watts_strogatz,\n",
    "                   u'Erdős-Rényi': erdos_renyi,\n",
    "                   });"
   ]
  }
 ],
 "metadata": {
  "kernelspec": {
   "display_name": "Python 3",
   "language": "python",
   "name": "python3"
  },
  "language_info": {
   "codemirror_mode": {
    "name": "ipython",
    "version": 3
   },
   "file_extension": ".py",
   "mimetype": "text/x-python",
   "name": "python",
   "nbconvert_exporter": "python",
   "pygments_lexer": "ipython3",
   "version": "3.5.2"
  },
  "widgets": {
   "application/vnd.jupyter.widget-state+json": {
    "state": {
     "01b3c99f7200448d9dfe2b8be139f961": {
      "model_module": "jupyter-js-widgets",
      "model_module_version": "*",
      "model_name": "LayoutModel",
      "state": {}
     },
     "04fd69466dc3439e9afdc1caee376980": {
      "model_module": "jupyter-js-widgets",
      "model_module_version": "*",
      "model_name": "LayoutModel",
      "state": {}
     },
     "0dc85f2ece1a47cc9ccd4e6c8d906568": {
      "model_module": "jupyter-js-widgets",
      "model_module_version": "*",
      "model_name": "IntSliderModel",
      "state": {
       "description": "k",
       "layout": "IPY_MODEL_04fd69466dc3439e9afdc1caee376980",
       "max": 10,
       "min": 1,
       "value": 5
      }
     },
     "1611613184fa49c1b0b66d91e12cfb77": {
      "model_module": "jupyter-js-widgets",
      "model_module_version": "*",
      "model_name": "IntSliderModel",
      "state": {
       "description": "n",
       "layout": "IPY_MODEL_6329e3bdfbcf40fe8aa437c8ffe5390a",
       "max": 30,
       "min": 2,
       "value": 16
      }
     },
     "225ea8bcbd934cef83fe001db5ce0a3d": {
      "model_module": "jupyter-js-widgets",
      "model_module_version": "*",
      "model_name": "LayoutModel",
      "state": {}
     },
     "2f0736f911c24ed899f46506d9c85670": {
      "model_module": "jupyter-js-widgets",
      "model_module_version": "*",
      "model_name": "DropdownModel",
      "state": {
       "_options_labels": [
        "power law",
        "Erdős-Rényi",
        "lobster",
        "Newman-Watts-Strogatz"
       ],
       "description": "generator",
       "layout": "IPY_MODEL_7ba434241374460b910ef601ea30daea",
       "value": "power law"
      }
     },
     "3d9c5dbc96b746b39cf78a670aa24fed": {
      "model_module": "jupyter-js-widgets",
      "model_module_version": "*",
      "model_name": "LayoutModel",
      "state": {}
     },
     "40d4ed183de2498aa32c22113e9481d5": {
      "model_module": "jupyter-js-widgets",
      "model_module_version": "*",
      "model_name": "LayoutModel",
      "state": {}
     },
     "4fa8503e86454edc9c337a86ad39637c": {
      "model_module": "jupyter-js-widgets",
      "model_module_version": "*",
      "model_name": "FloatSliderModel",
      "state": {
       "description": "p",
       "layout": "IPY_MODEL_5d214743a5224ff1b2ab17fdf6479a62",
       "max": 1,
       "step": 0.001,
       "value": 0.5
      }
     },
     "5d214743a5224ff1b2ab17fdf6479a62": {
      "model_module": "jupyter-js-widgets",
      "model_module_version": "*",
      "model_name": "LayoutModel",
      "state": {}
     },
     "6329e3bdfbcf40fe8aa437c8ffe5390a": {
      "model_module": "jupyter-js-widgets",
      "model_module_version": "*",
      "model_name": "LayoutModel",
      "state": {}
     },
     "694638046eec415db55d05dc239cc61e": {
      "model_module": "jupyter-js-widgets",
      "model_module_version": "*",
      "model_name": "IntSliderModel",
      "state": {
       "description": "m",
       "layout": "IPY_MODEL_e40f51c34c0d4f73831f0e23c1bde173",
       "max": 10,
       "min": 1,
       "value": 5
      }
     },
     "73134a61bb5243fea300d9c6fb04c26a": {
      "model_module": "jupyter-js-widgets",
      "model_module_version": "*",
      "model_name": "IntSliderModel",
      "state": {
       "description": "n",
       "layout": "IPY_MODEL_01b3c99f7200448d9dfe2b8be139f961",
       "max": 30,
       "min": 2,
       "value": 16
      }
     },
     "7ba434241374460b910ef601ea30daea": {
      "model_module": "jupyter-js-widgets",
      "model_module_version": "*",
      "model_name": "LayoutModel",
      "state": {}
     },
     "88c42b174baf42c0b4b3d029fdd9e441": {
      "model_module": "jupyter-js-widgets",
      "model_module_version": "*",
      "model_name": "BoxModel",
      "state": {
       "_dom_classes": [
        "widget-interact"
       ],
       "children": [
        "IPY_MODEL_1611613184fa49c1b0b66d91e12cfb77",
        "IPY_MODEL_694638046eec415db55d05dc239cc61e",
        "IPY_MODEL_0dc85f2ece1a47cc9ccd4e6c8d906568",
        "IPY_MODEL_4fa8503e86454edc9c337a86ad39637c",
        "IPY_MODEL_95f0235728de4d1784109408b0620af9",
        "IPY_MODEL_a2e249dc366b4c4fa81da1728973b7e9"
       ],
       "layout": "IPY_MODEL_a2f128356a90415a9e22666715140104"
      }
     },
     "947d6c55221a4a79842d5f20a6962d23": {
      "model_module": "jupyter-js-widgets",
      "model_module_version": "*",
      "model_name": "LayoutModel",
      "state": {}
     },
     "95f0235728de4d1784109408b0620af9": {
      "model_module": "jupyter-js-widgets",
      "model_module_version": "*",
      "model_name": "DropdownModel",
      "state": {
       "_options_labels": [
        "Erdős-Rényi",
        "power law",
        "Newman-Watts-Strogatz",
        "lobster"
       ],
       "description": "generator",
       "layout": "IPY_MODEL_947d6c55221a4a79842d5f20a6962d23",
       "value": "Erdős-Rényi"
      }
     },
     "987562e0d8e846f68a0ac28565e689ab": {
      "model_module": "jupyter-js-widgets",
      "model_module_version": "*",
      "model_name": "BoxModel",
      "state": {
       "_dom_classes": [
        "widget-interact"
       ],
       "children": [
        "IPY_MODEL_73134a61bb5243fea300d9c6fb04c26a",
        "IPY_MODEL_f34868c506d74ac2b27e8854fced6cdd",
        "IPY_MODEL_c13921f061a64f22a96c26ace06c28cc",
        "IPY_MODEL_a74c3356af3f41fe887a0a4970e96387",
        "IPY_MODEL_2f0736f911c24ed899f46506d9c85670",
        "IPY_MODEL_f1dfc97b92774114bb161f85db39da8b"
       ],
       "layout": "IPY_MODEL_9c07063c1092485d8d75f795b630422e"
      }
     },
     "9c07063c1092485d8d75f795b630422e": {
      "model_module": "jupyter-js-widgets",
      "model_module_version": "*",
      "model_name": "LayoutModel",
      "state": {}
     },
     "a2e249dc366b4c4fa81da1728973b7e9": {
      "model_module": "jupyter-js-widgets",
      "model_module_version": "*",
      "model_name": "OutputModel",
      "state": {
       "_dom_classes": [],
       "_model_module": "jupyter-js-widgets",
       "_model_module_version": "*",
       "_view_module": "jupyter-js-widgets",
       "_view_module_version": "*",
       "layout": "IPY_MODEL_40d4ed183de2498aa32c22113e9481d5",
       "msg_id": "",
       "msg_throttle": 1
      }
     },
     "a2f128356a90415a9e22666715140104": {
      "model_module": "jupyter-js-widgets",
      "model_module_version": "*",
      "model_name": "LayoutModel",
      "state": {}
     },
     "a74c3356af3f41fe887a0a4970e96387": {
      "model_module": "jupyter-js-widgets",
      "model_module_version": "*",
      "model_name": "FloatSliderModel",
      "state": {
       "description": "p",
       "layout": "IPY_MODEL_225ea8bcbd934cef83fe001db5ce0a3d",
       "max": 1,
       "step": 0.001,
       "value": 0.5
      }
     },
     "c13921f061a64f22a96c26ace06c28cc": {
      "model_module": "jupyter-js-widgets",
      "model_module_version": "*",
      "model_name": "IntSliderModel",
      "state": {
       "description": "k",
       "layout": "IPY_MODEL_3d9c5dbc96b746b39cf78a670aa24fed",
       "max": 10,
       "min": 1,
       "value": 5
      }
     },
     "d9e55b5408dd4bf588e114be1c10de56": {
      "model_module": "jupyter-js-widgets",
      "model_module_version": "*",
      "model_name": "LayoutModel",
      "state": {}
     },
     "d9f3661a77224ab580a56473b087c636": {
      "model_module": "jupyter-js-widgets",
      "model_module_version": "*",
      "model_name": "LayoutModel",
      "state": {}
     },
     "e40f51c34c0d4f73831f0e23c1bde173": {
      "model_module": "jupyter-js-widgets",
      "model_module_version": "*",
      "model_name": "LayoutModel",
      "state": {}
     },
     "f1dfc97b92774114bb161f85db39da8b": {
      "model_module": "jupyter-js-widgets",
      "model_module_version": "*",
      "model_name": "OutputModel",
      "state": {
       "_dom_classes": [],
       "_model_module": "jupyter-js-widgets",
       "_model_module_version": "*",
       "_view_module": "jupyter-js-widgets",
       "_view_module_version": "*",
       "layout": "IPY_MODEL_d9f3661a77224ab580a56473b087c636",
       "msg_id": "",
       "msg_throttle": 1
      }
     },
     "f34868c506d74ac2b27e8854fced6cdd": {
      "model_module": "jupyter-js-widgets",
      "model_module_version": "*",
      "model_name": "IntSliderModel",
      "state": {
       "description": "m",
       "layout": "IPY_MODEL_d9e55b5408dd4bf588e114be1c10de56",
       "max": 10,
       "min": 1,
       "value": 5
      }
     }
    },
    "version_major": 1,
    "version_minor": 0
   }
  }
 },
 "nbformat": 4,
 "nbformat_minor": 1
}
