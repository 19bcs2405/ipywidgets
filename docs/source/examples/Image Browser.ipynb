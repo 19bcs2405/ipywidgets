{
 "cells": [
  {
   "cell_type": "markdown",
   "metadata": {
    "deletable": true,
    "editable": true
   },
   "source": [
    "## Image Browser"
   ]
  },
  {
   "cell_type": "markdown",
   "metadata": {
    "deletable": true,
    "editable": true
   },
   "source": [
    "This example shows how to browse through a set of images with a slider."
   ]
  },
  {
   "cell_type": "code",
   "execution_count": 1,
   "metadata": {
    "collapsed": true,
    "deletable": true,
    "editable": true
   },
   "outputs": [],
   "source": [
    "%matplotlib inline\n",
    "import matplotlib.pyplot as plt"
   ]
  },
  {
   "cell_type": "code",
   "execution_count": 2,
   "metadata": {
    "collapsed": true,
    "deletable": true,
    "editable": true
   },
   "outputs": [],
   "source": [
    "from ipywidgets import interact"
   ]
  },
  {
   "cell_type": "code",
   "execution_count": 3,
   "metadata": {
    "collapsed": true,
    "deletable": true,
    "editable": true
   },
   "outputs": [],
   "source": [
    "from sklearn import datasets"
   ]
  },
  {
   "cell_type": "markdown",
   "metadata": {
    "deletable": true,
    "editable": true
   },
   "source": [
    "We will use the digits dataset from [scikit-learn](http://scikit-learn.org/stable/)."
   ]
  },
  {
   "cell_type": "code",
   "execution_count": 4,
   "metadata": {
    "collapsed": true,
    "deletable": true,
    "editable": true
   },
   "outputs": [],
   "source": [
    "digits = datasets.load_digits()"
   ]
  },
  {
   "cell_type": "code",
   "execution_count": 5,
   "metadata": {
    "collapsed": true,
    "deletable": true,
    "editable": true
   },
   "outputs": [],
   "source": [
    "def browse_images(digits):\n",
    "    n = len(digits.images)\n",
    "    def view_image(i):\n",
    "        plt.imshow(digits.images[i], cmap=plt.cm.gray_r, interpolation='nearest')\n",
    "        plt.title('Training: %s' % digits.target[i])\n",
    "        plt.show()\n",
    "    interact(view_image, i=(0,n-1))"
   ]
  },
  {
   "cell_type": "code",
   "execution_count": 6,
   "metadata": {
    "collapsed": false,
    "deletable": true,
    "editable": true
   },
   "outputs": [
    {
     "data": {
      "application/vnd.jupyter.widget-view+json": {
       "model_id": "edd1fafff4dd486b9b2f8f55f8006afc"
      }
     },
     "metadata": {},
     "output_type": "display_data"
    }
   ],
   "source": [
    "browse_images(digits)"
   ]
  }
 ],
 "metadata": {
  "kernelspec": {
   "display_name": "Python 3",
   "language": "python",
   "name": "python3"
  },
  "language_info": {
   "codemirror_mode": {
    "name": "ipython",
    "version": 3
   },
   "file_extension": ".py",
   "mimetype": "text/x-python",
   "name": "python",
   "nbconvert_exporter": "python",
   "pygments_lexer": "ipython3",
   "version": "3.5.2"
  },
  "widgets": {
   "application/vnd.jupyter.widget-state+json": {
    "state": {
     "3fc8e71777834b429db1f60b2cab71b4": {
      "model_module": "jupyter-js-widgets",
      "model_module_version": "*",
      "model_name": "LayoutModel",
      "state": {}
     },
     "479d5223082f48578c05126ef01f8888": {
      "model_module": "jupyter-js-widgets",
      "model_module_version": "*",
      "model_name": "BoxModel",
      "state": {
       "_dom_classes": [
        "widget-interact"
       ],
       "children": [
        "IPY_MODEL_dd3e8e6ac26e462784eb3c7e14a183f1",
        "IPY_MODEL_d0b4e921db5a4ec8afa4c5fed107d7b5"
       ],
       "layout": "IPY_MODEL_4e5841df05c447e69ac7b5e9477d0600"
      }
     },
     "4e5841df05c447e69ac7b5e9477d0600": {
      "model_module": "jupyter-js-widgets",
      "model_module_version": "*",
      "model_name": "LayoutModel",
      "state": {}
     },
     "d0b4e921db5a4ec8afa4c5fed107d7b5": {
      "model_module": "jupyter-js-widgets",
      "model_module_version": "*",
      "model_name": "OutputModel",
      "state": {
       "_dom_classes": [],
       "_model_module": "jupyter-js-widgets",
       "_model_module_version": "*",
       "_view_module": "jupyter-js-widgets",
       "_view_module_version": "*",
       "layout": "IPY_MODEL_3fc8e71777834b429db1f60b2cab71b4",
       "msg_id": "",
       "msg_throttle": 1
      }
     },
     "dd3e8e6ac26e462784eb3c7e14a183f1": {
      "model_module": "jupyter-js-widgets",
      "model_module_version": "*",
      "model_name": "IntSliderModel",
      "state": {
       "description": "i",
       "layout": "IPY_MODEL_e15d6ca0f26a49e49797aa607167e2f8",
       "max": 1796,
       "value": 898
      }
     },
     "e15d6ca0f26a49e49797aa607167e2f8": {
      "model_module": "jupyter-js-widgets",
      "model_module_version": "*",
      "model_name": "LayoutModel",
      "state": {}
     }
    },
    "version_major": 1,
    "version_minor": 0
   }
  }
 },
 "nbformat": 4,
 "nbformat_minor": 1
}
