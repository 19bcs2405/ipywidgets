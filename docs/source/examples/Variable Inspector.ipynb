{
 "cells": [
  {
   "cell_type": "markdown",
   "metadata": {},
   "source": [
    "# Variable Inspector Widget"
   ]
  },
  {
   "cell_type": "markdown",
   "metadata": {},
   "source": [
    "## A short example implementation"
   ]
  },
  {
   "cell_type": "markdown",
   "metadata": {},
   "source": [
    "This notebook demonstrates how one can use the widgets already built in to IPython to create a working variable inspector much like the ones seen in popular commercial scientific computing environments."
   ]
  },
  {
   "cell_type": "code",
   "execution_count": 1,
   "metadata": {},
   "outputs": [],
   "source": [
    "import ipywidgets as widgets # Loads the Widget framework.\n",
    "from IPython.core.magics.namespace import NamespaceMagics # Used to query namespace.\n",
    "\n",
    "# For this example, hide these names, just to avoid polluting the namespace further\n",
    "get_ipython().user_ns_hidden['widgets'] = widgets\n",
    "get_ipython().user_ns_hidden['NamespaceMagics'] = NamespaceMagics"
   ]
  },
  {
   "cell_type": "code",
   "execution_count": 2,
   "metadata": {},
   "outputs": [],
   "source": [
    "class VariableInspectorWindow(object):\n",
    "    instance = None\n",
    "    \n",
    "    def __init__(self, ipython):\n",
    "        \"\"\"Public constructor.\"\"\"\n",
    "        if VariableInspectorWindow.instance is not None:\n",
    "            raise Exception(\"\"\"Only one instance of the Variable Inspector can exist at a \n",
    "                time.  Call close() on the active instance before creating a new instance.\n",
    "                If you have lost the handle to the active instance, you can re-obtain it\n",
    "                via `VariableInspectorWindow.instance`.\"\"\")\n",
    "        \n",
    "        VariableInspectorWindow.instance = self\n",
    "        self.closed = False\n",
    "        self.namespace = NamespaceMagics()\n",
    "        self.namespace.shell = ipython.kernel.shell\n",
    "        \n",
    "        self._box = widgets.Box()\n",
    "        self._box._dom_classes = ['inspector']\n",
    "        self._box.background_color = '#fff'\n",
    "        self._box.border_color = '#ccc'\n",
    "        self._box.border_width = 1\n",
    "        self._box.border_radius = 5\n",
    "\n",
    "        self._modal_body = widgets.VBox()\n",
    "        self._modal_body.overflow_y = 'scroll'\n",
    "\n",
    "        self._modal_body_label = widgets.HTML(value = 'Not hooked')\n",
    "        self._modal_body.children = [self._modal_body_label]\n",
    "\n",
    "        self._box.children = [\n",
    "            self._modal_body, \n",
    "        ]\n",
    "        \n",
    "        self._ipython = ipython\n",
    "        self._ipython.events.register('post_run_cell', self._fill)\n",
    "        \n",
    "    def close(self):\n",
    "        \"\"\"Close and remove hooks.\"\"\"\n",
    "        if not self.closed:\n",
    "            self._ipython.events.unregister('post_run_cell', self._fill)\n",
    "            self._box.close()\n",
    "            self.closed = True\n",
    "            VariableInspectorWindow.instance = None\n",
    "\n",
    "    def _fill(self):\n",
    "        \"\"\"Fill self with variable information.\"\"\"\n",
    "        values = self.namespace.who_ls()\n",
    "        self._modal_body_label.value = '<table class=\"table table-bordered table-striped\"><tr><th>Name</th><th>Type</th><th>Value</th></tr><tr><td>' + \\\n",
    "            '</td></tr><tr><td>'.join(['{0}</td><td>{1}</td><td>{2}'.format(v, type(eval(v)).__name__, str(eval(v))) for v in values]) + \\\n",
    "            '</td></tr></table>'\n",
    "\n",
    "    def _ipython_display_(self):\n",
    "        \"\"\"Called when display() or pyout is used to display the Variable \n",
    "        Inspector.\"\"\"\n",
    "        self._box._ipython_display_()\n"
   ]
  },
  {
   "cell_type": "code",
   "execution_count": 3,
   "metadata": {},
   "outputs": [
    {
     "data": {
      "application/vnd.jupyter.widget-view+json": {
       "model_id": "8c01bf4230e7494099cd3f770c0f37ac"
      }
     },
     "metadata": {},
     "output_type": "display_data"
    }
   ],
   "source": [
    "inspector = VariableInspectorWindow(get_ipython())\n",
    "inspector"
   ]
  },
  {
   "cell_type": "markdown",
   "metadata": {},
   "source": [
    "Pop the inspector out of the widget area using Javascript.  To close the inspector, click the close button on the widget area that it was spawned from."
   ]
  },
  {
   "cell_type": "code",
   "execution_count": 4,
   "metadata": {},
   "outputs": [
    {
     "data": {
      "application/javascript": [
       "$('div.inspector')\n",
       "    .detach()\n",
       "    .prependTo($('body'))\n",
       "    .css({\n",
       "        'z-index': 999, \n",
       "        position: 'fixed',\n",
       "        'box-shadow': '5px 5px 12px -3px black',\n",
       "        opacity: 0.9\n",
       "    })\n",
       "    .draggable();"
      ],
      "text/plain": [
       "<IPython.core.display.Javascript object>"
      ]
     },
     "metadata": {},
     "output_type": "display_data"
    }
   ],
   "source": [
    "%%javascript\n",
    "$('div.inspector')\n",
    "    .detach()\n",
    "    .prependTo($('body'))\n",
    "    .css({\n",
    "        'z-index': 999, \n",
    "        position: 'fixed',\n",
    "        'box-shadow': '5px 5px 12px -3px black',\n",
    "        opacity: 0.9\n",
    "    })\n",
    "    .draggable();"
   ]
  },
  {
   "cell_type": "markdown",
   "metadata": {},
   "source": [
    "# Test"
   ]
  },
  {
   "cell_type": "code",
   "execution_count": 5,
   "metadata": {},
   "outputs": [],
   "source": [
    "a = 5"
   ]
  },
  {
   "cell_type": "code",
   "execution_count": 6,
   "metadata": {},
   "outputs": [],
   "source": [
    "b = 3.0"
   ]
  },
  {
   "cell_type": "code",
   "execution_count": 7,
   "metadata": {},
   "outputs": [],
   "source": [
    "c = a * b"
   ]
  },
  {
   "cell_type": "code",
   "execution_count": 8,
   "metadata": {},
   "outputs": [],
   "source": [
    "d = \"String\""
   ]
  },
  {
   "cell_type": "code",
   "execution_count": 9,
   "metadata": {},
   "outputs": [],
   "source": [
    "del b"
   ]
  },
  {
   "cell_type": "code",
   "execution_count": 10,
   "metadata": {},
   "outputs": [],
   "source": [
    "inspector.close()"
   ]
  }
 ],
 "metadata": {
  "kernelspec": {
   "display_name": "Python 3",
   "language": "python",
   "name": "python3"
  },
  "language_info": {
   "codemirror_mode": {
    "name": "ipython",
    "version": 3
   },
   "file_extension": ".py",
   "mimetype": "text/x-python",
   "name": "python",
   "nbconvert_exporter": "python",
   "pygments_lexer": "ipython3",
   "version": "3.5.2"
  },
  "widgets": {
   "application/vnd.jupyter.widget-state+json": {
    "state": {
     "2306cb706bf44e7990fd9828f593d436": {
      "model_module": "jupyter-js-widgets",
      "model_module_version": "*",
      "model_name": "LayoutModel",
      "state": {
       "_dom_classes": [],
       "_model_module": "jupyter-js-widgets",
       "_model_module_version": "*",
       "_model_name": "LayoutModel",
       "_view_module": "jupyter-js-widgets",
       "_view_module_version": "*",
       "_view_name": "LayoutView",
       "align_content": null,
       "align_items": null,
       "align_self": null,
       "border": null,
       "bottom": null,
       "display": null,
       "flex": null,
       "flex_flow": null,
       "height": null,
       "justify_content": null,
       "left": null,
       "margin": null,
       "max_height": null,
       "max_width": null,
       "min_height": null,
       "min_width": null,
       "msg_throttle": 1,
       "order": null,
       "overflow": null,
       "overflow_x": null,
       "overflow_y": null,
       "padding": null,
       "right": null,
       "top": null,
       "visibility": null,
       "width": null
      }
     },
     "445522c777574d698a0a636aa3033ee4": {
      "model_module": "jupyter-js-widgets",
      "model_module_version": "*",
      "model_name": "LayoutModel",
      "state": {
       "_dom_classes": [],
       "_model_module": "jupyter-js-widgets",
       "_model_module_version": "*",
       "_model_name": "LayoutModel",
       "_view_module": "jupyter-js-widgets",
       "_view_module_version": "*",
       "_view_name": "LayoutView",
       "align_content": null,
       "align_items": null,
       "align_self": null,
       "border": null,
       "bottom": null,
       "display": null,
       "flex": null,
       "flex_flow": null,
       "height": null,
       "justify_content": null,
       "left": null,
       "margin": null,
       "max_height": null,
       "max_width": null,
       "min_height": null,
       "min_width": null,
       "msg_throttle": 1,
       "order": null,
       "overflow": null,
       "overflow_x": null,
       "overflow_y": null,
       "padding": null,
       "right": null,
       "top": null,
       "visibility": null,
       "width": null
      }
     },
     "4cc7e173c0df4097930022b9a18e9a0b": {
      "model_module": "jupyter-js-widgets",
      "model_module_version": "*",
      "model_name": "HTMLModel",
      "state": {
       "_dom_classes": [],
       "_model_module": "jupyter-js-widgets",
       "_model_module_version": "*",
       "_model_name": "HTMLModel",
       "_view_module": "jupyter-js-widgets",
       "_view_module_version": "*",
       "_view_name": "HTMLView",
       "description": "",
       "disabled": false,
       "layout": "IPY_MODEL_2306cb706bf44e7990fd9828f593d436",
       "msg_throttle": 1,
       "placeholder": "​",
       "value": "<table class=\"table table-bordered table-striped\"><tr><th>Name</th><th>Type</th><th>Value</th></tr><tr><td>VariableInspectorWindow</td><td>type</td><td><class '__main__.VariableInspectorWindow'></td></tr><tr><td>a</td><td>int</td><td>5</td></tr><tr><td>c</td><td>float</td><td>15.0</td></tr><tr><td>d</td><td>str</td><td>String</td></tr><tr><td>inspector</td><td>VariableInspectorWindow</td><td><__main__.VariableInspectorWindow object at 0x108003470></td></tr></table>"
      }
     },
     "6b6b41a94f434c04b164d101575e32b4": {
      "model_module": "jupyter-js-widgets",
      "model_module_version": "*",
      "model_name": "LayoutModel",
      "state": {
       "_dom_classes": [],
       "_model_module": "jupyter-js-widgets",
       "_model_module_version": "*",
       "_model_name": "LayoutModel",
       "_view_module": "jupyter-js-widgets",
       "_view_module_version": "*",
       "_view_name": "LayoutView",
       "align_content": null,
       "align_items": null,
       "align_self": null,
       "border": null,
       "bottom": null,
       "display": null,
       "flex": null,
       "flex_flow": null,
       "height": null,
       "justify_content": null,
       "left": null,
       "margin": null,
       "max_height": null,
       "max_width": null,
       "min_height": null,
       "min_width": null,
       "msg_throttle": 1,
       "order": null,
       "overflow": null,
       "overflow_x": null,
       "overflow_y": null,
       "padding": null,
       "right": null,
       "top": null,
       "visibility": null,
       "width": null
      }
     },
     "e1f39a2b9833486692432d76a525770a": {
      "model_module": "jupyter-js-widgets",
      "model_module_version": "*",
      "model_name": "VBoxModel",
      "state": {
       "_dom_classes": [],
       "_model_module": "jupyter-js-widgets",
       "_model_module_version": "*",
       "_model_name": "VBoxModel",
       "_view_module": "jupyter-js-widgets",
       "_view_module_version": "*",
       "_view_name": "VBoxView",
       "box_style": "",
       "children": [
        "IPY_MODEL_4cc7e173c0df4097930022b9a18e9a0b"
       ],
       "layout": "IPY_MODEL_445522c777574d698a0a636aa3033ee4",
       "msg_throttle": 1,
       "overflow_x": "",
       "overflow_y": "scroll"
      }
     }
    },
    "version_major": 1,
    "version_minor": 0
   }
  }
 },
 "nbformat": 4,
 "nbformat_minor": 1
}
