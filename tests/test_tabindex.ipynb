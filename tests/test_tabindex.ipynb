{
 "cells": [
  {
   "cell_type": "code",
   "execution_count": null,
   "metadata": {},
   "outputs": [],
   "source": [
    "from ipywidgets import *"
   ]
  },
  {
   "cell_type": "code",
   "execution_count": null,
   "metadata": {},
   "outputs": [],
   "source": [
    "d = DOMWidget()\n",
    "d.set_tabindex(3)\n",
    "d"
   ]
  },
  {
   "cell_type": "code",
   "execution_count": null,
   "metadata": {},
   "outputs": [],
   "source": [
    "b = Button()\n",
    "tb = ToggleButton()\n",
    "ta = Textarea()\n",
    "t1 = Text(\"Text 1\")\n",
    "t2 = Text(\"Text 2\")\n",
    "cb = Checkbox()"
   ]
  },
  {
   "cell_type": "code",
   "execution_count": null,
   "metadata": {},
   "outputs": [],
   "source": [
    "# After running this cell, go and tabulate over the controls\n",
    "HBox((t1, b, tb, t2, ta, cb))"
   ]
  },
  {
   "cell_type": "code",
   "execution_count": null,
   "metadata": {},
   "outputs": [],
   "source": [
    "# After running this cell, try again to tabulate over these controls \n",
    "t1.set_tabbable()\n",
    "t2.set_untabbable()\n",
    "b.set_tabbable()\n",
    "tb.set_untabbable()\n",
    "ta.set_untabbable()\n",
    "cb.set_tabbable()"
   ]
  },
  {
   "cell_type": "code",
   "execution_count": null,
   "metadata": {},
   "outputs": [],
   "source": [
    "t1.tabindex, b.tabindex, tb.tabindex, t2.tabindex, ta.tabindex, cb.tabindex"
   ]
  }
 ],
 "metadata": {
  "kernelspec": {
   "display_name": "Python 2",
   "language": "python",
   "name": "python2"
  },
  "language_info": {
   "codemirror_mode": {
    "name": "ipython",
    "version": 3
   },
   "file_extension": ".py",
   "mimetype": "text/x-python",
   "name": "python",
   "nbconvert_exporter": "python",
   "pygments_lexer": "ipython3",
   "version": "3.7.3"
  }
 },
 "nbformat": 4,
 "nbformat_minor": 2
}
