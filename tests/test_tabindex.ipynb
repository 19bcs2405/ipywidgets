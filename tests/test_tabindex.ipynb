{
 "cells": [
  {
   "cell_type": "code",
   "execution_count": null,
   "metadata": {},
   "outputs": [],
   "source": [
    "from ipywidgets import *"
   ]
  },
  {
   "cell_type": "code",
   "execution_count": null,
   "metadata": {},
   "outputs": [],
   "source": [
    "d = DOMWidget()\n",
    "d.set_tabindex(3)\n",
    "d"
   ]
  },
  {
   "cell_type": "code",
   "execution_count": null,
   "metadata": {},
   "outputs": [],
   "source": [
    "b = Button(description=\"Button\")\n",
    "tb = ToggleButton(description=\"ToggleButton\")\n",
    "ta = Textarea(\"Textarea\")\n",
    "t = Text(\"Text input\")\n",
    "c = Combobox(options=[\"First\", \"Second\", \"Third\"])\n",
    "cb = Checkbox(description=\"Checkbox\")\n",
    "s = Select(options=(\"First\", \"Final\"))\n",
    "d = Dropdown(options=(\"First\", \"Final\"))"
   ]
  },
  {
   "cell_type": "code",
   "execution_count": null,
   "metadata": {},
   "outputs": [],
   "source": [
    "# After running this cell, go and tabulate over the controls\n",
    "VBox((HBox((b, tb, t, ta)), HBox((cb, c, s, d)),))"
   ]
  },
  {
   "cell_type": "code",
   "execution_count": null,
   "metadata": {},
   "outputs": [],
   "source": [
    "# After running this cell, try again to tabulate over these controls \n",
    "t.set_tabbable()\n",
    "b.set_tabbable()\n",
    "tb.set_untabbable()\n",
    "ta.set_untabbable()\n",
    "cb.set_tabbable()\n",
    "c.set_untabbable()\n",
    "s.set_untabbable()\n",
    "d.set_tabbable()"
   ]
  },
  {
   "cell_type": "code",
   "execution_count": null,
   "metadata": {},
   "outputs": [],
   "source": [
    "b.tabindex, tb.tabindex, t.tabindex, ta.tabindex, cb.tabindex, c.tabindex, s.tabindex, d.tabindex"
   ]
  }
 ],
 "metadata": {
  "kernelspec": {
   "display_name": "Python 2",
   "language": "python",
   "name": "python2"
  },
  "language_info": {
   "codemirror_mode": {
    "name": "ipython",
    "version": 3
   },
   "file_extension": ".py",
   "mimetype": "text/x-python",
   "name": "python",
   "nbconvert_exporter": "python",
   "pygments_lexer": "ipython3",
   "version": "3.7.3"
  }
 },
 "nbformat": 4,
 "nbformat_minor": 2
}
