{
 "cells": [
  {
   "cell_type": "code",
   "execution_count": null,
   "metadata": {},
   "outputs": [],
   "source": [
    "from ipywidgets import *"
   ]
  },
  {
   "cell_type": "code",
   "execution_count": null,
   "metadata": {},
   "outputs": [],
   "source": [
    "d = DOMWidget()\n",
    "d.__dict__"
   ]
  },
  {
   "cell_type": "code",
   "execution_count": null,
   "metadata": {},
   "outputs": [],
   "source": [
    "b = Button(description=\"Button\")\n",
    "tb = ToggleButton(description=\"ToggleButton\")\n",
    "ta = Textarea(\"Textarea\")\n",
    "t = Text(\"Text input\")\n",
    "c = Combobox(options=[\"First\", \"Second\", \"Third\"])\n",
    "cb = Checkbox(description=\"Checkbox\")\n",
    "s = Select(options=(\"First\", \"Final\"))\n",
    "d = Dropdown(options=(\"First\", \"Final\"))\n",
    "b.tabbable, tb.tabbable, t.tabbable, ta.tabbable, cb.tabbable, c.tabbable, s.tabbable, d.tabbable"
   ]
  },
  {
   "cell_type": "code",
   "execution_count": null,
   "metadata": {},
   "outputs": [],
   "source": [
    "# After running this cell, go and tabulate over the controls\n",
    "VBox((HBox((b, tb, t, ta)), HBox((cb, c, s, d)),))"
   ]
  },
  {
   "cell_type": "code",
   "execution_count": null,
   "metadata": {},
   "outputs": [],
   "source": [
    "# After running this cell, try again to tabulate over these controls\n",
    "t.make_tabbable()\n",
    "b.set_tabbable(True)\n",
    "tb.make_untabbable()\n",
    "ta.set_tabbable(False)\n",
    "cb.make_tabbable()\n",
    "c.make_untabbable()\n",
    "s.tabbable = False\n",
    "d.tabbable = True\n",
    "b.tabbable, tb.tabbable, t.tabbable, ta.tabbable, cb.tabbable, c.tabbable, s.tabbable, d.tabbable"
   ]
  }
 ],
 "metadata": {
  "kernelspec": {
   "display_name": "Python 2",
   "language": "python",
   "name": "python2"
  },
  "language_info": {
   "codemirror_mode": {
    "name": "ipython",
    "version": 3
   },
   "file_extension": ".py",
   "mimetype": "text/x-python",
   "name": "python",
   "nbconvert_exporter": "python",
   "pygments_lexer": "ipython3",
   "version": "3.7.3"
  }
 },
 "nbformat": 4,
 "nbformat_minor": 2
}
